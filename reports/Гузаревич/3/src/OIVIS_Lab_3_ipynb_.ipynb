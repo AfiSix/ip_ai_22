{
  "cells": [
    {
      "cell_type": "code",
      "execution_count": 1,
      "metadata": {
        "colab": {
          "base_uri": "https://localhost:8080/"
        },
        "id": "d67hVSgtVVrn",
        "outputId": "42b55ab0-8b2a-45d7-ea8e-bea0ef77eb38",
        "collapsed": true
      },
      "outputs": [
        {
          "output_type": "stream",
          "name": "stdout",
          "text": [
            "Requirement already satisfied: torch in /usr/local/lib/python3.10/dist-packages (2.5.1+cu121)\n",
            "Requirement already satisfied: torchvision in /usr/local/lib/python3.10/dist-packages (0.20.1+cu121)\n",
            "Requirement already satisfied: torchaudio in /usr/local/lib/python3.10/dist-packages (2.5.1+cu121)\n",
            "Requirement already satisfied: filelock in /usr/local/lib/python3.10/dist-packages (from torch) (3.16.1)\n",
            "Requirement already satisfied: typing-extensions>=4.8.0 in /usr/local/lib/python3.10/dist-packages (from torch) (4.12.2)\n",
            "Requirement already satisfied: networkx in /usr/local/lib/python3.10/dist-packages (from torch) (3.4.2)\n",
            "Requirement already satisfied: jinja2 in /usr/local/lib/python3.10/dist-packages (from torch) (3.1.4)\n",
            "Requirement already satisfied: fsspec in /usr/local/lib/python3.10/dist-packages (from torch) (2024.10.0)\n",
            "Requirement already satisfied: sympy==1.13.1 in /usr/local/lib/python3.10/dist-packages (from torch) (1.13.1)\n",
            "Requirement already satisfied: mpmath<1.4,>=1.1.0 in /usr/local/lib/python3.10/dist-packages (from sympy==1.13.1->torch) (1.3.0)\n",
            "Requirement already satisfied: numpy in /usr/local/lib/python3.10/dist-packages (from torchvision) (1.26.4)\n",
            "Requirement already satisfied: pillow!=8.3.*,>=5.3.0 in /usr/local/lib/python3.10/dist-packages (from torchvision) (11.0.0)\n",
            "Requirement already satisfied: MarkupSafe>=2.0 in /usr/local/lib/python3.10/dist-packages (from jinja2->torch) (3.0.2)\n",
            "\u001b[2K   \u001b[90m━━━━━━━━━━━━━━━━━━━━━━━━━━━━━━━━━━━━━━━━\u001b[0m \u001b[32m898.7/898.7 kB\u001b[0m \u001b[31m46.3 MB/s\u001b[0m eta \u001b[36m0:00:00\u001b[0m\n",
            "\u001b[?25h"
          ]
        }
      ],
      "source": [
        "!pip install torch torchvision torchaudio\n",
        "!pip install -q ultralytics"
      ]
    },
    {
      "cell_type": "code",
      "execution_count": 2,
      "metadata": {
        "colab": {
          "base_uri": "https://localhost:8080/"
        },
        "id": "2hkoMNnAVs1Y",
        "outputId": "89c0c8f9-401d-4d44-af16-01963a88048b"
      },
      "outputs": [
        {
          "output_type": "stream",
          "name": "stdout",
          "text": [
            "Mounted at /content/drive\n"
          ]
        }
      ],
      "source": [
        "from google.colab import drive\n",
        "drive.mount('/content/drive')"
      ]
    },
    {
      "cell_type": "code",
      "execution_count": 3,
      "metadata": {
        "colab": {
          "base_uri": "https://localhost:8080/"
        },
        "collapsed": true,
        "id": "0V11sJK8XEAJ",
        "outputId": "4af9e28b-ad65-426d-e1f0-01b5c9d820b7"
      },
      "outputs": [
        {
          "output_type": "stream",
          "name": "stdout",
          "text": [
            "\u001b[1;30;43mВыходные данные были обрезаны до нескольких последних строк (5000).\u001b[0m\n",
            " extracting: /content/OIVIS_Lab_3/train/images/autosave13_04_2013_15_46_04_0_jpg.rf.c80b927875bb5b6f8c35015ddca1a913.jpg  \n",
            " extracting: /content/OIVIS_Lab_3/train/images/autosave13_04_2013_15_48_04_2_jpg.rf.d660c39b9ae6e180af15f3d10ed7be70.jpg  \n",
            " extracting: /content/OIVIS_Lab_3/train/images/autosave13_04_2013_15_48_05_0_jpg.rf.9c26b03723ad6be7f808068d6e7f5d1d.jpg  \n",
            " extracting: /content/OIVIS_Lab_3/train/images/autosave13_04_2013_15_48_07_1_jpg.rf.65f241451d4868a73b29ee0df922039b.jpg  \n",
            " extracting: /content/OIVIS_Lab_3/train/images/autosave13_04_2013_15_48_12_3_jpg.rf.2d4bd8a4949a311b1f6276028d60a56e.jpg  \n",
            " extracting: /content/OIVIS_Lab_3/train/images/autosave13_04_2013_15_51_59_0_jpg.rf.db9650cfed7c269c6e8b8f79a4e56307.jpg  \n",
            " extracting: /content/OIVIS_Lab_3/train/images/autosave13_04_2013_15_51_59_1_jpg.rf.0796a605d8c8854c900b6d94f52e165a.jpg  \n",
            " extracting: /content/OIVIS_Lab_3/train/images/autosave13_04_2013_15_53_11_0_jpg.rf.9f8d6ebef08aed0d1dd8835ff209a2e0.jpg  \n",
            " extracting: /content/OIVIS_Lab_3/train/images/autosave13_04_2013_15_53_15_1_jpg.rf.c2c9b9f23c478223dff54d67392643b7.jpg  \n",
            " extracting: /content/OIVIS_Lab_3/train/images/autosave13_04_2013_15_53_18_1_jpg.rf.172101cfad1fc5f8b04e787dc4cec78a.jpg  \n",
            " extracting: /content/OIVIS_Lab_3/train/images/autosave13_04_2013_15_53_24_0_jpg.rf.c2d8a6a788e55c703b5e062dd1afd6fc.jpg  \n",
            " extracting: /content/OIVIS_Lab_3/train/images/autosave13_04_2013_15_53_29_3_jpg.rf.9d7e42fefabed6a002bc153e76e190c2.jpg  \n",
            " extracting: /content/OIVIS_Lab_3/train/images/autosave13_04_2013_15_53_31_2_jpg.rf.e250a0bc01548ec36822901ace64907b.jpg  \n",
            " extracting: /content/OIVIS_Lab_3/train/images/autosave13_04_2013_15_53_33_0_jpg.rf.97e973103a9132c404dd0cb2a776c83b.jpg  \n",
            " extracting: /content/OIVIS_Lab_3/train/images/autosave13_04_2013_15_53_33_1_jpg.rf.bf815a7a63704279835a7a47b568e132.jpg  \n",
            " extracting: /content/OIVIS_Lab_3/train/images/autosave13_04_2013_15_53_42_0_jpg.rf.908d4fbbc45bb0586bcd3d640d39fef2.jpg  \n",
            " extracting: /content/OIVIS_Lab_3/train/images/autosave13_04_2013_15_53_46_0_jpg.rf.5d082c0f64e7c70d7030ecde1fd87a73.jpg  \n",
            " extracting: /content/OIVIS_Lab_3/train/images/autosave13_04_2013_15_53_59_0_jpg.rf.bedb998bacd40545f6c4b10c049c15ea.jpg  \n",
            " extracting: /content/OIVIS_Lab_3/train/images/autosave13_04_2013_15_54_01_0_jpg.rf.3f87a377b992f088a84b0f20a42de2e1.jpg  \n",
            " extracting: /content/OIVIS_Lab_3/train/images/autosave13_04_2013_15_54_03_0_jpg.rf.a0f7604fa8249ec7129dd58dd256b2f8.jpg  \n",
            " extracting: /content/OIVIS_Lab_3/train/images/autosave13_04_2013_15_54_22_2_jpg.rf.532fe3c1aa3a03b811686fa0141fa7cd.jpg  \n",
            " extracting: /content/OIVIS_Lab_3/train/images/autosave13_04_2013_15_54_24_1_jpg.rf.acc6bdaa141fb247eb9dab4822237928.jpg  \n",
            " extracting: /content/OIVIS_Lab_3/train/images/autosave13_04_2013_15_54_40_0_jpg.rf.93bdaaa69844ef1c6d3203dfccb3e215.jpg  \n",
            " extracting: /content/OIVIS_Lab_3/train/images/autosave13_04_2013_15_54_42_1_jpg.rf.d59b5f3be28eae27fde26d0c2be5e025.jpg  \n",
            " extracting: /content/OIVIS_Lab_3/train/images/autosave13_04_2013_15_54_42_2_jpg.rf.10f88408e58dc457242c01f1235c0a92.jpg  \n",
            " extracting: /content/OIVIS_Lab_3/train/images/autosave13_04_2013_15_54_43_1_jpg.rf.572659e09609984a7462d68c9acad5bb.jpg  \n",
            " extracting: /content/OIVIS_Lab_3/train/images/autosave13_04_2013_15_54_45_0_jpg.rf.b3df574f747f598330cb701d23798f65.jpg  \n",
            " extracting: /content/OIVIS_Lab_3/train/images/autosave13_04_2013_15_54_45_1_jpg.rf.49cfbe6b1fd2331922ed42f9e21cfd2a.jpg  \n",
            " extracting: /content/OIVIS_Lab_3/train/images/autosave13_04_2013_15_57_38_1_jpg.rf.8f0a56d8fc883f39feb8b6062f5dc0a6.jpg  \n",
            " extracting: /content/OIVIS_Lab_3/train/images/autosave13_04_2013_15_57_54_2_jpg.rf.8195cf9ca6341ba3b560343d1de29479.jpg  \n",
            " extracting: /content/OIVIS_Lab_3/train/images/autosave13_04_2013_15_57_58_1_jpg.rf.21f81c6f8542b9385c81a0a8567bf3a4.jpg  \n",
            " extracting: /content/OIVIS_Lab_3/train/images/autosave13_04_2013_15_58_23_1_jpg.rf.d7e1fd5521e8d254e2cc3e72be7f7727.jpg  \n",
            " extracting: /content/OIVIS_Lab_3/train/images/autosave13_04_2013_15_58_23_2_jpg.rf.1a5da9a5592b7d72f9256c5816f071b2.jpg  \n",
            " extracting: /content/OIVIS_Lab_3/train/images/autosave13_04_2013_15_58_25_0_jpg.rf.78661e88650cb33d59952712c60d983c.jpg  \n",
            " extracting: /content/OIVIS_Lab_3/train/images/autosave13_04_2013_15_58_29_1_jpg.rf.a0a53585ab2838c95905f53ccaf3b801.jpg  \n",
            " extracting: /content/OIVIS_Lab_3/train/images/autosave13_04_2013_15_58_50_0_jpg.rf.f35a55fa4c60928c16c6fb396c367031.jpg  \n",
            " extracting: /content/OIVIS_Lab_3/train/images/autosave13_04_2013_15_58_54_2_jpg.rf.2a305d8e6607aaaa680dd0dfc8deb358.jpg  \n",
            " extracting: /content/OIVIS_Lab_3/train/images/autosave13_04_2013_15_58_56_2_jpg.rf.db036a274a5743726b5cb573e96b29d9.jpg  \n",
            " extracting: /content/OIVIS_Lab_3/train/images/autosave13_04_2013_15_58_56_3_jpg.rf.491525c93c5997b8cb9b61801c1ef99f.jpg  \n",
            " extracting: /content/OIVIS_Lab_3/train/images/autosave13_04_2013_15_59_04_1_jpg.rf.dd814309bc4b1e599cbdbb59af56fdca.jpg  \n",
            " extracting: /content/OIVIS_Lab_3/train/images/autosave13_04_2013_15_59_04_3_jpg.rf.d207f76760e5d38182abe7f8c0b7386a.jpg  \n",
            " extracting: /content/OIVIS_Lab_3/train/images/autosave13_04_2013_15_59_44_2_jpg.rf.5806a14d9844097cf53b28e338aafe61.jpg  \n",
            " extracting: /content/OIVIS_Lab_3/train/images/autosave13_04_2013_15_59_45_2_jpg.rf.13702d8d0eea0e859ded911ea60d2933.jpg  \n",
            " extracting: /content/OIVIS_Lab_3/train/images/autosave13_04_2013_15_59_56_0_jpg.rf.a9669f3f3cc60afafada4121f6f375b9.jpg  \n",
            " extracting: /content/OIVIS_Lab_3/train/images/autosave13_04_2013_16_00_52_2_jpg.rf.3f43d97432dccebe3d803ba6e226da61.jpg  \n",
            " extracting: /content/OIVIS_Lab_3/train/images/autosave13_04_2013_16_00_57_1_jpg.rf.47d6b1adf564cb571eb424a204097a3a.jpg  \n",
            " extracting: /content/OIVIS_Lab_3/train/images/autosave13_04_2013_16_01_01_0_jpg.rf.4276d3a61dbb44cae8d6ea54a87b6bed.jpg  \n",
            " extracting: /content/OIVIS_Lab_3/train/images/autosave16_04_2013_11_29_56_0_jpg.rf.f5fb6a62e105c64cb214400474eec019.jpg  \n",
            " extracting: /content/OIVIS_Lab_3/train/images/autosave16_04_2013_11_29_56_2_jpg.rf.8f107a4b172cba956546e947cdfedf74.jpg  \n",
            " extracting: /content/OIVIS_Lab_3/train/images/autosave16_04_2013_11_29_56_3_jpg.rf.502b88989ce3ae96b196f21e7f3a9183.jpg  \n",
            " extracting: /content/OIVIS_Lab_3/train/images/autosave16_04_2013_11_30_34_0_jpg.rf.4fb6f770c9c3baca6ad1e1fc33586d23.jpg  \n",
            " extracting: /content/OIVIS_Lab_3/train/images/autosave16_04_2013_11_30_38_0_jpg.rf.b982da6a53547fce6677502043312589.jpg  \n",
            " extracting: /content/OIVIS_Lab_3/train/images/autosave16_04_2013_11_30_38_2_jpg.rf.569427ff377ccbfab50813fea5846dc1.jpg  \n",
            " extracting: /content/OIVIS_Lab_3/train/images/autosave16_04_2013_11_30_42_0_jpg.rf.2061fbebc629c4d359e3342063465ee1.jpg  \n",
            " extracting: /content/OIVIS_Lab_3/train/images/autosave16_04_2013_11_30_42_3_jpg.rf.a2a9fa7ee3510129c4d4d11e260db3a2.jpg  \n",
            " extracting: /content/OIVIS_Lab_3/train/images/autosave16_04_2013_11_30_45_0_jpg.rf.7ca464f5018d6685afc1cf67eb61a7e4.jpg  \n",
            " extracting: /content/OIVIS_Lab_3/train/images/autosave16_04_2013_11_30_54_0_jpg.rf.26fabc5fca188841f27231a153e92e94.jpg  \n",
            " extracting: /content/OIVIS_Lab_3/train/images/autosave16_04_2013_11_30_57_0_jpg.rf.5eb3f8337eabeabc1ced822fd21e3c34.jpg  \n",
            " extracting: /content/OIVIS_Lab_3/train/images/autosave16_04_2013_11_31_02_1_jpg.rf.00086c00bbafa9d8e6cd7d0bdd5c2a18.jpg  \n",
            " extracting: /content/OIVIS_Lab_3/train/images/autosave16_04_2013_11_31_08_2_jpg.rf.78ab22e5029f4e7013087bdb4d92e3ad.jpg  \n",
            " extracting: /content/OIVIS_Lab_3/train/images/autosave16_04_2013_11_31_12_0_jpg.rf.9dc3436aec030db8930561cd846cc7e4.jpg  \n",
            " extracting: /content/OIVIS_Lab_3/train/images/autosave16_04_2013_11_31_14_1_jpg.rf.66b9be798a64af1a3e57b521827925a7.jpg  \n",
            " extracting: /content/OIVIS_Lab_3/train/images/autosave16_04_2013_11_31_16_1_jpg.rf.f2dfa1e925e9c3e6ffb126b5bc2476ae.jpg  \n",
            " extracting: /content/OIVIS_Lab_3/train/images/autosave16_04_2013_11_31_18_3_jpg.rf.447035916c91064b48720f12ec243aeb.jpg  \n",
            " extracting: /content/OIVIS_Lab_3/train/images/autosave16_04_2013_11_31_20_2_jpg.rf.ce59560ea618a71a9a5d30361ac472c8.jpg  \n",
            " extracting: /content/OIVIS_Lab_3/train/images/autosave16_04_2013_11_31_31_0_jpg.rf.62a3642298b03912652c83e4d6cca98f.jpg  \n",
            " extracting: /content/OIVIS_Lab_3/train/images/autosave16_04_2013_11_31_31_1_jpg.rf.85cf4f3e5bb6485285cae625aedf7011.jpg  \n",
            " extracting: /content/OIVIS_Lab_3/train/images/autosave16_04_2013_11_31_35_0_jpg.rf.6f830c067847822fd88fa06a5c000342.jpg  \n",
            " extracting: /content/OIVIS_Lab_3/train/images/autosave16_04_2013_11_31_35_2_jpg.rf.8556d1ec288305d6b72f6066cdeaa23e.jpg  \n",
            " extracting: /content/OIVIS_Lab_3/train/images/autosave16_04_2013_11_31_46_2_jpg.rf.8840c18e1e04a03ab2894fba34c3fa82.jpg  \n",
            " extracting: /content/OIVIS_Lab_3/train/images/autosave16_04_2013_11_31_51_1_jpg.rf.d5a73baa424969647004e1bed553b8b2.jpg  \n",
            " extracting: /content/OIVIS_Lab_3/train/images/autosave16_04_2013_11_31_52_2_jpg.rf.f968397806fb977885a1e1e36accbea4.jpg  \n",
            " extracting: /content/OIVIS_Lab_3/train/images/autosave16_04_2013_11_31_55_1_jpg.rf.2f36a7aa162b269cc41fafb24306ae12.jpg  \n",
            " extracting: /content/OIVIS_Lab_3/train/images/autosave16_04_2013_11_31_56_0_jpg.rf.5500690d3f4c41172645c5a49802795c.jpg  \n",
            " extracting: /content/OIVIS_Lab_3/train/images/autosave16_04_2013_11_32_07_1_jpg.rf.f09745484278bd3122a9d4923f0f9eed.jpg  \n",
            " extracting: /content/OIVIS_Lab_3/train/images/autosave16_04_2013_11_32_17_0_jpg.rf.db67e03903c3b3b837b9e73d3a1a166f.jpg  \n",
            " extracting: /content/OIVIS_Lab_3/train/images/autosave16_04_2013_11_32_55_1_jpg.rf.da68873c886029e63cd27563f19e4d70.jpg  \n",
            " extracting: /content/OIVIS_Lab_3/train/images/autosave16_04_2013_11_32_56_2_jpg.rf.5fb80870777ebdeb429878df65a08eef.jpg  \n",
            " extracting: /content/OIVIS_Lab_3/train/images/autosave16_04_2013_11_33_00_0_jpg.rf.7c24e1cc620785b91ce602bbc0b37953.jpg  \n",
            " extracting: /content/OIVIS_Lab_3/train/images/autosave16_04_2013_11_35_10_0_jpg.rf.5b9552cb167f14612d99274a6760bfae.jpg  \n",
            " extracting: /content/OIVIS_Lab_3/train/images/autosave16_04_2013_11_35_16_2_jpg.rf.7ecf8866f6c359bcea31ac109b39094a.jpg  \n",
            " extracting: /content/OIVIS_Lab_3/train/images/autosave16_04_2013_11_35_35_1_jpg.rf.045f20a675a269fb3999c0134047b6c2.jpg  \n",
            " extracting: /content/OIVIS_Lab_3/train/images/autosave16_04_2013_11_35_39_2_jpg.rf.6f8f976d59b3510ecf636568a9aeea07.jpg  \n",
            " extracting: /content/OIVIS_Lab_3/train/images/autosave16_04_2013_11_35_39_3_jpg.rf.786a9561dda6a79b5d9ad7fcdf456307.jpg  \n",
            " extracting: /content/OIVIS_Lab_3/train/images/autosave16_04_2013_11_35_43_0_jpg.rf.b4917d1c5b72ea4b88dae55bc70c1f57.jpg  \n",
            " extracting: /content/OIVIS_Lab_3/train/images/autosave16_04_2013_11_35_43_1_jpg.rf.c75bf3895b93b5a879d30060806c6707.jpg  \n",
            " extracting: /content/OIVIS_Lab_3/train/images/autosave16_04_2013_11_36_10_0_jpg.rf.28abb6ad47dc597353b9243fa6faf0fc.jpg  \n",
            " extracting: /content/OIVIS_Lab_3/train/images/autosave16_04_2013_11_36_10_2_jpg.rf.1e446efa6409afc48ab62f553f2f1eba.jpg  \n",
            " extracting: /content/OIVIS_Lab_3/train/images/autosave16_04_2013_11_36_13_1_jpg.rf.5b622c1ab02a4f00c71c98a3ca8f1b6f.jpg  \n",
            " extracting: /content/OIVIS_Lab_3/train/images/autosave16_04_2013_11_37_07_0_jpg.rf.d2a9cbd17e9ba9fc4c2e21ed5bdda726.jpg  \n",
            " extracting: /content/OIVIS_Lab_3/train/images/autosave16_04_2013_11_37_07_3_jpg.rf.0e415835ac85beb9549400ec27eb41ad.jpg  \n",
            " extracting: /content/OIVIS_Lab_3/train/images/autosave16_04_2013_11_37_10_0_jpg.rf.a2fcbd380fb9538c4871ad2bd6bdff5b.jpg  \n",
            " extracting: /content/OIVIS_Lab_3/train/images/autosave16_04_2013_11_37_14_2_jpg.rf.8fa7d801dcc3da5632069221a4faf024.jpg  \n",
            " extracting: /content/OIVIS_Lab_3/train/images/autosave16_04_2013_11_37_16_0_jpg.rf.f11db7d3e7ee5e6991e3295b17734554.jpg  \n",
            " extracting: /content/OIVIS_Lab_3/train/images/autosave16_04_2013_11_37_18_0_jpg.rf.c6cf4117a87e74c53fb23177362b1cb9.jpg  \n",
            " extracting: /content/OIVIS_Lab_3/train/images/autosave16_04_2013_11_37_27_0_jpg.rf.2aac5834d9b61f2721ab8f2f5160c0c0.jpg  \n",
            " extracting: /content/OIVIS_Lab_3/train/images/autosave16_04_2013_11_37_29_0_jpg.rf.78aa89a765b320802e133532515e582b.jpg  \n",
            " extracting: /content/OIVIS_Lab_3/train/images/autosave16_04_2013_11_37_31_3_jpg.rf.d10c9e859008d7360e6b5700d0ac4fe3.jpg  \n",
            " extracting: /content/OIVIS_Lab_3/train/images/autosave16_04_2013_11_37_33_1_jpg.rf.d7688ed01ad1c08de0ed3666c9ad59e3.jpg  \n",
            " extracting: /content/OIVIS_Lab_3/train/images/autosave16_04_2013_11_37_33_2_jpg.rf.10c8f450eaa1ce25881e65e1a5587e79.jpg  \n",
            " extracting: /content/OIVIS_Lab_3/train/images/autosave16_04_2013_11_37_47_0_jpg.rf.4cc679df99b0e898fded87690b0720d8.jpg  \n",
            " extracting: /content/OIVIS_Lab_3/train/images/autosave16_04_2013_11_37_50_0_jpg.rf.807386cb2c25b0f57ebf65c6641fefc0.jpg  \n",
            " extracting: /content/OIVIS_Lab_3/train/images/autosave16_04_2013_11_37_52_0_jpg.rf.c79968772c954eb35397b2b4659759b8.jpg  \n",
            " extracting: /content/OIVIS_Lab_3/train/images/autosave16_04_2013_11_37_53_1_jpg.rf.0f9d5366f33038f2a2dbbce2e36bf8ad.jpg  \n",
            " extracting: /content/OIVIS_Lab_3/train/images/autosave16_04_2013_11_38_00_3_jpg.rf.18c8a08e21623b6fee8f6ffe34ad2259.jpg  \n",
            " extracting: /content/OIVIS_Lab_3/train/images/autosave16_04_2013_11_38_02_0_jpg.rf.91de3df37644ef76e5d8af5c1c686676.jpg  \n",
            " extracting: /content/OIVIS_Lab_3/train/images/autosave16_04_2013_11_38_02_1_jpg.rf.bdd060a74c41a23933ce90dbf89d858c.jpg  \n",
            " extracting: /content/OIVIS_Lab_3/train/images/autosave16_04_2013_11_38_02_2_jpg.rf.98a5c18b3b70742a4320524bbb682dab.jpg  \n",
            " extracting: /content/OIVIS_Lab_3/train/images/autosave16_04_2013_11_38_28_0_jpg.rf.03fab167c09ed16521709e273bf8eaa0.jpg  \n",
            " extracting: /content/OIVIS_Lab_3/train/images/autosave16_04_2013_11_38_28_2_jpg.rf.ff0ec8c704eefc799be91b2d5783c5c9.jpg  \n",
            " extracting: /content/OIVIS_Lab_3/train/images/autosave16_04_2013_11_40_57_1_jpg.rf.0e86846174cd86ae75d6f8dd9e5e61cd.jpg  \n",
            " extracting: /content/OIVIS_Lab_3/train/images/autosave16_04_2013_11_40_57_3_jpg.rf.a99c5262df7e9d1239bd31b74aa1ebc4.jpg  \n",
            " extracting: /content/OIVIS_Lab_3/train/images/autosave16_04_2013_11_40_59_3_jpg.rf.5c966d0a6363c9d08dbf91f613facd41.jpg  \n",
            " extracting: /content/OIVIS_Lab_3/train/images/autosave16_04_2013_11_41_01_0_jpg.rf.56ab095dcf9e641db41c5b01dc7771dd.jpg  \n",
            " extracting: /content/OIVIS_Lab_3/train/images/autosave16_04_2013_11_41_01_3_jpg.rf.5eef78f26c8c9aed53ac2d41e9543192.jpg  \n",
            " extracting: /content/OIVIS_Lab_3/train/images/autosave16_04_2013_11_41_41_2_jpg.rf.d53acd300443b1d9cb5bd56977d6f432.jpg  \n",
            " extracting: /content/OIVIS_Lab_3/train/images/autosave16_04_2013_11_41_44_1_jpg.rf.5968ec61acffb4f51e37c05893942d6c.jpg  \n",
            " extracting: /content/OIVIS_Lab_3/train/images/autosave16_04_2013_11_41_46_1_jpg.rf.f1e788aa36326fea5bc7a579f8393e32.jpg  \n",
            " extracting: /content/OIVIS_Lab_3/train/images/autosave16_04_2013_11_41_46_2_jpg.rf.acb1a884ba6c59c29e7be3c0014221e3.jpg  \n",
            " extracting: /content/OIVIS_Lab_3/train/images/autosave16_04_2013_11_41_46_3_jpg.rf.39e04acbea54ea7eb123ec8217ce8772.jpg  \n",
            " extracting: /content/OIVIS_Lab_3/train/images/autosave16_04_2013_11_41_48_0_jpg.rf.41843dc3d230851453e09223c230df84.jpg  \n",
            " extracting: /content/OIVIS_Lab_3/train/images/autosave16_04_2013_11_41_48_1_jpg.rf.626636a5d18b7a2a4fd010fca14c6819.jpg  \n",
            " extracting: /content/OIVIS_Lab_3/train/images/autosave16_04_2013_11_42_49_1_jpg.rf.f63c478ccd84f51cbdf4510f6e2e323c.jpg  \n",
            " extracting: /content/OIVIS_Lab_3/train/images/autosave16_04_2013_11_42_50_1_jpg.rf.f4fb0381c1374dbd0e50279ef2725559.jpg  \n",
            " extracting: /content/OIVIS_Lab_3/train/images/autosave16_04_2013_11_42_52_1_jpg.rf.a63aedaa4f30bb90c8569d5034ebe6d7.jpg  \n",
            " extracting: /content/OIVIS_Lab_3/train/images/autosave16_04_2013_11_43_04_2_jpg.rf.18eda43e72381bf05503cd461450045a.jpg  \n",
            " extracting: /content/OIVIS_Lab_3/train/images/autosave16_04_2013_11_43_04_3_jpg.rf.5f6e7da5f0950534ccb2732099ffebe2.jpg  \n",
            " extracting: /content/OIVIS_Lab_3/train/images/autosave16_04_2013_11_43_13_0_jpg.rf.1dca79c263c87e604833d54cd70d7698.jpg  \n",
            " extracting: /content/OIVIS_Lab_3/train/images/autosave16_04_2013_11_43_17_0_jpg.rf.8be2e9cf18fac7ec83502d995637d890.jpg  \n",
            " extracting: /content/OIVIS_Lab_3/train/images/autosave16_04_2013_11_43_17_1_jpg.rf.20a285374fe1e995a3f81e1cfa97cc02.jpg  \n",
            " extracting: /content/OIVIS_Lab_3/train/images/autosave16_04_2013_11_43_52_1_jpg.rf.f34ac0abae9009b89b0e61dceed8461a.jpg  \n",
            " extracting: /content/OIVIS_Lab_3/train/images/autosave16_04_2013_11_43_54_2_jpg.rf.d2ecc4d009a664826467e4a8b5f7db72.jpg  \n",
            " extracting: /content/OIVIS_Lab_3/train/images/autosave16_04_2013_11_45_00_0_jpg.rf.59e0a27eda67ac22731eb97da5260bfb.jpg  \n",
            " extracting: /content/OIVIS_Lab_3/train/images/autosave16_04_2013_11_45_00_1_jpg.rf.c588e326207e3b232f22463ceb70618d.jpg  \n",
            " extracting: /content/OIVIS_Lab_3/train/images/autosave16_04_2013_11_45_33_1_jpg.rf.224b397add6d9de607a9846781454e40.jpg  \n",
            " extracting: /content/OIVIS_Lab_3/train/images/autosave16_04_2013_11_45_35_0_jpg.rf.ed3cc99cb9a96c102ecb1dfc65a3507f.jpg  \n",
            " extracting: /content/OIVIS_Lab_3/train/images/autosave16_04_2013_11_45_35_2_jpg.rf.6f733c6b7550c745b635bef26ba4a0cb.jpg  \n",
            " extracting: /content/OIVIS_Lab_3/train/images/autosave16_04_2013_11_46_00_2_jpg.rf.f69a03dec51117ab176e40a5fb0cb170.jpg  \n",
            " extracting: /content/OIVIS_Lab_3/train/images/autosave16_04_2013_11_46_03_3_jpg.rf.c2265874d1c13aa6e7c8646504796adf.jpg  \n",
            " extracting: /content/OIVIS_Lab_3/train/images/autosave16_04_2013_11_46_05_0_jpg.rf.32f38627f35d168c6e2f3506f4824e3c.jpg  \n",
            " extracting: /content/OIVIS_Lab_3/train/images/autosave16_04_2013_11_46_05_2_jpg.rf.a163525b1faa0fb296dd5487942a80bb.jpg  \n",
            " extracting: /content/OIVIS_Lab_3/train/images/autosave16_04_2013_11_46_11_0_jpg.rf.720222fd6cc16d0c8c9fc043b6df2ea9.jpg  \n",
            " extracting: /content/OIVIS_Lab_3/train/images/autosave16_04_2013_11_46_11_1_jpg.rf.142065c8802a7f7b13c26d261c5033e2.jpg  \n",
            " extracting: /content/OIVIS_Lab_3/train/images/autosave16_04_2013_11_46_11_3_jpg.rf.878b74a8bd9e3d01bb9384baf06ff1d1.jpg  \n",
            " extracting: /content/OIVIS_Lab_3/train/images/autosave16_04_2013_11_46_48_0_jpg.rf.2fab27121131ae8308c085a5a969f18f.jpg  \n",
            " extracting: /content/OIVIS_Lab_3/train/images/autosave16_04_2013_11_47_17_0_jpg.rf.ac57e72583f3417508945ac306c28098.jpg  \n",
            " extracting: /content/OIVIS_Lab_3/train/images/autosave16_04_2013_11_47_30_3_jpg.rf.8780ceafa39e8226fd3908cca589e4ba.jpg  \n",
            " extracting: /content/OIVIS_Lab_3/train/images/autosave16_04_2013_11_47_33_1_jpg.rf.bd2798a3f8eb2f7aa09e540a71a22bb3.jpg  \n",
            " extracting: /content/OIVIS_Lab_3/train/images/autosave16_04_2013_11_47_33_3_jpg.rf.6d15c018c85367ee9810e7ec02b5c5d2.jpg  \n",
            " extracting: /content/OIVIS_Lab_3/train/images/autosave16_04_2013_11_47_37_2_jpg.rf.9fbf37b44f5af8bd9e5be5c6d9d3aa4a.jpg  \n",
            " extracting: /content/OIVIS_Lab_3/train/images/autosave16_04_2013_11_47_39_0_jpg.rf.8f0e1fc63bf920c81355e75a82ff4643.jpg  \n",
            " extracting: /content/OIVIS_Lab_3/train/images/autosave16_04_2013_11_47_39_2_jpg.rf.5f0932ed7e4c000fa7cfd95aee3dbb97.jpg  \n",
            " extracting: /content/OIVIS_Lab_3/train/images/autosave16_04_2013_11_48_03_0_jpg.rf.b6bc26453a8ba94778d6d2913d5aafb7.jpg  \n",
            " extracting: /content/OIVIS_Lab_3/train/images/autosave16_04_2013_11_48_06_1_jpg.rf.344efdaebbc7d63cc8996e2bd0b27399.jpg  \n",
            " extracting: /content/OIVIS_Lab_3/train/images/autosave16_04_2013_11_48_55_2_jpg.rf.32bbb1348b9401e91637b8a025fe8f40.jpg  \n",
            " extracting: /content/OIVIS_Lab_3/train/images/autosave16_04_2013_11_48_56_2_jpg.rf.69c2462194396ae69a31fcf5566f718b.jpg  \n",
            " extracting: /content/OIVIS_Lab_3/train/images/autosave16_04_2013_11_48_58_1_jpg.rf.ef41950c52be055730e2aa6633b4abea.jpg  \n",
            " extracting: /content/OIVIS_Lab_3/train/images/autosave16_04_2013_11_49_00_1_jpg.rf.c2bd188f10b361cd25e6d5f20ca7d022.jpg  \n",
            " extracting: /content/OIVIS_Lab_3/train/images/autosave16_04_2013_11_49_01_1_jpg.rf.387d24afc760cbd65b5c8e167b248f7a.jpg  \n",
            " extracting: /content/OIVIS_Lab_3/train/images/autosave16_04_2013_11_49_03_0_jpg.rf.8a1eed0ae751ef95e5e4b778fd93f882.jpg  \n",
            " extracting: /content/OIVIS_Lab_3/train/images/autosave16_04_2013_11_49_55_1_jpg.rf.d624808191b0dc22861c980550040635.jpg  \n",
            " extracting: /content/OIVIS_Lab_3/train/images/autosave16_04_2013_11_50_25_2_jpg.rf.b385f9f10a75cd8e91044cb137a72099.jpg  \n",
            " extracting: /content/OIVIS_Lab_3/train/images/autosave16_04_2013_11_52_17_3_jpg.rf.c49ea69062e586e7d04f89a313f35e2c.jpg  \n",
            " extracting: /content/OIVIS_Lab_3/train/images/autosave16_04_2013_11_52_19_2_jpg.rf.60e36a2d75e8cfcaf6fc98f149ed5895.jpg  \n",
            " extracting: /content/OIVIS_Lab_3/train/images/autosave16_04_2013_11_52_41_0_jpg.rf.334e398d6ef76613a6e8158f3f42921e.jpg  \n",
            " extracting: /content/OIVIS_Lab_3/train/images/autosave16_04_2013_11_52_41_1_jpg.rf.01c8ee229ad4e8b328b0855639924617.jpg  \n",
            " extracting: /content/OIVIS_Lab_3/train/images/autosave16_04_2013_11_53_11_0_jpg.rf.ac13d94c3e3384c6049eb0ddda449739.jpg  \n",
            " extracting: /content/OIVIS_Lab_3/train/images/autosave16_04_2013_11_53_11_2_jpg.rf.deef4b4c0ab003caf0cdd3c76d28ef79.jpg  \n",
            " extracting: /content/OIVIS_Lab_3/train/images/autosave16_04_2013_11_53_22_0_jpg.rf.8b329d768f6e544f0fd224e93e06210b.jpg  \n",
            " extracting: /content/OIVIS_Lab_3/train/images/autosave16_04_2013_11_55_15_1_jpg.rf.fb6e4916920985d44ca5c9d2860ff9a5.jpg  \n",
            " extracting: /content/OIVIS_Lab_3/train/images/autosave16_04_2013_11_55_15_2_jpg.rf.91a2265c00ca0c5923967597fb22268b.jpg  \n",
            " extracting: /content/OIVIS_Lab_3/train/images/autosave16_04_2013_11_55_15_3_jpg.rf.bcd8f98089fd70f707e5e99c9c90aa6b.jpg  \n",
            " extracting: /content/OIVIS_Lab_3/train/images/autosave16_04_2013_11_55_19_2_jpg.rf.accdd4bee5e9e4b0f49f75b1c363b38b.jpg  \n",
            " extracting: /content/OIVIS_Lab_3/train/images/autosave16_04_2013_11_55_19_3_jpg.rf.7fead042249671faf20005d1cac69a3c.jpg  \n",
            " extracting: /content/OIVIS_Lab_3/train/images/autosave16_04_2013_11_55_21_0_jpg.rf.86bdf924587aafc974939d6152436d42.jpg  \n",
            " extracting: /content/OIVIS_Lab_3/train/images/autosave16_04_2013_11_55_27_0_jpg.rf.4f19dcf52c59b9152e8fce72445d9611.jpg  \n",
            " extracting: /content/OIVIS_Lab_3/train/images/autosave16_04_2013_11_55_51_2_jpg.rf.6915c1009e63d2bc568dd6df7aa510d7.jpg  \n",
            " extracting: /content/OIVIS_Lab_3/train/images/autosave16_04_2013_11_55_54_0_jpg.rf.2fe30f0525afc0e6859cfc6c41d64cdb.jpg  \n",
            " extracting: /content/OIVIS_Lab_3/train/images/autosave16_04_2013_11_55_54_1_jpg.rf.0fa6670eefed94216ced4417dc34a9b7.jpg  \n",
            " extracting: /content/OIVIS_Lab_3/train/images/autosave16_04_2013_11_55_58_0_jpg.rf.56039140402f6e7d615b10a4fbe69533.jpg  \n",
            " extracting: /content/OIVIS_Lab_3/train/images/autosave16_04_2013_11_56_40_0_jpg.rf.e30102ce7112c00d09592d7f88f7bcf9.jpg  \n",
            " extracting: /content/OIVIS_Lab_3/train/images/autosave16_04_2013_11_56_43_0_jpg.rf.877fa17fecc39e605ffe7e5c23489d14.jpg  \n",
            " extracting: /content/OIVIS_Lab_3/train/images/autosave16_04_2013_11_56_43_1_jpg.rf.bc316c392252a5a64fc419ac4959e9b5.jpg  \n",
            " extracting: /content/OIVIS_Lab_3/train/images/autosave16_04_2013_11_56_56_0_jpg.rf.294f60895c835882a0b7de182fd4e4a3.jpg  \n",
            " extracting: /content/OIVIS_Lab_3/train/images/autosave16_04_2013_11_57_31_2_jpg.rf.707bfff41585d6399c69e17cdb13c822.jpg  \n",
            " extracting: /content/OIVIS_Lab_3/train/images/autosave16_04_2013_11_57_42_1_jpg.rf.1c7699a9177b7287db567e43013c4559.jpg  \n",
            " extracting: /content/OIVIS_Lab_3/train/images/autosave16_04_2013_11_57_44_1_jpg.rf.1cf9a824a444efc0c1c61d58edf0477f.jpg  \n",
            " extracting: /content/OIVIS_Lab_3/train/images/autosave16_04_2013_11_57_46_1_jpg.rf.4dc2e30ca2f14c58665517e490ad3a2c.jpg  \n",
            " extracting: /content/OIVIS_Lab_3/train/images/autosave16_04_2013_11_57_47_0_jpg.rf.5a5a18464992461115c7b130043e5b7f.jpg  \n",
            " extracting: /content/OIVIS_Lab_3/train/images/autosave16_04_2013_11_57_48_0_jpg.rf.d42ef43cf4028eaabc4420b4e7575f87.jpg  \n",
            " extracting: /content/OIVIS_Lab_3/train/images/autosave16_04_2013_11_57_49_2_jpg.rf.ac32580cb65bfbe95b82d3fe5bfd3a58.jpg  \n",
            " extracting: /content/OIVIS_Lab_3/train/images/autosave16_04_2013_11_58_04_1_jpg.rf.6c4674b7690113a86fb22739b8e6e11a.jpg  \n",
            " extracting: /content/OIVIS_Lab_3/train/images/autosave16_04_2013_11_58_06_1_jpg.rf.c85bbcff72f95a672151109468288699.jpg  \n",
            " extracting: /content/OIVIS_Lab_3/train/images/autosave16_04_2013_11_58_08_0_jpg.rf.ec3f06f94a33e70d38c4043dfe3dd74f.jpg  \n",
            " extracting: /content/OIVIS_Lab_3/train/images/autosave16_04_2013_11_58_12_0_jpg.rf.c169b91dd9a996d3e358549426a9d3f0.jpg  \n",
            " extracting: /content/OIVIS_Lab_3/train/images/autosave16_04_2013_11_58_18_2_jpg.rf.57cf96aacce22051f7ff2bcd3bf4f7bd.jpg  \n",
            " extracting: /content/OIVIS_Lab_3/train/images/autosave16_04_2013_11_58_28_0_jpg.rf.4f7716bc79e57cfd511c2c8ddc654303.jpg  \n",
            " extracting: /content/OIVIS_Lab_3/train/images/autosave16_04_2013_11_58_28_2_jpg.rf.90de441ca9cff3d48c7e5fbe78c2b588.jpg  \n",
            " extracting: /content/OIVIS_Lab_3/train/images/autosave16_04_2013_11_58_30_2_jpg.rf.7a75d5ac152448909939b923edb838b7.jpg  \n",
            " extracting: /content/OIVIS_Lab_3/train/images/autosave16_04_2013_11_58_34_1_jpg.rf.adc968410917019349efbb8e41d2e275.jpg  \n",
            " extracting: /content/OIVIS_Lab_3/train/images/autosave16_04_2013_11_58_34_2_jpg.rf.0e4dc387f97b5e8a116f504c9b0831b3.jpg  \n",
            " extracting: /content/OIVIS_Lab_3/train/images/autosave16_04_2013_11_58_34_3_jpg.rf.c9e00bbd4a76adc437eb4fdc2b098a03.jpg  \n",
            " extracting: /content/OIVIS_Lab_3/train/images/autosave16_04_2013_11_58_45_0_jpg.rf.b8f1a2b1edf0646537026df79c597243.jpg  \n",
            " extracting: /content/OIVIS_Lab_3/train/images/autosave16_04_2013_11_58_45_1_jpg.rf.d35887274c85b1e5cee18926cc401a54.jpg  \n",
            " extracting: /content/OIVIS_Lab_3/train/images/autosave16_04_2013_11_58_46_1_jpg.rf.0686d3b59118a1328034975a5678a4b0.jpg  \n",
            " extracting: /content/OIVIS_Lab_3/train/images/autosave16_04_2013_11_58_58_1_jpg.rf.cfa43c02e60e44c91251919f33a544dc.jpg  \n",
            " extracting: /content/OIVIS_Lab_3/train/images/autosave16_04_2013_11_59_38_0_jpg.rf.7610dc130afc432a1835abd87fe989a6.jpg  \n",
            " extracting: /content/OIVIS_Lab_3/train/images/autosave16_04_2013_11_59_39_1_jpg.rf.f012b605fdab417e3418b664fc54d94d.jpg  \n",
            " extracting: /content/OIVIS_Lab_3/train/images/autosave16_04_2013_12_00_01_2_jpg.rf.e59ef06fc422367ec37568e3d3a3b7ad.jpg  \n",
            " extracting: /content/OIVIS_Lab_3/train/images/autosave16_04_2013_12_00_09_0_jpg.rf.f66cc488ee7d51b6ae594a5cb871cfe3.jpg  \n",
            " extracting: /content/OIVIS_Lab_3/train/images/autosave16_04_2013_12_00_11_0_jpg.rf.64927b233b339a1cff640040301b3342.jpg  \n",
            " extracting: /content/OIVIS_Lab_3/train/images/autosave16_04_2013_12_00_15_3_jpg.rf.8efe3645e0520c9e0616559447d495fb.jpg  \n",
            " extracting: /content/OIVIS_Lab_3/train/images/autosave16_04_2013_12_00_19_0_jpg.rf.e2d1c74be46c6f93a90303916335be8a.jpg  \n",
            " extracting: /content/OIVIS_Lab_3/train/images/autosave16_04_2013_12_00_29_1_jpg.rf.9894edf773d3cbfb267bb1b957ee537b.jpg  \n",
            " extracting: /content/OIVIS_Lab_3/train/images/autosave16_04_2013_12_00_30_1_jpg.rf.36d33b862f05c2252cdbf6da4494d539.jpg  \n",
            " extracting: /content/OIVIS_Lab_3/train/images/autosave16_04_2013_12_00_31_0_jpg.rf.8d6192235c785deba2b0f82712322955.jpg  \n",
            " extracting: /content/OIVIS_Lab_3/train/images/autosave16_04_2013_12_00_32_1_jpg.rf.79c0123c4d9ca5326de7d3538c9f230c.jpg  \n",
            " extracting: /content/OIVIS_Lab_3/train/images/autosave16_04_2013_12_00_33_1_jpg.rf.afd0ce92f1358e715381e9467df5b0ee.jpg  \n",
            " extracting: /content/OIVIS_Lab_3/train/images/autosave16_04_2013_12_00_34_2_jpg.rf.92643f53a5943cffce70b1680a0fa793.jpg  \n",
            " extracting: /content/OIVIS_Lab_3/train/images/autosave16_04_2013_12_01_43_3_jpg.rf.dcc6bc068d9c2dbee1f2eb10db24b7a5.jpg  \n",
            " extracting: /content/OIVIS_Lab_3/train/images/autosave16_04_2013_12_02_18_1_jpg.rf.03b1af5e5702daf2e3e63c2f94d55fe0.jpg  \n",
            " extracting: /content/OIVIS_Lab_3/train/images/autosave16_04_2013_12_30_41_1_jpg.rf.4db22199066a39ddc5f57f7944d5b0c2.jpg  \n",
            " extracting: /content/OIVIS_Lab_3/train/images/autosave16_04_2013_12_30_45_1_jpg.rf.f8d6d5d363ea9770ff1056bde94a25f4.jpg  \n",
            " extracting: /content/OIVIS_Lab_3/train/images/autosave16_04_2013_12_30_47_1_jpg.rf.31cc4582af5a49bc005b5c6262ee70ee.jpg  \n",
            " extracting: /content/OIVIS_Lab_3/train/images/autosave16_04_2013_12_31_12_1_jpg.rf.a006d815f61a2c4d74fe05e1218f3cda.jpg  \n",
            " extracting: /content/OIVIS_Lab_3/train/images/autosave16_04_2013_12_31_36_0_jpg.rf.b1ec3bc34727ce3c7037271ea16cfc1d.jpg  \n",
            " extracting: /content/OIVIS_Lab_3/train/images/autosave16_04_2013_12_32_07_2_jpg.rf.4a32f9441561bca2a6afbb0e9e5dc6db.jpg  \n",
            " extracting: /content/OIVIS_Lab_3/train/images/autosave16_04_2013_12_32_19_0_jpg.rf.0a7072bc790eb2a546cb5009740bfdc3.jpg  \n",
            " extracting: /content/OIVIS_Lab_3/train/images/autosave16_04_2013_12_32_19_1_jpg.rf.1043391e530d53a785d41d67b46d8f48.jpg  \n",
            " extracting: /content/OIVIS_Lab_3/train/images/autosave16_04_2013_12_32_19_3_jpg.rf.f92baf55b275e32c43925552b97d920e.jpg  \n",
            " extracting: /content/OIVIS_Lab_3/train/images/autosave16_04_2013_12_32_35_2_jpg.rf.ac11eb56b1f71579440dc31f27ea295d.jpg  \n",
            " extracting: /content/OIVIS_Lab_3/train/images/autosave16_04_2013_12_32_37_2_jpg.rf.6b33c413d0c24fff42f5afc4629737df.jpg  \n",
            " extracting: /content/OIVIS_Lab_3/train/images/autosave16_04_2013_12_32_41_0_jpg.rf.a300743c3573d5f89b158a83318ab9a6.jpg  \n",
            " extracting: /content/OIVIS_Lab_3/train/images/autosave16_04_2013_12_32_48_0_jpg.rf.a85f83a8c21ff781a88c2543f07c6c14.jpg  \n",
            " extracting: /content/OIVIS_Lab_3/train/images/autosave16_04_2013_12_32_50_1_jpg.rf.e53fe0da7abbda54e5288c9654b480c9.jpg  \n",
            " extracting: /content/OIVIS_Lab_3/train/images/autosave16_04_2013_12_33_56_1_jpg.rf.23da09e6d98a4c9d11184a43ca2a7d04.jpg  \n",
            " extracting: /content/OIVIS_Lab_3/train/images/autosave16_04_2013_12_38_30_0_jpg.rf.ef92abd91456111fc9f27a1864bdaa74.jpg  \n",
            " extracting: /content/OIVIS_Lab_3/train/images/autosave16_04_2013_12_39_14_0_jpg.rf.2b8aaaee3a19dceed8c32f2982bb61e5.jpg  \n",
            " extracting: /content/OIVIS_Lab_3/train/images/autosave16_04_2013_12_39_16_2_jpg.rf.da06b3a68113e6bebfa9c0c8c9ad876b.jpg  \n",
            " extracting: /content/OIVIS_Lab_3/train/images/autosave16_04_2013_12_39_18_1_jpg.rf.8460dc39e4a167e63a14d8e8e119b95e.jpg  \n",
            " extracting: /content/OIVIS_Lab_3/train/images/autosave16_04_2013_12_49_10_2_jpg.rf.f7fa3166adfb3ed1013369b598262594.jpg  \n",
            " extracting: /content/OIVIS_Lab_3/train/images/autosave16_04_2013_12_49_11_1_jpg.rf.3cc4a4f8b6c03abe977e5d08b9d2cf51.jpg  \n",
            " extracting: /content/OIVIS_Lab_3/train/images/autosave16_04_2013_12_49_31_0_jpg.rf.c6ef27074c3039675c61e89a0aee3262.jpg  \n",
            " extracting: /content/OIVIS_Lab_3/train/images/autosave16_04_2013_12_49_55_0_jpg.rf.a4182a21121b1db12025c0e5bffbe885.jpg  \n",
            " extracting: /content/OIVIS_Lab_3/train/images/autosave16_04_2013_12_50_31_0_jpg.rf.d559920f5ea10b61631543739760047a.jpg  \n",
            " extracting: /content/OIVIS_Lab_3/train/images/autosave16_04_2013_12_50_33_0_jpg.rf.914225287c8d615a332a7ecfe31fed1a.jpg  \n",
            " extracting: /content/OIVIS_Lab_3/train/images/autosave16_04_2013_12_55_35_0_jpg.rf.8b6170ea6142e86a8add81bba828434b.jpg  \n",
            " extracting: /content/OIVIS_Lab_3/train/images/autosave16_04_2013_12_57_55_1_jpg.rf.33a75b11b2595d2039472d84921de980.jpg  \n",
            " extracting: /content/OIVIS_Lab_3/train/images/autosave16_04_2013_12_57_56_0_jpg.rf.40c084051c8d7fdcb073b88681248649.jpg  \n",
            " extracting: /content/OIVIS_Lab_3/train/images/autosave16_04_2013_12_58_10_1_jpg.rf.41a2132e34b96ac4ee6db576d841864f.jpg  \n",
            " extracting: /content/OIVIS_Lab_3/train/images/autosave16_04_2013_12_58_13_1_jpg.rf.1da7eb584ed7193f3bb85d2769f9e121.jpg  \n",
            " extracting: /content/OIVIS_Lab_3/train/images/autosave16_04_2013_12_58_31_2_jpg.rf.acff94162514be2875317c8061e8f249.jpg  \n",
            " extracting: /content/OIVIS_Lab_3/train/images/autosave16_04_2013_12_58_35_1_jpg.rf.1a9218e0bfe27a8a30488340b1cb54e2.jpg  \n",
            " extracting: /content/OIVIS_Lab_3/train/images/autosave16_04_2013_12_58_48_3_jpg.rf.d000a4cd6b140f9b06341abfb9422dea.jpg  \n",
            " extracting: /content/OIVIS_Lab_3/train/images/autosave16_04_2013_12_58_50_2_jpg.rf.a5026389adb28a668fafbc9bc7359d84.jpg  \n",
            " extracting: /content/OIVIS_Lab_3/train/images/autosave16_04_2013_12_58_55_2_jpg.rf.adde1d32b34016a2936abd9d2e338cf1.jpg  \n",
            " extracting: /content/OIVIS_Lab_3/train/images/autosave16_04_2013_12_58_57_1_jpg.rf.8270b335dc2a8589799c6d26164e1a77.jpg  \n",
            " extracting: /content/OIVIS_Lab_3/train/images/autosave16_04_2013_12_59_00_1_jpg.rf.4747680b600d73df9f0dc7a10d38be9e.jpg  \n",
            " extracting: /content/OIVIS_Lab_3/train/images/autosave16_04_2013_12_59_11_2_jpg.rf.8b849b5d09ffdc2b084b8839d30c6853.jpg  \n",
            " extracting: /content/OIVIS_Lab_3/train/images/autosave16_04_2013_13_01_38_0_jpg.rf.23c26eb87444f7cb29f81e7ec4e393eb.jpg  \n",
            " extracting: /content/OIVIS_Lab_3/train/images/autosave16_04_2013_13_02_40_0_jpg.rf.8b9e06538d97b2de7f3422d1dba1738a.jpg  \n",
            " extracting: /content/OIVIS_Lab_3/train/images/autosave16_04_2013_13_02_44_2_jpg.rf.e0587ac977c534dad82542076af339a8.jpg  \n",
            " extracting: /content/OIVIS_Lab_3/train/images/autosave16_04_2013_13_02_48_3_jpg.rf.e237e0fa4bd6f4d4cb7f4f1b6d6e7ff5.jpg  \n",
            " extracting: /content/OIVIS_Lab_3/train/images/autosave16_04_2013_13_04_46_0_jpg.rf.697cc1f417e125f808e62b13349dfe19.jpg  \n",
            " extracting: /content/OIVIS_Lab_3/train/images/autosave16_04_2013_13_04_48_0_jpg.rf.7affafd87442e7c7b11440732b572e47.jpg  \n",
            " extracting: /content/OIVIS_Lab_3/train/images/autosave16_04_2013_13_07_25_1_jpg.rf.55395e0d67560de51069c75f77c0bf16.jpg  \n",
            " extracting: /content/OIVIS_Lab_3/train/images/autosave16_04_2013_13_07_42_0_jpg.rf.20e161e26d6a30c39477dc54ecb6fae0.jpg  \n",
            " extracting: /content/OIVIS_Lab_3/train/images/autosave16_04_2013_13_08_01_1_jpg.rf.12a4ef3ecd035bc9a52d5afcaa153261.jpg  \n",
            " extracting: /content/OIVIS_Lab_3/train/images/autosave16_04_2013_13_08_41_0_jpg.rf.59b9f3e43901820a8c1d5208201f9997.jpg  \n",
            " extracting: /content/OIVIS_Lab_3/train/images/autosave16_04_2013_13_08_42_2_jpg.rf.3065b4b7093f6cde09d11135dbe1b112.jpg  \n",
            " extracting: /content/OIVIS_Lab_3/train/images/autosave16_04_2013_13_10_13_0_jpg.rf.f1a1ff318a64195e418180d186876d56.jpg  \n",
            " extracting: /content/OIVIS_Lab_3/train/images/autosave16_04_2013_13_10_13_1_jpg.rf.9cf8ec39a9dc0fc20f559339ed28462d.jpg  \n",
            " extracting: /content/OIVIS_Lab_3/train/images/autosave16_04_2013_13_10_16_1_jpg.rf.90de3e6557a89542e1025f81ac9c5472.jpg  \n",
            " extracting: /content/OIVIS_Lab_3/train/images/autosave16_04_2013_13_10_51_2_jpg.rf.9073a948472f2a1d1233b46bae4efeb1.jpg  \n",
            " extracting: /content/OIVIS_Lab_3/train/images/autosave16_04_2013_13_10_52_2_jpg.rf.b25ed83e63d20dcd4cf53628478577de.jpg  \n",
            " extracting: /content/OIVIS_Lab_3/train/images/autosave16_04_2013_13_10_53_1_jpg.rf.6010ab07113421de8e0a934f58b7b91b.jpg  \n",
            " extracting: /content/OIVIS_Lab_3/train/images/autosave16_04_2013_13_11_32_0_jpg.rf.3ec8f8cd82eda14d21de6d00b36b20f5.jpg  \n",
            " extracting: /content/OIVIS_Lab_3/train/images/autosave16_04_2013_13_11_53_0_jpg.rf.bcf2173ff097d385ca5fe52eebac8f10.jpg  \n",
            " extracting: /content/OIVIS_Lab_3/train/images/autosave16_04_2013_13_11_53_1_jpg.rf.0e76e73d5dbf87f42468765c8cad0539.jpg  \n",
            " extracting: /content/OIVIS_Lab_3/train/images/autosave16_04_2013_13_11_54_1_jpg.rf.5b507cf500ca804b9f557189d0413c5b.jpg  \n",
            " extracting: /content/OIVIS_Lab_3/train/images/autosave16_04_2013_13_12_27_1_jpg.rf.8c3469b06f3abe5cc8d193e8f98028e1.jpg  \n",
            " extracting: /content/OIVIS_Lab_3/train/images/autosave16_04_2013_13_12_28_1_jpg.rf.1804e1078c398da4b558e8aee3bcd1c9.jpg  \n",
            " extracting: /content/OIVIS_Lab_3/train/images/autosave16_04_2013_13_12_32_2_jpg.rf.67aa50f7ca2bb10ae984d5ffc7f541b5.jpg  \n",
            " extracting: /content/OIVIS_Lab_3/train/images/autosave16_04_2013_13_13_02_2_jpg.rf.f0f4d6bbd4ff59cdfa894097e90e85ef.jpg  \n",
            " extracting: /content/OIVIS_Lab_3/train/images/autosave16_04_2013_13_13_06_1_jpg.rf.b0b0289ada41c33d47303cbf434a68f1.jpg  \n",
            " extracting: /content/OIVIS_Lab_3/train/images/autosave16_04_2013_13_13_32_0_jpg.rf.ed21617f8642a72b70b71c6c0095152a.jpg  \n",
            " extracting: /content/OIVIS_Lab_3/train/images/autosave16_04_2013_13_13_59_2_jpg.rf.76c3095a6f4f7341a8c2fdebdb154250.jpg  \n",
            " extracting: /content/OIVIS_Lab_3/train/images/autosave16_04_2013_13_14_14_2_jpg.rf.a4a54d626b8140626d201e931dba37f4.jpg  \n",
            " extracting: /content/OIVIS_Lab_3/train/images/autosave16_04_2013_13_16_22_2_jpg.rf.f57b579ba7ed857e373353bdb3c6cded.jpg  \n",
            " extracting: /content/OIVIS_Lab_3/train/images/autosave16_04_2013_13_16_34_0_jpg.rf.484604c050cc9f164ec016d37f232a4e.jpg  \n",
            " extracting: /content/OIVIS_Lab_3/train/images/autosave16_04_2013_13_16_38_0_jpg.rf.cc87acbc3433fed09fc8d2d7f299729c.jpg  \n",
            " extracting: /content/OIVIS_Lab_3/train/images/autosave16_04_2013_13_16_38_2_jpg.rf.2343d33ad9cdbb6a067424f8e37283b7.jpg  \n",
            " extracting: /content/OIVIS_Lab_3/train/images/autosave16_04_2013_13_19_53_0_jpg.rf.3dcb2d2a9456dfb9d7547e08fbbbbb98.jpg  \n",
            " extracting: /content/OIVIS_Lab_3/train/images/autosave16_04_2013_13_20_42_2_jpg.rf.b3de75eabad1245afef09748c222930e.jpg  \n",
            " extracting: /content/OIVIS_Lab_3/train/images/autosave16_04_2013_13_20_44_1_jpg.rf.601748bc4d8f1ef83df0282ef3b9191d.jpg  \n",
            " extracting: /content/OIVIS_Lab_3/train/images/autosave16_04_2013_13_21_22_1_jpg.rf.bd5cceb6a508c4a0fd8773072774b347.jpg  \n",
            " extracting: /content/OIVIS_Lab_3/train/images/autosave16_04_2013_13_22_45_1_jpg.rf.1cba486c7c85fbf5027888538435ba4b.jpg  \n",
            " extracting: /content/OIVIS_Lab_3/train/images/autosave16_04_2013_13_22_59_0_jpg.rf.85fff708c83b18390c2527e8d0bddf6f.jpg  \n",
            " extracting: /content/OIVIS_Lab_3/train/images/autosave16_04_2013_13_23_01_1_jpg.rf.0ee994cc11c5a9ea7f585932329b1220.jpg  \n",
            " extracting: /content/OIVIS_Lab_3/train/images/autosave16_04_2013_13_23_05_0_jpg.rf.9d4d576e2eb0ffcf53d6dfe1115d9d90.jpg  \n",
            " extracting: /content/OIVIS_Lab_3/train/images/autosave16_04_2013_13_23_05_3_jpg.rf.3d4c66f6cf9bdb69291f8c968aed5b26.jpg  \n",
            " extracting: /content/OIVIS_Lab_3/train/images/autosave16_04_2013_13_23_17_1_jpg.rf.4158e906c28eca8664d711b3de24a667.jpg  \n",
            " extracting: /content/OIVIS_Lab_3/train/images/autosave16_04_2013_13_23_52_0_jpg.rf.1325edd84e6203d79cfd48374d94e608.jpg  \n",
            " extracting: /content/OIVIS_Lab_3/train/images/autosave16_04_2013_13_23_56_0_jpg.rf.ec9af164837f004733863fa968350a5e.jpg  \n",
            " extracting: /content/OIVIS_Lab_3/train/images/autosave16_04_2013_13_23_56_2_jpg.rf.09752632b32030be45461cf92c3ca17e.jpg  \n",
            " extracting: /content/OIVIS_Lab_3/train/images/autosave16_04_2013_13_23_58_2_jpg.rf.d010ec47d2cf3af2f53b644113b9b739.jpg  \n",
            " extracting: /content/OIVIS_Lab_3/train/images/autosave16_04_2013_13_24_00_2_jpg.rf.b14752f2e17169f59492d7b7f7038d80.jpg  \n",
            " extracting: /content/OIVIS_Lab_3/train/images/autosave16_04_2013_13_24_05_0_jpg.rf.bbef80fa8a747c4255b638ea5278ad53.jpg  \n",
            " extracting: /content/OIVIS_Lab_3/train/images/autosave16_04_2013_13_24_43_3_jpg.rf.285fcc33e8761212c458f8f3a7e586e4.jpg  \n",
            " extracting: /content/OIVIS_Lab_3/train/images/autosave16_04_2013_13_28_12_2_jpg.rf.77896c8b4f0f7a23e0de9c2627325e7f.jpg  \n",
            " extracting: /content/OIVIS_Lab_3/train/images/autosave16_04_2013_13_28_30_3_jpg.rf.d4d37339f0d31340f0304405eff39a3d.jpg  \n",
            " extracting: /content/OIVIS_Lab_3/train/images/autosave16_04_2013_13_28_36_0_jpg.rf.531b696b1183928e05504b10ddb63786.jpg  \n",
            " extracting: /content/OIVIS_Lab_3/train/images/autosave16_04_2013_13_28_36_1_jpg.rf.4b2a2651a6e97fb382d1d5aca44ad2b3.jpg  \n",
            " extracting: /content/OIVIS_Lab_3/train/images/autosave16_04_2013_13_28_38_0_jpg.rf.b56c9a1d9e90658c67f23560832e4946.jpg  \n",
            " extracting: /content/OIVIS_Lab_3/train/images/autosave16_04_2013_13_28_45_0_jpg.rf.2793103e41a5c1219a636c73b37c4a0c.jpg  \n",
            " extracting: /content/OIVIS_Lab_3/train/images/autosave16_04_2013_13_33_23_3_jpg.rf.49e0f5e8772ce878ba255592f531693e.jpg  \n",
            " extracting: /content/OIVIS_Lab_3/train/images/autosave16_04_2013_13_34_09_2_jpg.rf.62c312de451119d44d69a06633aa6664.jpg  \n",
            " extracting: /content/OIVIS_Lab_3/train/images/autosave16_04_2013_13_34_52_2_jpg.rf.11ce83ac66c57e8db0e7511c04eb6a38.jpg  \n",
            " extracting: /content/OIVIS_Lab_3/train/images/autosave16_04_2013_13_36_10_0_jpg.rf.c70c18d6bd9ec328a653fd55b7082f44.jpg  \n",
            " extracting: /content/OIVIS_Lab_3/train/images/autosave16_04_2013_13_36_12_0_jpg.rf.44e16d41272488537782db20448b1a14.jpg  \n",
            " extracting: /content/OIVIS_Lab_3/train/images/autosave16_04_2013_13_36_46_0_jpg.rf.b896739e918ba720430b7159222aeaf7.jpg  \n",
            " extracting: /content/OIVIS_Lab_3/train/images/autosave16_04_2013_13_37_04_2_jpg.rf.70418d7e7861d3239414677fc19e5795.jpg  \n",
            " extracting: /content/OIVIS_Lab_3/train/images/autosave16_04_2013_13_37_43_2_jpg.rf.ee6b511d86daff095bb0725b9f450e82.jpg  \n",
            " extracting: /content/OIVIS_Lab_3/train/images/autosave16_04_2013_13_39_37_0_jpg.rf.3401c200b18069bf93152d6cc760ee01.jpg  \n",
            " extracting: /content/OIVIS_Lab_3/train/images/autosave16_04_2013_13_46_36_2_jpg.rf.b7d4be823061e010d2b3dfd7eb45ada1.jpg  \n",
            " extracting: /content/OIVIS_Lab_3/train/images/autosave16_04_2013_13_46_38_2_jpg.rf.548494cb9f97c3e0589eb057d3c26809.jpg  \n",
            " extracting: /content/OIVIS_Lab_3/train/images/autosave16_04_2013_13_46_39_0_jpg.rf.420d63a7f82ddf520d7fe84f40950cc6.jpg  \n",
            " extracting: /content/OIVIS_Lab_3/train/images/autosave16_04_2013_13_46_40_0_jpg.rf.99ea5a3daae0a00fc4ca2b7bc140ffc1.jpg  \n",
            " extracting: /content/OIVIS_Lab_3/train/images/autosave16_04_2013_13_46_41_2_jpg.rf.c10f833f2f0b6c0c38d838fcb0f6e1c1.jpg  \n",
            " extracting: /content/OIVIS_Lab_3/train/images/autosave16_04_2013_13_50_58_1_jpg.rf.80f292600ccd0fc02524a70e37b43983.jpg  \n",
            " extracting: /content/OIVIS_Lab_3/train/images/autosave16_04_2013_13_51_00_2_jpg.rf.12ac7024fd123ca5c32933a5ef317d22.jpg  \n",
            " extracting: /content/OIVIS_Lab_3/train/images/autosave16_04_2013_13_52_19_0_jpg.rf.dbd2c91479dcf84d86a98f67885cf33b.jpg  \n",
            " extracting: /content/OIVIS_Lab_3/train/images/autosave16_04_2013_13_52_19_1_jpg.rf.9baac6c5bcbcd0f52f4dd802341e203a.jpg  \n",
            " extracting: /content/OIVIS_Lab_3/train/images/autosave16_04_2013_13_52_20_3_jpg.rf.601ca8868a01ac3434891651ea769ef6.jpg  \n",
            " extracting: /content/OIVIS_Lab_3/train/images/autosave16_04_2013_13_53_04_0_jpg.rf.fb9964305f13913de96f0e47a45b87ab.jpg  \n",
            " extracting: /content/OIVIS_Lab_3/train/images/autosave16_04_2013_13_53_52_2_jpg.rf.044d39a09ddb57a699c046b153905939.jpg  \n",
            " extracting: /content/OIVIS_Lab_3/train/images/autosave16_04_2013_14_17_30_0_jpg.rf.973d7be6fc2c8791088c6de87ea17ebc.jpg  \n",
            " extracting: /content/OIVIS_Lab_3/train/images/autosave16_04_2013_14_17_45_1_jpg.rf.c4317b4f6b6f3b93661238192aae69d2.jpg  \n",
            " extracting: /content/OIVIS_Lab_3/train/images/autosave16_04_2013_14_18_21_1_jpg.rf.97ae7f076892297e6b4866e5bc11db97.jpg  \n",
            " extracting: /content/OIVIS_Lab_3/train/images/autosave16_04_2013_14_18_37_1_jpg.rf.bf6315f329f1dd0b9da85d434f095a22.jpg  \n",
            " extracting: /content/OIVIS_Lab_3/train/images/autosave16_04_2013_14_21_13_0_jpg.rf.8946656090d1b1d455eb4a4fb1ada550.jpg  \n",
            " extracting: /content/OIVIS_Lab_3/train/images/autosave16_04_2013_14_21_38_0_jpg.rf.1494cdb1c80b222756e7bc60d7121177.jpg  \n",
            " extracting: /content/OIVIS_Lab_3/train/images/autosave16_04_2013_14_21_49_2_jpg.rf.b3c65d1933faf860d00bfc16ba1fa1d1.jpg  \n",
            " extracting: /content/OIVIS_Lab_3/train/images/autosave16_04_2013_14_21_51_2_jpg.rf.a455f9b9dd3a9b0bb241b411c25fd239.jpg  \n",
            " extracting: /content/OIVIS_Lab_3/train/images/autosave16_04_2013_14_23_21_2_jpg.rf.824387c7bc4b167e36ef1f1bac6dc37a.jpg  \n",
            " extracting: /content/OIVIS_Lab_3/train/images/autosave16_04_2013_14_23_23_0_jpg.rf.d18c988f8522883b9b04b42fe5697de1.jpg  \n",
            " extracting: /content/OIVIS_Lab_3/train/images/autosave16_04_2013_14_23_23_1_jpg.rf.53f0d7749040adb768f4057f6a3dbf52.jpg  \n",
            " extracting: /content/OIVIS_Lab_3/train/images/autosave16_04_2013_14_23_28_1_jpg.rf.92e52648508fd8bb17eea7ed7619e1c3.jpg  \n",
            " extracting: /content/OIVIS_Lab_3/train/images/autosave16_04_2013_14_25_17_1_jpg.rf.d6bac1912ad7f75ece6a06e0ab53ec90.jpg  \n",
            " extracting: /content/OIVIS_Lab_3/train/images/autosave16_04_2013_14_25_20_2_jpg.rf.da776592e05051db27141957eace81b4.jpg  \n",
            " extracting: /content/OIVIS_Lab_3/train/images/autosave16_04_2013_14_25_27_0_jpg.rf.8a51b25d53ccec94d419b348a6d4a566.jpg  \n",
            " extracting: /content/OIVIS_Lab_3/train/images/autosave16_04_2013_14_25_35_0_jpg.rf.983f841572c0b36aacf2369d0cd539c1.jpg  \n",
            " extracting: /content/OIVIS_Lab_3/train/images/autosave16_04_2013_14_25_35_2_jpg.rf.4a8bd31f139dc0673cd0fdb4571acea2.jpg  \n",
            " extracting: /content/OIVIS_Lab_3/train/images/autosave16_04_2013_14_25_37_3_jpg.rf.2d75eb70c736b3b053b5be2745c6d56e.jpg  \n",
            " extracting: /content/OIVIS_Lab_3/train/images/autosave16_04_2013_14_25_46_0_jpg.rf.fdb96d2e111ab9aac337ba06f1a7be24.jpg  \n",
            " extracting: /content/OIVIS_Lab_3/train/images/autosave16_04_2013_14_27_00_1_jpg.rf.7af8c7355b2cba75289f53030a78c400.jpg  \n",
            " extracting: /content/OIVIS_Lab_3/train/images/autosave16_04_2013_14_27_04_0_jpg.rf.e80d79357fc20e3b855a16f24470fc45.jpg  \n",
            " extracting: /content/OIVIS_Lab_3/train/images/autosave16_04_2013_14_27_13_0_jpg.rf.e6bcf207c5efc4b2d7c8a9115732519c.jpg  \n",
            " extracting: /content/OIVIS_Lab_3/train/images/autosave16_04_2013_14_27_40_0_jpg.rf.6a70d702f8f1f05fdbfa9a94433aba10.jpg  \n",
            " extracting: /content/OIVIS_Lab_3/train/images/autosave16_04_2013_14_27_40_1_jpg.rf.af33d770834969fc72e0e4fd84d9b82d.jpg  \n",
            " extracting: /content/OIVIS_Lab_3/train/images/autosave16_04_2013_14_28_13_2_jpg.rf.272759b024289098b7506b005fc79c54.jpg  \n",
            " extracting: /content/OIVIS_Lab_3/train/images/autosave16_04_2013_14_28_26_1_jpg.rf.2cae527b37f2cd0268a14a29751dad93.jpg  \n",
            " extracting: /content/OIVIS_Lab_3/train/images/autosave16_04_2013_14_28_27_0_jpg.rf.ded5be75eee368a3c4389a545dc2ba65.jpg  \n",
            " extracting: /content/OIVIS_Lab_3/train/images/autosave16_04_2013_14_28_45_2_jpg.rf.14b8aff529f95186b9f636b1d034ded1.jpg  \n",
            " extracting: /content/OIVIS_Lab_3/train/images/autosave16_04_2013_14_28_49_0_jpg.rf.a0aafe1245343c53f428e1da3bd392f8.jpg  \n",
            " extracting: /content/OIVIS_Lab_3/train/images/autosave16_04_2013_14_28_50_1_jpg.rf.c78d27ff81b8f7235756d357f12e0759.jpg  \n",
            " extracting: /content/OIVIS_Lab_3/train/images/autosave16_04_2013_14_28_58_0_jpg.rf.ca0db819fabfdf52cb31994e4218c946.jpg  \n",
            " extracting: /content/OIVIS_Lab_3/train/images/autosave16_04_2013_14_29_12_2_jpg.rf.d8e9d83b15939df9c100fb96aedf9b12.jpg  \n",
            " extracting: /content/OIVIS_Lab_3/train/images/autosave16_04_2013_14_29_14_0_jpg.rf.2f394599e8aedb0e569b0b5c0af70877.jpg  \n",
            " extracting: /content/OIVIS_Lab_3/train/images/autosave16_04_2013_14_29_33_1_jpg.rf.971bbc6f2b67beeac96c3105bb772a6b.jpg  \n",
            " extracting: /content/OIVIS_Lab_3/train/images/autosave16_04_2013_14_29_33_2_jpg.rf.fc165820466601d6303e9029f2339599.jpg  \n",
            " extracting: /content/OIVIS_Lab_3/train/images/autosave16_04_2013_14_29_52_0_jpg.rf.080858f8d3fe1c57b0310d50fd3250df.jpg  \n",
            " extracting: /content/OIVIS_Lab_3/train/images/autosave16_04_2013_14_29_52_1_jpg.rf.1826ab7bc5cefb62e912d01c0eb3f4a7.jpg  \n",
            " extracting: /content/OIVIS_Lab_3/train/images/autosave16_04_2013_14_30_13_0_jpg.rf.09f3620e33d7a1c2ab1f8b01ec01352e.jpg  \n",
            " extracting: /content/OIVIS_Lab_3/train/images/autosave16_04_2013_14_30_15_0_jpg.rf.bc05b5536a1a0d2eedbea3f40e7f12ed.jpg  \n",
            " extracting: /content/OIVIS_Lab_3/train/images/autosave16_04_2013_14_30_30_1_jpg.rf.9eb5ccd369bb030f332124bcf8802453.jpg  \n",
            " extracting: /content/OIVIS_Lab_3/train/images/autosave16_04_2013_14_30_45_2_jpg.rf.4e9b2bf25e5c80abc73b1da65704c60a.jpg  \n",
            " extracting: /content/OIVIS_Lab_3/train/images/autosave16_04_2013_14_30_47_3_jpg.rf.7260992954f622436d4b1f010758a90a.jpg  \n",
            " extracting: /content/OIVIS_Lab_3/train/images/autosave16_04_2013_14_30_57_1_jpg.rf.418ea602d44b692d84b10ba1e5e0aed1.jpg  \n",
            " extracting: /content/OIVIS_Lab_3/train/images/autosave16_04_2013_14_30_59_1_jpg.rf.4db24b9bb0c552b48ffe8ed92b15148b.jpg  \n",
            " extracting: /content/OIVIS_Lab_3/train/images/autosave16_04_2013_14_31_08_3_jpg.rf.af6272d1f04d1e33b9ffcfbe54a9eeaf.jpg  \n",
            " extracting: /content/OIVIS_Lab_3/train/images/autosave16_04_2013_14_31_10_1_jpg.rf.30cd3adc0ec28df420213e93149bbde4.jpg  \n",
            " extracting: /content/OIVIS_Lab_3/train/images/autosave16_04_2013_14_31_14_0_jpg.rf.b861fd35de3be0347923cef2334d968c.jpg  \n",
            " extracting: /content/OIVIS_Lab_3/train/images/autosave16_04_2013_14_31_17_2_jpg.rf.009d612f0da88c41cd97d4f0faa99465.jpg  \n",
            " extracting: /content/OIVIS_Lab_3/train/images/autosave16_04_2013_14_31_19_2_jpg.rf.93cce405314d565b531fe9d0a3e0e951.jpg  \n",
            " extracting: /content/OIVIS_Lab_3/train/images/autosave16_04_2013_14_31_33_1_jpg.rf.46d3ff6e9804ceab8aa284b670a3b993.jpg  \n",
            " extracting: /content/OIVIS_Lab_3/train/images/autosave16_04_2013_14_31_38_0_jpg.rf.f56a7ed215d4115801daeb4f9bc0eea1.jpg  \n",
            " extracting: /content/OIVIS_Lab_3/train/images/autosave16_04_2013_14_31_57_1_jpg.rf.abca47bf3a1f387668558d43cab1a7f4.jpg  \n",
            " extracting: /content/OIVIS_Lab_3/train/images/autosave16_04_2013_14_32_00_2_jpg.rf.325d8aff28b1777ba4cf1518697f0e14.jpg  \n",
            " extracting: /content/OIVIS_Lab_3/train/images/autosave16_04_2013_14_32_26_2_jpg.rf.54a188ab148dfee6727780cf5615c7b6.jpg  \n",
            " extracting: /content/OIVIS_Lab_3/train/images/autosave16_04_2013_14_32_40_1_jpg.rf.e65f437cbd89fc46cbed02b77390aab5.jpg  \n",
            " extracting: /content/OIVIS_Lab_3/train/images/autosave16_04_2013_14_33_36_3_jpg.rf.86f6b4913be014e7998766f1762ca79b.jpg  \n",
            " extracting: /content/OIVIS_Lab_3/train/images/autosave16_04_2013_14_33_40_0_jpg.rf.09c152b645625e556621c167d55c40f6.jpg  \n",
            " extracting: /content/OIVIS_Lab_3/train/images/autosave16_04_2013_14_33_52_1_jpg.rf.54033a7e9b8a919a9f7e2c9341124a3c.jpg  \n",
            " extracting: /content/OIVIS_Lab_3/train/images/autosave16_04_2013_14_34_33_0_jpg.rf.1bde97113bfb38605cfdd50be598ecf4.jpg  \n",
            " extracting: /content/OIVIS_Lab_3/train/images/autosave16_04_2013_14_35_07_0_jpg.rf.caf4c95acc4e4a9a4ccb7f3e9f3dca96.jpg  \n",
            " extracting: /content/OIVIS_Lab_3/train/images/autosave16_04_2013_14_35_15_1_jpg.rf.407fab3d1e0bc000f90f818f73f93762.jpg  \n",
            " extracting: /content/OIVIS_Lab_3/train/images/autosave16_04_2013_14_35_43_0_jpg.rf.ae2e740afb502c68596e1f34ad0a3f8f.jpg  \n",
            " extracting: /content/OIVIS_Lab_3/train/images/autosave16_04_2013_14_35_50_1_jpg.rf.4f1df9cc7f157da476a0e36aa600558c.jpg  \n",
            " extracting: /content/OIVIS_Lab_3/train/images/autosave16_04_2013_14_35_56_1_jpg.rf.ab94029c6c30ed9bcc0d5278778dcd95.jpg  \n",
            " extracting: /content/OIVIS_Lab_3/train/images/autosave16_04_2013_14_36_02_1_jpg.rf.2eb49c91a35b8aad89ae536666c49153.jpg  \n",
            " extracting: /content/OIVIS_Lab_3/train/images/autosave16_04_2013_14_36_02_2_jpg.rf.b0300c1581bf387ba5d9ba076876b359.jpg  \n",
            " extracting: /content/OIVIS_Lab_3/train/images/autosave16_04_2013_14_36_10_1_jpg.rf.c37a7abec7659c7e38a50cd70332eac7.jpg  \n",
            " extracting: /content/OIVIS_Lab_3/train/images/autosave16_04_2013_14_36_23_3_jpg.rf.c8a8b8dd322d27d1c18e011e2881dd4b.jpg  \n",
            " extracting: /content/OIVIS_Lab_3/train/images/autosave16_04_2013_14_36_23_4_jpg.rf.a357faa4438096c29acb99f452f08424.jpg  \n",
            " extracting: /content/OIVIS_Lab_3/train/images/autosave16_04_2013_14_36_24_1_jpg.rf.2132651d1d765c937a7baf1f7d7eb46a.jpg  \n",
            " extracting: /content/OIVIS_Lab_3/train/images/autosave16_04_2013_14_36_28_2_jpg.rf.2270558d2c87c2ccf6c87549c0a6d39d.jpg  \n",
            " extracting: /content/OIVIS_Lab_3/train/images/autosave16_04_2013_14_36_30_2_jpg.rf.d200ee42c4b005dad56e284561dd7b0d.jpg  \n",
            " extracting: /content/OIVIS_Lab_3/train/images/autosave16_04_2013_14_36_31_0_jpg.rf.69de52482595e2cea4240c7074a53c03.jpg  \n",
            " extracting: /content/OIVIS_Lab_3/train/images/autosave16_04_2013_14_37_02_0_jpg.rf.2b1cd703866ca4181fac270f55cf9586.jpg  \n",
            " extracting: /content/OIVIS_Lab_3/train/images/autosave16_04_2013_14_37_02_2_jpg.rf.d77b75e2100ef6f27e7bf8536f43b3a1.jpg  \n",
            " extracting: /content/OIVIS_Lab_3/train/images/autosave16_04_2013_14_37_04_1_jpg.rf.e755d08b0a6297a414a59a1a4fe4636f.jpg  \n",
            " extracting: /content/OIVIS_Lab_3/train/images/autosave16_04_2013_14_37_37_0_jpg.rf.f4e9f1e84ab7ad0bc7e11a74c6eea1ab.jpg  \n",
            " extracting: /content/OIVIS_Lab_3/train/images/autosave16_04_2013_14_38_49_1_jpg.rf.dada76346b9afc8afe5da4416dc0b9d5.jpg  \n",
            " extracting: /content/OIVIS_Lab_3/train/images/autosave16_04_2013_14_38_51_2_jpg.rf.d287e69ba18e52cbbcfcb8e6ac3ff2eb.jpg  \n",
            " extracting: /content/OIVIS_Lab_3/train/images/autosave16_04_2013_14_38_52_2_jpg.rf.cc70b72220b7c2c83726b822ae72cc62.jpg  \n",
            " extracting: /content/OIVIS_Lab_3/train/images/autosave16_04_2013_14_39_50_3_jpg.rf.c0403666c9942f16b43c208710ee8ad5.jpg  \n",
            " extracting: /content/OIVIS_Lab_3/train/images/autosave16_04_2013_14_39_55_1_jpg.rf.e3093abda4343f086cca8751e4b7fb1b.jpg  \n",
            " extracting: /content/OIVIS_Lab_3/train/images/autosave16_04_2013_14_40_14_2_jpg.rf.56fc4073d69a96b087c30e2b995f25f0.jpg  \n",
            " extracting: /content/OIVIS_Lab_3/train/images/autosave16_04_2013_14_40_16_3_jpg.rf.ae0032ba9f0583254724bcd743e754a4.jpg  \n",
            " extracting: /content/OIVIS_Lab_3/train/images/autosave16_04_2013_14_40_20_0_jpg.rf.1d8dbf25d1680c6fb2c5558b0ee5d8cd.jpg  \n",
            " extracting: /content/OIVIS_Lab_3/train/images/autosave16_04_2013_14_40_24_0_jpg.rf.d5ea9e1b64deda10d3716c40ec42c9de.jpg  \n",
            " extracting: /content/OIVIS_Lab_3/train/images/autosave16_04_2013_14_40_56_3_jpg.rf.3a50c13fe34aca5f5ba7de7d93ced543.jpg  \n",
            " extracting: /content/OIVIS_Lab_3/train/images/autosave16_04_2013_14_41_11_1_jpg.rf.af70dcd5d9694666718d6564dbe4602a.jpg  \n",
            " extracting: /content/OIVIS_Lab_3/train/images/autosave16_04_2013_14_41_13_1_jpg.rf.1548357d4d1681c15f0d0e284e9a8225.jpg  \n",
            " extracting: /content/OIVIS_Lab_3/train/images/autosave16_04_2013_14_41_15_0_jpg.rf.19f4ce9695e4e07baf0dbd8e1916d914.jpg  \n",
            " extracting: /content/OIVIS_Lab_3/train/images/autosave16_04_2013_14_41_22_1_jpg.rf.73c867eda12e85649619ba3d7e55632c.jpg  \n",
            " extracting: /content/OIVIS_Lab_3/train/images/autosave16_04_2013_14_41_23_1_jpg.rf.3bef51b03a4d927cfc2de4ec45a32951.jpg  \n",
            " extracting: /content/OIVIS_Lab_3/train/images/autosave16_04_2013_14_41_27_0_jpg.rf.3df344c19193cc5d24c1e8318540dcb8.jpg  \n",
            " extracting: /content/OIVIS_Lab_3/train/images/autosave16_04_2013_14_41_27_1_jpg.rf.a5d2791f2b332fa4d2fef323e8f01765.jpg  \n",
            " extracting: /content/OIVIS_Lab_3/train/images/autosave16_04_2013_14_41_37_1_jpg.rf.37db64cb3460d91998c1c6d1b14e131b.jpg  \n",
            " extracting: /content/OIVIS_Lab_3/train/images/autosave16_04_2013_14_41_43_0_jpg.rf.4d4ca57717c75b4799b5449594f7ae14.jpg  \n",
            " extracting: /content/OIVIS_Lab_3/train/images/autosave16_04_2013_14_41_49_2_jpg.rf.b7e0e0cbcade20b2a280af8ae05183a9.jpg  \n",
            " extracting: /content/OIVIS_Lab_3/train/images/autosave16_04_2013_14_41_54_0_jpg.rf.88640bc2aaa6d03e3c4ac9f26fe05baf.jpg  \n",
            " extracting: /content/OIVIS_Lab_3/train/images/autosave16_04_2013_14_42_02_2_jpg.rf.4db7cec79053d49000e226796ce9fa36.jpg  \n",
            " extracting: /content/OIVIS_Lab_3/train/images/autosave16_04_2013_14_42_04_1_jpg.rf.92cd926ab3eda99a1d1e4ee3131d12e8.jpg  \n",
            " extracting: /content/OIVIS_Lab_3/train/images/autosave16_04_2013_14_42_05_1_jpg.rf.0c49f00df29f2c7a011f7b1025284e15.jpg  \n",
            " extracting: /content/OIVIS_Lab_3/train/images/autosave16_04_2013_14_42_14_0_jpg.rf.62a6b5f8fb1d1b35ed0ad45d0da70f37.jpg  \n",
            " extracting: /content/OIVIS_Lab_3/train/images/autosave16_04_2013_14_42_15_1_jpg.rf.0127ea9e9a9876c2c1e376ec5c96c367.jpg  \n",
            " extracting: /content/OIVIS_Lab_3/train/images/autosave16_04_2013_14_42_47_1_jpg.rf.cad34afd112e002f4d37dd88b31dbf1e.jpg  \n",
            " extracting: /content/OIVIS_Lab_3/train/images/autosave16_04_2013_14_42_49_1_jpg.rf.f6e30bd61f6e8541868899e76191e889.jpg  \n",
            " extracting: /content/OIVIS_Lab_3/train/images/autosave16_04_2013_14_42_51_1_jpg.rf.0d5fb39e3c69befddc946be9cb70148d.jpg  \n",
            " extracting: /content/OIVIS_Lab_3/train/images/autosave16_04_2013_14_42_53_2_jpg.rf.e13a66d67e3d5db588974719d5df6d8f.jpg  \n",
            " extracting: /content/OIVIS_Lab_3/train/images/autosave16_04_2013_14_42_53_3_jpg.rf.a876230dc732300a12b53d9e11016c03.jpg  \n",
            " extracting: /content/OIVIS_Lab_3/train/images/autosave16_04_2013_14_43_00_0_jpg.rf.a1d0875ca364f8f7c53321f540b06387.jpg  \n",
            " extracting: /content/OIVIS_Lab_3/train/images/autosave16_04_2013_14_43_02_4_jpg.rf.b0ade8e2a469e5ccd2e42cdbdf8de95e.jpg  \n",
            " extracting: /content/OIVIS_Lab_3/train/images/autosave16_04_2013_14_43_08_0_jpg.rf.cb057e1901b79a74a0ec235ee52e474b.jpg  \n",
            " extracting: /content/OIVIS_Lab_3/train/images/autosave16_04_2013_14_44_22_0_jpg.rf.9feefab1731f14e4219acd43b3e9445c.jpg  \n",
            " extracting: /content/OIVIS_Lab_3/train/images/autosave16_04_2013_14_45_15_2_jpg.rf.f1e203ad83144dee019d437356fe66f5.jpg  \n",
            " extracting: /content/OIVIS_Lab_3/train/images/autosave16_04_2013_14_46_10_1_jpg.rf.9ce8b3e2f7df7e415ef18630ec247f21.jpg  \n",
            " extracting: /content/OIVIS_Lab_3/train/images/autosave16_04_2013_14_46_12_0_jpg.rf.305c089b0531dcf0c6fc6c124a58d368.jpg  \n",
            " extracting: /content/OIVIS_Lab_3/train/images/autosave16_04_2013_14_47_27_1_jpg.rf.447d9e84b799270d6e95d6672f89033e.jpg  \n",
            " extracting: /content/OIVIS_Lab_3/train/images/autosave16_04_2013_14_47_40_2_jpg.rf.f8f5283a0241157d0885892ec3cf7bf7.jpg  \n",
            " extracting: /content/OIVIS_Lab_3/train/images/autosave16_04_2013_14_48_19_1_jpg.rf.4d2c094eef0cabcec306fcdaef44a313.jpg  \n",
            " extracting: /content/OIVIS_Lab_3/train/images/autosave16_04_2013_14_48_19_2_jpg.rf.240f6eb60f2f2db21a9d5e9e16aa4a73.jpg  \n",
            " extracting: /content/OIVIS_Lab_3/train/images/autosave16_04_2013_14_50_13_0_jpg.rf.999eb7c2e6e659c56150f8d3755240be.jpg  \n",
            " extracting: /content/OIVIS_Lab_3/train/images/autosave16_04_2013_14_50_42_1_jpg.rf.8c0b9335ded4d6fe86201f81944d4162.jpg  \n",
            " extracting: /content/OIVIS_Lab_3/train/images/autosave16_04_2013_14_51_14_0_jpg.rf.d87d67027463bfe1b5b610ff54d6c931.jpg  \n",
            " extracting: /content/OIVIS_Lab_3/train/images/autosave16_04_2013_14_51_18_0_jpg.rf.df601508e648ece59809d6900a9f9b91.jpg  \n",
            " extracting: /content/OIVIS_Lab_3/train/images/autosave16_04_2013_14_51_23_1_jpg.rf.dd82cb84f015bff9c32c9b1dd69833ef.jpg  \n",
            " extracting: /content/OIVIS_Lab_3/train/images/autosave16_04_2013_14_51_25_1_jpg.rf.b7ecd3ee1b158bf64ab3d0cb0f5dba22.jpg  \n",
            " extracting: /content/OIVIS_Lab_3/train/images/autosave16_04_2013_14_51_25_2_jpg.rf.ef711df8ef7fe8765f5e94c890317af6.jpg  \n",
            " extracting: /content/OIVIS_Lab_3/train/images/autosave16_04_2013_14_51_43_3_jpg.rf.6bb02abb952786ec39fe8df424c25b8a.jpg  \n",
            " extracting: /content/OIVIS_Lab_3/train/images/autosave16_04_2013_14_51_45_0_jpg.rf.b594ffb7d16ca57ceca24b9145b7cfdd.jpg  \n",
            " extracting: /content/OIVIS_Lab_3/train/images/autosave16_04_2013_14_51_49_2_jpg.rf.3388c3f4311e9fdcd101019a93602d92.jpg  \n",
            " extracting: /content/OIVIS_Lab_3/train/images/autosave16_04_2013_14_52_00_0_jpg.rf.e0c96e3b297fe5c94d56c7e5ac53a669.jpg  \n",
            " extracting: /content/OIVIS_Lab_3/train/images/autosave16_04_2013_14_52_26_1_jpg.rf.5c99fa20009b93d35bcb27083c69ebb3.jpg  \n",
            " extracting: /content/OIVIS_Lab_3/train/images/autosave16_04_2013_14_52_54_0_jpg.rf.18080a2c4dcaec69556614d7b71439e1.jpg  \n",
            " extracting: /content/OIVIS_Lab_3/train/images/autosave16_04_2013_14_52_57_0_jpg.rf.5b504d3cfe66b60ba7ceb5ac0a7cf87d.jpg  \n",
            " extracting: /content/OIVIS_Lab_3/train/images/autosave16_04_2013_14_53_40_0_jpg.rf.1ead5b860e3d2f978fde56071e4ad044.jpg  \n",
            " extracting: /content/OIVIS_Lab_3/train/images/autosave16_04_2013_14_53_40_3_jpg.rf.67687a37e97d8febbef1e4999f882245.jpg  \n",
            " extracting: /content/OIVIS_Lab_3/train/images/autosave16_04_2013_14_56_07_1_jpg.rf.a08b4744ab65717325d6d8b01b2bfeac.jpg  \n",
            " extracting: /content/OIVIS_Lab_3/train/images/autosave16_04_2013_14_56_08_1_jpg.rf.d1566c4e74d0f4e7e8340ba04e7d3eac.jpg  \n",
            " extracting: /content/OIVIS_Lab_3/train/images/autosave16_04_2013_14_57_57_0_jpg.rf.01f102edd63c03f007d7f6a157a6952c.jpg  \n",
            " extracting: /content/OIVIS_Lab_3/train/images/autosave16_04_2013_14_57_59_0_jpg.rf.d496366dc4a9b4ed7e46ad87dd88ac95.jpg  \n",
            " extracting: /content/OIVIS_Lab_3/train/images/autosave16_04_2013_14_58_38_1_jpg.rf.738f2d914605dbb2725b4208e075170e.jpg  \n",
            " extracting: /content/OIVIS_Lab_3/train/images/autosave16_04_2013_14_59_12_0_jpg.rf.4f49d6fbe146a2e78d2d8ddeef13f195.jpg  \n",
            " extracting: /content/OIVIS_Lab_3/train/images/autosave16_04_2013_14_59_37_1_jpg.rf.8efa37aa672eff8561ef5154e8bc24d3.jpg  \n",
            " extracting: /content/OIVIS_Lab_3/train/images/autosave16_04_2013_14_59_40_0_jpg.rf.851c5389cfbc7c9bb36d7522041d0a08.jpg  \n",
            " extracting: /content/OIVIS_Lab_3/train/images/autosave16_04_2013_15_01_50_2_jpg.rf.b2433343107cf602a62e50b822387c78.jpg  \n",
            " extracting: /content/OIVIS_Lab_3/train/images/autosave16_04_2013_15_01_59_2_jpg.rf.901a2c81265b02b99122a69e08f654aa.jpg  \n",
            " extracting: /content/OIVIS_Lab_3/train/images/autosave16_04_2013_15_02_07_0_jpg.rf.5361c04a1a8c71e28e7d883b76f945ac.jpg  \n",
            " extracting: /content/OIVIS_Lab_3/train/images/autosave16_04_2013_15_02_08_0_jpg.rf.9e353aba045eb14fd39705e036757952.jpg  \n",
            " extracting: /content/OIVIS_Lab_3/train/images/autosave16_04_2013_15_02_08_1_jpg.rf.bcb5fcbdeee024d88ac5db1214b8bb46.jpg  \n",
            " extracting: /content/OIVIS_Lab_3/train/images/autosave16_04_2013_15_02_09_1_jpg.rf.2959300f994e482be6d407c98e4276dd.jpg  \n",
            " extracting: /content/OIVIS_Lab_3/train/images/autosave16_04_2013_15_03_13_3_jpg.rf.899b7860f419f7a43321c08058daa252.jpg  \n",
            " extracting: /content/OIVIS_Lab_3/train/images/autosave16_04_2013_15_03_15_1_jpg.rf.561c706572c0651337e37efcb2b455ec.jpg  \n",
            " extracting: /content/OIVIS_Lab_3/train/images/autosave16_04_2013_15_03_58_2_jpg.rf.071dfca4e42878a80fbe3646238def1a.jpg  \n",
            " extracting: /content/OIVIS_Lab_3/train/images/autosave16_04_2013_15_10_21_4_jpg.rf.1c271ea8ab4c4ff87d8da152497e0148.jpg  \n",
            " extracting: /content/OIVIS_Lab_3/train/images/autosave16_04_2013_15_11_16_1_jpg.rf.96a8ef721f4c2781ccafa568e2954800.jpg  \n",
            " extracting: /content/OIVIS_Lab_3/train/images/autosave16_04_2013_15_11_31_2_jpg.rf.ea1580848aad64bba4134ef59cfb7d20.jpg  \n",
            " extracting: /content/OIVIS_Lab_3/train/images/autosave16_04_2013_15_11_36_1_jpg.rf.2d9beea50c042f06481b82334e43bd43.jpg  \n",
            " extracting: /content/OIVIS_Lab_3/train/images/autosave16_04_2013_15_11_42_2_jpg.rf.f6b5e05c5813b7d4f56145a742904512.jpg  \n",
            " extracting: /content/OIVIS_Lab_3/train/images/autosave16_04_2013_15_11_44_2_jpg.rf.f03f9285ed823e486024bf3a9e4de5db.jpg  \n",
            " extracting: /content/OIVIS_Lab_3/train/images/autosave16_04_2013_15_11_46_0_jpg.rf.ec592fdbad29a47bb1adc78af9d45363.jpg  \n",
            " extracting: /content/OIVIS_Lab_3/train/images/autosave16_04_2013_15_11_54_0_jpg.rf.c5b5d9248b666d15b9d2d132467433c9.jpg  \n",
            " extracting: /content/OIVIS_Lab_3/train/images/autosave16_04_2013_15_11_54_2_jpg.rf.7f0ffcd22e96d9296b5648c8e0da8485.jpg  \n",
            " extracting: /content/OIVIS_Lab_3/train/images/autosave16_04_2013_15_11_54_3_jpg.rf.bd0cfb5617324d61d21b26b3db46cd7d.jpg  \n",
            " extracting: /content/OIVIS_Lab_3/train/images/autosave16_04_2013_15_12_02_0_jpg.rf.ff00a89d9d4fb05a792ff4cbf506d659.jpg  \n",
            " extracting: /content/OIVIS_Lab_3/train/images/autosave16_04_2013_15_12_02_2_jpg.rf.ca727010cf5d04443b0329b3a7eee377.jpg  \n",
            " extracting: /content/OIVIS_Lab_3/train/images/autosave16_04_2013_15_12_12_1_jpg.rf.146d301a7a01e25e0c46b3081e83d508.jpg  \n",
            " extracting: /content/OIVIS_Lab_3/train/images/autosave16_04_2013_15_13_21_1_jpg.rf.a1925b93cc8e2c3b5a41493ce837cb1d.jpg  \n",
            " extracting: /content/OIVIS_Lab_3/train/images/autosave16_04_2013_15_20_13_1_jpg.rf.23d296d653f546fb380d12801491e1b4.jpg  \n",
            " extracting: /content/OIVIS_Lab_3/train/images/autosave16_04_2013_15_20_24_2_jpg.rf.b408408a467239cd786e401d026fc44c.jpg  \n",
            " extracting: /content/OIVIS_Lab_3/train/images/autosave16_04_2013_15_20_25_2_jpg.rf.2630f8580fa8ec7df3188a59474e4ab9.jpg  \n",
            " extracting: /content/OIVIS_Lab_3/train/images/autosave16_04_2013_15_20_27_1_jpg.rf.7b267b1269e556b110f7a45c6844549e.jpg  \n",
            " extracting: /content/OIVIS_Lab_3/train/images/autosave16_04_2013_15_20_27_2_jpg.rf.0c5377edad36e3a5f2ea0c6491a6a3de.jpg  \n",
            " extracting: /content/OIVIS_Lab_3/train/images/autosave16_04_2013_15_20_29_0_jpg.rf.fe1e11552d76a73d3f59dcdb21b561cd.jpg  \n",
            " extracting: /content/OIVIS_Lab_3/train/images/autosave16_04_2013_15_20_31_3_jpg.rf.0900e296d4d672d281dd09f93f970b7d.jpg  \n",
            " extracting: /content/OIVIS_Lab_3/train/images/autosave16_04_2013_15_20_48_0_jpg.rf.6cc73239fe7cdcb2d4b14c6bae62236e.jpg  \n",
            " extracting: /content/OIVIS_Lab_3/train/images/autosave16_04_2013_15_20_58_0_jpg.rf.d5278ae8072355d465314c55d416a0bb.jpg  \n",
            " extracting: /content/OIVIS_Lab_3/train/images/autosave16_04_2013_15_21_22_0_jpg.rf.1c491459a5582c41fb853dd4c9f65030.jpg  \n",
            " extracting: /content/OIVIS_Lab_3/train/images/autosave16_04_2013_15_21_25_1_jpg.rf.1b9eb9d2d22b729238deddfb5c34dd04.jpg  \n",
            " extracting: /content/OIVIS_Lab_3/train/images/autosave16_04_2013_15_22_01_2_jpg.rf.576df9187004fe64295090edf9118944.jpg  \n",
            " extracting: /content/OIVIS_Lab_3/train/images/autosave16_04_2013_15_22_08_0_jpg.rf.d2eaa9c5f5f555502383a9c01ace97d9.jpg  \n",
            " extracting: /content/OIVIS_Lab_3/train/images/autosave16_04_2013_15_22_11_1_jpg.rf.9b983dd6ea0f6ea3ca038c972a419c07.jpg  \n",
            " extracting: /content/OIVIS_Lab_3/train/images/autosave16_04_2013_15_22_41_3_jpg.rf.382abb81693f1e5f9a6a8316215b7da6.jpg  \n",
            " extracting: /content/OIVIS_Lab_3/train/images/autosave16_04_2013_15_22_45_1_jpg.rf.3e1e567d96b271e2f8775974fcaad593.jpg  \n",
            " extracting: /content/OIVIS_Lab_3/train/images/autosave16_04_2013_15_22_48_0_jpg.rf.0478008ba29d76f542e3d0a075ff1a01.jpg  \n",
            " extracting: /content/OIVIS_Lab_3/train/images/autosave16_04_2013_15_26_53_1_jpg.rf.793578cf25c42e90215e631a0d5d130a.jpg  \n",
            " extracting: /content/OIVIS_Lab_3/train/images/autosave16_04_2013_15_28_04_0_jpg.rf.fa8f4f9a289c29a8c6b1316883dd6a8c.jpg  \n",
            " extracting: /content/OIVIS_Lab_3/train/images/autosave16_04_2013_15_28_08_1_jpg.rf.5c162545e829085971201cbcaa6aae36.jpg  \n",
            " extracting: /content/OIVIS_Lab_3/train/images/autosave16_04_2013_15_28_08_2_jpg.rf.17579e796e75a7c5500eb0485b3503a8.jpg  \n",
            " extracting: /content/OIVIS_Lab_3/train/images/autosave16_04_2013_15_28_08_3_jpg.rf.6451242cf1d0b19a2d478e123567620b.jpg  \n",
            " extracting: /content/OIVIS_Lab_3/train/images/autosave16_04_2013_15_28_12_0_jpg.rf.42d6b104517323cfa9952299cb8b60ca.jpg  \n",
            " extracting: /content/OIVIS_Lab_3/train/images/autosave16_04_2013_15_28_21_3_jpg.rf.3cb5d05d69d0bbbdb7d97ccc6f2e6738.jpg  \n",
            " extracting: /content/OIVIS_Lab_3/train/images/autosave16_04_2013_15_29_51_0_jpg.rf.54320f31177566c4a8b17246a06079c4.jpg  \n",
            " extracting: /content/OIVIS_Lab_3/train/images/autosave16_04_2013_15_30_21_2_jpg.rf.0e1157e296584d0b3fc035d922d8bbe6.jpg  \n",
            " extracting: /content/OIVIS_Lab_3/train/images/autosave16_04_2013_15_30_24_1_jpg.rf.000c3457e188d1b91b1ffd4a1582552c.jpg  \n",
            " extracting: /content/OIVIS_Lab_3/train/images/autosave16_04_2013_15_30_27_0_jpg.rf.f878b82af2fde14e2dfe62585b1ff3ed.jpg  \n",
            " extracting: /content/OIVIS_Lab_3/train/images/autosave16_04_2013_15_30_42_0_jpg.rf.530ea8de45dbcffe1862ec0517db8c2e.jpg  \n",
            " extracting: /content/OIVIS_Lab_3/train/images/autosave16_04_2013_15_30_51_0_jpg.rf.07b3f9bf6c39b269061c2ad8728206fd.jpg  \n",
            " extracting: /content/OIVIS_Lab_3/train/images/autosave16_04_2013_15_31_59_3_jpg.rf.8f894fbfb7f6b478b898ce7538077fa2.jpg  \n",
            " extracting: /content/OIVIS_Lab_3/train/images/autosave16_04_2013_15_32_24_0_jpg.rf.ce5b6dda48fecbde450621e3d4bf839d.jpg  \n",
            " extracting: /content/OIVIS_Lab_3/train/images/autosave16_04_2013_15_32_25_1_jpg.rf.757d742c5fec5c679f88a338ad636329.jpg  \n",
            " extracting: /content/OIVIS_Lab_3/train/images/autosave16_04_2013_15_32_28_1_jpg.rf.f9386cd7c51762ad2fcf8276e6e31d93.jpg  \n",
            " extracting: /content/OIVIS_Lab_3/train/images/autosave16_04_2013_15_32_46_2_jpg.rf.5c93f4ff89ff83fdc6c5e3dfd2a94856.jpg  \n",
            " extracting: /content/OIVIS_Lab_3/train/images/autosave16_04_2013_15_37_01_0_jpg.rf.ab9d3674fb28c3eb8a0d4adc6d1c9bda.jpg  \n",
            " extracting: /content/OIVIS_Lab_3/train/images/autosave16_04_2013_15_37_05_1_jpg.rf.4cf31b3a4270dc89d085944413ba50bd.jpg  \n",
            " extracting: /content/OIVIS_Lab_3/train/images/autosave16_04_2013_15_37_12_1_jpg.rf.c5cd8bb2d77c25333197405435fa38b9.jpg  \n",
            " extracting: /content/OIVIS_Lab_3/train/images/autosave16_04_2013_15_37_14_2_jpg.rf.960718f3ea65098f26e94b7810db9242.jpg  \n",
            " extracting: /content/OIVIS_Lab_3/train/images/autosave16_04_2013_15_37_15_2_jpg.rf.2854608b8c5adc5cb281ac1394f14c2f.jpg  \n",
            " extracting: /content/OIVIS_Lab_3/train/images/autosave16_04_2013_15_37_30_0_jpg.rf.c30e34f9e318b4baff0f3a13352b4c42.jpg  \n",
            " extracting: /content/OIVIS_Lab_3/train/images/autosave16_04_2013_15_37_54_0_jpg.rf.6a62c9c87a5b974a0355f0eb27a700c6.jpg  \n",
            " extracting: /content/OIVIS_Lab_3/train/images/autosave16_04_2013_15_38_00_1_jpg.rf.538e14b87e2806407b5becc74ca362ef.jpg  \n",
            " extracting: /content/OIVIS_Lab_3/train/images/autosave16_10_2012_06_45_05_0_jpg.rf.4e440ee7256cb0ec4d09ef5481d59360.jpg  \n",
            " extracting: /content/OIVIS_Lab_3/train/images/autosave16_10_2012_06_45_05_1_jpg.rf.d7e370e1bf224d1908ff1ebc77e6b00b.jpg  \n",
            " extracting: /content/OIVIS_Lab_3/train/images/autosave16_10_2012_06_46_03_1_jpg.rf.ae4e929bbea51f97d3b8540d3586aa81.jpg  \n",
            " extracting: /content/OIVIS_Lab_3/train/images/autosave16_10_2012_06_46_17_2_jpg.rf.73958c9ecc9d1a2f7bb6ef600bb92c44.jpg  \n",
            " extracting: /content/OIVIS_Lab_3/train/images/autosave16_10_2012_06_46_19_1_jpg.rf.0ea8ea16eb0828715d9ea84f2115d6e5.jpg  \n",
            " extracting: /content/OIVIS_Lab_3/train/images/autosave16_10_2012_06_46_22_0_jpg.rf.7a6a5d64c3d75db454825b240c3fdac2.jpg  \n",
            " extracting: /content/OIVIS_Lab_3/train/images/autosave16_10_2012_06_46_22_1_jpg.rf.66240ce05cea716ea833e450fa1f60d8.jpg  \n",
            " extracting: /content/OIVIS_Lab_3/train/images/autosave16_10_2012_06_46_26_1_jpg.rf.bd1316d8163f2d70cfb41aed336dc39d.jpg  \n",
            " extracting: /content/OIVIS_Lab_3/train/images/autosave16_10_2012_06_46_33_0_jpg.rf.bda92036cda3d028554f3d3def3c20ad.jpg  \n",
            " extracting: /content/OIVIS_Lab_3/train/images/autosave16_10_2012_06_46_45_3_jpg.rf.085d0292654e9b29df768282fde6db96.jpg  \n",
            " extracting: /content/OIVIS_Lab_3/train/images/autosave16_10_2012_06_46_46_0_jpg.rf.b0a54f87ae46bb14a19ece4f37088781.jpg  \n",
            " extracting: /content/OIVIS_Lab_3/train/images/autosave16_10_2012_06_46_46_1_jpg.rf.75d7e1135caea78b150367593d35b05b.jpg  \n",
            " extracting: /content/OIVIS_Lab_3/train/images/autosave16_10_2012_06_46_56_3_jpg.rf.1642371f4e3c7d4eeceb6dae6ba77e03.jpg  \n",
            " extracting: /content/OIVIS_Lab_3/train/images/autosave16_10_2012_06_47_01_1_jpg.rf.821d9d32670240a57893dab8cc2cee0d.jpg  \n",
            " extracting: /content/OIVIS_Lab_3/train/images/autosave16_10_2012_06_47_07_1_jpg.rf.b97c0efebad98202674693dca8d8d960.jpg  \n",
            " extracting: /content/OIVIS_Lab_3/train/images/autosave16_10_2012_06_47_10_0_jpg.rf.13cece1bd8f2f1267f9bc1f79c39633a.jpg  \n",
            " extracting: /content/OIVIS_Lab_3/train/images/autosave16_10_2012_06_47_11_2_jpg.rf.01a2ffd976488548bba676800c96de2e.jpg  \n",
            " extracting: /content/OIVIS_Lab_3/train/images/autosave16_10_2012_06_47_15_1_jpg.rf.ba0dafc4b1e39419efb644a0c08d2cbe.jpg  \n",
            " extracting: /content/OIVIS_Lab_3/train/images/autosave16_10_2012_06_47_26_1_jpg.rf.70b213a0c01dbf2ceeb30836e5579bf5.jpg  \n",
            " extracting: /content/OIVIS_Lab_3/train/images/autosave16_10_2012_06_47_34_3_jpg.rf.48970abf07e1fe107b3a08101df6d030.jpg  \n",
            " extracting: /content/OIVIS_Lab_3/train/images/autosave16_10_2012_06_47_36_0_jpg.rf.8d62041ffdbea562a0f6a8a4a379659e.jpg  \n",
            " extracting: /content/OIVIS_Lab_3/train/images/autosave16_10_2012_06_47_37_2_jpg.rf.95a4b851aab71c7d2147fc1678ae876e.jpg  \n",
            " extracting: /content/OIVIS_Lab_3/train/images/autosave16_10_2012_06_48_07_2_jpg.rf.93e3870e5b6af182969ffa0f46c91574.jpg  \n",
            " extracting: /content/OIVIS_Lab_3/train/images/autosave16_10_2012_06_48_08_3_jpg.rf.d463abe368943326db1791cdfd7e7646.jpg  \n",
            " extracting: /content/OIVIS_Lab_3/train/images/autosave16_10_2012_06_48_10_1_jpg.rf.de1cd4ca54cc85b804dcffb6ae2b6dee.jpg  \n",
            " extracting: /content/OIVIS_Lab_3/train/images/autosave16_10_2012_06_48_10_2_jpg.rf.8f7d98d2045b475c2717e808f3ffa8cc.jpg  \n",
            " extracting: /content/OIVIS_Lab_3/train/images/autosave16_10_2012_06_49_01_0_jpg.rf.7b395c3c83f4d88716e24f6a4fe43227.jpg  \n",
            " extracting: /content/OIVIS_Lab_3/train/images/autosave16_10_2012_06_49_05_2_jpg.rf.391a325af8a00968e3f672967f6724ee.jpg  \n",
            " extracting: /content/OIVIS_Lab_3/train/images/autosave16_10_2012_06_49_06_2_jpg.rf.43d6c05db4a324ea3252fe7e2f7f9e07.jpg  \n",
            " extracting: /content/OIVIS_Lab_3/train/images/autosave16_10_2012_06_49_06_3_jpg.rf.1b20806cc16f4a74a12a46a7a4ec19ec.jpg  \n",
            " extracting: /content/OIVIS_Lab_3/train/images/autosave16_10_2012_06_49_07_1_jpg.rf.6f8e6035a838a535eaed1a7d74e0a085.jpg  \n",
            " extracting: /content/OIVIS_Lab_3/train/images/autosave16_10_2012_06_49_46_0_jpg.rf.f416e155b4c0a003ce6741ccd9db56fd.jpg  \n",
            " extracting: /content/OIVIS_Lab_3/train/images/autosave16_10_2012_06_49_57_2_jpg.rf.23d538f3f4ee162ac2b243d3fb0a19f9.jpg  \n",
            " extracting: /content/OIVIS_Lab_3/train/images/autosave16_10_2012_06_50_12_0_jpg.rf.55822380b04daddc9e0db449972f8053.jpg  \n",
            " extracting: /content/OIVIS_Lab_3/train/images/autosave16_10_2012_06_50_12_3_jpg.rf.fddb40114009dae486aea47b775c111f.jpg  \n",
            " extracting: /content/OIVIS_Lab_3/train/images/autosave16_10_2012_06_50_26_0_jpg.rf.4b1e9f0586641a3f291729c919ad5695.jpg  \n",
            " extracting: /content/OIVIS_Lab_3/train/images/autosave16_10_2012_06_50_50_0_jpg.rf.895d3bddaa9b293909e5c89de3cd247e.jpg  \n",
            " extracting: /content/OIVIS_Lab_3/train/images/autosave16_10_2012_06_50_50_2_jpg.rf.ee372a447b83d07bc6d6a93e8de6f502.jpg  \n",
            " extracting: /content/OIVIS_Lab_3/train/images/autosave16_10_2012_06_51_39_2_jpg.rf.45b83f437c7664b52c34a5f891e2bf34.jpg  \n",
            " extracting: /content/OIVIS_Lab_3/train/images/autosave16_10_2012_06_51_44_0_jpg.rf.f9b4ef1bcd1704124e34e73cb2b095bf.jpg  \n",
            " extracting: /content/OIVIS_Lab_3/train/images/autosave16_10_2012_06_51_46_1_jpg.rf.02e26264b9aecc03718c8a64e31011ef.jpg  \n",
            " extracting: /content/OIVIS_Lab_3/train/images/autosave16_10_2012_06_51_54_0_jpg.rf.4f5959bfe7e1ab2df8986f1dfe6317b6.jpg  \n",
            " extracting: /content/OIVIS_Lab_3/train/images/autosave16_10_2012_06_51_58_3_jpg.rf.d809c39d1b8c8305d7ed73becc8946d0.jpg  \n",
            " extracting: /content/OIVIS_Lab_3/train/images/autosave16_10_2012_06_52_14_1_jpg.rf.c0f247cb7c967a8aab100c5c4179306c.jpg  \n",
            " extracting: /content/OIVIS_Lab_3/train/images/autosave16_10_2012_06_52_19_2_jpg.rf.76c76c0e64a88180d7d386d07396fb4a.jpg  \n",
            " extracting: /content/OIVIS_Lab_3/train/images/autosave16_10_2012_06_52_25_0_jpg.rf.32ae7515e2a5c4e6b3242bc40be7922b.jpg  \n",
            " extracting: /content/OIVIS_Lab_3/train/images/autosave16_10_2012_06_52_25_1_jpg.rf.ac3b22b92b10f86dcc2c4de04a1dd91b.jpg  \n",
            " extracting: /content/OIVIS_Lab_3/train/images/autosave16_10_2012_06_52_32_1_jpg.rf.366bd4b517607a173f9d06fd091fc75c.jpg  \n",
            " extracting: /content/OIVIS_Lab_3/train/images/autosave16_10_2012_06_52_38_0_jpg.rf.01e04e0db5bc2e743de67ff93f74a0cf.jpg  \n",
            " extracting: /content/OIVIS_Lab_3/train/images/autosave16_10_2012_06_52_38_2_jpg.rf.5fd51c679e28bb93b01aa7201570aa3a.jpg  \n",
            " extracting: /content/OIVIS_Lab_3/train/images/autosave16_10_2012_06_52_45_2_jpg.rf.930984ded77c0cf481ad8e0b69da2923.jpg  \n",
            " extracting: /content/OIVIS_Lab_3/train/images/autosave16_10_2012_06_52_45_3_jpg.rf.87c16ade6f63b1e227ff2aa3a88939b5.jpg  \n",
            " extracting: /content/OIVIS_Lab_3/train/images/autosave16_10_2012_06_52_47_1_jpg.rf.cc8e87190959ef500453691972416488.jpg  \n",
            " extracting: /content/OIVIS_Lab_3/train/images/autosave16_10_2012_06_52_48_2_jpg.rf.538818363f57fa513b3e0cf8c576e91c.jpg  \n",
            " extracting: /content/OIVIS_Lab_3/train/images/autosave16_10_2012_06_52_50_2_jpg.rf.ff605cd5a113efa807a78e9882a12ecd.jpg  \n",
            " extracting: /content/OIVIS_Lab_3/train/images/autosave16_10_2012_06_52_51_2_jpg.rf.fed8a4c042b5771d8d788a97259e2874.jpg  \n",
            " extracting: /content/OIVIS_Lab_3/train/images/autosave16_10_2012_06_52_52_1_jpg.rf.1da1bc1a892b0ff7e0a381f9741aa2c8.jpg  \n",
            " extracting: /content/OIVIS_Lab_3/train/images/autosave16_10_2012_06_52_58_2_jpg.rf.114c5961a41d2d991a6bef53f48e33b0.jpg  \n",
            " extracting: /content/OIVIS_Lab_3/train/images/autosave16_10_2012_06_52_59_2_jpg.rf.676c0582b0fa4c849c37a9a624e073ad.jpg  \n",
            " extracting: /content/OIVIS_Lab_3/train/images/autosave16_10_2012_06_53_00_3_jpg.rf.95379809d062edc988522cb918649614.jpg  \n",
            " extracting: /content/OIVIS_Lab_3/train/images/autosave16_10_2012_06_53_02_2_jpg.rf.da408e6c433dc5c4b96605f9285bc9e0.jpg  \n",
            " extracting: /content/OIVIS_Lab_3/train/images/autosave16_10_2012_06_53_02_3_jpg.rf.d226b7ac1117a5621c50739458a38f85.jpg  \n",
            " extracting: /content/OIVIS_Lab_3/train/images/autosave16_10_2012_06_53_05_1_jpg.rf.64d825df1f04b28235dd9867c6dfa2be.jpg  \n",
            " extracting: /content/OIVIS_Lab_3/train/images/autosave16_10_2012_06_53_05_2_jpg.rf.c4bf42b21725b7c5b79da9ca2f06d5d9.jpg  \n",
            " extracting: /content/OIVIS_Lab_3/train/images/autosave16_10_2012_06_53_07_2_jpg.rf.aa03fab90797fd9058c85ec39cd7296b.jpg  \n",
            " extracting: /content/OIVIS_Lab_3/train/images/autosave16_10_2012_06_53_14_3_jpg.rf.6bc89a5266e0ffa52a60a3968ef24361.jpg  \n",
            " extracting: /content/OIVIS_Lab_3/train/images/autosave16_10_2012_06_53_16_1_jpg.rf.d36e81855e87cb624c8b7a0a1cff70c6.jpg  \n",
            " extracting: /content/OIVIS_Lab_3/train/images/autosave16_10_2012_06_53_17_1_jpg.rf.57ad541ba6a9dc167c56b37847092fda.jpg  \n",
            " extracting: /content/OIVIS_Lab_3/train/images/autosave16_10_2012_06_53_22_2_jpg.rf.d1559a5795df68ea84515d1b0fb7f238.jpg  \n",
            " extracting: /content/OIVIS_Lab_3/train/images/autosave16_10_2012_06_53_25_1_jpg.rf.3bfcfb5ec1d02b303e01b895df8dc9f9.jpg  \n",
            " extracting: /content/OIVIS_Lab_3/train/images/autosave16_10_2012_06_53_25_2_jpg.rf.7b1b7a91be29e885d177a86b9ca73f48.jpg  \n",
            " extracting: /content/OIVIS_Lab_3/train/images/autosave16_10_2012_06_53_32_0_jpg.rf.11dfb2b3c33fc3f66e3f3c28a62d29ed.jpg  \n",
            " extracting: /content/OIVIS_Lab_3/train/images/autosave16_10_2012_06_53_32_1_jpg.rf.ad63aa9295f40b824c81be075d6bce2a.jpg  \n",
            " extracting: /content/OIVIS_Lab_3/train/images/autosave16_10_2012_06_53_33_2_jpg.rf.a375b05bfeee1b4b27617c08639e1bcc.jpg  \n",
            " extracting: /content/OIVIS_Lab_3/train/images/autosave16_10_2012_06_53_36_1_jpg.rf.fd201ed1153ee6eb3bbc94cee1705e8a.jpg  \n",
            " extracting: /content/OIVIS_Lab_3/train/images/autosave16_10_2012_06_53_38_1_jpg.rf.23c1e279fc5ac43a9bdfefd3b51d6a22.jpg  \n",
            " extracting: /content/OIVIS_Lab_3/train/images/autosave16_10_2012_06_53_41_2_jpg.rf.6b30f099d9797da099fcfae3b8f3de62.jpg  \n",
            " extracting: /content/OIVIS_Lab_3/train/images/autosave16_10_2012_06_53_42_1_jpg.rf.646ab73cbaf75823decd28caaf7c5c86.jpg  \n",
            " extracting: /content/OIVIS_Lab_3/train/images/autosave16_10_2012_06_53_44_1_jpg.rf.b187932dd6d512875b93b88fec2b98a9.jpg  \n",
            " extracting: /content/OIVIS_Lab_3/train/images/autosave16_10_2012_06_53_46_1_jpg.rf.f08b51d99f96135551f18f2055b5db22.jpg  \n",
            " extracting: /content/OIVIS_Lab_3/train/images/autosave16_10_2012_06_53_51_2_jpg.rf.337110e824518873c0a8c4511d1f7cef.jpg  \n",
            " extracting: /content/OIVIS_Lab_3/train/images/autosave16_10_2012_06_53_55_3_jpg.rf.a3fe79a754d611a4c13c6686f909dcb1.jpg  \n",
            " extracting: /content/OIVIS_Lab_3/train/images/autosave16_10_2012_06_54_07_0_jpg.rf.73fc9e5bd5e077b2e9dc78c1ca8ea94d.jpg  \n",
            " extracting: /content/OIVIS_Lab_3/train/images/autosave16_10_2012_06_54_57_0_jpg.rf.ca6ddfc89ccdb415ee4c35044e5179d2.jpg  \n",
            " extracting: /content/OIVIS_Lab_3/train/images/autosave16_10_2012_06_55_01_4_jpg.rf.c459785cdc07f4a8429dd3973247acda.jpg  \n",
            " extracting: /content/OIVIS_Lab_3/train/images/autosave16_10_2012_06_55_01_5_jpg.rf.e0492bfb845b21f7700a423caf615c80.jpg  \n",
            " extracting: /content/OIVIS_Lab_3/train/images/autosave16_10_2012_06_55_10_2_jpg.rf.080c7e9a30398cc99889d749f7861504.jpg  \n",
            " extracting: /content/OIVIS_Lab_3/train/images/autosave16_10_2012_06_55_17_3_jpg.rf.bd8ffdaa9ab56d1d32342e1d84827f83.jpg  \n",
            " extracting: /content/OIVIS_Lab_3/train/images/autosave16_10_2012_06_55_31_2_jpg.rf.1171db77a31cff9b78d1a0f4608a818f.jpg  \n",
            " extracting: /content/OIVIS_Lab_3/train/images/autosave16_10_2012_06_56_04_0_jpg.rf.18fb558b0da712949f62e3d43245992f.jpg  \n",
            " extracting: /content/OIVIS_Lab_3/train/images/autosave16_10_2012_06_56_04_1_jpg.rf.919ed3b4d83ac1ecf3a04b367fc7589d.jpg  \n",
            " extracting: /content/OIVIS_Lab_3/train/images/autosave16_10_2012_06_56_04_2_jpg.rf.3ae2de7bfc520ab91194cdd39839ad34.jpg  \n",
            " extracting: /content/OIVIS_Lab_3/train/images/autosave16_10_2012_06_56_06_5_jpg.rf.6004e9b26e1fd23648a8178b673be2fc.jpg  \n",
            " extracting: /content/OIVIS_Lab_3/train/images/autosave16_10_2012_07_07_49_0_jpg.rf.a11002c63d19216a8dba482b3bb54a4d.jpg  \n",
            " extracting: /content/OIVIS_Lab_3/train/images/autosave16_10_2012_07_08_00_0_jpg.rf.f07ccb3e2531d0a6af9f2120d8296210.jpg  \n",
            " extracting: /content/OIVIS_Lab_3/train/images/autosave16_10_2012_07_08_10_3_jpg.rf.6f23e49529721fcca578faec4550a459.jpg  \n",
            " extracting: /content/OIVIS_Lab_3/train/images/autosave16_10_2012_07_08_11_1_jpg.rf.f1364ab78e8832d3a0f4a79d210eefe8.jpg  \n",
            " extracting: /content/OIVIS_Lab_3/train/images/autosave16_10_2012_07_08_14_0_jpg.rf.03f243d31e5f26b37d20de0b5dd5e74c.jpg  \n",
            " extracting: /content/OIVIS_Lab_3/train/images/autosave16_10_2012_07_08_14_1_jpg.rf.8dc58a84b0d54a5edadc377195d20073.jpg  \n",
            " extracting: /content/OIVIS_Lab_3/train/images/autosave16_10_2012_07_08_14_3_jpg.rf.bc846fd417c292df8d70c65375991f35.jpg  \n",
            " extracting: /content/OIVIS_Lab_3/train/images/autosave16_10_2012_07_09_02_1_jpg.rf.84fea0037d0b128b9a9348686aeff040.jpg  \n",
            " extracting: /content/OIVIS_Lab_3/train/images/autosave16_10_2012_07_09_02_2_jpg.rf.61dc9eb5c5d94e4b5c72f3511abd5528.jpg  \n",
            " extracting: /content/OIVIS_Lab_3/train/images/autosave16_10_2012_07_09_05_2_jpg.rf.b81f462ec2d3958c910838c262efbc6c.jpg  \n",
            " extracting: /content/OIVIS_Lab_3/train/images/autosave16_10_2012_07_09_06_0_jpg.rf.5afacd968ad098d5fabf0d4301b3d8fa.jpg  \n",
            " extracting: /content/OIVIS_Lab_3/train/images/autosave16_10_2012_07_09_10_0_jpg.rf.3ee9fcd44c3ae486d0a57a86a9316f50.jpg  \n",
            " extracting: /content/OIVIS_Lab_3/train/images/autosave16_10_2012_07_09_18_0_jpg.rf.2a7957edf09e4f92b9eb9412e566d100.jpg  \n",
            " extracting: /content/OIVIS_Lab_3/train/images/autosave16_10_2012_07_09_21_2_jpg.rf.9f9222fb20cab21041e4c47a693586fb.jpg  \n",
            " extracting: /content/OIVIS_Lab_3/train/images/autosave16_10_2012_07_09_21_3_jpg.rf.6580e41852068df155e57a8244277f8f.jpg  \n",
            " extracting: /content/OIVIS_Lab_3/train/images/autosave16_10_2012_07_09_52_1_jpg.rf.9ef15f4474ecce8d67061b721d358192.jpg  \n",
            " extracting: /content/OIVIS_Lab_3/train/images/autosave16_10_2012_07_11_47_1_jpg.rf.9d150c8e5bc7bc7e579bf6c6eeae9405.jpg  \n",
            " extracting: /content/OIVIS_Lab_3/train/images/autosave16_10_2012_07_11_48_3_jpg.rf.8a792d024441dd757a4e309ee80b6778.jpg  \n",
            " extracting: /content/OIVIS_Lab_3/train/images/autosave16_10_2012_07_12_10_2_jpg.rf.60e7532c7bd23c8543d6c54c9945c04d.jpg  \n",
            " extracting: /content/OIVIS_Lab_3/train/images/autosave16_10_2012_07_12_16_1_jpg.rf.0f3a642b1fcbb6b0cabb9bcc2bbd180b.jpg  \n",
            " extracting: /content/OIVIS_Lab_3/train/images/autosave16_10_2012_07_12_18_0_jpg.rf.9699f159306d20919d66476cabd5fa7f.jpg  \n",
            " extracting: /content/OIVIS_Lab_3/train/images/autosave16_10_2012_07_12_34_2_jpg.rf.248b1480e7551b986cfc10ace7baced2.jpg  \n",
            " extracting: /content/OIVIS_Lab_3/train/images/autosave16_10_2012_07_12_42_0_jpg.rf.0623e557383da7b41315acaecd9ae41a.jpg  \n",
            " extracting: /content/OIVIS_Lab_3/train/images/autosave16_10_2012_07_12_52_0_jpg.rf.1a8c219c4b52dea4f9fdc485c71608ba.jpg  \n",
            " extracting: /content/OIVIS_Lab_3/train/images/autosave16_10_2012_07_13_01_1_jpg.rf.686f1c53b69ada486a6993607300a75a.jpg  \n",
            " extracting: /content/OIVIS_Lab_3/train/images/autosave16_10_2012_07_13_02_0_jpg.rf.7ad62885f5a792a44dd2af5a0cb90fda.jpg  \n",
            " extracting: /content/OIVIS_Lab_3/train/images/autosave16_10_2012_07_13_10_3_jpg.rf.7fcd571afcad89e0394ff94ada4cd461.jpg  \n",
            " extracting: /content/OIVIS_Lab_3/train/images/autosave16_10_2012_07_15_08_3_jpg.rf.0135f1e1b5877e971386129e2cdd618b.jpg  \n",
            " extracting: /content/OIVIS_Lab_3/train/images/autosave16_10_2012_07_15_14_0_jpg.rf.ce797f6517f26fc230956a44e7d496a4.jpg  \n",
            " extracting: /content/OIVIS_Lab_3/train/images/autosave16_10_2012_07_15_14_2_jpg.rf.e6ba74288def20046758815fc6943af2.jpg  \n",
            " extracting: /content/OIVIS_Lab_3/train/images/autosave16_10_2012_07_15_47_2_jpg.rf.906c694cdbb9487339ccf5d6f732e3ae.jpg  \n",
            " extracting: /content/OIVIS_Lab_3/train/images/autosave16_10_2012_07_16_02_0_jpg.rf.9c047f46bd73c87f80cdf17d0ca28e63.jpg  \n",
            " extracting: /content/OIVIS_Lab_3/train/images/autosave16_10_2012_07_16_12_0_jpg.rf.f903b363d75f813e4088c7e5de1babe4.jpg  \n",
            " extracting: /content/OIVIS_Lab_3/train/images/autosave16_10_2012_07_16_12_2_jpg.rf.81779b2e176c67567284c6db04904a12.jpg  \n",
            " extracting: /content/OIVIS_Lab_3/train/images/autosave16_10_2012_07_16_13_2_jpg.rf.5ded2fc286f94588462dbe0a82ffa1c5.jpg  \n",
            " extracting: /content/OIVIS_Lab_3/train/images/autosave16_10_2012_07_16_20_1_jpg.rf.1681eacefbe1d99d8bd22161d6e9c91b.jpg  \n",
            " extracting: /content/OIVIS_Lab_3/train/images/autosave16_10_2012_07_16_20_2_jpg.rf.0d0f56fe8d52fd3c1648f384b39ea7e3.jpg  \n",
            " extracting: /content/OIVIS_Lab_3/train/images/autosave16_10_2012_07_16_22_3_jpg.rf.a7259a5664d3a68d7af2a07e1152cf97.jpg  \n",
            " extracting: /content/OIVIS_Lab_3/train/images/autosave16_10_2012_07_16_58_2_jpg.rf.273b262610ab933714dbbf8148695995.jpg  \n",
            " extracting: /content/OIVIS_Lab_3/train/images/autosave16_10_2012_07_16_59_1_jpg.rf.6338da54e83cb60f1bf523cb9228bc00.jpg  \n",
            " extracting: /content/OIVIS_Lab_3/train/images/autosave16_10_2012_07_17_22_1_jpg.rf.af6b816675d87fcf060379f1a8013cf5.jpg  \n",
            " extracting: /content/OIVIS_Lab_3/train/images/autosave16_10_2012_07_17_22_2_jpg.rf.f0160ff4ac145fe2eb64175319fc9be0.jpg  \n",
            " extracting: /content/OIVIS_Lab_3/train/images/autosave16_10_2012_07_17_23_1_jpg.rf.1f95ebe08c6c4c34b9c05de02666e3a3.jpg  \n",
            " extracting: /content/OIVIS_Lab_3/train/images/autosave16_10_2012_07_17_23_2_jpg.rf.1d7e43cf50e160a4eaef439cbf7845d3.jpg  \n",
            " extracting: /content/OIVIS_Lab_3/train/images/autosave16_10_2012_07_17_33_1_jpg.rf.11c8140372f4f7ec482cc2a71eda39c9.jpg  \n",
            " extracting: /content/OIVIS_Lab_3/train/images/autosave16_10_2012_07_17_38_2_jpg.rf.0e6848781008841500de8110fb653d2c.jpg  \n",
            " extracting: /content/OIVIS_Lab_3/train/images/autosave16_10_2012_07_17_39_3_jpg.rf.c302a66cef02d685aff5a0789c1e355a.jpg  \n",
            " extracting: /content/OIVIS_Lab_3/train/images/autosave16_10_2012_07_17_45_1_jpg.rf.b4fc80887cbb9c6257e684ed327e8bc0.jpg  \n",
            " extracting: /content/OIVIS_Lab_3/train/images/autosave16_10_2012_07_17_45_3_jpg.rf.069dc7bbfce89709c08d93db29ab1dd3.jpg  \n",
            " extracting: /content/OIVIS_Lab_3/train/images/autosave16_10_2012_07_17_54_3_jpg.rf.035d75d8f28493bd38d662c2929f0ddb.jpg  \n",
            " extracting: /content/OIVIS_Lab_3/train/images/autosave16_10_2012_07_18_24_3_jpg.rf.332e72d7a36dd4a4efaa26018c092273.jpg  \n",
            " extracting: /content/OIVIS_Lab_3/train/images/autosave16_10_2012_07_18_27_1_jpg.rf.7aabb0ae0c15392870978f75c0255dfe.jpg  \n",
            " extracting: /content/OIVIS_Lab_3/train/images/autosave16_10_2012_07_19_36_0_jpg.rf.b9fb29c8a03e5f01fe96a8e2edf45ecc.jpg  \n",
            " extracting: /content/OIVIS_Lab_3/train/images/autosave16_10_2012_07_19_45_1_jpg.rf.6342e02f15ff1cda6550ed52a1465b5a.jpg  \n",
            " extracting: /content/OIVIS_Lab_3/train/images/autosave16_10_2012_07_19_45_2_jpg.rf.ae8280086a0d2d4a5f9c96ca73300e43.jpg  \n",
            " extracting: /content/OIVIS_Lab_3/train/images/autosave16_10_2012_07_20_24_2_jpg.rf.ec261db8373d9b60c8a3b86b1ecce3e9.jpg  \n",
            " extracting: /content/OIVIS_Lab_3/train/images/autosave16_10_2012_07_20_25_1_jpg.rf.ac16875ecb7bab3a4013439de91a8bdd.jpg  \n",
            " extracting: /content/OIVIS_Lab_3/train/images/autosave16_10_2012_08_01_54_1_jpg.rf.0749911733ed7a803d311390c5c11340.jpg  \n",
            " extracting: /content/OIVIS_Lab_3/train/images/autosave16_10_2012_08_02_05_4_jpg.rf.e10167b65e711b02605d1317338ec8f5.jpg  \n",
            " extracting: /content/OIVIS_Lab_3/train/images/autosave16_10_2012_08_02_22_3_jpg.rf.e81de0a2a115da5dd68c36ec64c69430.jpg  \n",
            " extracting: /content/OIVIS_Lab_3/train/images/autosave16_10_2012_08_02_36_3_jpg.rf.8198dac10fa83ce9de551e98e2f75449.jpg  \n",
            " extracting: /content/OIVIS_Lab_3/train/images/autosave16_10_2012_08_02_59_0_jpg.rf.681f03dab66d90bd32e91da14e7ac89a.jpg  \n",
            " extracting: /content/OIVIS_Lab_3/train/images/autosave16_10_2012_08_03_00_0_jpg.rf.c7a7b41b34df0afd4408312593877518.jpg  \n",
            " extracting: /content/OIVIS_Lab_3/train/images/autosave16_10_2012_08_03_12_2_jpg.rf.2ee06513b62337592951acccab420992.jpg  \n",
            " extracting: /content/OIVIS_Lab_3/train/images/autosave16_10_2012_08_03_32_2_jpg.rf.63282f5dcdcc1cd71df0672fcb07d1a8.jpg  \n",
            " extracting: /content/OIVIS_Lab_3/train/images/autosave16_10_2012_08_03_35_0_jpg.rf.f6cc51640f3766cf833162db4338de93.jpg  \n",
            " extracting: /content/OIVIS_Lab_3/train/images/autosave16_10_2012_08_03_43_2_jpg.rf.4d29a0fd26f51053d098233ab092b7d4.jpg  \n",
            " extracting: /content/OIVIS_Lab_3/train/images/autosave16_10_2012_08_03_52_2_jpg.rf.31e594785424828a90b111ba8bb4cea0.jpg  \n",
            " extracting: /content/OIVIS_Lab_3/train/images/autosave16_10_2012_08_03_53_0_jpg.rf.987e0db6bd2bb064424c871bdac5ffaf.jpg  \n",
            " extracting: /content/OIVIS_Lab_3/train/images/autosave16_10_2012_08_03_57_2_jpg.rf.6f3cebefe7c2fbb5bae57aaa51118f6e.jpg  \n",
            " extracting: /content/OIVIS_Lab_3/train/images/autosave16_10_2012_08_03_57_3_jpg.rf.ae2a7222281af55b65573ef58db1d431.jpg  \n",
            " extracting: /content/OIVIS_Lab_3/train/images/autosave16_10_2012_08_03_58_0_jpg.rf.b052600cdb3ddf79197e3a8359cd267b.jpg  \n",
            " extracting: /content/OIVIS_Lab_3/train/images/autosave16_10_2012_08_04_11_4_jpg.rf.74b9789fde43e18f2ebb4b675697842c.jpg  \n",
            " extracting: /content/OIVIS_Lab_3/train/images/autosave16_10_2012_08_04_34_1_jpg.rf.24cf160e50d8fb032beff8cb343f08f2.jpg  \n",
            " extracting: /content/OIVIS_Lab_3/train/images/autosave16_10_2012_08_04_34_5_jpg.rf.9e2b1fbe2578d34db44ce9258346e2e0.jpg  \n",
            " extracting: /content/OIVIS_Lab_3/train/images/autosave16_10_2012_08_09_57_5_jpg.rf.c30b982dd7379f760152d94ff93164f6.jpg  \n",
            " extracting: /content/OIVIS_Lab_3/train/images/autosave16_10_2012_08_10_13_2_jpg.rf.9b93d168d99e461299c9cb0102516e59.jpg  \n",
            " extracting: /content/OIVIS_Lab_3/train/images/autosave16_10_2012_08_10_13_3_jpg.rf.4f78d8fee2fc376abd1367b24f0b4813.jpg  \n",
            " extracting: /content/OIVIS_Lab_3/train/images/autosave16_10_2012_08_10_15_0_jpg.rf.812cc15525cdc3a7a43647fa753d097e.jpg  \n",
            " extracting: /content/OIVIS_Lab_3/train/images/autosave16_10_2012_08_10_28_1_jpg.rf.2293c9eac01a6b618bb9f65bde750f1b.jpg  \n",
            " extracting: /content/OIVIS_Lab_3/train/images/autosave16_10_2012_08_10_28_2_jpg.rf.37e4ba3d83f306da34b00ff2e5a7c7c1.jpg  \n",
            " extracting: /content/OIVIS_Lab_3/train/images/autosave16_10_2012_08_10_29_0_jpg.rf.70f4e0db981860ca5b5f14b8dd1685b1.jpg  \n",
            " extracting: /content/OIVIS_Lab_3/train/images/autosave16_10_2012_08_10_31_2_jpg.rf.6f29e5cea4d7ff25101b0c5b0b9970dd.jpg  \n",
            " extracting: /content/OIVIS_Lab_3/train/images/autosave16_10_2012_08_10_33_0_jpg.rf.e6ea8b296eb1a9c290762ebfb32c0ab3.jpg  \n",
            " extracting: /content/OIVIS_Lab_3/train/images/autosave16_10_2012_08_10_50_2_jpg.rf.667d9b38a581e9cd81305c1824ad4802.jpg  \n",
            " extracting: /content/OIVIS_Lab_3/train/images/autosave16_10_2012_08_11_12_2_jpg.rf.dcb061fc01e537da20383cbcacc57798.jpg  \n",
            " extracting: /content/OIVIS_Lab_3/train/images/autosave16_10_2012_08_11_33_0_jpg.rf.393a4effb7c8abc65185b0353ad7305b.jpg  \n",
            " extracting: /content/OIVIS_Lab_3/train/images/autosave16_10_2012_08_11_33_2_jpg.rf.01771ac7d054debe96e3455db3302058.jpg  \n",
            " extracting: /content/OIVIS_Lab_3/train/images/autosave16_10_2012_08_12_09_0_jpg.rf.2bd3a3e911d0d2a9a33e7f6ebc687a34.jpg  \n",
            " extracting: /content/OIVIS_Lab_3/train/images/autosave16_10_2012_08_12_22_0_jpg.rf.6f6281173cfe549524f7336c901972f3.jpg  \n",
            " extracting: /content/OIVIS_Lab_3/train/images/autosave16_10_2012_08_13_15_1_jpg.rf.7651c504cea18819e138d185cfb689c0.jpg  \n",
            " extracting: /content/OIVIS_Lab_3/train/images/autosave16_10_2012_08_13_58_2_jpg.rf.7832e74971ec66c721c9419d0b031ae1.jpg  \n",
            " extracting: /content/OIVIS_Lab_3/train/images/autosave16_10_2012_08_13_58_3_jpg.rf.2359ab8a945ea2a428e94ff446d9d4c3.jpg  \n",
            " extracting: /content/OIVIS_Lab_3/train/images/autosave16_10_2012_08_14_28_1_jpg.rf.519e09079d373210b32f28c340a04a6e.jpg  \n",
            " extracting: /content/OIVIS_Lab_3/train/images/autosave16_10_2012_08_14_32_5_jpg.rf.96ccdade8825bea015c90ab99df53a76.jpg  \n",
            " extracting: /content/OIVIS_Lab_3/train/images/autosave16_10_2012_08_14_36_1_jpg.rf.9fc08487fe8477f1e94e769a89b0ab40.jpg  \n",
            " extracting: /content/OIVIS_Lab_3/train/images/autosave16_10_2012_08_15_04_3_jpg.rf.b2dd1d146aca64e2e58a4260d693f1cc.jpg  \n",
            " extracting: /content/OIVIS_Lab_3/train/images/autosave16_10_2012_08_15_04_5_jpg.rf.b4361f90be2981f42a0898392de25216.jpg  \n",
            " extracting: /content/OIVIS_Lab_3/train/images/autosave16_10_2012_08_15_06_2_jpg.rf.1803bf7a0ad654c013d049fc04f37368.jpg  \n",
            " extracting: /content/OIVIS_Lab_3/train/images/autosave16_10_2012_08_15_08_0_jpg.rf.ef6beff506e5b2d511cdb9062387085d.jpg  \n",
            " extracting: /content/OIVIS_Lab_3/train/images/autosave16_10_2012_08_15_10_0_jpg.rf.61424158f77b22ab26bc50b42b9fb754.jpg  \n",
            " extracting: /content/OIVIS_Lab_3/train/images/autosave16_10_2012_08_16_58_5_jpg.rf.e25cf621c3c8c8dc3293f897df09beac.jpg  \n",
            " extracting: /content/OIVIS_Lab_3/train/images/autosave16_10_2012_08_17_05_2_jpg.rf.a7c0b6db36388d32b366ccb51aaf3224.jpg  \n",
            " extracting: /content/OIVIS_Lab_3/train/images/autosave16_10_2012_08_17_05_5_jpg.rf.a3a8ac0d696fa02939e62d419d6fd73d.jpg  \n",
            " extracting: /content/OIVIS_Lab_3/train/images/autosave16_10_2012_08_20_24_4_jpg.rf.c518a47ec9bfc24c6cfdc66b32ff96d4.jpg  \n",
            " extracting: /content/OIVIS_Lab_3/train/images/autosave16_10_2012_08_20_24_5_jpg.rf.4067aa39b2693180c3b0cf7e998b9962.jpg  \n",
            " extracting: /content/OIVIS_Lab_3/train/images/autosave16_10_2012_08_20_26_2_jpg.rf.bd84cdb102ea454ea7ead0017e67f053.jpg  \n",
            " extracting: /content/OIVIS_Lab_3/train/images/autosave16_10_2012_08_20_28_4_jpg.rf.8b46d21bc77e173267c239000ef2b9ad.jpg  \n",
            " extracting: /content/OIVIS_Lab_3/train/images/autosave16_10_2012_08_20_30_0_jpg.rf.ae95e79689135e77d8907e8a0d25263a.jpg  \n",
            " extracting: /content/OIVIS_Lab_3/train/images/autosave16_10_2012_08_20_30_2_jpg.rf.3ac7d36a44c8f1acd8213fe7e098f5a1.jpg  \n",
            " extracting: /content/OIVIS_Lab_3/train/images/autosave16_10_2012_08_21_00_1_jpg.rf.a73e3ff1d0ab9d10fa6fa5ad996d4e00.jpg  \n",
            " extracting: /content/OIVIS_Lab_3/train/images/autosave16_10_2012_08_21_04_5_jpg.rf.b07eb46a1741a4797f19c90333e685e2.jpg  \n",
            " extracting: /content/OIVIS_Lab_3/train/images/autosave16_10_2012_08_21_08_1_jpg.rf.d5ab1dd0ef80467b63e3ba8edcb07e31.jpg  \n",
            " extracting: /content/OIVIS_Lab_3/train/images/autosave16_10_2012_08_22_33_0_jpg.rf.5221f26124b523ac5ee51b36c3139bee.jpg  \n",
            " extracting: /content/OIVIS_Lab_3/train/images/autosave16_10_2012_08_22_35_4_jpg.rf.f0fa9353d9fc4f5caf4c31199cf655a9.jpg  \n",
            " extracting: /content/OIVIS_Lab_3/train/images/autosave16_10_2012_08_22_51_1_jpg.rf.adcd481c35818a2e664143935c57662c.jpg  \n",
            " extracting: /content/OIVIS_Lab_3/train/images/autosave16_10_2012_08_22_53_0_jpg.rf.b8668ced55e4bf8214436512d5fb7815.jpg  \n",
            " extracting: /content/OIVIS_Lab_3/train/images/autosave16_10_2012_08_23_49_5_jpg.rf.7088660b7aa8602d30229c59c06ab7bc.jpg  \n",
            " extracting: /content/OIVIS_Lab_3/train/images/autosave16_10_2012_08_23_58_0_jpg.rf.966139bc5805a904f636538da2ee0088.jpg  \n",
            " extracting: /content/OIVIS_Lab_3/train/images/autosave16_10_2012_08_24_45_1_jpg.rf.71e13f440032514f4a745830e7d25ed0.jpg  \n",
            " extracting: /content/OIVIS_Lab_3/train/images/autosave16_10_2012_08_24_45_2_jpg.rf.2044635e2624fac27a062d97099819c9.jpg  \n",
            " extracting: /content/OIVIS_Lab_3/train/images/autosave16_10_2012_08_24_53_5_jpg.rf.8c1af46bfdcc888385506911913aedad.jpg  \n",
            " extracting: /content/OIVIS_Lab_3/train/images/autosave16_10_2012_08_25_16_1_jpg.rf.f8c6a5ae4870d016ed671fb225c8e0ac.jpg  \n",
            " extracting: /content/OIVIS_Lab_3/train/images/autosave16_10_2012_08_26_57_0_jpg.rf.cb4f44022b7c20ef9ed52081a9fa0e7a.jpg  \n",
            " extracting: /content/OIVIS_Lab_3/train/images/autosave16_10_2012_08_28_09_3_jpg.rf.c96e28d79453f313fd1e22fc6201d7f7.jpg  \n",
            " extracting: /content/OIVIS_Lab_3/train/images/autosave16_10_2012_08_28_20_5_jpg.rf.853d89a165d6b1d37b4ad3c0520054e3.jpg  \n",
            " extracting: /content/OIVIS_Lab_3/train/images/autosave16_10_2012_08_28_24_1_jpg.rf.cd76aefc665a3ecd80dcef8b3608caf3.jpg  \n",
            " extracting: /content/OIVIS_Lab_3/train/images/autosave16_10_2012_08_28_28_0_jpg.rf.64cd705a23d2d6923a55e73de68b29fa.jpg  \n",
            " extracting: /content/OIVIS_Lab_3/train/images/autosave16_10_2012_08_29_37_2_jpg.rf.316ec9fcc97d1040f2650fdeb99b361a.jpg  \n",
            " extracting: /content/OIVIS_Lab_3/train/images/autosave16_10_2012_08_31_21_2_jpg.rf.c77e74b71c69e61d55d8336f487908f6.jpg  \n",
            " extracting: /content/OIVIS_Lab_3/train/images/autosave16_10_2012_08_31_23_4_jpg.rf.2de187ec58526c77db07a519213de232.jpg  \n",
            " extracting: /content/OIVIS_Lab_3/train/images/autosave16_10_2012_08_31_25_3_jpg.rf.fcbf68f9e2819cd1a686dec087dd604b.jpg  \n",
            " extracting: /content/OIVIS_Lab_3/train/images/autosave16_10_2012_08_33_59_3_jpg.rf.9797ceca9275cea6eb30157c4fd2947b.jpg  \n",
            " extracting: /content/OIVIS_Lab_3/train/images/autosave16_10_2012_08_33_59_5_jpg.rf.efabe7be263f1533e45c7aee457ba9b4.jpg  \n",
            " extracting: /content/OIVIS_Lab_3/train/images/autosave16_10_2012_08_34_29_2_jpg.rf.d47aec9149a391206d19b355ae818ffd.jpg  \n",
            " extracting: /content/OIVIS_Lab_3/train/images/autosave16_10_2012_08_34_45_1_jpg.rf.ad6a1cb5a2cfb8e86d8290172e4c9c37.jpg  \n",
            " extracting: /content/OIVIS_Lab_3/train/images/autosave16_10_2012_08_34_45_3_jpg.rf.fb9dc05fc67ac0a573be6711fae4a908.jpg  \n",
            " extracting: /content/OIVIS_Lab_3/train/images/autosave16_10_2012_08_34_47_0_jpg.rf.9f0f43f2c952083329cead18020c0487.jpg  \n",
            " extracting: /content/OIVIS_Lab_3/train/images/autosave16_10_2012_08_34_56_1_jpg.rf.fdc8198bf5d45b6e865b20a1dc105cfe.jpg  \n",
            " extracting: /content/OIVIS_Lab_3/train/images/autosave16_10_2012_08_35_12_0_jpg.rf.420d9e9ab1e66a522e864111d7505d62.jpg  \n",
            " extracting: /content/OIVIS_Lab_3/train/images/autosave16_10_2012_08_35_16_2_jpg.rf.aed4acdc6bf14113c318b40976a86555.jpg  \n",
            " extracting: /content/OIVIS_Lab_3/train/images/autosave16_10_2012_08_35_18_4_jpg.rf.b222fbcf1ccde5b479b1992de6726b0b.jpg  \n",
            " extracting: /content/OIVIS_Lab_3/train/images/autosave16_10_2012_08_35_20_0_jpg.rf.2f7c3cf928a26c53dd8bcfaef19d4cf0.jpg  \n",
            " extracting: /content/OIVIS_Lab_3/train/images/autosave16_10_2012_08_35_23_1_jpg.rf.897343227452439e8e345b179b362b0a.jpg  \n",
            " extracting: /content/OIVIS_Lab_3/train/images/autosave16_10_2012_08_35_43_5_jpg.rf.430e21f1e3b6cde7b2dbcdfe7b5502c2.jpg  \n",
            " extracting: /content/OIVIS_Lab_3/train/images/autosave16_10_2012_08_35_45_0_jpg.rf.a0815340645078261226169c163b3c2f.jpg  \n",
            " extracting: /content/OIVIS_Lab_3/train/images/autosave16_10_2012_08_35_51_0_jpg.rf.97de4ba7ab98e0d1ae3f0880685202b6.jpg  \n",
            " extracting: /content/OIVIS_Lab_3/train/images/autosave16_10_2012_08_36_09_5_jpg.rf.49df5606d8b23c1ef8259c1adfb728b0.jpg  \n",
            " extracting: /content/OIVIS_Lab_3/train/images/autosave16_10_2012_08_36_15_2_jpg.rf.d9d863604514f2fa4c605a54589febcf.jpg  \n",
            " extracting: /content/OIVIS_Lab_3/train/images/autosave16_10_2012_08_38_31_2_jpg.rf.19cb1935fb09e94e6efadc7259448e42.jpg  \n",
            " extracting: /content/OIVIS_Lab_3/train/images/autosave16_10_2012_08_39_45_1_jpg.rf.7836912c8f13394a691d9e8470c129e8.jpg  \n",
            " extracting: /content/OIVIS_Lab_3/train/images/autosave16_10_2012_08_39_46_1_jpg.rf.29d081d61323a04df81fa8dbb41561bb.jpg  \n",
            " extracting: /content/OIVIS_Lab_3/train/images/autosave16_10_2012_08_39_51_2_jpg.rf.39e7a992998789c660ec573548e4659c.jpg  \n",
            " extracting: /content/OIVIS_Lab_3/train/images/autosave16_10_2012_08_40_44_3_jpg.rf.54695f641bc468ab42adfc9527b5c173.jpg  \n",
            " extracting: /content/OIVIS_Lab_3/train/images/autosave16_10_2012_08_41_08_3_jpg.rf.801901665c805e335109b0789fda452c.jpg  \n",
            " extracting: /content/OIVIS_Lab_3/train/images/autosave16_10_2012_08_41_16_4_jpg.rf.902cb267a9b32f5c58c608ba8543298e.jpg  \n",
            " extracting: /content/OIVIS_Lab_3/train/images/autosave16_10_2012_08_41_49_1_jpg.rf.233e69945f442428095716c6c8341143.jpg  \n",
            " extracting: /content/OIVIS_Lab_3/train/images/autosave16_10_2012_08_44_17_3_jpg.rf.e650285757324c22b3a0f517da33f39a.jpg  \n",
            " extracting: /content/OIVIS_Lab_3/train/images/autosave16_10_2012_08_44_23_0_jpg.rf.2d8dec32ea9211cfba42e7ccd36ce420.jpg  \n",
            " extracting: /content/OIVIS_Lab_3/train/images/autosave16_10_2012_08_44_26_1_jpg.rf.104ae5fef6daff67c0d07cc91c0933e3.jpg  \n",
            " extracting: /content/OIVIS_Lab_3/train/images/autosave16_10_2012_08_44_47_3_jpg.rf.918a2871d4fc47e4eebb17cc15f99bff.jpg  \n",
            " extracting: /content/OIVIS_Lab_3/train/images/autosave16_10_2012_08_44_49_2_jpg.rf.2150443cc1c7970bfa30e253095dcbb8.jpg  \n",
            " extracting: /content/OIVIS_Lab_3/train/images/autosave16_10_2012_08_45_15_2_jpg.rf.f227e1cc5269e84fc515535f5181ca2d.jpg  \n",
            " extracting: /content/OIVIS_Lab_3/train/images/autosave16_10_2012_08_46_25_4_jpg.rf.a5dd835f28b4de4ba93f5ddf3802e20b.jpg  \n",
            " extracting: /content/OIVIS_Lab_3/train/images/autosave16_10_2012_08_46_27_0_jpg.rf.843da7bda1b73c888d302deabef60ded.jpg  \n",
            " extracting: /content/OIVIS_Lab_3/train/images/autosave16_10_2012_08_46_29_0_jpg.rf.76b62bbc55cc30ea96eeecee2961a18f.jpg  \n",
            " extracting: /content/OIVIS_Lab_3/train/images/autosave16_10_2012_08_46_29_1_jpg.rf.ea0c40196efcc3ed851eb567ac619ce1.jpg  \n",
            " extracting: /content/OIVIS_Lab_3/train/images/autosave16_10_2012_08_46_31_0_jpg.rf.44f6bc1331a7e5e4713f89bdca6f1e6e.jpg  \n",
            " extracting: /content/OIVIS_Lab_3/train/images/autosave16_10_2012_08_46_42_0_jpg.rf.8a4478c01a02c857895d1ec3afbac1d7.jpg  \n",
            " extracting: /content/OIVIS_Lab_3/train/images/autosave16_10_2012_08_46_43_4_jpg.rf.590b0c23567c9bcd0c02af357471c710.jpg  \n",
            " extracting: /content/OIVIS_Lab_3/train/images/autosave16_10_2012_08_47_02_0_jpg.rf.dcbedaaa6de52f3ddc414c0fde06aa3f.jpg  \n",
            " extracting: /content/OIVIS_Lab_3/train/images/autosave16_10_2012_08_47_10_2_jpg.rf.8ab44241294bab25ed9333c83d1eb83e.jpg  \n",
            " extracting: /content/OIVIS_Lab_3/train/images/autosave16_10_2012_08_47_33_4_jpg.rf.4034622b8ed90827aea85846ce6ebb12.jpg  \n",
            " extracting: /content/OIVIS_Lab_3/train/images/autosave16_10_2012_08_47_39_1_jpg.rf.8aa4e1c16945eb1709941be6346a0f70.jpg  \n",
            " extracting: /content/OIVIS_Lab_3/train/images/autosave16_10_2012_08_47_52_1_jpg.rf.ad0ec8173624a49a3004bed98b2c965d.jpg  \n",
            " extracting: /content/OIVIS_Lab_3/train/images/autosave16_10_2012_08_47_52_5_jpg.rf.9b8c9ce0be3c031cb55e1cd2b92c81b9.jpg  \n",
            " extracting: /content/OIVIS_Lab_3/train/images/autosave16_10_2012_08_47_54_0_jpg.rf.b28ae44ddb9314dc34cd548be5317e5f.jpg  \n",
            " extracting: /content/OIVIS_Lab_3/train/images/autosave16_10_2012_08_48_22_0_jpg.rf.a0b2e5a87951978867bfd3fbe279fbad.jpg  \n",
            " extracting: /content/OIVIS_Lab_3/train/images/autosave16_10_2012_08_48_26_2_jpg.rf.674183d6a330bf82bc7961d980006f0a.jpg  \n",
            " extracting: /content/OIVIS_Lab_3/train/images/autosave16_10_2012_08_48_36_4_jpg.rf.5bdff99fc0dec42bc779560dfaf06bad.jpg  \n",
            " extracting: /content/OIVIS_Lab_3/train/images/autosave16_10_2012_08_48_43_0_jpg.rf.7710d2d10327b6aec6cb59c9831135d0.jpg  \n",
            " extracting: /content/OIVIS_Lab_3/train/images/autosave16_10_2012_08_48_43_2_jpg.rf.344f4b23f163d5d7b73b5e956dfff56a.jpg  \n",
            " extracting: /content/OIVIS_Lab_3/train/images/autosave16_10_2012_08_48_43_3_jpg.rf.dd9a47d39f67eab2bd4d449ab2b4cff9.jpg  \n",
            " extracting: /content/OIVIS_Lab_3/train/images/autosave16_10_2012_08_50_05_3_jpg.rf.45ef586cf94488299ad94afc7e5c20e4.jpg  \n",
            " extracting: /content/OIVIS_Lab_3/train/images/autosave16_10_2012_08_50_15_0_jpg.rf.b972fbffde9e455db5bf9d0eb5dfe18f.jpg  \n",
            " extracting: /content/OIVIS_Lab_3/train/images/autosave16_10_2012_08_50_16_0_jpg.rf.9d2bf6b80dc9aac31c091ffeb945ec4b.jpg  \n",
            " extracting: /content/OIVIS_Lab_3/train/images/autosave16_10_2012_08_50_30_2_jpg.rf.f52617867c8e7ecc10d2b84f472893db.jpg  \n",
            " extracting: /content/OIVIS_Lab_3/train/images/autosave16_10_2012_08_50_32_2_jpg.rf.e995af456bc1202a0a756d6ee3493ff9.jpg  \n",
            " extracting: /content/OIVIS_Lab_3/train/images/autosave16_10_2012_08_50_32_4_jpg.rf.27fa13fd9a1d26211b4f84ef3c785e24.jpg  \n",
            " extracting: /content/OIVIS_Lab_3/train/images/autosave16_10_2012_08_50_34_0_jpg.rf.692696955931ed1b2e0ae07a85e76d89.jpg  \n",
            " extracting: /content/OIVIS_Lab_3/train/images/autosave16_10_2012_08_50_34_4_jpg.rf.f75420a45a1a917e5f6382657979ed59.jpg  \n",
            " extracting: /content/OIVIS_Lab_3/train/images/autosave16_10_2012_08_51_00_1_jpg.rf.acdfc6983cd6c3e2dde8ef8d7a1763b5.jpg  \n",
            " extracting: /content/OIVIS_Lab_3/train/images/autosave16_10_2012_08_51_22_1_jpg.rf.0544f48b4a22538cdbe3f48fbe5383ab.jpg  \n",
            " extracting: /content/OIVIS_Lab_3/train/images/autosave16_10_2012_08_51_23_0_jpg.rf.7b690f662f3adaa4ac40312449e7b755.jpg  \n",
            " extracting: /content/OIVIS_Lab_3/train/images/autosave16_10_2012_08_51_56_0_jpg.rf.3b1a5a85888f6e9bafe8fcd86faea2a3.jpg  \n",
            " extracting: /content/OIVIS_Lab_3/train/images/autosave16_10_2012_08_52_27_0_jpg.rf.ba5cbc534aaad4aa32ef3cb7fc1fac94.jpg  \n",
            " extracting: /content/OIVIS_Lab_3/train/images/autosave16_10_2012_08_52_30_0_jpg.rf.433bcf067332e96840222be2eea4dbc6.jpg  \n",
            " extracting: /content/OIVIS_Lab_3/train/images/autosave16_10_2012_08_52_31_0_jpg.rf.7763c1bf187d836d01a555793153a3a0.jpg  \n",
            " extracting: /content/OIVIS_Lab_3/train/images/autosave16_10_2012_08_52_56_0_jpg.rf.51cf866d4a97f5a746ae869a65de3890.jpg  \n",
            " extracting: /content/OIVIS_Lab_3/train/images/autosave16_10_2012_08_53_03_0_jpg.rf.f580f7afd02ecdc6d67cfdd98578b7e0.jpg  \n",
            " extracting: /content/OIVIS_Lab_3/train/images/autosave16_10_2012_08_53_05_3_jpg.rf.358a769506dc311a3afdb09246366e1f.jpg  \n",
            " extracting: /content/OIVIS_Lab_3/train/images/autosave16_10_2012_08_53_15_3_jpg.rf.557f87d68fc65f7928ed977874893a35.jpg  \n",
            " extracting: /content/OIVIS_Lab_3/train/images/autosave16_10_2012_08_53_17_3_jpg.rf.ebd4837587e01402184c26adcf3a51b9.jpg  \n",
            " extracting: /content/OIVIS_Lab_3/train/images/autosave16_10_2012_08_53_41_0_jpg.rf.c590dfcd0ae8f90d50133461bcecbeb1.jpg  \n",
            " extracting: /content/OIVIS_Lab_3/train/images/autosave16_10_2012_08_53_42_0_jpg.rf.1d3d92735ba3f415fea1e8b8010caeaa.jpg  \n",
            " extracting: /content/OIVIS_Lab_3/train/images/autosave16_10_2012_08_58_10_0_jpg.rf.75cf56c7b69eb2e01e2a031415643482.jpg  \n",
            " extracting: /content/OIVIS_Lab_3/train/images/autosave16_10_2012_08_58_12_1_jpg.rf.cceab3479abcbd890898735e4ca7dd32.jpg  \n",
            " extracting: /content/OIVIS_Lab_3/train/images/autosave16_10_2012_08_58_12_3_jpg.rf.7cfb1ada08b081f6cd95864e3e81a8cb.jpg  \n",
            " extracting: /content/OIVIS_Lab_3/train/images/autosave16_10_2012_08_58_52_1_jpg.rf.73ce7f425f1bfd4b76390fafa5b90582.jpg  \n",
            " extracting: /content/OIVIS_Lab_3/train/images/autosave16_10_2012_08_58_52_3_jpg.rf.1678ca19467c9efb60a1af5a907d1d81.jpg  \n",
            " extracting: /content/OIVIS_Lab_3/train/images/autosave16_10_2012_08_59_17_4_jpg.rf.28af94085e27eb37e49e9ce0fbacbe13.jpg  \n",
            " extracting: /content/OIVIS_Lab_3/train/images/autosave16_10_2012_08_59_26_5_jpg.rf.1caf999cfc6769e7579267421b86d495.jpg  \n",
            " extracting: /content/OIVIS_Lab_3/train/images/autosave16_10_2012_08_59_28_1_jpg.rf.ac10c93f4ba11f72ccd963d1b8d038f2.jpg  \n",
            " extracting: /content/OIVIS_Lab_3/train/images/autosave16_10_2012_08_59_32_3_jpg.rf.5726ea9a12b9148c23bdbd91323c480f.jpg  \n",
            " extracting: /content/OIVIS_Lab_3/train/images/autosave16_10_2012_08_59_41_0_jpg.rf.18415f4915bf5816093caf1b05f0e082.jpg  \n",
            " extracting: /content/OIVIS_Lab_3/train/images/autosave16_10_2012_08_59_56_2_jpg.rf.c7b1f4e622b9073d71f53aac55485389.jpg  \n",
            " extracting: /content/OIVIS_Lab_3/train/images/autosave16_10_2012_08_59_57_1_jpg.rf.6264388e10c89432e2889b22ed3fc3ba.jpg  \n",
            " extracting: /content/OIVIS_Lab_3/train/images/autosave16_10_2012_09_00_11_0_jpg.rf.f6d73ac665299512046a10d0c33f3f57.jpg  \n",
            " extracting: /content/OIVIS_Lab_3/train/images/autosave16_10_2012_09_00_36_0_jpg.rf.d6c0d15c87a638390537fc6ea1f38f24.jpg  \n",
            " extracting: /content/OIVIS_Lab_3/train/images/autosave16_10_2012_09_00_36_3_jpg.rf.82a4f358ab36cae649ada01801f8d28f.jpg  \n",
            " extracting: /content/OIVIS_Lab_3/train/images/autosave16_10_2012_09_00_49_2_jpg.rf.350a33f31ef0262ba1318e605609e5bb.jpg  \n",
            " extracting: /content/OIVIS_Lab_3/train/images/autosave16_10_2012_09_00_51_3_jpg.rf.8c9a2a188351f90e3cd7e0b11a845e3e.jpg  \n",
            " extracting: /content/OIVIS_Lab_3/train/images/autosave16_10_2012_09_01_00_3_jpg.rf.c9d13d3bf05f7f526a602d5c2edb6211.jpg  \n",
            " extracting: /content/OIVIS_Lab_3/train/images/autosave16_10_2012_09_01_03_4_jpg.rf.5d68a042a08f5115836d07b4735eccb3.jpg  \n",
            " extracting: /content/OIVIS_Lab_3/train/images/autosave16_10_2012_09_01_31_3_jpg.rf.efeedf478831a013abe8e5db355b1763.jpg  \n",
            " extracting: /content/OIVIS_Lab_3/train/images/autosave16_10_2012_09_01_34_1_jpg.rf.bd2dd77cc0b1a369fefdb3968560ceb8.jpg  \n",
            " extracting: /content/OIVIS_Lab_3/train/images/autosave16_10_2012_09_01_34_3_jpg.rf.5e97e512841455a19d293bb2da2d6277.jpg  \n",
            " extracting: /content/OIVIS_Lab_3/train/images/autosave16_10_2012_09_02_19_1_jpg.rf.9b92b993c4c4053322305bacee5c2a37.jpg  \n",
            " extracting: /content/OIVIS_Lab_3/train/images/autosave16_10_2012_09_02_32_1_jpg.rf.477d7b4606bdddc6af163b0749eba6c2.jpg  \n",
            " extracting: /content/OIVIS_Lab_3/train/images/autosave16_10_2012_09_02_32_3_jpg.rf.54403019a309a39c9e57d3877cf4a30f.jpg  \n",
            " extracting: /content/OIVIS_Lab_3/train/images/autosave16_10_2012_09_02_34_0_jpg.rf.426ac9e00d6fbacea14a8802e757cd30.jpg  \n",
            " extracting: /content/OIVIS_Lab_3/train/images/autosave16_10_2012_09_02_37_1_jpg.rf.d77b66c1b953e3f759cdb0de2779e82c.jpg  \n",
            " extracting: /content/OIVIS_Lab_3/train/images/autosave16_10_2012_09_02_54_1_jpg.rf.e64b581918c93cfe93ba8257bfb17800.jpg  \n",
            " extracting: /content/OIVIS_Lab_3/train/images/autosave16_10_2012_09_02_55_3_jpg.rf.0a8fc4522621a5f111e2745d4397c027.jpg  \n",
            " extracting: /content/OIVIS_Lab_3/train/images/autosave16_10_2012_09_03_17_1_jpg.rf.3dd8497f6371b76c951418079a7d99be.jpg  \n",
            " extracting: /content/OIVIS_Lab_3/train/images/autosave16_10_2012_09_03_27_5_jpg.rf.c3ab2cf1116afc619d7bf163198eb680.jpg  \n",
            " extracting: /content/OIVIS_Lab_3/train/images/autosave16_10_2012_09_04_13_0_jpg.rf.4da6c44c28599a407017f4ddb0d9fe6d.jpg  \n",
            " extracting: /content/OIVIS_Lab_3/train/images/autosave16_10_2012_09_04_20_0_jpg.rf.0c56fb11bb4c60a735f5eac4dbbc76b0.jpg  \n",
            " extracting: /content/OIVIS_Lab_3/train/images/autosave16_10_2012_09_04_24_0_jpg.rf.da43d0a985ba038877a60716f7be1533.jpg  \n",
            " extracting: /content/OIVIS_Lab_3/train/images/autosave16_10_2012_09_04_47_4_jpg.rf.0a62f3d0028f00a2934d9faaab51c935.jpg  \n",
            " extracting: /content/OIVIS_Lab_3/train/images/autosave16_10_2012_09_05_56_1_jpg.rf.3bd095cb757e82e880f3882596e25376.jpg  \n",
            " extracting: /content/OIVIS_Lab_3/train/images/autosave16_10_2012_09_07_15_0_jpg.rf.fbc96e287d28f73df5b14d9a321fdf7b.jpg  \n",
            " extracting: /content/OIVIS_Lab_3/train/images/autosave16_10_2012_09_07_54_2_jpg.rf.19568e892233fcc0132f53f08611033c.jpg  \n",
            " extracting: /content/OIVIS_Lab_3/train/images/autosave16_10_2012_09_07_54_3_jpg.rf.17548bfa7666c66771e170572d135233.jpg  \n",
            " extracting: /content/OIVIS_Lab_3/train/images/autosave16_10_2012_09_08_37_3_jpg.rf.bc48656ecb54f67744defef7663b292b.jpg  \n",
            " extracting: /content/OIVIS_Lab_3/train/images/autosave16_10_2012_09_08_39_0_jpg.rf.b92ee3aa0648cc7f3b1b08c8bafa5ec3.jpg  \n",
            " extracting: /content/OIVIS_Lab_3/train/images/autosave16_10_2012_09_09_22_0_jpg.rf.307e9a048c1ad802fc9699f1bd1e984b.jpg  \n",
            " extracting: /content/OIVIS_Lab_3/train/images/autosave16_10_2012_09_09_22_3_jpg.rf.8f2b458b2dc5cdd00a8474dff4d4c37d.jpg  \n",
            " extracting: /content/OIVIS_Lab_3/train/images/autosave16_10_2012_09_09_58_0_jpg.rf.d7da15b7e870660160321be51c50b7b2.jpg  \n",
            " extracting: /content/OIVIS_Lab_3/train/images/autosave16_10_2012_09_10_00_1_jpg.rf.182d31209b19497958e36803ad58af10.jpg  \n",
            " extracting: /content/OIVIS_Lab_3/train/images/autosave16_10_2012_09_10_01_0_jpg.rf.5e3a834f99f357a4acc40d8c77600102.jpg  \n",
            " extracting: /content/OIVIS_Lab_3/train/images/autosave16_10_2012_09_10_20_0_jpg.rf.019f3e11c67f12af00cfbf71d1a0e137.jpg  \n",
            " extracting: /content/OIVIS_Lab_3/train/images/autosave16_10_2012_09_10_20_3_jpg.rf.32a523f4118a1e557f10ac8aab6e89dd.jpg  \n",
            " extracting: /content/OIVIS_Lab_3/train/images/autosave16_10_2012_09_10_25_1_jpg.rf.96c150dc21e7f96b6758e0d5b98693cb.jpg  \n",
            " extracting: /content/OIVIS_Lab_3/train/images/autosave16_10_2012_09_10_59_1_jpg.rf.b5d2bebbfa5f29cbc3f1f279abd82607.jpg  \n",
            " extracting: /content/OIVIS_Lab_3/train/images/autosave16_10_2012_09_31_37_5_jpg.rf.6f79b20d0c7b86a69a18eab63cc2ce07.jpg  \n",
            " extracting: /content/OIVIS_Lab_3/train/images/autosave16_10_2012_09_31_39_1_jpg.rf.36250feae52ed168bb808c285bba2838.jpg  \n",
            " extracting: /content/OIVIS_Lab_3/train/images/autosave16_10_2012_09_31_44_4_jpg.rf.46d1ec7d3dd06813138d585cce77a430.jpg  \n",
            " extracting: /content/OIVIS_Lab_3/train/images/autosave16_10_2012_09_31_48_1_jpg.rf.6e320b727fb035adb73673d5e1e88c66.jpg  \n",
            " extracting: /content/OIVIS_Lab_3/train/images/autosave16_10_2012_10_04_57_0_jpg.rf.f844de55cbbe71d48a7c7ef6c02104d4.jpg  \n",
            " extracting: /content/OIVIS_Lab_3/train/images/autosave16_10_2012_10_04_57_3_jpg.rf.e943304b3aed4ababcfcf1512f064652.jpg  \n",
            " extracting: /content/OIVIS_Lab_3/train/images/autosave16_10_2012_10_04_59_5_jpg.rf.9fe87e216b05cddc0f1ae91f868aae85.jpg  \n",
            " extracting: /content/OIVIS_Lab_3/train/images/autosave16_10_2012_10_07_02_3_jpg.rf.69ec8fbcb172404172e63e486ad62cc5.jpg  \n",
            " extracting: /content/OIVIS_Lab_3/train/images/autosave16_10_2012_10_07_04_0_jpg.rf.479cb3f6d0ac27be65f49502a121bb27.jpg  \n",
            " extracting: /content/OIVIS_Lab_3/train/images/autosave16_10_2012_10_07_39_2_jpg.rf.e954ab2b177ef2f47c792e1dda1e9adf.jpg  \n",
            " extracting: /content/OIVIS_Lab_3/train/images/autosave16_10_2012_10_08_28_1_jpg.rf.449f27738431e63c09cc636deada6eca.jpg  \n",
            " extracting: /content/OIVIS_Lab_3/train/images/autosave16_10_2012_10_08_29_0_jpg.rf.f1d41c3c5989aa28d44f90f37823f498.jpg  \n",
            " extracting: /content/OIVIS_Lab_3/train/images/autosave16_10_2012_10_08_37_1_jpg.rf.c3d9cd7500551f8878195f2bdf8ce565.jpg  \n",
            " extracting: /content/OIVIS_Lab_3/train/images/autosave16_10_2012_10_08_39_0_jpg.rf.7ac5ff4bd5f0d0054b9e2f45d264abf9.jpg  \n",
            " extracting: /content/OIVIS_Lab_3/train/images/autosave16_10_2012_10_08_39_1_jpg.rf.077a2e284cc8628157ebb79db25fd38b.jpg  \n",
            " extracting: /content/OIVIS_Lab_3/train/images/autosave16_10_2012_10_08_39_2_jpg.rf.9c5e2409f270ac30c344336f942ba3e9.jpg  \n",
            " extracting: /content/OIVIS_Lab_3/train/images/autosave16_10_2012_10_08_49_0_jpg.rf.63aa4cc0139b6f62dc7f7b184236eb2f.jpg  \n",
            " extracting: /content/OIVIS_Lab_3/train/images/autosave16_10_2012_10_19_55_0_jpg.rf.c83b5bdae5c24d0e238604548f78d8e7.jpg  \n",
            " extracting: /content/OIVIS_Lab_3/train/images/autosave16_10_2012_10_23_13_2_jpg.rf.1d11e099f08844bcc409be662e68cc4a.jpg  \n",
            " extracting: /content/OIVIS_Lab_3/train/images/autosave16_10_2012_10_24_08_0_jpg.rf.01642d811456529a46bba13ccb91885f.jpg  \n",
            " extracting: /content/OIVIS_Lab_3/train/images/autosave16_10_2012_10_24_10_1_jpg.rf.c91f0fe395f062218c492c2b01a9daf1.jpg  \n",
            " extracting: /content/OIVIS_Lab_3/train/images/autosave16_10_2012_10_25_24_2_jpg.rf.5091d8c468136dc0c40335f8865e4b09.jpg  \n",
            " extracting: /content/OIVIS_Lab_3/train/images/autosave16_10_2012_10_26_33_3_jpg.rf.c2e21e4984a8198dafe62178a73263d8.jpg  \n",
            " extracting: /content/OIVIS_Lab_3/train/images/autosave16_10_2012_10_26_34_1_jpg.rf.a88aea0f809a70904d50458da25687e4.jpg  \n",
            " extracting: /content/OIVIS_Lab_3/train/images/autosave16_10_2012_10_26_35_1_jpg.rf.1300644d4edcc9ab01cd3fbe119ba802.jpg  \n",
            " extracting: /content/OIVIS_Lab_3/train/images/autosave16_10_2012_10_27_18_0_jpg.rf.68e40fac9af23a85b0670e60f28096b2.jpg  \n",
            " extracting: /content/OIVIS_Lab_3/train/images/autosave16_10_2012_10_27_19_0_jpg.rf.d12cc7034f5d84cbeb6c926269ad179c.jpg  \n",
            " extracting: /content/OIVIS_Lab_3/train/images/autosave16_10_2012_10_27_20_0_jpg.rf.742f7818943c216477e9d795e86fd175.jpg  \n",
            " extracting: /content/OIVIS_Lab_3/train/images/autosave16_10_2012_10_27_38_0_jpg.rf.7b32a7c680e74dae0ae587b2edabe652.jpg  \n",
            " extracting: /content/OIVIS_Lab_3/train/images/autosave16_10_2012_10_27_58_2_jpg.rf.51d14bab45fb9e1fd6d280dce3cb0f3c.jpg  \n",
            " extracting: /content/OIVIS_Lab_3/train/images/autosave16_10_2012_10_38_58_0_jpg.rf.efa9d097864b51202e66d5809244fd6a.jpg  \n",
            " extracting: /content/OIVIS_Lab_3/train/images/autosave16_10_2012_10_46_48_0_jpg.rf.c5284a584e27f02b545fc25749382b2e.jpg  \n",
            " extracting: /content/OIVIS_Lab_3/train/images/autosave16_10_2012_10_51_21_0_jpg.rf.48d22d54e50ff978cf11173df787fa7b.jpg  \n",
            " extracting: /content/OIVIS_Lab_3/train/images/autosave16_10_2012_10_52_17_0_jpg.rf.fddad4bb2b6e101d6ad77f15a067c611.jpg  \n",
            " extracting: /content/OIVIS_Lab_3/train/images/autosave16_10_2012_10_52_23_0_jpg.rf.59e750f859d8e123ed6575ed42252815.jpg  \n",
            " extracting: /content/OIVIS_Lab_3/train/images/autosave16_10_2012_10_53_08_2_jpg.rf.64486d8085eac9096dd487dd66264c44.jpg  \n",
            " extracting: /content/OIVIS_Lab_3/train/images/autosave16_10_2012_10_53_08_3_jpg.rf.14aefd004d08407c9758278959236cc4.jpg  \n",
            " extracting: /content/OIVIS_Lab_3/train/images/autosave16_10_2012_10_53_19_1_jpg.rf.81276ae9c486aca3fa289bfce5f3c003.jpg  \n",
            " extracting: /content/OIVIS_Lab_3/train/images/autosave16_10_2012_10_55_38_4_jpg.rf.0998d26e13d5bee220d790c9086455e9.jpg  \n",
            " extracting: /content/OIVIS_Lab_3/train/images/autosave16_10_2012_10_55_42_1_jpg.rf.48417e364a78e03c533998c15118880c.jpg  \n",
            " extracting: /content/OIVIS_Lab_3/train/images/autosave16_10_2012_10_56_41_1_jpg.rf.0e8c8e5bfad58f2529b83c4ec7c7b024.jpg  \n",
            " extracting: /content/OIVIS_Lab_3/train/images/autosave16_10_2012_10_56_41_2_jpg.rf.5ad054faeda7a551c5b856c63433a216.jpg  \n",
            " extracting: /content/OIVIS_Lab_3/train/images/autosave16_10_2012_10_57_08_1_jpg.rf.d337108daf4531d99c48857ad529a265.jpg  \n",
            " extracting: /content/OIVIS_Lab_3/train/images/autosave16_10_2012_10_57_51_0_jpg.rf.b06035393900707a68144d84e7d97dec.jpg  \n",
            " extracting: /content/OIVIS_Lab_3/train/images/autosave16_10_2012_10_57_53_1_jpg.rf.3bbe8d059d310871e42673dfec8edba9.jpg  \n",
            " extracting: /content/OIVIS_Lab_3/train/images/autosave16_10_2012_10_59_34_1_jpg.rf.1afb999e563d5ac7945b145315cf0a7b.jpg  \n",
            " extracting: /content/OIVIS_Lab_3/train/images/autosave16_10_2012_10_59_39_0_jpg.rf.88bd9846645bc18ef955a44e3ca4b8dc.jpg  \n",
            " extracting: /content/OIVIS_Lab_3/train/images/autosave16_10_2012_10_59_59_4_jpg.rf.ac6df599dfd2026cb70e9a78fcad3f0e.jpg  \n",
            " extracting: /content/OIVIS_Lab_3/train/images/autosave16_10_2012_11_00_25_3_jpg.rf.32f901975e37a4f61624c3f3aa7a1322.jpg  \n",
            " extracting: /content/OIVIS_Lab_3/train/images/autosave16_10_2012_11_01_27_5_jpg.rf.1e80601f6bc8d7db5bd472fc741f8833.jpg  \n",
            " extracting: /content/OIVIS_Lab_3/train/images/autosave16_10_2012_11_02_14_5_jpg.rf.342cf3ca70aebb4474fec937d56358f7.jpg  \n",
            " extracting: /content/OIVIS_Lab_3/train/images/autosave16_10_2012_11_03_42_2_jpg.rf.7a3ae47b3b5215623bcff3e799cdf45d.jpg  \n",
            " extracting: /content/OIVIS_Lab_3/train/images/autosave16_10_2012_11_03_59_2_jpg.rf.1192e83aaae922c1d9be14b12a45bf56.jpg  \n",
            " extracting: /content/OIVIS_Lab_3/train/images/autosave16_10_2012_11_05_01_2_jpg.rf.6ca790fdaa2cc9d4a721cbdcc1df591d.jpg  \n",
            " extracting: /content/OIVIS_Lab_3/train/images/autosave16_10_2012_11_05_18_3_jpg.rf.fe015bd1a2fefa2896230c085830534e.jpg  \n",
            " extracting: /content/OIVIS_Lab_3/train/images/autosave16_10_2012_11_06_07_3_jpg.rf.0f8f539f910b48eb54877d6123dbac03.jpg  \n",
            " extracting: /content/OIVIS_Lab_3/train/images/autosave16_10_2012_11_09_13_2_jpg.rf.0b702bfd39f9e08b40b5f884fb50dc28.jpg  \n",
            " extracting: /content/OIVIS_Lab_3/train/images/autosave16_10_2012_11_10_30_0_jpg.rf.f835b22b6c02372661dc1f5120949718.jpg  \n",
            " extracting: /content/OIVIS_Lab_3/train/images/autosave16_10_2012_11_11_01_0_jpg.rf.4f3c5be3a7847d24d7405d7608fd26bc.jpg  \n",
            " extracting: /content/OIVIS_Lab_3/train/images/autosave16_10_2012_11_12_26_3_jpg.rf.a31db58e70256122cee404b41e45e4cb.jpg  \n",
            " extracting: /content/OIVIS_Lab_3/train/images/autosave16_10_2012_11_12_44_0_jpg.rf.c45242bfcf0d9955482fc5532f4831a8.jpg  \n",
            " extracting: /content/OIVIS_Lab_3/train/images/autosave16_10_2012_11_12_46_0_jpg.rf.38432aa82bbccee218043ed302caf0ab.jpg  \n",
            " extracting: /content/OIVIS_Lab_3/train/images/autosave16_10_2012_11_12_50_4_jpg.rf.ade2326aa9af363bfe2cc61e154981d6.jpg  \n",
            " extracting: /content/OIVIS_Lab_3/train/images/autosave16_10_2012_11_13_12_0_jpg.rf.8165b67c48eb61f3fbd72c27c1dff916.jpg  \n",
            " extracting: /content/OIVIS_Lab_3/train/images/autosave16_10_2012_11_13_12_2_jpg.rf.71d1b75ae35a597cc787a8fae08e58a6.jpg  \n",
            " extracting: /content/OIVIS_Lab_3/train/images/autosave16_10_2012_11_13_16_2_jpg.rf.2cf32c27a761d77a8c2391b8944e7c42.jpg  \n",
            " extracting: /content/OIVIS_Lab_3/train/images/autosave16_10_2012_11_13_22_0_jpg.rf.ef0c976d28582735632a0c0498aacefb.jpg  \n",
            " extracting: /content/OIVIS_Lab_3/train/images/autosave16_10_2012_11_13_27_0_jpg.rf.01b6c798a8180ca4171a322114aa4d4f.jpg  \n",
            " extracting: /content/OIVIS_Lab_3/train/images/autosave16_10_2012_11_13_27_1_jpg.rf.a8035d38f8834ff8acb81cfc8cc65091.jpg  \n",
            " extracting: /content/OIVIS_Lab_3/train/images/autosave16_10_2012_11_13_48_3_jpg.rf.94398510ef51bf7d890e9bf0c5b836e4.jpg  \n",
            " extracting: /content/OIVIS_Lab_3/train/images/autosave16_10_2012_11_13_50_0_jpg.rf.35c7d15c1a230a84a23c0debb4483a79.jpg  \n",
            " extracting: /content/OIVIS_Lab_3/train/images/autosave16_10_2012_11_13_50_1_jpg.rf.5003472cabd20cf2b4113ee685d0887a.jpg  \n",
            " extracting: /content/OIVIS_Lab_3/train/images/autosave16_10_2012_11_13_58_1_jpg.rf.95d47979e02b1eb5a30c1142f9fdb1d2.jpg  \n",
            " extracting: /content/OIVIS_Lab_3/train/images/autosave16_10_2012_11_14_06_2_jpg.rf.691b48afc3a9986127129e933d4d325e.jpg  \n",
            " extracting: /content/OIVIS_Lab_3/train/images/autosave16_10_2012_11_14_10_0_jpg.rf.97913ca1ff466caa50b7f4288b9b9efc.jpg  \n",
            " extracting: /content/OIVIS_Lab_3/train/images/autosave16_10_2012_11_14_11_0_jpg.rf.e9d845a3619adb7ef53d66afa657a8a4.jpg  \n",
            " extracting: /content/OIVIS_Lab_3/train/images/autosave16_10_2012_11_15_08_2_jpg.rf.034fa4e773f3952bf0b763a5144f3292.jpg  \n",
            " extracting: /content/OIVIS_Lab_3/train/images/autosave16_10_2012_11_15_08_3_jpg.rf.033697d3445c331b0d7fe739842d0e02.jpg  \n",
            " extracting: /content/OIVIS_Lab_3/train/images/autosave16_10_2012_11_15_18_0_jpg.rf.0ad5feb48e8342f71c063b697cfab352.jpg  \n",
            " extracting: /content/OIVIS_Lab_3/train/images/autosave16_10_2012_11_15_18_1_jpg.rf.1cf3225c76bab8a8aa0654cb0ee94315.jpg  \n",
            " extracting: /content/OIVIS_Lab_3/train/images/autosave16_10_2012_11_16_02_1_jpg.rf.7ad858845022baf570a067b6e3f67672.jpg  \n",
            " extracting: /content/OIVIS_Lab_3/train/images/autosave16_10_2012_11_16_32_2_jpg.rf.2fb15ca741cd8b2ff4a18853db7ca7c7.jpg  \n",
            " extracting: /content/OIVIS_Lab_3/train/images/autosave16_10_2012_11_16_33_1_jpg.rf.46992c012c1355c2eced63b487b3affd.jpg  \n",
            " extracting: /content/OIVIS_Lab_3/train/images/autosave16_10_2012_11_16_34_2_jpg.rf.d3702b62d40197123d1fb19229aec75d.jpg  \n",
            " extracting: /content/OIVIS_Lab_3/train/images/autosave16_10_2012_11_16_43_2_jpg.rf.37eaea92fb913a1c635da17d101d34cf.jpg  \n",
            " extracting: /content/OIVIS_Lab_3/train/images/autosave16_10_2012_11_16_44_0_jpg.rf.deee4fd73c5fc13b021afad9e8ed0ce6.jpg  \n",
            " extracting: /content/OIVIS_Lab_3/train/images/autosave16_10_2012_11_16_48_2_jpg.rf.8f814f7f64a2051df58fce347991760e.jpg  \n",
            " extracting: /content/OIVIS_Lab_3/train/images/autosave16_10_2012_11_16_49_0_jpg.rf.2a9c09384b7966ee8966357188f5d2dd.jpg  \n",
            " extracting: /content/OIVIS_Lab_3/train/images/autosave16_10_2012_11_16_49_1_jpg.rf.fb90c0076f006e59f6237745bb62669b.jpg  \n",
            " extracting: /content/OIVIS_Lab_3/train/images/autosave16_10_2012_11_16_49_3_jpg.rf.50a55f68ce9cdc1151425ba84fd4599b.jpg  \n",
            " extracting: /content/OIVIS_Lab_3/train/images/autosave16_10_2012_11_16_50_0_jpg.rf.965f0578ee4b05ff8a16bc39d0ca705b.jpg  \n",
            " extracting: /content/OIVIS_Lab_3/train/images/autosave16_10_2012_11_16_50_1_jpg.rf.b17d7b1650da53e41ed5a841229fa3eb.jpg  \n",
            " extracting: /content/OIVIS_Lab_3/train/images/autosave16_10_2012_11_16_50_2_jpg.rf.770941e267ce34fb9914543f6a0e5408.jpg  \n",
            " extracting: /content/OIVIS_Lab_3/train/images/autosave16_10_2012_11_17_38_0_jpg.rf.ad3a02ffc0381c018bea7aa65f117a6c.jpg  \n",
            " extracting: /content/OIVIS_Lab_3/train/images/autosave16_10_2012_11_17_57_0_jpg.rf.253b3235a5d90e57abe8b692066fa571.jpg  \n",
            " extracting: /content/OIVIS_Lab_3/train/images/autosave16_10_2012_11_18_05_0_jpg.rf.b88c55f76db9cd669729637f4cf6be88.jpg  \n",
            " extracting: /content/OIVIS_Lab_3/train/images/autosave16_10_2012_11_18_05_1_jpg.rf.31091219ce66d6fa18423c86443bdb74.jpg  \n",
            " extracting: /content/OIVIS_Lab_3/train/images/autosave16_10_2012_11_18_15_2_jpg.rf.d95b8605c7038e1bdc2b065dec3379f0.jpg  \n",
            " extracting: /content/OIVIS_Lab_3/train/images/autosave16_10_2012_11_18_15_5_jpg.rf.ba5978acd878d3bd073f573d2f4d14e5.jpg  \n",
            " extracting: /content/OIVIS_Lab_3/train/images/autosave16_10_2012_11_18_32_0_jpg.rf.e6fa8731d1bcf51565be0bce4d277d20.jpg  \n",
            " extracting: /content/OIVIS_Lab_3/train/images/autosave16_10_2012_11_19_19_2_jpg.rf.e7ccf911dafbd622860b4e787954e8c1.jpg  \n",
            " extracting: /content/OIVIS_Lab_3/train/images/autosave16_10_2012_11_19_20_1_jpg.rf.11e7c64984f0a14d5ce3ad9abee93ae2.jpg  \n",
            " extracting: /content/OIVIS_Lab_3/train/images/autosave16_10_2012_11_20_21_1_jpg.rf.6ea57f6122681f362bcdeb98e2b65103.jpg  \n",
            " extracting: /content/OIVIS_Lab_3/train/images/autosave16_10_2012_11_20_22_2_jpg.rf.5aa6f2472c37c7e6c10d83dc80be1e9e.jpg  \n",
            " extracting: /content/OIVIS_Lab_3/train/images/autosave16_10_2012_11_20_23_1_jpg.rf.ea97ca89c2a97d8428445e0c6cd84563.jpg  \n",
            " extracting: /content/OIVIS_Lab_3/train/images/autosave16_10_2012_11_20_24_1_jpg.rf.e81113d187dc71b46e3e40931dcb448c.jpg  \n",
            " extracting: /content/OIVIS_Lab_3/train/images/autosave16_10_2012_11_20_26_4_jpg.rf.1ef37bfbddb6032e1f84f2eba2e99e93.jpg  \n",
            " extracting: /content/OIVIS_Lab_3/train/images/autosave16_10_2012_11_21_18_2_jpg.rf.f7dfc9f007e82eced2f11465d6bb0050.jpg  \n",
            " extracting: /content/OIVIS_Lab_3/train/images/autosave16_10_2012_11_21_21_2_jpg.rf.645637b78d696ab77b95f80cbf4977de.jpg  \n",
            " extracting: /content/OIVIS_Lab_3/train/images/autosave16_10_2012_11_21_30_3_jpg.rf.c429991f553fa87db6d8442547bd17fb.jpg  \n",
            " extracting: /content/OIVIS_Lab_3/train/images/autosave16_10_2012_11_21_42_1_jpg.rf.a95f703a038555e032a53fed9da6f632.jpg  \n",
            " extracting: /content/OIVIS_Lab_3/train/images/autosave16_10_2012_11_22_13_1_jpg.rf.afeb8b0d1a2b6182026180101d6d42c6.jpg  \n",
            " extracting: /content/OIVIS_Lab_3/train/images/autosave16_10_2012_11_24_41_1_jpg.rf.cf35c6e4635ac1c7a2bc973cb6169094.jpg  \n",
            " extracting: /content/OIVIS_Lab_3/train/images/autosave16_10_2012_11_24_54_3_jpg.rf.67f3d6c4045b54f9765673499e050d09.jpg  \n",
            " extracting: /content/OIVIS_Lab_3/train/images/autosave16_10_2012_11_25_39_1_jpg.rf.cfeee99b5ec4ed3f0e5318eb97393743.jpg  \n",
            " extracting: /content/OIVIS_Lab_3/train/images/autosave16_10_2012_11_27_57_1_jpg.rf.13236f47faf264ad38d7c9d6c9c51c5c.jpg  \n",
            " extracting: /content/OIVIS_Lab_3/train/images/autosave16_10_2012_11_28_04_1_jpg.rf.b78a6d4eff2839691fb1d719882442a9.jpg  \n",
            " extracting: /content/OIVIS_Lab_3/train/images/autosave16_10_2012_11_29_06_2_jpg.rf.e1290e4628b9adc04223a8c001a24ea3.jpg  \n",
            " extracting: /content/OIVIS_Lab_3/train/images/autosave16_10_2012_11_29_06_3_jpg.rf.bfadeef5bf109ebba58843e9a046e9d7.jpg  \n",
            " extracting: /content/OIVIS_Lab_3/train/images/autosave16_10_2012_11_29_11_1_jpg.rf.0486ac0f465246cf6e6c51fe72b0ba06.jpg  \n",
            " extracting: /content/OIVIS_Lab_3/train/images/autosave16_10_2012_11_29_16_2_jpg.rf.c1c4f2029811cd50f202e7fae99c8748.jpg  \n",
            " extracting: /content/OIVIS_Lab_3/train/images/autosave16_10_2012_11_29_18_0_jpg.rf.9a2b9ff914406b24c59ed5a7f22e1675.jpg  \n",
            " extracting: /content/OIVIS_Lab_3/train/images/autosave16_10_2012_11_29_23_0_jpg.rf.58c6482ad1d11014b9371973587a8c5a.jpg  \n",
            " extracting: /content/OIVIS_Lab_3/train/images/autosave16_10_2012_11_29_25_2_jpg.rf.56c1f7110e370823119abc972e779136.jpg  \n",
            " extracting: /content/OIVIS_Lab_3/train/images/autosave16_10_2012_11_29_33_0_jpg.rf.810ea8b99ded87e42036025e65c54131.jpg  \n",
            " extracting: /content/OIVIS_Lab_3/train/images/autosave16_10_2012_11_30_23_2_jpg.rf.d9dd6f5158ce277340d40eb87530ed22.jpg  \n",
            " extracting: /content/OIVIS_Lab_3/train/images/autosave16_10_2012_11_33_16_1_jpg.rf.db697f7d140302984621f05721140754.jpg  \n",
            " extracting: /content/OIVIS_Lab_3/train/images/autosave16_10_2012_11_33_18_4_jpg.rf.b3f5c356a77a9d24ebd32cc8269bef83.jpg  \n",
            " extracting: /content/OIVIS_Lab_3/train/images/autosave16_10_2012_11_36_34_1_jpg.rf.3b08bc9b14d589cb23c0067801a76e33.jpg  \n",
            " extracting: /content/OIVIS_Lab_3/train/images/autosave16_10_2012_11_36_34_2_jpg.rf.aea0ee3c0981f9831bf5511714bb4329.jpg  \n",
            " extracting: /content/OIVIS_Lab_3/train/images/autosave16_10_2012_11_36_34_3_jpg.rf.97be95562a86a89353e49370373e25d0.jpg  \n",
            " extracting: /content/OIVIS_Lab_3/train/images/autosave16_10_2012_11_39_30_0_jpg.rf.e926e5f833868bfa15ecfe7ab10d684c.jpg  \n",
            " extracting: /content/OIVIS_Lab_3/train/images/autosave16_10_2012_11_40_03_1_jpg.rf.29be8f97be7a225810b386ceb135811a.jpg  \n",
            " extracting: /content/OIVIS_Lab_3/train/images/autosave16_10_2012_11_40_08_2_jpg.rf.cf344be3785efdf2c003b111916243f1.jpg  \n",
            " extracting: /content/OIVIS_Lab_3/train/images/autosave16_10_2012_11_40_09_2_jpg.rf.e599cd3f45c9cd5f3e2f97794615262b.jpg  \n",
            " extracting: /content/OIVIS_Lab_3/train/images/autosave16_10_2012_11_40_16_2_jpg.rf.dd785eeeec3c595811892c52119dd9d7.jpg  \n",
            " extracting: /content/OIVIS_Lab_3/train/images/autosave16_10_2012_11_40_27_1_jpg.rf.605256fe55671418bf0a8bb76e3bfabd.jpg  \n",
            " extracting: /content/OIVIS_Lab_3/train/images/autosave16_10_2012_11_40_36_1_jpg.rf.170e192072261615738bcbbcb5662323.jpg  \n",
            " extracting: /content/OIVIS_Lab_3/train/images/autosave16_10_2012_11_41_10_1_jpg.rf.9461e3d61965a6e6c0c06f5be6cc51b7.jpg  \n",
            " extracting: /content/OIVIS_Lab_3/train/images/autosave16_10_2012_11_41_11_0_jpg.rf.0733267bdba8c7862f40a65adbc56c6d.jpg  \n",
            " extracting: /content/OIVIS_Lab_3/train/images/autosave16_10_2012_11_42_08_2_jpg.rf.68d637afda5c2a35b444d4978208b52f.jpg  \n",
            " extracting: /content/OIVIS_Lab_3/train/images/autosave16_10_2012_11_42_09_0_jpg.rf.f01a2029b9d6b732c8fb774e4f5ad76e.jpg  \n",
            " extracting: /content/OIVIS_Lab_3/train/images/autosave16_10_2012_11_42_10_2_jpg.rf.5b1ebae752c61e04ef419b765695be36.jpg  \n",
            " extracting: /content/OIVIS_Lab_3/train/images/autosave16_10_2012_11_42_23_0_jpg.rf.0a1063bd3a25656a70b9a0d5fc096aaa.jpg  \n",
            " extracting: /content/OIVIS_Lab_3/train/images/autosave16_10_2012_11_42_29_2_jpg.rf.55463e86aa629aa6793e5813dee38f4e.jpg  \n",
            " extracting: /content/OIVIS_Lab_3/train/images/autosave16_10_2012_11_42_40_1_jpg.rf.219b3b6611d1395ca47315155d3a51f1.jpg  \n",
            " extracting: /content/OIVIS_Lab_3/train/images/autosave16_10_2012_11_42_40_2_jpg.rf.2c03d46ae878837e56fd2ecd457ea9c1.jpg  \n",
            " extracting: /content/OIVIS_Lab_3/train/images/autosave16_10_2012_11_43_07_0_jpg.rf.cd50f8678a454119ad254cde7ae63716.jpg  \n",
            " extracting: /content/OIVIS_Lab_3/train/images/autosave16_10_2012_11_43_08_1_jpg.rf.e3408e4f30e2c6078d2807fa6336d7a6.jpg  \n",
            " extracting: /content/OIVIS_Lab_3/train/images/autosave16_10_2012_11_44_03_0_jpg.rf.4c81113822680da83bd922fc481ddbe5.jpg  \n",
            " extracting: /content/OIVIS_Lab_3/train/images/autosave16_10_2012_11_44_03_1_jpg.rf.97af63b9a08177c27b8d10251407fe78.jpg  \n",
            " extracting: /content/OIVIS_Lab_3/train/images/autosave16_10_2012_11_44_07_1_jpg.rf.3adda4d2d73b03c59d7da179d1d67129.jpg  \n",
            " extracting: /content/OIVIS_Lab_3/train/images/autosave16_10_2012_11_44_11_1_jpg.rf.f69cb6598fe413f1bc9e12a04ef15eef.jpg  \n",
            " extracting: /content/OIVIS_Lab_3/train/images/autosave16_10_2012_11_44_20_3_jpg.rf.c6e60303a39d179c66025f900ce9a9dd.jpg  \n",
            " extracting: /content/OIVIS_Lab_3/train/images/autosave16_10_2012_11_44_21_1_jpg.rf.a8f0f93acb9b1a79d2ce8ef4e2b5c158.jpg  \n",
            " extracting: /content/OIVIS_Lab_3/train/images/autosave16_10_2012_11_44_34_2_jpg.rf.5ed8219ac57eafbb4efaa740cf7332ca.jpg  \n",
            " extracting: /content/OIVIS_Lab_3/train/images/autosave16_10_2012_11_44_37_1_jpg.rf.c0d49ff57f4ae6ebc9e5e695240da50c.jpg  \n",
            " extracting: /content/OIVIS_Lab_3/train/images/autosave16_10_2012_11_44_38_2_jpg.rf.348fe10b6fc97409c31d81ff52bdc1b4.jpg  \n",
            " extracting: /content/OIVIS_Lab_3/train/images/autosave16_10_2012_11_44_41_0_jpg.rf.c304773bc18e0d9d5c33cf3350d9c1ff.jpg  \n",
            " extracting: /content/OIVIS_Lab_3/train/images/autosave16_10_2012_11_44_45_0_jpg.rf.ddcd59486856d4718e92e47aa20fb282.jpg  \n",
            " extracting: /content/OIVIS_Lab_3/train/images/autosave16_10_2012_11_44_46_2_jpg.rf.d127eeb447f301ba3afb4f4b12888aaf.jpg  \n",
            " extracting: /content/OIVIS_Lab_3/train/images/autosave16_10_2012_11_44_46_4_jpg.rf.c8842039684b3905a3779f50cadc011c.jpg  \n",
            " extracting: /content/OIVIS_Lab_3/train/images/autosave16_10_2012_11_46_27_0_jpg.rf.92f62a75d0b8f8d5455edbb183356856.jpg  \n",
            " extracting: /content/OIVIS_Lab_3/train/images/autosave16_10_2012_11_46_43_0_jpg.rf.bc0901cc462afe8b182d88088d68bf22.jpg  \n",
            " extracting: /content/OIVIS_Lab_3/train/images/autosave16_10_2012_11_46_45_2_jpg.rf.c7d471d9c08bc92465f12624ecef205c.jpg  \n",
            " extracting: /content/OIVIS_Lab_3/train/images/autosave16_10_2012_11_46_46_2_jpg.rf.76c62a4cf7553e8caa90378a83722db3.jpg  \n",
            " extracting: /content/OIVIS_Lab_3/train/images/autosave16_10_2012_11_47_12_2_jpg.rf.dec404b29a5b5626feccbab1a9ce8b23.jpg  \n",
            " extracting: /content/OIVIS_Lab_3/train/images/autosave16_10_2012_11_47_47_2_jpg.rf.a727c4ffb27b392f3b84eacb38f1853e.jpg  \n",
            " extracting: /content/OIVIS_Lab_3/train/images/autosave16_10_2012_11_47_48_1_jpg.rf.c510684d8300610783b846c651db6310.jpg  \n",
            " extracting: /content/OIVIS_Lab_3/train/images/autosave16_10_2012_11_48_27_5_jpg.rf.2a949808365467646f2a70a19b949ebb.jpg  \n",
            " extracting: /content/OIVIS_Lab_3/train/images/autosave16_10_2012_11_48_45_2_jpg.rf.623b7d266ab74764a05516f93b888272.jpg  \n",
            " extracting: /content/OIVIS_Lab_3/train/images/autosave16_10_2012_11_48_48_0_jpg.rf.041792e0762c989a0707e57bff0444a7.jpg  \n",
            " extracting: /content/OIVIS_Lab_3/train/images/autosave16_10_2012_11_49_05_1_jpg.rf.a2deb1303b0f24dcabd46cd2ff665ca2.jpg  \n",
            " extracting: /content/OIVIS_Lab_3/train/images/autosave16_10_2012_11_49_44_3_jpg.rf.a47b9a75c7c8aa71fa4fabfe1b817691.jpg  \n",
            " extracting: /content/OIVIS_Lab_3/train/images/autosave16_10_2012_11_50_11_3_jpg.rf.5e0fa15cf6890f56c394469d21cacd89.jpg  \n",
            " extracting: /content/OIVIS_Lab_3/train/images/autosave16_10_2012_11_50_46_0_jpg.rf.2f2d8f342d9ae65689e83bc8d46d2b1b.jpg  \n",
            " extracting: /content/OIVIS_Lab_3/train/images/autosave16_10_2012_11_51_14_0_jpg.rf.dae85984d7f67dc8b51d844a9dc83705.jpg  \n",
            " extracting: /content/OIVIS_Lab_3/train/images/autosave16_10_2012_11_51_24_4_jpg.rf.3b6b36a525862e239fd8e1d822d03d46.jpg  \n",
            " extracting: /content/OIVIS_Lab_3/train/images/autosave16_10_2012_11_51_45_0_jpg.rf.acfa36455f8d1f77019f7e9d65256069.jpg  \n",
            " extracting: /content/OIVIS_Lab_3/train/images/autosave16_10_2012_11_52_36_1_jpg.rf.205850b2120a8a251db93b6b61919063.jpg  \n",
            " extracting: /content/OIVIS_Lab_3/train/images/autosave16_10_2012_11_55_00_1_jpg.rf.32d23845f3d9ebd748eec831febf6016.jpg  \n",
            " extracting: /content/OIVIS_Lab_3/train/images/autosave16_10_2012_11_55_01_1_jpg.rf.9b9dcc9bae4ee7d346502ae27b743b4a.jpg  \n",
            " extracting: /content/OIVIS_Lab_3/train/images/autosave16_10_2012_11_55_17_1_jpg.rf.76e4dce42a1e5610d968f2cf3095b6fe.jpg  \n",
            " extracting: /content/OIVIS_Lab_3/train/images/autosave16_10_2012_11_55_26_1_jpg.rf.2e81cefb19ef7a589e77e50f03766856.jpg  \n",
            " extracting: /content/OIVIS_Lab_3/train/images/autosave16_10_2012_11_56_33_0_jpg.rf.763fe164727fc63b426d12089b61da5d.jpg  \n",
            " extracting: /content/OIVIS_Lab_3/train/images/autosave16_10_2012_11_57_34_3_jpg.rf.582df094e172f1b7827e1df0fa10ebe9.jpg  \n",
            " extracting: /content/OIVIS_Lab_3/train/images/autosave16_10_2012_11_57_35_2_jpg.rf.248ce77c12b84caf2d78a09f4c9bb43a.jpg  \n",
            " extracting: /content/OIVIS_Lab_3/train/images/autosave16_10_2012_11_59_18_1_jpg.rf.c026106c89515585b5a3b1903274cfc6.jpg  \n",
            " extracting: /content/OIVIS_Lab_3/train/images/autosave16_10_2012_11_59_56_0_jpg.rf.84372f633cc4418abf90149c2afe1e3b.jpg  \n",
            " extracting: /content/OIVIS_Lab_3/train/images/autosave16_10_2012_12_00_12_2_jpg.rf.c8ed4651544554bc86be23e8569893db.jpg  \n",
            " extracting: /content/OIVIS_Lab_3/train/images/autosave16_10_2012_12_00_12_4_jpg.rf.ec862de57e39d31cdc68daaf787b9de6.jpg  \n",
            " extracting: /content/OIVIS_Lab_3/train/images/autosave16_10_2012_12_06_52_0_jpg.rf.e6a042e2e4dac2ab2daae4b28e15dade.jpg  \n",
            " extracting: /content/OIVIS_Lab_3/train/images/autosave16_10_2012_12_06_56_0_jpg.rf.407041e18a6df777540f71ac0bbc11be.jpg  \n",
            " extracting: /content/OIVIS_Lab_3/train/images/autosave16_10_2012_12_08_17_0_jpg.rf.d561bb3439474636c85cd2e7c99bcf38.jpg  \n",
            " extracting: /content/OIVIS_Lab_3/train/images/autosave16_10_2012_12_08_32_1_jpg.rf.db8daeb45be8aa204da0bad6a929b0fb.jpg  \n",
            " extracting: /content/OIVIS_Lab_3/train/images/autosave16_10_2012_12_08_32_3_jpg.rf.8964fa891ccd7b220508716491526730.jpg  \n",
            " extracting: /content/OIVIS_Lab_3/train/images/autosave21_01_2013_09_11_13_2_jpg.rf.61ab808ca753c7f608e7cfc51b458fc8.jpg  \n",
            " extracting: /content/OIVIS_Lab_3/train/images/autosave21_01_2013_09_11_17_1_jpg.rf.206148a3f9c39e03cc41c00a081dcd71.jpg  \n",
            " extracting: /content/OIVIS_Lab_3/train/images/autosave21_01_2013_09_11_21_0_jpg.rf.8b1600a20dd652be721d7c2afa5a688f.jpg  \n",
            " extracting: /content/OIVIS_Lab_3/train/images/autosave21_01_2013_09_12_18_0_jpg.rf.7c74749ae7f3d4fe24f552c1a4a46b40.jpg  \n",
            " extracting: /content/OIVIS_Lab_3/train/images/autosave21_01_2013_09_15_30_2_jpg.rf.eabdad2507d39bc5d44b981e4800fdaf.jpg  \n",
            " extracting: /content/OIVIS_Lab_3/train/images/autosave21_01_2013_09_15_46_0_jpg.rf.f6ae94c8a06c44c564df32ed11c64f3b.jpg  \n",
            " extracting: /content/OIVIS_Lab_3/train/images/autosave21_01_2013_09_15_46_1_jpg.rf.cf2a4bcd1488924efb1e991b0ab4217a.jpg  \n",
            " extracting: /content/OIVIS_Lab_3/train/images/autosave21_01_2013_09_15_48_1_jpg.rf.6101fb8a3c0cfe7b80feea8eed1f214e.jpg  \n",
            " extracting: /content/OIVIS_Lab_3/train/images/autosave21_01_2013_09_18_09_1_jpg.rf.d7703cd4d3cb3df89f495ea7f330cdaf.jpg  \n",
            " extracting: /content/OIVIS_Lab_3/train/images/autosave21_01_2013_09_18_10_2_jpg.rf.62efd0d03775e4f48aa73b944e2e8a6e.jpg  \n",
            " extracting: /content/OIVIS_Lab_3/train/images/autosave21_01_2013_09_19_49_0_jpg.rf.40adcc803af38310886f01bec3180cac.jpg  \n",
            " extracting: /content/OIVIS_Lab_3/train/images/autosave21_01_2013_09_19_50_1_jpg.rf.aef45f0016e67d4fabed8f8e47459779.jpg  \n",
            " extracting: /content/OIVIS_Lab_3/train/images/autosave21_01_2013_09_20_09_2_jpg.rf.518a23836b9ce4935ad047b8fd6cb0cc.jpg  \n",
            " extracting: /content/OIVIS_Lab_3/train/images/autosave21_01_2013_09_20_20_1_jpg.rf.9b60b1ba458fd6d6109f57c1049b5990.jpg  \n",
            " extracting: /content/OIVIS_Lab_3/train/images/autosave21_01_2013_09_20_33_1_jpg.rf.230aa83dcc96beaa8c79f97399a905d7.jpg  \n",
            " extracting: /content/OIVIS_Lab_3/train/images/autosave21_01_2013_09_20_35_2_jpg.rf.c41bc2b4669ee80071064edc90d492c1.jpg  \n",
            " extracting: /content/OIVIS_Lab_3/train/images/autosave21_01_2013_09_20_39_0_jpg.rf.1bd88d224b1e8bcd006c74a807b0c601.jpg  \n",
            " extracting: /content/OIVIS_Lab_3/train/images/autosave21_01_2013_09_21_50_0_jpg.rf.4fb57e09b95dff6d6a418ce92f2a9257.jpg  \n",
            " extracting: /content/OIVIS_Lab_3/train/images/autosave21_01_2013_09_23_44_2_jpg.rf.343aa3e326875f321b58e81bf356bd0b.jpg  \n",
            " extracting: /content/OIVIS_Lab_3/train/images/autosave21_01_2013_09_25_30_0_jpg.rf.ac772d128e2918de2b1544f021f5fc32.jpg  \n",
            " extracting: /content/OIVIS_Lab_3/train/images/autosave21_01_2013_09_25_30_1_jpg.rf.c3cab97d24115c14eac9059a0a5e6772.jpg  \n",
            " extracting: /content/OIVIS_Lab_3/train/images/autosave21_01_2013_09_26_48_0_jpg.rf.7a21eb9f9471f257e0353b428582776b.jpg  \n",
            " extracting: /content/OIVIS_Lab_3/train/images/autosave21_01_2013_09_26_52_0_jpg.rf.dfcb5ffb8eaedce32709bccfe4680f14.jpg  \n",
            " extracting: /content/OIVIS_Lab_3/train/images/autosave21_01_2013_09_27_21_1_jpg.rf.c9df68966e7cff369ec728ccceb17d82.jpg  \n",
            " extracting: /content/OIVIS_Lab_3/train/images/autosave21_01_2013_09_28_16_0_jpg.rf.dc6739e0c02a87624bd52fc85f85ecdd.jpg  \n",
            " extracting: /content/OIVIS_Lab_3/train/images/autosave21_01_2013_09_28_16_1_jpg.rf.e5e4f046184887d11d3df54e1e3fb6c0.jpg  \n",
            " extracting: /content/OIVIS_Lab_3/train/images/autosave21_01_2013_09_29_36_0_jpg.rf.af9e30eff34fc555be78c50a9e7d57dc.jpg  \n",
            " extracting: /content/OIVIS_Lab_3/train/images/autosave21_01_2013_09_29_40_1_jpg.rf.423506d27970e40b0541293bd95b3579.jpg  \n",
            " extracting: /content/OIVIS_Lab_3/train/images/autosave21_01_2013_09_31_09_2_jpg.rf.9ed8f4f9bf57d51ed638c5aea82f20c6.jpg  \n",
            " extracting: /content/OIVIS_Lab_3/train/images/autosave21_01_2013_09_31_24_1_jpg.rf.f31f796917fe97084a7fae7f80936672.jpg  \n",
            " extracting: /content/OIVIS_Lab_3/train/images/autosave21_01_2013_09_31_25_1_jpg.rf.6d1a96a4b11452f48759b82a99a61f61.jpg  \n",
            " extracting: /content/OIVIS_Lab_3/train/images/autosave21_01_2013_09_31_55_1_jpg.rf.62b485d67422772389892f0d71a9fbb1.jpg  \n",
            " extracting: /content/OIVIS_Lab_3/train/images/autosave21_01_2013_09_32_01_1_jpg.rf.24e23ce5c0564ac96feeb0bbf6c183bd.jpg  \n",
            " extracting: /content/OIVIS_Lab_3/train/images/autosave21_01_2013_09_32_03_0_jpg.rf.0fc0fef01be4d49367c2e2546d9f0f30.jpg  \n",
            " extracting: /content/OIVIS_Lab_3/train/images/autosave21_01_2013_09_33_49_0_jpg.rf.893f62e11bd06b2a5d38d76b81bc1a78.jpg  \n",
            " extracting: /content/OIVIS_Lab_3/train/images/autosave21_01_2013_09_33_51_0_jpg.rf.dd9a2713e72eae91a984203d93b263db.jpg  \n",
            " extracting: /content/OIVIS_Lab_3/train/images/autosave21_01_2013_09_35_16_1_jpg.rf.510544968340ef5648cf322ebaf9f894.jpg  \n",
            " extracting: /content/OIVIS_Lab_3/train/images/autosave21_01_2013_09_35_20_0_jpg.rf.0c1d6681f665906cec980d1f164663bf.jpg  \n",
            " extracting: /content/OIVIS_Lab_3/train/images/autosave21_01_2013_09_35_36_0_jpg.rf.6265b9daf850940ddbbcea9d4fbe4b18.jpg  \n",
            " extracting: /content/OIVIS_Lab_3/train/images/autosave21_01_2013_09_35_48_2_jpg.rf.a15cfd80c7c7820cfa10dba7d13edd77.jpg  \n",
            " extracting: /content/OIVIS_Lab_3/train/images/autosave21_01_2013_09_36_17_0_jpg.rf.5ad553f70feea07b680e79caf8bf782b.jpg  \n",
            " extracting: /content/OIVIS_Lab_3/train/images/autosave21_01_2013_09_37_00_0_jpg.rf.c707dffc3240c0827de00e3ec16c645f.jpg  \n",
            " extracting: /content/OIVIS_Lab_3/train/images/autosave21_01_2013_09_37_01_0_jpg.rf.2338fbb8833a4793b1679b7f3fc401b7.jpg  \n",
            " extracting: /content/OIVIS_Lab_3/train/images/autosave21_01_2013_09_37_52_0_jpg.rf.c8fb281ad0244be07ebecc1c7ea15088.jpg  \n",
            " extracting: /content/OIVIS_Lab_3/train/images/autosave21_01_2013_09_37_52_2_jpg.rf.2f0d4d71072f2c21ddecc9c35e6e2a90.jpg  \n",
            " extracting: /content/OIVIS_Lab_3/train/images/autosave21_01_2013_09_38_32_2_jpg.rf.3a984166c85cabe0915e601adb47998f.jpg  \n",
            " extracting: /content/OIVIS_Lab_3/train/images/autosave21_01_2013_09_38_33_1_jpg.rf.70793da426dba3902b8969a3dfa609ef.jpg  \n",
            " extracting: /content/OIVIS_Lab_3/train/images/autosave21_01_2013_09_39_19_2_jpg.rf.6fda5230f33881bc8ae5fb430ded867c.jpg  \n",
            " extracting: /content/OIVIS_Lab_3/train/images/autosave21_01_2013_09_39_25_0_jpg.rf.15e445b3b328f4162fc3b371ea205117.jpg  \n",
            " extracting: /content/OIVIS_Lab_3/train/images/autosave21_01_2013_09_39_27_0_jpg.rf.42c0eeda50d87d3ce79b582c1263c306.jpg  \n",
            " extracting: /content/OIVIS_Lab_3/train/images/autosave21_01_2013_09_39_49_1_jpg.rf.10d4ff1305467b1240c49216a3b98e1d.jpg  \n",
            " extracting: /content/OIVIS_Lab_3/train/images/autosave21_01_2013_09_39_53_0_jpg.rf.1260c9c494992790444d622743931799.jpg  \n",
            " extracting: /content/OIVIS_Lab_3/train/images/autosave21_01_2013_09_40_15_2_jpg.rf.855d9792ad58345b1b06297340e1c7a5.jpg  \n",
            " extracting: /content/OIVIS_Lab_3/train/images/autosave21_01_2013_09_40_33_2_jpg.rf.4b5ed88f3e2ea768a17b7f352b627c4f.jpg  \n",
            " extracting: /content/OIVIS_Lab_3/train/images/autosave21_01_2013_09_40_37_0_jpg.rf.47ab8b1c7fb86f7b640de157cad5c852.jpg  \n",
            " extracting: /content/OIVIS_Lab_3/train/images/autosave21_01_2013_09_42_39_1_jpg.rf.c0dc5077cbe9b20d9bde4ef8ac4853f1.jpg  \n",
            " extracting: /content/OIVIS_Lab_3/train/images/autosave21_01_2013_09_42_39_2_jpg.rf.9a74c9219953acf823d278037918d2ae.jpg  \n",
            " extracting: /content/OIVIS_Lab_3/train/images/autosave21_01_2013_09_42_42_1_jpg.rf.54c610fbf38c67f7a68957ca2ee2639d.jpg  \n",
            " extracting: /content/OIVIS_Lab_3/train/images/autosave21_01_2013_09_42_44_2_jpg.rf.103c5c964d66df998f9b5db8f2873747.jpg  \n",
            " extracting: /content/OIVIS_Lab_3/train/images/autosave21_01_2013_09_43_30_2_jpg.rf.c72198ebd046e81587c1f6681e553ec2.jpg  \n",
            " extracting: /content/OIVIS_Lab_3/train/images/autosave21_01_2013_09_45_30_1_jpg.rf.65b70cb354399203edc46dfd6e182892.jpg  \n",
            " extracting: /content/OIVIS_Lab_3/train/images/autosave21_01_2013_09_45_31_1_jpg.rf.219d1514c7bc749d96beb3f817098811.jpg  \n",
            " extracting: /content/OIVIS_Lab_3/train/images/autosave21_01_2013_09_45_33_1_jpg.rf.69346d4e1b98c8f3a3dd2f085b61d565.jpg  \n",
            " extracting: /content/OIVIS_Lab_3/train/images/autosave21_01_2013_09_47_26_2_jpg.rf.cadeb2076681618c46e11cadd2ecc2ce.jpg  \n",
            " extracting: /content/OIVIS_Lab_3/train/images/autosave21_01_2013_09_47_52_1_jpg.rf.399ae9fb80f3bd5eb5008445c1ae7f12.jpg  \n",
            " extracting: /content/OIVIS_Lab_3/train/images/autosave21_01_2013_09_48_58_0_jpg.rf.89bc36f4fd3af740faaa5ecbb68596a2.jpg  \n",
            " extracting: /content/OIVIS_Lab_3/train/images/autosave21_01_2013_09_49_26_0_jpg.rf.b02895e60e805b6d996fadebdb345a86.jpg  \n",
            " extracting: /content/OIVIS_Lab_3/train/images/autosave21_01_2013_09_49_32_0_jpg.rf.e502deb4511c68d36a511e23757ee6c7.jpg  \n",
            " extracting: /content/OIVIS_Lab_3/train/images/autosave21_01_2013_09_49_38_0_jpg.rf.94e15b71546af79dbbd6aaa9816dda1f.jpg  \n",
            " extracting: /content/OIVIS_Lab_3/train/images/autosave21_01_2013_09_49_56_2_jpg.rf.65a9f8f9ae63488e7781cf546ac0d20d.jpg  \n",
            " extracting: /content/OIVIS_Lab_3/train/images/autosave21_01_2013_09_50_02_2_jpg.rf.8bf77b3277519d26bf85a700293e5d92.jpg  \n",
            " extracting: /content/OIVIS_Lab_3/train/images/autosave21_01_2013_09_50_12_0_jpg.rf.b6ee88bcf3bc103a72e3bc15b36f6297.jpg  \n",
            " extracting: /content/OIVIS_Lab_3/train/images/autosave21_01_2013_09_50_16_0_jpg.rf.2c4a3a241010978ab89a33fe45abc7b5.jpg  \n",
            " extracting: /content/OIVIS_Lab_3/train/images/autosave21_01_2013_09_50_16_1_jpg.rf.964414ea30e42bd649332e51355e4cbd.jpg  \n",
            " extracting: /content/OIVIS_Lab_3/train/images/autosave21_01_2013_09_50_30_1_jpg.rf.e31a55025a20909c02e7d3beb32378b2.jpg  \n",
            " extracting: /content/OIVIS_Lab_3/train/images/autosave21_01_2013_09_50_32_0_jpg.rf.2c5ab0648b21dfe18e482eaffa820810.jpg  \n",
            " extracting: /content/OIVIS_Lab_3/train/images/autosave21_01_2013_09_50_32_2_jpg.rf.13c404fe09a932d01b541ac1cde2c077.jpg  \n",
            " extracting: /content/OIVIS_Lab_3/train/images/autosave21_01_2013_09_57_38_1_jpg.rf.45de88e73eb20ef792a26d13b54d9293.jpg  \n",
            " extracting: /content/OIVIS_Lab_3/train/images/autosave21_01_2013_09_57_40_0_jpg.rf.3629f78557dfc4ecb35379f792834c0f.jpg  \n",
            " extracting: /content/OIVIS_Lab_3/train/images/autosave21_01_2013_09_57_46_1_jpg.rf.25f3dcf117d3380ec4e5d893d925b530.jpg  \n",
            " extracting: /content/OIVIS_Lab_3/train/images/autosave21_01_2013_09_57_46_2_jpg.rf.b1af9ddf4f78575ae5d0e9a168fa0252.jpg  \n",
            " extracting: /content/OIVIS_Lab_3/train/images/autosave21_01_2013_09_57_48_0_jpg.rf.f38e26aaf6a470f4eef03251c3d40f7f.jpg  \n",
            " extracting: /content/OIVIS_Lab_3/train/images/autosave21_01_2013_09_58_00_0_jpg.rf.001d6d47e49bd575981dc888dff77269.jpg  \n",
            " extracting: /content/OIVIS_Lab_3/train/images/autosave21_01_2013_09_58_00_1_jpg.rf.ef886894399bfa722c1390d3aaffe593.jpg  \n",
            " extracting: /content/OIVIS_Lab_3/train/images/autosave21_01_2013_09_58_00_2_jpg.rf.91e8d05a99bb9041180fefc0e8b62083.jpg  \n",
            " extracting: /content/OIVIS_Lab_3/train/images/autosave21_01_2013_09_58_04_0_jpg.rf.c84be9f90892c6dc56beaed4c4c947b2.jpg  \n",
            " extracting: /content/OIVIS_Lab_3/train/images/autosave21_01_2013_10_08_21_0_jpg.rf.8969a48f807e0c2d9eb1b5c71fde5c64.jpg  \n",
            " extracting: /content/OIVIS_Lab_3/train/images/autosave21_01_2013_10_08_36_1_jpg.rf.398f641a89443c1c8f2a087c6d5e9c4f.jpg  \n",
            "   creating: /content/OIVIS_Lab_3/train/labels/\n",
            "  inflating: /content/OIVIS_Lab_3/train/labels/autosave01_02_2012_09_13_47_jpg.rf.300729f47cbb184b0c94492ecb04185a.txt  \n",
            "  inflating: /content/OIVIS_Lab_3/train/labels/autosave01_02_2012_09_13_48_jpg.rf.c8e750731428a4d497ef7f55173ee2dd.txt  \n",
            "  inflating: /content/OIVIS_Lab_3/train/labels/autosave01_02_2012_09_13_54_jpg.rf.361f6d34c33d23af9114fba658acf8ee.txt  \n",
            "  inflating: /content/OIVIS_Lab_3/train/labels/autosave01_02_2012_09_13_59_jpg.rf.d72bbe1402131e1f8b82895ac3c7b6b2.txt  \n",
            "  inflating: /content/OIVIS_Lab_3/train/labels/autosave01_02_2012_09_14_01_jpg.rf.c0c744f60cbadee6934a8100eaec4707.txt  \n",
            "  inflating: /content/OIVIS_Lab_3/train/labels/autosave01_02_2012_09_15_16_jpg.rf.131b8d8857c6882111c7533e31e95109.txt  \n",
            "  inflating: /content/OIVIS_Lab_3/train/labels/autosave01_02_2012_09_15_19_jpg.rf.6c14e0e8b359e9ff5c69524db1344725.txt  \n",
            "  inflating: /content/OIVIS_Lab_3/train/labels/autosave01_02_2012_09_15_20_jpg.rf.5ad2bf3becb8af76678a41171038704f.txt  \n",
            "  inflating: /content/OIVIS_Lab_3/train/labels/autosave01_02_2012_09_16_57_jpg.rf.7df06056967b13097310f55608d88544.txt  \n",
            "  inflating: /content/OIVIS_Lab_3/train/labels/autosave01_02_2012_09_17_05_jpg.rf.bbf0b2f4a1ef5cafe9d924e30a0bba69.txt  \n",
            "  inflating: /content/OIVIS_Lab_3/train/labels/autosave01_02_2012_09_17_09_jpg.rf.46e31ffdb99e7cf090f324daf971740b.txt  \n",
            "  inflating: /content/OIVIS_Lab_3/train/labels/autosave01_02_2012_09_17_21_jpg.rf.b0cd1a1de0bdc27e3264f7a2cfb32881.txt  \n",
            "  inflating: /content/OIVIS_Lab_3/train/labels/autosave01_02_2012_09_17_24_jpg.rf.f996caf235b528b31f304ae551601925.txt  \n",
            "  inflating: /content/OIVIS_Lab_3/train/labels/autosave01_02_2012_09_17_43_jpg.rf.8d0637fec10d1eb9b153719c6fdf1743.txt  \n",
            "  inflating: /content/OIVIS_Lab_3/train/labels/autosave01_02_2012_09_18_26_jpg.rf.17f6f9108e5b83957b215e9476ebd437.txt  \n",
            "  inflating: /content/OIVIS_Lab_3/train/labels/autosave01_02_2012_09_18_30_jpg.rf.4132cc1e45e8259ed54de3d8f388f6ed.txt  \n",
            "  inflating: /content/OIVIS_Lab_3/train/labels/autosave01_02_2012_09_18_41_jpg.rf.6050ba5de51270b2805c7699452c2428.txt  \n",
            "  inflating: /content/OIVIS_Lab_3/train/labels/autosave01_02_2012_09_20_13_jpg.rf.bd2ce258350d3b72396ce9c044d5cc84.txt  \n",
            "  inflating: /content/OIVIS_Lab_3/train/labels/autosave01_02_2012_09_21_40_jpg.rf.7613aa8a6f374b3abca79d220231e795.txt  \n",
            "  inflating: /content/OIVIS_Lab_3/train/labels/autosave01_02_2012_09_22_03_jpg.rf.6549f5df9da448109c5b70feb71137cb.txt  \n",
            "  inflating: /content/OIVIS_Lab_3/train/labels/autosave01_02_2012_09_22_15_jpg.rf.57a1c4ccbf828bbe6fbc36e2a73a1e51.txt  \n",
            "  inflating: /content/OIVIS_Lab_3/train/labels/autosave01_02_2012_09_22_37_jpg.rf.365c2eaa2595a7bf0c49a100548c1c40.txt  \n",
            "  inflating: /content/OIVIS_Lab_3/train/labels/autosave01_02_2012_09_23_43_jpg.rf.5789ba8e95b4ebc5d1be15334fcfd56b.txt  \n",
            "  inflating: /content/OIVIS_Lab_3/train/labels/autosave01_02_2012_09_23_44_jpg.rf.2af2308aebd69b92479663411a757fa8.txt  \n",
            "  inflating: /content/OIVIS_Lab_3/train/labels/autosave01_02_2012_09_26_02_jpg.rf.74ac8021343388d5ebe4d9553e253204.txt  \n",
            "  inflating: /content/OIVIS_Lab_3/train/labels/autosave01_02_2012_09_26_06_jpg.rf.b165742efa3f7226c5ef73ca2e43c021.txt  \n",
            "  inflating: /content/OIVIS_Lab_3/train/labels/autosave01_02_2012_09_27_52_jpg.rf.5912217b2281870886aa7aec235049ac.txt  \n",
            "  inflating: /content/OIVIS_Lab_3/train/labels/autosave01_02_2012_09_29_08_jpg.rf.18b5b16535632eb4a50e35eee7f97fee.txt  \n",
            "  inflating: /content/OIVIS_Lab_3/train/labels/autosave01_02_2012_09_30_00_jpg.rf.3b6d2ddc0639006c3057f5c72ed700b4.txt  \n",
            "  inflating: /content/OIVIS_Lab_3/train/labels/autosave01_02_2012_09_30_31_jpg.rf.7d4d05683c71ab32b4fbe572de37d733.txt  \n",
            "  inflating: /content/OIVIS_Lab_3/train/labels/autosave01_02_2012_09_30_47_jpg.rf.bd0cbb6ba690e9e07794077f9ac64cf8.txt  \n",
            "  inflating: /content/OIVIS_Lab_3/train/labels/autosave01_02_2012_09_30_49_jpg.rf.3df032e9d535c188b8ce6bc027e45e4a.txt  \n",
            "  inflating: /content/OIVIS_Lab_3/train/labels/autosave01_02_2012_09_31_04_jpg.rf.7c47a2210ec53290c157859349f1e1fa.txt  \n",
            "  inflating: /content/OIVIS_Lab_3/train/labels/autosave01_02_2012_09_33_49_jpg.rf.af5fd2379002933ed5be837f78290da1.txt  \n",
            "  inflating: /content/OIVIS_Lab_3/train/labels/autosave01_02_2012_09_34_06_jpg.rf.bc0f79fe313f375470f0ac2214a1f2fb.txt  \n",
            "  inflating: /content/OIVIS_Lab_3/train/labels/autosave01_02_2012_09_34_07_jpg.rf.a9c1073c2bc3cc3a0afab27416d22cf3.txt  \n",
            "  inflating: /content/OIVIS_Lab_3/train/labels/autosave01_02_2012_09_34_14_jpg.rf.3098ce0358a6ca73f0b706b6fbb078ae.txt  \n",
            "  inflating: /content/OIVIS_Lab_3/train/labels/autosave01_02_2012_09_34_15_jpg.rf.5e1803a7c3974a9c78941e7eb3ccb0d6.txt  \n",
            "  inflating: /content/OIVIS_Lab_3/train/labels/autosave01_02_2012_09_34_25_jpg.rf.ad33152aa8690ddf9a486f94899f8dbe.txt  \n",
            "  inflating: /content/OIVIS_Lab_3/train/labels/autosave01_02_2012_09_34_35_jpg.rf.933cdfff30de05eff54c41c0dc3dfaea.txt  \n",
            "  inflating: /content/OIVIS_Lab_3/train/labels/autosave01_02_2012_09_35_05_jpg.rf.05a74b73e6e06af438271c1b037cecd0.txt  \n",
            "  inflating: /content/OIVIS_Lab_3/train/labels/autosave01_02_2012_09_35_41_jpg.rf.9a40d113732c853dd41b5b2ac5aa7b5d.txt  \n",
            "  inflating: /content/OIVIS_Lab_3/train/labels/autosave01_02_2012_09_36_32_jpg.rf.94d41defe776e115b3448a6b747166f8.txt  \n",
            "  inflating: /content/OIVIS_Lab_3/train/labels/autosave01_02_2012_09_36_33_jpg.rf.be927afa6859569828f5d7336ab7c857.txt  \n",
            "  inflating: /content/OIVIS_Lab_3/train/labels/autosave01_02_2012_09_37_43_jpg.rf.accf04a8a8e6752d23c81748045e29d7.txt  \n",
            "  inflating: /content/OIVIS_Lab_3/train/labels/autosave01_02_2012_09_37_53_jpg.rf.1f986e6604464574ae9a671d1e9879a6.txt  \n",
            "  inflating: /content/OIVIS_Lab_3/train/labels/autosave01_02_2012_09_38_40_jpg.rf.1e0a30c5f8892804cbe2e79d0d68e01b.txt  \n",
            "  inflating: /content/OIVIS_Lab_3/train/labels/autosave01_02_2012_09_38_45_jpg.rf.310315be74ffe528e473f2247834cb18.txt  \n",
            "  inflating: /content/OIVIS_Lab_3/train/labels/autosave01_02_2012_09_39_16_jpg.rf.0c7f3a343c8088a70cdcf8539bd6c358.txt  \n",
            "  inflating: /content/OIVIS_Lab_3/train/labels/autosave01_02_2012_09_40_20_jpg.rf.170f0d319c89949f140f5997cb9953c9.txt  \n",
            "  inflating: /content/OIVIS_Lab_3/train/labels/autosave01_02_2012_09_40_23_jpg.rf.50ca59dbf5fa56972896836bf8313aa1.txt  \n",
            "  inflating: /content/OIVIS_Lab_3/train/labels/autosave01_02_2012_09_40_24_jpg.rf.78e7f7d8bc8e9624f086e2db893f0608.txt  \n",
            "  inflating: /content/OIVIS_Lab_3/train/labels/autosave01_02_2012_09_40_29_jpg.rf.d72da2d0a4e13dc673355dc501cc3eb6.txt  \n",
            "  inflating: /content/OIVIS_Lab_3/train/labels/autosave01_02_2012_09_40_33_jpg.rf.ac56958434009fc0b6397304e200b2b2.txt  \n",
            "  inflating: /content/OIVIS_Lab_3/train/labels/autosave01_02_2012_09_42_29_jpg.rf.f092ec2af623d4f675657788e1fdbb8f.txt  \n",
            "  inflating: /content/OIVIS_Lab_3/train/labels/autosave01_02_2012_09_42_32_jpg.rf.6b2cefce2e959f1ca2c25889829783ec.txt  \n",
            "  inflating: /content/OIVIS_Lab_3/train/labels/autosave01_02_2012_09_42_35_jpg.rf.1bea10e6a202f39a2049d7bdebdfc1b5.txt  \n",
            "  inflating: /content/OIVIS_Lab_3/train/labels/autosave01_02_2012_09_42_37_jpg.rf.e3a64fc8471632b6b20c63926a33f35a.txt  \n",
            "  inflating: /content/OIVIS_Lab_3/train/labels/autosave01_02_2012_09_43_37_jpg.rf.40bb915a1f20cd898195d6226d814409.txt  \n",
            "  inflating: /content/OIVIS_Lab_3/train/labels/autosave01_02_2012_09_44_13_jpg.rf.ed8abca80a3819ae131f812dd29084f8.txt  \n",
            "  inflating: /content/OIVIS_Lab_3/train/labels/autosave01_02_2012_09_44_14_jpg.rf.a4426537cbf070d5e96c7f51843725c3.txt  \n",
            "  inflating: /content/OIVIS_Lab_3/train/labels/autosave01_02_2012_09_44_20_jpg.rf.bda9832f306643175ad3ce0246e92930.txt  \n",
            "  inflating: /content/OIVIS_Lab_3/train/labels/autosave01_02_2012_09_44_53_jpg.rf.09486204ff9c0bdc90e9564cdbdf406c.txt  \n",
            "  inflating: /content/OIVIS_Lab_3/train/labels/autosave01_02_2012_09_45_35_jpg.rf.48d3104d0bd09d93693870617b14f4d7.txt  \n",
            "  inflating: /content/OIVIS_Lab_3/train/labels/autosave01_02_2012_09_45_48_jpg.rf.ba033e59f7e541e2e9914be9e0deeff4.txt  \n",
            "  inflating: /content/OIVIS_Lab_3/train/labels/autosave01_02_2012_09_45_49_jpg.rf.30094efef410ada32fea98d6a7edd293.txt  \n",
            "  inflating: /content/OIVIS_Lab_3/train/labels/autosave01_02_2012_09_46_07_jpg.rf.845fd5c79d0f3c1fd6a5c541deb9d204.txt  \n",
            "  inflating: /content/OIVIS_Lab_3/train/labels/autosave01_02_2012_09_46_17_jpg.rf.f472380912d194666ae06f979d676a76.txt  \n",
            "  inflating: /content/OIVIS_Lab_3/train/labels/autosave01_02_2012_09_46_40_jpg.rf.5acae8872c199732c96540afea318e1a.txt  \n",
            "  inflating: /content/OIVIS_Lab_3/train/labels/autosave01_02_2012_09_47_30_jpg.rf.7281ad80ef500b9dabc82b58fcce057f.txt  \n",
            "  inflating: /content/OIVIS_Lab_3/train/labels/autosave01_02_2012_09_47_34_jpg.rf.75a7417cf675f7712d17d77d50ef82f1.txt  \n",
            "  inflating: /content/OIVIS_Lab_3/train/labels/autosave01_02_2012_09_47_42_jpg.rf.fe7c6ff507dc89c884c7f4549fad3706.txt  \n",
            "  inflating: /content/OIVIS_Lab_3/train/labels/autosave01_02_2012_09_47_45_jpg.rf.e0b50b4d109b4e166eba2b9456fcdffa.txt  \n",
            "  inflating: /content/OIVIS_Lab_3/train/labels/autosave01_02_2012_09_48_55_jpg.rf.d023a31ccb092d132389390a6b22a363.txt  \n",
            "  inflating: /content/OIVIS_Lab_3/train/labels/autosave01_02_2012_09_48_58_jpg.rf.e46bf25af9186e613c24550046a9f6f2.txt  \n",
            "  inflating: /content/OIVIS_Lab_3/train/labels/autosave01_02_2012_09_49_04_jpg.rf.80b0044b8e9136ae2a9e75be1be7dea6.txt  \n",
            "  inflating: /content/OIVIS_Lab_3/train/labels/autosave01_02_2012_09_50_10_jpg.rf.70837d4e701edfc2777bfdc7f43960f3.txt  \n",
            "  inflating: /content/OIVIS_Lab_3/train/labels/autosave01_02_2012_09_50_22_jpg.rf.45e8c0e8b4473b6d22a73ab17aab0bd8.txt  \n",
            "  inflating: /content/OIVIS_Lab_3/train/labels/autosave01_02_2012_09_51_31_jpg.rf.52729e29f5b36c5def79b0ed3f2a7468.txt  \n",
            "  inflating: /content/OIVIS_Lab_3/train/labels/autosave01_02_2012_09_51_38_jpg.rf.1c161047c72cf00d1376fbe250130b2d.txt  \n",
            "  inflating: /content/OIVIS_Lab_3/train/labels/autosave01_02_2012_09_51_39_jpg.rf.2f4eded8c8830490a929533e13cb3344.txt  \n",
            "  inflating: /content/OIVIS_Lab_3/train/labels/autosave01_02_2012_09_51_41_jpg.rf.2e9dfe3fdc17f9b66b8ef9f37dbf3b1a.txt  \n",
            "  inflating: /content/OIVIS_Lab_3/train/labels/autosave01_02_2012_09_52_18_jpg.rf.b69fbab807501e1e12eff8bf4a9f21c0.txt  \n",
            "  inflating: /content/OIVIS_Lab_3/train/labels/autosave01_02_2012_09_53_31_jpg.rf.43fbf340efdf6522ef3edb02b92ec5c6.txt  \n",
            "  inflating: /content/OIVIS_Lab_3/train/labels/autosave01_02_2012_09_53_35_jpg.rf.4c7e8d9ce0fe16aee4e27ac128627d3a.txt  \n",
            "  inflating: /content/OIVIS_Lab_3/train/labels/autosave01_02_2012_09_53_41_jpg.rf.2f417a8ec46b6d8b4390884fd0ba55e2.txt  \n",
            "  inflating: /content/OIVIS_Lab_3/train/labels/autosave01_02_2012_09_54_23_jpg.rf.972905e2e29ce3108d8f370aecf14a0a.txt  \n",
            "  inflating: /content/OIVIS_Lab_3/train/labels/autosave01_02_2012_09_56_14_jpg.rf.871bed2bf1fb01a01f708878d8236db1.txt  \n",
            "  inflating: /content/OIVIS_Lab_3/train/labels/autosave01_02_2012_09_56_21_jpg.rf.e99105fec4771eb062a2d4cc9eba0b27.txt  \n",
            "  inflating: /content/OIVIS_Lab_3/train/labels/autosave01_02_2012_09_57_48_jpg.rf.494b1a2148c4efc752ce105ee161cdf4.txt  \n",
            "  inflating: /content/OIVIS_Lab_3/train/labels/autosave01_02_2012_09_58_11_jpg.rf.d948ce18c25ddf90d8d78fdf7326159a.txt  \n",
            "  inflating: /content/OIVIS_Lab_3/train/labels/autosave01_02_2012_10_02_16_jpg.rf.cd369f2fbf03b1ac2a5dd6bee3c54091.txt  \n",
            "  inflating: /content/OIVIS_Lab_3/train/labels/autosave01_02_2012_10_03_27_jpg.rf.6a07267ec2ddf0af08af48520d4f6c24.txt  \n",
            "  inflating: /content/OIVIS_Lab_3/train/labels/autosave01_02_2012_10_03_28_jpg.rf.5c7591a9ec49688199bf89c0ae98b2dc.txt  \n",
            "  inflating: /content/OIVIS_Lab_3/train/labels/autosave01_02_2012_10_04_33_jpg.rf.5cb6f772121e078c6b5a49744f3da9fc.txt  \n",
            "  inflating: /content/OIVIS_Lab_3/train/labels/autosave01_02_2012_10_04_52_jpg.rf.481d120d29b4f1c9d410f226c9562386.txt  \n",
            "  inflating: /content/OIVIS_Lab_3/train/labels/autosave01_02_2012_10_07_50_jpg.rf.e5548db7aac3cfe67e3097ecde136a0e.txt  \n",
            "  inflating: /content/OIVIS_Lab_3/train/labels/autosave01_02_2012_10_08_18_jpg.rf.f0102a121269c65f63b4a2960b09f6fd.txt  \n",
            "  inflating: /content/OIVIS_Lab_3/train/labels/autosave01_02_2012_10_08_33_jpg.rf.25644fd06380caff3e97b8e9a168bc71.txt  \n",
            "  inflating: /content/OIVIS_Lab_3/train/labels/autosave01_02_2012_10_10_28_jpg.rf.5efe43d3d746325776a202ec51621267.txt  \n",
            "  inflating: /content/OIVIS_Lab_3/train/labels/autosave01_02_2012_10_11_46_jpg.rf.04f50c713dc34ae3bec5f78552e77ce9.txt  \n",
            "  inflating: /content/OIVIS_Lab_3/train/labels/autosave01_02_2012_10_12_19_jpg.rf.78fe211123d5bdcb717e87d63b8f6250.txt  \n",
            "  inflating: /content/OIVIS_Lab_3/train/labels/autosave01_02_2012_10_13_15_jpg.rf.b74060acd0fb012ae5c8087ce4ce7e03.txt  \n",
            "  inflating: /content/OIVIS_Lab_3/train/labels/autosave01_02_2012_10_13_45_jpg.rf.dcc9f20969726013c65ac1ee1a09a447.txt  \n",
            "  inflating: /content/OIVIS_Lab_3/train/labels/autosave01_02_2012_10_14_44_jpg.rf.132f09f1ab9128760dd9708c81474398.txt  \n",
            "  inflating: /content/OIVIS_Lab_3/train/labels/autosave01_02_2012_10_14_46_jpg.rf.b8ff65085b226f47c0d3e7d2edd845be.txt  \n",
            "  inflating: /content/OIVIS_Lab_3/train/labels/autosave01_02_2012_10_15_24_jpg.rf.a96c3fda9332d9237b9b2b5078d5ba60.txt  \n",
            "  inflating: /content/OIVIS_Lab_3/train/labels/autosave01_02_2012_10_15_35_jpg.rf.0d07a8a34fd34ea7f2dae2c83cd59cb5.txt  \n",
            "  inflating: /content/OIVIS_Lab_3/train/labels/autosave01_02_2012_10_15_49_jpg.rf.c5c67ca8cd4736819b0e0042c3b3be8c.txt  \n",
            "  inflating: /content/OIVIS_Lab_3/train/labels/autosave01_02_2012_10_16_23_jpg.rf.d3f1e8adba5acd9b3da5fc850a1b226d.txt  \n",
            "  inflating: /content/OIVIS_Lab_3/train/labels/autosave01_02_2012_10_16_37_jpg.rf.0bd302ca8b5e062c9a3771b1b7be4198.txt  \n",
            "  inflating: /content/OIVIS_Lab_3/train/labels/autosave01_02_2012_10_17_09_jpg.rf.f17bcc43124f9f46581c04ac02d2e711.txt  \n",
            "  inflating: /content/OIVIS_Lab_3/train/labels/autosave01_02_2012_10_17_55_jpg.rf.97f95a63dac6728fc4fad87675b649f4.txt  \n",
            "  inflating: /content/OIVIS_Lab_3/train/labels/autosave01_02_2012_10_18_40_jpg.rf.77b5f8e2c866e219b16323079081a0c3.txt  \n",
            "  inflating: /content/OIVIS_Lab_3/train/labels/autosave01_02_2012_10_24_53_jpg.rf.8629f687dfa980ea3cded9e3fceead56.txt  \n",
            "  inflating: /content/OIVIS_Lab_3/train/labels/autosave01_02_2012_10_25_08_jpg.rf.63bdd3a199c36bd560814ca7686937c7.txt  \n",
            "  inflating: /content/OIVIS_Lab_3/train/labels/autosave01_02_2012_10_25_09_jpg.rf.2d25ab695617139c405b84824759f867.txt  \n",
            "  inflating: /content/OIVIS_Lab_3/train/labels/autosave01_02_2012_10_26_16_jpg.rf.e282d665bafe016bd7bece149011aef0.txt  \n",
            "  inflating: /content/OIVIS_Lab_3/train/labels/autosave01_02_2012_10_26_33_jpg.rf.2bafec57e1cd37988ad37c9d1f4a1528.txt  \n",
            "  inflating: /content/OIVIS_Lab_3/train/labels/autosave01_02_2012_10_26_34_jpg.rf.98cc99b1fdab3b2fc875506669738338.txt  \n",
            "  inflating: /content/OIVIS_Lab_3/train/labels/autosave01_02_2012_10_26_35_jpg.rf.f1e3d27f0127a56f0243d8211a1b4e9c.txt  \n",
            "  inflating: /content/OIVIS_Lab_3/train/labels/autosave01_02_2012_10_26_38_jpg.rf.01d8e38fc22d21221ee9fcabf0a78afe.txt  \n",
            "  inflating: /content/OIVIS_Lab_3/train/labels/autosave01_02_2012_10_26_40_jpg.rf.54b3b88ec4e8c6eb1c661a5e2c6ab81a.txt  \n",
            "  inflating: /content/OIVIS_Lab_3/train/labels/autosave01_02_2012_10_27_02_jpg.rf.fd734b17ed925ae6bb530117732d2822.txt  \n",
            "  inflating: /content/OIVIS_Lab_3/train/labels/autosave01_02_2012_10_27_07_jpg.rf.719c64e1fe8b488a4480e02cee78f72b.txt  \n",
            "  inflating: /content/OIVIS_Lab_3/train/labels/autosave01_02_2012_10_27_12_jpg.rf.38d596652dcf5e34048f03beca73881c.txt  \n",
            "  inflating: /content/OIVIS_Lab_3/train/labels/autosave01_02_2012_10_27_34_jpg.rf.9fb995fd99284e7282738e84861f1ed7.txt  \n",
            "  inflating: /content/OIVIS_Lab_3/train/labels/autosave01_02_2012_10_27_43_jpg.rf.f7c3941bceb46ad101b209ea86495571.txt  \n",
            "  inflating: /content/OIVIS_Lab_3/train/labels/autosave01_02_2012_10_27_44_jpg.rf.a5f86c586127610f1d9a0fe445a09c4e.txt  \n",
            "  inflating: /content/OIVIS_Lab_3/train/labels/autosave01_02_2012_10_27_48_jpg.rf.c246d7c82d08cabcdfe4741d65122c5f.txt  \n",
            "  inflating: /content/OIVIS_Lab_3/train/labels/autosave01_02_2012_10_27_50_jpg.rf.65432be6c31a22726b3a20e170b42015.txt  \n",
            "  inflating: /content/OIVIS_Lab_3/train/labels/autosave01_02_2012_10_31_30_jpg.rf.775641c042c2b20c409c92b7b8573f5b.txt  \n",
            "  inflating: /content/OIVIS_Lab_3/train/labels/autosave01_02_2012_10_31_34_jpg.rf.5989f4068ae33f155eae4f0527d823ff.txt  \n",
            "  inflating: /content/OIVIS_Lab_3/train/labels/autosave01_02_2012_10_31_35_jpg.rf.38b0ff92dbdb0d35d1ecca5acba10414.txt  \n",
            "  inflating: /content/OIVIS_Lab_3/train/labels/autosave01_02_2012_10_31_36_jpg.rf.d54a11bb10671621ebd5a61e400343b1.txt  \n",
            "  inflating: /content/OIVIS_Lab_3/train/labels/autosave01_02_2012_10_31_38_jpg.rf.ac3fc7d964555d2073e719e11887306b.txt  \n",
            "  inflating: /content/OIVIS_Lab_3/train/labels/autosave01_02_2012_10_31_39_jpg.rf.6940a21bd78de0ec1ab984d35ed17248.txt  \n",
            "  inflating: /content/OIVIS_Lab_3/train/labels/autosave01_02_2012_10_31_41_jpg.rf.cf279faf9f149120f636b20796d20650.txt  \n",
            "  inflating: /content/OIVIS_Lab_3/train/labels/autosave01_02_2012_10_31_43_jpg.rf.86395b940b12bc441d190a8303d8cd9a.txt  \n",
            "  inflating: /content/OIVIS_Lab_3/train/labels/autosave01_02_2012_10_32_01_jpg.rf.28749b3eb8abc2390e29e5db26113ede.txt  \n",
            "  inflating: /content/OIVIS_Lab_3/train/labels/autosave01_02_2012_10_32_03_jpg.rf.9261186aae4a381d1eaeb3585954d9f3.txt  \n",
            "  inflating: /content/OIVIS_Lab_3/train/labels/autosave01_02_2012_10_32_05_jpg.rf.2b46f2d59dd9da9506b72d028c39d6dd.txt  \n",
            "  inflating: /content/OIVIS_Lab_3/train/labels/autosave01_02_2012_10_32_08_jpg.rf.786f67210c8f98e408f6fa4cec25a0bd.txt  \n",
            "  inflating: /content/OIVIS_Lab_3/train/labels/autosave01_02_2012_10_32_13_jpg.rf.40c28be648e498836efbdbbf594a95e5.txt  \n",
            "  inflating: /content/OIVIS_Lab_3/train/labels/autosave01_02_2012_10_32_14_jpg.rf.7d93ecd9f4e8f40931119571012a4a79.txt  \n",
            "  inflating: /content/OIVIS_Lab_3/train/labels/autosave01_02_2012_10_32_29_jpg.rf.52dc003cd71c8da1e74c24b3887917e1.txt  \n",
            "  inflating: /content/OIVIS_Lab_3/train/labels/autosave01_02_2012_10_33_03_jpg.rf.07cd58ab8b4602267b774e8d223a0fc3.txt  \n",
            "  inflating: /content/OIVIS_Lab_3/train/labels/autosave01_02_2012_10_33_05_jpg.rf.5c3e7be559815d6273266cc295c18b42.txt  \n",
            "  inflating: /content/OIVIS_Lab_3/train/labels/autosave01_02_2012_10_33_08_jpg.rf.a8f6b7c196ceb652af2695addf49037e.txt  \n",
            "  inflating: /content/OIVIS_Lab_3/train/labels/autosave01_02_2012_10_33_10_jpg.rf.1b3c01f29b1ae831ec1cde57777c514b.txt  \n",
            "  inflating: /content/OIVIS_Lab_3/train/labels/autosave01_02_2012_10_34_43_jpg.rf.2b27fb999dd3ed02dd92ee3257650385.txt  \n",
            "  inflating: /content/OIVIS_Lab_3/train/labels/autosave01_02_2012_10_34_45_jpg.rf.4bbd574b28e261d80a4b2206705af93e.txt  \n",
            "  inflating: /content/OIVIS_Lab_3/train/labels/autosave01_02_2012_10_34_59_jpg.rf.adcc9c80b1941605ba88b97a32a594c4.txt  \n",
            "  inflating: /content/OIVIS_Lab_3/train/labels/autosave01_02_2012_10_35_00_jpg.rf.13167107e5068f287d96f14f69c76758.txt  \n",
            "  inflating: /content/OIVIS_Lab_3/train/labels/autosave01_02_2012_10_35_06_jpg.rf.b852f425b22963badc71624c0e8742ca.txt  \n",
            "  inflating: /content/OIVIS_Lab_3/train/labels/autosave01_02_2012_10_35_15_jpg.rf.02a8a0a43f7982c16c6c3916d621326c.txt  \n",
            "  inflating: /content/OIVIS_Lab_3/train/labels/autosave01_02_2012_10_35_16_jpg.rf.db07c923e1695d9625b61b9974d8eb58.txt  \n",
            "  inflating: /content/OIVIS_Lab_3/train/labels/autosave01_02_2012_10_37_31_jpg.rf.80841618f9a318f7bc7e4492206514fe.txt  \n",
            "  inflating: /content/OIVIS_Lab_3/train/labels/autosave01_02_2012_10_37_32_jpg.rf.91a0aeb99927525f57cedd1532dd1b9c.txt  \n",
            "  inflating: /content/OIVIS_Lab_3/train/labels/autosave01_02_2012_10_37_37_jpg.rf.4af46be12ed735a454d0d067cc00bea6.txt  \n",
            "  inflating: /content/OIVIS_Lab_3/train/labels/autosave01_02_2012_10_37_39_jpg.rf.242609d50cd3ef16808ea460136c89bc.txt  \n",
            "  inflating: /content/OIVIS_Lab_3/train/labels/autosave01_02_2012_10_37_43_jpg.rf.6b3d7ad225cbb73885f81c1ed86ca877.txt  \n",
            "  inflating: /content/OIVIS_Lab_3/train/labels/autosave01_02_2012_10_37_45_jpg.rf.a4cc516fc87c084551f4fd1e3b6fac5f.txt  \n",
            "  inflating: /content/OIVIS_Lab_3/train/labels/autosave01_02_2012_10_37_47_jpg.rf.542f81ae875bf1ee4d7d67079cb2ba05.txt  \n",
            "  inflating: /content/OIVIS_Lab_3/train/labels/autosave01_02_2012_10_38_09_jpg.rf.b046412994c217c9cab0cd7d6d7b4fa7.txt  \n",
            "  inflating: /content/OIVIS_Lab_3/train/labels/autosave01_02_2012_10_38_10_jpg.rf.7b1f3a6311c04fe0a8136f644ae9f08e.txt  \n",
            "  inflating: /content/OIVIS_Lab_3/train/labels/autosave01_02_2012_10_38_11_jpg.rf.ab7cebe1d699ee998b8b3dca94edc09c.txt  \n",
            "  inflating: /content/OIVIS_Lab_3/train/labels/autosave01_02_2012_10_38_15_jpg.rf.b7e18e7fe06bcdd11fb643c1dcc93efe.txt  \n",
            "  inflating: /content/OIVIS_Lab_3/train/labels/autosave01_02_2012_10_38_45_jpg.rf.7876b43d8a549ad68ac0d0b722055a97.txt  \n",
            "  inflating: /content/OIVIS_Lab_3/train/labels/autosave01_02_2012_10_39_17_jpg.rf.8b2fa9609d7d054e212e71fcb805f58b.txt  \n",
            "  inflating: /content/OIVIS_Lab_3/train/labels/autosave01_02_2012_10_39_22_jpg.rf.8ea55e5492aee9b953d6f195af364db4.txt  \n",
            "  inflating: /content/OIVIS_Lab_3/train/labels/autosave01_02_2012_10_39_52_jpg.rf.865179648c854f3f4e758a3e68fa81d8.txt  \n",
            "  inflating: /content/OIVIS_Lab_3/train/labels/autosave01_02_2012_10_40_27_jpg.rf.3db68abf324aa811f0a56aba3739314e.txt  \n",
            "  inflating: /content/OIVIS_Lab_3/train/labels/autosave01_02_2012_10_40_29_jpg.rf.dafa0e2c521884fa46572bc1239e84a4.txt  \n",
            "  inflating: /content/OIVIS_Lab_3/train/labels/autosave01_02_2012_10_40_31_jpg.rf.4fdec192e0968ef5ba086259f5d0f542.txt  \n",
            "  inflating: /content/OIVIS_Lab_3/train/labels/autosave01_02_2012_10_41_01_jpg.rf.6331de0906ba5ec4a0a5c2898719a54f.txt  \n",
            "  inflating: /content/OIVIS_Lab_3/train/labels/autosave01_02_2012_10_41_06_jpg.rf.b668700da5fdb41d164f7118d308cf7c.txt  \n",
            "  inflating: /content/OIVIS_Lab_3/train/labels/autosave01_02_2012_10_41_09_jpg.rf.eebb8d9867d24840ce798de801c76c6a.txt  \n",
            "  inflating: /content/OIVIS_Lab_3/train/labels/autosave01_02_2012_10_41_40_jpg.rf.98006006a9e3b98d25522f68660f84c0.txt  \n",
            "  inflating: /content/OIVIS_Lab_3/train/labels/autosave01_02_2012_10_42_22_jpg.rf.2a4824fe248cb589cebda8f59dd7fada.txt  \n",
            "  inflating: /content/OIVIS_Lab_3/train/labels/autosave01_02_2012_10_43_12_jpg.rf.80f53d9283b07400d6baf1ad94ea4727.txt  \n",
            "  inflating: /content/OIVIS_Lab_3/train/labels/autosave01_02_2012_10_43_36_jpg.rf.22c9dc5494f3b91097d07a7ca09575af.txt  \n",
            "  inflating: /content/OIVIS_Lab_3/train/labels/autosave01_02_2012_10_43_37_jpg.rf.d0846abca926ea060fb8de8cff81700c.txt  \n",
            "  inflating: /content/OIVIS_Lab_3/train/labels/autosave01_02_2012_10_47_48_jpg.rf.7bbbef440ede00b4a487cea02f56e956.txt  \n",
            "  inflating: /content/OIVIS_Lab_3/train/labels/autosave01_02_2012_10_47_50_jpg.rf.90ed85dc856960eefd36c7f230d35e24.txt  \n",
            "  inflating: /content/OIVIS_Lab_3/train/labels/autosave01_02_2012_10_48_47_jpg.rf.4ca04ab8535005cbaf4d4aafdd1a9cf6.txt  \n",
            "  inflating: /content/OIVIS_Lab_3/train/labels/autosave01_02_2012_10_48_48_jpg.rf.daaf1f4ef37fc06a8ea5bd29b634f6bb.txt  \n",
            "  inflating: /content/OIVIS_Lab_3/train/labels/autosave01_02_2012_10_49_47_jpg.rf.4a70c815783a1cc71d53b57867eef097.txt  \n",
            "  inflating: /content/OIVIS_Lab_3/train/labels/autosave01_02_2012_10_49_49_jpg.rf.85773d1beed50b21992ac6799a97de96.txt  \n",
            "  inflating: /content/OIVIS_Lab_3/train/labels/autosave01_02_2012_10_52_16_jpg.rf.59a6a97c03f846af0e525fd453ac1608.txt  \n",
            "  inflating: /content/OIVIS_Lab_3/train/labels/autosave01_02_2012_10_52_19_jpg.rf.c399cbcd116fcca5e65dfb2d8469cb61.txt  \n",
            "  inflating: /content/OIVIS_Lab_3/train/labels/autosave01_02_2012_10_52_38_jpg.rf.7745165e283d8c98834002a5d697e97b.txt  \n",
            "  inflating: /content/OIVIS_Lab_3/train/labels/autosave01_02_2012_10_53_17_jpg.rf.6e13c2c557ff56dd1666b1e72116ec77.txt  \n",
            "  inflating: /content/OIVIS_Lab_3/train/labels/autosave01_02_2012_10_59_04_jpg.rf.58ca5bc97f56f6dd546a83bbca03f3fb.txt  \n",
            "  inflating: /content/OIVIS_Lab_3/train/labels/autosave01_02_2012_10_59_06_jpg.rf.8c5bd6f5565218863cd991e00c51231f.txt  \n",
            "  inflating: /content/OIVIS_Lab_3/train/labels/autosave01_02_2012_10_59_13_jpg.rf.bfdb09f2b9acc03128663ce4d780b5c4.txt  \n",
            "  inflating: /content/OIVIS_Lab_3/train/labels/autosave01_02_2012_11_03_53_jpg.rf.9d89aa088989aa0b183a2ccf3e573c64.txt  \n",
            "  inflating: /content/OIVIS_Lab_3/train/labels/autosave01_02_2012_11_04_56_jpg.rf.4e8949d7ca77ce8ca538523efa916d27.txt  \n",
            "  inflating: /content/OIVIS_Lab_3/train/labels/autosave01_02_2012_11_05_28_jpg.rf.2413639c02ba05eebdb0ac7208cf868c.txt  \n",
            "  inflating: /content/OIVIS_Lab_3/train/labels/autosave01_02_2012_11_06_00_jpg.rf.bedeb003350726d9a34fd3df14abc0a9.txt  \n",
            "  inflating: /content/OIVIS_Lab_3/train/labels/autosave01_02_2012_11_06_49_jpg.rf.fb30ddc8ecac502938f996002a934906.txt  \n",
            "  inflating: /content/OIVIS_Lab_3/train/labels/autosave01_02_2012_11_07_44_jpg.rf.cf16de3a3feb9f58abe16719234c2e65.txt  \n",
            "  inflating: /content/OIVIS_Lab_3/train/labels/autosave01_02_2012_11_08_31_jpg.rf.72ddc28630600a9d04a249dbe741a53d.txt  \n",
            "  inflating: /content/OIVIS_Lab_3/train/labels/autosave01_02_2012_11_09_24_jpg.rf.180feeb8dc2032ab7dd9b03bde6c6dcc.txt  \n",
            "  inflating: /content/OIVIS_Lab_3/train/labels/autosave01_02_2012_11_09_25_jpg.rf.b929b852c6576a1b29c4eab74f5193f8.txt  \n",
            "  inflating: /content/OIVIS_Lab_3/train/labels/autosave01_02_2012_11_10_17_jpg.rf.b481a9b9c8ec40a0accb7ce0f96d4d31.txt  \n",
            "  inflating: /content/OIVIS_Lab_3/train/labels/autosave01_02_2012_11_10_20_jpg.rf.1175fe3d20ed3bd08aa831f992cdb97c.txt  \n",
            "  inflating: /content/OIVIS_Lab_3/train/labels/autosave01_02_2012_11_10_28_jpg.rf.8a60dad62fc91559b982823f7dcf07b2.txt  \n",
            "  inflating: /content/OIVIS_Lab_3/train/labels/autosave01_02_2012_11_10_51_jpg.rf.1ce48aadb33f0831632fea452a3c0c40.txt  \n",
            "  inflating: /content/OIVIS_Lab_3/train/labels/autosave01_02_2012_11_13_18_jpg.rf.10fee68e1969587d7c93e9b42636da7a.txt  \n",
            "  inflating: /content/OIVIS_Lab_3/train/labels/autosave01_02_2012_11_13_21_jpg.rf.3d89c1eff814600bf9cc21b6c92cd7a5.txt  \n",
            "  inflating: /content/OIVIS_Lab_3/train/labels/autosave01_02_2012_11_13_36_jpg.rf.e41a47a5fce7198a8b3ae4d96083cb64.txt  \n",
            "  inflating: /content/OIVIS_Lab_3/train/labels/autosave01_02_2012_11_14_01_jpg.rf.3fcbd6a2df97877187f0031c1179e58a.txt  \n",
            "  inflating: /content/OIVIS_Lab_3/train/labels/autosave01_02_2012_11_27_54_jpg.rf.f0292629fe120804510c661692490f8e.txt  \n",
            "  inflating: /content/OIVIS_Lab_3/train/labels/autosave01_02_2012_11_28_19_jpg.rf.3dced1ddcb2901a90b5bcbaa202af5e7.txt  \n",
            "  inflating: /content/OIVIS_Lab_3/train/labels/autosave01_02_2012_11_28_25_jpg.rf.d08eb05e6535ffe078ac76f4682cd059.txt  \n",
            "  inflating: /content/OIVIS_Lab_3/train/labels/autosave01_02_2012_11_28_26_jpg.rf.151e3959d44052e6668117e1b0904933.txt  \n",
            "  inflating: /content/OIVIS_Lab_3/train/labels/autosave01_02_2012_11_28_27_jpg.rf.bda2886db2aa696166f81152b1659b31.txt  \n",
            "  inflating: /content/OIVIS_Lab_3/train/labels/autosave01_02_2012_11_29_34_jpg.rf.359249ab919b33019ef68977cdeb1ca0.txt  \n",
            "  inflating: /content/OIVIS_Lab_3/train/labels/autosave01_02_2012_11_29_43_jpg.rf.bf24f5e8231da9e181bbaf71934254b0.txt  \n",
            "  inflating: /content/OIVIS_Lab_3/train/labels/autosave01_02_2012_11_32_03_jpg.rf.e67ba884276159b78a55770303c86dd4.txt  \n",
            "  inflating: /content/OIVIS_Lab_3/train/labels/autosave01_02_2012_11_32_07_jpg.rf.008fec658a8bcdd46c184a3b790a6c4c.txt  \n",
            "  inflating: /content/OIVIS_Lab_3/train/labels/autosave01_02_2012_11_34_55_jpg.rf.bca771fd935d8eecde607fea15b09db9.txt  \n",
            "  inflating: /content/OIVIS_Lab_3/train/labels/autosave01_02_2012_11_34_56_jpg.rf.1a9d3e74b6080fcf759e7d17c046a40d.txt  \n",
            "  inflating: /content/OIVIS_Lab_3/train/labels/autosave01_02_2012_11_35_08_jpg.rf.7b6abfbb79a5bca0dfdf6fbf1f08fb6f.txt  \n",
            "  inflating: /content/OIVIS_Lab_3/train/labels/autosave01_02_2012_11_35_27_jpg.rf.2af4031ec21e6a462f5c15aec376a171.txt  \n",
            "  inflating: /content/OIVIS_Lab_3/train/labels/autosave01_02_2012_11_35_59_jpg.rf.28243d58c5e9890a2ffdae09ed862220.txt  \n",
            "  inflating: /content/OIVIS_Lab_3/train/labels/autosave01_02_2012_11_36_17_jpg.rf.d4708f77b0990eaae8e18e6e76baeeb1.txt  \n",
            "  inflating: /content/OIVIS_Lab_3/train/labels/autosave01_02_2012_11_36_37_jpg.rf.47e3a932cc26f4b3646f6b5f5b399a8c.txt  \n",
            "  inflating: /content/OIVIS_Lab_3/train/labels/autosave01_02_2012_11_37_08_jpg.rf.44c42b9f4e36425cdf262f66aa8a0522.txt  \n",
            "  inflating: /content/OIVIS_Lab_3/train/labels/autosave01_02_2012_11_37_11_jpg.rf.1c3a66fb2d173e186d6efeef0e72fba2.txt  \n",
            "  inflating: /content/OIVIS_Lab_3/train/labels/autosave01_02_2012_11_37_35_jpg.rf.5441a9bc8a92874047adf0469f1187aa.txt  \n",
            "  inflating: /content/OIVIS_Lab_3/train/labels/autosave01_02_2012_11_38_00_jpg.rf.74a2e4824fb1812a6bfd34dbc31d2070.txt  \n",
            "  inflating: /content/OIVIS_Lab_3/train/labels/autosave01_02_2012_11_38_30_jpg.rf.54fd859c29d8c7150823ca8ddfce86a1.txt  \n",
            "  inflating: /content/OIVIS_Lab_3/train/labels/autosave01_02_2012_11_38_59_jpg.rf.ff97c3111d330ba5a857bf038a0a8539.txt  \n",
            "  inflating: /content/OIVIS_Lab_3/train/labels/autosave01_02_2012_11_39_12_jpg.rf.ccc421dfdcdbe3623b9a70df6f973bb7.txt  \n",
            "  inflating: /content/OIVIS_Lab_3/train/labels/autosave01_02_2012_11_39_32_jpg.rf.d9bca2eeae2c72fe52b98ba3442131c9.txt  \n",
            "  inflating: /content/OIVIS_Lab_3/train/labels/autosave01_02_2012_11_40_03_jpg.rf.329325cb0ad7459d5e57df796f2ed156.txt  \n",
            "  inflating: /content/OIVIS_Lab_3/train/labels/autosave01_02_2012_11_40_06_jpg.rf.d7dc4849967cd04adc62c88bc99a8dc0.txt  \n",
            "  inflating: /content/OIVIS_Lab_3/train/labels/autosave01_02_2012_11_40_18_jpg.rf.d4a770d1a837ccc3efefb4f35ba64cc0.txt  \n",
            "  inflating: /content/OIVIS_Lab_3/train/labels/autosave01_02_2012_11_40_50_jpg.rf.62cf78dc3c6a5843451877f738a60442.txt  \n",
            "  inflating: /content/OIVIS_Lab_3/train/labels/autosave01_02_2012_11_41_35_jpg.rf.9ecd9a61373b1cb9d66b97f03f26b160.txt  \n",
            "  inflating: /content/OIVIS_Lab_3/train/labels/autosave01_02_2012_11_41_37_jpg.rf.5efc547e0be902515a24386ad03d337e.txt  \n",
            "  inflating: /content/OIVIS_Lab_3/train/labels/autosave01_02_2012_11_43_20_jpg.rf.c3001d579c81e8e9b7cf7ea000f7529b.txt  \n",
            "  inflating: /content/OIVIS_Lab_3/train/labels/autosave01_02_2012_11_45_04_jpg.rf.f287d6e412e5669fa16f8f70e55fc52e.txt  \n",
            "  inflating: /content/OIVIS_Lab_3/train/labels/autosave01_02_2012_11_45_44_jpg.rf.9600a6ec01fd9d13a4b672a41490dcd5.txt  \n",
            "  inflating: /content/OIVIS_Lab_3/train/labels/autosave01_02_2012_11_45_55_jpg.rf.f3382a0058af26c2ccd2953e30b7cb1e.txt  \n",
            "  inflating: /content/OIVIS_Lab_3/train/labels/autosave01_02_2012_11_50_59_jpg.rf.b902c8d0d87c207a7098690f3a3ce955.txt  \n",
            "  inflating: /content/OIVIS_Lab_3/train/labels/autosave01_02_2012_11_51_00_jpg.rf.4ef459f93f1ec6dbc4b11c3431e8af83.txt  \n",
            "  inflating: /content/OIVIS_Lab_3/train/labels/autosave01_02_2012_11_57_32_jpg.rf.052e74324480bc67263f19c2c732fef0.txt  \n",
            "  inflating: /content/OIVIS_Lab_3/train/labels/autosave01_02_2012_11_58_39_jpg.rf.b464a7e899847c0462f27e3676484d07.txt  \n",
            "  inflating: /content/OIVIS_Lab_3/train/labels/autosave01_02_2012_11_58_40_jpg.rf.8187a61284ac3703d5ce656198e2ac0d.txt  \n",
            "  inflating: /content/OIVIS_Lab_3/train/labels/autosave01_02_2012_11_58_44_jpg.rf.99defe542502bdc370708c320312715a.txt  \n",
            "  inflating: /content/OIVIS_Lab_3/train/labels/autosave01_02_2012_11_59_30_jpg.rf.9da624f61e8e58738c82b6adba8b5508.txt  \n",
            "  inflating: /content/OIVIS_Lab_3/train/labels/autosave01_02_2012_11_59_31_jpg.rf.bf32dd31fff72bca5427677f29dd5efb.txt  \n",
            "  inflating: /content/OIVIS_Lab_3/train/labels/autosave01_02_2012_11_59_36_jpg.rf.ea90f0e18c6fb63a0b57fbf89daa85fa.txt  \n",
            "  inflating: /content/OIVIS_Lab_3/train/labels/autosave01_02_2012_12_01_34_jpg.rf.d07c770f56455b9a30bb4a9595f18e6f.txt  \n",
            "  inflating: /content/OIVIS_Lab_3/train/labels/autosave01_02_2012_12_01_35_jpg.rf.8988c8c5a6624f106b7af419979433e1.txt  \n",
            "  inflating: /content/OIVIS_Lab_3/train/labels/autosave01_02_2012_12_01_41_jpg.rf.b8aca32110886ff93b2aca05a6417b93.txt  \n",
            "  inflating: /content/OIVIS_Lab_3/train/labels/autosave01_02_2012_12_01_42_jpg.rf.7e8e0aa2f3322ba3dc06982a69f493b9.txt  \n",
            "  inflating: /content/OIVIS_Lab_3/train/labels/autosave01_02_2012_12_02_46_jpg.rf.bd6910bdc607f376f21ff5a8b1ca7732.txt  \n",
            "  inflating: /content/OIVIS_Lab_3/train/labels/autosave01_02_2012_12_03_17_jpg.rf.578639f36ca16f94c7ae652b9d6ec76e.txt  \n",
            "  inflating: /content/OIVIS_Lab_3/train/labels/autosave01_02_2012_12_04_26_jpg.rf.558c99368caca4e1c22fbd159721833c.txt  \n",
            "  inflating: /content/OIVIS_Lab_3/train/labels/autosave01_02_2012_12_05_21_jpg.rf.0eb8677559ffabb9eed19ddb8d29487a.txt  \n",
            "  inflating: /content/OIVIS_Lab_3/train/labels/autosave01_02_2012_12_05_26_jpg.rf.ab238581131f4dd70314ea8a2cf8cf30.txt  \n",
            "  inflating: /content/OIVIS_Lab_3/train/labels/autosave01_02_2012_12_06_23_jpg.rf.c99482dba1895146220a651fc1912312.txt  \n",
            "  inflating: /content/OIVIS_Lab_3/train/labels/autosave01_02_2012_12_06_56_jpg.rf.8c08dbd7e035122496bc590701bb06c0.txt  \n",
            "  inflating: /content/OIVIS_Lab_3/train/labels/autosave01_02_2012_12_06_59_jpg.rf.f15c03400ec931f0454cc36fcc58b7f7.txt  \n",
            "  inflating: /content/OIVIS_Lab_3/train/labels/autosave01_02_2012_12_07_42_jpg.rf.a7c4463cd6fe012e54cd84074f1eb55f.txt  \n",
            "  inflating: /content/OIVIS_Lab_3/train/labels/autosave01_02_2012_12_07_59_jpg.rf.fce00c733d43662d643ca42b5e0bca50.txt  \n",
            "  inflating: /content/OIVIS_Lab_3/train/labels/autosave01_02_2012_12_08_00_jpg.rf.c936ac296612ca6f45a94b110fd38fec.txt  \n",
            "  inflating: /content/OIVIS_Lab_3/train/labels/autosave01_02_2012_12_08_01_jpg.rf.420a91139dede3853ef62a849011ac7d.txt  \n",
            "  inflating: /content/OIVIS_Lab_3/train/labels/autosave01_02_2012_12_08_16_jpg.rf.48599b66ec548af1943edccb65e98d81.txt  \n",
            "  inflating: /content/OIVIS_Lab_3/train/labels/autosave01_02_2012_12_08_19_jpg.rf.372bb58914a717e79e5a737d80cdf722.txt  \n",
            "  inflating: /content/OIVIS_Lab_3/train/labels/autosave01_02_2012_12_08_31_jpg.rf.570b069aed193126dabe5239acb98f75.txt  \n",
            "  inflating: /content/OIVIS_Lab_3/train/labels/autosave01_02_2012_12_08_34_jpg.rf.26cf2044ad1d6488af8e1b1685448e23.txt  \n",
            "  inflating: /content/OIVIS_Lab_3/train/labels/autosave01_02_2012_12_09_27_jpg.rf.64dc5b62a507f075abd67fe536bd6e79.txt  \n",
            "  inflating: /content/OIVIS_Lab_3/train/labels/autosave01_02_2012_12_09_29_jpg.rf.349ae5311f2f28237dbd99d9fcc1d227.txt  \n",
            "  inflating: /content/OIVIS_Lab_3/train/labels/autosave01_02_2012_12_10_41_jpg.rf.07582b00a316246de7ec5cddd223d64b.txt  \n",
            "  inflating: /content/OIVIS_Lab_3/train/labels/autosave01_02_2012_12_10_46_jpg.rf.582dd6a4e207995b13d5ed20bc42486a.txt  \n",
            "  inflating: /content/OIVIS_Lab_3/train/labels/autosave01_02_2012_12_10_49_jpg.rf.e4fa063f21e59a1ac3122034dbc067d2.txt  \n",
            "  inflating: /content/OIVIS_Lab_3/train/labels/autosave01_02_2012_12_11_25_jpg.rf.d8df969708055d44c505e53e51f09166.txt  \n",
            "  inflating: /content/OIVIS_Lab_3/train/labels/autosave01_02_2012_12_11_44_jpg.rf.de0636f6254209a27661fb0a77048b9a.txt  \n",
            "  inflating: /content/OIVIS_Lab_3/train/labels/autosave01_02_2012_12_12_51_jpg.rf.e2f3bb45dfbd9457a72bceded88ac0b5.txt  \n",
            "  inflating: /content/OIVIS_Lab_3/train/labels/autosave01_02_2012_12_12_54_jpg.rf.2937298be1d9c032da149b444973d400.txt  \n",
            "  inflating: /content/OIVIS_Lab_3/train/labels/autosave01_02_2012_12_12_55_jpg.rf.0cd586393dd7cd5388effea824ff8d11.txt  \n",
            "  inflating: /content/OIVIS_Lab_3/train/labels/autosave01_02_2012_12_13_07_jpg.rf.c1952dfeebf641510142e89ebf05763e.txt  \n",
            "  inflating: /content/OIVIS_Lab_3/train/labels/autosave01_02_2012_12_13_11_jpg.rf.6d5994b5fdba6b3d3b1948ae343d1640.txt  \n",
            "  inflating: /content/OIVIS_Lab_3/train/labels/autosave01_02_2012_12_16_05_jpg.rf.28e18859003a701ae4a4ed1cd0ae271f.txt  \n",
            "  inflating: /content/OIVIS_Lab_3/train/labels/autosave01_02_2012_12_16_07_jpg.rf.f93be5a4b1b5e2eb5bf132de9a713e8b.txt  \n",
            "  inflating: /content/OIVIS_Lab_3/train/labels/autosave01_02_2012_12_16_13_jpg.rf.a011d90cc05f3a5fc5343867bf041aff.txt  \n",
            "  inflating: /content/OIVIS_Lab_3/train/labels/autosave01_02_2012_12_16_17_jpg.rf.4e452a9fb288d6e7aa79b0eefd813c5d.txt  \n",
            "  inflating: /content/OIVIS_Lab_3/train/labels/autosave01_02_2012_12_16_19_jpg.rf.7c51bb3f570824904c26c28823e98ad8.txt  \n",
            "  inflating: /content/OIVIS_Lab_3/train/labels/autosave01_02_2012_12_16_49_jpg.rf.09157f1b2f0a572f19dd26a9ea1d7040.txt  \n",
            "  inflating: /content/OIVIS_Lab_3/train/labels/autosave01_02_2012_12_16_57_jpg.rf.5e57e0956a4d89d4d85d59dfb1db502d.txt  \n",
            "  inflating: /content/OIVIS_Lab_3/train/labels/autosave01_02_2012_12_17_02_jpg.rf.db3eeab43336f7a61a765b50528191bd.txt  \n",
            "  inflating: /content/OIVIS_Lab_3/train/labels/autosave01_02_2012_12_17_28_jpg.rf.99ffb466e6e4ba51ef20ab067b69adab.txt  \n",
            "  inflating: /content/OIVIS_Lab_3/train/labels/autosave01_02_2012_12_17_29_jpg.rf.a904edee7cf61a3df43867d9bfb6afa7.txt  \n",
            "  inflating: /content/OIVIS_Lab_3/train/labels/autosave01_02_2012_12_17_30_jpg.rf.6c40a2fd2ce65050c018ea5fce4020f9.txt  \n",
            "  inflating: /content/OIVIS_Lab_3/train/labels/autosave01_02_2012_12_17_40_jpg.rf.5d0302f8be9d03f3c822ce3983fcd89b.txt  \n",
            "  inflating: /content/OIVIS_Lab_3/train/labels/autosave01_02_2012_12_18_00_jpg.rf.71ad2a74802a9fc2ae0ce9239773dfc6.txt  \n",
            "  inflating: /content/OIVIS_Lab_3/train/labels/autosave01_02_2012_12_18_05_jpg.rf.569e11c61e647f2987bccda537f9364d.txt  \n",
            "  inflating: /content/OIVIS_Lab_3/train/labels/autosave01_02_2012_12_18_39_jpg.rf.0ed2a1183052977a69ee336e89b3c126.txt  \n",
            "  inflating: /content/OIVIS_Lab_3/train/labels/autosave01_02_2012_12_18_42_jpg.rf.861388435d97053c1a989952081c4968.txt  \n",
            "  inflating: /content/OIVIS_Lab_3/train/labels/autosave01_02_2012_12_18_47_jpg.rf.06e276e8972e4ed13b95c17fb1e4f1a5.txt  \n",
            "  inflating: /content/OIVIS_Lab_3/train/labels/autosave01_02_2012_12_18_57_jpg.rf.801cac01320394dee593660bd63ac28d.txt  \n",
            "  inflating: /content/OIVIS_Lab_3/train/labels/autosave01_02_2012_12_19_39_jpg.rf.1a5f68029805a574644c1f51cf626687.txt  \n",
            "  inflating: /content/OIVIS_Lab_3/train/labels/autosave01_02_2012_12_38_38_jpg.rf.03e42e42716252479128e90e685aca4c.txt  \n",
            "  inflating: /content/OIVIS_Lab_3/train/labels/autosave01_02_2012_12_40_09_jpg.rf.126f430365f547f1699edd9455fd8321.txt  \n",
            "  inflating: /content/OIVIS_Lab_3/train/labels/autosave01_02_2012_12_40_11_jpg.rf.ab00dd66510c0706e335771c74f91d4c.txt  \n",
            "  inflating: /content/OIVIS_Lab_3/train/labels/autosave01_02_2012_12_40_44_jpg.rf.f5517a6c5984032e8467b4e929bf3226.txt  \n",
            "  inflating: /content/OIVIS_Lab_3/train/labels/autosave01_02_2012_12_40_49_jpg.rf.b66f6143dd68178d4e6e80761ab8b846.txt  \n",
            "  inflating: /content/OIVIS_Lab_3/train/labels/autosave01_02_2012_12_40_50_jpg.rf.fc730ecfa83784043ead28fa39c8a638.txt  \n",
            "  inflating: /content/OIVIS_Lab_3/train/labels/autosave01_02_2012_12_40_55_jpg.rf.984f5089558dc24a408f552ac3daf4e5.txt  \n",
            "  inflating: /content/OIVIS_Lab_3/train/labels/autosave01_02_2012_12_40_56_jpg.rf.ad8213fe2f1048608ba998de843f15f9.txt  \n",
            "  inflating: /content/OIVIS_Lab_3/train/labels/autosave01_02_2012_12_40_59_jpg.rf.c8e07cdcac4e3b8529daf0168fffd02b.txt  \n",
            "  inflating: /content/OIVIS_Lab_3/train/labels/autosave01_02_2012_12_41_23_jpg.rf.353e8388a94130c63e31cba72310d1b9.txt  \n",
            "  inflating: /content/OIVIS_Lab_3/train/labels/autosave01_02_2012_12_41_24_jpg.rf.feb07cd715cdcc43a785e26a3950ce0d.txt  \n",
            "  inflating: /content/OIVIS_Lab_3/train/labels/autosave01_02_2012_12_42_02_jpg.rf.171e60f8c0011dc8f9c3903e92f9e172.txt  \n",
            "  inflating: /content/OIVIS_Lab_3/train/labels/autosave01_02_2012_12_42_03_jpg.rf.ccf99178323f7023dc1147c7b10267ca.txt  \n",
            "  inflating: /content/OIVIS_Lab_3/train/labels/autosave01_02_2012_12_42_27_jpg.rf.b062a2058d8c6d95fc39220bd8cf16f6.txt  \n",
            "  inflating: /content/OIVIS_Lab_3/train/labels/autosave01_02_2012_12_42_30_jpg.rf.23eb5ce59b5f5835649526b290e84b50.txt  \n",
            "  inflating: /content/OIVIS_Lab_3/train/labels/autosave01_02_2012_12_43_00_jpg.rf.8cd742b210bb0419c73d66acd16539c9.txt  \n",
            "  inflating: /content/OIVIS_Lab_3/train/labels/autosave01_02_2012_12_43_04_jpg.rf.c1e430afc8547b9ebdad2949feba072b.txt  \n",
            "  inflating: /content/OIVIS_Lab_3/train/labels/autosave01_02_2012_12_44_03_jpg.rf.fd5924018a7a691358b5a39d57763b26.txt  \n",
            "  inflating: /content/OIVIS_Lab_3/train/labels/autosave01_02_2012_12_46_49_jpg.rf.9401e83945addb3eaffde951b121a972.txt  \n",
            "  inflating: /content/OIVIS_Lab_3/train/labels/autosave01_02_2012_12_46_50_jpg.rf.c0d661448ced3196b394f93d64976a5e.txt  \n",
            "  inflating: /content/OIVIS_Lab_3/train/labels/autosave01_02_2012_12_49_46_jpg.rf.e858de684f30f5962726c59b6360cf3f.txt  \n",
            "  inflating: /content/OIVIS_Lab_3/train/labels/autosave01_02_2012_12_50_52_jpg.rf.63cb3f3191edcce4d76d8e63260df82e.txt  \n",
            "  inflating: /content/OIVIS_Lab_3/train/labels/autosave01_02_2012_12_51_14_jpg.rf.dd34387042bbe98bc65b1f51f13b35fa.txt  \n",
            "  inflating: /content/OIVIS_Lab_3/train/labels/autosave01_02_2012_12_54_48_jpg.rf.288b743cbee529b02faf5ac6f8961887.txt  \n",
            "  inflating: /content/OIVIS_Lab_3/train/labels/autosave01_02_2012_13_01_25_jpg.rf.fdd56286d888fc810e4e852a72a7f7cf.txt  \n",
            "  inflating: /content/OIVIS_Lab_3/train/labels/autosave01_02_2012_13_03_15_jpg.rf.fac736859c0c5ee6870f58227095df78.txt  \n",
            "  inflating: /content/OIVIS_Lab_3/train/labels/autosave01_02_2012_13_03_17_jpg.rf.7c052fdd615ea7b2c18be32b785b65b7.txt  \n",
            "  inflating: /content/OIVIS_Lab_3/train/labels/autosave01_02_2012_13_03_54_jpg.rf.a4f9b0d232ef18faa49f5ebdb1d0f44e.txt  \n",
            "  inflating: /content/OIVIS_Lab_3/train/labels/autosave01_02_2012_13_03_59_jpg.rf.b91fb803db85210e86c1d3cee545810b.txt  \n",
            "  inflating: /content/OIVIS_Lab_3/train/labels/autosave01_02_2012_13_08_27_jpg.rf.d7508ba79fb99ee6f3b8e5e5860bd32d.txt  \n",
            "  inflating: /content/OIVIS_Lab_3/train/labels/autosave01_02_2012_13_08_32_jpg.rf.95214843ca9c460626872aa442bfa75b.txt  \n",
            "  inflating: /content/OIVIS_Lab_3/train/labels/autosave01_02_2012_13_09_01_jpg.rf.49126c1f9be8fe1d4d28ef7059d0c67b.txt  \n",
            "  inflating: /content/OIVIS_Lab_3/train/labels/autosave01_02_2012_13_09_11_jpg.rf.5c7e1660492a50e520698be346e66240.txt  \n",
            "  inflating: /content/OIVIS_Lab_3/train/labels/autosave01_02_2012_13_09_16_jpg.rf.27a41427e455bd1474e4324c072b3fae.txt  \n",
            "  inflating: /content/OIVIS_Lab_3/train/labels/autosave01_02_2012_13_09_24_jpg.rf.11028eccdaf7619681d7f8cffcbd7eb8.txt  \n",
            "  inflating: /content/OIVIS_Lab_3/train/labels/autosave01_02_2012_13_11_05_jpg.rf.522d8995135983c6c366c12e5d7fd332.txt  \n",
            "  inflating: /content/OIVIS_Lab_3/train/labels/autosave01_02_2012_13_11_13_jpg.rf.d4a3fe66aea0482f2453988c50d7dec5.txt  \n",
            "  inflating: /content/OIVIS_Lab_3/train/labels/autosave01_02_2012_13_11_15_jpg.rf.24820278fc69820958344767225f4db5.txt  \n",
            "  inflating: /content/OIVIS_Lab_3/train/labels/autosave01_02_2012_13_11_21_jpg.rf.57d413c612c8005e8a2a7682b244399a.txt  \n",
            "  inflating: /content/OIVIS_Lab_3/train/labels/autosave01_02_2012_13_11_22_jpg.rf.a81cf892c77c11ae97d3665d9807143d.txt  \n",
            "  inflating: /content/OIVIS_Lab_3/train/labels/autosave01_02_2012_13_11_26_jpg.rf.9ff3a774176e18ec5c176fcc1463e0fe.txt  \n",
            "  inflating: /content/OIVIS_Lab_3/train/labels/autosave01_02_2012_13_12_40_jpg.rf.4dfe5af6947f0a695e4f2d06269656f8.txt  \n",
            "  inflating: /content/OIVIS_Lab_3/train/labels/autosave01_02_2012_13_12_43_jpg.rf.0cef77e9951ca3757cd694591915e915.txt  \n",
            "  inflating: /content/OIVIS_Lab_3/train/labels/autosave01_02_2012_13_13_47_jpg.rf.4be584425e08dcb0eb6d6b5a977057fc.txt  \n",
            "  inflating: /content/OIVIS_Lab_3/train/labels/autosave01_02_2012_13_13_55_jpg.rf.dfab72cc829e90707408a78293aec7be.txt  \n",
            "  inflating: /content/OIVIS_Lab_3/train/labels/autosave01_02_2012_13_13_56_jpg.rf.12b83bb02fdd1d2f0f2b4cb1bc36e7f8.txt  \n",
            "  inflating: /content/OIVIS_Lab_3/train/labels/autosave01_02_2012_13_14_01_jpg.rf.d08b8035889a686b7858430f4850c8fd.txt  \n",
            "  inflating: /content/OIVIS_Lab_3/train/labels/autosave01_02_2012_13_14_48_jpg.rf.8ae2301b9597fa6a9a8e8317b0bd5958.txt  \n",
            "  inflating: /content/OIVIS_Lab_3/train/labels/autosave01_02_2012_13_15_05_jpg.rf.5a5c14da1a903adac2b7eae757130d6f.txt  \n",
            "  inflating: /content/OIVIS_Lab_3/train/labels/autosave01_02_2012_13_16_11_jpg.rf.7d7e609f8b5639185484fcb99d9d1127.txt  \n",
            "  inflating: /content/OIVIS_Lab_3/train/labels/autosave01_02_2012_13_16_45_jpg.rf.1e82d08df6a91cc1a150f0a6da187811.txt  \n",
            "  inflating: /content/OIVIS_Lab_3/train/labels/autosave01_02_2012_13_17_42_jpg.rf.53ed869f7df0829fb11232696c192395.txt  \n",
            "  inflating: /content/OIVIS_Lab_3/train/labels/autosave01_02_2012_13_17_46_jpg.rf.d4b36059743b74c49093d4d82610577d.txt  \n",
            "  inflating: /content/OIVIS_Lab_3/train/labels/autosave01_02_2012_13_18_04_jpg.rf.6e3151c9963bf8dbcc04011fbbeb2386.txt  \n",
            "  inflating: /content/OIVIS_Lab_3/train/labels/autosave01_02_2012_13_18_38_jpg.rf.8759a26fe34462eb4770986f15033549.txt  \n",
            "  inflating: /content/OIVIS_Lab_3/train/labels/autosave01_02_2012_13_18_52_jpg.rf.d41a40d1d9f445199a17744788e385ae.txt  \n",
            "  inflating: /content/OIVIS_Lab_3/train/labels/autosave01_02_2012_13_22_00_jpg.rf.d884a44fdd1c736b7ed5dac88cca070b.txt  \n",
            "  inflating: /content/OIVIS_Lab_3/train/labels/autosave01_02_2012_13_23_07_jpg.rf.827e768f1fa2da7e2c119ed0ef029efc.txt  \n",
            "  inflating: /content/OIVIS_Lab_3/train/labels/autosave01_02_2012_13_24_32_jpg.rf.48c6c5f71c44dbd7f2f7198feb7a84de.txt  \n",
            "  inflating: /content/OIVIS_Lab_3/train/labels/autosave01_02_2012_13_24_33_jpg.rf.211b0b34adc1d2bc426dc342bcde825f.txt  \n",
            "  inflating: /content/OIVIS_Lab_3/train/labels/autosave01_02_2012_13_24_38_jpg.rf.46d744e77697df29b7cc5bfe5e177cda.txt  \n",
            "  inflating: /content/OIVIS_Lab_3/train/labels/autosave01_02_2012_13_24_53_jpg.rf.fbf872616449d508d9ea15066df60d1d.txt  \n",
            "  inflating: /content/OIVIS_Lab_3/train/labels/autosave01_02_2012_13_24_58_jpg.rf.5fe033939ce9427b8720244285290f60.txt  \n",
            "  inflating: /content/OIVIS_Lab_3/train/labels/autosave01_02_2012_13_29_20_jpg.rf.65c0a49e9cf8d17a39c1181ba4986119.txt  \n",
            "  inflating: /content/OIVIS_Lab_3/train/labels/autosave01_02_2012_13_30_06_jpg.rf.8541e796d24c318a16b8d03228c1bbea.txt  \n",
            "  inflating: /content/OIVIS_Lab_3/train/labels/autosave01_02_2012_13_30_17_jpg.rf.86abe3f7a3c05fd29cc8f6ec4a57b0a6.txt  \n",
            "  inflating: /content/OIVIS_Lab_3/train/labels/autosave01_02_2012_13_33_37_jpg.rf.6bde869041b02581225656cf14daf2cb.txt  \n",
            "  inflating: /content/OIVIS_Lab_3/train/labels/autosave01_02_2012_13_37_18_jpg.rf.18c8df5b95b767e6dbec58e4afb753c6.txt  \n",
            "  inflating: /content/OIVIS_Lab_3/train/labels/autosave01_02_2012_13_37_19_jpg.rf.1885cd123b5ce64e0c6a118ccc9bdca5.txt  \n",
            "  inflating: /content/OIVIS_Lab_3/train/labels/autosave01_02_2012_13_37_37_jpg.rf.aa0edaacde712b6603bc2582a1d9f213.txt  \n",
            "  inflating: /content/OIVIS_Lab_3/train/labels/autosave01_02_2012_13_38_32_jpg.rf.bb2fc4ec04b7ac2fdc6c1ba28438e591.txt  \n",
            "  inflating: /content/OIVIS_Lab_3/train/labels/autosave01_02_2012_13_38_33_jpg.rf.295f068bd818b8cd7f3c1353fa10108d.txt  \n",
            "  inflating: /content/OIVIS_Lab_3/train/labels/autosave01_02_2012_13_38_34_jpg.rf.a40bc169444be8b313021f335fa3ddf4.txt  \n",
            "  inflating: /content/OIVIS_Lab_3/train/labels/autosave01_02_2012_13_38_56_jpg.rf.5cd664aca9ba609eda5edd65c414d5c4.txt  \n",
            "  inflating: /content/OIVIS_Lab_3/train/labels/autosave01_02_2012_13_39_24_jpg.rf.b031601370abd40b08eb555802cf6192.txt  \n",
            "  inflating: /content/OIVIS_Lab_3/train/labels/autosave01_02_2012_13_39_42_jpg.rf.6c705ac3a9ec9fe5f189c780f10e1d2c.txt  \n",
            "  inflating: /content/OIVIS_Lab_3/train/labels/autosave01_02_2012_13_39_58_jpg.rf.73113bc00d128fa7df792e07a076310f.txt  \n",
            "  inflating: /content/OIVIS_Lab_3/train/labels/autosave01_02_2012_13_39_59_jpg.rf.4a409cbf9502eaf6dc0e818e47a1b4d2.txt  \n",
            "  inflating: /content/OIVIS_Lab_3/train/labels/autosave01_02_2012_13_40_59_jpg.rf.1a715e7351b02ecefd41cdb56f47f689.txt  \n",
            "  inflating: /content/OIVIS_Lab_3/train/labels/autosave01_02_2012_13_41_00_jpg.rf.845c1b4a01c05e78a0e8dc8708e296bc.txt  \n",
            "  inflating: /content/OIVIS_Lab_3/train/labels/autosave01_02_2012_13_41_03_jpg.rf.51fa0544b9f72e646f611af2af22a246.txt  \n",
            "  inflating: /content/OIVIS_Lab_3/train/labels/autosave01_02_2012_13_41_24_jpg.rf.d64706b7ce5d2c8eaf66a8b500851cbd.txt  \n",
            "  inflating: /content/OIVIS_Lab_3/train/labels/autosave01_02_2012_13_41_38_jpg.rf.d7371e71b8565a97a01c7229d492fd24.txt  \n",
            "  inflating: /content/OIVIS_Lab_3/train/labels/autosave01_02_2012_13_42_15_jpg.rf.0e1cb5c666078edce6f27fdab6453f64.txt  \n",
            "  inflating: /content/OIVIS_Lab_3/train/labels/autosave01_02_2012_13_42_23_jpg.rf.193f718c4c4ba7e0b86bc59257b2de15.txt  \n",
            "  inflating: /content/OIVIS_Lab_3/train/labels/autosave01_02_2012_13_44_25_jpg.rf.c9214b2e39cd5805ae6dfebf93516f78.txt  \n",
            "  inflating: /content/OIVIS_Lab_3/train/labels/autosave01_02_2012_13_44_26_jpg.rf.a45b39d582b797b6b52d2cb888dfc0ca.txt  \n",
            "  inflating: /content/OIVIS_Lab_3/train/labels/autosave01_02_2012_13_45_32_jpg.rf.f7244e2218af5c73ab145bc04f55e763.txt  \n",
            "  inflating: /content/OIVIS_Lab_3/train/labels/autosave01_02_2012_13_45_41_jpg.rf.7bc5087154ad4e2dfb80e6f1ad0b022a.txt  \n",
            "  inflating: /content/OIVIS_Lab_3/train/labels/autosave01_02_2012_13_45_43_jpg.rf.e5304f2082b9ad0bca99a83bd70266b3.txt  \n",
            "  inflating: /content/OIVIS_Lab_3/train/labels/autosave01_02_2012_13_47_34_jpg.rf.e372c75467884f1f20b7613c1b1b9d21.txt  \n",
            "  inflating: /content/OIVIS_Lab_3/train/labels/autosave01_02_2012_13_47_35_jpg.rf.9b6c52349b8ba865e91fa7d875b6185c.txt  \n",
            "  inflating: /content/OIVIS_Lab_3/train/labels/autosave01_02_2012_13_47_37_jpg.rf.3d5b056304a6ce3a49493fa1cbcc47f0.txt  \n",
            "  inflating: /content/OIVIS_Lab_3/train/labels/autosave01_02_2012_13_48_18_jpg.rf.ee3cba71cfd99535c4fedda6be5e6e5d.txt  \n",
            "  inflating: /content/OIVIS_Lab_3/train/labels/autosave01_02_2012_13_48_35_jpg.rf.43799c7882f0681f5983577ad029bcc9.txt  \n",
            "  inflating: /content/OIVIS_Lab_3/train/labels/autosave01_02_2012_13_48_36_jpg.rf.b1d5fa18b2385db6866e5efc50a11d46.txt  \n",
            "  inflating: /content/OIVIS_Lab_3/train/labels/autosave01_02_2012_13_48_49_jpg.rf.4c2fd6d02320f7ebcb9cf9c7c73d7684.txt  \n",
            "  inflating: /content/OIVIS_Lab_3/train/labels/autosave01_02_2012_13_49_42_jpg.rf.798aea36f3f2abf47546a1c35c631295.txt  \n",
            "  inflating: /content/OIVIS_Lab_3/train/labels/autosave01_02_2012_13_49_43_jpg.rf.3ef5c5b1364766679ade07f831561afb.txt  \n",
            "  inflating: /content/OIVIS_Lab_3/train/labels/autosave01_02_2012_13_50_32_jpg.rf.1a6cf741de7e3cc3ea6ba987b0ba8d41.txt  \n",
            "  inflating: /content/OIVIS_Lab_3/train/labels/autosave01_02_2012_13_50_42_jpg.rf.c8690c9efa06ee043349096374868337.txt  \n",
            "  inflating: /content/OIVIS_Lab_3/train/labels/autosave01_02_2012_13_50_45_jpg.rf.635c7cac8a65224ed30d674229906866.txt  \n",
            "  inflating: /content/OIVIS_Lab_3/train/labels/autosave01_02_2012_13_50_51_jpg.rf.11997b7deb6f7b40b4305eaddcb60860.txt  \n",
            "  inflating: /content/OIVIS_Lab_3/train/labels/autosave01_02_2012_13_51_29_jpg.rf.228e1bf1b87b9b028a0f5f6f306e4191.txt  \n",
            "  inflating: /content/OIVIS_Lab_3/train/labels/autosave01_02_2012_13_51_51_jpg.rf.20238e9b0a0cf255b104bf2c0a7835de.txt  \n",
            "  inflating: /content/OIVIS_Lab_3/train/labels/autosave01_02_2012_13_52_00_jpg.rf.90ae3dfce5bfac9c98c3c97efa165b40.txt  \n",
            "  inflating: /content/OIVIS_Lab_3/train/labels/autosave01_02_2012_13_52_02_jpg.rf.bf27b863bc85107834832a2e1b422c19.txt  \n",
            "  inflating: /content/OIVIS_Lab_3/train/labels/autosave01_02_2012_13_52_06_jpg.rf.b4b9f030707620628079ffbcf499bd87.txt  \n",
            "  inflating: /content/OIVIS_Lab_3/train/labels/autosave02_10_2012_11_55_00_1_jpg.rf.52fa32ffb0174d18510b2d60e975f093.txt  \n",
            "  inflating: /content/OIVIS_Lab_3/train/labels/autosave02_10_2012_11_55_00_2_jpg.rf.fbb3ca6648096fd17dbcaed8c3c46045.txt  \n",
            "  inflating: /content/OIVIS_Lab_3/train/labels/autosave02_10_2012_11_56_12_1_jpg.rf.286540ab87574031d5cc17e002910cf7.txt  \n",
            "  inflating: /content/OIVIS_Lab_3/train/labels/autosave02_10_2012_11_56_25_1_jpg.rf.059cf0673e28420a7a1460337507ff1a.txt  \n",
            "  inflating: /content/OIVIS_Lab_3/train/labels/autosave02_10_2012_11_56_26_0_jpg.rf.ed398522d77c478661b4f518f06320bc.txt  \n",
            "  inflating: /content/OIVIS_Lab_3/train/labels/autosave02_10_2012_11_56_27_0_jpg.rf.87e39c25bce3960486c5fab86089a6f2.txt  \n",
            "  inflating: /content/OIVIS_Lab_3/train/labels/autosave02_10_2012_11_56_53_2_jpg.rf.475bddbdf8c631bd5c5b8d9f54260a24.txt  \n",
            "  inflating: /content/OIVIS_Lab_3/train/labels/autosave02_10_2012_11_56_55_3_jpg.rf.6ff58b378071015ee7d0a4f234af8c9a.txt  \n",
            "  inflating: /content/OIVIS_Lab_3/train/labels/autosave02_10_2012_11_57_18_3_jpg.rf.0ba54f10449bbcd15c7019c8b71a3430.txt  \n",
            "  inflating: /content/OIVIS_Lab_3/train/labels/autosave02_10_2012_11_57_20_2_jpg.rf.93c47b7d081135186160917d5be413b1.txt  \n",
            "  inflating: /content/OIVIS_Lab_3/train/labels/autosave02_10_2012_11_57_23_1_jpg.rf.aa2d271d2f500345bd19ed61a5ef8743.txt  \n",
            "  inflating: /content/OIVIS_Lab_3/train/labels/autosave02_10_2012_11_57_26_3_jpg.rf.cc4cbdd2b7a6b86a2adffe5e15ed5329.txt  \n",
            "  inflating: /content/OIVIS_Lab_3/train/labels/autosave02_10_2012_11_57_28_3_jpg.rf.b3bb71503d02f2c81ffa92e0ad4ddc8f.txt  \n",
            "  inflating: /content/OIVIS_Lab_3/train/labels/autosave02_10_2012_12_02_21_1_jpg.rf.8bf0d52cfa769a24cb45355e9e207fc4.txt  \n",
            "  inflating: /content/OIVIS_Lab_3/train/labels/autosave02_10_2012_12_02_25_0_jpg.rf.5877509940b1413f90f2d141233c5850.txt  \n",
            "  inflating: /content/OIVIS_Lab_3/train/labels/autosave02_10_2012_12_02_26_2_jpg.rf.f47cbf85c43e0ca40cd01fdf92f1e0ba.txt  \n",
            "  inflating: /content/OIVIS_Lab_3/train/labels/autosave02_10_2012_12_02_38_1_jpg.rf.0b76457d85a37c5d5cc4d572cd9e95b9.txt  \n",
            "  inflating: /content/OIVIS_Lab_3/train/labels/autosave02_10_2012_12_02_39_0_jpg.rf.e8e4fc9ab9c6f83c1a4d9ea4232fb9a5.txt  \n",
            "  inflating: /content/OIVIS_Lab_3/train/labels/autosave02_10_2012_12_02_40_1_jpg.rf.518962ee12d53f361a6707f962731fbf.txt  \n",
            "  inflating: /content/OIVIS_Lab_3/train/labels/autosave02_10_2012_12_02_41_1_jpg.rf.410d9bafe1b23e4bffdb767a78b4edb5.txt  \n",
            "  inflating: /content/OIVIS_Lab_3/train/labels/autosave02_10_2012_12_02_41_3_jpg.rf.4e00d113c7b78694729470b62eb5a29f.txt  \n",
            "  inflating: /content/OIVIS_Lab_3/train/labels/autosave02_10_2012_12_03_20_3_jpg.rf.1de8a0c8b2477a2a7e8880a9506997f0.txt  \n",
            "  inflating: /content/OIVIS_Lab_3/train/labels/autosave02_10_2012_12_03_22_3_jpg.rf.f05024e929b238f2eee654ae64dad342.txt  \n",
            "  inflating: /content/OIVIS_Lab_3/train/labels/autosave02_10_2012_12_03_23_0_jpg.rf.64e6f9d6586416f389e118200bc9223e.txt  \n",
            "  inflating: /content/OIVIS_Lab_3/train/labels/autosave02_10_2012_12_03_26_3_jpg.rf.2b54d5428a3ca4f08c1dfbafa2eea724.txt  \n",
            "  inflating: /content/OIVIS_Lab_3/train/labels/autosave02_10_2012_12_03_27_2_jpg.rf.cc0352f878e2e28342ef04fac48d733d.txt  \n",
            "  inflating: /content/OIVIS_Lab_3/train/labels/autosave02_10_2012_12_03_27_3_jpg.rf.8086a22dadd63d11fbfbc794bc5c0cf5.txt  \n",
            "  inflating: /content/OIVIS_Lab_3/train/labels/autosave02_10_2012_12_03_29_1_jpg.rf.6050ddab8cf2d413e7840b51dc932c9f.txt  \n",
            "  inflating: /content/OIVIS_Lab_3/train/labels/autosave02_10_2012_12_03_33_0_jpg.rf.7c524c305ccf0e6d396adef466fe9668.txt  \n",
            "  inflating: /content/OIVIS_Lab_3/train/labels/autosave02_10_2012_12_04_09_2_jpg.rf.e3380794ad3cd9fec4cc15022d160780.txt  \n",
            "  inflating: /content/OIVIS_Lab_3/train/labels/autosave02_10_2012_12_04_24_2_jpg.rf.ec83b4d8e95624a1ff295964278e4d02.txt  \n",
            "  inflating: /content/OIVIS_Lab_3/train/labels/autosave02_10_2012_12_04_33_2_jpg.rf.23f4599361cb0551bcd6c1afdf9cd511.txt  \n",
            "  inflating: /content/OIVIS_Lab_3/train/labels/autosave02_10_2012_12_04_36_0_jpg.rf.86b2e6bb4fc4e133fe74e1bb79c21933.txt  \n",
            "  inflating: /content/OIVIS_Lab_3/train/labels/autosave02_10_2012_12_04_37_1_jpg.rf.daeba152f334011e3f0c0b5b0adcbb3a.txt  \n",
            "  inflating: /content/OIVIS_Lab_3/train/labels/autosave02_10_2012_12_04_38_1_jpg.rf.780d872efaa1f80d4fe431af52e3b01f.txt  \n",
            "  inflating: /content/OIVIS_Lab_3/train/labels/autosave02_10_2012_12_04_40_0_jpg.rf.57ce3cc0f6e2bd4c6cfed7111507f6f2.txt  \n",
            "  inflating: /content/OIVIS_Lab_3/train/labels/autosave02_10_2012_12_05_31_1_jpg.rf.0fa405a2dbb3c80b734c75fd083f6fab.txt  \n",
            "  inflating: /content/OIVIS_Lab_3/train/labels/autosave02_10_2012_12_05_31_2_jpg.rf.9ed9495913c025c19c8df08e6c670435.txt  \n",
            "  inflating: /content/OIVIS_Lab_3/train/labels/autosave02_10_2012_12_05_32_0_jpg.rf.cc2659c4be89f807dadea08c8c9742d7.txt  \n",
            "  inflating: /content/OIVIS_Lab_3/train/labels/autosave02_10_2012_12_05_35_3_jpg.rf.8e3db137d23e1b6b5a7f72d30a17ccc5.txt  \n",
            "  inflating: /content/OIVIS_Lab_3/train/labels/autosave02_10_2012_12_05_56_1_jpg.rf.02122b29abc623e0975803961626fa9d.txt  \n",
            "  inflating: /content/OIVIS_Lab_3/train/labels/autosave02_10_2012_12_07_31_1_jpg.rf.ccc4a831c61c7507cc7ae49cf9b4fd42.txt  \n",
            "  inflating: /content/OIVIS_Lab_3/train/labels/autosave02_10_2012_12_07_33_1_jpg.rf.4f55f39f8696c913fe0934813d089f73.txt  \n",
            "  inflating: /content/OIVIS_Lab_3/train/labels/autosave02_10_2012_12_08_33_1_jpg.rf.acc91d9a54bed9ce6c6cfae10da47b11.txt  \n",
            "  inflating: /content/OIVIS_Lab_3/train/labels/autosave02_10_2012_12_08_34_1_jpg.rf.275168e248a9cc9f263b363b803a6b69.txt  \n",
            "  inflating: /content/OIVIS_Lab_3/train/labels/autosave02_10_2012_12_08_36_0_jpg.rf.3aaa55a22401aef0bddf9bd782ea5da8.txt  \n",
            "  inflating: /content/OIVIS_Lab_3/train/labels/autosave02_10_2012_12_08_38_3_jpg.rf.de1ea82ee84dbfcaf56d3d6a6aaea969.txt  \n",
            "  inflating: /content/OIVIS_Lab_3/train/labels/autosave02_10_2012_12_09_01_1_jpg.rf.0d90a10beba38ba577662f6997a2a6ec.txt  \n",
            "  inflating: /content/OIVIS_Lab_3/train/labels/autosave02_10_2012_12_09_09_0_jpg.rf.5f54596531c4d5e110a8b648de0d2698.txt  \n",
            "  inflating: /content/OIVIS_Lab_3/train/labels/autosave02_10_2012_12_09_09_1_jpg.rf.3d25c41a651a24576a1c9685bd913f79.txt  \n",
            "  inflating: /content/OIVIS_Lab_3/train/labels/autosave02_10_2012_12_09_12_2_jpg.rf.b67d856b58347b37cd380a8bb95ec00c.txt  \n",
            "  inflating: /content/OIVIS_Lab_3/train/labels/autosave02_10_2012_12_09_37_1_jpg.rf.70a5d3bbb5c7f60e65e4c81ed09e68f4.txt  \n",
            "  inflating: /content/OIVIS_Lab_3/train/labels/autosave02_10_2012_12_09_38_2_jpg.rf.f9f9e96e8177b5bff9640272eae5ca4c.txt  \n",
            "  inflating: /content/OIVIS_Lab_3/train/labels/autosave02_10_2012_12_09_54_0_jpg.rf.46d8ac358bbdc777e099a0b65d712bda.txt  \n",
            "  inflating: /content/OIVIS_Lab_3/train/labels/autosave02_10_2012_12_09_54_1_jpg.rf.c1f8382225ba81657ef5f231a589338a.txt  \n",
            "  inflating: /content/OIVIS_Lab_3/train/labels/autosave02_10_2012_12_09_55_0_jpg.rf.da2ac9bb2f2366673f15a6ec8a032287.txt  \n",
            "  inflating: /content/OIVIS_Lab_3/train/labels/autosave02_10_2012_12_09_57_0_jpg.rf.6e8e658f4757f19b3debdada01d247c8.txt  \n",
            "  inflating: /content/OIVIS_Lab_3/train/labels/autosave02_10_2012_12_10_05_2_jpg.rf.99738648b469ae450776ab536c5d2eb2.txt  \n",
            "  inflating: /content/OIVIS_Lab_3/train/labels/autosave02_10_2012_12_10_07_1_jpg.rf.07d2b2aeca06e36772bce5b76a0919d8.txt  \n",
            "  inflating: /content/OIVIS_Lab_3/train/labels/autosave02_10_2012_12_10_11_2_jpg.rf.f82a82bccdd261343fb010eca67b8a3e.txt  \n",
            "  inflating: /content/OIVIS_Lab_3/train/labels/autosave02_10_2012_12_10_13_0_jpg.rf.168186f2edbe7365b5a67fb572681def.txt  \n",
            "  inflating: /content/OIVIS_Lab_3/train/labels/autosave02_10_2012_12_10_17_1_jpg.rf.9f7b358fe616b8654f01b36a785854b8.txt  \n",
            "  inflating: /content/OIVIS_Lab_3/train/labels/autosave02_10_2012_12_10_18_0_jpg.rf.510fa81375b0ba132cd8f6c668f37080.txt  \n",
            "  inflating: /content/OIVIS_Lab_3/train/labels/autosave02_10_2012_12_10_23_2_jpg.rf.2aebde642de543c21856a0c982718aab.txt  \n",
            "  inflating: /content/OIVIS_Lab_3/train/labels/autosave02_10_2012_12_10_25_2_jpg.rf.79b655789ddf3171ddb2a9f92433fbda.txt  \n",
            "  inflating: /content/OIVIS_Lab_3/train/labels/autosave02_10_2012_12_10_26_0_jpg.rf.3bd8e24f68456079f3eb87d250f17561.txt  \n",
            "  inflating: /content/OIVIS_Lab_3/train/labels/autosave02_10_2012_12_10_29_2_jpg.rf.acd219a74ab27e987a1557500a86ec41.txt  \n",
            "  inflating: /content/OIVIS_Lab_3/train/labels/autosave02_10_2012_12_10_30_0_jpg.rf.d03a2098807601ea03b7104ab962335f.txt  \n",
            "  inflating: /content/OIVIS_Lab_3/train/labels/autosave02_10_2012_12_10_31_1_jpg.rf.e7a34049a8f3658258cb791735f2dffe.txt  \n",
            "  inflating: /content/OIVIS_Lab_3/train/labels/autosave02_10_2012_12_10_33_2_jpg.rf.edf8598a29c746a97131ea13b509ff3e.txt  \n",
            "  inflating: /content/OIVIS_Lab_3/train/labels/autosave02_10_2012_12_10_34_0_jpg.rf.a845d547c4705a40bed77f1ce2fe6cb2.txt  \n",
            "  inflating: /content/OIVIS_Lab_3/train/labels/autosave02_10_2012_12_10_34_1_jpg.rf.916cb09776a030f8cf5a6e5918109c94.txt  \n",
            "  inflating: /content/OIVIS_Lab_3/train/labels/autosave02_10_2012_12_10_50_0_jpg.rf.c84c1b04e0ce42bea46a6043214c2fc9.txt  \n",
            "  inflating: /content/OIVIS_Lab_3/train/labels/autosave02_10_2012_12_10_51_0_jpg.rf.b6a84443d6fff530990e5a7192bae139.txt  \n",
            "  inflating: /content/OIVIS_Lab_3/train/labels/autosave02_10_2012_12_10_53_1_jpg.rf.5726c1150571d7deaab9d8d87128cc05.txt  \n",
            "  inflating: /content/OIVIS_Lab_3/train/labels/autosave02_10_2012_12_10_57_0_jpg.rf.2e92b52159d1909e1824bc8f9a895998.txt  \n",
            "  inflating: /content/OIVIS_Lab_3/train/labels/autosave02_10_2012_12_10_57_1_jpg.rf.dd399ac68fa08116e127be29de6cabe3.txt  \n",
            "  inflating: /content/OIVIS_Lab_3/train/labels/autosave02_10_2012_12_11_55_2_jpg.rf.dae5072569f3b76e171f9de0755435a4.txt  \n",
            "  inflating: /content/OIVIS_Lab_3/train/labels/autosave02_10_2012_12_12_42_1_jpg.rf.573656dc100a29fca2256730337ed197.txt  \n",
            "  inflating: /content/OIVIS_Lab_3/train/labels/autosave02_10_2012_12_12_42_2_jpg.rf.105b7e8df01ddff4999569aa5c2004f8.txt  \n",
            "  inflating: /content/OIVIS_Lab_3/train/labels/autosave02_10_2012_12_12_43_1_jpg.rf.7cf15da50fbaa9d43f3b4c6bc6fe79c2.txt  \n",
            "  inflating: /content/OIVIS_Lab_3/train/labels/autosave02_10_2012_12_12_49_2_jpg.rf.e6380c11803e85a24f4f8a627abaf762.txt  \n",
            "  inflating: /content/OIVIS_Lab_3/train/labels/autosave02_10_2012_12_13_05_0_jpg.rf.6c6fce83da484d01ec5c1c365774204d.txt  \n",
            "  inflating: /content/OIVIS_Lab_3/train/labels/autosave02_10_2012_12_13_20_1_jpg.rf.eb1ffd1c81ea8a4121b4878fd2e61457.txt  \n",
            "  inflating: /content/OIVIS_Lab_3/train/labels/autosave02_10_2012_12_13_21_0_jpg.rf.28a90d2a73410352aae4eefd939913e2.txt  \n",
            "  inflating: /content/OIVIS_Lab_3/train/labels/autosave02_10_2012_12_13_43_2_jpg.rf.901d22a608a4e6b6593a0bb3f8413385.txt  \n",
            "  inflating: /content/OIVIS_Lab_3/train/labels/autosave02_10_2012_12_13_45_0_jpg.rf.c7032bbfc3718dcd9f12b54c751dab38.txt  \n",
            "  inflating: /content/OIVIS_Lab_3/train/labels/autosave02_10_2012_12_15_54_2_jpg.rf.b46a35f129c839e48bd36e74e24d9ed2.txt  \n",
            "  inflating: /content/OIVIS_Lab_3/train/labels/autosave02_10_2012_12_16_02_2_jpg.rf.475390717c56a31962e557d8dcabf694.txt  \n",
            "  inflating: /content/OIVIS_Lab_3/train/labels/autosave02_10_2012_12_16_03_2_jpg.rf.6e5c41912a92025aba67add0dd01319b.txt  \n",
            "  inflating: /content/OIVIS_Lab_3/train/labels/autosave02_10_2012_12_16_07_0_jpg.rf.ca18453ea6c24dd1996b582d43921110.txt  \n",
            "  inflating: /content/OIVIS_Lab_3/train/labels/autosave02_10_2012_12_16_32_2_jpg.rf.621cb96d5d71566d2d9368da21fe551c.txt  \n",
            "  inflating: /content/OIVIS_Lab_3/train/labels/autosave02_10_2012_12_16_48_0_jpg.rf.aff746182b7de02e925040a102209b08.txt  \n",
            "  inflating: /content/OIVIS_Lab_3/train/labels/autosave02_10_2012_12_16_49_1_jpg.rf.5e37d75c6dc2a1b8e6f6ace886b4aac2.txt  \n",
            "  inflating: /content/OIVIS_Lab_3/train/labels/autosave02_10_2012_12_16_50_1_jpg.rf.3fba19d1d69207e4c880a210aa2343f1.txt  \n",
            "  inflating: /content/OIVIS_Lab_3/train/labels/autosave02_10_2012_12_17_09_2_jpg.rf.1fdfb4d8a98e0c6843a45724a2911b33.txt  \n",
            "  inflating: /content/OIVIS_Lab_3/train/labels/autosave02_10_2012_12_17_13_3_jpg.rf.af494a06095b79289d352198076bd290.txt  \n",
            "  inflating: /content/OIVIS_Lab_3/train/labels/autosave02_10_2012_12_17_15_0_jpg.rf.a4aba6070c697de1984a867fa404aa5d.txt  \n",
            "  inflating: /content/OIVIS_Lab_3/train/labels/autosave02_10_2012_12_17_17_1_jpg.rf.1845396ebd07eceda1283d550b33fdfc.txt  \n",
            "  inflating: /content/OIVIS_Lab_3/train/labels/autosave02_10_2012_12_18_05_1_jpg.rf.12818233314ebfee1c27b02f1f877bcd.txt  \n",
            "  inflating: /content/OIVIS_Lab_3/train/labels/autosave02_10_2012_12_18_05_2_jpg.rf.ec9b8067e4735a1650ca4b42321e5564.txt  \n",
            "  inflating: /content/OIVIS_Lab_3/train/labels/autosave02_10_2012_12_18_27_1_jpg.rf.83e9bf023b39386318d59337e300de45.txt  \n",
            "  inflating: /content/OIVIS_Lab_3/train/labels/autosave02_10_2012_12_21_15_0_jpg.rf.8d2cc18e39d2546329a988f2eaad3050.txt  \n",
            "  inflating: /content/OIVIS_Lab_3/train/labels/autosave02_10_2012_12_21_15_2_jpg.rf.6b50cf445d0181679f847598c00e8724.txt  \n",
            "  inflating: /content/OIVIS_Lab_3/train/labels/autosave02_10_2012_12_21_16_0_jpg.rf.ed16ac00703bf05ed18740b7446841ca.txt  \n",
            "  inflating: /content/OIVIS_Lab_3/train/labels/autosave02_10_2012_12_21_16_1_jpg.rf.a044c9091a4ba9cc7a820aa14cf9993e.txt  \n",
            "  inflating: /content/OIVIS_Lab_3/train/labels/autosave02_10_2012_12_21_19_1_jpg.rf.602b93f684c7fbe6f08a2d4c38854f1c.txt  \n",
            "  inflating: /content/OIVIS_Lab_3/train/labels/autosave02_10_2012_12_21_21_2_jpg.rf.727ec8e5c14ec5f83957153e41f2d892.txt  \n",
            "  inflating: /content/OIVIS_Lab_3/train/labels/autosave02_10_2012_12_25_15_0_jpg.rf.396d83f8cd5e1b69ce306d35e01ccd08.txt  \n",
            "  inflating: /content/OIVIS_Lab_3/train/labels/autosave02_10_2012_12_25_16_0_jpg.rf.40e99472ab24125d62d517c0bb4b37a2.txt  \n",
            "  inflating: /content/OIVIS_Lab_3/train/labels/autosave02_10_2012_12_26_32_1_jpg.rf.c5bea8e06b5c2f7a2c4e02858b5c54e5.txt  \n",
            "  inflating: /content/OIVIS_Lab_3/train/labels/autosave02_10_2012_12_26_35_2_jpg.rf.3ecf5e4cca632bac8ec30980cd4d9788.txt  \n",
            "  inflating: /content/OIVIS_Lab_3/train/labels/autosave02_10_2012_12_26_45_1_jpg.rf.c391b2b4b7bbd11077733601b08bedf2.txt  \n",
            "  inflating: /content/OIVIS_Lab_3/train/labels/autosave02_10_2012_12_26_57_0_jpg.rf.d33651773bec26a2235d2e10109353d4.txt  \n",
            "  inflating: /content/OIVIS_Lab_3/train/labels/autosave02_10_2012_12_28_32_3_jpg.rf.a638f487da89cc147b493b7ceb994413.txt  \n",
            "  inflating: /content/OIVIS_Lab_3/train/labels/autosave02_10_2012_12_29_10_1_jpg.rf.cb622feded29d6053598e2f96bfbbc4a.txt  \n",
            "  inflating: /content/OIVIS_Lab_3/train/labels/autosave02_10_2012_12_29_20_1_jpg.rf.e16ee6d0b023f0a6485cf90ef99fc77d.txt  \n",
            "  inflating: /content/OIVIS_Lab_3/train/labels/autosave02_10_2012_12_29_21_0_jpg.rf.52abd6b7dfc3a6fe4d6fae7c6bebbc8a.txt  \n",
            "  inflating: /content/OIVIS_Lab_3/train/labels/autosave02_10_2012_12_29_21_1_jpg.rf.f00696b132791b17322ec976231980b7.txt  \n",
            "  inflating: /content/OIVIS_Lab_3/train/labels/autosave02_10_2012_12_29_21_2_jpg.rf.ee1e809e4f7848720c7b8847a97e8c33.txt  \n",
            "  inflating: /content/OIVIS_Lab_3/train/labels/autosave02_10_2012_12_40_22_0_jpg.rf.156e8d4818dce4f1475ce4dd2d1bd09a.txt  \n",
            "  inflating: /content/OIVIS_Lab_3/train/labels/autosave02_10_2012_12_42_10_2_jpg.rf.333035ab74aa9ac39940883ad560ad55.txt  \n",
            "  inflating: /content/OIVIS_Lab_3/train/labels/autosave02_10_2012_12_42_25_1_jpg.rf.fabd1bffc96907f512e8bbe52b3bb614.txt  \n",
            "  inflating: /content/OIVIS_Lab_3/train/labels/autosave02_10_2012_12_42_28_1_jpg.rf.539cc12999b176eec9e205f00335ef4d.txt  \n",
            "  inflating: /content/OIVIS_Lab_3/train/labels/autosave02_10_2012_12_42_28_3_jpg.rf.ee0e5291e73eb93f97864a553e147b0f.txt  \n",
            "  inflating: /content/OIVIS_Lab_3/train/labels/autosave02_10_2012_12_42_32_1_jpg.rf.6af50824a38a06ecbb697a0f22a17485.txt  \n",
            "  inflating: /content/OIVIS_Lab_3/train/labels/autosave02_10_2012_12_42_36_1_jpg.rf.77bc8704b7ca28a514439957e6dd5a99.txt  \n",
            "  inflating: /content/OIVIS_Lab_3/train/labels/autosave02_10_2012_12_43_08_0_jpg.rf.57bf5d35ddbd79a042e69ee46354847c.txt  \n",
            "  inflating: /content/OIVIS_Lab_3/train/labels/autosave02_10_2012_12_44_33_0_jpg.rf.b9b8bf778a52a32e44b82b9459d7b6f1.txt  \n",
            "  inflating: /content/OIVIS_Lab_3/train/labels/autosave02_10_2012_12_44_35_1_jpg.rf.0ca9a95223704542bd96e7b85b20dc10.txt  \n",
            "  inflating: /content/OIVIS_Lab_3/train/labels/autosave02_10_2012_12_44_59_0_jpg.rf.164d1540d0742909f890b6736e469cfa.txt  \n",
            "  inflating: /content/OIVIS_Lab_3/train/labels/autosave02_10_2012_12_44_59_2_jpg.rf.2ce5745efa8b5d32c159c765568e77b0.txt  \n",
            "  inflating: /content/OIVIS_Lab_3/train/labels/autosave02_10_2012_12_45_04_2_jpg.rf.7e6fc61f36fd45782e14744169869944.txt  \n",
            "  inflating: /content/OIVIS_Lab_3/train/labels/autosave02_10_2012_12_45_11_0_jpg.rf.43337de227e651882cfbdf900c48f033.txt  \n",
            "  inflating: /content/OIVIS_Lab_3/train/labels/autosave02_10_2012_12_45_11_2_jpg.rf.8f1173fdd2c7fc16f163f9f45129ba9c.txt  \n",
            "  inflating: /content/OIVIS_Lab_3/train/labels/autosave02_10_2012_12_45_20_0_jpg.rf.b9b66b6bdcb705a4af16141f637188fb.txt  \n",
            "  inflating: /content/OIVIS_Lab_3/train/labels/autosave02_10_2012_12_45_20_1_jpg.rf.19496106ef2df6dbe0ea9fc306532b37.txt  \n",
            "  inflating: /content/OIVIS_Lab_3/train/labels/autosave02_10_2012_12_45_26_0_jpg.rf.5e1cffa9303f7f54edf6133480e16d41.txt  \n",
            "  inflating: /content/OIVIS_Lab_3/train/labels/autosave02_10_2012_12_46_19_0_jpg.rf.986727113068a3284102922e6863265b.txt  \n",
            "  inflating: /content/OIVIS_Lab_3/train/labels/autosave02_10_2012_12_46_19_1_jpg.rf.e5ae966244198b2add4cd83b89addbda.txt  \n",
            "  inflating: /content/OIVIS_Lab_3/train/labels/autosave02_10_2012_12_52_42_0_jpg.rf.8c1d48d586f7da7d54cb88bc034cb0ee.txt  \n",
            "  inflating: /content/OIVIS_Lab_3/train/labels/autosave02_10_2012_12_54_43_0_jpg.rf.06cedcd5ddae770821dfd5edd65f9e39.txt  \n",
            "  inflating: /content/OIVIS_Lab_3/train/labels/autosave02_10_2012_12_54_48_0_jpg.rf.e69100bd38913154fa78f59a1fc41d83.txt  \n",
            "  inflating: /content/OIVIS_Lab_3/train/labels/autosave02_10_2012_12_54_50_0_jpg.rf.5b8d562994e8474140907fedeef5f35e.txt  \n",
            "  inflating: /content/OIVIS_Lab_3/train/labels/autosave02_10_2012_12_55_31_0_jpg.rf.50ef25ab124db1a8ba60c3a92d389e40.txt  \n",
            "  inflating: /content/OIVIS_Lab_3/train/labels/autosave02_10_2012_12_55_33_2_jpg.rf.0ae130008a713f750b946e69c64c1ded.txt  \n",
            "  inflating: /content/OIVIS_Lab_3/train/labels/autosave02_10_2012_12_55_34_0_jpg.rf.febef2f67db0a97b190fb6b1d07d02df.txt  \n",
            "  inflating: /content/OIVIS_Lab_3/train/labels/autosave02_10_2012_12_55_34_3_jpg.rf.57c281dac7d26ce5d0bea0b92e23a584.txt  \n",
            "  inflating: /content/OIVIS_Lab_3/train/labels/autosave02_10_2012_12_59_05_2_jpg.rf.0f1ecbc051e822e8ba54d3c630513de0.txt  \n",
            "  inflating: /content/OIVIS_Lab_3/train/labels/autosave09_10_2012_07_47_53_2_jpg.rf.054a8d74202bb155db9348d38fda7066.txt  \n",
            "  inflating: /content/OIVIS_Lab_3/train/labels/autosave09_10_2012_07_47_54_2_jpg.rf.8fd7ba393eea25a0f7779d89a6b53001.txt  \n",
            "  inflating: /content/OIVIS_Lab_3/train/labels/autosave09_10_2012_07_48_40_1_jpg.rf.e87835baffc3dded20b113cb088af306.txt  \n",
            "  inflating: /content/OIVIS_Lab_3/train/labels/autosave09_10_2012_07_48_43_2_jpg.rf.acdf9c89341bd72d067ebde024a444b3.txt  \n",
            "  inflating: /content/OIVIS_Lab_3/train/labels/autosave09_10_2012_07_48_44_2_jpg.rf.cd3a16adedf20609136025c12d6d8011.txt  \n",
            "  inflating: /content/OIVIS_Lab_3/train/labels/autosave09_10_2012_07_48_45_0_jpg.rf.8553da15253b5b6bd1515c3fc2ebe791.txt  \n",
            "  inflating: /content/OIVIS_Lab_3/train/labels/autosave09_10_2012_07_49_22_1_jpg.rf.6ab68bc7c52a984ffaf6294ceec14548.txt  \n",
            "  inflating: /content/OIVIS_Lab_3/train/labels/autosave09_10_2012_07_49_23_0_jpg.rf.dab516d1f6ba33f8bd5c1b91b4d210a1.txt  \n",
            "  inflating: /content/OIVIS_Lab_3/train/labels/autosave09_10_2012_07_49_42_2_jpg.rf.8a9fc170d121e416b576dd53f8a933a6.txt  \n",
            "  inflating: /content/OIVIS_Lab_3/train/labels/autosave09_10_2012_07_49_43_0_jpg.rf.ba3cc79eece024acde4516a6341d5c1b.txt  \n",
            "  inflating: /content/OIVIS_Lab_3/train/labels/autosave09_10_2012_07_49_56_0_jpg.rf.2e92a648268a46db950789b73acc0807.txt  \n",
            "  inflating: /content/OIVIS_Lab_3/train/labels/autosave09_10_2012_07_50_12_2_jpg.rf.9c69f53c23c14141f1cd8d44b686da60.txt  \n",
            "  inflating: /content/OIVIS_Lab_3/train/labels/autosave09_10_2012_07_56_38_1_jpg.rf.c4d6ee9f0c9d37be684aed8c2052dbe1.txt  \n",
            "  inflating: /content/OIVIS_Lab_3/train/labels/autosave09_10_2012_08_08_10_3_jpg.rf.a4273f730d9d68587fd424fe1c96f465.txt  \n",
            "  inflating: /content/OIVIS_Lab_3/train/labels/autosave09_10_2012_08_08_12_3_jpg.rf.134bf1d960132bcb6b041858f5b341dc.txt  \n",
            "  inflating: /content/OIVIS_Lab_3/train/labels/autosave09_10_2012_08_08_15_0_jpg.rf.8690cde4e0a419d4c4882dc3c3d78882.txt  \n",
            "  inflating: /content/OIVIS_Lab_3/train/labels/autosave09_10_2012_08_09_06_0_jpg.rf.51960f026a8bf2f898aeac9032853b3f.txt  \n",
            "  inflating: /content/OIVIS_Lab_3/train/labels/autosave09_10_2012_08_13_07_0_jpg.rf.90467f00e10994c6f72be73dbf00caec.txt  \n",
            "  inflating: /content/OIVIS_Lab_3/train/labels/autosave09_10_2012_08_13_12_2_jpg.rf.1e2140c5e14189ab09f37015cd6cb4a0.txt  \n",
            "  inflating: /content/OIVIS_Lab_3/train/labels/autosave09_10_2012_08_13_16_3_jpg.rf.f5d895aed456ce442349adfd97692ebd.txt  \n",
            "  inflating: /content/OIVIS_Lab_3/train/labels/autosave09_10_2012_08_13_18_1_jpg.rf.08cf2b8824a73fb68fe4503a13086c0e.txt  \n",
            "  inflating: /content/OIVIS_Lab_3/train/labels/autosave09_10_2012_08_13_30_0_jpg.rf.207a62b1ee17f7eb9722cd7b032fedad.txt  \n",
            "  inflating: /content/OIVIS_Lab_3/train/labels/autosave09_10_2012_08_13_46_0_jpg.rf.e9d717d43ebc60958a7e86c6e2593ec1.txt  \n",
            "  inflating: /content/OIVIS_Lab_3/train/labels/autosave09_10_2012_08_14_46_2_jpg.rf.aa79b431ef316ec0046b788339b6b0ce.txt  \n",
            "  inflating: /content/OIVIS_Lab_3/train/labels/autosave09_10_2012_08_14_53_2_jpg.rf.fd3fb6a5e830a0c49b6f571ebcd0a10a.txt  \n",
            "  inflating: /content/OIVIS_Lab_3/train/labels/autosave09_10_2012_08_14_54_1_jpg.rf.c7e5518d73110a336f75715d203ebb3b.txt  \n",
            "  inflating: /content/OIVIS_Lab_3/train/labels/autosave09_10_2012_08_15_06_2_jpg.rf.e79f6c2c023e0f1485a556c2fe267562.txt  \n",
            "  inflating: /content/OIVIS_Lab_3/train/labels/autosave09_10_2012_08_15_12_1_jpg.rf.27dbf10df450be86d58cda28cffca49d.txt  \n",
            "  inflating: /content/OIVIS_Lab_3/train/labels/autosave09_10_2012_08_16_15_1_jpg.rf.b2610d1a0c8bc68920c684ccacaafb08.txt  \n",
            "  inflating: /content/OIVIS_Lab_3/train/labels/autosave09_10_2012_08_16_16_1_jpg.rf.0f3e8d9e2911bdfc942d4509ad821c54.txt  \n",
            "  inflating: /content/OIVIS_Lab_3/train/labels/autosave09_10_2012_08_16_19_0_jpg.rf.747fad422ab9a9a45f34c072d548434c.txt  \n",
            "  inflating: /content/OIVIS_Lab_3/train/labels/autosave09_10_2012_08_16_19_2_jpg.rf.13a80bb21ee2e321090c7cccccfe3205.txt  \n",
            "  inflating: /content/OIVIS_Lab_3/train/labels/autosave09_10_2012_08_16_38_0_jpg.rf.8d5ebefe74503a37b6727840bb41a248.txt  \n",
            "  inflating: /content/OIVIS_Lab_3/train/labels/autosave09_10_2012_08_16_43_1_jpg.rf.001510feebca54c3e26153361ebaf7db.txt  \n",
            "  inflating: /content/OIVIS_Lab_3/train/labels/autosave09_10_2012_08_16_52_2_jpg.rf.50f26401f41217318eb066574f3ffaa7.txt  \n",
            "  inflating: /content/OIVIS_Lab_3/train/labels/autosave09_10_2012_08_17_06_1_jpg.rf.ecced4b781795fabbbbed3c7ceb97cf8.txt  \n",
            "  inflating: /content/OIVIS_Lab_3/train/labels/autosave09_10_2012_08_17_06_2_jpg.rf.8893a5d7762b7e715fe0b1a176a21c27.txt  \n",
            "  inflating: /content/OIVIS_Lab_3/train/labels/autosave09_10_2012_08_17_16_1_jpg.rf.bfaf33f3101e1475ad07fa19cecfce6a.txt  \n",
            "  inflating: /content/OIVIS_Lab_3/train/labels/autosave09_10_2012_08_17_20_0_jpg.rf.705aca3f263485960c87cb4e38374ca0.txt  \n",
            "  inflating: /content/OIVIS_Lab_3/train/labels/autosave09_10_2012_08_17_37_0_jpg.rf.cb02cae2cc6d7325cc4968ff9eabe98d.txt  \n",
            "  inflating: /content/OIVIS_Lab_3/train/labels/autosave09_10_2012_08_18_11_1_jpg.rf.8dd54078fde6d8a84ce79d58df833c21.txt  \n",
            "  inflating: /content/OIVIS_Lab_3/train/labels/autosave09_10_2012_08_18_14_2_jpg.rf.d5313fbf0316c4f1b4d7413a812c72e4.txt  \n",
            "  inflating: /content/OIVIS_Lab_3/train/labels/autosave09_10_2012_08_18_17_1_jpg.rf.02225bbbb76c4ce42f6db0e6bbc22599.txt  \n",
            "  inflating: /content/OIVIS_Lab_3/train/labels/autosave09_10_2012_08_18_24_2_jpg.rf.e54b6146b13de61761ea9f49b9cd4a5c.txt  \n",
            "  inflating: /content/OIVIS_Lab_3/train/labels/autosave09_10_2012_08_18_32_3_jpg.rf.fafd884c217ee5d60e6903641e23e914.txt  \n",
            "  inflating: /content/OIVIS_Lab_3/train/labels/autosave09_10_2012_08_18_46_2_jpg.rf.10d83cf985624f91d83aa05f2f5709a1.txt  \n",
            "  inflating: /content/OIVIS_Lab_3/train/labels/autosave09_10_2012_08_19_00_0_jpg.rf.f3336419f91f40ce6baeb4e4e888085f.txt  \n",
            "  inflating: /content/OIVIS_Lab_3/train/labels/autosave09_10_2012_08_19_34_0_jpg.rf.6997d17e79c4db04c2b1c116c507c6b7.txt  \n",
            "  inflating: /content/OIVIS_Lab_3/train/labels/autosave09_10_2012_08_19_45_2_jpg.rf.d3b5505e763683138fef5ae075dd1a62.txt  \n",
            "  inflating: /content/OIVIS_Lab_3/train/labels/autosave09_10_2012_08_20_33_2_jpg.rf.c11c63cb2551d7fbae1ff6c9f04c7d23.txt  \n",
            "  inflating: /content/OIVIS_Lab_3/train/labels/autosave09_10_2012_08_20_34_1_jpg.rf.3904791465dac3f2a96604f8c6c17fed.txt  \n",
            "  inflating: /content/OIVIS_Lab_3/train/labels/autosave09_10_2012_08_20_37_0_jpg.rf.dd89481fa00a90bd9cc6c305b11ab07f.txt  \n",
            "  inflating: /content/OIVIS_Lab_3/train/labels/autosave09_10_2012_08_20_38_1_jpg.rf.ee27ee4005868a6d8066482aa14a4453.txt  \n",
            "  inflating: /content/OIVIS_Lab_3/train/labels/autosave09_10_2012_08_20_51_1_jpg.rf.5513d649b2adfa532405a0e39465fd7b.txt  \n",
            "  inflating: /content/OIVIS_Lab_3/train/labels/autosave09_10_2012_08_22_12_1_jpg.rf.93ed99f5e2825e67b7b6209a2d8f6b87.txt  \n",
            "  inflating: /content/OIVIS_Lab_3/train/labels/autosave09_10_2012_08_22_23_1_jpg.rf.dec62c4704e1f45ec251be07d1c96949.txt  \n",
            "  inflating: /content/OIVIS_Lab_3/train/labels/autosave09_10_2012_08_22_26_1_jpg.rf.2ccc4e1a5173faba5525b53700ab624f.txt  \n",
            "  inflating: /content/OIVIS_Lab_3/train/labels/autosave09_10_2012_08_22_42_3_jpg.rf.036471c42d30b4e5fbb400f268b20f71.txt  \n",
            "  inflating: /content/OIVIS_Lab_3/train/labels/autosave09_10_2012_08_23_22_1_jpg.rf.34c8719f2de78811270b56caf4871e31.txt  \n",
            "  inflating: /content/OIVIS_Lab_3/train/labels/autosave09_10_2012_08_23_25_1_jpg.rf.66e89b45df3372a51cd84d903a91a2ba.txt  \n",
            "  inflating: /content/OIVIS_Lab_3/train/labels/autosave09_10_2012_08_23_27_2_jpg.rf.6c51f1ce12c630e9d89d7d79e5949f98.txt  \n",
            "  inflating: /content/OIVIS_Lab_3/train/labels/autosave09_10_2012_08_23_29_0_jpg.rf.e48a072bb560581aa811ffc4ea7af96b.txt  \n",
            "  inflating: /content/OIVIS_Lab_3/train/labels/autosave09_10_2012_08_23_42_2_jpg.rf.e1e7d42e4d9cc4e2a1522fd05d7d45bb.txt  \n",
            "  inflating: /content/OIVIS_Lab_3/train/labels/autosave09_10_2012_08_25_13_0_jpg.rf.637780f262ffdde4d4bbdc69015fa7cd.txt  \n",
            "  inflating: /content/OIVIS_Lab_3/train/labels/autosave09_10_2012_08_25_14_1_jpg.rf.a94245a7d24bc64746f395e2ee72a6d7.txt  \n",
            "  inflating: /content/OIVIS_Lab_3/train/labels/autosave09_10_2012_08_25_15_3_jpg.rf.b280855c3300482efa02ee4caeab584f.txt  \n",
            "  inflating: /content/OIVIS_Lab_3/train/labels/autosave09_10_2012_08_25_38_2_jpg.rf.ec6d1e9aead027b5223e4dc1150dab97.txt  \n",
            "  inflating: /content/OIVIS_Lab_3/train/labels/autosave09_10_2012_08_26_05_1_jpg.rf.17fb91889c0501a6616766545cd15bd2.txt  \n",
            "  inflating: /content/OIVIS_Lab_3/train/labels/autosave09_10_2012_08_26_16_2_jpg.rf.c3c0a7715cbcf9aad00ee8d49a75ee5b.txt  \n",
            "  inflating: /content/OIVIS_Lab_3/train/labels/autosave09_10_2012_08_26_17_1_jpg.rf.c5fc2e11227180dd55c8458b160cf3a7.txt  \n",
            "  inflating: /content/OIVIS_Lab_3/train/labels/autosave09_10_2012_08_26_27_1_jpg.rf.d287d266ddf6c37c256c4d7be3c4d561.txt  \n",
            "  inflating: /content/OIVIS_Lab_3/train/labels/autosave09_10_2012_08_26_32_3_jpg.rf.aabb18e83c8e3fe828817a1d32d31e4e.txt  \n",
            "  inflating: /content/OIVIS_Lab_3/train/labels/autosave09_10_2012_08_26_49_0_jpg.rf.4395ac121f16557af426fa9d5dce2f3e.txt  \n",
            "  inflating: /content/OIVIS_Lab_3/train/labels/autosave09_10_2012_08_26_54_0_jpg.rf.344288bfcebc94dcb9f499e27c8cfb76.txt  \n",
            "  inflating: /content/OIVIS_Lab_3/train/labels/autosave09_10_2012_08_27_02_2_jpg.rf.fd08f07714692aacb0ac81a5de9fa65b.txt  \n",
            "  inflating: /content/OIVIS_Lab_3/train/labels/autosave09_10_2012_08_27_34_2_jpg.rf.0ce166a2fbda2d5d8ae64250d126edc3.txt  \n",
            "  inflating: /content/OIVIS_Lab_3/train/labels/autosave09_10_2012_08_27_35_2_jpg.rf.80b99461ec94e24618327a57b590d993.txt  \n",
            "  inflating: /content/OIVIS_Lab_3/train/labels/autosave09_10_2012_08_28_06_0_jpg.rf.f0b53de8445908a96890062117c01921.txt  \n",
            "  inflating: /content/OIVIS_Lab_3/train/labels/autosave09_10_2012_08_29_00_0_jpg.rf.c31c25e0b1b745019c4b401ed97468d2.txt  \n",
            "  inflating: /content/OIVIS_Lab_3/train/labels/autosave09_10_2012_08_29_09_1_jpg.rf.fcf8a4469da2362c8269e75db78be80b.txt  \n",
            "  inflating: /content/OIVIS_Lab_3/train/labels/autosave09_10_2012_08_29_14_1_jpg.rf.2ed2c17a27455756906e8cbb2f18503a.txt  \n",
            "  inflating: /content/OIVIS_Lab_3/train/labels/autosave09_10_2012_08_29_19_0_jpg.rf.8a01fa6b074a6ff9f28b8666f87ee315.txt  \n",
            "  inflating: /content/OIVIS_Lab_3/train/labels/autosave09_10_2012_08_29_27_1_jpg.rf.0189f27087ef4dd9eb47bf53e5b84f0f.txt  \n",
            "  inflating: /content/OIVIS_Lab_3/train/labels/autosave09_10_2012_08_29_27_2_jpg.rf.3bedce7ec51990122d3bbb21ffa29560.txt  \n",
            "  inflating: /content/OIVIS_Lab_3/train/labels/autosave09_10_2012_08_29_58_1_jpg.rf.a4206c169727a983b2d250b3c69e4391.txt  \n",
            "  inflating: /content/OIVIS_Lab_3/train/labels/autosave09_10_2012_08_30_04_0_jpg.rf.0434a795c10caa1bb690482bb2f7ce14.txt  \n",
            "  inflating: /content/OIVIS_Lab_3/train/labels/autosave09_10_2012_08_32_04_0_jpg.rf.220cbe6852fa89cb9c240f19b4565e6e.txt  \n",
            "  inflating: /content/OIVIS_Lab_3/train/labels/autosave09_10_2012_08_32_08_1_jpg.rf.5271bf147ff732a5106f10753b9f1be3.txt  \n",
            "  inflating: /content/OIVIS_Lab_3/train/labels/autosave09_10_2012_08_32_34_2_jpg.rf.e8d5ade67522ffb3556035335fae9d3a.txt  \n",
            "  inflating: /content/OIVIS_Lab_3/train/labels/autosave09_10_2012_08_32_47_2_jpg.rf.c566d904b5613598503e6e0ffc1b54d1.txt  \n",
            "  inflating: /content/OIVIS_Lab_3/train/labels/autosave09_10_2012_08_32_49_1_jpg.rf.b25ddcad2547048b9b510be4a1fa3fc8.txt  \n",
            "  inflating: /content/OIVIS_Lab_3/train/labels/autosave09_10_2012_08_33_46_1_jpg.rf.a61653d8517c2998f1ca5764197b4528.txt  \n",
            "  inflating: /content/OIVIS_Lab_3/train/labels/autosave09_10_2012_08_33_48_2_jpg.rf.9b6f9da1953743063dbfbfb0192c3c0d.txt  \n",
            "  inflating: /content/OIVIS_Lab_3/train/labels/autosave09_10_2012_08_33_50_0_jpg.rf.70fb106de5916929c41954609a138804.txt  \n",
            "  inflating: /content/OIVIS_Lab_3/train/labels/autosave09_10_2012_08_34_00_0_jpg.rf.885c2513d2430a25f933d25029217a37.txt  \n",
            "  inflating: /content/OIVIS_Lab_3/train/labels/autosave09_10_2012_08_35_47_2_jpg.rf.041dddb8e64c218e2f6c864009d9fd13.txt  \n",
            "  inflating: /content/OIVIS_Lab_3/train/labels/autosave09_10_2012_08_35_49_0_jpg.rf.3da4e2f543ba4ab667e9f98c0f6d4dff.txt  \n",
            "  inflating: /content/OIVIS_Lab_3/train/labels/autosave09_10_2012_08_36_02_0_jpg.rf.4deb45c2491850a5e324e8b14c8e82f2.txt  \n",
            "  inflating: /content/OIVIS_Lab_3/train/labels/autosave09_10_2012_08_36_30_3_jpg.rf.cb11dad4d57092d9a6fe39f4c44b6199.txt  \n",
            "  inflating: /content/OIVIS_Lab_3/train/labels/autosave09_10_2012_08_36_34_0_jpg.rf.b15402b202d1f11a8699a4f71178af3a.txt  \n",
            "  inflating: /content/OIVIS_Lab_3/train/labels/autosave09_10_2012_08_36_56_0_jpg.rf.80e3f542b7fc421bf63ca269403ba8cb.txt  \n",
            "  inflating: /content/OIVIS_Lab_3/train/labels/autosave09_10_2012_08_37_01_1_jpg.rf.45f30ea396b53be244f20057e28a6628.txt  \n",
            "  inflating: /content/OIVIS_Lab_3/train/labels/autosave09_10_2012_08_37_51_1_jpg.rf.f3a72fb8824156fc3abd314caea0bb34.txt  \n",
            "  inflating: /content/OIVIS_Lab_3/train/labels/autosave09_10_2012_08_38_45_1_jpg.rf.ce87861d2e9dc9e41c1f67d058b5f326.txt  \n",
            "  inflating: /content/OIVIS_Lab_3/train/labels/autosave09_10_2012_08_39_08_0_jpg.rf.4c414f751a2308c0804d44e19dee413c.txt  \n",
            "  inflating: /content/OIVIS_Lab_3/train/labels/autosave09_10_2012_08_40_04_3_jpg.rf.00cda93bd23d391f46c4998a65f4daa0.txt  \n",
            "  inflating: /content/OIVIS_Lab_3/train/labels/autosave09_10_2012_08_40_05_1_jpg.rf.4d91b12b28338d7b23c19cd1f535a90b.txt  \n",
            "  inflating: /content/OIVIS_Lab_3/train/labels/autosave09_10_2012_08_41_47_2_jpg.rf.2c42c208cb2ab99f758999f573fd25de.txt  \n",
            "  inflating: /content/OIVIS_Lab_3/train/labels/autosave09_10_2012_08_41_50_1_jpg.rf.8226d5a239d4187172d9dcf6f4593bd9.txt  \n",
            "  inflating: /content/OIVIS_Lab_3/train/labels/autosave09_10_2012_08_41_59_0_jpg.rf.41eda3e814715519c9490426529bebc4.txt  \n",
            "  inflating: /content/OIVIS_Lab_3/train/labels/autosave09_10_2012_08_42_34_2_jpg.rf.7a2b9d95a751ab8b72fbfef7127a3d55.txt  \n",
            "  inflating: /content/OIVIS_Lab_3/train/labels/autosave09_10_2012_08_42_36_1_jpg.rf.8e8a6e6140be2c2c60593f18cc207fbf.txt  \n",
            "  inflating: /content/OIVIS_Lab_3/train/labels/autosave09_10_2012_08_42_43_0_jpg.rf.5e837a3f53fb0afc93f834f4426e768b.txt  \n",
            "  inflating: /content/OIVIS_Lab_3/train/labels/autosave09_10_2012_08_42_43_1_jpg.rf.3b4d21dab401315180c4b4180d948853.txt  \n",
            "  inflating: /content/OIVIS_Lab_3/train/labels/autosave09_10_2012_08_42_43_2_jpg.rf.7270020667029a0add3d80db8aa24266.txt  \n",
            "  inflating: /content/OIVIS_Lab_3/train/labels/autosave09_10_2012_08_42_44_1_jpg.rf.f2e1cea200c58dc52576dba651cfde29.txt  \n",
            "  inflating: /content/OIVIS_Lab_3/train/labels/autosave09_10_2012_08_42_49_2_jpg.rf.2acffc22341ea7023f1f12908d25b8b7.txt  \n",
            "  inflating: /content/OIVIS_Lab_3/train/labels/autosave09_10_2012_08_44_05_1_jpg.rf.88959b1a5987edc5263c8c429dc186ed.txt  \n",
            "  inflating: /content/OIVIS_Lab_3/train/labels/autosave09_10_2012_08_44_07_0_jpg.rf.5f0e60705dfda4a4fb376351efb82562.txt  \n",
            "  inflating: /content/OIVIS_Lab_3/train/labels/autosave09_10_2012_08_44_07_1_jpg.rf.95171fc4c401edf629c1cc6e80052e0e.txt  \n",
            "  inflating: /content/OIVIS_Lab_3/train/labels/autosave09_10_2012_08_44_08_2_jpg.rf.867fb132e46c0b4d2a490dbecef4d0f8.txt  \n",
            "  inflating: /content/OIVIS_Lab_3/train/labels/autosave09_10_2012_08_44_22_0_jpg.rf.c761a722efc9e544da97735005f019bb.txt  \n",
            "  inflating: /content/OIVIS_Lab_3/train/labels/autosave09_10_2012_08_44_43_2_jpg.rf.d9c45fd4af7938c7f444da32b746c65a.txt  \n",
            "  inflating: /content/OIVIS_Lab_3/train/labels/autosave09_10_2012_08_45_18_3_jpg.rf.2af7962d2239c08470dc0ed18581e039.txt  \n",
            "  inflating: /content/OIVIS_Lab_3/train/labels/autosave09_10_2012_08_46_49_0_jpg.rf.1588e20e71cabb03fa135fbda0095c8a.txt  \n",
            "  inflating: /content/OIVIS_Lab_3/train/labels/autosave09_10_2012_08_47_02_1_jpg.rf.c7db515baae1b6104fcd19b8095272f6.txt  \n",
            "  inflating: /content/OIVIS_Lab_3/train/labels/autosave09_10_2012_08_47_50_1_jpg.rf.f1ea9c80ca5a9df54924a4aab7beb8e1.txt  \n",
            "  inflating: /content/OIVIS_Lab_3/train/labels/autosave09_10_2012_08_48_17_2_jpg.rf.b3608c164e9d1ae9d3a5071ac04ca896.txt  \n",
            "  inflating: /content/OIVIS_Lab_3/train/labels/autosave09_10_2012_08_50_44_2_jpg.rf.9967046c3f4fa6fbc5064313f340baa8.txt  \n",
            "  inflating: /content/OIVIS_Lab_3/train/labels/autosave09_10_2012_08_50_48_1_jpg.rf.58a22aa8450f9ebb3eb10d39202f55c7.txt  \n",
            "  inflating: /content/OIVIS_Lab_3/train/labels/autosave09_10_2012_08_50_56_1_jpg.rf.2a42dd643820919a880d1d632417390b.txt  \n",
            "  inflating: /content/OIVIS_Lab_3/train/labels/autosave09_10_2012_08_51_18_3_jpg.rf.614920930554d19fd545ed7579a67641.txt  \n",
            "  inflating: /content/OIVIS_Lab_3/train/labels/autosave09_10_2012_08_51_24_2_jpg.rf.d14bbd90ae475eea518ba34fb19a2dac.txt  \n",
            "  inflating: /content/OIVIS_Lab_3/train/labels/autosave09_10_2012_08_52_08_2_jpg.rf.5fbce34aa306582a4d9d35f20a73a8e0.txt  \n",
            "  inflating: /content/OIVIS_Lab_3/train/labels/autosave09_10_2012_08_52_13_1_jpg.rf.762a2d5e243c7153d4ff7b643d26c79b.txt  \n",
            "  inflating: /content/OIVIS_Lab_3/train/labels/autosave09_10_2012_08_52_20_0_jpg.rf.cebbc1130ae38e20935fe7d6f879dad4.txt  \n",
            "  inflating: /content/OIVIS_Lab_3/train/labels/autosave09_10_2012_08_52_36_2_jpg.rf.48e731ec928961ac1daa23f6028e89d0.txt  \n",
            "  inflating: /content/OIVIS_Lab_3/train/labels/autosave09_10_2012_08_52_38_0_jpg.rf.75460008ec862143d38816b30691e16e.txt  \n",
            "  inflating: /content/OIVIS_Lab_3/train/labels/autosave09_10_2012_08_52_58_0_jpg.rf.a8162ef6b8774ccb87101717691f59e7.txt  \n",
            "  inflating: /content/OIVIS_Lab_3/train/labels/autosave09_10_2012_08_53_00_2_jpg.rf.7bdde36ba90bfdf3b5f7767a8c6f40bc.txt  \n",
            "  inflating: /content/OIVIS_Lab_3/train/labels/autosave09_10_2012_08_53_03_0_jpg.rf.4ce4e84064825cef077da775ed4cbfd4.txt  \n",
            "  inflating: /content/OIVIS_Lab_3/train/labels/autosave09_10_2012_09_03_12_2_jpg.rf.73afe6a0d9df8bc64b6484b000b103db.txt  \n",
            "  inflating: /content/OIVIS_Lab_3/train/labels/autosave09_10_2012_09_04_18_2_jpg.rf.310bcd7b8f59ca10330bf52318448cbe.txt  \n",
            "  inflating: /content/OIVIS_Lab_3/train/labels/autosave09_10_2012_09_04_24_1_jpg.rf.5821fd29a8872a2719a58857ed43239f.txt  \n",
            "  inflating: /content/OIVIS_Lab_3/train/labels/autosave09_10_2012_09_04_35_2_jpg.rf.5a78f86a116052ef9daacd3c005a5e0d.txt  \n",
            "  inflating: /content/OIVIS_Lab_3/train/labels/autosave09_10_2012_09_06_45_0_jpg.rf.09e1b6987a9322ea355af98e46addc73.txt  \n",
            "  inflating: /content/OIVIS_Lab_3/train/labels/autosave09_10_2012_09_06_46_0_jpg.rf.060d4d29d124a6573d942e0c48b08555.txt  \n",
            "  inflating: /content/OIVIS_Lab_3/train/labels/autosave09_10_2012_09_06_51_0_jpg.rf.82c2acef20e2f52a2f0a281d7045170a.txt  \n",
            "  inflating: /content/OIVIS_Lab_3/train/labels/autosave09_10_2012_09_07_07_2_jpg.rf.2d3a5de6200237c1f238c30cf6d85e9a.txt  \n",
            "  inflating: /content/OIVIS_Lab_3/train/labels/autosave09_10_2012_09_07_33_2_jpg.rf.12a87bf935346e5df2ee1919dffea396.txt  \n",
            "  inflating: /content/OIVIS_Lab_3/train/labels/autosave09_10_2012_09_07_35_0_jpg.rf.e8821fcdb4a8d8c5f5a7cf040838ddc4.txt  \n",
            "  inflating: /content/OIVIS_Lab_3/train/labels/autosave09_10_2012_09_07_36_0_jpg.rf.c90549ea72cc8ca4081f74b4a98d655b.txt  \n",
            "  inflating: /content/OIVIS_Lab_3/train/labels/autosave09_10_2012_09_07_39_0_jpg.rf.940bfc324254358c5f8f7e0529190875.txt  \n",
            "  inflating: /content/OIVIS_Lab_3/train/labels/autosave09_10_2012_09_07_42_1_jpg.rf.e3ab4b4bf12cdf1fe01d80809dc68fda.txt  \n",
            "  inflating: /content/OIVIS_Lab_3/train/labels/autosave09_10_2012_09_07_48_0_jpg.rf.be8776268a45b47291e025cadf42eab5.txt  \n",
            "  inflating: /content/OIVIS_Lab_3/train/labels/autosave09_10_2012_09_07_55_0_jpg.rf.b38a998ac5ddab890393935df503227b.txt  \n",
            "  inflating: /content/OIVIS_Lab_3/train/labels/autosave09_10_2012_09_07_55_2_jpg.rf.8874f630c3cfae863664ac74faf5bf73.txt  \n",
            "  inflating: /content/OIVIS_Lab_3/train/labels/autosave09_10_2012_09_10_30_1_jpg.rf.471feea880915c42101c7d49f6ed1d3e.txt  \n",
            "  inflating: /content/OIVIS_Lab_3/train/labels/autosave09_10_2012_09_12_06_3_jpg.rf.2d3b2779044aff45629b3f3a6acd4f5d.txt  \n",
            "  inflating: /content/OIVIS_Lab_3/train/labels/autosave09_10_2012_09_12_09_2_jpg.rf.621c39fb4d04532f67941680ce20f24d.txt  \n",
            "  inflating: /content/OIVIS_Lab_3/train/labels/autosave09_10_2012_09_12_11_3_jpg.rf.fcd6be2e48387f4cb7ad1da635bd54b5.txt  \n",
            "  inflating: /content/OIVIS_Lab_3/train/labels/autosave09_10_2012_09_12_26_1_jpg.rf.11be48f33ee5324c827ed2a4c991761b.txt  \n",
            "  inflating: /content/OIVIS_Lab_3/train/labels/autosave09_10_2012_09_12_53_1_jpg.rf.be7d47ea9514dc03cd44097d59411269.txt  \n",
            "  inflating: /content/OIVIS_Lab_3/train/labels/autosave09_10_2012_09_12_55_2_jpg.rf.2b389677b17c9449a2fd1aa315cb4b7b.txt  \n",
            "  inflating: /content/OIVIS_Lab_3/train/labels/autosave09_10_2012_09_12_57_2_jpg.rf.937bc77da2e19eadd47566a3423b46d1.txt  \n",
            "  inflating: /content/OIVIS_Lab_3/train/labels/autosave09_10_2012_09_13_23_1_jpg.rf.3a219aa0e05df3ed2bcb66fa8b95526b.txt  \n",
            "  inflating: /content/OIVIS_Lab_3/train/labels/autosave09_10_2012_09_13_52_1_jpg.rf.7f8ec344f93adff5e888b3e6e7b4dba3.txt  \n",
            "  inflating: /content/OIVIS_Lab_3/train/labels/autosave09_10_2012_09_13_54_3_jpg.rf.9f5b48f349c37b6d28d605e8456382a8.txt  \n",
            "  inflating: /content/OIVIS_Lab_3/train/labels/autosave09_10_2012_09_13_56_0_jpg.rf.f85b08bc882754f16aad6bf09f49bb3a.txt  \n",
            "  inflating: /content/OIVIS_Lab_3/train/labels/autosave09_10_2012_09_14_30_2_jpg.rf.b7d1287efd3864d9b091260a5a08bc7f.txt  \n",
            "  inflating: /content/OIVIS_Lab_3/train/labels/autosave09_10_2012_09_24_19_2_jpg.rf.b81f91d4ebb700dd1b966a802d295ed6.txt  \n",
            "  inflating: /content/OIVIS_Lab_3/train/labels/autosave09_10_2012_09_26_32_1_jpg.rf.ef2b6ae4a95f0573e60c93ac32453074.txt  \n",
            "  inflating: /content/OIVIS_Lab_3/train/labels/autosave09_10_2012_09_26_37_1_jpg.rf.9e61b2165acf1a063ca22b4a516b8972.txt  \n",
            "  inflating: /content/OIVIS_Lab_3/train/labels/autosave09_10_2012_09_26_50_1_jpg.rf.afef5f345723b2397f67b27e941a5bce.txt  \n",
            "  inflating: /content/OIVIS_Lab_3/train/labels/autosave09_10_2012_09_27_50_0_jpg.rf.f8032f4e153ff1759f5f64ebd70bd259.txt  \n",
            "  inflating: /content/OIVIS_Lab_3/train/labels/autosave09_10_2012_09_27_50_1_jpg.rf.ba9307c5cde5618d47decb588b87cd09.txt  \n",
            "  inflating: /content/OIVIS_Lab_3/train/labels/autosave09_10_2012_09_27_52_2_jpg.rf.b930405ecf0716ca2529abfedc014a38.txt  \n",
            "  inflating: /content/OIVIS_Lab_3/train/labels/autosave09_10_2012_09_28_59_0_jpg.rf.d6a38876f0336224fdf596e38433f6df.txt  \n",
            "  inflating: /content/OIVIS_Lab_3/train/labels/autosave09_10_2012_09_30_57_3_jpg.rf.0c53963a7ba5d9650dff9df5621fda2f.txt  \n",
            "  inflating: /content/OIVIS_Lab_3/train/labels/autosave09_10_2012_09_30_58_1_jpg.rf.25574680d4cbea4c40a35e8e6674d4da.txt  \n",
            "  inflating: /content/OIVIS_Lab_3/train/labels/autosave09_10_2012_09_33_40_2_jpg.rf.45b775b3655e6e872cc90e4d530e0c94.txt  \n",
            "  inflating: /content/OIVIS_Lab_3/train/labels/autosave09_10_2012_09_33_42_1_jpg.rf.75a04df844485bbf384bc9005be332ba.txt  \n",
            "  inflating: /content/OIVIS_Lab_3/train/labels/autosave09_10_2012_09_34_01_3_jpg.rf.ed8cc7d2626302538936f149a4499888.txt  \n",
            "  inflating: /content/OIVIS_Lab_3/train/labels/autosave09_10_2012_09_34_28_2_jpg.rf.7fdebb98e912cc81d4accb59d8cba830.txt  \n",
            "  inflating: /content/OIVIS_Lab_3/train/labels/autosave09_10_2012_09_35_24_2_jpg.rf.7e38b0fe37cb880ece2b9146c3c64b1a.txt  \n",
            "  inflating: /content/OIVIS_Lab_3/train/labels/autosave09_10_2012_09_35_26_1_jpg.rf.0b34678da5ed511d1fa9d48132200d48.txt  \n",
            "  inflating: /content/OIVIS_Lab_3/train/labels/autosave09_10_2012_09_36_32_0_jpg.rf.9d9b0a0305b703720cfadecb7dce172b.txt  \n",
            "  inflating: /content/OIVIS_Lab_3/train/labels/autosave09_10_2012_09_37_06_0_jpg.rf.420fb738f4ca676ff57aa844f772cfa6.txt  \n",
            "  inflating: /content/OIVIS_Lab_3/train/labels/autosave09_10_2012_09_37_06_1_jpg.rf.40ca2762b4a2ed35dcaab2e876a8f085.txt  \n",
            "  inflating: /content/OIVIS_Lab_3/train/labels/autosave09_10_2012_09_37_08_0_jpg.rf.c530b1e97ed78fbf4716396d67b4601d.txt  \n",
            "  inflating: /content/OIVIS_Lab_3/train/labels/autosave09_10_2012_09_40_03_1_jpg.rf.dd50da0393a5281a555974dc1d8e62ad.txt  \n",
            "  inflating: /content/OIVIS_Lab_3/train/labels/autosave09_10_2012_09_40_04_1_jpg.rf.d68a16bf0eb9b3f5a83716f7af9b2b8d.txt  \n",
            "  inflating: /content/OIVIS_Lab_3/train/labels/autosave09_10_2012_09_41_02_2_jpg.rf.1e4336eeb8609f9c0a37dd9888edc5d7.txt  \n",
            "  inflating: /content/OIVIS_Lab_3/train/labels/autosave09_10_2012_09_41_02_3_jpg.rf.afd580c996b1732b77010e06f7222ec3.txt  \n",
            "  inflating: /content/OIVIS_Lab_3/train/labels/autosave09_10_2012_09_41_38_1_jpg.rf.ebf4feac05ffad413414dc05ff002ce4.txt  \n",
            "  inflating: /content/OIVIS_Lab_3/train/labels/autosave09_10_2012_09_41_57_0_jpg.rf.0fecf3068af1fab6726acac680d5b315.txt  \n",
            "  inflating: /content/OIVIS_Lab_3/train/labels/autosave09_10_2012_09_42_02_2_jpg.rf.bcadfedbeaf9472d0afa6ecaeede165f.txt  \n",
            "  inflating: /content/OIVIS_Lab_3/train/labels/autosave09_10_2012_09_44_22_2_jpg.rf.443b6fd4ec96bdd25a1e705480a4a9fd.txt  \n",
            "  inflating: /content/OIVIS_Lab_3/train/labels/autosave09_10_2012_09_44_26_2_jpg.rf.a9dfa52f92b793ffaadfa5721a86945d.txt  \n",
            "  inflating: /content/OIVIS_Lab_3/train/labels/autosave09_10_2012_09_44_29_1_jpg.rf.9b9df800f4a3ef5729e749ea4bb8c8f4.txt  \n",
            "  inflating: /content/OIVIS_Lab_3/train/labels/autosave09_10_2012_09_44_45_0_jpg.rf.a1fec0b4b57b0be36caaf4020405fbd5.txt  \n",
            "  inflating: /content/OIVIS_Lab_3/train/labels/autosave09_10_2012_09_44_46_1_jpg.rf.0f0d709f20e762fa9d4804eb492c1a48.txt  \n",
            "  inflating: /content/OIVIS_Lab_3/train/labels/autosave09_10_2012_09_44_54_2_jpg.rf.45f9b3a1615e55341de0e96bb4f43afe.txt  \n",
            "  inflating: /content/OIVIS_Lab_3/train/labels/autosave09_10_2012_09_44_56_0_jpg.rf.e1a57d3a90e3b7b91dec299cbb613ec0.txt  \n",
            "  inflating: /content/OIVIS_Lab_3/train/labels/autosave09_10_2012_09_45_07_1_jpg.rf.adf42fc7227ed84911783fbfb38a3d9f.txt  \n",
            "  inflating: /content/OIVIS_Lab_3/train/labels/autosave09_10_2012_09_45_07_2_jpg.rf.665a8467543f9097673614b879a12b48.txt  \n",
            "  inflating: /content/OIVIS_Lab_3/train/labels/autosave09_10_2012_09_45_08_0_jpg.rf.8eb2aa754fcaace856b3c73469ef3360.txt  \n",
            "  inflating: /content/OIVIS_Lab_3/train/labels/autosave09_10_2012_09_45_10_0_jpg.rf.d05ad86d18784ccdb9966b04e434225d.txt  \n",
            "  inflating: /content/OIVIS_Lab_3/train/labels/autosave09_10_2012_09_45_15_2_jpg.rf.2c3abb606cbb57883cbf1c82c4b389db.txt  \n",
            "  inflating: /content/OIVIS_Lab_3/train/labels/autosave09_10_2012_09_47_36_2_jpg.rf.1291c35dbad2a109eb176daa989f699a.txt  \n",
            "  inflating: /content/OIVIS_Lab_3/train/labels/autosave09_10_2012_09_47_37_1_jpg.rf.8ff97f95fed299be72f6018183c93dda.txt  \n",
            "  inflating: /content/OIVIS_Lab_3/train/labels/autosave09_10_2012_09_52_47_1_jpg.rf.79597d320513fa5981c06b5d38c2e0c0.txt  \n",
            "  inflating: /content/OIVIS_Lab_3/train/labels/autosave09_10_2012_09_52_51_1_jpg.rf.8955b4971082b53e373fc89b8ccb7165.txt  \n",
            "  inflating: /content/OIVIS_Lab_3/train/labels/autosave09_10_2012_09_52_53_2_jpg.rf.6e15c2684b777cd0044913633a9033b4.txt  \n",
            "  inflating: /content/OIVIS_Lab_3/train/labels/autosave09_10_2012_09_53_07_1_jpg.rf.3f1c55eb566b2fd064026bfe1bfc228d.txt  \n",
            "  inflating: /content/OIVIS_Lab_3/train/labels/autosave09_10_2012_09_53_24_1_jpg.rf.53a0de7e8cc48c83bae4e994044e1781.txt  \n",
            "  inflating: /content/OIVIS_Lab_3/train/labels/autosave09_10_2012_09_53_40_0_jpg.rf.73436137543a3241de7730247e7b0b6d.txt  \n",
            "  inflating: /content/OIVIS_Lab_3/train/labels/autosave09_10_2012_09_54_04_1_jpg.rf.377c00bcaa835933aa16843b7da7cc68.txt  \n",
            "  inflating: /content/OIVIS_Lab_3/train/labels/autosave09_10_2012_09_55_34_2_jpg.rf.3fab2b0782e9f1344fd2d1edd95c7fd9.txt  \n",
            "  inflating: /content/OIVIS_Lab_3/train/labels/autosave09_10_2012_09_55_41_1_jpg.rf.f56811982c67a2960d089a788e950396.txt  \n",
            "  inflating: /content/OIVIS_Lab_3/train/labels/autosave09_10_2012_09_55_45_1_jpg.rf.737d48f2fb1a91ebde29e95c82233691.txt  \n",
            "  inflating: /content/OIVIS_Lab_3/train/labels/autosave09_10_2012_09_57_38_2_jpg.rf.8a1d280b718c02e82d991c0d40d7dc8f.txt  \n",
            "  inflating: /content/OIVIS_Lab_3/train/labels/autosave09_10_2012_09_57_39_1_jpg.rf.000d93c3b1b537cb992da3cf5a8c03e0.txt  \n",
            "  inflating: /content/OIVIS_Lab_3/train/labels/autosave09_10_2012_09_57_40_0_jpg.rf.3b98fba0ad3acb7c2a6d14d3f48c1aee.txt  \n",
            "  inflating: /content/OIVIS_Lab_3/train/labels/autosave09_10_2012_09_59_18_1_jpg.rf.430730b418411b842e203e1a19c6d762.txt  \n",
            "  inflating: /content/OIVIS_Lab_3/train/labels/autosave09_10_2012_09_59_19_0_jpg.rf.296696d65847e1ee270f6b2118535701.txt  \n",
            "  inflating: /content/OIVIS_Lab_3/train/labels/autosave09_10_2012_09_59_19_1_jpg.rf.6354adbe4d85e51fda5db45f85609247.txt  \n",
            "  inflating: /content/OIVIS_Lab_3/train/labels/autosave09_10_2012_09_59_19_2_jpg.rf.e3cfabaec389c414dcebf14ee5d28e2c.txt  \n",
            "  inflating: /content/OIVIS_Lab_3/train/labels/autosave09_10_2012_10_00_48_2_jpg.rf.fa7a8c7fb6054070148d648f693362fc.txt  \n",
            "  inflating: /content/OIVIS_Lab_3/train/labels/autosave09_10_2012_10_02_53_0_jpg.rf.36509d840275337c85ef24aaca8a45b1.txt  \n",
            "  inflating: /content/OIVIS_Lab_3/train/labels/autosave09_10_2012_10_02_53_3_jpg.rf.3bfd2b2f53c0edfcd20e07c96341bb4c.txt  \n",
            "  inflating: /content/OIVIS_Lab_3/train/labels/autosave09_10_2012_10_05_02_2_jpg.rf.e39607e3417f58e46a062e7aac983376.txt  \n",
            "  inflating: /content/OIVIS_Lab_3/train/labels/autosave09_10_2012_10_05_02_3_jpg.rf.9d5eb45f6b656b93bd8b56d9269107c1.txt  \n",
            "  inflating: /content/OIVIS_Lab_3/train/labels/autosave09_10_2012_10_05_03_0_jpg.rf.e2c8cffe6f0524b18c5ca1825badb327.txt  \n",
            "  inflating: /content/OIVIS_Lab_3/train/labels/autosave09_10_2012_10_07_02_1_jpg.rf.1a83108b1300a110915bc393b00c889d.txt  \n",
            "  inflating: /content/OIVIS_Lab_3/train/labels/autosave09_10_2012_10_07_12_1_jpg.rf.450462130af7f51617ccfe31a066c49b.txt  \n",
            "  inflating: /content/OIVIS_Lab_3/train/labels/autosave09_10_2012_10_07_12_3_jpg.rf.c60bc6be4cc6fb8a839e1ec778587ed3.txt  \n",
            "  inflating: /content/OIVIS_Lab_3/train/labels/autosave09_10_2012_10_07_16_1_jpg.rf.98c306ed6da9568f7090b56098b06e8e.txt  \n",
            "  inflating: /content/OIVIS_Lab_3/train/labels/autosave09_10_2012_10_07_21_3_jpg.rf.139c9beaf941144e197e22e6b7ec0afd.txt  \n",
            "  inflating: /content/OIVIS_Lab_3/train/labels/autosave09_10_2012_10_13_32_0_jpg.rf.a74b4f6781081cf84266a556df7be42f.txt  \n",
            "  inflating: /content/OIVIS_Lab_3/train/labels/autosave09_10_2012_10_13_32_1_jpg.rf.e79d6fe4092bfd46fc17cb95c426eb85.txt  \n",
            "  inflating: /content/OIVIS_Lab_3/train/labels/autosave09_10_2012_10_13_32_2_jpg.rf.cdede7cc65f19d62629c3d5526b835c9.txt  \n",
            "  inflating: /content/OIVIS_Lab_3/train/labels/autosave09_10_2012_10_14_46_0_jpg.rf.040e114e3e8cf5cb115acaa47f421215.txt  \n",
            "  inflating: /content/OIVIS_Lab_3/train/labels/autosave09_10_2012_10_14_47_2_jpg.rf.27d79223c2afb1008e7a5344ef32293b.txt  \n",
            "  inflating: /content/OIVIS_Lab_3/train/labels/autosave09_10_2012_10_16_23_1_jpg.rf.74bbaa195aae6453723b01df54ad2927.txt  \n",
            "  inflating: /content/OIVIS_Lab_3/train/labels/autosave09_10_2012_10_16_42_2_jpg.rf.41be677721070292e901b351c920335c.txt  \n",
            "  inflating: /content/OIVIS_Lab_3/train/labels/autosave09_10_2012_10_16_45_1_jpg.rf.c5e1b51949da19e37b3d9f5c74896a1d.txt  \n",
            "  inflating: /content/OIVIS_Lab_3/train/labels/autosave09_10_2012_10_18_04_0_jpg.rf.6d39fec3257742afab8fa29170092e35.txt  \n",
            "  inflating: /content/OIVIS_Lab_3/train/labels/autosave09_10_2012_10_18_04_1_jpg.rf.e40310622428bddf0948a613258b1741.txt  \n",
            "  inflating: /content/OIVIS_Lab_3/train/labels/autosave09_10_2012_10_19_25_0_jpg.rf.dd1fec70dc7b749079bdd432339ece57.txt  \n",
            "  inflating: /content/OIVIS_Lab_3/train/labels/autosave09_10_2012_10_20_04_1_jpg.rf.608d3a9d96af990a3112b24f8ed3228d.txt  \n",
            "  inflating: /content/OIVIS_Lab_3/train/labels/autosave09_10_2012_10_20_49_1_jpg.rf.afe938a0e65547acf8dd14e67b60d2d7.txt  \n",
            "  inflating: /content/OIVIS_Lab_3/train/labels/autosave09_10_2012_10_21_26_1_jpg.rf.727789a40138e625cbb8d026962a5f02.txt  \n",
            "  inflating: /content/OIVIS_Lab_3/train/labels/autosave09_10_2012_10_21_28_1_jpg.rf.cd705f2d49138026e3b00bd403a5502a.txt  \n",
            "  inflating: /content/OIVIS_Lab_3/train/labels/autosave09_10_2012_10_21_34_1_jpg.rf.160807376afe8429deeec06aef35bb2c.txt  \n",
            "  inflating: /content/OIVIS_Lab_3/train/labels/autosave09_10_2012_10_22_17_2_jpg.rf.2d6a70ed4a46cb7254abd620e243ca95.txt  \n",
            "  inflating: /content/OIVIS_Lab_3/train/labels/autosave09_10_2012_10_22_19_0_jpg.rf.76351959682fd9321914fff094ed5641.txt  \n",
            "  inflating: /content/OIVIS_Lab_3/train/labels/autosave09_10_2012_11_03_00_0_jpg.rf.ed356e248d2543e85310c79a93796016.txt  \n",
            "  inflating: /content/OIVIS_Lab_3/train/labels/autosave09_10_2012_11_03_04_1_jpg.rf.4d700f23cfe1cfad32a262ff43e71ee7.txt  \n",
            "  inflating: /content/OIVIS_Lab_3/train/labels/autosave09_10_2012_11_03_15_0_jpg.rf.ed143201d6921752f09fb66cf9c8ebda.txt  \n",
            "  inflating: /content/OIVIS_Lab_3/train/labels/autosave09_10_2012_11_04_51_0_jpg.rf.d5a570d2c9bbc68476b510aac46a00dc.txt  \n",
            "  inflating: /content/OIVIS_Lab_3/train/labels/autosave09_10_2012_11_05_10_0_jpg.rf.42e481f7865e0646007b7d2d24f81340.txt  \n",
            "  inflating: /content/OIVIS_Lab_3/train/labels/autosave09_10_2012_11_05_10_1_jpg.rf.d734d44b3ed3897ae297d982997a9c4e.txt  \n",
            "  inflating: /content/OIVIS_Lab_3/train/labels/autosave09_10_2012_11_07_27_2_jpg.rf.03e42642ac0968c60e675d662ceaae68.txt  \n",
            "  inflating: /content/OIVIS_Lab_3/train/labels/autosave09_10_2012_11_07_28_0_jpg.rf.14fc40931f4ca398bf22756813ead912.txt  \n",
            "  inflating: /content/OIVIS_Lab_3/train/labels/autosave09_10_2012_11_07_29_1_jpg.rf.bebb449a48de9797aa1a98063cd1be97.txt  \n",
            "  inflating: /content/OIVIS_Lab_3/train/labels/autosave09_10_2012_11_08_35_0_jpg.rf.a00b7574bf37e3ee9301e2745cff37ab.txt  \n",
            "  inflating: /content/OIVIS_Lab_3/train/labels/autosave09_10_2012_11_10_33_1_jpg.rf.070d4bfed5d2b1ef0aec31a60850f016.txt  \n",
            "  inflating: /content/OIVIS_Lab_3/train/labels/autosave09_10_2012_11_10_35_0_jpg.rf.53e6bbf09f43312b81b7498d689dbed9.txt  \n",
            "  inflating: /content/OIVIS_Lab_3/train/labels/autosave09_10_2012_11_11_29_2_jpg.rf.c7594a14f473c9f1c74b8557f382d2d7.txt  \n",
            "  inflating: /content/OIVIS_Lab_3/train/labels/autosave09_10_2012_11_12_30_2_jpg.rf.2b961a35eb5fc58fddf56f7895ed4216.txt  \n",
            "  inflating: /content/OIVIS_Lab_3/train/labels/autosave09_10_2012_11_13_52_1_jpg.rf.400115e307334c3baab059c061638030.txt  \n",
            "  inflating: /content/OIVIS_Lab_3/train/labels/autosave09_10_2012_11_13_54_2_jpg.rf.b9819f02bae2d6f73bef917311542ac2.txt  \n",
            "  inflating: /content/OIVIS_Lab_3/train/labels/autosave09_10_2012_11_13_55_0_jpg.rf.4947ceab9f9ce39562c6ea4fe454f7f6.txt  \n",
            "  inflating: /content/OIVIS_Lab_3/train/labels/autosave09_10_2012_11_13_55_3_jpg.rf.71932034b4b2ffc29af929054fc0660f.txt  \n",
            "  inflating: /content/OIVIS_Lab_3/train/labels/autosave09_10_2012_11_13_57_3_jpg.rf.10e6bb2e12c5b013f4bdd4c5d9f07592.txt  \n",
            "  inflating: /content/OIVIS_Lab_3/train/labels/autosave09_10_2012_11_14_32_2_jpg.rf.4d0e43b46785a3412e1dbdf0cb1fe77b.txt  \n",
            "  inflating: /content/OIVIS_Lab_3/train/labels/autosave09_10_2012_11_14_34_0_jpg.rf.eda438ddf6d83bee28e5b0b1e5b226cf.txt  \n",
            "  inflating: /content/OIVIS_Lab_3/train/labels/autosave09_10_2012_11_14_37_1_jpg.rf.ad04a11cb3b7c30b93f8a85c4b6e1d55.txt  \n",
            "  inflating: /content/OIVIS_Lab_3/train/labels/autosave09_10_2012_11_14_38_0_jpg.rf.55a079b54ee9d21db9788ff20272f85a.txt  \n",
            "  inflating: /content/OIVIS_Lab_3/train/labels/autosave09_10_2012_11_14_38_2_jpg.rf.ee107aad94dd03baba61efb74cd935f1.txt  \n",
            "  inflating: /content/OIVIS_Lab_3/train/labels/autosave09_10_2012_11_14_39_2_jpg.rf.eee55dc6f54ebc7ee36f08d8012f6283.txt  \n",
            "  inflating: /content/OIVIS_Lab_3/train/labels/autosave09_10_2012_11_14_54_0_jpg.rf.23bc981c3bd2c8a94bf0dae3be6b0ea5.txt  \n",
            "  inflating: /content/OIVIS_Lab_3/train/labels/autosave09_10_2012_11_14_55_0_jpg.rf.61361e5d5e75c075ebce714b01429443.txt  \n",
            "  inflating: /content/OIVIS_Lab_3/train/labels/autosave09_10_2012_11_15_24_1_jpg.rf.51ba095901c1838becb5ceca79602fc4.txt  \n",
            "  inflating: /content/OIVIS_Lab_3/train/labels/autosave09_10_2012_11_15_24_2_jpg.rf.2bf62c10cad295e6fb0662729f2ee31c.txt  \n",
            "  inflating: /content/OIVIS_Lab_3/train/labels/autosave09_10_2012_11_15_25_0_jpg.rf.2bca37f442df09bbf777de26622dec24.txt  \n",
            "  inflating: /content/OIVIS_Lab_3/train/labels/autosave09_10_2012_11_15_36_1_jpg.rf.5b223e6ca4f6baba5cc88cd9b17cb26b.txt  \n",
            "  inflating: /content/OIVIS_Lab_3/train/labels/autosave09_10_2012_11_16_24_1_jpg.rf.cf97ae32219334e8d6b4a75696a14057.txt  \n",
            "  inflating: /content/OIVIS_Lab_3/train/labels/autosave09_10_2012_11_16_34_0_jpg.rf.58216dc7ef45a160a7fe434e864cef64.txt  \n",
            "  inflating: /content/OIVIS_Lab_3/train/labels/autosave09_10_2012_11_16_36_0_jpg.rf.19b5a96c8c35f5df834f833cf1024df1.txt  \n",
            "  inflating: /content/OIVIS_Lab_3/train/labels/autosave09_10_2012_11_16_39_1_jpg.rf.2592ed85040dd2e4ec2fb7d05aa49e85.txt  \n",
            "  inflating: /content/OIVIS_Lab_3/train/labels/autosave09_10_2012_11_18_08_1_jpg.rf.92bde4a6bc93d863db9658970c59eb60.txt  \n",
            "  inflating: /content/OIVIS_Lab_3/train/labels/autosave09_10_2012_11_18_08_2_jpg.rf.8645bf847bccb8968e899a8e0f833ab0.txt  \n",
            "  inflating: /content/OIVIS_Lab_3/train/labels/autosave09_10_2012_11_18_15_2_jpg.rf.fba5f96cf4d08963a6cc2142472932f0.txt  \n",
            "  inflating: /content/OIVIS_Lab_3/train/labels/autosave09_10_2012_11_19_24_0_jpg.rf.1524437da27477c765297aed030d1b5d.txt  \n",
            "  inflating: /content/OIVIS_Lab_3/train/labels/autosave09_10_2012_11_19_56_2_jpg.rf.4075236efc4a13148d1a443a545cd1cf.txt  \n",
            "  inflating: /content/OIVIS_Lab_3/train/labels/autosave09_10_2012_11_19_58_3_jpg.rf.bf8c42ca3d8f385637913f2bc4b0fbe7.txt  \n",
            "  inflating: /content/OIVIS_Lab_3/train/labels/autosave09_10_2012_11_20_06_1_jpg.rf.10ac4ae9afc902fcf27830ec8095212a.txt  \n",
            "  inflating: /content/OIVIS_Lab_3/train/labels/autosave09_10_2012_11_20_07_0_jpg.rf.7a5f69d696d869a785613163e4db2342.txt  \n",
            "  inflating: /content/OIVIS_Lab_3/train/labels/autosave09_10_2012_11_20_08_2_jpg.rf.ad9f472344c70e977bd1fe971a7e7433.txt  \n",
            "  inflating: /content/OIVIS_Lab_3/train/labels/autosave09_10_2012_11_20_09_1_jpg.rf.0628c4847052c0f67bb452a6b648848a.txt  \n",
            "  inflating: /content/OIVIS_Lab_3/train/labels/autosave09_10_2012_11_20_11_2_jpg.rf.e808b46433bd21b09e49a8587a1f6c52.txt  \n",
            "  inflating: /content/OIVIS_Lab_3/train/labels/autosave09_10_2012_11_20_44_1_jpg.rf.dc9212aaa7c5e804d51c6d7c30814e54.txt  \n",
            "  inflating: /content/OIVIS_Lab_3/train/labels/autosave09_10_2012_11_21_14_0_jpg.rf.03b99280d4e6b700dcde7c2d459d0677.txt  \n",
            "  inflating: /content/OIVIS_Lab_3/train/labels/autosave09_10_2012_11_21_26_2_jpg.rf.0d657341c5ce252187a65d9ff3fbce51.txt  \n",
            "  inflating: /content/OIVIS_Lab_3/train/labels/autosave09_10_2012_11_22_12_2_jpg.rf.f5d555d128f8caa44a908193b26f28c8.txt  \n",
            "  inflating: /content/OIVIS_Lab_3/train/labels/autosave09_10_2012_11_22_13_0_jpg.rf.26435e54a250add3f1eeed61298acfc9.txt  \n",
            "  inflating: /content/OIVIS_Lab_3/train/labels/autosave09_10_2012_11_22_34_2_jpg.rf.a2bfd475c7831cecdae74d79803cfc85.txt  \n",
            "  inflating: /content/OIVIS_Lab_3/train/labels/autosave09_10_2012_11_22_55_3_jpg.rf.6dbb765d4ff4f336b1c6916ee1f164fa.txt  \n",
            "  inflating: /content/OIVIS_Lab_3/train/labels/autosave09_10_2012_11_22_58_1_jpg.rf.c096047d460166a1e629699e28517ff2.txt  \n",
            "  inflating: /content/OIVIS_Lab_3/train/labels/autosave09_10_2012_11_23_00_1_jpg.rf.f069cb5bae45a65606590e60e07a9c57.txt  \n",
            "  inflating: /content/OIVIS_Lab_3/train/labels/autosave09_10_2012_11_23_06_1_jpg.rf.90483c757d6be97255b7ac13b9c417d5.txt  \n",
            "  inflating: /content/OIVIS_Lab_3/train/labels/autosave09_10_2012_11_23_11_2_jpg.rf.6cf589c6809586f3dc926c99109aa475.txt  \n",
            "  inflating: /content/OIVIS_Lab_3/train/labels/autosave09_10_2012_11_25_32_0_jpg.rf.c37345f1b4d46e7fbce87048e02432b5.txt  \n",
            "  inflating: /content/OIVIS_Lab_3/train/labels/autosave09_10_2012_11_25_32_1_jpg.rf.c49eaf87f2e6835c7f87d70a024eb2b0.txt  \n",
            "  inflating: /content/OIVIS_Lab_3/train/labels/autosave09_10_2012_11_25_41_0_jpg.rf.aaaf70c869d9cc2f5b38257d32761429.txt  \n",
            "  inflating: /content/OIVIS_Lab_3/train/labels/autosave09_10_2012_11_25_44_2_jpg.rf.85e80d1b913849380d26f3a47b3f1d52.txt  \n",
            "  inflating: /content/OIVIS_Lab_3/train/labels/autosave09_10_2012_11_25_45_2_jpg.rf.97ce496738b7d18cc38ecd684e34a724.txt  \n",
            "  inflating: /content/OIVIS_Lab_3/train/labels/autosave09_10_2012_11_25_48_1_jpg.rf.19570530e7c284448fd06fff5cb29024.txt  \n",
            "  inflating: /content/OIVIS_Lab_3/train/labels/autosave09_10_2012_11_26_51_2_jpg.rf.8ab20931dcb8994da914bd59d398caed.txt  \n",
            "  inflating: /content/OIVIS_Lab_3/train/labels/autosave09_10_2012_11_26_51_3_jpg.rf.21983a10170dd3a50b8cdd185797b3c4.txt  \n",
            "  inflating: /content/OIVIS_Lab_3/train/labels/autosave09_10_2012_11_26_52_2_jpg.rf.62a9653fe01c446d130cda41eab53805.txt  \n",
            "  inflating: /content/OIVIS_Lab_3/train/labels/autosave09_10_2012_11_26_53_0_jpg.rf.c6ffe961030ddafd591594946f78e220.txt  \n",
            "  inflating: /content/OIVIS_Lab_3/train/labels/autosave09_10_2012_11_26_54_0_jpg.rf.61717ddccab0e9b4a497eecde61d7da3.txt  \n",
            "  inflating: /content/OIVIS_Lab_3/train/labels/autosave09_10_2012_11_26_56_1_jpg.rf.0c21dfe3af7ce997a0f5000740a4017b.txt  \n",
            "  inflating: /content/OIVIS_Lab_3/train/labels/autosave09_10_2012_11_27_41_2_jpg.rf.6076c132ad97e862b639aed54b1dc84c.txt  \n",
            "  inflating: /content/OIVIS_Lab_3/train/labels/autosave09_10_2012_11_30_35_1_jpg.rf.707db2c856a2b65a1538ab176fccda69.txt  \n",
            "  inflating: /content/OIVIS_Lab_3/train/labels/autosave09_10_2012_11_30_35_3_jpg.rf.a5a989fe79cd492b7e23b414f4ec3c89.txt  \n",
            "  inflating: /content/OIVIS_Lab_3/train/labels/autosave09_10_2012_11_34_47_2_jpg.rf.55f3c6653d8a0b774480c4d3ead54f60.txt  \n",
            "  inflating: /content/OIVIS_Lab_3/train/labels/autosave09_10_2012_11_34_47_3_jpg.rf.dde9c096a64bcf743cc0ad0498eeabc6.txt  \n",
            "  inflating: /content/OIVIS_Lab_3/train/labels/autosave09_10_2012_11_34_54_1_jpg.rf.748795c6a646890793c8a5d8956d19ad.txt  \n",
            "  inflating: /content/OIVIS_Lab_3/train/labels/autosave09_10_2012_11_34_54_2_jpg.rf.6dd96e33b6a86bb0c93abc0b8684bdd8.txt  \n",
            "  inflating: /content/OIVIS_Lab_3/train/labels/autosave09_10_2012_11_35_17_0_jpg.rf.1a94f7b20f4dc89942a3756d857a10e6.txt  \n",
            "  inflating: /content/OIVIS_Lab_3/train/labels/autosave09_10_2012_11_35_17_1_jpg.rf.f95486c8fa483def5e164ee6af4e75fe.txt  \n",
            "  inflating: /content/OIVIS_Lab_3/train/labels/autosave09_10_2012_11_35_22_0_jpg.rf.d7c9838845895cfda1903a8d4e04646d.txt  \n",
            "  inflating: /content/OIVIS_Lab_3/train/labels/autosave09_10_2012_11_35_22_3_jpg.rf.634ad30a1e61e33b01fd652e928dfd05.txt  \n",
            "  inflating: /content/OIVIS_Lab_3/train/labels/autosave09_10_2012_11_35_41_1_jpg.rf.2ac56b40182eea59318dd3f25358a62a.txt  \n",
            "  inflating: /content/OIVIS_Lab_3/train/labels/autosave09_10_2012_11_35_42_1_jpg.rf.4d4375701d6552c227b627eb49056a5d.txt  \n",
            "  inflating: /content/OIVIS_Lab_3/train/labels/autosave09_10_2012_11_35_43_0_jpg.rf.6c7dbe10f446315583f5fea389967841.txt  \n",
            "  inflating: /content/OIVIS_Lab_3/train/labels/autosave09_10_2012_11_35_44_1_jpg.rf.48bd42cde920828374adc0a61f961f10.txt  \n",
            "  inflating: /content/OIVIS_Lab_3/train/labels/autosave09_10_2012_11_35_44_2_jpg.rf.0ffcef95d409387d671a60bcbfa3989c.txt  \n",
            "  inflating: /content/OIVIS_Lab_3/train/labels/autosave09_10_2012_11_36_20_3_jpg.rf.9453b9fdb4b4f9ddc6fb65c177e99ea5.txt  \n",
            "  inflating: /content/OIVIS_Lab_3/train/labels/autosave09_10_2012_11_36_28_0_jpg.rf.565b1bdde3cedc5b3b25e00643409940.txt  \n",
            "  inflating: /content/OIVIS_Lab_3/train/labels/autosave09_10_2012_11_43_03_0_jpg.rf.97aa2dbfc5d81977ffb9a55c46968d82.txt  \n",
            "  inflating: /content/OIVIS_Lab_3/train/labels/autosave09_10_2012_11_43_18_0_jpg.rf.e154a78fe316066fb8fdeea563b79329.txt  \n",
            "  inflating: /content/OIVIS_Lab_3/train/labels/autosave09_10_2012_11_43_32_0_jpg.rf.df05097b9cc197ae6bd68dabc1adae6e.txt  \n",
            "  inflating: /content/OIVIS_Lab_3/train/labels/autosave09_10_2012_11_43_34_2_jpg.rf.0876b84bf6efae69c2783c41106d2368.txt  \n",
            "  inflating: /content/OIVIS_Lab_3/train/labels/autosave09_10_2012_11_43_36_3_jpg.rf.9f8c9de7ddc11c3c1327bb1727f23ef0.txt  \n",
            "  inflating: /content/OIVIS_Lab_3/train/labels/autosave09_10_2012_11_43_38_0_jpg.rf.2a66fa844de6fba1ee79b3e9fbebbcad.txt  \n",
            "  inflating: /content/OIVIS_Lab_3/train/labels/autosave09_10_2012_11_44_29_1_jpg.rf.882059eb3482047a1f34b69554269c9c.txt  \n",
            "  inflating: /content/OIVIS_Lab_3/train/labels/autosave09_10_2012_11_44_31_0_jpg.rf.659decdc1320af6e25d583eb35df4e00.txt  \n",
            "  inflating: /content/OIVIS_Lab_3/train/labels/autosave09_10_2012_11_44_36_1_jpg.rf.c528a3055d82d63fc77426147a1b1d11.txt  \n",
            "  inflating: /content/OIVIS_Lab_3/train/labels/autosave09_10_2012_11_44_36_3_jpg.rf.2d09017471549d5c9cd0a2800f9a69f6.txt  \n",
            "  inflating: /content/OIVIS_Lab_3/train/labels/autosave09_10_2012_11_44_40_0_jpg.rf.6ba634a8cfff040fb8a5fc752b0124a8.txt  \n",
            "  inflating: /content/OIVIS_Lab_3/train/labels/autosave09_10_2012_11_44_42_1_jpg.rf.636cd6dc37d14de56b0f0a06d9f1b4af.txt  \n",
            "  inflating: /content/OIVIS_Lab_3/train/labels/autosave09_10_2012_11_45_17_0_jpg.rf.cf039d70f12602b364d29151816b5665.txt  \n",
            "  inflating: /content/OIVIS_Lab_3/train/labels/autosave09_10_2012_11_45_19_0_jpg.rf.37bc15b278945ecf98501ee58327661a.txt  \n",
            "  inflating: /content/OIVIS_Lab_3/train/labels/autosave09_10_2012_11_45_19_1_jpg.rf.dd91e0bc5d834b62669f7cfe1cad042d.txt  \n",
            "  inflating: /content/OIVIS_Lab_3/train/labels/autosave09_10_2012_11_45_22_3_jpg.rf.ece83b5acfda357dd6c867fcbbf65534.txt  \n",
            "  inflating: /content/OIVIS_Lab_3/train/labels/autosave09_10_2012_11_45_55_0_jpg.rf.64ab6a0215ab29ee895619ddbfffa69a.txt  \n",
            "  inflating: /content/OIVIS_Lab_3/train/labels/autosave09_10_2012_11_45_56_0_jpg.rf.3cd024eb02a63bbca043f1d3b70eaa8c.txt  \n",
            "  inflating: /content/OIVIS_Lab_3/train/labels/autosave09_10_2012_11_45_56_2_jpg.rf.18af97afc6f0946554182d7098918845.txt  \n",
            "  inflating: /content/OIVIS_Lab_3/train/labels/autosave09_10_2012_11_45_57_1_jpg.rf.412b274cd25132c2d5b5bc28bd2f2434.txt  \n",
            "  inflating: /content/OIVIS_Lab_3/train/labels/autosave09_10_2012_11_45_57_3_jpg.rf.6dab41bf9568cfa92d8f8b3dd717257e.txt  \n",
            "  inflating: /content/OIVIS_Lab_3/train/labels/autosave09_10_2012_11_46_29_2_jpg.rf.ddac70da069866901c649c2f87efc61b.txt  \n",
            "  inflating: /content/OIVIS_Lab_3/train/labels/autosave09_10_2012_11_46_31_1_jpg.rf.462965ef6a3574595c83a1e5f4310242.txt  \n",
            "  inflating: /content/OIVIS_Lab_3/train/labels/autosave09_10_2012_11_46_32_2_jpg.rf.7be0adff099008c5ce18bc3e32eb6712.txt  \n",
            "  inflating: /content/OIVIS_Lab_3/train/labels/autosave09_10_2012_11_46_33_1_jpg.rf.2828266913d8cf20e65d7513747766f9.txt  \n",
            "  inflating: /content/OIVIS_Lab_3/train/labels/autosave09_10_2012_11_46_33_2_jpg.rf.f04a9c69750cd2d323c407e5096839d7.txt  \n",
            "  inflating: /content/OIVIS_Lab_3/train/labels/autosave09_10_2012_11_46_33_3_jpg.rf.eb37ce785375ab2fe12ab13a2a9aa537.txt  \n",
            "  inflating: /content/OIVIS_Lab_3/train/labels/autosave09_10_2012_11_47_03_0_jpg.rf.74e2fd1b49f0ad0e0195c7b3d82b9474.txt  \n",
            "  inflating: /content/OIVIS_Lab_3/train/labels/autosave09_10_2012_11_47_05_1_jpg.rf.fc16ebb307c05beb7b2c1f05628db92c.txt  \n",
            "  inflating: /content/OIVIS_Lab_3/train/labels/autosave09_10_2012_11_47_07_0_jpg.rf.e06ae36279d8d55126b14d246354c112.txt  \n",
            "  inflating: /content/OIVIS_Lab_3/train/labels/autosave09_10_2012_11_47_07_1_jpg.rf.1452c23de7c40b07f4d3b8463c1ff250.txt  \n",
            "  inflating: /content/OIVIS_Lab_3/train/labels/autosave09_10_2012_11_47_09_2_jpg.rf.eb22f90072028f2c6050e552ce3ffe7f.txt  \n",
            "  inflating: /content/OIVIS_Lab_3/train/labels/autosave09_10_2012_11_47_27_3_jpg.rf.a6978aae3bca790982574f3036b61e42.txt  \n",
            "  inflating: /content/OIVIS_Lab_3/train/labels/autosave09_10_2012_11_47_59_2_jpg.rf.cdcfbc6cb7fd3e6497ed8dee150180c8.txt  \n",
            "  inflating: /content/OIVIS_Lab_3/train/labels/autosave09_10_2012_11_48_02_0_jpg.rf.8d12cbb874114c15f5598fae2d515ee9.txt  \n",
            "  inflating: /content/OIVIS_Lab_3/train/labels/autosave09_10_2012_11_48_06_0_jpg.rf.2510ce04df9be275ec199e6201724dce.txt  \n",
            "  inflating: /content/OIVIS_Lab_3/train/labels/autosave09_10_2012_11_51_33_0_jpg.rf.6e84fd0c44731bc4382643906697dc65.txt  \n",
            "  inflating: /content/OIVIS_Lab_3/train/labels/autosave09_10_2012_11_51_37_2_jpg.rf.43e03bd4278ebb87f9c8484687e9c9d5.txt  \n",
            "  inflating: /content/OIVIS_Lab_3/train/labels/autosave09_10_2012_11_51_39_0_jpg.rf.468dc1194a1de3023dfac152b90d727f.txt  \n",
            "  inflating: /content/OIVIS_Lab_3/train/labels/autosave09_10_2012_11_56_11_0_jpg.rf.cd67484501c2a708a7f54fc7fd1c3852.txt  \n",
            "  inflating: /content/OIVIS_Lab_3/train/labels/autosave09_10_2012_11_57_30_2_jpg.rf.04f2175d852764f2c7c14ef5e176981b.txt  \n",
            "  inflating: /content/OIVIS_Lab_3/train/labels/autosave09_10_2012_11_57_32_1_jpg.rf.6467ff32cdb81f6099d2352331e2d468.txt  \n",
            "  inflating: /content/OIVIS_Lab_3/train/labels/autosave09_10_2012_11_58_14_1_jpg.rf.4669a5f993fafc8d8fb8fb9e7fbc5bce.txt  \n",
            "  inflating: /content/OIVIS_Lab_3/train/labels/autosave09_10_2012_11_58_14_3_jpg.rf.253b8d36802c7f2f979ff27ed7b6974f.txt  \n",
            "  inflating: /content/OIVIS_Lab_3/train/labels/autosave09_10_2012_11_59_37_1_jpg.rf.423284a127f59c985bf6b34fd5fc3191.txt  \n",
            "  inflating: /content/OIVIS_Lab_3/train/labels/autosave09_10_2012_12_01_35_1_jpg.rf.188aaf0dd0386d7104d0f23f0b7af97c.txt  \n",
            "  inflating: /content/OIVIS_Lab_3/train/labels/autosave09_10_2012_12_01_36_0_jpg.rf.c0047fa19c998d1bee4685a7944f3eba.txt  \n",
            "  inflating: /content/OIVIS_Lab_3/train/labels/autosave09_10_2012_12_02_41_2_jpg.rf.0bfd750e847b7b83bd34f200b1f6e646.txt  \n",
            "  inflating: /content/OIVIS_Lab_3/train/labels/autosave09_10_2012_12_12_49_0_jpg.rf.5de6a73b37d6a8874db131bb098de371.txt  \n",
            "  inflating: /content/OIVIS_Lab_3/train/labels/autosave09_10_2012_12_12_50_0_jpg.rf.63710c353fd2cccbba716ac0a4bf32e2.txt  \n",
            "  inflating: /content/OIVIS_Lab_3/train/labels/autosave09_10_2012_12_14_36_2_jpg.rf.b99df80902e36a6219720da561501be1.txt  \n",
            "  inflating: /content/OIVIS_Lab_3/train/labels/autosave09_10_2012_12_17_21_1_jpg.rf.c76d5893924850e95ae62ee635625712.txt  \n",
            "  inflating: /content/OIVIS_Lab_3/train/labels/autosave09_10_2012_12_17_22_1_jpg.rf.fea618de3bcb2d4e5e0e178ace7f9d02.txt  \n",
            "  inflating: /content/OIVIS_Lab_3/train/labels/autosave09_10_2012_12_17_28_0_jpg.rf.d4b5ed0b76f49d11da1d8e2dd07a8c38.txt  \n",
            "  inflating: /content/OIVIS_Lab_3/train/labels/autosave09_10_2012_12_17_29_2_jpg.rf.9320304539e07467949b1f09e52e8c32.txt  \n",
            "  inflating: /content/OIVIS_Lab_3/train/labels/autosave09_10_2012_12_17_37_1_jpg.rf.6d13a3f91da82bd72fc2e394a360b4b2.txt  \n",
            "  inflating: /content/OIVIS_Lab_3/train/labels/autosave09_10_2012_12_17_38_0_jpg.rf.18e52292338f4ea99ebe311657d4e7a0.txt  \n",
            "  inflating: /content/OIVIS_Lab_3/train/labels/autosave09_10_2012_12_18_00_3_jpg.rf.190ff20e285e6bc2ec67aeb1b5765d46.txt  \n",
            "  inflating: /content/OIVIS_Lab_3/train/labels/autosave09_10_2012_12_18_15_3_jpg.rf.03090303f4692f3cf0ef9026b7638f18.txt  \n",
            "  inflating: /content/OIVIS_Lab_3/train/labels/autosave09_10_2012_12_18_23_1_jpg.rf.2b1dc4af510ddef23fa4f9d7038b9abb.txt  \n",
            "  inflating: /content/OIVIS_Lab_3/train/labels/autosave09_10_2012_12_18_23_2_jpg.rf.f65f2f5932385bbcc150c375863e1fd3.txt  \n",
            "  inflating: /content/OIVIS_Lab_3/train/labels/autosave09_10_2012_12_18_25_1_jpg.rf.d9de9d3eec314ca18588c75bc65ea9ae.txt  \n",
            "  inflating: /content/OIVIS_Lab_3/train/labels/autosave09_10_2012_12_18_25_2_jpg.rf.bcbd1a94e1d84072844dbe75a5a3c0bf.txt  \n",
            "  inflating: /content/OIVIS_Lab_3/train/labels/autosave09_10_2012_12_18_30_2_jpg.rf.ab855eeba24dbed4e8ee7ea25c255470.txt  \n",
            "  inflating: /content/OIVIS_Lab_3/train/labels/autosave09_10_2012_12_18_35_1_jpg.rf.ec0b544d636e2f4815a114141d5d030f.txt  \n",
            "  inflating: /content/OIVIS_Lab_3/train/labels/autosave09_10_2012_12_18_41_0_jpg.rf.a6c3aaebe513cd6aef3f3e210002bf91.txt  \n",
            "  inflating: /content/OIVIS_Lab_3/train/labels/autosave09_10_2012_12_19_50_2_jpg.rf.81709d362b90b9a548884db7de7f0e5c.txt  \n",
            "  inflating: /content/OIVIS_Lab_3/train/labels/autosave09_10_2012_12_20_12_2_jpg.rf.ea9f38bb9171978de522975e4b63dcf9.txt  \n",
            "  inflating: /content/OIVIS_Lab_3/train/labels/autosave09_10_2012_12_20_12_3_jpg.rf.a89f70ee6777d959ad00e4ada426a38a.txt  \n",
            "  inflating: /content/OIVIS_Lab_3/train/labels/autosave09_10_2012_12_20_19_1_jpg.rf.5611c4da2070e3eb8b193035f161da34.txt  \n",
            "  inflating: /content/OIVIS_Lab_3/train/labels/autosave09_10_2012_12_20_20_3_jpg.rf.07aa05ee6023aeb90bb797ef1e0bbc72.txt  \n",
            "  inflating: /content/OIVIS_Lab_3/train/labels/autosave09_10_2012_12_21_04_1_jpg.rf.0dbde17bfb47e4ffedb061f19803be47.txt  \n",
            "  inflating: /content/OIVIS_Lab_3/train/labels/autosave09_10_2012_12_21_05_0_jpg.rf.e7648162b89080f9899440ad205669b4.txt  \n",
            "  inflating: /content/OIVIS_Lab_3/train/labels/autosave09_10_2012_12_21_05_1_jpg.rf.5790ce48bfe37c3055908295aaaf58f5.txt  \n",
            "  inflating: /content/OIVIS_Lab_3/train/labels/autosave09_10_2012_12_21_05_3_jpg.rf.86d074533057f1cf38a6d155c3aed746.txt  \n",
            "  inflating: /content/OIVIS_Lab_3/train/labels/autosave09_10_2012_12_21_09_0_jpg.rf.8256d8c94784cbca7456eead9c0c0fe2.txt  \n",
            "  inflating: /content/OIVIS_Lab_3/train/labels/autosave09_10_2012_12_21_12_0_jpg.rf.7af4495f3aff8ca1de83e177d993a6ef.txt  \n",
            "  inflating: /content/OIVIS_Lab_3/train/labels/autosave09_10_2012_12_21_38_0_jpg.rf.9f9daa88bdedd0f56dc1d777012455f3.txt  \n",
            "  inflating: /content/OIVIS_Lab_3/train/labels/autosave09_10_2012_12_22_07_0_jpg.rf.99fbc28df8ab4ae83d9019cb31cb734a.txt  \n",
            "  inflating: /content/OIVIS_Lab_3/train/labels/autosave09_10_2012_12_22_11_2_jpg.rf.13ef6282ac6c5f8961016ab4293ee8f2.txt  \n",
            "  inflating: /content/OIVIS_Lab_3/train/labels/autosave09_10_2012_12_22_13_2_jpg.rf.1db0ab4ab34a542ce4909357bc89857a.txt  \n",
            "  inflating: /content/OIVIS_Lab_3/train/labels/autosave09_10_2012_12_22_37_2_jpg.rf.7fef846f6eee2a40f831b95d233657b1.txt  \n",
            "  inflating: /content/OIVIS_Lab_3/train/labels/autosave09_10_2012_12_22_38_0_jpg.rf.c00b10bf2d873ecaf61d32c52fe6e1b8.txt  \n",
            "  inflating: /content/OIVIS_Lab_3/train/labels/autosave09_10_2012_12_22_38_1_jpg.rf.455cb2ce02d0a5b8bd8284a74847a2b1.txt  \n",
            "  inflating: /content/OIVIS_Lab_3/train/labels/autosave09_10_2012_12_22_38_3_jpg.rf.0dca426382d3d88eae697155ded71126.txt  \n",
            "  inflating: /content/OIVIS_Lab_3/train/labels/autosave09_10_2012_12_22_39_1_jpg.rf.0320c2a7ba82375d0c7c3077ab0f16c7.txt  \n",
            "  inflating: /content/OIVIS_Lab_3/train/labels/autosave09_10_2012_12_22_49_2_jpg.rf.c78673a68d71f54482a831f1dad0d85b.txt  \n",
            "  inflating: /content/OIVIS_Lab_3/train/labels/autosave09_10_2012_12_23_22_1_jpg.rf.ae87be50b691e9244706090946d916f6.txt  \n",
            "  inflating: /content/OIVIS_Lab_3/train/labels/autosave09_10_2012_12_23_25_1_jpg.rf.80611d38c1abbe1b5225eb4959e67253.txt  \n",
            "  inflating: /content/OIVIS_Lab_3/train/labels/autosave09_10_2012_12_23_28_1_jpg.rf.2fed76b817c982807eab982a8888e417.txt  \n",
            "  inflating: /content/OIVIS_Lab_3/train/labels/autosave09_10_2012_12_23_34_1_jpg.rf.57ae48724094dbce236a4867713f6f06.txt  \n",
            "  inflating: /content/OIVIS_Lab_3/train/labels/autosave09_10_2012_12_23_47_1_jpg.rf.cc3e6b2f4b57a23f6b02297e0170cd7d.txt  \n",
            "  inflating: /content/OIVIS_Lab_3/train/labels/autosave09_10_2012_12_23_57_1_jpg.rf.0ce1ba4d07467621d3546d5b8ec8e821.txt  \n",
            "  inflating: /content/OIVIS_Lab_3/train/labels/autosave09_10_2012_12_24_08_1_jpg.rf.432482780f21527ebd369aa7246d63ec.txt  \n",
            "  inflating: /content/OIVIS_Lab_3/train/labels/autosave09_10_2012_12_24_10_0_jpg.rf.1145dff386d2b8f288d08d9b07219571.txt  \n",
            "  inflating: /content/OIVIS_Lab_3/train/labels/autosave09_10_2012_12_24_52_1_jpg.rf.ac2a18e8a25fde69072adbcda250d001.txt  \n",
            "  inflating: /content/OIVIS_Lab_3/train/labels/autosave09_10_2012_12_25_13_0_jpg.rf.741f2d6be1a84ef4ee4c2920f649681c.txt  \n",
            "  inflating: /content/OIVIS_Lab_3/train/labels/autosave09_10_2012_12_25_29_0_jpg.rf.3bd8dafae1fcf278b77be5c1849cef3c.txt  \n",
            "  inflating: /content/OIVIS_Lab_3/train/labels/autosave09_10_2012_12_25_58_1_jpg.rf.2cb60043df5873107d16a955b4913646.txt  \n",
            "  inflating: /content/OIVIS_Lab_3/train/labels/autosave09_10_2012_12_25_58_2_jpg.rf.d74feb1ecddf6d96f8dc4ecc060a82f4.txt  \n",
            "  inflating: /content/OIVIS_Lab_3/train/labels/autosave09_10_2012_12_26_13_1_jpg.rf.3e94414187324340c2f85dc52eab4dc0.txt  \n",
            "  inflating: /content/OIVIS_Lab_3/train/labels/autosave09_10_2012_12_26_15_0_jpg.rf.abcfc4e48c449746d4a2d25a78ce1ac2.txt  \n",
            "  inflating: /content/OIVIS_Lab_3/train/labels/autosave09_10_2012_12_26_19_0_jpg.rf.e3fcb80f710f7457d07bc8ddfd4d694b.txt  \n",
            "  inflating: /content/OIVIS_Lab_3/train/labels/autosave09_10_2012_12_32_28_1_jpg.rf.fe2ee6aea420a0e135c64ee32c764238.txt  \n",
            "  inflating: /content/OIVIS_Lab_3/train/labels/autosave09_10_2012_12_32_28_3_jpg.rf.06a3bce35983a1c1967350909d951a2d.txt  \n",
            "  inflating: /content/OIVIS_Lab_3/train/labels/autosave09_10_2012_12_32_30_2_jpg.rf.91570f1ad9dffaf9bbb1d9b4151d8e41.txt  \n",
            "  inflating: /content/OIVIS_Lab_3/train/labels/autosave09_10_2012_12_32_30_3_jpg.rf.0a261cbef457aa7f28a66ec918c13f6b.txt  \n",
            "  inflating: /content/OIVIS_Lab_3/train/labels/autosave09_10_2012_12_32_32_1_jpg.rf.a780f41209ca99cd5ac4e856d5e261f1.txt  \n",
            "  inflating: /content/OIVIS_Lab_3/train/labels/autosave09_10_2012_12_32_34_0_jpg.rf.e41127d9136cb54d153f9fefff654a88.txt  \n",
            "  inflating: /content/OIVIS_Lab_3/train/labels/autosave09_10_2012_12_32_34_1_jpg.rf.74a0393d840cc5692d82ec72b54cb459.txt  \n",
            "  inflating: /content/OIVIS_Lab_3/train/labels/autosave09_10_2012_12_33_14_0_jpg.rf.d08e76cdbff6046ef53d0c83dbb26980.txt  \n",
            "  inflating: /content/OIVIS_Lab_3/train/labels/autosave09_10_2012_12_33_16_0_jpg.rf.7b5d51bd4710beb48960ebee3909ee8b.txt  \n",
            "  inflating: /content/OIVIS_Lab_3/train/labels/autosave09_10_2012_12_33_16_2_jpg.rf.4d89963af102b1f301486777445fc73a.txt  \n",
            "  inflating: /content/OIVIS_Lab_3/train/labels/autosave09_10_2012_12_33_20_0_jpg.rf.2a8fb113bafafbf7298e5e66028c06fd.txt  \n",
            "  inflating: /content/OIVIS_Lab_3/train/labels/autosave09_10_2012_12_33_22_0_jpg.rf.7963666c92c67ab6e909c72bafcf5b48.txt  \n",
            "  inflating: /content/OIVIS_Lab_3/train/labels/autosave09_10_2012_12_34_04_0_jpg.rf.da84d311b055437758e65d6c353d0770.txt  \n",
            "  inflating: /content/OIVIS_Lab_3/train/labels/autosave09_10_2012_12_34_15_1_jpg.rf.7bbe2bbb31e76fcaadbbb08d3edabce0.txt  \n",
            "  inflating: /content/OIVIS_Lab_3/train/labels/autosave09_10_2012_12_34_44_0_jpg.rf.d15721559502254b2ec5eff4381361f7.txt  \n",
            "  inflating: /content/OIVIS_Lab_3/train/labels/autosave09_10_2012_12_34_50_1_jpg.rf.81ed0d1613296b123ad8c2a2259dc47c.txt  \n",
            "  inflating: /content/OIVIS_Lab_3/train/labels/autosave09_10_2012_12_34_54_3_jpg.rf.9c7aad422cbb0f56d1b76fa182cd2678.txt  \n",
            "  inflating: /content/OIVIS_Lab_3/train/labels/autosave09_10_2012_12_34_57_0_jpg.rf.c1c411a6bf4b414ca37ca84c69015297.txt  \n",
            "  inflating: /content/OIVIS_Lab_3/train/labels/autosave09_10_2012_12_35_13_1_jpg.rf.2c9fa2ae39cd5b95ca7de7a271ad7407.txt  \n",
            "  inflating: /content/OIVIS_Lab_3/train/labels/autosave09_10_2012_12_35_14_0_jpg.rf.92f872e7c0c013fde8c6e5625a50cc8f.txt  \n",
            "  inflating: /content/OIVIS_Lab_3/train/labels/autosave09_10_2012_12_35_14_1_jpg.rf.27f5fa236cffe6f8be3aa9bb5481c44e.txt  \n",
            "  inflating: /content/OIVIS_Lab_3/train/labels/autosave09_10_2012_12_35_16_0_jpg.rf.ae1cb6d5206b06ca41ea77493fde682a.txt  \n",
            "  inflating: /content/OIVIS_Lab_3/train/labels/autosave09_10_2012_12_35_36_3_jpg.rf.5c09e42ca8be890897275205a4228254.txt  \n",
            "  inflating: /content/OIVIS_Lab_3/train/labels/autosave09_10_2012_12_35_37_1_jpg.rf.50701392a1ff7386b0f7b30eac6ea76d.txt  \n",
            "  inflating: /content/OIVIS_Lab_3/train/labels/autosave09_10_2012_12_35_38_1_jpg.rf.dd7af57bfb5787c8bcd2797df97a1b02.txt  \n",
            "  inflating: /content/OIVIS_Lab_3/train/labels/autosave09_10_2012_12_35_39_1_jpg.rf.0cfc3696b506f249a7aeeb75c6da69ef.txt  \n",
            "  inflating: /content/OIVIS_Lab_3/train/labels/autosave09_10_2012_12_36_00_3_jpg.rf.af263fef75c40508bf55e4b5473de1e1.txt  \n",
            "  inflating: /content/OIVIS_Lab_3/train/labels/autosave09_10_2012_12_36_18_2_jpg.rf.d64fd22f1e10e33b5acf1c14862fe757.txt  \n",
            "  inflating: /content/OIVIS_Lab_3/train/labels/autosave09_10_2012_12_36_28_2_jpg.rf.0f21371ece3f8e77ebb1f0a6faed30d0.txt  \n",
            "  inflating: /content/OIVIS_Lab_3/train/labels/autosave09_10_2012_12_36_29_2_jpg.rf.53fd156d4d7baa6a218aec1c41946f0a.txt  \n",
            "  inflating: /content/OIVIS_Lab_3/train/labels/autosave09_10_2012_12_36_32_1_jpg.rf.9a147fdd9e45a3b0eaebb61e82a897fc.txt  \n",
            "  inflating: /content/OIVIS_Lab_3/train/labels/autosave09_10_2012_12_36_46_1_jpg.rf.ee755549bc5e817214a1b00ca854d2ac.txt  \n",
            "  inflating: /content/OIVIS_Lab_3/train/labels/autosave09_10_2012_12_36_48_2_jpg.rf.ef5abd0ce30bf833b7a14dae30e7fa81.txt  \n",
            "  inflating: /content/OIVIS_Lab_3/train/labels/autosave09_10_2012_12_36_52_0_jpg.rf.083848b63e63f16d7d8141a84e3c8e81.txt  \n",
            "  inflating: /content/OIVIS_Lab_3/train/labels/autosave09_10_2012_12_36_52_2_jpg.rf.9f22af9fcd4aa689945e1d1b8d7efd45.txt  \n",
            "  inflating: /content/OIVIS_Lab_3/train/labels/autosave09_10_2012_12_36_55_2_jpg.rf.7d50e2ac0d382051f039ba0672532080.txt  \n",
            "  inflating: /content/OIVIS_Lab_3/train/labels/autosave09_10_2012_12_36_55_3_jpg.rf.3dbef97b71662018766b69f8b73cc87d.txt  \n",
            "  inflating: /content/OIVIS_Lab_3/train/labels/autosave09_10_2012_12_36_57_0_jpg.rf.a6e717a71641d09b932a7182e33827a7.txt  \n",
            "  inflating: /content/OIVIS_Lab_3/train/labels/autosave09_10_2012_12_37_16_0_jpg.rf.86dbfa474fcd397cd486e6b0736c57eb.txt  \n",
            "  inflating: /content/OIVIS_Lab_3/train/labels/autosave09_10_2012_12_37_19_1_jpg.rf.2072ddb614b5bc6fc5ece94320bfbf56.txt  \n",
            "  inflating: /content/OIVIS_Lab_3/train/labels/autosave09_10_2012_12_37_19_2_jpg.rf.e2ba8adedf47c1a1069e44bff2d8db43.txt  \n",
            "  inflating: /content/OIVIS_Lab_3/train/labels/autosave09_10_2012_12_37_23_3_jpg.rf.d31eb988f9a53c26b79bb98f6b78b276.txt  \n",
            "  inflating: /content/OIVIS_Lab_3/train/labels/autosave09_10_2012_12_38_15_0_jpg.rf.c75eb72ce505dc038c0825f4f3d7d988.txt  \n",
            "  inflating: /content/OIVIS_Lab_3/train/labels/autosave09_10_2012_12_38_18_0_jpg.rf.7bdd44c87018e170ff4cef3a3590bca7.txt  \n",
            "  inflating: /content/OIVIS_Lab_3/train/labels/autosave09_10_2012_12_38_18_3_jpg.rf.2e9c2b2ba2390a3dd294f65196f18859.txt  \n",
            "  inflating: /content/OIVIS_Lab_3/train/labels/autosave09_10_2012_12_38_20_0_jpg.rf.ff67772e60fa1f6b70e26baa5674324a.txt  \n",
            "  inflating: /content/OIVIS_Lab_3/train/labels/autosave09_10_2012_12_38_20_1_jpg.rf.cd82f7af17ba0031ec5d89e7475c6958.txt  \n",
            "  inflating: /content/OIVIS_Lab_3/train/labels/autosave09_10_2012_12_38_25_1_jpg.rf.de8b1c5566ab4121745db570dda14039.txt  \n",
            "  inflating: /content/OIVIS_Lab_3/train/labels/autosave09_10_2012_12_38_45_1_jpg.rf.f4dfb1b8dd0135d33c8a6071b6b794fe.txt  \n",
            "  inflating: /content/OIVIS_Lab_3/train/labels/autosave09_10_2012_12_39_10_0_jpg.rf.4a9a78acc43aab9f0cfd9610cbae5f12.txt  \n",
            "  inflating: /content/OIVIS_Lab_3/train/labels/autosave09_10_2012_12_39_10_1_jpg.rf.a29fe84004e8d3fd6c3c78f6bf99bcb4.txt  \n",
            "  inflating: /content/OIVIS_Lab_3/train/labels/autosave09_10_2012_12_39_14_3_jpg.rf.2f14ffe454e257e03f272fc830829d1f.txt  \n",
            "  inflating: /content/OIVIS_Lab_3/train/labels/autosave09_10_2012_12_39_15_1_jpg.rf.ab65e64109ed73fb44a6a745fe8ede91.txt  \n",
            "  inflating: /content/OIVIS_Lab_3/train/labels/autosave09_10_2012_12_39_20_2_jpg.rf.984faf426f9ab00e9bf533330c36455a.txt  \n",
            "  inflating: /content/OIVIS_Lab_3/train/labels/autosave09_10_2012_12_39_30_1_jpg.rf.676280c4f29edfaa96f6b1511b9a6d6b.txt  \n",
            "  inflating: /content/OIVIS_Lab_3/train/labels/autosave09_10_2012_12_39_56_3_jpg.rf.c1f5f459006b575be7e574fc4e2562a6.txt  \n",
            "  inflating: /content/OIVIS_Lab_3/train/labels/autosave09_10_2012_12_40_02_0_jpg.rf.8a9f806c5f7bd93afbec78d68829a872.txt  \n",
            "  inflating: /content/OIVIS_Lab_3/train/labels/autosave09_10_2012_12_40_16_3_jpg.rf.b75bcbdaa53a98603bc806236c177e48.txt  \n",
            "  inflating: /content/OIVIS_Lab_3/train/labels/autosave09_10_2012_12_40_38_0_jpg.rf.e97de21a410decc99fea9344014415d6.txt  \n",
            "  inflating: /content/OIVIS_Lab_3/train/labels/autosave09_10_2012_12_40_51_2_jpg.rf.3bcb4b346ea2a87ec676377ea7e0ac38.txt  \n",
            "  inflating: /content/OIVIS_Lab_3/train/labels/autosave09_10_2012_12_40_52_1_jpg.rf.662deee0edadf75ba5429d2bb899b1b8.txt  \n",
            "  inflating: /content/OIVIS_Lab_3/train/labels/autosave09_10_2012_12_41_03_0_jpg.rf.d1060a370ce2a87ff0f803798ac1e920.txt  \n",
            "  inflating: /content/OIVIS_Lab_3/train/labels/autosave09_10_2012_12_42_49_2_jpg.rf.449e8d7a1a385dea50ffdc9dcd9ed561.txt  \n",
            "  inflating: /content/OIVIS_Lab_3/train/labels/autosave09_10_2012_12_42_53_1_jpg.rf.e217f724ebc73c0c0ac8dfb98cc36d60.txt  \n",
            "  inflating: /content/OIVIS_Lab_3/train/labels/autosave09_10_2012_12_43_17_1_jpg.rf.cc42dd3e379a69c56b15791d64c535c1.txt  \n",
            "  inflating: /content/OIVIS_Lab_3/train/labels/autosave09_10_2012_12_43_33_1_jpg.rf.1a7353cf118540064e2ec2a9e89f5eaa.txt  \n",
            "  inflating: /content/OIVIS_Lab_3/train/labels/autosave09_10_2012_12_45_11_0_jpg.rf.8004cc755fc399ce6258506d0ee320cd.txt  \n",
            "  inflating: /content/OIVIS_Lab_3/train/labels/autosave09_10_2012_12_45_13_1_jpg.rf.5a7dc9351d5636154a3d907be443e46e.txt  \n",
            "  inflating: /content/OIVIS_Lab_3/train/labels/autosave09_10_2012_12_45_14_2_jpg.rf.31c3287384edf9bb2edf034f6aae62a8.txt  \n",
            "  inflating: /content/OIVIS_Lab_3/train/labels/autosave09_10_2012_12_45_36_1_jpg.rf.eeed944f02e7a8c1999eb399d7799dee.txt  \n",
            "  inflating: /content/OIVIS_Lab_3/train/labels/autosave09_10_2012_12_45_37_0_jpg.rf.0d95bc5454d5ccc75a668d3e87ddeaf1.txt  \n",
            "  inflating: /content/OIVIS_Lab_3/train/labels/autosave09_10_2012_12_45_46_0_jpg.rf.55de9e7dde91c2b35bdabc010523b406.txt  \n",
            "  inflating: /content/OIVIS_Lab_3/train/labels/autosave09_10_2012_12_45_58_1_jpg.rf.5b12fa766a7e80987b1239c12a10ed21.txt  \n",
            "  inflating: /content/OIVIS_Lab_3/train/labels/autosave09_10_2012_12_46_03_1_jpg.rf.dde9d2a857277b437e1c1a942b50f040.txt  \n",
            "  inflating: /content/OIVIS_Lab_3/train/labels/autosave09_10_2012_12_46_04_3_jpg.rf.6589f502054a79d34d2ba43c00e15ca5.txt  \n",
            "  inflating: /content/OIVIS_Lab_3/train/labels/autosave09_10_2012_12_46_05_1_jpg.rf.ad8e5b631cae3b7fcc10f94214228349.txt  \n",
            "  inflating: /content/OIVIS_Lab_3/train/labels/autosave09_10_2012_12_46_05_2_jpg.rf.8674fae49796b06f8c06a991b3a29c22.txt  \n",
            "  inflating: /content/OIVIS_Lab_3/train/labels/autosave09_10_2012_12_46_06_1_jpg.rf.da8cb174c5d4d93035ecbc28593e784d.txt  \n",
            "  inflating: /content/OIVIS_Lab_3/train/labels/autosave09_10_2012_12_46_06_3_jpg.rf.81c9d2c6b3634ee9583e515a473cb61d.txt  \n",
            "  inflating: /content/OIVIS_Lab_3/train/labels/autosave09_10_2012_12_46_32_1_jpg.rf.20e8024e9cc0d3f88d9fffc149ce352a.txt  \n",
            "  inflating: /content/OIVIS_Lab_3/train/labels/autosave09_10_2012_12_46_33_1_jpg.rf.06b8c9b7318bc95ca60ad7e40a2903d0.txt  \n",
            "  inflating: /content/OIVIS_Lab_3/train/labels/autosave09_10_2012_12_46_34_1_jpg.rf.3af04fa7932e3389529bff54659ac643.txt  \n",
            "  inflating: /content/OIVIS_Lab_3/train/labels/autosave09_10_2012_12_46_34_2_jpg.rf.e143ff847cb6f644f388a0bf53197bd2.txt  \n",
            "  inflating: /content/OIVIS_Lab_3/train/labels/autosave09_10_2012_12_46_35_1_jpg.rf.2b9cac156dfed0e5969cfe80c0025414.txt  \n",
            "  inflating: /content/OIVIS_Lab_3/train/labels/autosave09_10_2012_12_46_37_0_jpg.rf.7b49c62d5d14b41f38a36bfbd1ca3b8e.txt  \n",
            "  inflating: /content/OIVIS_Lab_3/train/labels/autosave09_10_2012_12_47_02_2_jpg.rf.bdec26a716c1d95edac4773124947756.txt  \n",
            "  inflating: /content/OIVIS_Lab_3/train/labels/autosave09_10_2012_12_47_04_3_jpg.rf.dcb7f3a66e2e1578d04d48197a8d2e64.txt  \n",
            "  inflating: /content/OIVIS_Lab_3/train/labels/autosave09_10_2012_12_47_06_0_jpg.rf.a017af47ef61554cbaf510a266eb59c0.txt  \n",
            "  inflating: /content/OIVIS_Lab_3/train/labels/autosave09_10_2012_12_47_30_0_jpg.rf.507c19800d4e640f27b5c23d1a259cb4.txt  \n",
            "  inflating: /content/OIVIS_Lab_3/train/labels/autosave09_10_2012_12_47_32_3_jpg.rf.0ff80bfe132993ea1361db3f2901b2d7.txt  \n",
            "  inflating: /content/OIVIS_Lab_3/train/labels/autosave09_10_2012_12_47_34_1_jpg.rf.a91273635015e0e6080f2b00b6113d63.txt  \n",
            "  inflating: /content/OIVIS_Lab_3/train/labels/autosave09_10_2012_12_47_37_2_jpg.rf.2851bd153cd0683eeff7846aeb3c4159.txt  \n",
            "  inflating: /content/OIVIS_Lab_3/train/labels/autosave09_10_2012_12_48_09_2_jpg.rf.830e42e98633dcecffcee43bbf88f73e.txt  \n",
            "  inflating: /content/OIVIS_Lab_3/train/labels/autosave09_10_2012_12_48_11_3_jpg.rf.a00c555f4fca44fadf14959c5b05d1a9.txt  \n",
            "  inflating: /content/OIVIS_Lab_3/train/labels/autosave09_10_2012_12_48_13_1_jpg.rf.0914ddb3de2745748828078fd632b800.txt  \n",
            "  inflating: /content/OIVIS_Lab_3/train/labels/autosave09_10_2012_12_48_33_2_jpg.rf.3cfa07048532d6d619bd488b5d808e46.txt  \n",
            "  inflating: /content/OIVIS_Lab_3/train/labels/autosave09_10_2012_12_48_36_0_jpg.rf.8d02bcf3238025a663ec31d64f9f0089.txt  \n",
            "  inflating: /content/OIVIS_Lab_3/train/labels/autosave09_10_2012_12_48_38_0_jpg.rf.1eafb8233bef0390e37dcaac8279daea.txt  \n",
            "  inflating: /content/OIVIS_Lab_3/train/labels/autosave09_10_2012_12_49_36_2_jpg.rf.56f5222f0790552232086e8c388310a7.txt  \n",
            "  inflating: /content/OIVIS_Lab_3/train/labels/autosave09_10_2012_12_49_48_3_jpg.rf.5eff7f55ea4c423839c28510ede06c8d.txt  \n",
            "  inflating: /content/OIVIS_Lab_3/train/labels/autosave09_10_2012_12_50_32_0_jpg.rf.5897d607421ccbe687372a19a236282a.txt  \n",
            "  inflating: /content/OIVIS_Lab_3/train/labels/autosave09_10_2012_12_50_32_2_jpg.rf.634ea9d4e796455ec4f5f6aaf71642bd.txt  \n",
            "  inflating: /content/OIVIS_Lab_3/train/labels/autosave09_10_2012_12_50_34_0_jpg.rf.59647a1d38f3db526d1a55a0805d1ea3.txt  \n",
            "  inflating: /content/OIVIS_Lab_3/train/labels/autosave09_10_2012_12_50_34_1_jpg.rf.57c450f3cc5352efd7f73c7e5f125286.txt  \n",
            "  inflating: /content/OIVIS_Lab_3/train/labels/autosave09_10_2012_12_50_38_1_jpg.rf.7993a7ad65516f09877a09855b6ebd2e.txt  \n",
            "  inflating: /content/OIVIS_Lab_3/train/labels/autosave09_10_2012_12_50_41_0_jpg.rf.ee06017cd1ca3cddb2ca2386f727c24d.txt  \n",
            "  inflating: /content/OIVIS_Lab_3/train/labels/autosave09_10_2012_12_51_15_1_jpg.rf.19bb006c1af07de1aa46cc25a4c08a78.txt  \n",
            "  inflating: /content/OIVIS_Lab_3/train/labels/autosave09_10_2012_12_51_32_0_jpg.rf.6c732e4f62f3d7dd62f0672f46ce4485.txt  \n",
            "  inflating: /content/OIVIS_Lab_3/train/labels/autosave09_10_2012_12_51_33_2_jpg.rf.c87374d2f8a4102e455a3d30f7196e51.txt  \n",
            "  inflating: /content/OIVIS_Lab_3/train/labels/autosave09_10_2012_12_54_37_0_jpg.rf.a4a9058ab9be6dc74ba243a6ae13854d.txt  \n",
            "  inflating: /content/OIVIS_Lab_3/train/labels/autosave09_10_2012_12_58_33_0_jpg.rf.cd58d2ab75b81bc7abc9a88eca6595d5.txt  \n",
            "  inflating: /content/OIVIS_Lab_3/train/labels/autosave09_10_2012_12_59_05_3_jpg.rf.c51f36cd8875ce052dd6d9f49873e1d1.txt  \n",
            "  inflating: /content/OIVIS_Lab_3/train/labels/autosave09_10_2012_12_59_07_2_jpg.rf.38863254d29c82d77fdc05f3a4b982da.txt  \n",
            "  inflating: /content/OIVIS_Lab_3/train/labels/autosave09_10_2012_12_59_32_3_jpg.rf.e10ff8cc94d88794b777b4c55c0e5e29.txt  \n",
            "  inflating: /content/OIVIS_Lab_3/train/labels/autosave09_10_2012_12_59_38_1_jpg.rf.49aae5a8e543e49cc0c0327e10c799d9.txt  \n",
            "  inflating: /content/OIVIS_Lab_3/train/labels/autosave09_10_2012_13_00_05_0_jpg.rf.af9af094dacdd0cb3dfa140fb98ad208.txt  \n",
            "  inflating: /content/OIVIS_Lab_3/train/labels/autosave09_10_2012_13_00_05_3_jpg.rf.99a7e717b5a6fff89dd096ebceb3f97d.txt  \n",
            "  inflating: /content/OIVIS_Lab_3/train/labels/autosave09_10_2012_13_00_07_0_jpg.rf.fc59b2522232a02f2d1d248b6a005c14.txt  \n",
            "  inflating: /content/OIVIS_Lab_3/train/labels/autosave09_10_2012_13_00_34_0_jpg.rf.a1f440660f7e8e004e0e76e32c7cbaed.txt  \n",
            "  inflating: /content/OIVIS_Lab_3/train/labels/autosave09_10_2012_13_00_48_3_jpg.rf.bc4c2683afc32ea60a217e05b4fc4b4b.txt  \n",
            "  inflating: /content/OIVIS_Lab_3/train/labels/autosave09_10_2012_13_00_50_0_jpg.rf.60437c5aeadfae624ad6107f21845b35.txt  \n",
            "  inflating: /content/OIVIS_Lab_3/train/labels/autosave09_10_2012_13_00_50_1_jpg.rf.142bd3fd0209ddf30663a0faa7e4d76c.txt  \n",
            "  inflating: /content/OIVIS_Lab_3/train/labels/autosave09_10_2012_13_01_13_1_jpg.rf.35e740a790699f93969d9e185e28eaea.txt  \n",
            "  inflating: /content/OIVIS_Lab_3/train/labels/autosave09_10_2012_13_01_27_1_jpg.rf.8c50168e0525d133185bc71bb461df01.txt  \n",
            "  inflating: /content/OIVIS_Lab_3/train/labels/autosave09_10_2012_13_01_31_0_jpg.rf.e4f458b698dbfb66659fa5731392513a.txt  \n",
            "  inflating: /content/OIVIS_Lab_3/train/labels/autosave09_10_2012_13_01_32_1_jpg.rf.dd97f2800cbf9d0afe84f6c9f37301ec.txt  \n",
            "  inflating: /content/OIVIS_Lab_3/train/labels/autosave09_10_2012_13_01_33_0_jpg.rf.7127e04515ac3542777ccecd68cd9c81.txt  \n",
            "  inflating: /content/OIVIS_Lab_3/train/labels/autosave09_10_2012_13_01_34_1_jpg.rf.b7fe9fb69e87f0e7b38176416c31d0c0.txt  \n",
            "  inflating: /content/OIVIS_Lab_3/train/labels/autosave09_10_2012_13_02_23_0_jpg.rf.c9e96d624dc07e13ba708d856ad8bd91.txt  \n",
            "  inflating: /content/OIVIS_Lab_3/train/labels/autosave09_10_2012_13_02_23_1_jpg.rf.0f5f1e05e556d71be1b2d630f2a783c2.txt  \n",
            "  inflating: /content/OIVIS_Lab_3/train/labels/autosave09_10_2012_13_02_24_1_jpg.rf.4e9e115f1f4c7f437d4901ee4ada5c21.txt  \n",
            "  inflating: /content/OIVIS_Lab_3/train/labels/autosave09_10_2012_13_02_25_1_jpg.rf.f6f406ad03ab956ae2441f34b481df32.txt  \n",
            "  inflating: /content/OIVIS_Lab_3/train/labels/autosave09_10_2012_13_07_25_2_jpg.rf.b24af90af38980665ffd5fa787d8ea9b.txt  \n",
            "  inflating: /content/OIVIS_Lab_3/train/labels/autosave09_10_2012_13_07_26_1_jpg.rf.a5dbefe6489f0dd7ead64a2f7eacb5b1.txt  \n",
            "  inflating: /content/OIVIS_Lab_3/train/labels/autosave09_10_2012_13_08_02_1_jpg.rf.b2fa924c2cba081a141f7f1ff8f8a350.txt  \n",
            "  inflating: /content/OIVIS_Lab_3/train/labels/autosave09_10_2012_13_08_03_1_jpg.rf.0809b98f482abc357410c3d7fc29439e.txt  \n",
            "  inflating: /content/OIVIS_Lab_3/train/labels/autosave09_10_2012_13_10_08_2_jpg.rf.bc8842f486ad0eaed50d05484ee5a3cb.txt  \n",
            "  inflating: /content/OIVIS_Lab_3/train/labels/autosave09_10_2012_13_12_42_0_jpg.rf.6e1b682d3bffe7dc36b009a0db48bf98.txt  \n",
            "  inflating: /content/OIVIS_Lab_3/train/labels/autosave09_10_2012_13_18_40_0_jpg.rf.98c5ceede93cb122a397e2c85ad2abcc.txt  \n",
            "  inflating: /content/OIVIS_Lab_3/train/labels/autosave09_10_2012_13_19_04_1_jpg.rf.a012526ddcc35e61e85707b962b79b05.txt  \n",
            "  inflating: /content/OIVIS_Lab_3/train/labels/autosave09_10_2012_13_19_15_2_jpg.rf.5f00640d7d7cd67b9b30df77dfe23ed8.txt  \n",
            "  inflating: /content/OIVIS_Lab_3/train/labels/autosave09_10_2012_13_19_51_1_jpg.rf.4fd0796a6b34d9012eb4c63d2f84abe3.txt  \n",
            "  inflating: /content/OIVIS_Lab_3/train/labels/autosave09_10_2012_13_19_51_2_jpg.rf.698a9352c4a5f0e1bdb2701c9512e2c6.txt  \n",
            "  inflating: /content/OIVIS_Lab_3/train/labels/autosave09_10_2012_13_19_52_2_jpg.rf.cda2dbd6b26eceaafd14be7938983a45.txt  \n",
            "  inflating: /content/OIVIS_Lab_3/train/labels/autosave09_10_2012_13_20_26_0_jpg.rf.60a08d2b899140a41fdb25195bdba48a.txt  \n",
            "  inflating: /content/OIVIS_Lab_3/train/labels/autosave09_10_2012_13_20_26_1_jpg.rf.a750fb383600cb9286c2c910fd5983d5.txt  \n",
            "  inflating: /content/OIVIS_Lab_3/train/labels/autosave09_10_2012_13_23_05_1_jpg.rf.38cf4da923254ac2622587516a68fa94.txt  \n",
            "  inflating: /content/OIVIS_Lab_3/train/labels/autosave09_10_2012_13_23_43_2_jpg.rf.086a33150beb29b078803d22bc2e8aaa.txt  \n",
            "  inflating: /content/OIVIS_Lab_3/train/labels/autosave09_10_2012_13_23_44_1_jpg.rf.9020ba40ef20073217124b9ac2cae9e1.txt  \n",
            "  inflating: /content/OIVIS_Lab_3/train/labels/autosave09_10_2012_13_24_26_1_jpg.rf.49611685aee55ee143cdb1ffb6b7b01d.txt  \n",
            "  inflating: /content/OIVIS_Lab_3/train/labels/autosave09_10_2012_13_24_35_2_jpg.rf.bfb462fe1b7215663ffa5dcabfaf98b8.txt  \n",
            "  inflating: /content/OIVIS_Lab_3/train/labels/autosave09_10_2012_13_25_05_2_jpg.rf.dea0ba8b2e7cb7a5e36081e1f99188f2.txt  \n",
            "  inflating: /content/OIVIS_Lab_3/train/labels/autosave09_10_2012_13_27_21_2_jpg.rf.953b270a0e56458ef7ecebc9f0d20f74.txt  \n",
            "  inflating: /content/OIVIS_Lab_3/train/labels/autosave09_10_2012_13_27_23_0_jpg.rf.86803263842dc20a4c91b340465bed4d.txt  \n",
            "  inflating: /content/OIVIS_Lab_3/train/labels/autosave09_10_2012_13_27_25_0_jpg.rf.cd73509d5692f4b7593589298246b8ae.txt  \n",
            "  inflating: /content/OIVIS_Lab_3/train/labels/autosave09_10_2012_13_27_28_2_jpg.rf.d640840677f9a4a36a24f8477e4bb79a.txt  \n",
            "  inflating: /content/OIVIS_Lab_3/train/labels/autosave09_10_2012_13_27_33_0_jpg.rf.cc7d2f79c43faea4eed45e50eb77b764.txt  \n",
            "  inflating: /content/OIVIS_Lab_3/train/labels/autosave09_10_2012_13_27_53_1_jpg.rf.51be59c07328ec3aecc7c703be4e4190.txt  \n",
            "  inflating: /content/OIVIS_Lab_3/train/labels/autosave09_10_2012_13_27_55_3_jpg.rf.114423941b625046a471b045ff9f3b48.txt  \n",
            "  inflating: /content/OIVIS_Lab_3/train/labels/autosave09_10_2012_13_27_58_0_jpg.rf.0b4b29d26426917ebd74bc228f6ba22e.txt  \n",
            "  inflating: /content/OIVIS_Lab_3/train/labels/autosave09_10_2012_13_28_00_1_jpg.rf.88d7ec287a6ec286238ad46dab62bc88.txt  \n",
            "  inflating: /content/OIVIS_Lab_3/train/labels/autosave09_10_2012_13_28_04_2_jpg.rf.1a1d4e9b7a5ccec27d1c3999af6e9782.txt  \n",
            "  inflating: /content/OIVIS_Lab_3/train/labels/autosave09_10_2012_13_28_07_1_jpg.rf.cf8bea233473c495346e2242bb9a82c3.txt  \n",
            "  inflating: /content/OIVIS_Lab_3/train/labels/autosave09_10_2012_13_28_09_1_jpg.rf.9b95fec70c986715b7508a30658ba54f.txt  \n",
            "  inflating: /content/OIVIS_Lab_3/train/labels/autosave09_10_2012_13_28_11_0_jpg.rf.0c932f4f56f5204ac12b3c2a57cc9845.txt  \n",
            "  inflating: /content/OIVIS_Lab_3/train/labels/autosave09_10_2012_13_28_32_0_jpg.rf.a339eb940c78bc44382776de0b405c1d.txt  \n",
            "  inflating: /content/OIVIS_Lab_3/train/labels/autosave09_10_2012_13_28_49_2_jpg.rf.5c45aea4ccb90a69e9725b15b87d2a73.txt  \n",
            "  inflating: /content/OIVIS_Lab_3/train/labels/autosave09_10_2012_13_28_52_0_jpg.rf.34dd4810f2c171110bed730e9fcf68fb.txt  \n",
            "  inflating: /content/OIVIS_Lab_3/train/labels/autosave09_10_2012_13_28_54_1_jpg.rf.3792a0edfd64cdd6cef6718b0b9ab524.txt  \n",
            "  inflating: /content/OIVIS_Lab_3/train/labels/autosave09_10_2012_13_28_55_1_jpg.rf.f286501fa2a8d2b8dcb5a4d50ce2ec7e.txt  \n",
            "  inflating: /content/OIVIS_Lab_3/train/labels/autosave09_10_2012_13_28_57_2_jpg.rf.bd449861b41080389f9e96295f3fd847.txt  \n",
            "  inflating: /content/OIVIS_Lab_3/train/labels/autosave09_10_2012_13_29_14_0_jpg.rf.7e43542266c5a38d06b52d242375d86d.txt  \n",
            "  inflating: /content/OIVIS_Lab_3/train/labels/autosave09_10_2012_13_29_15_0_jpg.rf.6ec8873250994cc9a549c291280d0fe3.txt  \n",
            "  inflating: /content/OIVIS_Lab_3/train/labels/autosave09_10_2012_13_29_34_1_jpg.rf.b08c9fcf1b478e2c3ebe411b3deca86f.txt  \n",
            "  inflating: /content/OIVIS_Lab_3/train/labels/autosave09_10_2012_13_29_46_0_jpg.rf.bac5d9d9b151f841d2841369ce983a16.txt  \n",
            "  inflating: /content/OIVIS_Lab_3/train/labels/autosave09_10_2012_13_29_49_2_jpg.rf.826b8ffafecb96ccc2401891e590664d.txt  \n",
            "  inflating: /content/OIVIS_Lab_3/train/labels/autosave09_10_2012_13_29_52_2_jpg.rf.d22e572679000cc6afff3b4d5af8ea3f.txt  \n",
            "  inflating: /content/OIVIS_Lab_3/train/labels/autosave09_10_2012_13_29_53_2_jpg.rf.43aaad068b682db582b1ab19382e0a14.txt  \n",
            "  inflating: /content/OIVIS_Lab_3/train/labels/autosave09_10_2012_13_30_45_0_jpg.rf.e4f49de4e017cf4c15a45fc552b69ec3.txt  \n",
            "  inflating: /content/OIVIS_Lab_3/train/labels/autosave09_10_2012_13_31_04_0_jpg.rf.f25310f4a382c9b963fa8fad08a75eae.txt  \n",
            "  inflating: /content/OIVIS_Lab_3/train/labels/autosave09_10_2012_13_31_11_2_jpg.rf.80db8fa5144a6dc2ecad3620148d8d63.txt  \n",
            "  inflating: /content/OIVIS_Lab_3/train/labels/autosave09_10_2012_13_31_13_0_jpg.rf.13ffd3212265736e2deca7d5e049f0cc.txt  \n",
            "  inflating: /content/OIVIS_Lab_3/train/labels/autosave09_10_2012_13_31_16_2_jpg.rf.b64b5f60e537d32c2a4f03594fe4b1e2.txt  \n",
            "  inflating: /content/OIVIS_Lab_3/train/labels/autosave09_10_2012_13_31_39_0_jpg.rf.b1360996b6994760fdb236d4ccb6de38.txt  \n",
            "  inflating: /content/OIVIS_Lab_3/train/labels/autosave09_10_2012_13_32_00_1_jpg.rf.b9018c17b9fed48c9aa751e0d1e566f8.txt  \n",
            "  inflating: /content/OIVIS_Lab_3/train/labels/autosave09_10_2012_13_32_02_0_jpg.rf.ee408e4789974a8d3549db4a15aff5c8.txt  \n",
            "  inflating: /content/OIVIS_Lab_3/train/labels/autosave09_10_2012_13_32_39_0_jpg.rf.6ad0c103b2ab564fda850cf9d9626760.txt  \n",
            "  inflating: /content/OIVIS_Lab_3/train/labels/autosave09_10_2012_13_32_43_0_jpg.rf.2f89fc3fa0d3876246ab9f9d28f6ef54.txt  \n",
            "  inflating: /content/OIVIS_Lab_3/train/labels/autosave09_10_2012_13_33_00_2_jpg.rf.c5115c22485343f296100408d3bae947.txt  \n",
            "  inflating: /content/OIVIS_Lab_3/train/labels/autosave09_10_2012_13_33_33_0_jpg.rf.006aefee537778cd45f81253597709dc.txt  \n",
            "  inflating: /content/OIVIS_Lab_3/train/labels/autosave09_10_2012_13_33_35_0_jpg.rf.f50d5edc59adf6bf67334f47131a80ac.txt  \n",
            "  inflating: /content/OIVIS_Lab_3/train/labels/autosave09_10_2012_13_33_53_0_jpg.rf.b48bc988b5fdc007a4bb3f1f42e8ce48.txt  \n",
            "  inflating: /content/OIVIS_Lab_3/train/labels/autosave09_10_2012_13_37_54_2_jpg.rf.28cd121444b2cd56f6ca9239cc5f168f.txt  \n",
            "  inflating: /content/OIVIS_Lab_3/train/labels/autosave09_10_2012_13_37_55_1_jpg.rf.3e6e51c707d61c0835d4e01ed7b7cba5.txt  \n",
            "  inflating: /content/OIVIS_Lab_3/train/labels/autosave09_10_2012_13_37_56_1_jpg.rf.ba49ffe353b3f330f6662f877c64555a.txt  \n",
            "  inflating: /content/OIVIS_Lab_3/train/labels/autosave09_10_2012_13_38_53_0_jpg.rf.614c102ea30c701fc0c7f85a468913fc.txt  \n",
            "  inflating: /content/OIVIS_Lab_3/train/labels/autosave09_10_2012_13_38_53_3_jpg.rf.9750b1c9826db15c054cd35ed1ae4e0b.txt  \n",
            "  inflating: /content/OIVIS_Lab_3/train/labels/autosave09_10_2012_13_39_14_0_jpg.rf.b55107e84eccaa4de261ff7ec95d17e0.txt  \n",
            "  inflating: /content/OIVIS_Lab_3/train/labels/autosave09_10_2012_13_39_36_0_jpg.rf.143640908f47ce1c560a3c364c0e4758.txt  \n",
            "  inflating: /content/OIVIS_Lab_3/train/labels/autosave09_10_2012_13_39_37_1_jpg.rf.021a0fd1b375409cac71b50adebea036.txt  \n",
            "  inflating: /content/OIVIS_Lab_3/train/labels/autosave09_10_2012_13_39_50_0_jpg.rf.b1374dc64ea42a92c8a1dc45afc0051d.txt  \n",
            "  inflating: /content/OIVIS_Lab_3/train/labels/autosave09_10_2012_13_40_21_2_jpg.rf.9e8a62e6275c6622f43606c28aadcd01.txt  \n",
            "  inflating: /content/OIVIS_Lab_3/train/labels/autosave09_10_2012_13_40_57_1_jpg.rf.5d1e7f852bc9524cb8dca271e553df55.txt  \n",
            "  inflating: /content/OIVIS_Lab_3/train/labels/autosave09_10_2012_13_42_02_0_jpg.rf.cd324680e2977b217321ba0544a4cbc4.txt  \n",
            "  inflating: /content/OIVIS_Lab_3/train/labels/autosave09_10_2012_13_42_03_1_jpg.rf.96d7986d4198fc0878d371b0c7bb17fa.txt  \n",
            "  inflating: /content/OIVIS_Lab_3/train/labels/autosave09_10_2012_13_42_03_2_jpg.rf.3b1fe764720f926407310a9722b05ec9.txt  \n",
            "  inflating: /content/OIVIS_Lab_3/train/labels/autosave09_10_2012_13_42_14_2_jpg.rf.5c89c0eb861a9a15fb6c31006950fd4b.txt  \n",
            "  inflating: /content/OIVIS_Lab_3/train/labels/autosave09_10_2012_13_42_16_1_jpg.rf.62bdd9b6676c138cb64b51020d724c65.txt  \n",
            "  inflating: /content/OIVIS_Lab_3/train/labels/autosave09_10_2012_13_45_32_2_jpg.rf.6738c3fdbc08ebe71e27e8483595f9af.txt  \n",
            "  inflating: /content/OIVIS_Lab_3/train/labels/autosave09_10_2012_13_45_33_1_jpg.rf.8b7590ddb68c9395a06e0cd733c5cf36.txt  \n",
            "  inflating: /content/OIVIS_Lab_3/train/labels/autosave09_10_2012_13_45_56_2_jpg.rf.3f5976d36038174f4051446487b6492d.txt  \n",
            "  inflating: /content/OIVIS_Lab_3/train/labels/autosave09_10_2012_13_45_57_1_jpg.rf.6dd197599b6e687c0c8f94efc7da713b.txt  \n",
            "  inflating: /content/OIVIS_Lab_3/train/labels/autosave09_10_2012_13_46_08_1_jpg.rf.9c22d79d6d039af84c5038b31aa4fdbb.txt  \n",
            "  inflating: /content/OIVIS_Lab_3/train/labels/autosave09_10_2012_13_46_16_3_jpg.rf.94c2ee80fc69b93c97ad3b2aa2a06bc1.txt  \n",
            "  inflating: /content/OIVIS_Lab_3/train/labels/autosave09_10_2012_13_46_28_3_jpg.rf.312b486f7c9fbf71ccc05c470b20f7ca.txt  \n",
            "  inflating: /content/OIVIS_Lab_3/train/labels/autosave09_10_2012_13_46_30_2_jpg.rf.276e13d3c18eafa41936abe6246c2f54.txt  \n",
            "  inflating: /content/OIVIS_Lab_3/train/labels/autosave09_10_2012_13_46_32_0_jpg.rf.bff4395f5c053aca9fffd3641026fb5f.txt  \n",
            "  inflating: /content/OIVIS_Lab_3/train/labels/autosave09_10_2012_13_46_32_1_jpg.rf.8e01a96038a75a3e0b995c3f098e0fc5.txt  \n",
            "  inflating: /content/OIVIS_Lab_3/train/labels/autosave09_10_2012_13_46_59_1_jpg.rf.6e1f7ef8c9e0d212b5ca0edabb311f31.txt  \n",
            "  inflating: /content/OIVIS_Lab_3/train/labels/autosave09_10_2012_13_47_01_1_jpg.rf.287da6799359b79540835707f9cd6b0a.txt  \n",
            "  inflating: /content/OIVIS_Lab_3/train/labels/autosave09_10_2012_13_47_02_1_jpg.rf.bfa05685915da31f6bc0be8fa97848fe.txt  \n",
            "  inflating: /content/OIVIS_Lab_3/train/labels/autosave09_10_2012_13_47_03_2_jpg.rf.dda59aa78c65c0ab844a8e07f31f1826.txt  \n",
            "  inflating: /content/OIVIS_Lab_3/train/labels/autosave09_10_2012_13_47_24_1_jpg.rf.be0a6086b6bc1aaea4b3b38005b28e7b.txt  \n",
            "  inflating: /content/OIVIS_Lab_3/train/labels/autosave09_10_2012_13_47_26_0_jpg.rf.6c813d9c49e58ba5977760aba3c62984.txt  \n",
            "  inflating: /content/OIVIS_Lab_3/train/labels/autosave09_10_2012_13_47_28_3_jpg.rf.da177412b3194d4770aa363b0f7afb92.txt  \n",
            "  inflating: /content/OIVIS_Lab_3/train/labels/autosave09_10_2012_13_47_30_1_jpg.rf.a2fdba186477c25cec48b9cd2de74da6.txt  \n",
            "  inflating: /content/OIVIS_Lab_3/train/labels/autosave09_10_2012_13_47_30_3_jpg.rf.7d338472a2fc56c5088a96faff59d05a.txt  \n",
            "  inflating: /content/OIVIS_Lab_3/train/labels/autosave09_10_2012_13_47_32_1_jpg.rf.694cd86e85a0afba26170aed62df177a.txt  \n",
            "  inflating: /content/OIVIS_Lab_3/train/labels/autosave09_10_2012_13_49_00_2_jpg.rf.628fbc83852892a2e0c01bf10b3a932d.txt  \n",
            "  inflating: /content/OIVIS_Lab_3/train/labels/autosave09_10_2012_13_49_02_0_jpg.rf.233a479c9df3aa1fa6e6fc0743f1b815.txt  \n",
            "  inflating: /content/OIVIS_Lab_3/train/labels/autosave09_10_2012_13_49_03_1_jpg.rf.0cd9673b49e935e9183465b254ed696c.txt  \n",
            "  inflating: /content/OIVIS_Lab_3/train/labels/autosave09_10_2012_13_49_54_0_jpg.rf.55952938314f501854bc0bc916a2ff70.txt  \n",
            "  inflating: /content/OIVIS_Lab_3/train/labels/autosave09_10_2012_13_49_59_1_jpg.rf.69558eaf9671b9c75a54ead8a6bf9f8a.txt  \n",
            "  inflating: /content/OIVIS_Lab_3/train/labels/autosave09_10_2012_14_00_50_1_jpg.rf.e8f32e7be1be585abd8a533310172b4c.txt  \n",
            "  inflating: /content/OIVIS_Lab_3/train/labels/autosave09_10_2012_14_00_53_2_jpg.rf.a10220eba1c04e80ddceefbd1755d6f9.txt  \n",
            "  inflating: /content/OIVIS_Lab_3/train/labels/autosave09_10_2012_14_00_56_1_jpg.rf.60772f05cca82a38875b73577aa30726.txt  \n",
            "  inflating: /content/OIVIS_Lab_3/train/labels/autosave09_10_2012_14_02_11_0_jpg.rf.b0270b096487a1c18d5e7c409f906b2f.txt  \n",
            "  inflating: /content/OIVIS_Lab_3/train/labels/autosave09_10_2012_14_02_15_2_jpg.rf.f738d56ff5d4e00f0e78c6580ba8ed3c.txt  \n",
            "  inflating: /content/OIVIS_Lab_3/train/labels/autosave09_10_2012_14_02_27_0_jpg.rf.85dec06fad12382f3dfa7d6a4bb0d365.txt  \n",
            "  inflating: /content/OIVIS_Lab_3/train/labels/autosave09_10_2012_14_02_29_1_jpg.rf.7cce4324b8da1764b243944754809b0c.txt  \n",
            "  inflating: /content/OIVIS_Lab_3/train/labels/autosave09_10_2012_14_03_52_0_jpg.rf.0a5a72a3e03cd0663308cbec61d6e68e.txt  \n",
            "  inflating: /content/OIVIS_Lab_3/train/labels/autosave09_10_2012_14_03_54_0_jpg.rf.ceb7f77f9dca70a89e8417090d192056.txt  \n",
            "  inflating: /content/OIVIS_Lab_3/train/labels/autosave09_10_2012_14_06_00_0_jpg.rf.8354de1fa38236754e757a7184908247.txt  \n",
            "  inflating: /content/OIVIS_Lab_3/train/labels/autosave09_10_2012_14_07_19_2_jpg.rf.3366455812c9f6f8cbd270cbed57b371.txt  \n",
            "  inflating: /content/OIVIS_Lab_3/train/labels/autosave09_10_2012_14_07_20_0_jpg.rf.bf728c93f54366d9d64ab4b714978c6a.txt  \n",
            "  inflating: /content/OIVIS_Lab_3/train/labels/autosave09_10_2012_14_08_36_3_jpg.rf.854713b5079634629b7461c7ad11f3bf.txt  \n",
            "  inflating: /content/OIVIS_Lab_3/train/labels/autosave09_10_2012_14_13_01_1_jpg.rf.c1a794bf069d986810ba3b268d035b24.txt  \n",
            "  inflating: /content/OIVIS_Lab_3/train/labels/autosave09_10_2012_14_13_02_2_jpg.rf.813eea0e0d6e4a9cca2c40d4e5b439ac.txt  \n",
            "  inflating: /content/OIVIS_Lab_3/train/labels/autosave09_10_2012_14_14_41_0_jpg.rf.d6f274405ef3208b10bd5fa267b632b3.txt  \n",
            "  inflating: /content/OIVIS_Lab_3/train/labels/autosave09_10_2012_14_15_45_0_jpg.rf.e935bda70ae7638e1751d4d0f269688b.txt  \n",
            "  inflating: /content/OIVIS_Lab_3/train/labels/autosave09_10_2012_14_15_46_0_jpg.rf.83d747dfc8ceeb7ce0707508ec5e3e7a.txt  \n",
            "  inflating: /content/OIVIS_Lab_3/train/labels/autosave09_10_2012_14_19_41_2_jpg.rf.0f7254185698a4435a7088cde44c46ca.txt  \n",
            "  inflating: /content/OIVIS_Lab_3/train/labels/autosave09_10_2012_14_19_42_1_jpg.rf.df1ffccf92ef9bdbbc8594da270ca5fc.txt  \n",
            "  inflating: /content/OIVIS_Lab_3/train/labels/autosave09_10_2012_14_19_44_2_jpg.rf.bcd2dade74b141fa0fb40ff32d95f2ea.txt  \n",
            "  inflating: /content/OIVIS_Lab_3/train/labels/autosave09_10_2012_14_24_34_1_jpg.rf.aa903cedd6b630c1468068fd0e22dffb.txt  \n",
            "  inflating: /content/OIVIS_Lab_3/train/labels/autosave09_10_2012_14_27_04_3_jpg.rf.7fcab349182f3782752d5cc90ea62517.txt  \n",
            "  inflating: /content/OIVIS_Lab_3/train/labels/autosave09_10_2012_14_28_33_2_jpg.rf.a6932319fd2f8dabee83f9338d7e34cb.txt  \n",
            "  inflating: /content/OIVIS_Lab_3/train/labels/autosave09_10_2012_14_29_58_2_jpg.rf.4e4fc7cbfcd94fc06614f19919bab2bb.txt  \n",
            "  inflating: /content/OIVIS_Lab_3/train/labels/autosave09_10_2012_14_30_50_0_jpg.rf.9badfcfd0b91f310c5e1fd4eb993f860.txt  \n",
            "  inflating: /content/OIVIS_Lab_3/train/labels/autosave09_10_2012_14_32_58_1_jpg.rf.04bb22fd0ac948dd4558818bf267183b.txt  \n",
            "  inflating: /content/OIVIS_Lab_3/train/labels/autosave09_10_2012_14_35_27_0_jpg.rf.ed6daac602997883d7d30e02767fc2c8.txt  \n",
            "  inflating: /content/OIVIS_Lab_3/train/labels/autosave09_10_2012_14_35_34_1_jpg.rf.ea3a2b2665a5ef7cefb10d62e0095514.txt  \n",
            "  inflating: /content/OIVIS_Lab_3/train/labels/autosave09_10_2012_14_36_05_1_jpg.rf.3799bde9584205bc8c85703083cd76d8.txt  \n",
            "  inflating: /content/OIVIS_Lab_3/train/labels/autosave09_10_2012_14_36_06_1_jpg.rf.b3988ee8d6f6e19bef99542c38024447.txt  \n",
            "  inflating: /content/OIVIS_Lab_3/train/labels/autosave09_10_2012_14_37_41_0_jpg.rf.03360e17c0b2ebc4b203bb1aca28bd4d.txt  \n",
            "  inflating: /content/OIVIS_Lab_3/train/labels/autosave09_10_2012_14_37_56_1_jpg.rf.d25da32aa44350de51f79f7f21ef253f.txt  \n",
            "  inflating: /content/OIVIS_Lab_3/train/labels/autosave09_10_2012_14_43_36_0_jpg.rf.9fbc1ac0ff39ff18714b9fa5679fba4a.txt  \n",
            "  inflating: /content/OIVIS_Lab_3/train/labels/autosave09_10_2012_14_45_51_0_jpg.rf.b3c213c53756b6006da69d638160a98e.txt  \n",
            "  inflating: /content/OIVIS_Lab_3/train/labels/autosave09_10_2012_14_47_13_0_jpg.rf.f56c9cd93fbfbf81bb01f010e8fca5d3.txt  \n",
            "  inflating: /content/OIVIS_Lab_3/train/labels/autosave09_10_2012_14_47_13_2_jpg.rf.b4a9da5c1a24890a7fc6556ab1b418f5.txt  \n",
            "  inflating: /content/OIVIS_Lab_3/train/labels/autosave09_10_2012_14_47_16_0_jpg.rf.ce36b307d00fe0781064136e0597d994.txt  \n",
            "  inflating: /content/OIVIS_Lab_3/train/labels/autosave09_10_2012_14_47_17_0_jpg.rf.348dca2d6cc08adf2a642eb51616df40.txt  \n",
            "  inflating: /content/OIVIS_Lab_3/train/labels/autosave09_10_2012_14_51_38_3_jpg.rf.34b74f28696399e65e12f8d8c7a5dac9.txt  \n",
            "  inflating: /content/OIVIS_Lab_3/train/labels/autosave09_10_2012_14_57_29_1_jpg.rf.0ae5afd06d69f6996d5ac7f19e6a1db5.txt  \n",
            "  inflating: /content/OIVIS_Lab_3/train/labels/autosave09_10_2012_14_57_30_2_jpg.rf.1120d511f2ae3117c6d52a294463ba66.txt  \n",
            "  inflating: /content/OIVIS_Lab_3/train/labels/autosave09_10_2012_14_58_29_0_jpg.rf.0a8c3c2ad39247f5c3af29e610cc3bb3.txt  \n",
            "  inflating: /content/OIVIS_Lab_3/train/labels/autosave09_10_2012_15_09_00_2_jpg.rf.fef850f72e525ced37b3aa1493135289.txt  \n",
            "  inflating: /content/OIVIS_Lab_3/train/labels/autosave09_10_2012_15_09_37_0_jpg.rf.263f3807ee8e4d2cb3c91b0872e1de72.txt  \n",
            "  inflating: /content/OIVIS_Lab_3/train/labels/autosave09_10_2012_15_09_37_2_jpg.rf.f7598847d17c1f162d4e938c4aea61f9.txt  \n",
            "  inflating: /content/OIVIS_Lab_3/train/labels/autosave09_10_2012_15_09_47_0_jpg.rf.da2536386bec95b148e47a6b4a0edb15.txt  \n",
            "  inflating: /content/OIVIS_Lab_3/train/labels/autosave09_10_2012_15_14_25_2_jpg.rf.886a7cc05417734024de0cd5a228b2ed.txt  \n",
            "  inflating: /content/OIVIS_Lab_3/train/labels/autosave09_10_2012_15_14_27_1_jpg.rf.5a7e76a2ae6f7de04bdd25f337d53b55.txt  \n",
            "  inflating: /content/OIVIS_Lab_3/train/labels/autosave09_10_2012_15_17_22_1_jpg.rf.4757a4a3c48520b36d9d3a226118c92a.txt  \n",
            "  inflating: /content/OIVIS_Lab_3/train/labels/autosave09_10_2012_15_17_25_2_jpg.rf.5201d1ff400cdd2c44373dc40248be5c.txt  \n",
            "  inflating: /content/OIVIS_Lab_3/train/labels/autosave09_10_2012_15_18_05_3_jpg.rf.852a4ed3ea208ddaa20f9f4d9437c04f.txt  \n",
            "  inflating: /content/OIVIS_Lab_3/train/labels/autosave09_10_2012_15_18_07_2_jpg.rf.c68b779dbd8ec0e7f6a5a90e33e053c8.txt  \n",
            "  inflating: /content/OIVIS_Lab_3/train/labels/autosave09_10_2012_15_18_17_0_jpg.rf.d55214c3cdddb850f323554b4b704f3b.txt  \n",
            "  inflating: /content/OIVIS_Lab_3/train/labels/autosave09_10_2012_15_21_35_0_jpg.rf.9f677b79788a28b6235acdb6f28312c7.txt  \n",
            "  inflating: /content/OIVIS_Lab_3/train/labels/autosave09_10_2012_15_21_37_2_jpg.rf.31eb1bdb1192e6c8fbbd71a8bc8f528c.txt  \n",
            "  inflating: /content/OIVIS_Lab_3/train/labels/autosave09_10_2012_15_24_47_2_jpg.rf.9c4144c975eeb01bd227fc5a6f55f064.txt  \n",
            "  inflating: /content/OIVIS_Lab_3/train/labels/autosave09_10_2012_15_24_48_2_jpg.rf.65597ff9754f43f9301993bd39aec6a4.txt  \n",
            "  inflating: /content/OIVIS_Lab_3/train/labels/autosave09_10_2012_15_25_29_1_jpg.rf.878bc4777d7eeb0fdbf632fc7f8e8286.txt  \n",
            "  inflating: /content/OIVIS_Lab_3/train/labels/autosave09_10_2012_15_26_02_2_jpg.rf.84057a5cdde6810078c00e7ea747438c.txt  \n",
            "  inflating: /content/OIVIS_Lab_3/train/labels/autosave09_10_2012_15_26_19_1_jpg.rf.e4e4aa3c1c14837636b8b5f184b74ecc.txt  \n",
            "  inflating: /content/OIVIS_Lab_3/train/labels/autosave09_10_2012_15_26_19_2_jpg.rf.f61a2bc2617f22690f02b6111de23de6.txt  \n",
            "  inflating: /content/OIVIS_Lab_3/train/labels/autosave09_10_2012_15_26_42_1_jpg.rf.edd3669137d14ec8dbdd00987e2d2bc7.txt  \n",
            "  inflating: /content/OIVIS_Lab_3/train/labels/autosave09_10_2012_15_26_43_0_jpg.rf.aaa329bac64b582665c6fc3329026a49.txt  \n",
            "  inflating: /content/OIVIS_Lab_3/train/labels/autosave09_10_2012_15_26_46_2_jpg.rf.5b3a9d15bcd034b7a769ed04abc2d1aa.txt  \n",
            "  inflating: /content/OIVIS_Lab_3/train/labels/autosave09_10_2012_15_26_49_0_jpg.rf.5af327da02058ba82e797704b9fb683d.txt  \n",
            "  inflating: /content/OIVIS_Lab_3/train/labels/autosave09_10_2012_15_26_55_0_jpg.rf.704dd7bf318f3b076a450ed4c09cccd1.txt  \n",
            "  inflating: /content/OIVIS_Lab_3/train/labels/autosave09_10_2012_15_26_58_1_jpg.rf.bc163e66accc5e90afe2bbbaede9f57a.txt  \n",
            "  inflating: /content/OIVIS_Lab_3/train/labels/autosave09_10_2012_15_29_10_2_jpg.rf.c2ef5870192b42f7ad8fed086b99168e.txt  \n",
            "  inflating: /content/OIVIS_Lab_3/train/labels/autosave09_10_2012_15_29_15_1_jpg.rf.590683a1f7c4df31d7592bbc62b8cea1.txt  \n",
            "  inflating: /content/OIVIS_Lab_3/train/labels/autosave09_10_2012_15_29_23_1_jpg.rf.7a3e6b0e54d516611807fde1a7dde4aa.txt  \n",
            "  inflating: /content/OIVIS_Lab_3/train/labels/autosave09_10_2012_15_42_23_0_jpg.rf.2fe8b6a7d530c88e8ab7d8f6b57e2b31.txt  \n",
            "  inflating: /content/OIVIS_Lab_3/train/labels/autosave09_10_2012_15_43_21_1_jpg.rf.143e68f39ef710e118fd3e2b300160ad.txt  \n",
            "  inflating: /content/OIVIS_Lab_3/train/labels/autosave09_10_2012_15_43_38_2_jpg.rf.c297fa079537b59e75b50f940740a262.txt  \n",
            "  inflating: /content/OIVIS_Lab_3/train/labels/autosave09_10_2012_15_43_40_2_jpg.rf.2092126f54d2f51ff8432ba461976833.txt  \n",
            "  inflating: /content/OIVIS_Lab_3/train/labels/autosave09_11_2012_08_56_30_0_jpg.rf.93718541b2ae11452dbd0446316fc919.txt  \n",
            "  inflating: /content/OIVIS_Lab_3/train/labels/autosave09_11_2012_08_56_30_2_jpg.rf.6fd59206911439654e3667e6bd4bc58e.txt  \n",
            "  inflating: /content/OIVIS_Lab_3/train/labels/autosave09_11_2012_08_56_52_2_jpg.rf.b0926ff39dcde45b93ef2bee48b2b355.txt  \n",
            "  inflating: /content/OIVIS_Lab_3/train/labels/autosave09_11_2012_08_59_08_0_jpg.rf.48b58cb359a275ad39537eed17d60624.txt  \n",
            "  inflating: /content/OIVIS_Lab_3/train/labels/autosave09_11_2012_08_59_12_0_jpg.rf.662b9ae2f43c94f1babafcff8e92c573.txt  \n",
            "  inflating: /content/OIVIS_Lab_3/train/labels/autosave09_11_2012_08_59_22_0_jpg.rf.e76105f02f58bd4187549fe39bc3e7d3.txt  \n",
            "  inflating: /content/OIVIS_Lab_3/train/labels/autosave09_11_2012_08_59_22_1_jpg.rf.3806a627f627750bd5272587308a4148.txt  \n",
            "  inflating: /content/OIVIS_Lab_3/train/labels/autosave09_11_2012_08_59_36_2_jpg.rf.d3b32e0e4bc3b4fb328c9c0f91df127c.txt  \n",
            "  inflating: /content/OIVIS_Lab_3/train/labels/autosave09_11_2012_08_59_41_2_jpg.rf.d643b0b2d2767ce3caf6a2104830d101.txt  \n",
            "  inflating: /content/OIVIS_Lab_3/train/labels/autosave09_11_2012_09_00_06_1_jpg.rf.4da3552ff3bb75eab9c2ee6c484d7c16.txt  \n",
            "  inflating: /content/OIVIS_Lab_3/train/labels/autosave09_11_2012_09_00_06_2_jpg.rf.451b3c56c3d5fb78b99ac325d37dfa7f.txt  \n",
            "  inflating: /content/OIVIS_Lab_3/train/labels/autosave09_11_2012_09_00_06_3_jpg.rf.8ca44e852c49c69da35eeef96cade9ae.txt  \n",
            "  inflating: /content/OIVIS_Lab_3/train/labels/autosave09_11_2012_09_03_21_0_jpg.rf.b7ec5ffb6a7daaa8f4fba6d2d5672add.txt  \n",
            "  inflating: /content/OIVIS_Lab_3/train/labels/autosave09_11_2012_09_05_09_0_jpg.rf.2118f313d17282407fac6a69565bf79c.txt  \n",
            "  inflating: /content/OIVIS_Lab_3/train/labels/autosave09_11_2012_09_05_12_1_jpg.rf.370bd1e7e285be698d97895b71404d3b.txt  \n",
            "  inflating: /content/OIVIS_Lab_3/train/labels/autosave09_11_2012_09_05_47_0_jpg.rf.ff25f5cb764baac6ba4be6d4f9b1f7e2.txt  \n",
            "  inflating: /content/OIVIS_Lab_3/train/labels/autosave09_11_2012_09_06_15_1_jpg.rf.0c2e58e3cbdebd479accb2cfec3240bd.txt  \n",
            "  inflating: /content/OIVIS_Lab_3/train/labels/autosave09_11_2012_09_06_16_1_jpg.rf.bf1491e135e5b69b5a6803e2d130def3.txt  \n",
            "  inflating: /content/OIVIS_Lab_3/train/labels/autosave09_11_2012_09_08_47_0_jpg.rf.48f0ce7ae71d41a8ca79f3af0730c607.txt  \n",
            "  inflating: /content/OIVIS_Lab_3/train/labels/autosave09_11_2012_09_15_20_1_jpg.rf.0ed9361a5b722aab3828332db9ff6bdd.txt  \n",
            "  inflating: /content/OIVIS_Lab_3/train/labels/autosave09_11_2012_09_15_22_0_jpg.rf.46d69d010cbcf2c2ff372251c362e53b.txt  \n",
            "  inflating: /content/OIVIS_Lab_3/train/labels/autosave09_11_2012_09_15_23_2_jpg.rf.d05a26949badbea71d427dc065be8618.txt  \n",
            "  inflating: /content/OIVIS_Lab_3/train/labels/autosave09_11_2012_09_15_27_0_jpg.rf.2a107c2f976718d0af8a0534a0a043c7.txt  \n",
            "  inflating: /content/OIVIS_Lab_3/train/labels/autosave09_11_2012_09_17_41_3_jpg.rf.15daf1161f25f536b1a3acb32d55f547.txt  \n",
            "  inflating: /content/OIVIS_Lab_3/train/labels/autosave09_11_2012_09_17_45_1_jpg.rf.d99fe26d18fd6b4a2e394828c7e878f8.txt  \n",
            "  inflating: /content/OIVIS_Lab_3/train/labels/autosave09_11_2012_09_18_08_1_jpg.rf.9fa889141c1289e2464321514f0cb361.txt  \n",
            "  inflating: /content/OIVIS_Lab_3/train/labels/autosave09_11_2012_09_18_24_1_jpg.rf.5f83c70616c79f021cfefcad20047332.txt  \n",
            "  inflating: /content/OIVIS_Lab_3/train/labels/autosave09_11_2012_09_19_02_3_jpg.rf.262682f8cac7fcecf9536fdbc0852fe9.txt  \n",
            "  inflating: /content/OIVIS_Lab_3/train/labels/autosave09_11_2012_09_19_32_2_jpg.rf.c76cd56bf0a775c5b60e7529097c34e2.txt  \n",
            "  inflating: /content/OIVIS_Lab_3/train/labels/autosave09_11_2012_09_20_11_3_jpg.rf.6fad5f7b10787653e9c361b4bea64dcb.txt  \n",
            "  inflating: /content/OIVIS_Lab_3/train/labels/autosave09_11_2012_09_20_57_0_jpg.rf.2e79c62af7e776db71dc189411e3bebe.txt  \n",
            "  inflating: /content/OIVIS_Lab_3/train/labels/autosave09_11_2012_09_22_03_3_jpg.rf.0baca061613849e5dbc3d0ae1ef84e9a.txt  \n",
            "  inflating: /content/OIVIS_Lab_3/train/labels/autosave09_11_2012_09_22_04_1_jpg.rf.2f32c20790b1d2ccd42e4adcca963b59.txt  \n",
            "  inflating: /content/OIVIS_Lab_3/train/labels/autosave09_11_2012_09_24_04_0_jpg.rf.2c0d4795c761188eecad09c5399f2df7.txt  \n",
            "  inflating: /content/OIVIS_Lab_3/train/labels/autosave09_11_2012_09_24_10_0_jpg.rf.e78c0ab0215c4cd52dfe6da1df996d2f.txt  \n",
            "  inflating: /content/OIVIS_Lab_3/train/labels/autosave09_11_2012_09_24_19_0_jpg.rf.ba983965a11b505a3ed3798106c623ce.txt  \n",
            "  inflating: /content/OIVIS_Lab_3/train/labels/autosave09_11_2012_09_28_01_2_jpg.rf.0c3f157e37ce4f3db00d81b3babfeecf.txt  \n",
            "  inflating: /content/OIVIS_Lab_3/train/labels/autosave09_11_2012_09_28_17_2_jpg.rf.e8afdb6c737ce32b69562871c3c5606f.txt  \n",
            "  inflating: /content/OIVIS_Lab_3/train/labels/autosave09_11_2012_09_28_56_0_jpg.rf.bc4663d3475e1abc90b0146d33bf5cfe.txt  \n",
            "  inflating: /content/OIVIS_Lab_3/train/labels/autosave09_11_2012_09_29_56_1_jpg.rf.d557d2db006f3b587a50915dc58a2187.txt  \n",
            "  inflating: /content/OIVIS_Lab_3/train/labels/autosave09_11_2012_09_30_10_1_jpg.rf.927b9e624e2064a2de27b99be6cce7f8.txt  \n",
            "  inflating: /content/OIVIS_Lab_3/train/labels/autosave09_11_2012_09_31_44_2_jpg.rf.579405d419e52edee62c0b2c44935370.txt  \n",
            "  inflating: /content/OIVIS_Lab_3/train/labels/autosave09_11_2012_09_31_48_1_jpg.rf.94bbf5205724fc935559bdd8c3edd0c1.txt  \n",
            "  inflating: /content/OIVIS_Lab_3/train/labels/autosave09_11_2012_09_32_09_2_jpg.rf.6fb7ec81051082f0186cbcd6e0a5d1bc.txt  \n",
            "  inflating: /content/OIVIS_Lab_3/train/labels/autosave09_11_2012_09_32_11_1_jpg.rf.9c913adb1863e6f22bb626bdfa157bd9.txt  \n",
            "  inflating: /content/OIVIS_Lab_3/train/labels/autosave09_11_2012_09_32_29_0_jpg.rf.ab923353d1585f53ec007e7a8443b7c9.txt  \n",
            "  inflating: /content/OIVIS_Lab_3/train/labels/autosave09_11_2012_09_33_02_1_jpg.rf.a725264fbfac63e355bcb71f1c3d7a13.txt  \n",
            "  inflating: /content/OIVIS_Lab_3/train/labels/autosave09_11_2012_09_33_08_3_jpg.rf.ccf036db7bcb10ad9343dd5e7398b837.txt  \n",
            "  inflating: /content/OIVIS_Lab_3/train/labels/autosave09_11_2012_09_33_11_0_jpg.rf.d2e5c035bb19c7caa0cb21c90099f6b0.txt  \n",
            "  inflating: /content/OIVIS_Lab_3/train/labels/autosave09_11_2012_09_33_11_1_jpg.rf.051d1742ccd1869ea21c6ca0c079c828.txt  \n",
            "  inflating: /content/OIVIS_Lab_3/train/labels/autosave09_11_2012_09_34_34_2_jpg.rf.d497622b1b9f895b80ee85a80f9fdcf1.txt  \n",
            "  inflating: /content/OIVIS_Lab_3/train/labels/autosave09_11_2012_09_46_11_1_jpg.rf.0731882338030aedcccd096c51974584.txt  \n",
            "  inflating: /content/OIVIS_Lab_3/train/labels/autosave09_11_2012_09_46_11_3_jpg.rf.0726a61ba2604a371036b4d19333d6d6.txt  \n",
            "  inflating: /content/OIVIS_Lab_3/train/labels/autosave09_11_2012_09_46_12_2_jpg.rf.92c4e45fd93439dc08e7a846164ff42f.txt  \n",
            "  inflating: /content/OIVIS_Lab_3/train/labels/autosave09_11_2012_09_46_22_2_jpg.rf.fbcd881ad1a68982cf8e38b62ae07de1.txt  \n",
            "  inflating: /content/OIVIS_Lab_3/train/labels/autosave09_11_2012_09_46_41_2_jpg.rf.e4c7f4d7514d8103472baea61f4f416f.txt  \n",
            "  inflating: /content/OIVIS_Lab_3/train/labels/autosave09_11_2012_09_46_42_0_jpg.rf.d7cff91b6dde06f0dcc086070a8955e9.txt  \n",
            "  inflating: /content/OIVIS_Lab_3/train/labels/autosave09_11_2012_09_46_43_0_jpg.rf.8465896ce94f3a7c74f4aa8f34fe03aa.txt  \n",
            "  inflating: /content/OIVIS_Lab_3/train/labels/autosave09_11_2012_09_46_43_1_jpg.rf.e9e22a625af8cc3ca9563029a01665a8.txt  \n",
            "  inflating: /content/OIVIS_Lab_3/train/labels/autosave09_11_2012_09_46_44_3_jpg.rf.0bc1a0a3d05218ce69c4a547d5584af9.txt  \n",
            "  inflating: /content/OIVIS_Lab_3/train/labels/autosave09_11_2012_09_46_57_1_jpg.rf.4ab657365bf9bc2786fefea6426618f7.txt  \n",
            "  inflating: /content/OIVIS_Lab_3/train/labels/autosave09_11_2012_09_47_00_2_jpg.rf.1c82dcb6a582faae3b36a630980ddc5f.txt  \n",
            "  inflating: /content/OIVIS_Lab_3/train/labels/autosave09_11_2012_09_49_32_1_jpg.rf.2693c0fc4affbdfa7f4974a01f262554.txt  \n",
            "  inflating: /content/OIVIS_Lab_3/train/labels/autosave09_11_2012_09_49_44_1_jpg.rf.f39758a9678b586361604152e8922826.txt  \n",
            "  inflating: /content/OIVIS_Lab_3/train/labels/autosave09_11_2012_09_50_08_0_jpg.rf.7bfe2b126b980fe1566ea715f10466c3.txt  \n",
            "  inflating: /content/OIVIS_Lab_3/train/labels/autosave09_11_2012_09_50_30_1_jpg.rf.6ba977a7e8e6e4e9769159fb247682f8.txt  \n",
            "  inflating: /content/OIVIS_Lab_3/train/labels/autosave09_11_2012_09_52_30_0_jpg.rf.550eca04f0286bd93a5766702e9c4728.txt  \n",
            "  inflating: /content/OIVIS_Lab_3/train/labels/autosave09_11_2012_09_52_30_4_jpg.rf.a8b6c0379ffe23822e817eda85dd3957.txt  \n",
            "  inflating: /content/OIVIS_Lab_3/train/labels/autosave09_11_2012_09_53_46_0_jpg.rf.604348dbdf2ba5137024151f18cd3bab.txt  \n",
            "  inflating: /content/OIVIS_Lab_3/train/labels/autosave09_11_2012_09_53_49_0_jpg.rf.06685ea9cf1446de7808c10a47fb1415.txt  \n",
            "  inflating: /content/OIVIS_Lab_3/train/labels/autosave09_11_2012_09_53_49_1_jpg.rf.d01b181c89ca868a79e1746b1e7b18fe.txt  \n",
            "  inflating: /content/OIVIS_Lab_3/train/labels/autosave09_11_2012_09_54_01_0_jpg.rf.567a9d2b2be05c1e1aa448078d7c51e0.txt  \n",
            "  inflating: /content/OIVIS_Lab_3/train/labels/autosave09_11_2012_09_54_15_2_jpg.rf.ba5dc8895b5d413022e98aea176d6caf.txt  \n",
            "  inflating: /content/OIVIS_Lab_3/train/labels/autosave09_11_2012_09_54_42_2_jpg.rf.198ce08cf1a7cc1306bd2e5de5407ce1.txt  \n",
            "  inflating: /content/OIVIS_Lab_3/train/labels/autosave09_11_2012_09_54_45_2_jpg.rf.633f962758e2ac8b22ce3e0e823d315f.txt  \n",
            "  inflating: /content/OIVIS_Lab_3/train/labels/autosave09_11_2012_09_55_20_0_jpg.rf.461f8b9334440c15e88c793fa9db958b.txt  \n",
            "  inflating: /content/OIVIS_Lab_3/train/labels/autosave09_11_2012_09_55_21_1_jpg.rf.f3678ef3b6353fca649e3ff4a979eec5.txt  \n",
            "  inflating: /content/OIVIS_Lab_3/train/labels/autosave09_11_2012_09_55_24_2_jpg.rf.7efd5fc8a6c538ba7938333b7699d2d6.txt  \n",
            "  inflating: /content/OIVIS_Lab_3/train/labels/autosave09_11_2012_09_55_24_3_jpg.rf.be98779efcd811a0bc5882a80584b091.txt  \n",
            "  inflating: /content/OIVIS_Lab_3/train/labels/autosave09_11_2012_09_55_25_1_jpg.rf.8623629f1f0a73d1ddd630d2fe0100f8.txt  \n",
            "  inflating: /content/OIVIS_Lab_3/train/labels/autosave09_11_2012_09_55_26_0_jpg.rf.6e827c76ab1b9bf31aa1f058bd318e81.txt  \n",
            "  inflating: /content/OIVIS_Lab_3/train/labels/autosave09_11_2012_09_55_36_2_jpg.rf.0d5b0fbb05e1f14c853e0d5cb6f8fcbc.txt  \n",
            "  inflating: /content/OIVIS_Lab_3/train/labels/autosave09_11_2012_09_55_42_2_jpg.rf.1053788766fcd3ab35a3255f87163202.txt  \n",
            "  inflating: /content/OIVIS_Lab_3/train/labels/autosave09_11_2012_09_55_45_1_jpg.rf.730348f1c09758488238f8b7fd5a6a4e.txt  \n",
            "  inflating: /content/OIVIS_Lab_3/train/labels/autosave09_11_2012_09_55_48_0_jpg.rf.82113086206c7c32b0f75564d59f1054.txt  \n",
            "  inflating: /content/OIVIS_Lab_3/train/labels/autosave09_11_2012_09_55_50_0_jpg.rf.d6aa385c5bd9082f3d99f2c8256811d7.txt  \n",
            "  inflating: /content/OIVIS_Lab_3/train/labels/autosave09_11_2012_09_55_53_0_jpg.rf.f08ed92d4dbec9e24a12f94dd6fb877b.txt  \n",
            "  inflating: /content/OIVIS_Lab_3/train/labels/autosave09_11_2012_09_55_55_1_jpg.rf.d7db4fb788914e0b3f6f7d75c9c6bc12.txt  \n",
            "  inflating: /content/OIVIS_Lab_3/train/labels/autosave09_11_2012_09_55_55_2_jpg.rf.567b64c62a1c1aa7142ffb8ed2b1a1d2.txt  \n",
            "  inflating: /content/OIVIS_Lab_3/train/labels/autosave10_10_2012_07_41_02_0_jpg.rf.3e2f975db23cd203f0d6d71e2df51ab0.txt  \n",
            "  inflating: /content/OIVIS_Lab_3/train/labels/autosave10_10_2012_07_41_03_0_jpg.rf.99e2573a8e84ad33c4fabbbc90823364.txt  \n",
            "  inflating: /content/OIVIS_Lab_3/train/labels/autosave10_10_2012_07_41_05_2_jpg.rf.41cfd90ea8a72d9b4e074242ae7cd06f.txt  \n",
            "  inflating: /content/OIVIS_Lab_3/train/labels/autosave10_10_2012_07_41_07_2_jpg.rf.9fb1960f87768d4fb2e94e1b9d9f19f1.txt  \n",
            "  inflating: /content/OIVIS_Lab_3/train/labels/autosave10_10_2012_07_41_09_2_jpg.rf.9b2e9e53459d94fef3ed43d6c9374c1d.txt  \n",
            "  inflating: /content/OIVIS_Lab_3/train/labels/autosave10_10_2012_07_42_27_2_jpg.rf.1213af76c8a4b4f1fb2ebab887531512.txt  \n",
            "  inflating: /content/OIVIS_Lab_3/train/labels/autosave10_10_2012_07_43_07_1_jpg.rf.181e1eb10427bc1039c1ce911a9e547f.txt  \n",
            "  inflating: /content/OIVIS_Lab_3/train/labels/autosave10_10_2012_07_43_18_2_jpg.rf.013a8493f7048e913b15f971080df373.txt  \n",
            "  inflating: /content/OIVIS_Lab_3/train/labels/autosave10_10_2012_07_44_02_2_jpg.rf.aa2761b0a942f473490f967027691798.txt  \n",
            "  inflating: /content/OIVIS_Lab_3/train/labels/autosave10_10_2012_07_44_18_1_jpg.rf.4383e780c77cd72d2f27239a99f5cf84.txt  \n",
            "  inflating: /content/OIVIS_Lab_3/train/labels/autosave10_10_2012_07_44_19_0_jpg.rf.e304f935ef8cd7e5f125eaeb78f54ec6.txt  \n",
            "  inflating: /content/OIVIS_Lab_3/train/labels/autosave10_10_2012_07_44_21_0_jpg.rf.a7740aad0e1ee38e215d28ee6c06fc29.txt  \n",
            "  inflating: /content/OIVIS_Lab_3/train/labels/autosave10_10_2012_07_44_21_1_jpg.rf.05be87db8e896d796b518b15424def79.txt  \n",
            "  inflating: /content/OIVIS_Lab_3/train/labels/autosave10_10_2012_07_44_21_3_jpg.rf.15e0dcff99fb256597fcce1cd082afa3.txt  \n",
            "  inflating: /content/OIVIS_Lab_3/train/labels/autosave10_10_2012_07_44_23_0_jpg.rf.7c07aed375bfb3a237270d1200aadfab.txt  \n",
            "  inflating: /content/OIVIS_Lab_3/train/labels/autosave10_10_2012_07_44_26_0_jpg.rf.d7bdb0cc7ea66060dbc46b83e08cf06d.txt  \n",
            "  inflating: /content/OIVIS_Lab_3/train/labels/autosave10_10_2012_07_44_55_1_jpg.rf.b79398cdbdb0d5937306f0b711c9053b.txt  \n",
            "  inflating: /content/OIVIS_Lab_3/train/labels/autosave10_10_2012_07_44_56_1_jpg.rf.93687e98d67e9fd5f7134e1f1cc06e4b.txt  \n",
            "  inflating: /content/OIVIS_Lab_3/train/labels/autosave10_10_2012_07_45_27_0_jpg.rf.111f23875550fd5a0a5a081ac03043e8.txt  \n",
            "  inflating: /content/OIVIS_Lab_3/train/labels/autosave10_10_2012_07_45_52_0_jpg.rf.805c4c830be665d34ff32890139492f1.txt  \n",
            "  inflating: /content/OIVIS_Lab_3/train/labels/autosave10_10_2012_07_50_34_2_jpg.rf.4120ffb48ee9280840249635ecfcce26.txt  \n",
            "  inflating: /content/OIVIS_Lab_3/train/labels/autosave10_10_2012_07_51_28_0_jpg.rf.2a1e99ecce61d4876e4bc5a4b7d06b99.txt  \n",
            "  inflating: /content/OIVIS_Lab_3/train/labels/autosave10_10_2012_07_51_29_1_jpg.rf.b92c18b0c904500dd5e0e3ac5cccc519.txt  \n",
            "  inflating: /content/OIVIS_Lab_3/train/labels/autosave10_10_2012_07_51_31_1_jpg.rf.0e1abbf886ae51acc2e9c01d64e261e3.txt  \n",
            "  inflating: /content/OIVIS_Lab_3/train/labels/autosave10_10_2012_07_51_31_2_jpg.rf.ab2257c3e999bf21c14a257154fd2734.txt  \n",
            "  inflating: /content/OIVIS_Lab_3/train/labels/autosave10_10_2012_07_51_32_2_jpg.rf.8657071181bbcf76f939b191b9ec76fa.txt  \n",
            "  inflating: /content/OIVIS_Lab_3/train/labels/autosave10_10_2012_07_51_59_1_jpg.rf.4f77168c8798e32fbfe6272029fa6252.txt  \n",
            "  inflating: /content/OIVIS_Lab_3/train/labels/autosave10_10_2012_07_52_26_0_jpg.rf.5e0773b38d9ab8f74bed225a178d4bf2.txt  \n",
            "  inflating: /content/OIVIS_Lab_3/train/labels/autosave10_10_2012_07_52_26_1_jpg.rf.a0595ce878aa357aab73086c9339c64c.txt  \n",
            "  inflating: /content/OIVIS_Lab_3/train/labels/autosave10_10_2012_07_52_28_2_jpg.rf.f5d1243b00ec9658138e75f014a89a83.txt  \n",
            "  inflating: /content/OIVIS_Lab_3/train/labels/autosave10_10_2012_07_52_59_0_jpg.rf.0ee79f37b8abaa8914426c24c885435a.txt  \n",
            "  inflating: /content/OIVIS_Lab_3/train/labels/autosave10_10_2012_08_03_36_2_jpg.rf.272b270e9ce39e591f929a7631a641d8.txt  \n",
            "  inflating: /content/OIVIS_Lab_3/train/labels/autosave10_10_2012_08_04_00_0_jpg.rf.fd7b031123ee7b4b3480587eab2fcf72.txt  \n",
            "  inflating: /content/OIVIS_Lab_3/train/labels/autosave10_10_2012_08_04_02_3_jpg.rf.090a55ba6ab96099c814137836675d9a.txt  \n",
            "  inflating: /content/OIVIS_Lab_3/train/labels/autosave10_10_2012_08_04_08_0_jpg.rf.bb170726ad8aaddaaea01d4aafc627ce.txt  \n",
            "  inflating: /content/OIVIS_Lab_3/train/labels/autosave10_10_2012_08_04_18_2_jpg.rf.6840caddd58c26d84cef9e787046d13f.txt  \n",
            "  inflating: /content/OIVIS_Lab_3/train/labels/autosave10_10_2012_08_04_27_1_jpg.rf.42219b261207089b67780eb8ad4e2d4e.txt  \n",
            "  inflating: /content/OIVIS_Lab_3/train/labels/autosave10_10_2012_08_04_27_2_jpg.rf.10edc94f7ae34cc5d5f81cc1a8c6c9eb.txt  \n",
            "  inflating: /content/OIVIS_Lab_3/train/labels/autosave10_10_2012_08_07_52_0_jpg.rf.f003aff70a5d04fa19e73329784dab36.txt  \n",
            "  inflating: /content/OIVIS_Lab_3/train/labels/autosave10_10_2012_08_07_56_0_jpg.rf.8e0012875a4254fb766960f597bfb8f7.txt  \n",
            "  inflating: /content/OIVIS_Lab_3/train/labels/autosave10_10_2012_08_08_03_0_jpg.rf.484648610765e1e842d2e81a35b4a3b0.txt  \n",
            "  inflating: /content/OIVIS_Lab_3/train/labels/autosave10_10_2012_08_08_03_1_jpg.rf.04ae70e2ad6891d7cb569f82b079d8ee.txt  \n",
            "  inflating: /content/OIVIS_Lab_3/train/labels/autosave10_10_2012_08_08_26_2_jpg.rf.ffb9cb22dad066611cea40e5bf6713fe.txt  \n",
            "  inflating: /content/OIVIS_Lab_3/train/labels/autosave10_10_2012_08_08_34_1_jpg.rf.8c0c34581e3629961e2b202756ca2782.txt  \n",
            "  inflating: /content/OIVIS_Lab_3/train/labels/autosave10_10_2012_08_08_34_2_jpg.rf.30957e4dddef919056500f2964a9c6af.txt  \n",
            "  inflating: /content/OIVIS_Lab_3/train/labels/autosave10_10_2012_08_08_40_3_jpg.rf.93c13534f6cc5a98e4a2889a77fdaf16.txt  \n",
            "  inflating: /content/OIVIS_Lab_3/train/labels/autosave10_10_2012_08_08_55_1_jpg.rf.246af289d1138cbe6adab10a925f232c.txt  \n",
            "  inflating: /content/OIVIS_Lab_3/train/labels/autosave10_10_2012_08_08_57_0_jpg.rf.1902a0223d14de00c21b6e6a5bf1fcf8.txt  \n",
            "  inflating: /content/OIVIS_Lab_3/train/labels/autosave10_10_2012_08_09_05_0_jpg.rf.e826ff89b18605127fa808dbde98128d.txt  \n",
            "  inflating: /content/OIVIS_Lab_3/train/labels/autosave10_10_2012_08_09_05_3_jpg.rf.49643e199a470fbb1e0112b46ee63287.txt  \n",
            "  inflating: /content/OIVIS_Lab_3/train/labels/autosave10_10_2012_08_09_07_0_jpg.rf.b1753b0a132241f6c37f3e36560fcfef.txt  \n",
            "  inflating: /content/OIVIS_Lab_3/train/labels/autosave10_10_2012_08_09_18_0_jpg.rf.136fb6b04acad8052e8630fb3c29cb59.txt  \n",
            "  inflating: /content/OIVIS_Lab_3/train/labels/autosave10_10_2012_08_10_43_1_jpg.rf.8766fbc57e66e221d68f8a1ecf2197a5.txt  \n",
            "  inflating: /content/OIVIS_Lab_3/train/labels/autosave10_10_2012_08_10_53_2_jpg.rf.4f74d808bd9eb4b02ca3b52a45ee09bf.txt  \n",
            "  inflating: /content/OIVIS_Lab_3/train/labels/autosave10_10_2012_08_10_54_2_jpg.rf.6738a3e0da6988934a238511b12091c8.txt  \n",
            "  inflating: /content/OIVIS_Lab_3/train/labels/autosave10_10_2012_08_10_56_2_jpg.rf.dd718096a6c85a5e784d0677e3a786ad.txt  \n",
            "  inflating: /content/OIVIS_Lab_3/train/labels/autosave10_10_2012_08_11_06_1_jpg.rf.d5e53333c0cd356785e582b81499ca24.txt  \n",
            "  inflating: /content/OIVIS_Lab_3/train/labels/autosave10_10_2012_08_11_09_0_jpg.rf.820fb1e3730afc67c76d3cbfa856a72e.txt  \n",
            "  inflating: /content/OIVIS_Lab_3/train/labels/autosave10_10_2012_08_12_36_0_jpg.rf.0bb921b310be1bddca5ee3bf3f4d4822.txt  \n",
            "  inflating: /content/OIVIS_Lab_3/train/labels/autosave10_10_2012_08_22_32_1_jpg.rf.b651a3707dd7bdb3444568227f68e185.txt  \n",
            "  inflating: /content/OIVIS_Lab_3/train/labels/autosave10_10_2012_08_22_32_2_jpg.rf.c3a46a6d611449bb03e4e8e83e28847b.txt  \n",
            "  inflating: /content/OIVIS_Lab_3/train/labels/autosave10_10_2012_08_24_09_3_jpg.rf.3e92b5853bde7542343ad040ad925831.txt  \n",
            "  inflating: /content/OIVIS_Lab_3/train/labels/autosave10_10_2012_08_24_11_1_jpg.rf.b83f9c03da2a13313bf4ca42adc1ac79.txt  \n",
            "  inflating: /content/OIVIS_Lab_3/train/labels/autosave10_10_2012_08_24_20_2_jpg.rf.f95e3c54adaa1e81f3d2de27805a63e1.txt  \n",
            "  inflating: /content/OIVIS_Lab_3/train/labels/autosave10_10_2012_08_24_21_0_jpg.rf.8d5e1400d9e720eedae154619839eab0.txt  \n",
            "  inflating: /content/OIVIS_Lab_3/train/labels/autosave10_10_2012_08_24_31_3_jpg.rf.707a95ce742c50991d114702e4e2f626.txt  \n",
            "  inflating: /content/OIVIS_Lab_3/train/labels/autosave10_10_2012_08_24_35_2_jpg.rf.ecb43533e600b75a441db9f06e486535.txt  \n",
            "  inflating: /content/OIVIS_Lab_3/train/labels/autosave10_10_2012_08_26_29_3_jpg.rf.0c879772f193975c9bd703c45dfb9b1f.txt  \n",
            "  inflating: /content/OIVIS_Lab_3/train/labels/autosave10_10_2012_08_26_31_1_jpg.rf.71d7f1a05281e6c5643d3f7e7db6ef0e.txt  \n",
            "  inflating: /content/OIVIS_Lab_3/train/labels/autosave10_10_2012_08_26_37_0_jpg.rf.a4ba57f22b602afaf9be78da3b63f5a8.txt  \n",
            "  inflating: /content/OIVIS_Lab_3/train/labels/autosave10_10_2012_08_26_49_0_jpg.rf.b7a0970d6b2995c486e4cde4b47c793e.txt  \n",
            "  inflating: /content/OIVIS_Lab_3/train/labels/autosave10_10_2012_08_28_46_0_jpg.rf.029b4a32c710479fdb0bbbd61770d0df.txt  \n",
            "  inflating: /content/OIVIS_Lab_3/train/labels/autosave10_10_2012_08_29_05_0_jpg.rf.7d4041bf2b2096adc80171c657f1506c.txt  \n",
            "  inflating: /content/OIVIS_Lab_3/train/labels/autosave10_10_2012_08_29_05_1_jpg.rf.a672e2fa255c0eeaf9837fcf3dde7f28.txt  \n",
            "  inflating: /content/OIVIS_Lab_3/train/labels/autosave10_10_2012_08_29_38_1_jpg.rf.fb1078dff1322fa2e8f8932fe3656ec0.txt  \n",
            "  inflating: /content/OIVIS_Lab_3/train/labels/autosave10_10_2012_08_29_38_2_jpg.rf.0a57859d1c85f4f11451ea0a67b461a0.txt  \n",
            "  inflating: /content/OIVIS_Lab_3/train/labels/autosave10_10_2012_08_29_57_1_jpg.rf.0f989a81a3d326ee381e1217cfd40ec2.txt  \n",
            "  inflating: /content/OIVIS_Lab_3/train/labels/autosave10_10_2012_08_30_00_0_jpg.rf.3906bfd7193c75c532cb9ec17d4d6659.txt  \n",
            "  inflating: /content/OIVIS_Lab_3/train/labels/autosave10_10_2012_08_30_29_1_jpg.rf.9e84a4edb5abf8d1414c651a65ca0f30.txt  \n",
            "  inflating: /content/OIVIS_Lab_3/train/labels/autosave10_10_2012_08_30_30_0_jpg.rf.67bcf599e487896d4f77a7e92e65d154.txt  \n",
            "  inflating: /content/OIVIS_Lab_3/train/labels/autosave10_10_2012_08_30_53_0_jpg.rf.e7f475474fcb2d74a0bacd7e4ff338ce.txt  \n",
            "  inflating: /content/OIVIS_Lab_3/train/labels/autosave10_10_2012_08_30_53_1_jpg.rf.11539c8fda29a54fa237c5be3429b9d9.txt  \n",
            "  inflating: /content/OIVIS_Lab_3/train/labels/autosave10_10_2012_08_30_57_2_jpg.rf.06d509c61cfd2450a1dc210b2436a5da.txt  \n",
            "  inflating: /content/OIVIS_Lab_3/train/labels/autosave10_10_2012_08_31_03_1_jpg.rf.f79e1e2e17100e8ea7f537be07a843b7.txt  \n",
            "  inflating: /content/OIVIS_Lab_3/train/labels/autosave10_10_2012_08_32_38_0_jpg.rf.05ad5514477f4c3b8d27d09f7defd64d.txt  \n",
            "  inflating: /content/OIVIS_Lab_3/train/labels/autosave10_10_2012_08_32_38_2_jpg.rf.bce6eda40cfc2d33da06a250af9bc684.txt  \n",
            "  inflating: /content/OIVIS_Lab_3/train/labels/autosave10_10_2012_08_32_58_0_jpg.rf.2d42ebd753af303cfab7f68083e96305.txt  \n",
            "  inflating: /content/OIVIS_Lab_3/train/labels/autosave10_10_2012_08_33_26_1_jpg.rf.806c75bb2ec45385a472a09fc8531905.txt  \n",
            "  inflating: /content/OIVIS_Lab_3/train/labels/autosave10_10_2012_08_33_26_2_jpg.rf.abdd8f4fb779bb47a47b8cc3546d425a.txt  \n",
            "  inflating: /content/OIVIS_Lab_3/train/labels/autosave10_10_2012_08_38_58_1_jpg.rf.9e18ba278039ca4a821b8e487cd1148a.txt  \n",
            "  inflating: /content/OIVIS_Lab_3/train/labels/autosave10_10_2012_08_38_59_0_jpg.rf.508ba2093b9d784449363a1879a63cd3.txt  \n",
            "  inflating: /content/OIVIS_Lab_3/train/labels/autosave10_10_2012_08_38_59_1_jpg.rf.9ce2f688fcfe183b7bf0919711307438.txt  \n",
            "  inflating: /content/OIVIS_Lab_3/train/labels/autosave10_10_2012_08_41_11_2_jpg.rf.abc8a3bd351905c242fbb56f4be79ff5.txt  \n",
            "  inflating: /content/OIVIS_Lab_3/train/labels/autosave10_10_2012_08_41_13_1_jpg.rf.caa0589345b85626bb7f32425aee066e.txt  \n",
            "  inflating: /content/OIVIS_Lab_3/train/labels/autosave10_10_2012_08_42_17_1_jpg.rf.7c548cfa558d1d5573f7fc010772c99b.txt  \n",
            "  inflating: /content/OIVIS_Lab_3/train/labels/autosave10_10_2012_08_42_49_2_jpg.rf.a6c3cc86b3cfcdf477a44c17ba050047.txt  \n",
            "  inflating: /content/OIVIS_Lab_3/train/labels/autosave10_10_2012_08_42_50_0_jpg.rf.b422f4461231113311e1fd975f4ec922.txt  \n",
            "  inflating: /content/OIVIS_Lab_3/train/labels/autosave10_10_2012_08_46_05_1_jpg.rf.a1724039055be20d15d0afdc9c4cdf9a.txt  \n",
            "  inflating: /content/OIVIS_Lab_3/train/labels/autosave10_10_2012_08_46_06_1_jpg.rf.8297c89dcd697673b0f7fb343e859302.txt  \n",
            "  inflating: /content/OIVIS_Lab_3/train/labels/autosave10_10_2012_08_46_06_2_jpg.rf.3f7b783db68d51dec770cb6399810d9b.txt  \n",
            "  inflating: /content/OIVIS_Lab_3/train/labels/autosave10_10_2012_08_47_25_2_jpg.rf.dacb32fbef1fecc2885b18fb9f293b35.txt  \n",
            "  inflating: /content/OIVIS_Lab_3/train/labels/autosave10_10_2012_08_48_37_1_jpg.rf.a0260755ca910810bf548c73dff31438.txt  \n",
            "  inflating: /content/OIVIS_Lab_3/train/labels/autosave10_10_2012_08_49_41_0_jpg.rf.801b4826af10fd967a0888cdd3eb5782.txt  \n",
            "  inflating: /content/OIVIS_Lab_3/train/labels/autosave10_10_2012_08_49_41_1_jpg.rf.54a2fcf819758389ee6062e5d6cc142b.txt  \n",
            "  inflating: /content/OIVIS_Lab_3/train/labels/autosave10_10_2012_08_49_41_2_jpg.rf.d173e345cc407f4d02698a62f0a5fbb7.txt  \n",
            "  inflating: /content/OIVIS_Lab_3/train/labels/autosave10_10_2012_08_50_51_2_jpg.rf.ee51e985adf454b6e0d2a9982b686a2b.txt  \n",
            "  inflating: /content/OIVIS_Lab_3/train/labels/autosave10_10_2012_08_50_52_1_jpg.rf.908c33eb182e32a91f58f465d31a8306.txt  \n",
            "  inflating: /content/OIVIS_Lab_3/train/labels/autosave10_10_2012_08_52_17_1_jpg.rf.a2143d9c1f1e1b0529064513fb975e24.txt  \n",
            "  inflating: /content/OIVIS_Lab_3/train/labels/autosave10_10_2012_08_52_42_0_jpg.rf.b7c1f210cf913e6e014a1f97485aab9e.txt  \n",
            "  inflating: /content/OIVIS_Lab_3/train/labels/autosave10_10_2012_08_53_45_0_jpg.rf.3a7d3140c8a9c8326df0f485142d789f.txt  \n",
            "  inflating: /content/OIVIS_Lab_3/train/labels/autosave10_10_2012_08_53_51_0_jpg.rf.3e1611b8240d2d7d105dfb5b9a9a2417.txt  \n",
            "  inflating: /content/OIVIS_Lab_3/train/labels/autosave10_10_2012_08_53_51_1_jpg.rf.3d9f38c698d31a131f0f9ac088db82c2.txt  \n",
            "  inflating: /content/OIVIS_Lab_3/train/labels/autosave10_10_2012_08_53_51_2_jpg.rf.8482a7cbd24c2f7a6e5a4e8611314779.txt  \n",
            "  inflating: /content/OIVIS_Lab_3/train/labels/autosave10_10_2012_08_53_56_2_jpg.rf.4d125a4ed637ec0e050b0d40f9c4e480.txt  \n",
            "  inflating: /content/OIVIS_Lab_3/train/labels/autosave10_10_2012_08_53_58_2_jpg.rf.ab4e76ae7b8dc0540854599f56a80196.txt  \n",
            "  inflating: /content/OIVIS_Lab_3/train/labels/autosave10_10_2012_08_55_11_1_jpg.rf.9be97b58b22a0c03b123954013371998.txt  \n",
            "  inflating: /content/OIVIS_Lab_3/train/labels/autosave10_10_2012_08_58_37_2_jpg.rf.5ee67372e2da508fc6caf786d79457e2.txt  \n",
            "  inflating: /content/OIVIS_Lab_3/train/labels/autosave10_10_2012_08_58_38_0_jpg.rf.d5cc7ed2eb335b867c7236005fb0b1b5.txt  \n",
            "  inflating: /content/OIVIS_Lab_3/train/labels/autosave10_10_2012_08_59_21_1_jpg.rf.5f42bfb88da2fa9e66084eb328f5e973.txt  \n",
            "  inflating: /content/OIVIS_Lab_3/train/labels/autosave10_10_2012_08_59_34_0_jpg.rf.040b71f87e4a1fd7d1c6751223ef8ee0.txt  \n",
            "  inflating: /content/OIVIS_Lab_3/train/labels/autosave10_10_2012_08_59_35_1_jpg.rf.66ed1c0821aa2e55649b1e61414d3daa.txt  \n",
            "  inflating: /content/OIVIS_Lab_3/train/labels/autosave10_10_2012_09_00_00_2_jpg.rf.748843bef7593c918b0a0bd60db3c5b3.txt  \n",
            "  inflating: /content/OIVIS_Lab_3/train/labels/autosave10_10_2012_09_00_03_0_jpg.rf.5b4e0ec1a54aa928c8f789105f4fd3b2.txt  \n",
            "  inflating: /content/OIVIS_Lab_3/train/labels/autosave10_10_2012_09_00_18_2_jpg.rf.c188190e5584f3b6d77aa59655935d34.txt  \n",
            "  inflating: /content/OIVIS_Lab_3/train/labels/autosave10_10_2012_09_00_28_1_jpg.rf.ac12eca054bd1f5c0c648e13ac9c4594.txt  \n",
            "  inflating: /content/OIVIS_Lab_3/train/labels/autosave10_10_2012_09_00_35_1_jpg.rf.5cee44a1f980166c176ae575fa9c6733.txt  \n",
            "  inflating: /content/OIVIS_Lab_3/train/labels/autosave10_10_2012_09_00_37_1_jpg.rf.8ad0fa62bcf1479884b83a9ac0dc5bb8.txt  \n",
            "  inflating: /content/OIVIS_Lab_3/train/labels/autosave10_10_2012_09_00_40_1_jpg.rf.8474d2915bfe88c72072c286007149b8.txt  \n",
            "  inflating: /content/OIVIS_Lab_3/train/labels/autosave10_10_2012_09_01_05_1_jpg.rf.c67a0643c99f9a405a9b6ffcc200d92e.txt  \n",
            "  inflating: /content/OIVIS_Lab_3/train/labels/autosave10_10_2012_09_01_05_2_jpg.rf.442800a11da6e6aa08f02538cdfcf38e.txt  \n",
            "  inflating: /content/OIVIS_Lab_3/train/labels/autosave10_10_2012_09_01_16_2_jpg.rf.68d0aca7a39612715e1087f7c2068cfc.txt  \n",
            "  inflating: /content/OIVIS_Lab_3/train/labels/autosave10_10_2012_09_01_46_2_jpg.rf.f559d868c40399996ba43ca7e3f8580f.txt  \n",
            "  inflating: /content/OIVIS_Lab_3/train/labels/autosave10_10_2012_09_01_58_0_jpg.rf.9889df25bc98593794ae0039b305cc02.txt  \n",
            "  inflating: /content/OIVIS_Lab_3/train/labels/autosave10_10_2012_09_02_13_0_jpg.rf.e414f55b32f33488a8bcc03e7502c089.txt  \n",
            "  inflating: /content/OIVIS_Lab_3/train/labels/autosave10_10_2012_09_02_15_0_jpg.rf.e13130ce7a2d50e380fa48400d4b9419.txt  \n",
            "  inflating: /content/OIVIS_Lab_3/train/labels/autosave10_10_2012_09_02_40_2_jpg.rf.4ce2035402791628cbcf15eb99afe509.txt  \n",
            "  inflating: /content/OIVIS_Lab_3/train/labels/autosave10_10_2012_09_03_19_1_jpg.rf.4d885c756940d0ba2c39a77e35b494be.txt  \n",
            "  inflating: /content/OIVIS_Lab_3/train/labels/autosave10_10_2012_09_03_20_0_jpg.rf.9d5b4b60424fb07adcf6dd1ae1a29626.txt  \n",
            "  inflating: /content/OIVIS_Lab_3/train/labels/autosave10_10_2012_09_03_44_1_jpg.rf.98ef230d04c415e3a0b8316573902cd9.txt  \n",
            "  inflating: /content/OIVIS_Lab_3/train/labels/autosave10_10_2012_09_04_20_3_jpg.rf.730cd4836596fc26a598eed78823474e.txt  \n",
            "  inflating: /content/OIVIS_Lab_3/train/labels/autosave10_10_2012_09_04_41_3_jpg.rf.4f9a1edf50186d15c8e3a053bbfda2fc.txt  \n",
            "  inflating: /content/OIVIS_Lab_3/train/labels/autosave10_10_2012_09_04_42_0_jpg.rf.eb23240980951998a7b7b51b07720df5.txt  \n",
            "  inflating: /content/OIVIS_Lab_3/train/labels/autosave10_10_2012_09_05_37_0_jpg.rf.bbeaa6ac92bdd8d59f7db5ba3dc86e6a.txt  \n",
            "  inflating: /content/OIVIS_Lab_3/train/labels/autosave10_10_2012_09_05_39_0_jpg.rf.41331cb4735f6b533898d6ffb9d99212.txt  \n",
            "  inflating: /content/OIVIS_Lab_3/train/labels/autosave10_10_2012_09_06_03_0_jpg.rf.e0f9eab7072505f4b66b1a905f90f181.txt  \n",
            "  inflating: /content/OIVIS_Lab_3/train/labels/autosave10_10_2012_09_06_20_1_jpg.rf.da19201bc5c4db742e89fa7c79c13c7d.txt  \n",
            "  inflating: /content/OIVIS_Lab_3/train/labels/autosave10_10_2012_09_06_21_3_jpg.rf.a838621900f895693c1a8b32cf90c1d3.txt  \n",
            "  inflating: /content/OIVIS_Lab_3/train/labels/autosave10_10_2012_09_18_45_2_jpg.rf.4446677e2f6e138049d922197ff2209c.txt  \n",
            "  inflating: /content/OIVIS_Lab_3/train/labels/autosave10_10_2012_09_19_13_3_jpg.rf.ec8c3c70aab35b425af6531111413ef1.txt  \n",
            "  inflating: /content/OIVIS_Lab_3/train/labels/autosave10_10_2012_09_19_25_2_jpg.rf.c417f91e89da5040d7f10c2323771195.txt  \n",
            "  inflating: /content/OIVIS_Lab_3/train/labels/autosave10_10_2012_09_19_30_1_jpg.rf.e9a8766a2a299f0541ef1910124b82af.txt  \n",
            "  inflating: /content/OIVIS_Lab_3/train/labels/autosave10_10_2012_09_19_30_2_jpg.rf.b18cfa779545072ae86f5dedc69012f5.txt  \n",
            "  inflating: /content/OIVIS_Lab_3/train/labels/autosave10_10_2012_09_19_31_2_jpg.rf.43dee7049e08516a3f4bfb9b9255ea14.txt  \n",
            "  inflating: /content/OIVIS_Lab_3/train/labels/autosave10_10_2012_09_19_50_1_jpg.rf.cef253f6b8ad3f0ffc1c5c5f01501d7d.txt  \n",
            "  inflating: /content/OIVIS_Lab_3/train/labels/autosave10_10_2012_09_19_51_3_jpg.rf.2b3c5482fa7534b002c3ef098b492956.txt  \n",
            "  inflating: /content/OIVIS_Lab_3/train/labels/autosave10_10_2012_09_20_26_0_jpg.rf.6a01a6869bfbb5b19b969cfdff75678c.txt  \n",
            "  inflating: /content/OIVIS_Lab_3/train/labels/autosave10_10_2012_09_20_38_2_jpg.rf.bbe8f24e4b81cb1502b83edd063eb519.txt  \n",
            "  inflating: /content/OIVIS_Lab_3/train/labels/autosave10_10_2012_09_20_43_3_jpg.rf.031433331a6dab5fc82d04fc2fae4b13.txt  \n",
            "  inflating: /content/OIVIS_Lab_3/train/labels/autosave10_10_2012_09_20_47_2_jpg.rf.d8140fbedccfeabad3d30c307bcfaecd.txt  \n",
            "  inflating: /content/OIVIS_Lab_3/train/labels/autosave10_10_2012_09_21_31_0_jpg.rf.b7a5645709e1ff1834774592b0705b5a.txt  \n",
            "  inflating: /content/OIVIS_Lab_3/train/labels/autosave10_10_2012_09_21_33_0_jpg.rf.9b8219aaa88773b79c307dafd3421670.txt  \n",
            "  inflating: /content/OIVIS_Lab_3/train/labels/autosave10_10_2012_09_21_54_2_jpg.rf.e91687586464b4fd92cbf8bc0e0cd92f.txt  \n",
            "  inflating: /content/OIVIS_Lab_3/train/labels/autosave10_10_2012_09_21_55_1_jpg.rf.d7da143674cb1ee5f5e3da1d4007ee5e.txt  \n",
            "  inflating: /content/OIVIS_Lab_3/train/labels/autosave10_10_2012_09_22_16_0_jpg.rf.dd1a6a18e16aabf3620cdcdf9795d6b1.txt  \n",
            "  inflating: /content/OIVIS_Lab_3/train/labels/autosave10_10_2012_09_22_16_2_jpg.rf.302bfe943b39776c1d6b95099a014e94.txt  \n",
            "  inflating: /content/OIVIS_Lab_3/train/labels/autosave10_10_2012_09_22_36_0_jpg.rf.a33b686c05260e8f2c176852a2b45a66.txt  \n",
            "  inflating: /content/OIVIS_Lab_3/train/labels/autosave10_10_2012_09_23_05_0_jpg.rf.1363932963ab0efcb91b3ebca9e034fb.txt  \n",
            "  inflating: /content/OIVIS_Lab_3/train/labels/autosave10_10_2012_09_23_05_1_jpg.rf.75123bd9e67c917ab5c5d60b584c692c.txt  \n",
            "  inflating: /content/OIVIS_Lab_3/train/labels/autosave10_10_2012_09_23_06_2_jpg.rf.b70592241a34d55adfe1ef5ec7a06cae.txt  \n",
            "  inflating: /content/OIVIS_Lab_3/train/labels/autosave10_10_2012_09_23_09_1_jpg.rf.6baf285a77ca25bcceaa7591468940c3.txt  \n",
            "  inflating: /content/OIVIS_Lab_3/train/labels/autosave10_10_2012_09_23_10_2_jpg.rf.950c6e218f410634f05a1737337501b1.txt  \n",
            "  inflating: /content/OIVIS_Lab_3/train/labels/autosave10_10_2012_09_23_13_2_jpg.rf.919570ee3420be14890dae81b553592e.txt  \n",
            "  inflating: /content/OIVIS_Lab_3/train/labels/autosave10_10_2012_09_23_21_1_jpg.rf.6c4cfbdb37f412cb586d22fddc228d7f.txt  \n",
            "  inflating: /content/OIVIS_Lab_3/train/labels/autosave10_10_2012_09_23_21_2_jpg.rf.7bcd868727a57289af63640fbeb950a5.txt  \n",
            "  inflating: /content/OIVIS_Lab_3/train/labels/autosave10_10_2012_09_23_22_3_jpg.rf.728620e483c9134e381e67efc9d16bf0.txt  \n",
            "  inflating: /content/OIVIS_Lab_3/train/labels/autosave10_10_2012_09_23_38_0_jpg.rf.28e7b6dbb057c3fa54a55cd72dbea2e1.txt  \n",
            "  inflating: /content/OIVIS_Lab_3/train/labels/autosave10_10_2012_09_24_51_1_jpg.rf.bc04ba2f5d80f4ab8a8683f44608fe5d.txt  \n",
            "  inflating: /content/OIVIS_Lab_3/train/labels/autosave10_10_2012_09_24_51_2_jpg.rf.60230cf8885053700e7b80dd34d7c8ba.txt  \n",
            "  inflating: /content/OIVIS_Lab_3/train/labels/autosave10_10_2012_09_24_52_0_jpg.rf.6a5815c320a3158aa70d5cca5164e3ef.txt  \n",
            "  inflating: /content/OIVIS_Lab_3/train/labels/autosave10_10_2012_09_24_53_1_jpg.rf.b118089cacd962badbb819a36e52ed3f.txt  \n",
            "  inflating: /content/OIVIS_Lab_3/train/labels/autosave10_10_2012_09_25_03_3_jpg.rf.db130904113b71e44bbd2af01407fea8.txt  \n",
            "  inflating: /content/OIVIS_Lab_3/train/labels/autosave10_10_2012_09_25_45_0_jpg.rf.bdf74a0672a8f77b22d66293c500a62d.txt  \n",
            "  inflating: /content/OIVIS_Lab_3/train/labels/autosave10_10_2012_09_25_45_1_jpg.rf.b18b9ff4c5f453f94bcf8301875ecc1b.txt  \n",
            "  inflating: /content/OIVIS_Lab_3/train/labels/autosave10_10_2012_09_26_02_1_jpg.rf.85af9a2a9f916b69e4658559e6a6e250.txt  \n",
            "  inflating: /content/OIVIS_Lab_3/train/labels/autosave10_10_2012_09_26_03_1_jpg.rf.f6afb9fc369c8a252a187ff7e6708964.txt  \n",
            "  inflating: /content/OIVIS_Lab_3/train/labels/autosave10_10_2012_09_26_05_3_jpg.rf.a5b005503c1fa9583450ee3bdd7d2458.txt  \n",
            "  inflating: /content/OIVIS_Lab_3/train/labels/autosave10_10_2012_09_26_09_1_jpg.rf.3b32af23fee3a4970183bbdb708060cf.txt  \n",
            "  inflating: /content/OIVIS_Lab_3/train/labels/autosave10_10_2012_09_26_09_2_jpg.rf.529c1bc8ae510c01801ef553e66fdce9.txt  \n",
            "  inflating: /content/OIVIS_Lab_3/train/labels/autosave10_10_2012_09_26_10_0_jpg.rf.6aa9345bec15bde8376f98c835e3c0d3.txt  \n",
            "  inflating: /content/OIVIS_Lab_3/train/labels/autosave10_10_2012_09_26_10_2_jpg.rf.10dbb188c8f2f6df1860c86b1c0fcb9c.txt  \n",
            "  inflating: /content/OIVIS_Lab_3/train/labels/autosave10_10_2012_09_26_11_1_jpg.rf.ce2f0cb4f93c06f9e594aabbe2c0ce1c.txt  \n",
            "  inflating: /content/OIVIS_Lab_3/train/labels/autosave10_10_2012_09_26_13_1_jpg.rf.8cb9d231d583b043107b8d8bd5403618.txt  \n",
            "  inflating: /content/OIVIS_Lab_3/train/labels/autosave10_10_2012_09_26_14_2_jpg.rf.0e62915dbb5a480fffaec4954f6bba14.txt  \n",
            "  inflating: /content/OIVIS_Lab_3/train/labels/autosave10_10_2012_09_26_33_0_jpg.rf.6d486fb897265a2413f3709fef1726bd.txt  \n",
            "  inflating: /content/OIVIS_Lab_3/train/labels/autosave10_10_2012_09_26_44_1_jpg.rf.b7251e3462835897e6055eaaca0f7124.txt  \n",
            "  inflating: /content/OIVIS_Lab_3/train/labels/autosave10_10_2012_09_26_47_2_jpg.rf.7f87d29cc1cd864a8fde29bd180f69ce.txt  \n",
            "  inflating: /content/OIVIS_Lab_3/train/labels/autosave10_10_2012_09_27_24_0_jpg.rf.5589103b4e46b1bc8e3e87e3fb433b8b.txt  \n",
            "  inflating: /content/OIVIS_Lab_3/train/labels/autosave10_10_2012_09_27_27_2_jpg.rf.c0ca11e270569f23dc5187f9108e54be.txt  \n",
            "  inflating: /content/OIVIS_Lab_3/train/labels/autosave10_10_2012_09_27_28_2_jpg.rf.a1b0c1e747928c93cfc41516acf8c303.txt  \n",
            "  inflating: /content/OIVIS_Lab_3/train/labels/autosave10_10_2012_09_27_42_2_jpg.rf.ab886ebdf17cafb83134b312549fa3e8.txt  \n",
            "  inflating: /content/OIVIS_Lab_3/train/labels/autosave10_10_2012_09_27_44_0_jpg.rf.9645456c340816b32d03cfc42364c03d.txt  \n",
            "  inflating: /content/OIVIS_Lab_3/train/labels/autosave10_10_2012_09_27_46_0_jpg.rf.309d7c8712e57b10420c4e92cbe84b2f.txt  \n",
            "  inflating: /content/OIVIS_Lab_3/train/labels/autosave10_10_2012_09_27_47_0_jpg.rf.08927747a3859286de1abb4b25be8d20.txt  \n",
            "  inflating: /content/OIVIS_Lab_3/train/labels/autosave10_10_2012_09_27_47_1_jpg.rf.632389f7c4100c433ff43b47866af15f.txt  \n",
            "  inflating: /content/OIVIS_Lab_3/train/labels/autosave10_10_2012_09_27_49_0_jpg.rf.269924a3d833db0bf76316b7731cbd08.txt  \n",
            "  inflating: /content/OIVIS_Lab_3/train/labels/autosave10_10_2012_09_28_08_2_jpg.rf.dc4d9a5a0ab106c5b45816c7bb9008a9.txt  \n",
            "  inflating: /content/OIVIS_Lab_3/train/labels/autosave10_10_2012_09_28_11_0_jpg.rf.9afffed1ba15b05ab3fea5b24c55359f.txt  \n",
            "  inflating: /content/OIVIS_Lab_3/train/labels/autosave10_10_2012_09_28_12_1_jpg.rf.1a68fc6a6b68e23755ea34f4314eb376.txt  \n",
            "  inflating: /content/OIVIS_Lab_3/train/labels/autosave10_10_2012_09_28_13_0_jpg.rf.9917292999695821eb5f4fab77c74b16.txt  \n",
            "  inflating: /content/OIVIS_Lab_3/train/labels/autosave10_10_2012_09_28_13_2_jpg.rf.0c49d1899a4a376b1a1cf04275ce2a43.txt  \n",
            "  inflating: /content/OIVIS_Lab_3/train/labels/autosave10_10_2012_09_28_49_0_jpg.rf.9569b4bd70af6829bffbddb9ff83a049.txt  \n",
            "  inflating: /content/OIVIS_Lab_3/train/labels/autosave10_10_2012_09_28_53_0_jpg.rf.2e05d329dc32fe043a0f6e2518d98967.txt  \n",
            "  inflating: /content/OIVIS_Lab_3/train/labels/autosave10_10_2012_09_28_53_2_jpg.rf.5103a6b606ebebf91f754022467b4c2d.txt  \n",
            "  inflating: /content/OIVIS_Lab_3/train/labels/autosave10_10_2012_09_29_36_0_jpg.rf.a06b9ed9156e5d7aad6d06f6d9646bb7.txt  \n",
            "  inflating: /content/OIVIS_Lab_3/train/labels/autosave10_10_2012_09_29_53_3_jpg.rf.815f3cf88dff1d3e0b5971fb9038158a.txt  \n",
            "  inflating: /content/OIVIS_Lab_3/train/labels/autosave10_10_2012_09_30_37_0_jpg.rf.d5cf317da244be72d33597d70f607701.txt  \n",
            "  inflating: /content/OIVIS_Lab_3/train/labels/autosave10_10_2012_09_30_39_1_jpg.rf.aaa1e6a8e60b0fdb0231a501a594594c.txt  \n",
            "  inflating: /content/OIVIS_Lab_3/train/labels/autosave10_10_2012_09_30_40_0_jpg.rf.bf0961d900986b0f9915ec9fdec59646.txt  \n",
            "  inflating: /content/OIVIS_Lab_3/train/labels/autosave10_10_2012_09_30_40_1_jpg.rf.bd3656159765667b798ecb230828fe2d.txt  \n",
            "  inflating: /content/OIVIS_Lab_3/train/labels/autosave10_10_2012_09_30_41_2_jpg.rf.0b83c6f808466332edbd576c7c73f6ac.txt  \n",
            "  inflating: /content/OIVIS_Lab_3/train/labels/autosave10_10_2012_09_30_56_0_jpg.rf.7a84a2df56ac875108b8a3cbb3d8b960.txt  \n",
            "  inflating: /content/OIVIS_Lab_3/train/labels/autosave10_10_2012_09_31_22_2_jpg.rf.b97705d895cfb3ff00333fb49ee76e68.txt  \n",
            "  inflating: /content/OIVIS_Lab_3/train/labels/autosave10_10_2012_09_31_41_1_jpg.rf.bf5dabc2c1126689bdce3b137fe556d4.txt  \n",
            "  inflating: /content/OIVIS_Lab_3/train/labels/autosave10_10_2012_09_32_12_2_jpg.rf.3779aec900839c06d3467a0471d17d1d.txt  \n",
            "  inflating: /content/OIVIS_Lab_3/train/labels/autosave10_10_2012_09_33_19_2_jpg.rf.575c1b9ea9149bf49ff51c15454241ca.txt  \n",
            "  inflating: /content/OIVIS_Lab_3/train/labels/autosave10_10_2012_09_33_20_0_jpg.rf.a1735d663b80cbd96b394311a37ad63d.txt  \n",
            "  inflating: /content/OIVIS_Lab_3/train/labels/autosave10_10_2012_09_33_24_1_jpg.rf.83b0ae4f4af7994f7807367317b40b6c.txt  \n",
            "  inflating: /content/OIVIS_Lab_3/train/labels/autosave10_10_2012_09_33_45_0_jpg.rf.d3f8882ad58206f073741d82dd5588e2.txt  \n",
            "  inflating: /content/OIVIS_Lab_3/train/labels/autosave10_10_2012_09_33_47_2_jpg.rf.75cad073ff817c72cd9689242d842c4e.txt  \n",
            "  inflating: /content/OIVIS_Lab_3/train/labels/autosave10_10_2012_09_34_15_3_jpg.rf.199ba9fb0023cc5f0e4889226cdf2005.txt  \n",
            "  inflating: /content/OIVIS_Lab_3/train/labels/autosave10_10_2012_09_34_17_1_jpg.rf.8f5d4ecfedcfc84b2caf4750645d6ec5.txt  \n",
            "  inflating: /content/OIVIS_Lab_3/train/labels/autosave10_10_2012_09_34_17_2_jpg.rf.32c9341b3f87670b3072d4508aa7f283.txt  \n",
            "  inflating: /content/OIVIS_Lab_3/train/labels/autosave10_10_2012_09_34_50_2_jpg.rf.e1894b480320395ae1bb22b755f2c8c8.txt  \n",
            "  inflating: /content/OIVIS_Lab_3/train/labels/autosave10_10_2012_09_37_58_2_jpg.rf.7d44a6bef506820391ac9f6eb79de577.txt  \n",
            "  inflating: /content/OIVIS_Lab_3/train/labels/autosave10_10_2012_09_38_16_0_jpg.rf.0239ecc2249eee3677bb0c4ccd6b5a12.txt  \n",
            "  inflating: /content/OIVIS_Lab_3/train/labels/autosave10_10_2012_09_38_16_1_jpg.rf.f58908f8fee8d3998f553c8ce7d1891f.txt  \n",
            "  inflating: /content/OIVIS_Lab_3/train/labels/autosave10_10_2012_09_38_16_2_jpg.rf.b479d6d329d917876f642a87a193fcde.txt  \n",
            "  inflating: /content/OIVIS_Lab_3/train/labels/autosave10_10_2012_09_38_22_0_jpg.rf.2b816037e1f1c6089a97585ec45a2207.txt  \n",
            "  inflating: /content/OIVIS_Lab_3/train/labels/autosave10_10_2012_09_38_58_0_jpg.rf.79f46ebc04afacbdc026b7ea8c2e9dc0.txt  \n",
            "  inflating: /content/OIVIS_Lab_3/train/labels/autosave10_10_2012_09_38_59_2_jpg.rf.ea18a2d370237486b75f5d8c4c99dbff.txt  \n",
            "  inflating: /content/OIVIS_Lab_3/train/labels/autosave10_10_2012_09_39_00_1_jpg.rf.86203dc23a7f14b26c65097b9fed4c9f.txt  \n",
            "  inflating: /content/OIVIS_Lab_3/train/labels/autosave10_10_2012_09_39_00_2_jpg.rf.40b3ac7e154120369da5c62dc94e3f2f.txt  \n",
            "  inflating: /content/OIVIS_Lab_3/train/labels/autosave10_10_2012_09_39_03_0_jpg.rf.5fb728f48caadfe90aafd2ed3c5419ba.txt  \n",
            "  inflating: /content/OIVIS_Lab_3/train/labels/autosave10_10_2012_09_39_38_2_jpg.rf.6b0e0661f8b9a864c27bb9a8a6be63f2.txt  \n",
            "  inflating: /content/OIVIS_Lab_3/train/labels/autosave10_10_2012_09_39_39_2_jpg.rf.ea8e7b77144c50ab72241f1943c92b5d.txt  \n",
            "  inflating: /content/OIVIS_Lab_3/train/labels/autosave10_10_2012_09_39_40_2_jpg.rf.6b8fc0ac58f0845d2a579b2f8e34e3ee.txt  \n",
            "  inflating: /content/OIVIS_Lab_3/train/labels/autosave10_10_2012_09_50_29_2_jpg.rf.10772a17c0db8c27486eaddbca1d0b4b.txt  \n",
            "  inflating: /content/OIVIS_Lab_3/train/labels/autosave10_10_2012_09_50_30_0_jpg.rf.52d77c6c1584ebf9d87b8525b9eff1ad.txt  \n",
            "  inflating: /content/OIVIS_Lab_3/train/labels/autosave10_10_2012_09_50_37_0_jpg.rf.28f82bd7a80dbc24940480c53e638a87.txt  \n",
            "  inflating: /content/OIVIS_Lab_3/train/labels/autosave10_10_2012_09_50_38_1_jpg.rf.e72fcb6fd9a5e2b9c15f49727c3970e1.txt  \n",
            "  inflating: /content/OIVIS_Lab_3/train/labels/autosave10_10_2012_09_51_31_0_jpg.rf.af15a8c972daa24b6d2d1e547d886547.txt  \n",
            "  inflating: /content/OIVIS_Lab_3/train/labels/autosave10_10_2012_09_51_32_0_jpg.rf.0d096f584c69395b3e95efc93beebab4.txt  \n",
            "  inflating: /content/OIVIS_Lab_3/train/labels/autosave10_10_2012_09_51_39_2_jpg.rf.23a1432689bf5f7d07ec357e0a96549e.txt  \n",
            "  inflating: /content/OIVIS_Lab_3/train/labels/autosave10_10_2012_09_52_20_2_jpg.rf.24a16e82207619ef4122dd699e815868.txt  \n",
            "  inflating: /content/OIVIS_Lab_3/train/labels/autosave10_10_2012_09_52_30_2_jpg.rf.fb5e1d01f47440472d1a7d6b7c29066e.txt  \n",
            "  inflating: /content/OIVIS_Lab_3/train/labels/autosave10_10_2012_09_52_54_0_jpg.rf.f8d6795e58d87a3cc691c4eda28f48ef.txt  \n",
            "  inflating: /content/OIVIS_Lab_3/train/labels/autosave10_10_2012_09_54_16_0_jpg.rf.b021afb45d36508d1e3fb2f1c2a2ece5.txt  \n",
            "  inflating: /content/OIVIS_Lab_3/train/labels/autosave10_10_2012_09_54_16_2_jpg.rf.a8757007ebba11dd412ba9ebc1e880e5.txt  \n",
            "  inflating: /content/OIVIS_Lab_3/train/labels/autosave10_10_2012_09_54_22_1_jpg.rf.fc559efe4abc6f4920addd326894c907.txt  \n",
            "  inflating: /content/OIVIS_Lab_3/train/labels/autosave10_10_2012_09_54_50_1_jpg.rf.20c0ada802317e98fe97080075a67cbb.txt  \n",
            "  inflating: /content/OIVIS_Lab_3/train/labels/autosave10_10_2012_09_54_51_0_jpg.rf.153c8967e7844adad9c1d997f8cf10b7.txt  \n",
            "  inflating: /content/OIVIS_Lab_3/train/labels/autosave10_10_2012_09_54_51_1_jpg.rf.9f138fcb136b416e34bfdd116d23a7a8.txt  \n",
            "  inflating: /content/OIVIS_Lab_3/train/labels/autosave10_10_2012_09_54_58_1_jpg.rf.1a35d709265f439bcd25c49481b91fc2.txt  \n",
            "  inflating: /content/OIVIS_Lab_3/train/labels/autosave10_10_2012_09_54_59_0_jpg.rf.55c8846bf0f829b60eab084d90124722.txt  \n",
            "  inflating: /content/OIVIS_Lab_3/train/labels/autosave10_10_2012_09_55_52_1_jpg.rf.b910e1e12f75f7a368ff26d1c19f2b6b.txt  \n",
            "  inflating: /content/OIVIS_Lab_3/train/labels/autosave10_10_2012_09_56_20_0_jpg.rf.e18a9dda363f1efdaa512129143ca519.txt  \n",
            "  inflating: /content/OIVIS_Lab_3/train/labels/autosave10_10_2012_09_56_33_0_jpg.rf.05f858613b48aa6a1814773f2497c4f4.txt  \n",
            "  inflating: /content/OIVIS_Lab_3/train/labels/autosave10_10_2012_09_56_48_1_jpg.rf.60cbda10685a879fe82b01a1da82c42b.txt  \n",
            "  inflating: /content/OIVIS_Lab_3/train/labels/autosave10_10_2012_09_56_50_0_jpg.rf.b81ba501b8634a8baea80bad906bf90d.txt  \n",
            "  inflating: /content/OIVIS_Lab_3/train/labels/autosave10_10_2012_09_56_54_0_jpg.rf.4a2811f5a7ddcd012d6a5f5d2a7c9b32.txt  \n",
            "  inflating: /content/OIVIS_Lab_3/train/labels/autosave10_10_2012_09_56_57_2_jpg.rf.280793d44bbf569c5540e50ea69050bd.txt  \n",
            "  inflating: /content/OIVIS_Lab_3/train/labels/autosave10_10_2012_09_57_06_2_jpg.rf.960abcd909b3bc23711041f2c155d59d.txt  \n",
            "  inflating: /content/OIVIS_Lab_3/train/labels/autosave10_10_2012_09_57_09_2_jpg.rf.c7ea5b14e46b17603785d4ccf700c4f1.txt  \n",
            "  inflating: /content/OIVIS_Lab_3/train/labels/autosave10_10_2012_09_57_12_2_jpg.rf.f987fd48419cb5c36158eb56b04385a3.txt  \n",
            "  inflating: /content/OIVIS_Lab_3/train/labels/autosave10_10_2012_10_00_53_1_jpg.rf.1bef4894b9f250c747b264caae5951ee.txt  \n",
            "  inflating: /content/OIVIS_Lab_3/train/labels/autosave10_10_2012_10_00_54_0_jpg.rf.5cd3e1ea4f0c567551485134f50a26df.txt  \n",
            "  inflating: /content/OIVIS_Lab_3/train/labels/autosave10_10_2012_10_01_05_2_jpg.rf.80569e0a7a44dcb7c56d82e4be484952.txt  \n",
            "  inflating: /content/OIVIS_Lab_3/train/labels/autosave10_10_2012_10_01_57_1_jpg.rf.57abaa3037fc206c33fc1379d97eca57.txt  \n",
            "  inflating: /content/OIVIS_Lab_3/train/labels/autosave10_10_2012_10_02_37_0_jpg.rf.e02b08b36c398fdd4ae8e9e45858d7aa.txt  \n",
            "  inflating: /content/OIVIS_Lab_3/train/labels/autosave10_10_2012_10_02_37_1_jpg.rf.ec9835d2ceb78c8e68ef4235d1ca36c7.txt  \n",
            "  inflating: /content/OIVIS_Lab_3/train/labels/autosave10_10_2012_10_02_37_2_jpg.rf.3bb0b5b442d8f13248a23dacf4e10860.txt  \n",
            "  inflating: /content/OIVIS_Lab_3/train/labels/autosave10_10_2012_10_03_40_1_jpg.rf.e157d54b147cdd7b69efa98668ea3753.txt  \n",
            "  inflating: /content/OIVIS_Lab_3/train/labels/autosave10_10_2012_10_03_40_2_jpg.rf.df1730783029cc90c26fd5027bcd5c6f.txt  \n",
            "  inflating: /content/OIVIS_Lab_3/train/labels/autosave10_10_2012_10_03_41_0_jpg.rf.92196a5c1627ed1bf25a8c968832c029.txt  \n",
            "  inflating: /content/OIVIS_Lab_3/train/labels/autosave10_10_2012_10_04_51_0_jpg.rf.0da2a2b38c7e0d02d46e6a84d4d5c0ff.txt  \n",
            "  inflating: /content/OIVIS_Lab_3/train/labels/autosave10_10_2012_10_05_01_1_jpg.rf.eac1a806ab6869eacc0e10c188029e5c.txt  \n",
            "  inflating: /content/OIVIS_Lab_3/train/labels/autosave10_10_2012_10_05_01_2_jpg.rf.74e7d3467385e921e7b9ecbbe0eaf977.txt  \n",
            "  inflating: /content/OIVIS_Lab_3/train/labels/autosave10_10_2012_10_05_02_2_jpg.rf.3ace9aa50834777744a6d2108eef8e87.txt  \n",
            "  inflating: /content/OIVIS_Lab_3/train/labels/autosave10_10_2012_10_06_12_1_jpg.rf.c9fc21c68f81b47dcb2e25414c624c6c.txt  \n",
            "  inflating: /content/OIVIS_Lab_3/train/labels/autosave10_10_2012_10_06_14_0_jpg.rf.f58764b25c12252a71caed150c11d030.txt  \n",
            "  inflating: /content/OIVIS_Lab_3/train/labels/autosave10_10_2012_10_06_15_0_jpg.rf.7f405d11eafbe238fe3a9f9f11dd5717.txt  \n",
            "  inflating: /content/OIVIS_Lab_3/train/labels/autosave10_10_2012_10_06_23_1_jpg.rf.208ac9039ba7860f259b8a18a50c6135.txt  \n",
            "  inflating: /content/OIVIS_Lab_3/train/labels/autosave10_10_2012_10_06_24_2_jpg.rf.9e4808e0531bf7975fd3769082dde038.txt  \n",
            "  inflating: /content/OIVIS_Lab_3/train/labels/autosave10_10_2012_10_06_26_1_jpg.rf.1b375954e1874dc315ad41b6917e34c8.txt  \n",
            "  inflating: /content/OIVIS_Lab_3/train/labels/autosave10_10_2012_10_06_47_2_jpg.rf.1a8ff06e4cd0befebde649a7e74246e2.txt  \n",
            "  inflating: /content/OIVIS_Lab_3/train/labels/autosave10_10_2012_10_07_15_0_jpg.rf.80f6701b00802d38c9e1ee412bbaa691.txt  \n",
            "  inflating: /content/OIVIS_Lab_3/train/labels/autosave10_10_2012_10_07_15_2_jpg.rf.579003f651b14672d0aab8aeaf1395c5.txt  \n",
            "  inflating: /content/OIVIS_Lab_3/train/labels/autosave10_10_2012_10_08_19_4_jpg.rf.bacc9ce1b57175777dde2d57b168c09f.txt  \n",
            "  inflating: /content/OIVIS_Lab_3/train/labels/autosave10_10_2012_10_08_20_0_jpg.rf.b0837ff91f22288b7681362c10a64f23.txt  \n",
            "  inflating: /content/OIVIS_Lab_3/train/labels/autosave10_10_2012_10_09_06_2_jpg.rf.eb5e3c4d40aad4dbffa215c4ff45aa5e.txt  \n",
            "  inflating: /content/OIVIS_Lab_3/train/labels/autosave10_10_2012_10_09_07_0_jpg.rf.e0946c7d5dc936477f91d0482d59c5ed.txt  \n",
            "  inflating: /content/OIVIS_Lab_3/train/labels/autosave10_10_2012_10_10_01_2_jpg.rf.76c41dc1261d1b0cb6bb476ab5ae5514.txt  \n",
            "  inflating: /content/OIVIS_Lab_3/train/labels/autosave10_10_2012_10_10_01_3_jpg.rf.dbfd68e53c319161fd2c72a9baf04c4b.txt  \n",
            "  inflating: /content/OIVIS_Lab_3/train/labels/autosave10_10_2012_10_10_12_2_jpg.rf.24ccb60d035d5583795d9918ddafca8a.txt  \n",
            "  inflating: /content/OIVIS_Lab_3/train/labels/autosave10_10_2012_10_10_13_0_jpg.rf.182a82ca59d81866a0c81239726342ae.txt  \n",
            "  inflating: /content/OIVIS_Lab_3/train/labels/autosave10_10_2012_10_13_33_0_jpg.rf.faa32e5b1c08501ad0cc3337a7cf5745.txt  \n",
            "  inflating: /content/OIVIS_Lab_3/train/labels/autosave10_10_2012_10_13_43_1_jpg.rf.c6fc1dc47a658c1cbf44569e825ad463.txt  \n",
            "  inflating: /content/OIVIS_Lab_3/train/labels/autosave10_10_2012_10_13_47_2_jpg.rf.bdc48aa1d031d2ad014ad08d47f4984b.txt  \n",
            "  inflating: /content/OIVIS_Lab_3/train/labels/autosave10_10_2012_10_13_50_2_jpg.rf.b042ae2afc7d1f7565c667a0f1ae1d9e.txt  \n",
            "  inflating: /content/OIVIS_Lab_3/train/labels/autosave10_10_2012_10_14_09_1_jpg.rf.c90df5b34bf0549a366d1ab704c62926.txt  \n",
            "  inflating: /content/OIVIS_Lab_3/train/labels/autosave10_10_2012_10_14_16_0_jpg.rf.ca3ee7348db1a91585291acdb087bef4.txt  \n",
            "  inflating: /content/OIVIS_Lab_3/train/labels/autosave10_10_2012_10_15_43_0_jpg.rf.b36a1bc96a840f9a368cba0cd6fbd7e2.txt  \n",
            "  inflating: /content/OIVIS_Lab_3/train/labels/autosave10_10_2012_10_15_44_1_jpg.rf.65558ca46f1967dc78184914dabee3ff.txt  \n",
            "  inflating: /content/OIVIS_Lab_3/train/labels/autosave10_10_2012_10_15_51_2_jpg.rf.a070e76ad370f30c0ad2324ab6cf022d.txt  \n",
            "  inflating: /content/OIVIS_Lab_3/train/labels/autosave10_10_2012_10_15_52_1_jpg.rf.74b691cdbd79c209373f160e8706d355.txt  \n",
            "  inflating: /content/OIVIS_Lab_3/train/labels/autosave10_10_2012_10_15_52_4_jpg.rf.974b9451f3f00bb6d7f93bf71b7e7a7d.txt  \n",
            "  inflating: /content/OIVIS_Lab_3/train/labels/autosave10_10_2012_10_16_12_2_jpg.rf.eaa94606d0d55e43df89dcfb624e8697.txt  \n",
            "  inflating: /content/OIVIS_Lab_3/train/labels/autosave10_10_2012_10_16_13_0_jpg.rf.ac3675657a892251e13e17d8b0a6e720.txt  \n",
            "  inflating: /content/OIVIS_Lab_3/train/labels/autosave10_10_2012_10_16_18_0_jpg.rf.e8b1b566691b9bef279737e45d0f8172.txt  \n",
            "  inflating: /content/OIVIS_Lab_3/train/labels/autosave10_10_2012_10_16_19_1_jpg.rf.cc0e883cca3b45c31de4cb55dd012a58.txt  \n",
            "  inflating: /content/OIVIS_Lab_3/train/labels/autosave10_10_2012_10_17_22_3_jpg.rf.3ff56a29934e2b2a31d12128ec567009.txt  \n",
            "  inflating: /content/OIVIS_Lab_3/train/labels/autosave10_10_2012_10_17_27_1_jpg.rf.95efc87038975c4e40c53594123ed5a5.txt  \n",
            "  inflating: /content/OIVIS_Lab_3/train/labels/autosave10_10_2012_10_17_28_2_jpg.rf.073589ef7431e5e21ebae248653e9d40.txt  \n",
            "  inflating: /content/OIVIS_Lab_3/train/labels/autosave10_10_2012_10_17_29_1_jpg.rf.af15a63d03690cc6667eccab55dae0ab.txt  \n",
            "  inflating: /content/OIVIS_Lab_3/train/labels/autosave10_10_2012_10_18_28_1_jpg.rf.39a2d2a9079ac74bb9365e3532247684.txt  \n",
            "  inflating: /content/OIVIS_Lab_3/train/labels/autosave10_10_2012_10_18_30_1_jpg.rf.b599b080b22244aef8f3f9c0b536a627.txt  \n",
            "  inflating: /content/OIVIS_Lab_3/train/labels/autosave10_10_2012_10_18_35_0_jpg.rf.097487397d6be1cc42595ec5fb905e0b.txt  \n",
            "  inflating: /content/OIVIS_Lab_3/train/labels/autosave10_10_2012_10_19_40_1_jpg.rf.a089c13f082566b9c5c874f8e278ae7c.txt  \n",
            "  inflating: /content/OIVIS_Lab_3/train/labels/autosave10_10_2012_10_20_46_0_jpg.rf.66beb51add5e311c79cdba3c3218e38a.txt  \n",
            "  inflating: /content/OIVIS_Lab_3/train/labels/autosave10_10_2012_10_20_48_2_jpg.rf.90b83a9d9b632ba1f8f3c9ef3aebc549.txt  \n",
            "  inflating: /content/OIVIS_Lab_3/train/labels/autosave10_10_2012_10_21_13_1_jpg.rf.1a7fce9f39524901aeca331da263d518.txt  \n",
            "  inflating: /content/OIVIS_Lab_3/train/labels/autosave10_10_2012_10_21_20_2_jpg.rf.50922b857f7ce08672821da31ec2e15a.txt  \n",
            "  inflating: /content/OIVIS_Lab_3/train/labels/autosave10_10_2012_10_21_49_1_jpg.rf.388332b61fa257d05a8beef1b847026f.txt  \n",
            "  inflating: /content/OIVIS_Lab_3/train/labels/autosave10_10_2012_10_21_51_0_jpg.rf.16110e5d2f499a35439836b6775f0cab.txt  \n",
            "  inflating: /content/OIVIS_Lab_3/train/labels/autosave10_10_2012_10_21_51_1_jpg.rf.eb9b399ebf0b7413e4b3977347971d1f.txt  \n",
            "  inflating: /content/OIVIS_Lab_3/train/labels/autosave10_10_2012_10_21_53_1_jpg.rf.d83c23fc6da54c9e076d83acc53c9bdf.txt  \n",
            "  inflating: /content/OIVIS_Lab_3/train/labels/autosave10_10_2012_10_23_06_0_jpg.rf.a979a9016eb730bfeb2744814383fca9.txt  \n",
            "  inflating: /content/OIVIS_Lab_3/train/labels/autosave10_10_2012_10_23_17_0_jpg.rf.6eaac180ce063640290183dacca8d6d6.txt  \n",
            "  inflating: /content/OIVIS_Lab_3/train/labels/autosave10_10_2012_10_23_52_2_jpg.rf.786c4ded668557b60c1414af6605e117.txt  \n",
            "  inflating: /content/OIVIS_Lab_3/train/labels/autosave10_10_2012_10_23_53_1_jpg.rf.bf178fe53787340cc5c0fdcec335681a.txt  \n",
            "  inflating: /content/OIVIS_Lab_3/train/labels/autosave10_10_2012_10_23_54_1_jpg.rf.887388d6591a3d5b0f5f1a140673da10.txt  \n",
            "  inflating: /content/OIVIS_Lab_3/train/labels/autosave10_10_2012_10_24_23_2_jpg.rf.fe961ae925d9fd84598d9ffc387c2b33.txt  \n",
            "  inflating: /content/OIVIS_Lab_3/train/labels/autosave10_10_2012_10_24_47_2_jpg.rf.83e5622825196fc49c5449d80723d1a8.txt  \n",
            "  inflating: /content/OIVIS_Lab_3/train/labels/autosave10_10_2012_10_24_50_0_jpg.rf.873632231d6da038a885f292095ae49d.txt  \n",
            "  inflating: /content/OIVIS_Lab_3/train/labels/autosave10_10_2012_10_24_50_2_jpg.rf.23b5359c98f2657f66a5ee06c756b157.txt  \n",
            "  inflating: /content/OIVIS_Lab_3/train/labels/autosave10_10_2012_10_25_06_0_jpg.rf.93a1e8a7c54183d78093e9ebd2cc20db.txt  \n",
            "  inflating: /content/OIVIS_Lab_3/train/labels/autosave10_10_2012_10_25_29_2_jpg.rf.76a59cc0431c9929531c5f1e51a18bc3.txt  \n",
            "  inflating: /content/OIVIS_Lab_3/train/labels/autosave10_10_2012_10_25_54_2_jpg.rf.1944be0c8f90b4412769f57cc9e2a210.txt  \n",
            "  inflating: /content/OIVIS_Lab_3/train/labels/autosave10_10_2012_10_25_55_2_jpg.rf.7724e49242ae0172de12663246f78345.txt  \n",
            "  inflating: /content/OIVIS_Lab_3/train/labels/autosave10_10_2012_10_26_02_0_jpg.rf.3995c7f9b86189dbe37b963ffcf64945.txt  \n",
            "  inflating: /content/OIVIS_Lab_3/train/labels/autosave10_10_2012_10_26_02_3_jpg.rf.cd2a8d25147e6c56353966ce3076ded0.txt  \n",
            "  inflating: /content/OIVIS_Lab_3/train/labels/autosave10_10_2012_10_26_20_0_jpg.rf.7457f48133db1a897023e84763d5085b.txt  \n",
            "  inflating: /content/OIVIS_Lab_3/train/labels/autosave10_10_2012_10_26_27_2_jpg.rf.adc6f7781e3dc5242875622921646fb2.txt  \n",
            "  inflating: /content/OIVIS_Lab_3/train/labels/autosave10_10_2012_10_26_36_0_jpg.rf.bf5cec8f5111aa093053ff82ecdf2254.txt  \n",
            "  inflating: /content/OIVIS_Lab_3/train/labels/autosave10_10_2012_10_26_36_1_jpg.rf.7b0afc92819a92111f94ec4d6f2cd686.txt  \n",
            "  inflating: /content/OIVIS_Lab_3/train/labels/autosave10_10_2012_10_27_09_1_jpg.rf.a82f3e461f1bf61e62129efde660d193.txt  \n",
            "  inflating: /content/OIVIS_Lab_3/train/labels/autosave10_10_2012_10_27_19_1_jpg.rf.c7ce441bb8ff4310d18756e792fc6ecd.txt  \n",
            "  inflating: /content/OIVIS_Lab_3/train/labels/autosave10_10_2012_10_27_21_0_jpg.rf.521da2f389e39f6042ee605abedae6d5.txt  \n",
            "  inflating: /content/OIVIS_Lab_3/train/labels/autosave10_10_2012_10_27_22_0_jpg.rf.72a55bbd41721ff874959585e3c1307d.txt  \n",
            "  inflating: /content/OIVIS_Lab_3/train/labels/autosave10_10_2012_10_27_36_1_jpg.rf.5e42e3ab547b1c7485ae1dfb4bc12930.txt  \n",
            "  inflating: /content/OIVIS_Lab_3/train/labels/autosave10_10_2012_10_27_38_4_jpg.rf.ce36ea3c84616106594f30739aeadca8.txt  \n",
            "  inflating: /content/OIVIS_Lab_3/train/labels/autosave10_10_2012_10_28_53_0_jpg.rf.a4acb09de01d4b0b387b3ceae94cf43b.txt  \n",
            "  inflating: /content/OIVIS_Lab_3/train/labels/autosave10_10_2012_10_28_54_0_jpg.rf.9b11d508c9644ce10a245e3832f8ba31.txt  \n",
            "  inflating: /content/OIVIS_Lab_3/train/labels/autosave10_10_2012_10_29_25_1_jpg.rf.c67630f9b73ddded1d9b9ea31bb17ab7.txt  \n",
            "  inflating: /content/OIVIS_Lab_3/train/labels/autosave10_10_2012_10_30_05_4_jpg.rf.2e82546a05b2928b62e1e352857b5754.txt  \n",
            "  inflating: /content/OIVIS_Lab_3/train/labels/autosave10_10_2012_10_30_09_1_jpg.rf.137e6c2e00424d31f54ade9e13aafb63.txt  \n",
            "  inflating: /content/OIVIS_Lab_3/train/labels/autosave10_10_2012_10_30_36_0_jpg.rf.60ea0e556f346783b26f2a64b0095189.txt  \n",
            "  inflating: /content/OIVIS_Lab_3/train/labels/autosave10_10_2012_10_31_27_1_jpg.rf.ce93d80da898d0607429dea9192d9ee6.txt  \n",
            "  inflating: /content/OIVIS_Lab_3/train/labels/autosave10_10_2012_10_32_02_1_jpg.rf.332242897bdaff8458cd6e205639dded.txt  \n",
            "  inflating: /content/OIVIS_Lab_3/train/labels/autosave10_10_2012_10_32_03_1_jpg.rf.1634902d9e60ed6ac5173c475ca2db43.txt  \n",
            "  inflating: /content/OIVIS_Lab_3/train/labels/autosave10_10_2012_10_32_45_1_jpg.rf.6e9c5bc754db415d645b2551c563861e.txt  \n",
            "  inflating: /content/OIVIS_Lab_3/train/labels/autosave10_10_2012_10_32_45_2_jpg.rf.db3b5554944e961a63b6867aae1f1423.txt  \n",
            "  inflating: /content/OIVIS_Lab_3/train/labels/autosave10_10_2012_10_33_27_2_jpg.rf.6c84462424f0fc0b73359b0144944057.txt  \n",
            "  inflating: /content/OIVIS_Lab_3/train/labels/autosave10_10_2012_10_33_29_0_jpg.rf.22057d96e3c0fb9add74fbf7edade69c.txt  \n",
            "  inflating: /content/OIVIS_Lab_3/train/labels/autosave10_10_2012_10_33_50_1_jpg.rf.4b1b0ef53a33f503d1fd07ee84de2d2e.txt  \n",
            "  inflating: /content/OIVIS_Lab_3/train/labels/autosave10_10_2012_10_33_53_1_jpg.rf.9304ecfe434e2f5ad45f1a60a98035fc.txt  \n",
            "  inflating: /content/OIVIS_Lab_3/train/labels/autosave10_10_2012_10_34_48_1_jpg.rf.4973fd5f9e46dc0e115991d300c835ba.txt  \n",
            "  inflating: /content/OIVIS_Lab_3/train/labels/autosave10_10_2012_10_42_31_2_jpg.rf.74359d7f622f6e52e1a3621a7083dd21.txt  \n",
            "  inflating: /content/OIVIS_Lab_3/train/labels/autosave10_10_2012_10_42_34_0_jpg.rf.3b5179d782de27d1944c2997336f0470.txt  \n",
            "  inflating: /content/OIVIS_Lab_3/train/labels/autosave10_10_2012_10_42_47_1_jpg.rf.a4daf6be3d3686767150c0a0f39b4014.txt  \n",
            "  inflating: /content/OIVIS_Lab_3/train/labels/autosave10_10_2012_10_44_39_2_jpg.rf.d3607754cfe56b972d9293ab4729f996.txt  \n",
            "  inflating: /content/OIVIS_Lab_3/train/labels/autosave10_10_2012_10_44_46_1_jpg.rf.e51e21ee0c90945608177ccd668b57e2.txt  \n",
            "  inflating: /content/OIVIS_Lab_3/train/labels/autosave10_10_2012_10_44_58_2_jpg.rf.d565c82a3847b93dfd5465285354713c.txt  \n",
            "  inflating: /content/OIVIS_Lab_3/train/labels/autosave10_10_2012_10_45_17_2_jpg.rf.8196150c2bf6b4a53b021caf244cf656.txt  \n",
            "  inflating: /content/OIVIS_Lab_3/train/labels/autosave10_10_2012_10_45_41_0_jpg.rf.95cf94b33e3f50ef9e247695f1e277a0.txt  \n",
            "  inflating: /content/OIVIS_Lab_3/train/labels/autosave10_10_2012_10_45_42_1_jpg.rf.21f37b453fd0113b647563be3a2707a8.txt  \n",
            "  inflating: /content/OIVIS_Lab_3/train/labels/autosave10_10_2012_10_52_55_2_jpg.rf.9ccfae4cb3bdcb532b6da25cd1420e44.txt  \n",
            "  inflating: /content/OIVIS_Lab_3/train/labels/autosave10_10_2012_11_16_14_1_jpg.rf.970f6347633e968da7ff63ccbb5d83ee.txt  \n",
            "  inflating: /content/OIVIS_Lab_3/train/labels/autosave10_10_2012_11_18_11_1_jpg.rf.1f0d0a8d16163042b7848c10017f9d08.txt  \n",
            "  inflating: /content/OIVIS_Lab_3/train/labels/autosave10_10_2012_11_18_12_2_jpg.rf.440b4007ea76a5b966fecda24a2fbc45.txt  \n",
            "  inflating: /content/OIVIS_Lab_3/train/labels/autosave10_10_2012_11_18_36_2_jpg.rf.2a6f90854c30f14e3259608da400679a.txt  \n",
            "  inflating: /content/OIVIS_Lab_3/train/labels/autosave10_10_2012_11_18_38_0_jpg.rf.c4fe5960bced5a828fc97ca7daf8c6ce.txt  \n",
            "  inflating: /content/OIVIS_Lab_3/train/labels/autosave10_10_2012_11_18_49_2_jpg.rf.8df42856eaab48b878b72b8e3e094ba8.txt  \n",
            "  inflating: /content/OIVIS_Lab_3/train/labels/autosave10_10_2012_11_18_53_2_jpg.rf.864d7c0cce3d5ee33830faaf6016d318.txt  \n",
            "  inflating: /content/OIVIS_Lab_3/train/labels/autosave10_10_2012_11_18_55_3_jpg.rf.c56144ffe03fa67d507f403ac5244aa8.txt  \n",
            "  inflating: /content/OIVIS_Lab_3/train/labels/autosave10_10_2012_11_18_59_0_jpg.rf.99e91a9310dd672313a38c7fe3b71a9e.txt  \n",
            "  inflating: /content/OIVIS_Lab_3/train/labels/autosave10_10_2012_11_19_27_0_jpg.rf.8b65811b71d5c9068fa5d65e2c37c05e.txt  \n",
            "  inflating: /content/OIVIS_Lab_3/train/labels/autosave10_10_2012_11_19_58_1_jpg.rf.3bad6509a1f8ab78fd0cd49e9eaad372.txt  \n",
            "  inflating: /content/OIVIS_Lab_3/train/labels/autosave10_10_2012_11_20_19_0_jpg.rf.44bd1f01160f6e18cd5681fef2bd5f2d.txt  \n",
            "  inflating: /content/OIVIS_Lab_3/train/labels/autosave10_10_2012_11_20_30_0_jpg.rf.698fcddec1280db3274e9e869f2bb3db.txt  \n",
            "  inflating: /content/OIVIS_Lab_3/train/labels/autosave10_10_2012_11_20_34_0_jpg.rf.7f8492682907584965f59d4a8074f884.txt  \n",
            "  inflating: /content/OIVIS_Lab_3/train/labels/autosave10_10_2012_11_20_40_0_jpg.rf.5e9cada9be2d43e7e061a2943f95a876.txt  \n",
            "  inflating: /content/OIVIS_Lab_3/train/labels/autosave10_10_2012_11_20_40_3_jpg.rf.27cce8d52a7f6fb922c54d4d15849a94.txt  \n",
            "  inflating: /content/OIVIS_Lab_3/train/labels/autosave10_10_2012_11_21_07_1_jpg.rf.0cc5503e1e95f983c1cb51ee4b6bb5e1.txt  \n",
            "  inflating: /content/OIVIS_Lab_3/train/labels/autosave10_10_2012_11_21_18_1_jpg.rf.6508136f31b23f8a3fbe9832a50abe14.txt  \n",
            "  inflating: /content/OIVIS_Lab_3/train/labels/autosave10_10_2012_11_21_20_0_jpg.rf.ec7a2745fb0847c750c0dcab6536a34f.txt  \n",
            "  inflating: /content/OIVIS_Lab_3/train/labels/autosave10_10_2012_11_22_07_2_jpg.rf.79cf8fc5a56a8ae881b941b2e763d314.txt  \n",
            "  inflating: /content/OIVIS_Lab_3/train/labels/autosave10_10_2012_11_24_29_3_jpg.rf.dc0132d6e7f746ae1b4bab4a540ebb20.txt  \n",
            "  inflating: /content/OIVIS_Lab_3/train/labels/autosave10_10_2012_11_24_31_0_jpg.rf.7a392d938ede1424a22f9d3e413c3f28.txt  \n",
            "  inflating: /content/OIVIS_Lab_3/train/labels/autosave10_10_2012_11_24_32_0_jpg.rf.502fcf00633437bdf28d530393d1f032.txt  \n",
            "  inflating: /content/OIVIS_Lab_3/train/labels/autosave10_10_2012_11_25_01_1_jpg.rf.eded77c5cb981a0a183a38180b73419b.txt  \n",
            "  inflating: /content/OIVIS_Lab_3/train/labels/autosave10_10_2012_11_25_03_0_jpg.rf.d5c028db9cf09c11e694483619836647.txt  \n",
            "  inflating: /content/OIVIS_Lab_3/train/labels/autosave10_10_2012_11_25_10_2_jpg.rf.a7124530d6a882f9de9f7565fe55e804.txt  \n",
            "  inflating: /content/OIVIS_Lab_3/train/labels/autosave10_10_2012_11_25_34_2_jpg.rf.eae3653c0c4cf406fddb59023d3a3cfc.txt  \n",
            "  inflating: /content/OIVIS_Lab_3/train/labels/autosave10_10_2012_11_25_34_3_jpg.rf.bc8cccf5373762e3fbcf18526e8b29c0.txt  \n",
            "  inflating: /content/OIVIS_Lab_3/train/labels/autosave10_10_2012_11_25_58_2_jpg.rf.df7d94981bacd3fff38f9daa632c7f9c.txt  \n",
            "  inflating: /content/OIVIS_Lab_3/train/labels/autosave10_10_2012_11_25_59_3_jpg.rf.93a510bff4b291f02624a6bdac894689.txt  \n",
            "  inflating: /content/OIVIS_Lab_3/train/labels/autosave10_10_2012_11_26_01_0_jpg.rf.76edeb574817f7c2bf9c05dd45798705.txt  \n",
            "  inflating: /content/OIVIS_Lab_3/train/labels/autosave10_10_2012_11_27_51_0_jpg.rf.22f9dbdcf901e341df0a9559060a799e.txt  \n",
            "  inflating: /content/OIVIS_Lab_3/train/labels/autosave10_10_2012_11_28_50_0_jpg.rf.40426e67fb31928a6641249193a13654.txt  \n",
            "  inflating: /content/OIVIS_Lab_3/train/labels/autosave10_10_2012_11_28_50_2_jpg.rf.41eb77da676723f42a913522dfb29d3f.txt  \n",
            "  inflating: /content/OIVIS_Lab_3/train/labels/autosave10_10_2012_11_28_52_1_jpg.rf.7b962fcde4b4f91ebdd4c78816a4a367.txt  \n",
            "  inflating: /content/OIVIS_Lab_3/train/labels/autosave10_10_2012_11_32_21_1_jpg.rf.00b131d0de67a032dcb7272dcf60bc09.txt  \n",
            "  inflating: /content/OIVIS_Lab_3/train/labels/autosave10_10_2012_11_32_21_2_jpg.rf.48cc0364ddd76c7fcec113f3bbcddab6.txt  \n",
            "  inflating: /content/OIVIS_Lab_3/train/labels/autosave10_10_2012_11_33_21_0_jpg.rf.887ea351ae1e579c6f7538d0c0899205.txt  \n",
            "  inflating: /content/OIVIS_Lab_3/train/labels/autosave10_10_2012_11_33_21_2_jpg.rf.e35d0e25fc139d7f8b9f14dd938c531d.txt  \n",
            "  inflating: /content/OIVIS_Lab_3/train/labels/autosave10_10_2012_11_33_23_3_jpg.rf.92da0408197d2468202f46f0fcce8bdf.txt  \n",
            "  inflating: /content/OIVIS_Lab_3/train/labels/autosave10_10_2012_11_38_47_3_jpg.rf.8963b6996bb967062eb57d33c8b574f3.txt  \n",
            "  inflating: /content/OIVIS_Lab_3/train/labels/autosave10_10_2012_11_38_49_0_jpg.rf.1ac16e048b01629f88c86dd2c91566d0.txt  \n",
            "  inflating: /content/OIVIS_Lab_3/train/labels/autosave10_10_2012_11_38_49_1_jpg.rf.9a3a080be76f2181077415e001d9f503.txt  \n",
            "  inflating: /content/OIVIS_Lab_3/train/labels/autosave10_10_2012_11_39_11_2_jpg.rf.2bc61c3865c573f896a290eab53e1358.txt  \n",
            "  inflating: /content/OIVIS_Lab_3/train/labels/autosave10_10_2012_11_39_12_1_jpg.rf.babcbccba192264315151e42266bb226.txt  \n",
            "  inflating: /content/OIVIS_Lab_3/train/labels/autosave10_10_2012_11_39_13_2_jpg.rf.e55437cd56d6dd0420fc30efe32e3c79.txt  \n",
            "  inflating: /content/OIVIS_Lab_3/train/labels/autosave10_10_2012_11_39_14_1_jpg.rf.0dae2079b8083157ad1a035ecee6bbd7.txt  \n",
            "  inflating: /content/OIVIS_Lab_3/train/labels/autosave10_10_2012_11_39_38_0_jpg.rf.a2202abcfad9b9d28536c0e06678a4f2.txt  \n",
            "  inflating: /content/OIVIS_Lab_3/train/labels/autosave10_10_2012_11_40_04_0_jpg.rf.82072d82f4e10fffd8f1d3f284857369.txt  \n",
            "  inflating: /content/OIVIS_Lab_3/train/labels/autosave10_10_2012_11_40_27_1_jpg.rf.04a8bd422f03bcd77d6559d40c677309.txt  \n",
            "  inflating: /content/OIVIS_Lab_3/train/labels/autosave10_10_2012_11_40_29_0_jpg.rf.2736598bcaacb163005008c84b972420.txt  \n",
            "  inflating: /content/OIVIS_Lab_3/train/labels/autosave10_10_2012_11_40_29_2_jpg.rf.bb28b193e12f15dc8340fe130091426f.txt  \n",
            "  inflating: /content/OIVIS_Lab_3/train/labels/autosave10_10_2012_11_40_30_1_jpg.rf.d7e3077338160fcdf7fb68fc1f572301.txt  \n",
            "  inflating: /content/OIVIS_Lab_3/train/labels/autosave10_10_2012_11_43_08_0_jpg.rf.aeace72b933ef7206c23132f01665b0e.txt  \n",
            "  inflating: /content/OIVIS_Lab_3/train/labels/autosave10_10_2012_12_06_51_0_jpg.rf.b183c98081af9ddfe538e4faffeaeb3b.txt  \n",
            "  inflating: /content/OIVIS_Lab_3/train/labels/autosave10_10_2012_12_06_59_0_jpg.rf.65285587cc29b55a792f76d2e0a86b2e.txt  \n",
            "  inflating: /content/OIVIS_Lab_3/train/labels/autosave10_10_2012_12_12_07_3_jpg.rf.f56c06c138ae4109d0b0b2b65ff8dfd1.txt  \n",
            "  inflating: /content/OIVIS_Lab_3/train/labels/autosave10_10_2012_12_12_10_0_jpg.rf.715f7d204a48606beed90d1e44ed2511.txt  \n",
            "  inflating: /content/OIVIS_Lab_3/train/labels/autosave10_10_2012_12_13_44_1_jpg.rf.53127e33115080b8f37d0af0c87d0356.txt  \n",
            "  inflating: /content/OIVIS_Lab_3/train/labels/autosave10_10_2012_12_14_52_0_jpg.rf.04f0115331d7edc71ba8eb9e0e94cb41.txt  \n",
            "  inflating: /content/OIVIS_Lab_3/train/labels/autosave10_10_2012_12_14_53_0_jpg.rf.e380da9699b45b2e45ec9df2277882b6.txt  \n",
            "  inflating: /content/OIVIS_Lab_3/train/labels/autosave10_10_2012_12_14_53_1_jpg.rf.308966e20f09c83c84b0a0cc5b2f1956.txt  \n",
            "  inflating: /content/OIVIS_Lab_3/train/labels/autosave10_10_2012_12_22_26_2_jpg.rf.53db4df488bb68b9ef9af9290e420957.txt  \n",
            "  inflating: /content/OIVIS_Lab_3/train/labels/autosave10_10_2012_12_23_12_0_jpg.rf.f810dca9499f845e6eeae03a01b7d81a.txt  \n",
            "  inflating: /content/OIVIS_Lab_3/train/labels/autosave10_10_2012_12_24_48_2_jpg.rf.98f2c0edf4619fd2b21653153a1e2687.txt  \n",
            "  inflating: /content/OIVIS_Lab_3/train/labels/autosave10_10_2012_12_24_48_3_jpg.rf.25834f01b20cabe3f0bf6b63ea3e3b5e.txt  \n",
            "  inflating: /content/OIVIS_Lab_3/train/labels/autosave10_10_2012_12_26_13_0_jpg.rf.a5ea27ba6a983e2e61b2f6e44e7fd9c0.txt  \n",
            "  inflating: /content/OIVIS_Lab_3/train/labels/autosave10_10_2012_12_26_22_0_jpg.rf.d41184057a1f2c7c12ff8adb27fedf64.txt  \n",
            "  inflating: /content/OIVIS_Lab_3/train/labels/autosave10_10_2012_12_26_41_2_jpg.rf.edab101b42c6bab25be887a5cbec47e7.txt  \n",
            "  inflating: /content/OIVIS_Lab_3/train/labels/autosave10_10_2012_12_26_42_2_jpg.rf.000236feebc4b3a0798f61e4f9d59971.txt  \n",
            "  inflating: /content/OIVIS_Lab_3/train/labels/autosave10_10_2012_12_36_05_0_jpg.rf.3a2cf30c8481a89d4503452b5007e6d9.txt  \n",
            "  inflating: /content/OIVIS_Lab_3/train/labels/autosave10_10_2012_12_38_18_2_jpg.rf.77ee031e5e3635f0811e0443f9aebefc.txt  \n",
            "  inflating: /content/OIVIS_Lab_3/train/labels/autosave10_10_2012_12_38_18_3_jpg.rf.1e8f1bea9fe253a54d77ea1a4f2f2e9f.txt  \n",
            "  inflating: /content/OIVIS_Lab_3/train/labels/autosave10_10_2012_12_38_19_1_jpg.rf.3b125b0b4f18387cc2553f58a239c86a.txt  \n",
            "  inflating: /content/OIVIS_Lab_3/train/labels/autosave10_10_2012_12_38_19_2_jpg.rf.a728eb13022f5c6340c335cf04fffd02.txt  \n",
            "  inflating: /content/OIVIS_Lab_3/train/labels/autosave10_10_2012_12_38_32_2_jpg.rf.14483946ec8851d2faaa2d37d64e2968.txt  \n",
            "  inflating: /content/OIVIS_Lab_3/train/labels/autosave10_10_2012_12_38_33_2_jpg.rf.2ca9c46f86063f56f61f7a007d22026a.txt  \n",
            "  inflating: /content/OIVIS_Lab_3/train/labels/autosave10_10_2012_12_39_15_0_jpg.rf.0e948b733102aa1ec47ce2b925e43713.txt  \n",
            "  inflating: /content/OIVIS_Lab_3/train/labels/autosave10_10_2012_12_39_17_0_jpg.rf.6600230eb935506df8d39dd77bbfc0dd.txt  \n",
            "  inflating: /content/OIVIS_Lab_3/train/labels/autosave10_10_2012_12_39_24_1_jpg.rf.d53f03b5571780454affeb2ad2f575a4.txt  \n",
            "  inflating: /content/OIVIS_Lab_3/train/labels/autosave10_10_2012_12_39_25_0_jpg.rf.e61e5b45085bc6d33e4d21332389ce10.txt  \n",
            "  inflating: /content/OIVIS_Lab_3/train/labels/autosave10_10_2012_12_39_29_0_jpg.rf.52fcbe3dd8d2f1e12b7b1af5706896e7.txt  \n",
            "  inflating: /content/OIVIS_Lab_3/train/labels/autosave10_10_2012_12_39_37_3_jpg.rf.e6c7b2b7e8383c2ff3f4f0fc61bab292.txt  \n",
            "  inflating: /content/OIVIS_Lab_3/train/labels/autosave10_10_2012_12_39_38_1_jpg.rf.ab95ac0674ca5a1bbf72492626267e6d.txt  \n",
            "  inflating: /content/OIVIS_Lab_3/train/labels/autosave10_10_2012_12_39_53_1_jpg.rf.a44e63958c333212127dcabdec36f7a4.txt  \n",
            "  inflating: /content/OIVIS_Lab_3/train/labels/autosave10_10_2012_12_39_54_1_jpg.rf.bf7b7cfcc827c731543370a38af26d01.txt  \n",
            "  inflating: /content/OIVIS_Lab_3/train/labels/autosave10_10_2012_12_39_55_3_jpg.rf.568c1d0934c79028e13eac0cf2ed9576.txt  \n",
            "  inflating: /content/OIVIS_Lab_3/train/labels/autosave10_10_2012_12_40_13_0_jpg.rf.c944023727987b77d2449be7647152eb.txt  \n",
            "  inflating: /content/OIVIS_Lab_3/train/labels/autosave10_10_2012_12_40_13_1_jpg.rf.2d23e9a0f7dc0cb8aa94c187f7a3a9ab.txt  \n",
            "  inflating: /content/OIVIS_Lab_3/train/labels/autosave10_10_2012_12_40_21_0_jpg.rf.4fe5561a975fd612ba2eafeb5661e591.txt  \n",
            "  inflating: /content/OIVIS_Lab_3/train/labels/autosave10_10_2012_12_40_23_0_jpg.rf.cfd6e575c4b74b90f210423a6d99be7a.txt  \n",
            "  inflating: /content/OIVIS_Lab_3/train/labels/autosave10_10_2012_12_42_02_0_jpg.rf.839e22c1dbf1f05a8a371a3bbc744201.txt  \n",
            "  inflating: /content/OIVIS_Lab_3/train/labels/autosave10_10_2012_12_42_04_2_jpg.rf.7249187ae2b02ae0bcf0f6381bed6ef0.txt  \n",
            "  inflating: /content/OIVIS_Lab_3/train/labels/autosave10_10_2012_12_42_05_1_jpg.rf.e91f481bf83a39565a3ac06dde6db28d.txt  \n",
            "  inflating: /content/OIVIS_Lab_3/train/labels/autosave10_10_2012_12_42_30_1_jpg.rf.7e0c1a3864d6a6420b7e89424dda5f04.txt  \n",
            "  inflating: /content/OIVIS_Lab_3/train/labels/autosave10_10_2012_12_42_52_1_jpg.rf.1109136927da403d2c34d6b82fb2cc2c.txt  \n",
            "  inflating: /content/OIVIS_Lab_3/train/labels/autosave10_10_2012_12_42_52_2_jpg.rf.7017bd6f0f06c0edf081512d1cb1e80e.txt  \n",
            "  inflating: /content/OIVIS_Lab_3/train/labels/autosave10_10_2012_12_43_55_2_jpg.rf.55cfc099101697869a71c2bdd86b30c7.txt  \n",
            "  inflating: /content/OIVIS_Lab_3/train/labels/autosave10_10_2012_12_43_56_1_jpg.rf.bab06ff87844b29a48f9087573e22719.txt  \n",
            "  inflating: /content/OIVIS_Lab_3/train/labels/autosave10_10_2012_12_44_00_0_jpg.rf.0829e0a41e7f0b10311927cfc5c68674.txt  \n",
            "  inflating: /content/OIVIS_Lab_3/train/labels/autosave10_10_2012_12_46_28_0_jpg.rf.30ac7a7dd1934b9dbc2453043408e5ca.txt  \n",
            "  inflating: /content/OIVIS_Lab_3/train/labels/autosave10_10_2012_12_46_29_1_jpg.rf.48253f15845e8bb5f518eaa3f8109888.txt  \n",
            "  inflating: /content/OIVIS_Lab_3/train/labels/autosave10_10_2012_12_46_43_3_jpg.rf.7d8430e1f22e99c450e1133a3fdaad02.txt  \n",
            "  inflating: /content/OIVIS_Lab_3/train/labels/autosave10_10_2012_12_46_47_1_jpg.rf.98c208367ef45c09f217157a3b3a6c7a.txt  \n",
            "  inflating: /content/OIVIS_Lab_3/train/labels/autosave10_10_2012_12_47_11_2_jpg.rf.2f497201e8e27e302b6c67bc6f916d82.txt  \n",
            "  inflating: /content/OIVIS_Lab_3/train/labels/autosave10_10_2012_12_47_36_3_jpg.rf.cd151ebb14f2e6213b6b729d0c8280ce.txt  \n",
            "  inflating: /content/OIVIS_Lab_3/train/labels/autosave10_10_2012_12_47_38_0_jpg.rf.507dcc531ed51e9d524ea1c938713998.txt  \n",
            "  inflating: /content/OIVIS_Lab_3/train/labels/autosave10_10_2012_12_47_42_2_jpg.rf.0f8d5933eaedab735b9f07e2ae78bc61.txt  \n",
            "  inflating: /content/OIVIS_Lab_3/train/labels/autosave10_10_2012_12_47_48_1_jpg.rf.c0ac679d0d31d1d31cccca3ee2448c1d.txt  \n",
            "  inflating: /content/OIVIS_Lab_3/train/labels/autosave10_10_2012_12_48_21_1_jpg.rf.e567c58fc0a18da284cc28039e2ca200.txt  \n",
            "  inflating: /content/OIVIS_Lab_3/train/labels/autosave10_10_2012_12_48_22_2_jpg.rf.09ad4983ef46afe3054064574d754d9a.txt  \n",
            "  inflating: /content/OIVIS_Lab_3/train/labels/autosave10_10_2012_12_49_00_1_jpg.rf.ad0e78658c7e1ce68c38a4543b514bba.txt  \n",
            "  inflating: /content/OIVIS_Lab_3/train/labels/autosave10_10_2012_12_49_36_1_jpg.rf.e3ad586ce4f4f02da61140a78b9ebbc3.txt  \n",
            "  inflating: /content/OIVIS_Lab_3/train/labels/autosave10_10_2012_12_49_52_1_jpg.rf.96808612459f3607b298778a11b15ec8.txt  \n",
            "  inflating: /content/OIVIS_Lab_3/train/labels/autosave10_10_2012_12_49_54_0_jpg.rf.be57ff71b415157a4b83a8657e8580df.txt  \n",
            "  inflating: /content/OIVIS_Lab_3/train/labels/autosave10_10_2012_12_50_08_3_jpg.rf.e6399d6782cf368e278ddcdb4b581b44.txt  \n",
            "  inflating: /content/OIVIS_Lab_3/train/labels/autosave10_10_2012_12_50_09_1_jpg.rf.942164e96c82b3cc89e0adf23f7fc40f.txt  \n",
            "  inflating: /content/OIVIS_Lab_3/train/labels/autosave10_10_2012_12_50_16_2_jpg.rf.1e5010730dfdbfdb5afcc9cf45ec6130.txt  \n",
            "  inflating: /content/OIVIS_Lab_3/train/labels/autosave10_10_2012_12_50_37_1_jpg.rf.fb19daa16c7d9357f24858b137cee23d.txt  \n",
            "  inflating: /content/OIVIS_Lab_3/train/labels/autosave10_10_2012_12_50_37_2_jpg.rf.e4199d2d0250a7c0e7281dc27486d617.txt  \n",
            "  inflating: /content/OIVIS_Lab_3/train/labels/autosave10_10_2012_12_50_38_0_jpg.rf.8284dfcadcebeca737cee606fd77645a.txt  \n",
            "  inflating: /content/OIVIS_Lab_3/train/labels/autosave10_10_2012_12_50_39_3_jpg.rf.cf66d74b477ba6dfbb194df4c0143482.txt  \n",
            "  inflating: /content/OIVIS_Lab_3/train/labels/autosave10_10_2012_12_50_41_3_jpg.rf.82693587cae7a5dd5e6bd72e73845a55.txt  \n",
            "  inflating: /content/OIVIS_Lab_3/train/labels/autosave10_10_2012_12_51_11_0_jpg.rf.2a5f7338e7dfd893fa0a8e3347f8a1a1.txt  \n",
            "  inflating: /content/OIVIS_Lab_3/train/labels/autosave10_10_2012_12_51_11_2_jpg.rf.92c2d07f31e9c9d412951683af5918b5.txt  \n",
            "  inflating: /content/OIVIS_Lab_3/train/labels/autosave10_10_2012_12_52_30_0_jpg.rf.520312236adaf352ad1e9e5e58c8dee4.txt  \n",
            "  inflating: /content/OIVIS_Lab_3/train/labels/autosave10_10_2012_12_52_30_2_jpg.rf.ef37369011dde46f64e3594b7b91141e.txt  \n",
            "  inflating: /content/OIVIS_Lab_3/train/labels/autosave10_10_2012_12_54_30_3_jpg.rf.af749f1f20ab847ce6910ca59feffd41.txt  \n",
            "  inflating: /content/OIVIS_Lab_3/train/labels/autosave10_10_2012_12_54_34_0_jpg.rf.abc8f927154128e6ed390c8ae30276d1.txt  \n",
            "  inflating: /content/OIVIS_Lab_3/train/labels/autosave10_10_2012_12_54_35_0_jpg.rf.16f0396c80980f9c0bf83d3d304f9a19.txt  \n",
            "  inflating: /content/OIVIS_Lab_3/train/labels/autosave10_10_2012_12_55_50_0_jpg.rf.f7e4df4e72db487baecb0dc6cc0559b2.txt  \n",
            "  inflating: /content/OIVIS_Lab_3/train/labels/autosave10_10_2012_12_55_50_3_jpg.rf.a67ba99143b887c5049088195f34bbea.txt  \n",
            "  inflating: /content/OIVIS_Lab_3/train/labels/autosave10_10_2012_12_55_52_1_jpg.rf.1d4b2491c960d8a8101364a7654f3cb0.txt  \n",
            "  inflating: /content/OIVIS_Lab_3/train/labels/autosave10_10_2012_12_55_56_0_jpg.rf.fcba6cd41a056bb7b33bb44439320107.txt  \n",
            "  inflating: /content/OIVIS_Lab_3/train/labels/autosave10_10_2012_12_55_56_1_jpg.rf.9cd229afe20c8cd1d41440029243ab71.txt  \n",
            "  inflating: /content/OIVIS_Lab_3/train/labels/autosave10_10_2012_12_56_26_0_jpg.rf.79f7c0ffdeea9d04a3144a3cd0835382.txt  \n",
            "  inflating: /content/OIVIS_Lab_3/train/labels/autosave10_10_2012_12_56_30_0_jpg.rf.1f8cd7b6f16046f3666f5d4b866aaddb.txt  \n",
            "  inflating: /content/OIVIS_Lab_3/train/labels/autosave10_10_2012_12_56_42_0_jpg.rf.ca77c287eab0ad017691efbcbb568dd7.txt  \n",
            "  inflating: /content/OIVIS_Lab_3/train/labels/autosave10_10_2012_12_57_23_0_jpg.rf.4282060576b10e63abe8a1052a8cad16.txt  \n",
            "  inflating: /content/OIVIS_Lab_3/train/labels/autosave10_10_2012_12_57_26_1_jpg.rf.643d4e7dcefb42896ae962794fade07e.txt  \n",
            "  inflating: /content/OIVIS_Lab_3/train/labels/autosave10_10_2012_12_57_28_0_jpg.rf.5172fb065c00403f956831b9be9e409d.txt  \n",
            "  inflating: /content/OIVIS_Lab_3/train/labels/autosave10_10_2012_12_58_04_0_jpg.rf.597d50517d4592162dbb9af8a1ce6457.txt  \n",
            "  inflating: /content/OIVIS_Lab_3/train/labels/autosave10_10_2012_12_58_43_1_jpg.rf.3bd292a5261521ae3f89534f243851ec.txt  \n",
            "  inflating: /content/OIVIS_Lab_3/train/labels/autosave10_10_2012_12_58_45_0_jpg.rf.5b98c44c2721ab655ce515760fc09397.txt  \n",
            "  inflating: /content/OIVIS_Lab_3/train/labels/autosave10_10_2012_12_58_45_1_jpg.rf.af83eb974b9d79270ce7fab6810d524b.txt  \n",
            "  inflating: /content/OIVIS_Lab_3/train/labels/autosave10_10_2012_12_58_47_0_jpg.rf.f344a13dd75c0f22c6c95afa86897a79.txt  \n",
            "  inflating: /content/OIVIS_Lab_3/train/labels/autosave10_10_2012_12_58_48_2_jpg.rf.825c4ca50472f063ff5d9b177fd911e4.txt  \n",
            "  inflating: /content/OIVIS_Lab_3/train/labels/autosave10_10_2012_12_59_07_1_jpg.rf.4792e3657a1cff9098eb59428d489d76.txt  \n",
            "  inflating: /content/OIVIS_Lab_3/train/labels/autosave10_10_2012_12_59_29_2_jpg.rf.4329acc928fb1496ba8e877fe78dedc7.txt  \n",
            "  inflating: /content/OIVIS_Lab_3/train/labels/autosave10_10_2012_12_59_30_0_jpg.rf.e907aac42e68c59989370cf13ec2718b.txt  \n",
            "  inflating: /content/OIVIS_Lab_3/train/labels/autosave10_10_2012_12_59_30_2_jpg.rf.ca6e16655881cfae54f4b76174661a94.txt  \n",
            "  inflating: /content/OIVIS_Lab_3/train/labels/autosave10_10_2012_12_59_50_1_jpg.rf.3341ca02f36f0e658940bb527c317772.txt  \n",
            "  inflating: /content/OIVIS_Lab_3/train/labels/autosave10_10_2012_13_00_38_1_jpg.rf.041059b8dbd69e63b35f1600a1c2c51a.txt  \n",
            "  inflating: /content/OIVIS_Lab_3/train/labels/autosave10_10_2012_13_00_38_3_jpg.rf.96f89575633c309e1cb1636f8bd3cefa.txt  \n",
            "  inflating: /content/OIVIS_Lab_3/train/labels/autosave10_10_2012_13_00_42_0_jpg.rf.aec474802648745e0661ebf049458ecf.txt  \n",
            "  inflating: /content/OIVIS_Lab_3/train/labels/autosave10_10_2012_13_00_44_1_jpg.rf.943847c495b7e37f24067f6c20f2cf01.txt  \n",
            "  inflating: /content/OIVIS_Lab_3/train/labels/autosave10_10_2012_13_01_31_2_jpg.rf.99d758f4b26173f93b45024bf4b0a115.txt  \n",
            "  inflating: /content/OIVIS_Lab_3/train/labels/autosave10_10_2012_13_01_46_0_jpg.rf.767f89d49f61d299b7ac6c14646afbf9.txt  \n",
            "  inflating: /content/OIVIS_Lab_3/train/labels/autosave10_10_2012_13_02_18_2_jpg.rf.e1449e792318152c176ea64b01acf1d2.txt  \n",
            "  inflating: /content/OIVIS_Lab_3/train/labels/autosave10_10_2012_13_02_31_2_jpg.rf.9ac89cdd07c373bb9b6272cea87cd7b8.txt  \n",
            "  inflating: /content/OIVIS_Lab_3/train/labels/autosave10_10_2012_13_03_08_2_jpg.rf.26cc41abb66dde2c7c68ebec2a7e9971.txt  \n",
            "  inflating: /content/OIVIS_Lab_3/train/labels/autosave10_10_2012_13_03_48_1_jpg.rf.62f301330ed284718deab7ce0b2ed4de.txt  \n",
            "  inflating: /content/OIVIS_Lab_3/train/labels/autosave10_10_2012_13_03_52_0_jpg.rf.92684839c47fe53d16130b02ee9cb7bb.txt  \n",
            "  inflating: /content/OIVIS_Lab_3/train/labels/autosave10_10_2012_13_03_52_2_jpg.rf.a301bd78c99c2102400bc035350a37e0.txt  \n",
            "  inflating: /content/OIVIS_Lab_3/train/labels/autosave10_10_2012_13_03_54_2_jpg.rf.754c3cba201ed879c10848ca73bc881e.txt  \n",
            "  inflating: /content/OIVIS_Lab_3/train/labels/autosave10_10_2012_13_04_08_2_jpg.rf.cdd74855c4461220a1cfac5862f062a4.txt  \n",
            "  inflating: /content/OIVIS_Lab_3/train/labels/autosave10_10_2012_13_04_18_2_jpg.rf.3ace0fcd0e9e6bf6e6140265e204f1b7.txt  \n",
            "  inflating: /content/OIVIS_Lab_3/train/labels/autosave10_10_2012_13_05_00_0_jpg.rf.0d0ed464592e4ee4de6db9d21c6ab39d.txt  \n",
            "  inflating: /content/OIVIS_Lab_3/train/labels/autosave10_10_2012_13_05_29_1_jpg.rf.65bd554058f1c97981ccde4f2b81ea9f.txt  \n",
            "  inflating: /content/OIVIS_Lab_3/train/labels/autosave10_10_2012_13_05_29_2_jpg.rf.3b8c749029f7a83054a9983b92b06a63.txt  \n",
            "  inflating: /content/OIVIS_Lab_3/train/labels/autosave10_10_2012_13_05_30_0_jpg.rf.12a12fc3d5814f8def59f70a94b84859.txt  \n",
            "  inflating: /content/OIVIS_Lab_3/train/labels/autosave10_10_2012_13_06_11_2_jpg.rf.dbb60c5ab90a83b1e8da8cc9d937d452.txt  \n",
            "  inflating: /content/OIVIS_Lab_3/train/labels/autosave10_10_2012_13_06_12_1_jpg.rf.bd64bf1c9077adc2c07d078498f0915f.txt  \n",
            "  inflating: /content/OIVIS_Lab_3/train/labels/autosave10_10_2012_13_06_12_2_jpg.rf.f2a497aea77694253086375d4f179c5a.txt  \n",
            "  inflating: /content/OIVIS_Lab_3/train/labels/autosave10_10_2012_13_06_12_3_jpg.rf.f82f702bc4c6c1a3b7c0e58cac4c1116.txt  \n",
            "  inflating: /content/OIVIS_Lab_3/train/labels/autosave10_10_2012_13_06_14_1_jpg.rf.242b24331a9512f7877bdd69d436b6cf.txt  \n",
            "  inflating: /content/OIVIS_Lab_3/train/labels/autosave10_10_2012_13_06_14_2_jpg.rf.f6700eb1fa358aa717aca0a17c1cda75.txt  \n",
            "  inflating: /content/OIVIS_Lab_3/train/labels/autosave10_10_2012_13_06_15_3_jpg.rf.c6b142c3225cc3d349f98aa6bf9ffb06.txt  \n",
            "  inflating: /content/OIVIS_Lab_3/train/labels/autosave10_10_2012_13_06_17_1_jpg.rf.ad487943d82ade3ab531e552bab24ce3.txt  \n",
            "  inflating: /content/OIVIS_Lab_3/train/labels/autosave10_10_2012_13_06_21_1_jpg.rf.aada9112211a75700542792d6eceb7b4.txt  \n",
            "  inflating: /content/OIVIS_Lab_3/train/labels/autosave10_10_2012_13_06_50_1_jpg.rf.fa5465ceebc0988cb2fec39c99f974ab.txt  \n",
            "  inflating: /content/OIVIS_Lab_3/train/labels/autosave10_10_2012_13_07_07_2_jpg.rf.1559e2be6e393ced6216024f94a9e9fe.txt  \n",
            "  inflating: /content/OIVIS_Lab_3/train/labels/autosave10_10_2012_13_07_08_1_jpg.rf.7cdf90905efebd5483f83c0cd33da2a3.txt  \n",
            "  inflating: /content/OIVIS_Lab_3/train/labels/autosave10_10_2012_13_07_57_1_jpg.rf.357bc1916cbf365b7008fb47f888327c.txt  \n",
            "  inflating: /content/OIVIS_Lab_3/train/labels/autosave10_10_2012_13_07_58_1_jpg.rf.51d989d62b20f975d981a0b03b561b21.txt  \n",
            "  inflating: /content/OIVIS_Lab_3/train/labels/autosave10_10_2012_13_08_37_0_jpg.rf.9d401e2a7af60a9bc081d2898c69fcd9.txt  \n",
            "  inflating: /content/OIVIS_Lab_3/train/labels/autosave10_10_2012_13_08_42_2_jpg.rf.64a428e95aa0a194aefe72a094535553.txt  \n",
            "  inflating: /content/OIVIS_Lab_3/train/labels/autosave10_10_2012_13_08_43_2_jpg.rf.15021a15f69bbd403b5697a05096d92c.txt  \n",
            "  inflating: /content/OIVIS_Lab_3/train/labels/autosave10_10_2012_13_09_20_3_jpg.rf.e0e1a23b247ff32fe22be10dc0ba3b4e.txt  \n",
            "  inflating: /content/OIVIS_Lab_3/train/labels/autosave10_10_2012_13_09_44_3_jpg.rf.8951cf9a370f7006c7a8e2c20746011e.txt  \n",
            "  inflating: /content/OIVIS_Lab_3/train/labels/autosave10_10_2012_13_09_56_1_jpg.rf.72614a019eea58fbe1fbf2cd59284d3e.txt  \n",
            "  inflating: /content/OIVIS_Lab_3/train/labels/autosave10_10_2012_13_09_57_3_jpg.rf.72c64d1931520901ebe29c576c9699f5.txt  \n",
            "  inflating: /content/OIVIS_Lab_3/train/labels/autosave10_10_2012_13_10_12_1_jpg.rf.a3e62f77647919a61119a6fd52784c0d.txt  \n",
            "  inflating: /content/OIVIS_Lab_3/train/labels/autosave10_10_2012_13_10_24_1_jpg.rf.d338e6948c054d8ac848f22bf5c90436.txt  \n",
            "  inflating: /content/OIVIS_Lab_3/train/labels/autosave10_10_2012_13_10_26_0_jpg.rf.4629356e8840f702f6a4d094d75d57ed.txt  \n",
            "  inflating: /content/OIVIS_Lab_3/train/labels/autosave10_10_2012_13_10_29_0_jpg.rf.c6a07a73799ed05d06df7cb7389e1e77.txt  \n",
            "  inflating: /content/OIVIS_Lab_3/train/labels/autosave10_10_2012_13_11_07_2_jpg.rf.1e65acc4607402154f503dce424ee966.txt  \n",
            "  inflating: /content/OIVIS_Lab_3/train/labels/autosave10_10_2012_13_11_09_1_jpg.rf.85784fed01118a5eb1498c8e29169487.txt  \n",
            "  inflating: /content/OIVIS_Lab_3/train/labels/autosave10_10_2012_13_11_09_3_jpg.rf.645615e84ed1126106e5cd05ade7cf49.txt  \n",
            "  inflating: /content/OIVIS_Lab_3/train/labels/autosave10_10_2012_13_11_10_1_jpg.rf.1a88ca7558d168eeb7df9dbbb9f82ce7.txt  \n",
            "  inflating: /content/OIVIS_Lab_3/train/labels/autosave10_10_2012_13_12_17_0_jpg.rf.955ca25301ed44be9435ac7360b600a1.txt  \n",
            "  inflating: /content/OIVIS_Lab_3/train/labels/autosave10_10_2012_13_12_18_1_jpg.rf.94b29a6176de93c3c3f5be03a6d43d37.txt  \n",
            "  inflating: /content/OIVIS_Lab_3/train/labels/autosave10_10_2012_13_12_38_0_jpg.rf.32b2939ff42b38e79b90df1a94c1776c.txt  \n",
            "  inflating: /content/OIVIS_Lab_3/train/labels/autosave10_10_2012_13_13_06_3_jpg.rf.7450c98a9000eb91fc784c094abf8d8d.txt  \n",
            "  inflating: /content/OIVIS_Lab_3/train/labels/autosave10_10_2012_13_13_08_1_jpg.rf.7ac0471caceb2d5fe6bcb8d10aa40d06.txt  \n",
            "  inflating: /content/OIVIS_Lab_3/train/labels/autosave10_10_2012_13_13_52_1_jpg.rf.3a8119213e4ca2fa1a6ea0efd315b632.txt  \n",
            "  inflating: /content/OIVIS_Lab_3/train/labels/autosave10_10_2012_13_14_01_0_jpg.rf.be4c9ffdc133c0a033ece89309fbd345.txt  \n",
            "  inflating: /content/OIVIS_Lab_3/train/labels/autosave10_10_2012_13_14_39_0_jpg.rf.33ef39680e22246a92d676e6c99b084d.txt  \n",
            "  inflating: /content/OIVIS_Lab_3/train/labels/autosave10_10_2012_13_14_39_1_jpg.rf.88c5643b3da872bb4015d52d6324f9c0.txt  \n",
            "  inflating: /content/OIVIS_Lab_3/train/labels/autosave10_10_2012_13_14_40_2_jpg.rf.62ed74ac6b38e01332bf4c225ba49d18.txt  \n",
            "  inflating: /content/OIVIS_Lab_3/train/labels/autosave10_10_2012_13_14_44_1_jpg.rf.bd36fd737ba215763d34630f9568bc66.txt  \n",
            "  inflating: /content/OIVIS_Lab_3/train/labels/autosave10_10_2012_13_14_46_0_jpg.rf.8fdd2ee98014f00809c8ceb00c2990c7.txt  \n",
            "  inflating: /content/OIVIS_Lab_3/train/labels/autosave10_10_2012_13_14_46_2_jpg.rf.64d7e66608a45311c9689c1e8b195b05.txt  \n",
            "  inflating: /content/OIVIS_Lab_3/train/labels/autosave10_10_2012_13_14_53_2_jpg.rf.339fd6a21250cadc264e160b03081ff8.txt  \n",
            "  inflating: /content/OIVIS_Lab_3/train/labels/autosave10_10_2012_13_15_08_1_jpg.rf.1c6c9361e64c1cc792953bda366af50e.txt  \n",
            "  inflating: /content/OIVIS_Lab_3/train/labels/autosave10_10_2012_13_15_18_0_jpg.rf.b25ba48819bbf3ed0528e6d72f776096.txt  \n",
            "  inflating: /content/OIVIS_Lab_3/train/labels/autosave10_10_2012_13_15_57_1_jpg.rf.5df6db59d231bef9f90b116423d95a6f.txt  \n",
            "  inflating: /content/OIVIS_Lab_3/train/labels/autosave10_10_2012_13_16_20_0_jpg.rf.b739e02458545cf8106e836fe6fc356e.txt  \n",
            "  inflating: /content/OIVIS_Lab_3/train/labels/autosave10_10_2012_13_16_28_1_jpg.rf.67b0080a5f68e70b93652bee79426fc0.txt  \n",
            "  inflating: /content/OIVIS_Lab_3/train/labels/autosave10_10_2012_13_17_04_0_jpg.rf.399a36610111f83f056ee33eb025e5f7.txt  \n",
            "  inflating: /content/OIVIS_Lab_3/train/labels/autosave10_10_2012_13_17_09_1_jpg.rf.2e43b9f50ddbad3e646031b73d1e77ba.txt  \n",
            "  inflating: /content/OIVIS_Lab_3/train/labels/autosave10_10_2012_13_17_17_3_jpg.rf.c804d107d6694368019a675248cc8773.txt  \n",
            "  inflating: /content/OIVIS_Lab_3/train/labels/autosave10_10_2012_13_17_30_1_jpg.rf.bde259cea5230f0bdd244bd8d73b6f6b.txt  \n",
            "  inflating: /content/OIVIS_Lab_3/train/labels/autosave10_10_2012_13_17_36_1_jpg.rf.7d6b02a69e113514fc82d67219392d6f.txt  \n",
            "  inflating: /content/OIVIS_Lab_3/train/labels/autosave10_10_2012_13_17_44_0_jpg.rf.b0af9de70313284471bdb50a7e33a511.txt  \n",
            "  inflating: /content/OIVIS_Lab_3/train/labels/autosave10_10_2012_13_17_59_2_jpg.rf.d2084f58ef77384b90a517195f8ba416.txt  \n",
            "  inflating: /content/OIVIS_Lab_3/train/labels/autosave10_10_2012_13_17_59_3_jpg.rf.a63d588f9bd777604c1251f5999a454d.txt  \n",
            "  inflating: /content/OIVIS_Lab_3/train/labels/autosave10_10_2012_13_18_07_0_jpg.rf.ed2a255e74ecba40bb259c0209534d09.txt  \n",
            "  inflating: /content/OIVIS_Lab_3/train/labels/autosave10_10_2012_13_18_25_0_jpg.rf.533104229d14732a83dfb1f1df3e6566.txt  \n",
            "  inflating: /content/OIVIS_Lab_3/train/labels/autosave10_10_2012_13_18_28_1_jpg.rf.215922567597f95879cc358189717afb.txt  \n",
            "  inflating: /content/OIVIS_Lab_3/train/labels/autosave10_10_2012_13_18_32_2_jpg.rf.c35b1d89e4c35aeb5278551ea50aefc6.txt  \n",
            "  inflating: /content/OIVIS_Lab_3/train/labels/autosave10_10_2012_13_18_33_1_jpg.rf.e9676a505c02ad8a86f6192c3f36988b.txt  \n",
            "  inflating: /content/OIVIS_Lab_3/train/labels/autosave10_10_2012_13_19_09_1_jpg.rf.babc45529a489b8ee8f9df3dbc1b89fb.txt  \n",
            "  inflating: /content/OIVIS_Lab_3/train/labels/autosave10_10_2012_13_19_34_1_jpg.rf.6b49fe28b320efb97e0b36b3717b18eb.txt  \n",
            "  inflating: /content/OIVIS_Lab_3/train/labels/autosave10_10_2012_13_19_42_0_jpg.rf.57202344ed3d6533b1e48abaec4155e6.txt  \n",
            "  inflating: /content/OIVIS_Lab_3/train/labels/autosave10_10_2012_13_21_25_2_jpg.rf.86440134b01f5a42c70e684703d95d97.txt  \n",
            "  inflating: /content/OIVIS_Lab_3/train/labels/autosave10_10_2012_13_21_25_4_jpg.rf.d356bdab2a0b782f01f86d52971e2190.txt  \n",
            "  inflating: /content/OIVIS_Lab_3/train/labels/autosave10_10_2012_13_21_26_1_jpg.rf.7c192fec42285a5737700925444a13a2.txt  \n",
            "  inflating: /content/OIVIS_Lab_3/train/labels/autosave10_10_2012_13_21_27_1_jpg.rf.253395e271333d7dad9fc68f5e820c97.txt  \n",
            "  inflating: /content/OIVIS_Lab_3/train/labels/autosave10_10_2012_13_21_53_1_jpg.rf.ca81f89f671e852b6188ded5084d4949.txt  \n",
            "  inflating: /content/OIVIS_Lab_3/train/labels/autosave10_10_2012_13_22_27_1_jpg.rf.1cfba74b5fc0d5219c8439125be176d0.txt  \n",
            "  inflating: /content/OIVIS_Lab_3/train/labels/autosave10_10_2012_13_23_56_1_jpg.rf.5614a3b9459b0b6cf1bb1dec77d9a4e1.txt  \n",
            "  inflating: /content/OIVIS_Lab_3/train/labels/autosave10_10_2012_13_24_08_3_jpg.rf.d800f0b397a786a31d8900a05904d7e8.txt  \n",
            "  inflating: /content/OIVIS_Lab_3/train/labels/autosave10_10_2012_13_24_09_0_jpg.rf.300da6e090c9aaf3515abb8733a688dc.txt  \n",
            "  inflating: /content/OIVIS_Lab_3/train/labels/autosave10_10_2012_13_24_10_0_jpg.rf.62c3a432a0bae2000d458f525fe77489.txt  \n",
            "  inflating: /content/OIVIS_Lab_3/train/labels/autosave10_10_2012_13_25_56_1_jpg.rf.9c36ee3250f05666d6b30fade2b13f62.txt  \n",
            "  inflating: /content/OIVIS_Lab_3/train/labels/autosave10_10_2012_13_25_56_3_jpg.rf.f2f99b65483ee6879d4604cf1b63b22d.txt  \n",
            "  inflating: /content/OIVIS_Lab_3/train/labels/autosave10_10_2012_13_25_59_0_jpg.rf.c3204c8842cf3641877ef628bcaf109c.txt  \n",
            "  inflating: /content/OIVIS_Lab_3/train/labels/autosave10_10_2012_13_27_54_3_jpg.rf.2d7e0143392939f561ef70fd4e5a88f3.txt  \n",
            "  inflating: /content/OIVIS_Lab_3/train/labels/autosave10_10_2012_13_27_56_1_jpg.rf.aa0dc48185e9f3d3bc963b77b05e4b1c.txt  \n",
            "  inflating: /content/OIVIS_Lab_3/train/labels/autosave10_10_2012_13_30_12_1_jpg.rf.f1e6942509137d8b0eb4878e3e300e28.txt  \n",
            "  inflating: /content/OIVIS_Lab_3/train/labels/autosave10_10_2012_13_30_14_3_jpg.rf.d5cf7837132c336df5425fb398645eea.txt  \n",
            "  inflating: /content/OIVIS_Lab_3/train/labels/autosave10_10_2012_13_31_05_0_jpg.rf.a62c78bf2e26eb1ea8247441e57d5e48.txt  \n",
            "  inflating: /content/OIVIS_Lab_3/train/labels/autosave10_10_2012_13_31_12_3_jpg.rf.99e4ca74d18d330d00aee8ab73fa7fc5.txt  \n",
            "  inflating: /content/OIVIS_Lab_3/train/labels/autosave10_10_2012_13_31_16_3_jpg.rf.eebc39bd58dc219c6e59fadf7eb7d9cf.txt  \n",
            "  inflating: /content/OIVIS_Lab_3/train/labels/autosave10_10_2012_13_31_17_0_jpg.rf.f4fb78b8dcec096c7382111684c3d476.txt  \n",
            "  inflating: /content/OIVIS_Lab_3/train/labels/autosave10_10_2012_13_31_19_1_jpg.rf.99e4ca59a1c289b8a46d053c386dbd5f.txt  \n",
            "  inflating: /content/OIVIS_Lab_3/train/labels/autosave10_10_2012_13_31_22_2_jpg.rf.354eff638986de8e64eed32358308c58.txt  \n",
            "  inflating: /content/OIVIS_Lab_3/train/labels/autosave10_10_2012_13_35_00_4_jpg.rf.f014ad8b4bdccb9367b592bd37e1fb1b.txt  \n",
            "  inflating: /content/OIVIS_Lab_3/train/labels/autosave10_10_2012_13_35_01_1_jpg.rf.e53a4f00e8f460733995c29c48063d72.txt  \n",
            "  inflating: /content/OIVIS_Lab_3/train/labels/autosave10_10_2012_13_35_08_2_jpg.rf.e274d39d7668582587e87f27f0b5e8db.txt  \n",
            "  inflating: /content/OIVIS_Lab_3/train/labels/autosave10_10_2012_13_50_03_2_jpg.rf.c5e390cf5ee9a95341e2f5cbb9390e67.txt  \n",
            "  inflating: /content/OIVIS_Lab_3/train/labels/autosave10_10_2012_13_50_31_0_jpg.rf.d9665eb67ed8a221d40543085c619cb1.txt  \n",
            "  inflating: /content/OIVIS_Lab_3/train/labels/autosave10_10_2012_13_50_32_0_jpg.rf.79f8921179c74d3089797fa560b1f915.txt  \n",
            "  inflating: /content/OIVIS_Lab_3/train/labels/autosave10_10_2012_13_50_34_2_jpg.rf.1ce0389ad5cdcefcc42d152b0f03dba7.txt  \n",
            "  inflating: /content/OIVIS_Lab_3/train/labels/autosave10_10_2012_13_50_38_0_jpg.rf.c0ad37cd06fe45b610b74d0cf0a644f6.txt  \n",
            "  inflating: /content/OIVIS_Lab_3/train/labels/autosave10_10_2012_13_52_27_0_jpg.rf.ea7436e3808b093b8994d2c64bfb9aad.txt  \n",
            "  inflating: /content/OIVIS_Lab_3/train/labels/autosave10_10_2012_13_52_29_0_jpg.rf.f539dbc3fe4fb2c5531904c882d0a4c6.txt  \n",
            "  inflating: /content/OIVIS_Lab_3/train/labels/autosave10_10_2012_13_52_33_2_jpg.rf.919b6539c6aa69f34e0bff479c0c7ef4.txt  \n",
            "  inflating: /content/OIVIS_Lab_3/train/labels/autosave10_10_2012_13_52_39_0_jpg.rf.8e74c1d0179dffc72cbbd80dfa39c8dc.txt  \n",
            "  inflating: /content/OIVIS_Lab_3/train/labels/autosave10_10_2012_13_53_14_3_jpg.rf.ac09a0455e5c1f4f8688f54089a24223.txt  \n",
            "  inflating: /content/OIVIS_Lab_3/train/labels/autosave10_10_2012_13_54_51_3_jpg.rf.0b403c2f69367d4271d9bb2dcc806786.txt  \n",
            "  inflating: /content/OIVIS_Lab_3/train/labels/autosave10_10_2012_13_54_56_0_jpg.rf.572e86d7f809d34bf54fbad0178c3f08.txt  \n",
            "  inflating: /content/OIVIS_Lab_3/train/labels/autosave10_10_2012_13_54_58_0_jpg.rf.51540279b9a34375d30b4d7c2e054687.txt  \n",
            "  inflating: /content/OIVIS_Lab_3/train/labels/autosave10_10_2012_13_55_26_0_jpg.rf.9400886917024d5473ba3ef2fb08261c.txt  \n",
            "  inflating: /content/OIVIS_Lab_3/train/labels/autosave10_10_2012_13_55_26_3_jpg.rf.02de11623ee1717ef9657a657fb62ac7.txt  \n",
            "  inflating: /content/OIVIS_Lab_3/train/labels/autosave10_10_2012_13_55_30_2_jpg.rf.47ffe415cd9ede03a65a38911212f7c0.txt  \n",
            "  inflating: /content/OIVIS_Lab_3/train/labels/autosave10_10_2012_13_55_32_0_jpg.rf.99e1ccc6ccceacac22463e0ce992cac3.txt  \n",
            "  inflating: /content/OIVIS_Lab_3/train/labels/autosave10_10_2012_13_55_40_1_jpg.rf.2183897e03a879ecef7ac0cc39190eba.txt  \n",
            "  inflating: /content/OIVIS_Lab_3/train/labels/autosave10_10_2012_14_01_53_1_jpg.rf.a9187d5ae4ce92d9fa80a543edaec968.txt  \n",
            "  inflating: /content/OIVIS_Lab_3/train/labels/autosave10_10_2012_14_01_54_2_jpg.rf.13c8757ea51627b116735346cd8f09ae.txt  \n",
            "  inflating: /content/OIVIS_Lab_3/train/labels/autosave10_10_2012_14_01_59_0_jpg.rf.562dd687f185eba8bd3f782afa3b5536.txt  \n",
            "  inflating: /content/OIVIS_Lab_3/train/labels/autosave10_10_2012_14_02_46_1_jpg.rf.02ecd583382c605c0f5edab02317617d.txt  \n",
            "  inflating: /content/OIVIS_Lab_3/train/labels/autosave10_10_2012_14_03_01_2_jpg.rf.2c2b4b537cd8b51da779e717894cd76d.txt  \n",
            "  inflating: /content/OIVIS_Lab_3/train/labels/autosave10_10_2012_14_03_03_0_jpg.rf.4a3d2c96d364a47b9520f80478ddcba8.txt  \n",
            "  inflating: /content/OIVIS_Lab_3/train/labels/autosave10_10_2012_14_08_14_1_jpg.rf.5373597b519a8e99e31d38e687e97699.txt  \n",
            "  inflating: /content/OIVIS_Lab_3/train/labels/autosave10_10_2012_14_08_16_1_jpg.rf.0c1600f720a1a3aedb8c901f7fa36c8c.txt  \n",
            "  inflating: /content/OIVIS_Lab_3/train/labels/autosave10_10_2012_14_08_27_0_jpg.rf.ba607811f10decfad324492227530d6d.txt  \n",
            "  inflating: /content/OIVIS_Lab_3/train/labels/autosave10_10_2012_14_08_29_0_jpg.rf.a6d4fa4e79ea1b4e057ddf12a0329338.txt  \n",
            "  inflating: /content/OIVIS_Lab_3/train/labels/autosave10_10_2012_14_08_31_0_jpg.rf.46bc2fc5aea00a8955ec3ba2a68e723e.txt  \n",
            "  inflating: /content/OIVIS_Lab_3/train/labels/autosave10_10_2012_14_08_33_0_jpg.rf.8b0b1fa0552c45eb511c7bc4a4941bc8.txt  \n",
            "  inflating: /content/OIVIS_Lab_3/train/labels/autosave10_10_2012_14_08_56_0_jpg.rf.a8d805b3c0081400c8ae5811ab080a02.txt  \n",
            "  inflating: /content/OIVIS_Lab_3/train/labels/autosave10_10_2012_14_09_07_0_jpg.rf.413d395a9b7025af4dca06fc03f62c6c.txt  \n",
            "  inflating: /content/OIVIS_Lab_3/train/labels/autosave10_10_2012_14_09_50_1_jpg.rf.19ee6c593ac8c863dac345fdfa2aec53.txt  \n",
            "  inflating: /content/OIVIS_Lab_3/train/labels/autosave10_10_2012_14_10_36_0_jpg.rf.87a4146a47a9a3e0f742868ea6217f65.txt  \n",
            "  inflating: /content/OIVIS_Lab_3/train/labels/autosave10_10_2012_14_11_31_2_jpg.rf.be20b0b0ba86ee112b7ff199b0e6cbd2.txt  \n",
            "  inflating: /content/OIVIS_Lab_3/train/labels/autosave10_10_2012_14_11_33_1_jpg.rf.2b8c6fa090ce721e525d2ce72baa825c.txt  \n",
            "  inflating: /content/OIVIS_Lab_3/train/labels/autosave10_10_2012_14_11_59_0_jpg.rf.6b8285dd0766213c450595f241500a8e.txt  \n",
            "  inflating: /content/OIVIS_Lab_3/train/labels/autosave10_10_2012_14_12_05_0_jpg.rf.5f8dbc7d0288d427874a252e2a748353.txt  \n",
            "  inflating: /content/OIVIS_Lab_3/train/labels/autosave10_10_2012_14_12_20_0_jpg.rf.95d9ef6d51b48656390e6bee155e5cf2.txt  \n",
            "  inflating: /content/OIVIS_Lab_3/train/labels/autosave10_10_2012_14_12_47_1_jpg.rf.a80749c49966d706c34d354a02923dff.txt  \n",
            "  inflating: /content/OIVIS_Lab_3/train/labels/autosave10_10_2012_14_12_47_2_jpg.rf.69b7ef5d0160dbda7bb1a0fd50620074.txt  \n",
            "  inflating: /content/OIVIS_Lab_3/train/labels/autosave10_10_2012_14_13_22_2_jpg.rf.02a3a31b2077e3d0d19c1873afa85d87.txt  \n",
            "  inflating: /content/OIVIS_Lab_3/train/labels/autosave10_10_2012_14_13_23_0_jpg.rf.ef8546710d1e92206781772866f6c0b6.txt  \n",
            "  inflating: /content/OIVIS_Lab_3/train/labels/autosave10_10_2012_14_13_24_1_jpg.rf.36093c22afd0d048693bf43e91a96f80.txt  \n",
            "  inflating: /content/OIVIS_Lab_3/train/labels/autosave10_10_2012_14_14_03_0_jpg.rf.a6abc860e0261ac6c1872f0012f459b2.txt  \n",
            "  inflating: /content/OIVIS_Lab_3/train/labels/autosave10_10_2012_14_14_06_0_jpg.rf.f9330e0b03cf037a5f5e80d41ced13aa.txt  \n",
            "  inflating: /content/OIVIS_Lab_3/train/labels/autosave10_10_2012_14_14_10_1_jpg.rf.e1f3a3a867072401f58a018151735c87.txt  \n",
            "  inflating: /content/OIVIS_Lab_3/train/labels/autosave10_10_2012_14_14_30_0_jpg.rf.1fbfe9333a65405480dd472d038ecf3b.txt  \n",
            "  inflating: /content/OIVIS_Lab_3/train/labels/autosave10_10_2012_14_14_30_1_jpg.rf.77978a7e3d7994b916f9ca1d73234e66.txt  \n",
            "  inflating: /content/OIVIS_Lab_3/train/labels/autosave10_10_2012_14_14_34_1_jpg.rf.6559f0bff26abfb30641e19ab1d5cc71.txt  \n",
            "  inflating: /content/OIVIS_Lab_3/train/labels/autosave10_10_2012_14_14_37_0_jpg.rf.dbfd0843eafd8cdcbb36847297c12ac5.txt  \n",
            "  inflating: /content/OIVIS_Lab_3/train/labels/autosave10_10_2012_14_21_03_3_jpg.rf.1851ba43fdabb7bc81356bc098ba07f1.txt  \n",
            "  inflating: /content/OIVIS_Lab_3/train/labels/autosave10_10_2012_14_21_22_3_jpg.rf.fc15c14258bcf1ab1d87ce0581a330b5.txt  \n",
            "  inflating: /content/OIVIS_Lab_3/train/labels/autosave10_10_2012_14_21_34_1_jpg.rf.097da1c4a70dc9c34e573219e848aab4.txt  \n",
            "  inflating: /content/OIVIS_Lab_3/train/labels/autosave10_10_2012_14_22_20_0_jpg.rf.21c6ca43ad635babc4c723458b6e644d.txt  \n",
            "  inflating: /content/OIVIS_Lab_3/train/labels/autosave10_10_2012_14_22_30_1_jpg.rf.1a95e2f43409a1ad1a26b698614e9016.txt  \n",
            "  inflating: /content/OIVIS_Lab_3/train/labels/autosave10_10_2012_14_23_10_0_jpg.rf.469d655ba13fe383dbf875a930096900.txt  \n",
            "  inflating: /content/OIVIS_Lab_3/train/labels/autosave10_10_2012_14_23_10_1_jpg.rf.17790b92e1ce01411ea40046670d7480.txt  \n",
            "  inflating: /content/OIVIS_Lab_3/train/labels/autosave10_10_2012_14_23_10_3_jpg.rf.8ed817fd7f1c24784dbbbd77377da07e.txt  \n",
            "  inflating: /content/OIVIS_Lab_3/train/labels/autosave10_10_2012_14_23_13_0_jpg.rf.0a5d31254d931aa776f06ef4fdaa72b4.txt  \n",
            "  inflating: /content/OIVIS_Lab_3/train/labels/autosave10_10_2012_14_23_15_0_jpg.rf.ab8e1aa43b99e5940d8fecbb96a6bbf4.txt  \n",
            "  inflating: /content/OIVIS_Lab_3/train/labels/autosave10_10_2012_14_23_15_1_jpg.rf.2be3949fb8e532c23774c165d7acad70.txt  \n",
            "  inflating: /content/OIVIS_Lab_3/train/labels/autosave10_10_2012_14_23_18_3_jpg.rf.db645db9df6238bfd9bf929b4eb90e44.txt  \n",
            "  inflating: /content/OIVIS_Lab_3/train/labels/autosave10_10_2012_14_23_26_0_jpg.rf.dd6fe30852ed387d09e53dec0202ec47.txt  \n",
            "  inflating: /content/OIVIS_Lab_3/train/labels/autosave10_10_2012_14_23_37_1_jpg.rf.a05d35270f30d3f41e61e5cc20e34bd6.txt  \n",
            "  inflating: /content/OIVIS_Lab_3/train/labels/autosave10_10_2012_14_24_36_0_jpg.rf.91ea9904f6f283cc0cc7a8603c13e662.txt  \n",
            "  inflating: /content/OIVIS_Lab_3/train/labels/autosave10_10_2012_14_24_42_2_jpg.rf.e5db7ee08f893d615603bd32150125d9.txt  \n",
            "  inflating: /content/OIVIS_Lab_3/train/labels/autosave10_10_2012_14_24_43_0_jpg.rf.5b0714a7d013755f1ca3221273f5bdf7.txt  \n",
            "  inflating: /content/OIVIS_Lab_3/train/labels/autosave10_10_2012_14_24_44_2_jpg.rf.7bb35556162bf6907f11261052be43c1.txt  \n",
            "  inflating: /content/OIVIS_Lab_3/train/labels/autosave10_10_2012_14_28_27_2_jpg.rf.c48bffd37825256a0de36492898dd33e.txt  \n",
            "  inflating: /content/OIVIS_Lab_3/train/labels/autosave10_10_2012_14_29_48_0_jpg.rf.a8e3e56e6984392baa27e6c4d90dcdd5.txt  \n",
            "  inflating: /content/OIVIS_Lab_3/train/labels/autosave10_10_2012_14_29_48_3_jpg.rf.13432d84a06e32bfa375cd69e013841f.txt  \n",
            "  inflating: /content/OIVIS_Lab_3/train/labels/autosave10_10_2012_14_37_06_0_jpg.rf.98b1564bef61af96ff50ba6c633ec4f6.txt  \n",
            "  inflating: /content/OIVIS_Lab_3/train/labels/autosave10_10_2012_14_38_03_2_jpg.rf.876cbb181e958bcaa9022be73f7fe79f.txt  \n",
            "  inflating: /content/OIVIS_Lab_3/train/labels/autosave10_10_2012_14_38_05_0_jpg.rf.b602a64172657fd1985981a8e01429ed.txt  \n",
            "  inflating: /content/OIVIS_Lab_3/train/labels/autosave10_10_2012_14_40_03_1_jpg.rf.c4c5ea00244706d3b15deeb5a10bd2b6.txt  \n",
            "  inflating: /content/OIVIS_Lab_3/train/labels/autosave10_10_2012_14_41_47_3_jpg.rf.0ef23eadee81bba1d409e6c2da31fe6d.txt  \n",
            "  inflating: /content/OIVIS_Lab_3/train/labels/autosave10_10_2012_14_41_48_0_jpg.rf.049248709009604f84d4902f6ed24377.txt  \n",
            "  inflating: /content/OIVIS_Lab_3/train/labels/autosave10_10_2012_14_41_49_0_jpg.rf.167742e23f33a5233a48107f0c8adcd3.txt  \n",
            "  inflating: /content/OIVIS_Lab_3/train/labels/autosave10_10_2012_14_42_25_0_jpg.rf.3572e5d184d2e90b71754cb083dd620b.txt  \n",
            "  inflating: /content/OIVIS_Lab_3/train/labels/autosave10_10_2012_14_46_21_1_jpg.rf.0dd21448be90e2bad0469ff439b80efc.txt  \n",
            "  inflating: /content/OIVIS_Lab_3/train/labels/autosave10_10_2012_14_46_56_0_jpg.rf.68a99928f7140118c61156e32e0f8340.txt  \n",
            "  inflating: /content/OIVIS_Lab_3/train/labels/autosave10_10_2012_14_46_58_2_jpg.rf.2abe62c93e9a4116dae3a8f2cbf5ad5a.txt  \n",
            "  inflating: /content/OIVIS_Lab_3/train/labels/autosave10_10_2012_14_48_31_3_jpg.rf.d006e50716777d671837cea650370a78.txt  \n",
            "  inflating: /content/OIVIS_Lab_3/train/labels/autosave10_10_2012_14_48_46_0_jpg.rf.57468f6010696653d37a35aef58295de.txt  \n",
            "  inflating: /content/OIVIS_Lab_3/train/labels/autosave10_10_2012_14_48_46_2_jpg.rf.c3f98043dbe6c73e77be6395fef71ae4.txt  \n",
            "  inflating: /content/OIVIS_Lab_3/train/labels/autosave10_10_2012_14_48_48_1_jpg.rf.b8952e14703653224b8c5514964bfd0b.txt  \n",
            "  inflating: /content/OIVIS_Lab_3/train/labels/autosave10_10_2012_14_48_50_0_jpg.rf.b9aa9e3b5ce89fa898ef08bf17f0b643.txt  \n",
            "  inflating: /content/OIVIS_Lab_3/train/labels/autosave10_10_2012_14_49_01_0_jpg.rf.9bc31cd92d57c431bca79ebecb41b66a.txt  \n",
            "  inflating: /content/OIVIS_Lab_3/train/labels/autosave10_10_2012_14_49_57_0_jpg.rf.d8657682434376e22f79aac968ef342d.txt  \n",
            "  inflating: /content/OIVIS_Lab_3/train/labels/autosave10_10_2012_14_49_57_1_jpg.rf.93dcc03b72d8fd86108d2f133b3d7960.txt  \n",
            "  inflating: /content/OIVIS_Lab_3/train/labels/autosave10_10_2012_14_50_34_0_jpg.rf.e12ef4203511f3f3228ba3dd650fc1e8.txt  \n",
            "  inflating: /content/OIVIS_Lab_3/train/labels/autosave10_10_2012_15_16_22_0_jpg.rf.87cd57d6f13aa76df98daf98c5446ef3.txt  \n",
            "  inflating: /content/OIVIS_Lab_3/train/labels/autosave10_10_2012_15_18_43_0_jpg.rf.a4a5f16d674448ccd78e3a4f4e883bae.txt  \n",
            "  inflating: /content/OIVIS_Lab_3/train/labels/autosave10_10_2012_15_18_51_0_jpg.rf.e64f0391d1c91eff99e792d724a8d0b8.txt  \n",
            "  inflating: /content/OIVIS_Lab_3/train/labels/autosave10_10_2012_15_18_59_2_jpg.rf.b5b2262c2e4be7a0c215003a8c9850e3.txt  \n",
            "  inflating: /content/OIVIS_Lab_3/train/labels/autosave13_04_2013_09_38_08_4_jpg.rf.5949fe4736361380bffd505994ad5e4e.txt  \n",
            "  inflating: /content/OIVIS_Lab_3/train/labels/autosave13_04_2013_09_38_28_3_jpg.rf.ac87ea8fa9e9bc3771a0a796e69b9aa2.txt  \n",
            "  inflating: /content/OIVIS_Lab_3/train/labels/autosave13_04_2013_09_38_34_0_jpg.rf.6132ab6c3ef0d141d74e405dba9bb3c5.txt  \n",
            "  inflating: /content/OIVIS_Lab_3/train/labels/autosave13_04_2013_09_38_34_1_jpg.rf.4d357006ab7d4beaea4d9fda21eadbe7.txt  \n",
            "  inflating: /content/OIVIS_Lab_3/train/labels/autosave13_04_2013_09_39_09_3_jpg.rf.0e46cfe0841896c84def55e8089bd89f.txt  \n",
            "  inflating: /content/OIVIS_Lab_3/train/labels/autosave13_04_2013_09_39_50_0_jpg.rf.2c792817bee55d2ddb0b2c7c21cd18ce.txt  \n",
            "  inflating: /content/OIVIS_Lab_3/train/labels/autosave13_04_2013_09_39_52_0_jpg.rf.e143e38ea00af67a359f0e2721ef013f.txt  \n",
            "  inflating: /content/OIVIS_Lab_3/train/labels/autosave13_04_2013_09_40_06_0_jpg.rf.0977c8c7761b28f7e9e6604500528a21.txt  \n",
            "  inflating: /content/OIVIS_Lab_3/train/labels/autosave13_04_2013_09_40_13_0_jpg.rf.83db18da2707719a2df3a7c8da82883a.txt  \n",
            "  inflating: /content/OIVIS_Lab_3/train/labels/autosave13_04_2013_09_40_22_1_jpg.rf.4756c093fb9cfc208c6f9f89a293d43e.txt  \n",
            "  inflating: /content/OIVIS_Lab_3/train/labels/autosave13_04_2013_09_40_22_3_jpg.rf.02c6dba947e55aa07af6f2fc85f827f9.txt  \n",
            "  inflating: /content/OIVIS_Lab_3/train/labels/autosave13_04_2013_09_40_24_2_jpg.rf.5116e3778ad0acf333cc3cb1d7d82d91.txt  \n",
            "  inflating: /content/OIVIS_Lab_3/train/labels/autosave13_04_2013_09_40_26_1_jpg.rf.c4c4c3bb8bd6645308412bf629e6e480.txt  \n",
            "  inflating: /content/OIVIS_Lab_3/train/labels/autosave13_04_2013_09_40_28_0_jpg.rf.adc19fb27f489e9f800d3529f0696969.txt  \n",
            "  inflating: /content/OIVIS_Lab_3/train/labels/autosave13_04_2013_09_40_28_2_jpg.rf.f9e01d98e7f722f60cc5e4822980ce5b.txt  \n",
            "  inflating: /content/OIVIS_Lab_3/train/labels/autosave13_04_2013_09_40_40_1_jpg.rf.6d65c61505f71daaf5b46b02201ea6ea.txt  \n",
            "  inflating: /content/OIVIS_Lab_3/train/labels/autosave13_04_2013_09_40_43_0_jpg.rf.49abbef3ae82bbc5020928775656ab00.txt  \n",
            "  inflating: /content/OIVIS_Lab_3/train/labels/autosave13_04_2013_09_40_50_1_jpg.rf.356e40c963ece65586e46fe57f08b1cc.txt  \n",
            "  inflating: /content/OIVIS_Lab_3/train/labels/autosave13_04_2013_09_41_20_1_jpg.rf.6cbeb8aeba76bb274f32d159218d82f6.txt  \n",
            "  inflating: /content/OIVIS_Lab_3/train/labels/autosave13_04_2013_09_41_20_3_jpg.rf.91b849f6e03996840c56d92b37e93eda.txt  \n",
            "  inflating: /content/OIVIS_Lab_3/train/labels/autosave13_04_2013_09_41_33_2_jpg.rf.43eeefdb5f682b77649b220959aa572b.txt  \n",
            "  inflating: /content/OIVIS_Lab_3/train/labels/autosave13_04_2013_09_42_10_0_jpg.rf.131a4089f9037b6272d5086d6df10b0e.txt  \n",
            "  inflating: /content/OIVIS_Lab_3/train/labels/autosave13_04_2013_09_42_16_0_jpg.rf.21630bf3c74c4c427cdd5fe497c4af80.txt  \n",
            "  inflating: /content/OIVIS_Lab_3/train/labels/autosave13_04_2013_09_42_45_0_jpg.rf.12068db407ef1c1db0c46baaf8e70528.txt  \n",
            "  inflating: /content/OIVIS_Lab_3/train/labels/autosave13_04_2013_09_42_49_1_jpg.rf.f4942b892f72724599f8b1158b8f02d1.txt  \n",
            "  inflating: /content/OIVIS_Lab_3/train/labels/autosave13_04_2013_09_42_51_1_jpg.rf.0a3fd4679b4f9363a72cd3166112eaa5.txt  \n",
            "  inflating: /content/OIVIS_Lab_3/train/labels/autosave13_04_2013_09_43_24_2_jpg.rf.aca378bef47e1a834486fda0243d5cc7.txt  \n",
            "  inflating: /content/OIVIS_Lab_3/train/labels/autosave13_04_2013_09_43_28_3_jpg.rf.caeb687404401ba0820b51b821f546a6.txt  \n",
            "  inflating: /content/OIVIS_Lab_3/train/labels/autosave13_04_2013_09_43_30_1_jpg.rf.9d545a405c51414e2e83f9262e54f082.txt  \n",
            "  inflating: /content/OIVIS_Lab_3/train/labels/autosave13_04_2013_09_43_30_2_jpg.rf.6a02f8f669565a27e072c312c1b31a1c.txt  \n",
            "  inflating: /content/OIVIS_Lab_3/train/labels/autosave13_04_2013_09_43_33_0_jpg.rf.8243f997eef7b22c176f3c195a922b32.txt  \n",
            "  inflating: /content/OIVIS_Lab_3/train/labels/autosave13_04_2013_09_43_33_2_jpg.rf.833b5d51cbc5ef9e76e239763fc67fe9.txt  \n",
            "  inflating: /content/OIVIS_Lab_3/train/labels/autosave13_04_2013_09_43_36_0_jpg.rf.fd8e45fa538231668705c1f3b05e5300.txt  \n",
            "  inflating: /content/OIVIS_Lab_3/train/labels/autosave13_04_2013_09_44_05_1_jpg.rf.4992bcb5dece50a3bec1911ef53710b6.txt  \n",
            "  inflating: /content/OIVIS_Lab_3/train/labels/autosave13_04_2013_09_44_06_0_jpg.rf.d911352ba53b58dc0edb96962ee104c0.txt  \n",
            "  inflating: /content/OIVIS_Lab_3/train/labels/autosave13_04_2013_09_44_17_0_jpg.rf.55cd8092b7e688c95e045b568aac4c7f.txt  \n",
            "  inflating: /content/OIVIS_Lab_3/train/labels/autosave13_04_2013_09_44_21_0_jpg.rf.4c649a531d4df0118137be96e14093d5.txt  \n",
            "  inflating: /content/OIVIS_Lab_3/train/labels/autosave13_04_2013_09_44_23_3_jpg.rf.2d739edf36e650e53a72141cabd3053e.txt  \n",
            "  inflating: /content/OIVIS_Lab_3/train/labels/autosave13_04_2013_09_44_29_0_jpg.rf.d2a1756fd373a7f15711497340830726.txt  \n",
            "  inflating: /content/OIVIS_Lab_3/train/labels/autosave13_04_2013_09_44_39_1_jpg.rf.92b042bd5f63bf8b753429bb04dc8c22.txt  \n",
            "  inflating: /content/OIVIS_Lab_3/train/labels/autosave13_04_2013_09_44_46_0_jpg.rf.01f77ed7f48cffa03b0fe993760013ba.txt  \n",
            "  inflating: /content/OIVIS_Lab_3/train/labels/autosave13_04_2013_09_44_46_1_jpg.rf.6384f84160a6485160d0e85948ab4823.txt  \n",
            "  inflating: /content/OIVIS_Lab_3/train/labels/autosave13_04_2013_09_44_49_0_jpg.rf.b5c2f5952c9c8f3a77c7163f8614bf59.txt  \n",
            "  inflating: /content/OIVIS_Lab_3/train/labels/autosave13_04_2013_09_44_54_1_jpg.rf.d5ca77396761af9c4157eef610ff98ca.txt  \n",
            "  inflating: /content/OIVIS_Lab_3/train/labels/autosave13_04_2013_09_44_56_0_jpg.rf.2651b9712ad521986e02f98a1bc571cf.txt  \n",
            "  inflating: /content/OIVIS_Lab_3/train/labels/autosave13_04_2013_09_45_41_2_jpg.rf.3929bae88889c293706afea7037d3406.txt  \n",
            "  inflating: /content/OIVIS_Lab_3/train/labels/autosave13_04_2013_09_45_53_0_jpg.rf.ab8f2a1def3e4cfbda4b51c242d60527.txt  \n",
            "  inflating: /content/OIVIS_Lab_3/train/labels/autosave13_04_2013_09_45_55_2_jpg.rf.f12c228d3199a574456e35c6f4261d87.txt  \n",
            "  inflating: /content/OIVIS_Lab_3/train/labels/autosave13_04_2013_09_45_55_3_jpg.rf.7abc4e84d9b09ee2db4c50453d5bbb57.txt  \n",
            "  inflating: /content/OIVIS_Lab_3/train/labels/autosave13_04_2013_09_45_59_0_jpg.rf.c1368011baedca0114aa0a00e2e9728f.txt  \n",
            "  inflating: /content/OIVIS_Lab_3/train/labels/autosave13_04_2013_09_45_59_2_jpg.rf.2be3738e2ca5688bf1d49c7ac14cf87d.txt  \n",
            "  inflating: /content/OIVIS_Lab_3/train/labels/autosave13_04_2013_09_46_01_2_jpg.rf.d93fb12f81b822a3d6fd4874bbe032ea.txt  \n",
            "  inflating: /content/OIVIS_Lab_3/train/labels/autosave13_04_2013_09_46_11_1_jpg.rf.c20dfbf0664cb4f149885426f778e71d.txt  \n",
            "  inflating: /content/OIVIS_Lab_3/train/labels/autosave13_04_2013_09_46_13_0_jpg.rf.9236b7fed14f2059d8e4b85f092f6863.txt  \n",
            "  inflating: /content/OIVIS_Lab_3/train/labels/autosave13_04_2013_09_46_44_0_jpg.rf.111b9b78f4e81c4344bc63e320988854.txt  \n",
            "  inflating: /content/OIVIS_Lab_3/train/labels/autosave13_04_2013_09_46_45_2_jpg.rf.f58c54f6daebbb96e0033141d3de436c.txt  \n",
            "  inflating: /content/OIVIS_Lab_3/train/labels/autosave13_04_2013_09_46_48_2_jpg.rf.87a31eae71798aa02c61772e5bd711e9.txt  \n",
            "  inflating: /content/OIVIS_Lab_3/train/labels/autosave13_04_2013_09_46_57_2_jpg.rf.b14a3155df38c9a10923a4f539e84a88.txt  \n",
            "  inflating: /content/OIVIS_Lab_3/train/labels/autosave13_04_2013_09_47_21_1_jpg.rf.3294aa882f6d10da28ff38881f5bfced.txt  \n",
            "  inflating: /content/OIVIS_Lab_3/train/labels/autosave13_04_2013_09_47_21_3_jpg.rf.150be5b80735cc62b8cd3c5eb329f676.txt  \n",
            "  inflating: /content/OIVIS_Lab_3/train/labels/autosave13_04_2013_09_47_23_0_jpg.rf.300a760b59bb29546f3816011e192920.txt  \n",
            "  inflating: /content/OIVIS_Lab_3/train/labels/autosave13_04_2013_09_47_25_3_jpg.rf.34fa0cea3f8bcbcba426f9deb9ae0e50.txt  \n",
            "  inflating: /content/OIVIS_Lab_3/train/labels/autosave13_04_2013_09_47_30_0_jpg.rf.08441992daba6f311e7f4111939b9ec7.txt  \n",
            "  inflating: /content/OIVIS_Lab_3/train/labels/autosave13_04_2013_09_47_33_0_jpg.rf.674e017b7746547dd7fca98f045a406f.txt  \n",
            "  inflating: /content/OIVIS_Lab_3/train/labels/autosave13_04_2013_09_47_48_2_jpg.rf.df77b2618d92de0901271cab6cde182c.txt  \n",
            "  inflating: /content/OIVIS_Lab_3/train/labels/autosave13_04_2013_09_47_59_0_jpg.rf.dca07002b8a5c5a2b679859b3c13989a.txt  \n",
            "  inflating: /content/OIVIS_Lab_3/train/labels/autosave13_04_2013_09_48_01_2_jpg.rf.ca2e3687f3525e49a78972a12c3534bb.txt  \n",
            "  inflating: /content/OIVIS_Lab_3/train/labels/autosave13_04_2013_09_48_29_1_jpg.rf.ba24b6f6d6d4a239fcf62866e94edc56.txt  \n",
            "  inflating: /content/OIVIS_Lab_3/train/labels/autosave13_04_2013_09_48_30_2_jpg.rf.78c50ce5514f3a38dd10a25cbbef779b.txt  \n",
            "  inflating: /content/OIVIS_Lab_3/train/labels/autosave13_04_2013_09_48_31_1_jpg.rf.896009b26bd751cbd7237b635c2f0648.txt  \n",
            "  inflating: /content/OIVIS_Lab_3/train/labels/autosave13_04_2013_09_48_32_2_jpg.rf.354a785dbb2110214913bd870cd8951d.txt  \n",
            "  inflating: /content/OIVIS_Lab_3/train/labels/autosave13_04_2013_09_49_01_0_jpg.rf.886619bc9a52f35da10ce1761f89a060.txt  \n",
            "  inflating: /content/OIVIS_Lab_3/train/labels/autosave13_04_2013_09_49_02_1_jpg.rf.e078bd5ed39e37d9b9f1ca82d4fa84d8.txt  \n",
            "  inflating: /content/OIVIS_Lab_3/train/labels/autosave13_04_2013_09_49_34_1_jpg.rf.47e560be52e99652bbba7dda7a589067.txt  \n",
            "  inflating: /content/OIVIS_Lab_3/train/labels/autosave13_04_2013_09_49_39_0_jpg.rf.fedfbcf977a9ef7bba46d6dc4831b25c.txt  \n",
            "  inflating: /content/OIVIS_Lab_3/train/labels/autosave13_04_2013_09_49_42_1_jpg.rf.e53951749e09a2a4cc02582c6fa95401.txt  \n",
            "  inflating: /content/OIVIS_Lab_3/train/labels/autosave13_04_2013_09_49_42_2_jpg.rf.c17165f3fa4c4c5edab6b196dfb1c26b.txt  \n",
            "  inflating: /content/OIVIS_Lab_3/train/labels/autosave13_04_2013_09_50_00_2_jpg.rf.23a22e40391b31ade9815f72227ea8de.txt  \n",
            "  inflating: /content/OIVIS_Lab_3/train/labels/autosave13_04_2013_09_50_19_0_jpg.rf.96bda8f4b76dd0e5a335420ca549081e.txt  \n",
            "  inflating: /content/OIVIS_Lab_3/train/labels/autosave13_04_2013_09_50_20_2_jpg.rf.e6cdc08d23db55957619165330f1966e.txt  \n",
            "  inflating: /content/OIVIS_Lab_3/train/labels/autosave13_04_2013_09_50_24_0_jpg.rf.3dcb4fad529d2c0026004ef2ee40978a.txt  \n",
            "  inflating: /content/OIVIS_Lab_3/train/labels/autosave13_04_2013_09_50_27_0_jpg.rf.d5669212eb80019acba89284a7f045b1.txt  \n",
            "  inflating: /content/OIVIS_Lab_3/train/labels/autosave13_04_2013_09_51_20_1_jpg.rf.8b6477b4158f9a3929e6f69e80c383ad.txt  \n",
            "  inflating: /content/OIVIS_Lab_3/train/labels/autosave13_04_2013_09_51_31_2_jpg.rf.2ccfdfcc4c9a64af9d12dc5fd7030dd4.txt  \n",
            "  inflating: /content/OIVIS_Lab_3/train/labels/autosave13_04_2013_09_51_48_1_jpg.rf.074be11595172aa5505d78ffb3375aa8.txt  \n",
            "  inflating: /content/OIVIS_Lab_3/train/labels/autosave13_04_2013_09_51_56_1_jpg.rf.0ede52e143ef01983533fb629a05ef92.txt  \n",
            "  inflating: /content/OIVIS_Lab_3/train/labels/autosave13_04_2013_09_52_05_0_jpg.rf.dca4a7f243cafbfdcee9a54662a12253.txt  \n",
            "  inflating: /content/OIVIS_Lab_3/train/labels/autosave13_04_2013_09_52_19_2_jpg.rf.63f50085129e48097df11d127ee15be1.txt  \n",
            "  inflating: /content/OIVIS_Lab_3/train/labels/autosave13_04_2013_09_52_31_2_jpg.rf.c7e4fd40e9b8cb50eb408b0bb70252d7.txt  \n",
            "  inflating: /content/OIVIS_Lab_3/train/labels/autosave13_04_2013_09_52_31_3_jpg.rf.11fbcd78db975356fba3218fc4dd6b9f.txt  \n",
            "  inflating: /content/OIVIS_Lab_3/train/labels/autosave13_04_2013_09_53_29_1_jpg.rf.5af7c9c261ce33930ea5bba9eafae1d8.txt  \n",
            "  inflating: /content/OIVIS_Lab_3/train/labels/autosave13_04_2013_09_54_17_2_jpg.rf.8847ea4196ea42e2bfd4f4668397eeb3.txt  \n",
            "  inflating: /content/OIVIS_Lab_3/train/labels/autosave13_04_2013_09_54_18_2_jpg.rf.35d45eb485e8cdab9bad647c1c37ec28.txt  \n",
            "  inflating: /content/OIVIS_Lab_3/train/labels/autosave13_04_2013_09_54_47_1_jpg.rf.777e329c19c8d1562ae5fdcc1c9c5a66.txt  \n",
            "  inflating: /content/OIVIS_Lab_3/train/labels/autosave13_04_2013_09_54_49_3_jpg.rf.acd048ac39a0657f6bdd89486f854f48.txt  \n",
            "  inflating: /content/OIVIS_Lab_3/train/labels/autosave13_04_2013_09_54_51_0_jpg.rf.91d1da780f0839d5e9a86389770e6f2a.txt  \n",
            "  inflating: /content/OIVIS_Lab_3/train/labels/autosave13_04_2013_09_54_55_1_jpg.rf.0d6f4de7f7b970ebcd5fa3f4183110a6.txt  \n",
            "  inflating: /content/OIVIS_Lab_3/train/labels/autosave13_04_2013_09_55_17_0_jpg.rf.f980230e7645928db5c72b7c4530f346.txt  \n",
            "  inflating: /content/OIVIS_Lab_3/train/labels/autosave13_04_2013_09_56_14_0_jpg.rf.7a06b68d8ac3b844ce272a139469d185.txt  \n",
            "  inflating: /content/OIVIS_Lab_3/train/labels/autosave13_04_2013_09_56_16_0_jpg.rf.ad424850c59d75d653381efd9aeb90f3.txt  \n",
            "  inflating: /content/OIVIS_Lab_3/train/labels/autosave13_04_2013_09_57_00_1_jpg.rf.a5bbe01c2dad8bc427447fc3f7cb5275.txt  \n",
            "  inflating: /content/OIVIS_Lab_3/train/labels/autosave13_04_2013_09_57_00_2_jpg.rf.b23ad135bfc51dcd9e8196091e6e1496.txt  \n",
            "  inflating: /content/OIVIS_Lab_3/train/labels/autosave13_04_2013_09_57_06_0_jpg.rf.eb26a3894d18d404c1473da61df2ef6e.txt  \n",
            "  inflating: /content/OIVIS_Lab_3/train/labels/autosave13_04_2013_09_57_20_2_jpg.rf.6bc62009c3f78a4520205ca40314a42b.txt  \n",
            "  inflating: /content/OIVIS_Lab_3/train/labels/autosave13_04_2013_09_57_35_0_jpg.rf.80ef0fc491f5c4eb3fb50c01f63f512f.txt  \n",
            "  inflating: /content/OIVIS_Lab_3/train/labels/autosave13_04_2013_09_57_39_0_jpg.rf.a161255583beefe2be9876e039b52053.txt  \n",
            "  inflating: /content/OIVIS_Lab_3/train/labels/autosave13_04_2013_09_57_54_1_jpg.rf.1d27c474d07f475910b0bbb856080604.txt  \n",
            "  inflating: /content/OIVIS_Lab_3/train/labels/autosave13_04_2013_09_58_31_0_jpg.rf.6e6878bbf046b7848392c8c5beacfb2f.txt  \n",
            "  inflating: /content/OIVIS_Lab_3/train/labels/autosave13_04_2013_09_58_31_2_jpg.rf.87fa2b857a3ae13120ff787addafdb72.txt  \n",
            "  inflating: /content/OIVIS_Lab_3/train/labels/autosave13_04_2013_09_58_31_3_jpg.rf.c698528b8551317232981a033493b073.txt  \n",
            "  inflating: /content/OIVIS_Lab_3/train/labels/autosave13_04_2013_09_59_38_3_jpg.rf.853d1dd17b6df812e0b4e4c57e32c18b.txt  \n",
            "  inflating: /content/OIVIS_Lab_3/train/labels/autosave13_04_2013_11_05_56_0_jpg.rf.fd5cbd4af39a45d91f5b29f46a7c7f47.txt  \n",
            "  inflating: /content/OIVIS_Lab_3/train/labels/autosave13_04_2013_11_05_56_2_jpg.rf.b65238b8e1b733ea2144e3496f4a7bc3.txt  \n",
            "  inflating: /content/OIVIS_Lab_3/train/labels/autosave13_04_2013_11_05_56_3_jpg.rf.29e14bbcdbf4b0452854f24fd450f082.txt  \n",
            "  inflating: /content/OIVIS_Lab_3/train/labels/autosave13_04_2013_11_06_00_0_jpg.rf.0781f593162bc026f333ba7727ececc7.txt  \n",
            "  inflating: /content/OIVIS_Lab_3/train/labels/autosave13_04_2013_11_06_00_1_jpg.rf.987f53a1ff86ba85bc2fb82c8c9f8e50.txt  \n",
            "  inflating: /content/OIVIS_Lab_3/train/labels/autosave13_04_2013_11_06_13_0_jpg.rf.1266da72cd7110f9b7515ddfa085209e.txt  \n",
            "  inflating: /content/OIVIS_Lab_3/train/labels/autosave13_04_2013_11_06_17_3_jpg.rf.acd08a45954437cec930df95ad7ca23c.txt  \n",
            "  inflating: /content/OIVIS_Lab_3/train/labels/autosave13_04_2013_11_06_20_2_jpg.rf.2787e916dd71fb703c2b33cc2f33fa74.txt  \n",
            "  inflating: /content/OIVIS_Lab_3/train/labels/autosave13_04_2013_11_06_21_1_jpg.rf.4f76d8023ef87f782c5f376b17033906.txt  \n",
            "  inflating: /content/OIVIS_Lab_3/train/labels/autosave13_04_2013_11_06_22_0_jpg.rf.6519d8b6f52e235f1e9c7140cbf8726c.txt  \n",
            "  inflating: /content/OIVIS_Lab_3/train/labels/autosave13_04_2013_11_06_26_1_jpg.rf.f6d55fa3e183e27f3fd460d39aebc0c1.txt  \n",
            "  inflating: /content/OIVIS_Lab_3/train/labels/autosave13_04_2013_11_06_29_0_jpg.rf.f0c22d47dd00adb4701dadc072e72853.txt  \n",
            "  inflating: /content/OIVIS_Lab_3/train/labels/autosave13_04_2013_11_07_05_1_jpg.rf.9b0528d87863ec0635c794ed791e27fb.txt  \n",
            "  inflating: /content/OIVIS_Lab_3/train/labels/autosave13_04_2013_11_07_07_2_jpg.rf.dddbbabc36e0beb6acc8ad6d38cbd38f.txt  \n",
            "  inflating: /content/OIVIS_Lab_3/train/labels/autosave13_04_2013_11_07_30_1_jpg.rf.c75c02ef1e751d2e71edd83bbe9032c7.txt  \n",
            "  inflating: /content/OIVIS_Lab_3/train/labels/autosave13_04_2013_11_07_34_1_jpg.rf.b8436f4c04c8fe47c606ee49150c200c.txt  \n",
            "  inflating: /content/OIVIS_Lab_3/train/labels/autosave13_04_2013_11_07_58_1_jpg.rf.c84edc2eb5b3481a4b969e7afc3f7a9e.txt  \n",
            "  inflating: /content/OIVIS_Lab_3/train/labels/autosave13_04_2013_11_08_00_0_jpg.rf.fa6d77e0d46938603444752495d49e45.txt  \n",
            "  inflating: /content/OIVIS_Lab_3/train/labels/autosave13_04_2013_11_08_03_0_jpg.rf.5a191b2f88fe1b630adc2dae4dd644a3.txt  \n",
            "  inflating: /content/OIVIS_Lab_3/train/labels/autosave13_04_2013_11_08_08_1_jpg.rf.07098ff5a40f1740840601f81e98efd1.txt  \n",
            "  inflating: /content/OIVIS_Lab_3/train/labels/autosave13_04_2013_11_08_11_2_jpg.rf.6f0672abd4d3ee671f9e70300e304a0f.txt  \n",
            "  inflating: /content/OIVIS_Lab_3/train/labels/autosave13_04_2013_11_08_17_0_jpg.rf.39d075be6e360f4ab2d53fb01062d13e.txt  \n",
            "  inflating: /content/OIVIS_Lab_3/train/labels/autosave13_04_2013_11_08_19_1_jpg.rf.8368bc211f3e23c009b4c45fa8bfeba4.txt  \n",
            "  inflating: /content/OIVIS_Lab_3/train/labels/autosave13_04_2013_11_08_19_2_jpg.rf.021848c0aab48ee8b6665d5ca189cf74.txt  \n",
            "  inflating: /content/OIVIS_Lab_3/train/labels/autosave13_04_2013_11_09_13_0_jpg.rf.3bdbc3b86d8df6972313f8b268d2126b.txt  \n",
            "  inflating: /content/OIVIS_Lab_3/train/labels/autosave13_04_2013_11_52_32_3_jpg.rf.b97c384d0c019dff459eb9b5836a946d.txt  \n",
            "  inflating: /content/OIVIS_Lab_3/train/labels/autosave13_04_2013_12_00_22_0_jpg.rf.ef189da559f4a696d8f5804f1612c6fc.txt  \n",
            "  inflating: /content/OIVIS_Lab_3/train/labels/autosave13_04_2013_12_01_18_2_jpg.rf.8fc61a996104114b165bda365dddc548.txt  \n",
            "  inflating: /content/OIVIS_Lab_3/train/labels/autosave13_04_2013_12_01_21_2_jpg.rf.d4074839e0b058ac55f0e9e9dec9d568.txt  \n",
            "  inflating: /content/OIVIS_Lab_3/train/labels/autosave13_04_2013_12_02_44_0_jpg.rf.4dcd73a89e2bccbe2f982a4a892dda24.txt  \n",
            "  inflating: /content/OIVIS_Lab_3/train/labels/autosave13_04_2013_12_03_03_3_jpg.rf.bb037769e1dd03ca144f2787178e9e57.txt  \n",
            "  inflating: /content/OIVIS_Lab_3/train/labels/autosave13_04_2013_12_03_04_0_jpg.rf.89f1229adb8ec2051eeea0abc6ac0d67.txt  \n",
            "  inflating: /content/OIVIS_Lab_3/train/labels/autosave13_04_2013_12_03_04_3_jpg.rf.8638a011b78c37c230c3777b9a33d8a1.txt  \n",
            "  inflating: /content/OIVIS_Lab_3/train/labels/autosave13_04_2013_12_03_06_0_jpg.rf.206d1235b5425da225291f8eea6d1327.txt  \n",
            "  inflating: /content/OIVIS_Lab_3/train/labels/autosave13_04_2013_12_03_10_1_jpg.rf.00c48e5bf9773b373a06f1c380072b79.txt  \n",
            "  inflating: /content/OIVIS_Lab_3/train/labels/autosave13_04_2013_12_03_20_0_jpg.rf.dea3181011b5c276ef8b96a6d2323393.txt  \n",
            "  inflating: /content/OIVIS_Lab_3/train/labels/autosave13_04_2013_12_09_09_1_jpg.rf.f09b5c833b5b99481a8814d45f53e9ef.txt  \n",
            "  inflating: /content/OIVIS_Lab_3/train/labels/autosave13_04_2013_12_09_09_2_jpg.rf.c461b5d0e79c25cfc9da68b7bc2a4973.txt  \n",
            "  inflating: /content/OIVIS_Lab_3/train/labels/autosave13_04_2013_12_09_15_1_jpg.rf.1f2391a6c4c3162a396928371b6320e8.txt  \n",
            "  inflating: /content/OIVIS_Lab_3/train/labels/autosave13_04_2013_12_09_17_0_jpg.rf.d21167fa2fc7687209758218ed69033c.txt  \n",
            "  inflating: /content/OIVIS_Lab_3/train/labels/autosave13_04_2013_12_09_18_2_jpg.rf.ebd40a4f8211bf94ce6bb377d5123aea.txt  \n",
            "  inflating: /content/OIVIS_Lab_3/train/labels/autosave13_04_2013_12_09_27_0_jpg.rf.06ffdb532ceb6e7244953e4cace62052.txt  \n",
            "  inflating: /content/OIVIS_Lab_3/train/labels/autosave13_04_2013_12_09_28_2_jpg.rf.3c7addfeaae6b93d0a7c84e46d437a43.txt  \n",
            "  inflating: /content/OIVIS_Lab_3/train/labels/autosave13_04_2013_12_09_47_1_jpg.rf.50b3f0404a0e754bbb35853c12f26f5c.txt  \n",
            "  inflating: /content/OIVIS_Lab_3/train/labels/autosave13_04_2013_12_09_48_1_jpg.rf.d4d11766dab2fb1ee7a67b719e15d214.txt  \n",
            "  inflating: /content/OIVIS_Lab_3/train/labels/autosave13_04_2013_12_09_49_2_jpg.rf.dc49c10e33cdf82d9318db885891e182.txt  \n",
            "  inflating: /content/OIVIS_Lab_3/train/labels/autosave13_04_2013_12_09_50_0_jpg.rf.f6e9381b663d4c63bef4f5a77c3df752.txt  \n",
            "  inflating: /content/OIVIS_Lab_3/train/labels/autosave13_04_2013_12_09_52_1_jpg.rf.cd97507fe149ac57a537e3bb20b04329.txt  \n",
            "  inflating: /content/OIVIS_Lab_3/train/labels/autosave13_04_2013_12_09_52_2_jpg.rf.c92bebc10b4e8212c7ec717f0ed6c6bc.txt  \n",
            "  inflating: /content/OIVIS_Lab_3/train/labels/autosave13_04_2013_12_09_53_1_jpg.rf.cd01b02aac231fab303c964166a17a1c.txt  \n",
            "  inflating: /content/OIVIS_Lab_3/train/labels/autosave13_04_2013_12_09_55_1_jpg.rf.90d1a672c86fb35fd6de1bc6d7eded8a.txt  \n",
            "  inflating: /content/OIVIS_Lab_3/train/labels/autosave13_04_2013_12_11_00_2_jpg.rf.3c385c730326e227d6586098c71e966e.txt  \n",
            "  inflating: /content/OIVIS_Lab_3/train/labels/autosave13_04_2013_12_11_28_2_jpg.rf.7861aa4d3c8641bd113f2965057e04d6.txt  \n",
            "  inflating: /content/OIVIS_Lab_3/train/labels/autosave13_04_2013_12_11_29_2_jpg.rf.b9c61b04048c12277dd300a076f451da.txt  \n",
            "  inflating: /content/OIVIS_Lab_3/train/labels/autosave13_04_2013_12_11_58_0_jpg.rf.f9e881df2f863cd2f2ac3528eb9f3f29.txt  \n",
            "  inflating: /content/OIVIS_Lab_3/train/labels/autosave13_04_2013_12_12_02_0_jpg.rf.0f211b8f57899a98d5d6581e23c8c87d.txt  \n",
            "  inflating: /content/OIVIS_Lab_3/train/labels/autosave13_04_2013_12_12_06_1_jpg.rf.ee314749df2be3a87709510a62046a98.txt  \n",
            "  inflating: /content/OIVIS_Lab_3/train/labels/autosave13_04_2013_12_12_47_1_jpg.rf.78b85ae61aafbf693bfbeb80338ece33.txt  \n",
            "  inflating: /content/OIVIS_Lab_3/train/labels/autosave13_04_2013_12_13_24_2_jpg.rf.ce09a7f03d5f7f6576b85edeb9e375ff.txt  \n",
            "  inflating: /content/OIVIS_Lab_3/train/labels/autosave13_04_2013_12_13_34_2_jpg.rf.4c089215de2e5a9bf41ffb4c3323d20e.txt  \n",
            "  inflating: /content/OIVIS_Lab_3/train/labels/autosave13_04_2013_12_13_36_2_jpg.rf.98e52e35f77ef7b9ac7e2c29fa47e36b.txt  \n",
            "  inflating: /content/OIVIS_Lab_3/train/labels/autosave13_04_2013_12_13_37_0_jpg.rf.610ae66e97b514b1ddc0aa9d4a17331f.txt  \n",
            "  inflating: /content/OIVIS_Lab_3/train/labels/autosave13_04_2013_12_13_38_3_jpg.rf.5710272e71ae052c5850b734a2102a31.txt  \n",
            "  inflating: /content/OIVIS_Lab_3/train/labels/autosave13_04_2013_12_13_43_1_jpg.rf.498de89989a4b52c1e80cac3c1c4f9f7.txt  \n",
            "  inflating: /content/OIVIS_Lab_3/train/labels/autosave13_04_2013_12_14_05_0_jpg.rf.6b9f3ef604aadfd268cd8a30f71dc96b.txt  \n",
            "  inflating: /content/OIVIS_Lab_3/train/labels/autosave13_04_2013_12_14_11_0_jpg.rf.6065c7f93125398f57e7a044ae6f46d1.txt  \n",
            "  inflating: /content/OIVIS_Lab_3/train/labels/autosave13_04_2013_12_14_21_0_jpg.rf.c7dd3c0407f2d88ec2ef0d75d1cc3cce.txt  \n",
            "  inflating: /content/OIVIS_Lab_3/train/labels/autosave13_04_2013_12_14_21_2_jpg.rf.d107c05afdbf399bff06c01c9b95ee0b.txt  \n",
            "  inflating: /content/OIVIS_Lab_3/train/labels/autosave13_04_2013_12_14_23_1_jpg.rf.9b1ea54e1d688225ad56e18a0681b720.txt  \n",
            "  inflating: /content/OIVIS_Lab_3/train/labels/autosave13_04_2013_12_14_26_1_jpg.rf.7ee0b91d17ab2923fda784e4425259a8.txt  \n",
            "  inflating: /content/OIVIS_Lab_3/train/labels/autosave13_04_2013_12_14_29_1_jpg.rf.c07e74d4ed59e38286327cbf9eebbcec.txt  \n",
            "  inflating: /content/OIVIS_Lab_3/train/labels/autosave13_04_2013_12_14_56_0_jpg.rf.9df32d2d1c964836db471f2294d98fa5.txt  \n",
            "  inflating: /content/OIVIS_Lab_3/train/labels/autosave13_04_2013_12_15_01_0_jpg.rf.75f0c11ec6f147c16fb08c815a78696e.txt  \n",
            "  inflating: /content/OIVIS_Lab_3/train/labels/autosave13_04_2013_12_15_01_1_jpg.rf.e6ec22cee64c09e5239a30c7e49b43f7.txt  \n",
            "  inflating: /content/OIVIS_Lab_3/train/labels/autosave13_04_2013_12_15_01_2_jpg.rf.a13d8a398cbf0ef1ffc61d561b7f1bb8.txt  \n",
            "  inflating: /content/OIVIS_Lab_3/train/labels/autosave13_04_2013_12_15_02_3_jpg.rf.eaf9649277a81bec9f4cbb2a20ed3460.txt  \n",
            "  inflating: /content/OIVIS_Lab_3/train/labels/autosave13_04_2013_12_15_04_1_jpg.rf.7397524fba0ad723381a95286b4e6a40.txt  \n",
            "  inflating: /content/OIVIS_Lab_3/train/labels/autosave13_04_2013_12_15_38_2_jpg.rf.924639c000a5bfdaa9b40cb06682b6d5.txt  \n",
            "  inflating: /content/OIVIS_Lab_3/train/labels/autosave13_04_2013_12_15_55_0_jpg.rf.2dca3962e85ea4f47f660ed197d44772.txt  \n",
            "  inflating: /content/OIVIS_Lab_3/train/labels/autosave13_04_2013_12_16_49_0_jpg.rf.7336333a6b7ff41edaff14a0ca06dfc1.txt  \n",
            "  inflating: /content/OIVIS_Lab_3/train/labels/autosave13_04_2013_12_16_49_1_jpg.rf.6ac6332a26306cfb90c2d7ebef0fd808.txt  \n",
            "  inflating: /content/OIVIS_Lab_3/train/labels/autosave13_04_2013_12_17_41_0_jpg.rf.06e4e7fcbf6f7795d89d7b4ae38f42b2.txt  \n",
            "  inflating: /content/OIVIS_Lab_3/train/labels/autosave13_04_2013_12_17_43_0_jpg.rf.32988529a2491648f8e85e49bb713931.txt  \n",
            "  inflating: /content/OIVIS_Lab_3/train/labels/autosave13_04_2013_12_17_44_1_jpg.rf.844723989a62138a3cffb75684afc3b4.txt  \n",
            "  inflating: /content/OIVIS_Lab_3/train/labels/autosave13_04_2013_12_17_48_1_jpg.rf.4a3891846b6e369965bfb5e43ac559a5.txt  \n",
            "  inflating: /content/OIVIS_Lab_3/train/labels/autosave13_04_2013_12_18_04_3_jpg.rf.cda9c7fce60a0bfabd0ff732931e632f.txt  \n",
            "  inflating: /content/OIVIS_Lab_3/train/labels/autosave13_04_2013_12_18_24_1_jpg.rf.acdb36cb6d4f6bed4cc7b398cdd44e4b.txt  \n",
            "  inflating: /content/OIVIS_Lab_3/train/labels/autosave13_04_2013_12_18_28_0_jpg.rf.fc37fbf783c68f448fe85f3822ef3f0e.txt  \n",
            "  inflating: /content/OIVIS_Lab_3/train/labels/autosave13_04_2013_12_19_17_2_jpg.rf.8adc6a78ebe182edd3a8143a11b152a1.txt  \n",
            "  inflating: /content/OIVIS_Lab_3/train/labels/autosave13_04_2013_12_19_49_2_jpg.rf.7a857aeeeea11a6c01f8762ad6481431.txt  \n",
            "  inflating: /content/OIVIS_Lab_3/train/labels/autosave13_04_2013_12_20_27_2_jpg.rf.9496f334e27c37d049d0a8c7ec5d0694.txt  \n",
            "  inflating: /content/OIVIS_Lab_3/train/labels/autosave13_04_2013_12_20_28_0_jpg.rf.f1d0fa7fc913978978dd2389b1788556.txt  \n",
            "  inflating: /content/OIVIS_Lab_3/train/labels/autosave13_04_2013_12_20_30_0_jpg.rf.0d75c1ea5d0d1092a1981b10ebe188d6.txt  \n",
            "  inflating: /content/OIVIS_Lab_3/train/labels/autosave13_04_2013_12_20_32_0_jpg.rf.1b852c3530d20b35bcc3b550e35db551.txt  \n",
            "  inflating: /content/OIVIS_Lab_3/train/labels/autosave13_04_2013_12_20_35_2_jpg.rf.92a0d2e698839e4813037b48a98bbc3d.txt  \n",
            "  inflating: /content/OIVIS_Lab_3/train/labels/autosave13_04_2013_12_21_24_1_jpg.rf.866ed45e1a8137d17740f27a478a130c.txt  \n",
            "  inflating: /content/OIVIS_Lab_3/train/labels/autosave13_04_2013_12_22_49_2_jpg.rf.6470696fb69b18da361f73c1c5015b50.txt  \n",
            "  inflating: /content/OIVIS_Lab_3/train/labels/autosave13_04_2013_12_22_49_3_jpg.rf.0619b4095626e7825c575ce93046bebc.txt  \n",
            "  inflating: /content/OIVIS_Lab_3/train/labels/autosave13_04_2013_12_22_51_3_jpg.rf.05cf2c6124576338aaa14bf0e5b0608f.txt  \n",
            "  inflating: /content/OIVIS_Lab_3/train/labels/autosave13_04_2013_12_23_07_1_jpg.rf.de357cc196a937f19773d409e01b48f8.txt  \n",
            "  inflating: /content/OIVIS_Lab_3/train/labels/autosave13_04_2013_12_23_32_0_jpg.rf.4fef73df38917aae6d70798bc7228591.txt  \n",
            "  inflating: /content/OIVIS_Lab_3/train/labels/autosave13_04_2013_12_24_18_3_jpg.rf.e0cb989f241c1263a9905d903f4609d1.txt  \n",
            "  inflating: /content/OIVIS_Lab_3/train/labels/autosave13_04_2013_12_24_39_0_jpg.rf.0e41f882dfa2828800746822a78bfb37.txt  \n",
            "  inflating: /content/OIVIS_Lab_3/train/labels/autosave13_04_2013_12_24_41_2_jpg.rf.6c5d8eede72ec21f601fd4757b83bf02.txt  \n",
            "  inflating: /content/OIVIS_Lab_3/train/labels/autosave13_04_2013_12_26_05_1_jpg.rf.1bb9a6687c75233b368cb48a689a344c.txt  \n",
            "  inflating: /content/OIVIS_Lab_3/train/labels/autosave13_04_2013_12_26_10_2_jpg.rf.6eacb9812144be5e696e14a9e2191925.txt  \n",
            "  inflating: /content/OIVIS_Lab_3/train/labels/autosave13_04_2013_12_26_12_0_jpg.rf.096d2a517220934ab78bc775015d73b3.txt  \n",
            "  inflating: /content/OIVIS_Lab_3/train/labels/autosave13_04_2013_12_26_24_0_jpg.rf.96453a76f3bcd14cb7dd13c8ee2cec9b.txt  \n",
            "  inflating: /content/OIVIS_Lab_3/train/labels/autosave13_04_2013_12_27_03_2_jpg.rf.8b1704765c547f0ed15133d01d3177c3.txt  \n",
            "  inflating: /content/OIVIS_Lab_3/train/labels/autosave13_04_2013_12_27_28_1_jpg.rf.8dd6a19ccf921ae4872930fa17caf6a9.txt  \n",
            "  inflating: /content/OIVIS_Lab_3/train/labels/autosave13_04_2013_12_27_47_1_jpg.rf.f13beedf56c71147398ab639783b684d.txt  \n",
            "  inflating: /content/OIVIS_Lab_3/train/labels/autosave13_04_2013_12_27_49_1_jpg.rf.e211442594ee2cdfd1781113f5ec26d3.txt  \n",
            "  inflating: /content/OIVIS_Lab_3/train/labels/autosave13_04_2013_12_28_03_1_jpg.rf.695d434b606d4aa2ea14c83918f73497.txt  \n",
            "  inflating: /content/OIVIS_Lab_3/train/labels/autosave13_04_2013_12_28_04_0_jpg.rf.3d431ee8eeca8532754b07a513e2f4f8.txt  \n",
            "  inflating: /content/OIVIS_Lab_3/train/labels/autosave13_04_2013_12_28_23_1_jpg.rf.7983e4ad4d59587118a9e4f8d9767e77.txt  \n",
            "  inflating: /content/OIVIS_Lab_3/train/labels/autosave13_04_2013_12_28_25_1_jpg.rf.6c91575b734becfcd61c0e751a94ac38.txt  \n",
            "  inflating: /content/OIVIS_Lab_3/train/labels/autosave13_04_2013_12_28_26_0_jpg.rf.79a8ba1321eedc63225bf8ff6aea6356.txt  \n",
            "  inflating: /content/OIVIS_Lab_3/train/labels/autosave13_04_2013_12_28_30_1_jpg.rf.df08c84f46ed60eaafb179b999b394ef.txt  \n",
            "  inflating: /content/OIVIS_Lab_3/train/labels/autosave13_04_2013_12_29_08_0_jpg.rf.15ba25649341905b2422ee0e941b1710.txt  \n",
            "  inflating: /content/OIVIS_Lab_3/train/labels/autosave13_04_2013_12_31_24_1_jpg.rf.3430939f4e32fe800fdb761c6c7492ad.txt  \n",
            "  inflating: /content/OIVIS_Lab_3/train/labels/autosave13_04_2013_12_32_53_2_jpg.rf.c2a1e65a4d2dcec57693e25b092129a0.txt  \n",
            "  inflating: /content/OIVIS_Lab_3/train/labels/autosave13_04_2013_12_35_21_0_jpg.rf.c2ee0e4999c5a6000342a849810aee14.txt  \n",
            "  inflating: /content/OIVIS_Lab_3/train/labels/autosave13_04_2013_12_36_37_0_jpg.rf.16fce7e1a5f095daef952b5f35fdb50b.txt  \n",
            "  inflating: /content/OIVIS_Lab_3/train/labels/autosave13_04_2013_12_47_34_3_jpg.rf.ff70308cfeb073b56a57377e8b77c07e.txt  \n",
            "  inflating: /content/OIVIS_Lab_3/train/labels/autosave13_04_2013_12_47_39_2_jpg.rf.17a0b641b32ac5a5f8a6f1e99e1982f9.txt  \n",
            "  inflating: /content/OIVIS_Lab_3/train/labels/autosave13_04_2013_12_47_39_3_jpg.rf.7d6290cbddfc60c94350eb4c1e1d9d08.txt  \n",
            "  inflating: /content/OIVIS_Lab_3/train/labels/autosave13_04_2013_12_48_19_1_jpg.rf.dd5b8ec669d4b94e2a03086d58e7e4b4.txt  \n",
            "  inflating: /content/OIVIS_Lab_3/train/labels/autosave13_04_2013_12_48_56_0_jpg.rf.f61ca89fe6ef6de4f5be5ca78e02334d.txt  \n",
            "  inflating: /content/OIVIS_Lab_3/train/labels/autosave13_04_2013_12_49_08_1_jpg.rf.a9c4bfccde0473bf58c43a76a9e60a2d.txt  \n",
            "  inflating: /content/OIVIS_Lab_3/train/labels/autosave13_04_2013_12_49_46_2_jpg.rf.a2552bf6ee77f026936398bce52337c3.txt  \n",
            "  inflating: /content/OIVIS_Lab_3/train/labels/autosave13_04_2013_12_50_26_0_jpg.rf.2fdd307a0342ed10ca5e4f57c36b5e31.txt  \n",
            "  inflating: /content/OIVIS_Lab_3/train/labels/autosave13_04_2013_12_51_07_0_jpg.rf.ea0c26452f3b14b69beb70adb470a646.txt  \n",
            "  inflating: /content/OIVIS_Lab_3/train/labels/autosave13_04_2013_12_51_07_1_jpg.rf.b0b41506b0929ac3b58858941915750c.txt  \n",
            "  inflating: /content/OIVIS_Lab_3/train/labels/autosave13_04_2013_12_51_17_2_jpg.rf.14342095a6d8ea269844313eec059218.txt  \n",
            "  inflating: /content/OIVIS_Lab_3/train/labels/autosave13_04_2013_12_51_52_0_jpg.rf.cd90be88bfadd9c7ae22ab6b59b1dfc3.txt  \n",
            "  inflating: /content/OIVIS_Lab_3/train/labels/autosave13_04_2013_12_52_09_0_jpg.rf.5810e708782f086bfa226ca05e871bb4.txt  \n",
            "  inflating: /content/OIVIS_Lab_3/train/labels/autosave13_04_2013_12_52_39_0_jpg.rf.9cca285ddb246986d11d0638639bd07c.txt  \n",
            "  inflating: /content/OIVIS_Lab_3/train/labels/autosave13_04_2013_12_54_09_1_jpg.rf.b914c7095b8d242846611aa3c05c30ff.txt  \n",
            "  inflating: /content/OIVIS_Lab_3/train/labels/autosave13_04_2013_12_54_10_0_jpg.rf.41c9d41f57bfb797831bf3da48142553.txt  \n",
            "  inflating: /content/OIVIS_Lab_3/train/labels/autosave13_04_2013_12_57_53_3_jpg.rf.0dffd3f97b450a17199c51ac1f4e0626.txt  \n",
            "  inflating: /content/OIVIS_Lab_3/train/labels/autosave13_04_2013_12_57_56_2_jpg.rf.5af0802237c48a49e8facc29ea9f35b8.txt  \n",
            "  inflating: /content/OIVIS_Lab_3/train/labels/autosave13_04_2013_12_57_58_2_jpg.rf.baa1409a917466b79b465a3744ce7dae.txt  \n",
            "  inflating: /content/OIVIS_Lab_3/train/labels/autosave13_04_2013_13_02_51_1_jpg.rf.d8cd2f10d78fe70b7d8226b6ec2f01e5.txt  \n",
            "  inflating: /content/OIVIS_Lab_3/train/labels/autosave13_04_2013_13_02_52_0_jpg.rf.b2ce666a6c8a53c2fe157b33601fe047.txt  \n",
            "  inflating: /content/OIVIS_Lab_3/train/labels/autosave13_04_2013_13_03_00_0_jpg.rf.171af6660fbe33b418cb0410143c99cd.txt  \n",
            "  inflating: /content/OIVIS_Lab_3/train/labels/autosave13_04_2013_13_03_00_1_jpg.rf.15e3a97787d28004c833c38f18f172a1.txt  \n",
            "  inflating: /content/OIVIS_Lab_3/train/labels/autosave13_04_2013_13_05_16_0_jpg.rf.2e3bef1cab2d1429388434b78d4a93d0.txt  \n",
            "  inflating: /content/OIVIS_Lab_3/train/labels/autosave13_04_2013_13_05_16_3_jpg.rf.a474d7540ba4a9648a710b59bd8efb4f.txt  \n",
            "  inflating: /content/OIVIS_Lab_3/train/labels/autosave13_04_2013_13_05_18_1_jpg.rf.65cfd13a4a0bcc5f4520bdd7b4ead5d3.txt  \n",
            "  inflating: /content/OIVIS_Lab_3/train/labels/autosave13_04_2013_13_11_46_1_jpg.rf.01da871a7f2c750e2a37898549736e56.txt  \n",
            "  inflating: /content/OIVIS_Lab_3/train/labels/autosave13_04_2013_13_16_56_0_jpg.rf.e862b7127fd08f0120288846506bf64d.txt  \n",
            "  inflating: /content/OIVIS_Lab_3/train/labels/autosave13_04_2013_13_17_28_2_jpg.rf.f65378224443ea44f5caab2248ea4fce.txt  \n",
            "  inflating: /content/OIVIS_Lab_3/train/labels/autosave13_04_2013_13_19_34_0_jpg.rf.851ee9ba0922df10d7d002c55308ffb9.txt  \n",
            "  inflating: /content/OIVIS_Lab_3/train/labels/autosave13_04_2013_13_20_40_0_jpg.rf.0b6119c3a7644e651e1b1a7e3d5f8bb5.txt  \n",
            "  inflating: /content/OIVIS_Lab_3/train/labels/autosave13_04_2013_13_20_56_1_jpg.rf.16a54af2c6ee1ab30a63cc0342d37c90.txt  \n",
            "  inflating: /content/OIVIS_Lab_3/train/labels/autosave13_04_2013_13_20_58_1_jpg.rf.8a12dcc5d085a8081fdb357b86410f2a.txt  \n",
            "  inflating: /content/OIVIS_Lab_3/train/labels/autosave13_04_2013_13_21_01_0_jpg.rf.7f0cb4a64c71e4e748755f00dca129b3.txt  \n",
            "  inflating: /content/OIVIS_Lab_3/train/labels/autosave13_04_2013_13_21_34_0_jpg.rf.740474ab93c99511d773f8ed638e5c3e.txt  \n",
            "  inflating: /content/OIVIS_Lab_3/train/labels/autosave13_04_2013_13_21_34_1_jpg.rf.41e345c1b8ce107d635249ffd0160d16.txt  \n",
            "  inflating: /content/OIVIS_Lab_3/train/labels/autosave13_04_2013_13_21_42_2_jpg.rf.88a73db813be855499ee2fb90eccf908.txt  \n",
            "  inflating: /content/OIVIS_Lab_3/train/labels/autosave13_04_2013_13_24_55_0_jpg.rf.973701ef010fe0079e39114cb3aaadbd.txt  \n",
            "  inflating: /content/OIVIS_Lab_3/train/labels/autosave13_04_2013_13_25_06_0_jpg.rf.a3b8c9ca56ba20b0d8ca6af4fa3561eb.txt  \n",
            "  inflating: /content/OIVIS_Lab_3/train/labels/autosave13_04_2013_13_25_09_3_jpg.rf.e81d848b8939224403b0788c8fcbdcaa.txt  \n",
            "  inflating: /content/OIVIS_Lab_3/train/labels/autosave13_04_2013_13_25_14_0_jpg.rf.ff91c698e10b27a72e7e0397ca24230a.txt  \n",
            "  inflating: /content/OIVIS_Lab_3/train/labels/autosave13_04_2013_13_25_49_0_jpg.rf.d506f46bdc14ec2c5562ca647c6ee0cd.txt  \n",
            "  inflating: /content/OIVIS_Lab_3/train/labels/autosave13_04_2013_13_26_07_1_jpg.rf.e5e4091ab8e7654065c110961e38bacc.txt  \n",
            "  inflating: /content/OIVIS_Lab_3/train/labels/autosave13_04_2013_13_26_24_0_jpg.rf.502be73d1e30945d4912bdb192a61dc0.txt  \n",
            "  inflating: /content/OIVIS_Lab_3/train/labels/autosave13_04_2013_13_26_49_2_jpg.rf.8624439cb74eb55741fc18ae189d8977.txt  \n",
            "  inflating: /content/OIVIS_Lab_3/train/labels/autosave13_04_2013_13_27_07_1_jpg.rf.e35af5de198bc12a37c4268845f9821b.txt  \n",
            "  inflating: /content/OIVIS_Lab_3/train/labels/autosave13_04_2013_13_27_59_0_jpg.rf.f79d940672ae84c764f41ecd050e1084.txt  \n",
            "  inflating: /content/OIVIS_Lab_3/train/labels/autosave13_04_2013_13_27_59_1_jpg.rf.6bd84e29bb13ee86a94cf63a9c5ab9b0.txt  \n",
            "  inflating: /content/OIVIS_Lab_3/train/labels/autosave13_04_2013_13_27_59_2_jpg.rf.340687f6d0dcd4e9365474d6335e72c8.txt  \n",
            "  inflating: /content/OIVIS_Lab_3/train/labels/autosave13_04_2013_13_28_01_1_jpg.rf.42e81cd88ebae723656ca3e9afb14f26.txt  \n",
            "  inflating: /content/OIVIS_Lab_3/train/labels/autosave13_04_2013_13_28_03_0_jpg.rf.706329fffa4ee543282ce9a4140bcd42.txt  \n",
            "  inflating: /content/OIVIS_Lab_3/train/labels/autosave13_04_2013_13_28_03_2_jpg.rf.0f24233e7595610791a484746539c9cc.txt  \n",
            "  inflating: /content/OIVIS_Lab_3/train/labels/autosave13_04_2013_13_28_05_0_jpg.rf.2106af79643fd86e1cd27fa34854a612.txt  \n",
            "  inflating: /content/OIVIS_Lab_3/train/labels/autosave13_04_2013_13_28_07_1_jpg.rf.a3fff30e3765eceb2b5a9246a765c198.txt  \n",
            "  inflating: /content/OIVIS_Lab_3/train/labels/autosave13_04_2013_13_28_07_3_jpg.rf.195d1a3dbc9f6b3fc1cdb80f4bdd3980.txt  \n",
            "  inflating: /content/OIVIS_Lab_3/train/labels/autosave13_04_2013_13_28_15_0_jpg.rf.e99cb396127009c0d073679093578114.txt  \n",
            "  inflating: /content/OIVIS_Lab_3/train/labels/autosave13_04_2013_13_28_20_2_jpg.rf.74de85d18eee7bfe41897dff1837a6eb.txt  \n",
            "  inflating: /content/OIVIS_Lab_3/train/labels/autosave13_04_2013_13_28_22_2_jpg.rf.db374f367e6c362c2461650b73e71d7d.txt  \n",
            "  inflating: /content/OIVIS_Lab_3/train/labels/autosave13_04_2013_13_28_22_3_jpg.rf.1d574125c91780d534bdf2166ec7ba7c.txt  \n",
            "  inflating: /content/OIVIS_Lab_3/train/labels/autosave13_04_2013_13_28_29_0_jpg.rf.43f1c6687c5da6e40be76e639998bf34.txt  \n",
            "  inflating: /content/OIVIS_Lab_3/train/labels/autosave13_04_2013_13_28_31_2_jpg.rf.10e9a523382881a175ce484b7a8e2f17.txt  \n",
            "  inflating: /content/OIVIS_Lab_3/train/labels/autosave13_04_2013_13_28_36_0_jpg.rf.77f00c50ea9f1545292e31220c3c6425.txt  \n",
            "  inflating: /content/OIVIS_Lab_3/train/labels/autosave13_04_2013_13_28_40_0_jpg.rf.5b5c48eb5dd9b7d9b29085c699a6ec5c.txt  \n",
            "  inflating: /content/OIVIS_Lab_3/train/labels/autosave13_04_2013_13_28_40_1_jpg.rf.4a2f117229ae1346feb80975c953772f.txt  \n",
            "  inflating: /content/OIVIS_Lab_3/train/labels/autosave13_04_2013_13_28_50_0_jpg.rf.fbab84819b322ef6a46765b8e2a9cda3.txt  \n",
            "  inflating: /content/OIVIS_Lab_3/train/labels/autosave13_04_2013_13_32_23_2_jpg.rf.e33e72fba3cefcd011522281e7dd5253.txt  \n",
            "  inflating: /content/OIVIS_Lab_3/train/labels/autosave13_04_2013_13_38_27_1_jpg.rf.ceb98bae2b2e8a9555dce5f948e50e8f.txt  \n",
            "  inflating: /content/OIVIS_Lab_3/train/labels/autosave13_04_2013_13_38_31_1_jpg.rf.90b6d0cffaa6962e31a3d54b80384733.txt  \n",
            "  inflating: /content/OIVIS_Lab_3/train/labels/autosave13_04_2013_13_38_32_1_jpg.rf.20526b93b705bcc00b3624c6f2260bfa.txt  \n",
            "  inflating: /content/OIVIS_Lab_3/train/labels/autosave13_04_2013_13_38_49_2_jpg.rf.02fe4cf74653d25e16f8cc13ff46d326.txt  \n",
            "  inflating: /content/OIVIS_Lab_3/train/labels/autosave13_04_2013_13_38_56_0_jpg.rf.1d7e0b89160e40219abc302a480ec9c2.txt  \n",
            "  inflating: /content/OIVIS_Lab_3/train/labels/autosave13_04_2013_13_39_22_0_jpg.rf.1f3456d347824c0886af1967249a284a.txt  \n",
            "  inflating: /content/OIVIS_Lab_3/train/labels/autosave13_04_2013_13_39_22_1_jpg.rf.b41ebe1308e878e8cc0aa38d2cdd5713.txt  \n",
            "  inflating: /content/OIVIS_Lab_3/train/labels/autosave13_04_2013_13_39_26_0_jpg.rf.083710670e27f09fb9e0552d5e3b815d.txt  \n",
            "  inflating: /content/OIVIS_Lab_3/train/labels/autosave13_04_2013_13_39_47_1_jpg.rf.803e3b833b90d08084d93f26c9a66f9e.txt  \n",
            "  inflating: /content/OIVIS_Lab_3/train/labels/autosave13_04_2013_13_39_48_3_jpg.rf.f7a901def51811b1bd15c19f7b458602.txt  \n",
            "  inflating: /content/OIVIS_Lab_3/train/labels/autosave13_04_2013_13_39_50_0_jpg.rf.0e07bce19f0f4cc4adf6fc3fab9d566f.txt  \n",
            "  inflating: /content/OIVIS_Lab_3/train/labels/autosave13_04_2013_13_40_00_2_jpg.rf.6b3c3fdc24878d414451e65d83464dd7.txt  \n",
            "  inflating: /content/OIVIS_Lab_3/train/labels/autosave13_04_2013_13_40_18_2_jpg.rf.5c49b32c94c1905612d8e2e236f8912c.txt  \n",
            "  inflating: /content/OIVIS_Lab_3/train/labels/autosave13_04_2013_13_40_55_2_jpg.rf.1e470ed699afbc0edcdf22ab113628ed.txt  \n",
            "  inflating: /content/OIVIS_Lab_3/train/labels/autosave13_04_2013_13_40_59_0_jpg.rf.328b6246235ba320e19626e72165bb26.txt  \n",
            "  inflating: /content/OIVIS_Lab_3/train/labels/autosave13_04_2013_13_40_59_1_jpg.rf.77c6e9d9ad12c48d85d6d272481b5085.txt  \n",
            "  inflating: /content/OIVIS_Lab_3/train/labels/autosave13_04_2013_13_41_01_0_jpg.rf.d653532bfc27e742b3055d796de149e2.txt  \n",
            "  inflating: /content/OIVIS_Lab_3/train/labels/autosave13_04_2013_13_41_02_0_jpg.rf.d6d84d1540d700b8f9cd4c537080ac3b.txt  \n",
            "  inflating: /content/OIVIS_Lab_3/train/labels/autosave13_04_2013_13_41_02_2_jpg.rf.79df5f116952ce925584960bf3f2a457.txt  \n",
            "  inflating: /content/OIVIS_Lab_3/train/labels/autosave13_04_2013_13_41_03_0_jpg.rf.8f92e3250c0c650200e75187db717db0.txt  \n",
            "  inflating: /content/OIVIS_Lab_3/train/labels/autosave13_04_2013_13_41_03_2_jpg.rf.202006a56a8bc15903f13266de4cc360.txt  \n",
            "  inflating: /content/OIVIS_Lab_3/train/labels/autosave13_04_2013_13_41_04_3_jpg.rf.a4c53aaf9c7ac1e50db6bc0b70cc1727.txt  \n",
            "  inflating: /content/OIVIS_Lab_3/train/labels/autosave13_04_2013_13_41_16_3_jpg.rf.dbf009be0f1910f1a8859de9fde7ab3f.txt  \n",
            "  inflating: /content/OIVIS_Lab_3/train/labels/autosave13_04_2013_13_41_20_1_jpg.rf.c18fd9d0d5ab70e315b8af101f125885.txt  \n",
            "  inflating: /content/OIVIS_Lab_3/train/labels/autosave13_04_2013_13_41_21_3_jpg.rf.f30a2ad64382492d3319d99d21aa76a4.txt  \n",
            "  inflating: /content/OIVIS_Lab_3/train/labels/autosave13_04_2013_13_41_26_2_jpg.rf.1a9cbc4a0455dfb7e6034bbbceb42e18.txt  \n",
            "  inflating: /content/OIVIS_Lab_3/train/labels/autosave13_04_2013_13_41_28_2_jpg.rf.cbdc5806320562548bba2228c650b374.txt  \n",
            "  inflating: /content/OIVIS_Lab_3/train/labels/autosave13_04_2013_13_41_29_0_jpg.rf.71f937251a0e488a231a05928dffd037.txt  \n",
            "  inflating: /content/OIVIS_Lab_3/train/labels/autosave13_04_2013_13_41_58_3_jpg.rf.5a6c3af8182c9b385597f5c7bf491ac3.txt  \n",
            "  inflating: /content/OIVIS_Lab_3/train/labels/autosave13_04_2013_13_42_01_1_jpg.rf.a9baf7d4abbb8fdc1493c9b5e4e34370.txt  \n",
            "  inflating: /content/OIVIS_Lab_3/train/labels/autosave13_04_2013_13_42_23_2_jpg.rf.a331cf344eaa9fc266725bdf230ad948.txt  \n",
            "  inflating: /content/OIVIS_Lab_3/train/labels/autosave13_04_2013_13_42_51_2_jpg.rf.02c388b194658c946eebbb3768c5f657.txt  \n",
            "  inflating: /content/OIVIS_Lab_3/train/labels/autosave13_04_2013_13_43_10_2_jpg.rf.49d63d8243259434c25912126aefc8eb.txt  \n",
            "  inflating: /content/OIVIS_Lab_3/train/labels/autosave13_04_2013_13_43_18_0_jpg.rf.a7296aa9c18b57b0c841819f948aa777.txt  \n",
            "  inflating: /content/OIVIS_Lab_3/train/labels/autosave13_04_2013_13_43_18_1_jpg.rf.5687ceb4e2c0f84392d0286678e9515f.txt  \n",
            "  inflating: /content/OIVIS_Lab_3/train/labels/autosave13_04_2013_13_43_22_2_jpg.rf.159fb6611c148ead5d9c54f7064a14c9.txt  \n",
            "  inflating: /content/OIVIS_Lab_3/train/labels/autosave13_04_2013_13_44_02_1_jpg.rf.e4ebf1e2880021944b66c3e7801d2199.txt  \n",
            "  inflating: /content/OIVIS_Lab_3/train/labels/autosave13_04_2013_13_44_22_1_jpg.rf.c580f5445099f2a8af79f7ef5a8ae54a.txt  \n",
            "  inflating: /content/OIVIS_Lab_3/train/labels/autosave13_04_2013_13_44_23_0_jpg.rf.80817bc77c988f541be8143501881b15.txt  \n",
            "  inflating: /content/OIVIS_Lab_3/train/labels/autosave13_04_2013_13_44_23_1_jpg.rf.9c72f9bcba8831c228da7a4d05b86ed6.txt  \n",
            "  inflating: /content/OIVIS_Lab_3/train/labels/autosave13_04_2013_13_44_38_0_jpg.rf.dd23007dc4fc5fc0f53ad67b3c3e3da7.txt  \n",
            "  inflating: /content/OIVIS_Lab_3/train/labels/autosave13_04_2013_13_44_58_1_jpg.rf.b8492e0ddbfd64b91d7b0410bbff5414.txt  \n",
            "  inflating: /content/OIVIS_Lab_3/train/labels/autosave13_04_2013_13_45_15_0_jpg.rf.6ce5c9fbdd7719b955d1baa07ea44a06.txt  \n",
            "  inflating: /content/OIVIS_Lab_3/train/labels/autosave13_04_2013_13_45_15_1_jpg.rf.80e9a0c31538ccfa194d7ed20a74d096.txt  \n",
            "  inflating: /content/OIVIS_Lab_3/train/labels/autosave13_04_2013_13_45_16_1_jpg.rf.d28dd347a61d4de437c467a2f555bfb1.txt  \n",
            "  inflating: /content/OIVIS_Lab_3/train/labels/autosave13_04_2013_13_45_44_2_jpg.rf.3894a96c52fbc70ab57230393251aab6.txt  \n",
            "  inflating: /content/OIVIS_Lab_3/train/labels/autosave13_04_2013_13_45_45_2_jpg.rf.8f5bb7ad06a5142610a31a0e2db24eca.txt  \n",
            "  inflating: /content/OIVIS_Lab_3/train/labels/autosave13_04_2013_13_45_47_0_jpg.rf.406b71c5a8d393f328a72aa2dcec0bce.txt  \n",
            "  inflating: /content/OIVIS_Lab_3/train/labels/autosave13_04_2013_13_46_19_0_jpg.rf.054e197548a2834f2ddd1ad3fee376dd.txt  \n",
            "  inflating: /content/OIVIS_Lab_3/train/labels/autosave13_04_2013_13_46_21_3_jpg.rf.0c1794488efecddb16c21bd372e82c0c.txt  \n",
            "  inflating: /content/OIVIS_Lab_3/train/labels/autosave13_04_2013_13_46_25_0_jpg.rf.d17fb6a245743328b7353bb43feab733.txt  \n",
            "  inflating: /content/OIVIS_Lab_3/train/labels/autosave13_04_2013_13_47_01_2_jpg.rf.337ea1a97ee59124ae5528b79c37572c.txt  \n",
            "  inflating: /content/OIVIS_Lab_3/train/labels/autosave13_04_2013_13_47_27_2_jpg.rf.991d93e8a7ebfcfd4d68ad1a16ec0aef.txt  \n",
            "  inflating: /content/OIVIS_Lab_3/train/labels/autosave13_04_2013_13_48_14_0_jpg.rf.86057b057d23425593a8387a1a55d520.txt  \n",
            "  inflating: /content/OIVIS_Lab_3/train/labels/autosave13_04_2013_13_48_14_2_jpg.rf.288011815fe1deeb51107078195ad771.txt  \n",
            "  inflating: /content/OIVIS_Lab_3/train/labels/autosave13_04_2013_13_50_20_0_jpg.rf.cdee886c8f5f2b2a0b66716859c91c84.txt  \n",
            "  inflating: /content/OIVIS_Lab_3/train/labels/autosave13_04_2013_13_50_20_2_jpg.rf.174b3f399b9006e5c3ebd6c0b6c425d9.txt  \n",
            "  inflating: /content/OIVIS_Lab_3/train/labels/autosave13_04_2013_13_50_21_0_jpg.rf.4938715b6fc6dbd85cb6202074097b00.txt  \n",
            "  inflating: /content/OIVIS_Lab_3/train/labels/autosave13_04_2013_13_52_00_2_jpg.rf.bad9300b2243b05986d6158026083ef1.txt  \n",
            "  inflating: /content/OIVIS_Lab_3/train/labels/autosave13_04_2013_13_52_01_1_jpg.rf.60fc495cdffb5849b7f65d2c7e6a5895.txt  \n",
            "  inflating: /content/OIVIS_Lab_3/train/labels/autosave13_04_2013_13_52_01_2_jpg.rf.4e6f7df212176cc49b3a3087f63bdc33.txt  \n",
            "  inflating: /content/OIVIS_Lab_3/train/labels/autosave13_04_2013_13_52_22_0_jpg.rf.ff3d17705ecb59dda0bd77ea83aa7fb9.txt  \n",
            "  inflating: /content/OIVIS_Lab_3/train/labels/autosave13_04_2013_13_52_26_1_jpg.rf.5e80259be99cd9fec4054681b2b87d05.txt  \n",
            "  inflating: /content/OIVIS_Lab_3/train/labels/autosave13_04_2013_13_53_18_2_jpg.rf.17ea77d73baf4258f848263338ca1a4d.txt  \n",
            "  inflating: /content/OIVIS_Lab_3/train/labels/autosave13_04_2013_13_53_19_0_jpg.rf.6aeb5d75b9cd11bb739ee383029d884d.txt  \n",
            "  inflating: /content/OIVIS_Lab_3/train/labels/autosave13_04_2013_13_53_37_0_jpg.rf.92c584ad6f1ea3023f36f541b30d1f12.txt  \n",
            "  inflating: /content/OIVIS_Lab_3/train/labels/autosave13_04_2013_13_53_37_1_jpg.rf.f3de52ad6e70af5d9feb0ebd6f95b650.txt  \n",
            "  inflating: /content/OIVIS_Lab_3/train/labels/autosave13_04_2013_13_55_03_2_jpg.rf.d92be7234eae57abef3bf858532d162d.txt  \n",
            "  inflating: /content/OIVIS_Lab_3/train/labels/autosave13_04_2013_13_55_04_0_jpg.rf.94f20b8596d1e15d835cea1cc4b6dc31.txt  \n",
            "  inflating: /content/OIVIS_Lab_3/train/labels/autosave13_04_2013_13_55_54_0_jpg.rf.d8afc6a424933a7ea3ccf91ac2ee1056.txt  \n",
            "  inflating: /content/OIVIS_Lab_3/train/labels/autosave13_04_2013_13_56_05_1_jpg.rf.15a05ef6a6fe20ca577d256747621b58.txt  \n",
            "  inflating: /content/OIVIS_Lab_3/train/labels/autosave13_04_2013_13_56_30_2_jpg.rf.b02e4db73a2d3419a167c9e123efdd94.txt  \n",
            "  inflating: /content/OIVIS_Lab_3/train/labels/autosave13_04_2013_13_56_31_0_jpg.rf.f907266108cfadeba2f58ba508ae22d7.txt  \n",
            "  inflating: /content/OIVIS_Lab_3/train/labels/autosave13_04_2013_13_56_32_0_jpg.rf.813b3e8f7c82456c0e4ba55e49593c7a.txt  \n",
            "  inflating: /content/OIVIS_Lab_3/train/labels/autosave13_04_2013_14_12_01_1_jpg.rf.4cf3abd85b7692d0b497c24fabb38861.txt  \n",
            "  inflating: /content/OIVIS_Lab_3/train/labels/autosave13_04_2013_14_12_03_0_jpg.rf.e30ff35d2707e9cb94fb5289ab2b47d7.txt  \n",
            "  inflating: /content/OIVIS_Lab_3/train/labels/autosave13_04_2013_14_12_03_2_jpg.rf.1e405709dfd2c2871bd0c83eb03f4679.txt  \n",
            "  inflating: /content/OIVIS_Lab_3/train/labels/autosave13_04_2013_14_12_04_2_jpg.rf.bd39d83f22abe4a11f2cef7fa8812884.txt  \n",
            "  inflating: /content/OIVIS_Lab_3/train/labels/autosave13_04_2013_14_12_17_1_jpg.rf.6d54eae06910455d42d333ceb0bcaf6c.txt  \n",
            "  inflating: /content/OIVIS_Lab_3/train/labels/autosave13_04_2013_14_12_18_1_jpg.rf.752e1779db71edf8934c8acb173f4e94.txt  \n",
            "  inflating: /content/OIVIS_Lab_3/train/labels/autosave13_04_2013_14_12_47_0_jpg.rf.86a8063e1ec830f49353d9010252232a.txt  \n",
            "  inflating: /content/OIVIS_Lab_3/train/labels/autosave13_04_2013_14_12_47_2_jpg.rf.f7b93540a1863cb440506f34c2646c7a.txt  \n",
            "  inflating: /content/OIVIS_Lab_3/train/labels/autosave13_04_2013_14_13_21_1_jpg.rf.5275018358ac088d1597b1db3f15247e.txt  \n",
            "  inflating: /content/OIVIS_Lab_3/train/labels/autosave13_04_2013_14_13_23_1_jpg.rf.6abcfa089eef3798513f716fef11c27b.txt  \n",
            "  inflating: /content/OIVIS_Lab_3/train/labels/autosave13_04_2013_14_13_25_0_jpg.rf.19cac074549044e11208ac582d4964a2.txt  \n",
            "  inflating: /content/OIVIS_Lab_3/train/labels/autosave13_04_2013_14_13_25_1_jpg.rf.4431487a093f7ce3f41a243f4075ba13.txt  \n",
            "  inflating: /content/OIVIS_Lab_3/train/labels/autosave13_04_2013_14_13_31_2_jpg.rf.be5df5cff124b6a6c93336845dedad9f.txt  \n",
            "  inflating: /content/OIVIS_Lab_3/train/labels/autosave13_04_2013_14_13_32_1_jpg.rf.80f58890e0b02f57739fa84c4cd89de2.txt  \n",
            "  inflating: /content/OIVIS_Lab_3/train/labels/autosave13_04_2013_14_13_33_0_jpg.rf.61c82f13d14e0f2eb0c2b522bfe882e0.txt  \n",
            "  inflating: /content/OIVIS_Lab_3/train/labels/autosave13_04_2013_14_14_00_2_jpg.rf.5135bcce809bbb689125f872f7166c27.txt  \n",
            "  inflating: /content/OIVIS_Lab_3/train/labels/autosave13_04_2013_14_14_36_1_jpg.rf.9082fec841458afa20b8db2af2401141.txt  \n",
            "  inflating: /content/OIVIS_Lab_3/train/labels/autosave13_04_2013_14_15_06_3_jpg.rf.ac173939f660ba6af111f6d6b0ed577d.txt  \n",
            "  inflating: /content/OIVIS_Lab_3/train/labels/autosave13_04_2013_14_15_32_2_jpg.rf.25f71abfbb090eeb8c5d59a83a6d822a.txt  \n",
            "  inflating: /content/OIVIS_Lab_3/train/labels/autosave13_04_2013_14_15_33_0_jpg.rf.98a0ae356d04150cd140bfb8fb4c0bf8.txt  \n",
            "  inflating: /content/OIVIS_Lab_3/train/labels/autosave13_04_2013_14_15_56_0_jpg.rf.c73e1e204a382b7cda21b38f59749b6d.txt  \n",
            "  inflating: /content/OIVIS_Lab_3/train/labels/autosave13_04_2013_14_16_14_2_jpg.rf.3bf624b143c104a6ed5640c1f9d2f9a3.txt  \n",
            "  inflating: /content/OIVIS_Lab_3/train/labels/autosave13_04_2013_14_16_15_2_jpg.rf.96e5e614f0a895e00b2749b8f0c6080e.txt  \n",
            "  inflating: /content/OIVIS_Lab_3/train/labels/autosave13_04_2013_14_16_38_2_jpg.rf.c9e5ad48bd6154ff0b90f47d689f197a.txt  \n",
            "  inflating: /content/OIVIS_Lab_3/train/labels/autosave13_04_2013_14_16_40_3_jpg.rf.3352dfd5af31664489505c058f3a0947.txt  \n",
            "  inflating: /content/OIVIS_Lab_3/train/labels/autosave13_04_2013_14_16_46_2_jpg.rf.a32392c5378bb49b10798b3d3cbd37d0.txt  \n",
            "  inflating: /content/OIVIS_Lab_3/train/labels/autosave13_04_2013_14_16_54_2_jpg.rf.0438d8a5214ae849a855af8c90e6daa3.txt  \n",
            "  inflating: /content/OIVIS_Lab_3/train/labels/autosave13_04_2013_14_17_07_1_jpg.rf.c936df290247afb94f22266eaf9e28f2.txt  \n",
            "  inflating: /content/OIVIS_Lab_3/train/labels/autosave13_04_2013_14_17_11_2_jpg.rf.f166c153bdeff7b66c9dc2faab4f03f0.txt  \n",
            "  inflating: /content/OIVIS_Lab_3/train/labels/autosave13_04_2013_14_17_15_0_jpg.rf.d9a019db69927d7dd7a91f8fa0d5ccdf.txt  \n",
            "  inflating: /content/OIVIS_Lab_3/train/labels/autosave13_04_2013_14_17_15_2_jpg.rf.1e6cbe1eee78ae6696a67f11d4b8138f.txt  \n",
            "  inflating: /content/OIVIS_Lab_3/train/labels/autosave13_04_2013_14_17_55_0_jpg.rf.3a3c167f4351de52303eba23b72ed8a4.txt  \n",
            "  inflating: /content/OIVIS_Lab_3/train/labels/autosave13_04_2013_15_16_09_1_jpg.rf.9e4709b96fe50951a1787ffe1308b4b7.txt  \n",
            "  inflating: /content/OIVIS_Lab_3/train/labels/autosave13_04_2013_15_16_11_2_jpg.rf.62ea4735ae03b3f394b8ce139e18d664.txt  \n",
            "  inflating: /content/OIVIS_Lab_3/train/labels/autosave13_04_2013_15_16_11_3_jpg.rf.e008875083816b22332f967ea6eb524d.txt  \n",
            "  inflating: /content/OIVIS_Lab_3/train/labels/autosave13_04_2013_15_16_15_0_jpg.rf.9acea70f08bb2cae92e5233c294e982e.txt  \n",
            "  inflating: /content/OIVIS_Lab_3/train/labels/autosave13_04_2013_15_16_40_0_jpg.rf.2945e870391265f23d92dcbfc33d9e7f.txt  \n",
            "  inflating: /content/OIVIS_Lab_3/train/labels/autosave13_04_2013_15_17_03_3_jpg.rf.d46ff9ecacfbfc2e24b1ce0179bcd9c8.txt  \n",
            "  inflating: /content/OIVIS_Lab_3/train/labels/autosave13_04_2013_15_17_17_1_jpg.rf.6b051524b50120f8b92d86d4388d857e.txt  \n",
            "  inflating: /content/OIVIS_Lab_3/train/labels/autosave13_04_2013_15_17_17_2_jpg.rf.c76e3903936f15748293e957e2c86787.txt  \n",
            "  inflating: /content/OIVIS_Lab_3/train/labels/autosave13_04_2013_15_17_18_2_jpg.rf.040e2ce4cd16c4a8478828f538879e73.txt  \n",
            "  inflating: /content/OIVIS_Lab_3/train/labels/autosave13_04_2013_15_17_21_4_jpg.rf.2badef923075c3d54712e25ab5c00d6c.txt  \n",
            "  inflating: /content/OIVIS_Lab_3/train/labels/autosave13_04_2013_15_17_23_0_jpg.rf.92d0a247184b27acbf9ea775f2cf1365.txt  \n",
            "  inflating: /content/OIVIS_Lab_3/train/labels/autosave13_04_2013_15_17_25_2_jpg.rf.f60646084882c6cea65ffe957d5c9659.txt  \n",
            "  inflating: /content/OIVIS_Lab_3/train/labels/autosave13_04_2013_15_17_29_3_jpg.rf.76dd3ce3e5f5212359ff6758c3be1813.txt  \n",
            "  inflating: /content/OIVIS_Lab_3/train/labels/autosave13_04_2013_15_17_39_0_jpg.rf.2ce991e59b5ffe11ee9979f4803cbad8.txt  \n",
            "  inflating: /content/OIVIS_Lab_3/train/labels/autosave13_04_2013_15_17_39_2_jpg.rf.dce3f0241dbb63f1dbd13744e9b79cea.txt  \n",
            "  inflating: /content/OIVIS_Lab_3/train/labels/autosave13_04_2013_15_17_41_3_jpg.rf.7cb4807f460a0966e809d930f961d96e.txt  \n",
            "  inflating: /content/OIVIS_Lab_3/train/labels/autosave13_04_2013_15_17_43_1_jpg.rf.855de5f9cb5d3758b9764512aedfb4b8.txt  \n",
            "  inflating: /content/OIVIS_Lab_3/train/labels/autosave13_04_2013_15_17_43_2_jpg.rf.8a0ce17503356fd2d385cb38802720f0.txt  \n",
            "  inflating: /content/OIVIS_Lab_3/train/labels/autosave13_04_2013_15_18_20_2_jpg.rf.b5bcb79ebbcbcfa121bfbf0ea22abcf1.txt  \n",
            "  inflating: /content/OIVIS_Lab_3/train/labels/autosave13_04_2013_15_18_21_0_jpg.rf.15584b5acad5664fe4fcb237d556d783.txt  \n",
            "  inflating: /content/OIVIS_Lab_3/train/labels/autosave13_04_2013_15_18_23_1_jpg.rf.a97b459ab8b11139170c7ffaae103b49.txt  \n",
            "  inflating: /content/OIVIS_Lab_3/train/labels/autosave13_04_2013_15_18_24_1_jpg.rf.691c389c23e01b80a47144ad4396c1ea.txt  \n",
            "  inflating: /content/OIVIS_Lab_3/train/labels/autosave13_04_2013_15_18_24_2_jpg.rf.6ce454da38557b165ed2c923c655a71b.txt  \n",
            "  inflating: /content/OIVIS_Lab_3/train/labels/autosave13_04_2013_15_18_46_2_jpg.rf.cef6a9c7997e404af5b54380a4d696b2.txt  \n",
            "  inflating: /content/OIVIS_Lab_3/train/labels/autosave13_04_2013_15_18_51_2_jpg.rf.957b7aa192ba4573df4f5651d5224812.txt  \n",
            "  inflating: /content/OIVIS_Lab_3/train/labels/autosave13_04_2013_15_22_41_2_jpg.rf.7cfe8cea260dae9fd23f98b742ff72fe.txt  \n",
            "  inflating: /content/OIVIS_Lab_3/train/labels/autosave13_04_2013_15_22_54_0_jpg.rf.720f1a8c4137647acb58c2e44e6918af.txt  \n",
            "  inflating: /content/OIVIS_Lab_3/train/labels/autosave13_04_2013_15_22_54_1_jpg.rf.3fe662d0a363cfaf252d36102f728e4f.txt  \n",
            "  inflating: /content/OIVIS_Lab_3/train/labels/autosave13_04_2013_15_22_56_1_jpg.rf.95ce42dbcc18963d9d35d031f2a3a651.txt  \n",
            "  inflating: /content/OIVIS_Lab_3/train/labels/autosave13_04_2013_15_22_58_2_jpg.rf.763291e942b562d79ccf9f4aa0a78a74.txt  \n",
            "  inflating: /content/OIVIS_Lab_3/train/labels/autosave13_04_2013_15_22_58_3_jpg.rf.987f3f0c5edf7e2a151b2c0a057e434e.txt  \n",
            "  inflating: /content/OIVIS_Lab_3/train/labels/autosave13_04_2013_15_23_01_1_jpg.rf.c415d804da06a1c052a9789e7bf47b4d.txt  \n",
            "  inflating: /content/OIVIS_Lab_3/train/labels/autosave13_04_2013_15_23_09_0_jpg.rf.5ecc592407a8ead6960ce63d1cff661f.txt  \n",
            "  inflating: /content/OIVIS_Lab_3/train/labels/autosave13_04_2013_15_23_10_1_jpg.rf.56f3688751d02a0b7cc695400c2e7285.txt  \n",
            "  inflating: /content/OIVIS_Lab_3/train/labels/autosave13_04_2013_15_23_11_1_jpg.rf.3fc9c7d5f956a742e2b177ce9f35b2e1.txt  \n",
            "  inflating: /content/OIVIS_Lab_3/train/labels/autosave13_04_2013_15_23_51_2_jpg.rf.e8184074f5c6ca87b87e9c97de354ffc.txt  \n",
            "  inflating: /content/OIVIS_Lab_3/train/labels/autosave13_04_2013_15_23_52_1_jpg.rf.5d9b25509a380da768559cfa49164350.txt  \n",
            "  inflating: /content/OIVIS_Lab_3/train/labels/autosave13_04_2013_15_23_53_0_jpg.rf.af006cd1c7a11f8ca1ee637290f91ea8.txt  \n",
            "  inflating: /content/OIVIS_Lab_3/train/labels/autosave13_04_2013_15_23_53_1_jpg.rf.c49f70311352372dd5c626b937401fc5.txt  \n",
            "  inflating: /content/OIVIS_Lab_3/train/labels/autosave13_04_2013_15_23_55_0_jpg.rf.f39e9986fb48a3f9c7886983ca1141a9.txt  \n",
            "  inflating: /content/OIVIS_Lab_3/train/labels/autosave13_04_2013_15_23_59_3_jpg.rf.81b6d9b1708be3644320ec129797f6a6.txt  \n",
            "  inflating: /content/OIVIS_Lab_3/train/labels/autosave13_04_2013_15_24_01_1_jpg.rf.411e509acea3730fe66f04bec0be40ab.txt  \n",
            "  inflating: /content/OIVIS_Lab_3/train/labels/autosave13_04_2013_15_24_04_0_jpg.rf.e7edee71eaaf2005f7391e3ab7000399.txt  \n",
            "  inflating: /content/OIVIS_Lab_3/train/labels/autosave13_04_2013_15_24_28_3_jpg.rf.90809f415353aaeffd6b10c162ae65d3.txt  \n",
            "  inflating: /content/OIVIS_Lab_3/train/labels/autosave13_04_2013_15_24_29_1_jpg.rf.915b97303f46c47fda71846c6984048b.txt  \n",
            "  inflating: /content/OIVIS_Lab_3/train/labels/autosave13_04_2013_15_24_32_2_jpg.rf.4025606c711e0a6c9f69388bb0b8b7eb.txt  \n",
            "  inflating: /content/OIVIS_Lab_3/train/labels/autosave13_04_2013_15_24_33_1_jpg.rf.07236d570d1730aa3e2a98de1afc0dcb.txt  \n",
            "  inflating: /content/OIVIS_Lab_3/train/labels/autosave13_04_2013_15_24_34_2_jpg.rf.313e1b456daae541076dc42f956a9654.txt  \n",
            "  inflating: /content/OIVIS_Lab_3/train/labels/autosave13_04_2013_15_24_40_2_jpg.rf.6e7ee570d1d819b49997874cdd43f066.txt  \n",
            "  inflating: /content/OIVIS_Lab_3/train/labels/autosave13_04_2013_15_24_45_0_jpg.rf.5d946d36e7a3a6188dde865db6e78f07.txt  \n",
            "  inflating: /content/OIVIS_Lab_3/train/labels/autosave13_04_2013_15_24_49_0_jpg.rf.8fc35a0c47364f943f7895a6ffb0cfd3.txt  \n",
            "  inflating: /content/OIVIS_Lab_3/train/labels/autosave13_04_2013_15_29_47_2_jpg.rf.39eb4c4420bb351e0f1249cd7e722280.txt  \n",
            "  inflating: /content/OIVIS_Lab_3/train/labels/autosave13_04_2013_15_29_55_3_jpg.rf.a6ce833d9624929e5e7188914b2103b5.txt  \n",
            "  inflating: /content/OIVIS_Lab_3/train/labels/autosave13_04_2013_15_30_04_1_jpg.rf.32c092daf01f18338f1220be33089375.txt  \n",
            "  inflating: /content/OIVIS_Lab_3/train/labels/autosave13_04_2013_15_30_05_2_jpg.rf.65734a76b941b908c50a6f544855dcbf.txt  \n",
            "  inflating: /content/OIVIS_Lab_3/train/labels/autosave13_04_2013_15_30_10_0_jpg.rf.a67e39fe1c400895a1604039643ace43.txt  \n",
            "  inflating: /content/OIVIS_Lab_3/train/labels/autosave13_04_2013_15_30_10_1_jpg.rf.f8c85285e61112a690a397894f483b5d.txt  \n",
            "  inflating: /content/OIVIS_Lab_3/train/labels/autosave13_04_2013_15_30_12_1_jpg.rf.e12313cc1644280ad8fe9fc1acd68175.txt  \n",
            "  inflating: /content/OIVIS_Lab_3/train/labels/autosave13_04_2013_15_30_19_0_jpg.rf.8b8188613e433150f7aa03aaf0f84f40.txt  \n",
            "  inflating: /content/OIVIS_Lab_3/train/labels/autosave13_04_2013_15_30_21_1_jpg.rf.0403bb246783f70c00b24ebd75b7d6e4.txt  \n",
            "  inflating: /content/OIVIS_Lab_3/train/labels/autosave13_04_2013_15_31_36_2_jpg.rf.b9c99fe420f80662d52bdc3d7c7fc271.txt  \n",
            "  inflating: /content/OIVIS_Lab_3/train/labels/autosave13_04_2013_15_32_06_0_jpg.rf.7dc8a460036ee0436d00c8e7f0819834.txt  \n",
            "  inflating: /content/OIVIS_Lab_3/train/labels/autosave13_04_2013_15_32_32_1_jpg.rf.5e67a347e5c661a0aceda8f04d5bd0d0.txt  \n",
            "  inflating: /content/OIVIS_Lab_3/train/labels/autosave13_04_2013_15_33_46_1_jpg.rf.af9f4b59f49bd367163be002d123eb0b.txt  \n",
            "  inflating: /content/OIVIS_Lab_3/train/labels/autosave13_04_2013_15_33_57_3_jpg.rf.af30a1d106136fa470bd9ff785600381.txt  \n",
            "  inflating: /content/OIVIS_Lab_3/train/labels/autosave13_04_2013_15_34_03_0_jpg.rf.869c503e72503f08f82e28ac75120726.txt  \n",
            "  inflating: /content/OIVIS_Lab_3/train/labels/autosave13_04_2013_15_34_51_1_jpg.rf.1c873a08c2b003a51d90eac9a119c496.txt  \n",
            "  inflating: /content/OIVIS_Lab_3/train/labels/autosave13_04_2013_15_35_23_1_jpg.rf.d9c82112d3714d0aadc6477537009de7.txt  \n",
            "  inflating: /content/OIVIS_Lab_3/train/labels/autosave13_04_2013_15_35_24_1_jpg.rf.210867df2a541c88500e23cfc735a1a4.txt  \n",
            "  inflating: /content/OIVIS_Lab_3/train/labels/autosave13_04_2013_15_35_30_4_jpg.rf.8556bbf16fa6c0fff885f560ef7d1c5e.txt  \n",
            "  inflating: /content/OIVIS_Lab_3/train/labels/autosave13_04_2013_15_35_32_0_jpg.rf.f225563b9d56b10091c76d5c45f733b7.txt  \n",
            "  inflating: /content/OIVIS_Lab_3/train/labels/autosave13_04_2013_15_35_34_0_jpg.rf.6342468c61f23a816c2bfa64c31f53d1.txt  \n",
            "  inflating: /content/OIVIS_Lab_3/train/labels/autosave13_04_2013_15_35_35_1_jpg.rf.b21042bce781bb4cd42a87903ce679a2.txt  \n",
            "  inflating: /content/OIVIS_Lab_3/train/labels/autosave13_04_2013_15_35_37_0_jpg.rf.9a38a444320a1e96f608ec4839b13956.txt  \n",
            "  inflating: /content/OIVIS_Lab_3/train/labels/autosave13_04_2013_15_35_37_1_jpg.rf.2a497d5685deb016c2ee77c90abf8d1c.txt  \n",
            "  inflating: /content/OIVIS_Lab_3/train/labels/autosave13_04_2013_15_35_37_4_jpg.rf.864b58d6b6380e466a0960725eda9d93.txt  \n",
            "  inflating: /content/OIVIS_Lab_3/train/labels/autosave13_04_2013_15_35_38_0_jpg.rf.d536b86636db246ac621bf55a68eff85.txt  \n",
            "  inflating: /content/OIVIS_Lab_3/train/labels/autosave13_04_2013_15_35_42_1_jpg.rf.3a19a2cb86c5d235da303ba44ba8e7c3.txt  \n",
            "  inflating: /content/OIVIS_Lab_3/train/labels/autosave13_04_2013_15_35_49_2_jpg.rf.65220f41e7bade26a0111329631a5cf5.txt  \n",
            "  inflating: /content/OIVIS_Lab_3/train/labels/autosave13_04_2013_15_35_54_1_jpg.rf.3d9c928ac2ac3c860caf23db6c90bdaa.txt  \n",
            "  inflating: /content/OIVIS_Lab_3/train/labels/autosave13_04_2013_15_36_10_2_jpg.rf.7e565f7aed8b2d4cb0203d0aada7f14a.txt  \n",
            "  inflating: /content/OIVIS_Lab_3/train/labels/autosave13_04_2013_15_36_11_1_jpg.rf.84740b30a323f5bbe514b420c022eafe.txt  \n",
            "  inflating: /content/OIVIS_Lab_3/train/labels/autosave13_04_2013_15_36_12_1_jpg.rf.e503f8b9336934ce76b18c45724cbd85.txt  \n",
            "  inflating: /content/OIVIS_Lab_3/train/labels/autosave13_04_2013_15_39_07_0_jpg.rf.c2ea853ed4a1c92197b0971920e8c31b.txt  \n",
            "  inflating: /content/OIVIS_Lab_3/train/labels/autosave13_04_2013_15_39_07_3_jpg.rf.9c8f47bcd80c2cd9db8fd3f584e60f37.txt  \n",
            "  inflating: /content/OIVIS_Lab_3/train/labels/autosave13_04_2013_15_39_15_2_jpg.rf.6da385839ee34656a25a4fe463a9468f.txt  \n",
            "  inflating: /content/OIVIS_Lab_3/train/labels/autosave13_04_2013_15_45_57_3_jpg.rf.0715a94e093fcde33da5b6c8556d60ff.txt  \n",
            "  inflating: /content/OIVIS_Lab_3/train/labels/autosave13_04_2013_15_46_04_0_jpg.rf.c80b927875bb5b6f8c35015ddca1a913.txt  \n",
            "  inflating: /content/OIVIS_Lab_3/train/labels/autosave13_04_2013_15_48_04_2_jpg.rf.d660c39b9ae6e180af15f3d10ed7be70.txt  \n",
            "  inflating: /content/OIVIS_Lab_3/train/labels/autosave13_04_2013_15_48_05_0_jpg.rf.9c26b03723ad6be7f808068d6e7f5d1d.txt  \n",
            "  inflating: /content/OIVIS_Lab_3/train/labels/autosave13_04_2013_15_48_07_1_jpg.rf.65f241451d4868a73b29ee0df922039b.txt  \n",
            "  inflating: /content/OIVIS_Lab_3/train/labels/autosave13_04_2013_15_48_12_3_jpg.rf.2d4bd8a4949a311b1f6276028d60a56e.txt  \n",
            "  inflating: /content/OIVIS_Lab_3/train/labels/autosave13_04_2013_15_51_59_0_jpg.rf.db9650cfed7c269c6e8b8f79a4e56307.txt  \n",
            "  inflating: /content/OIVIS_Lab_3/train/labels/autosave13_04_2013_15_51_59_1_jpg.rf.0796a605d8c8854c900b6d94f52e165a.txt  \n",
            "  inflating: /content/OIVIS_Lab_3/train/labels/autosave13_04_2013_15_53_11_0_jpg.rf.9f8d6ebef08aed0d1dd8835ff209a2e0.txt  \n",
            "  inflating: /content/OIVIS_Lab_3/train/labels/autosave13_04_2013_15_53_15_1_jpg.rf.c2c9b9f23c478223dff54d67392643b7.txt  \n",
            "  inflating: /content/OIVIS_Lab_3/train/labels/autosave13_04_2013_15_53_18_1_jpg.rf.172101cfad1fc5f8b04e787dc4cec78a.txt  \n",
            "  inflating: /content/OIVIS_Lab_3/train/labels/autosave13_04_2013_15_53_24_0_jpg.rf.c2d8a6a788e55c703b5e062dd1afd6fc.txt  \n",
            "  inflating: /content/OIVIS_Lab_3/train/labels/autosave13_04_2013_15_53_29_3_jpg.rf.9d7e42fefabed6a002bc153e76e190c2.txt  \n",
            "  inflating: /content/OIVIS_Lab_3/train/labels/autosave13_04_2013_15_53_31_2_jpg.rf.e250a0bc01548ec36822901ace64907b.txt  \n",
            "  inflating: /content/OIVIS_Lab_3/train/labels/autosave13_04_2013_15_53_33_0_jpg.rf.97e973103a9132c404dd0cb2a776c83b.txt  \n",
            "  inflating: /content/OIVIS_Lab_3/train/labels/autosave13_04_2013_15_53_33_1_jpg.rf.bf815a7a63704279835a7a47b568e132.txt  \n",
            "  inflating: /content/OIVIS_Lab_3/train/labels/autosave13_04_2013_15_53_42_0_jpg.rf.908d4fbbc45bb0586bcd3d640d39fef2.txt  \n",
            "  inflating: /content/OIVIS_Lab_3/train/labels/autosave13_04_2013_15_53_46_0_jpg.rf.5d082c0f64e7c70d7030ecde1fd87a73.txt  \n",
            "  inflating: /content/OIVIS_Lab_3/train/labels/autosave13_04_2013_15_53_59_0_jpg.rf.bedb998bacd40545f6c4b10c049c15ea.txt  \n",
            "  inflating: /content/OIVIS_Lab_3/train/labels/autosave13_04_2013_15_54_01_0_jpg.rf.3f87a377b992f088a84b0f20a42de2e1.txt  \n",
            "  inflating: /content/OIVIS_Lab_3/train/labels/autosave13_04_2013_15_54_03_0_jpg.rf.a0f7604fa8249ec7129dd58dd256b2f8.txt  \n",
            "  inflating: /content/OIVIS_Lab_3/train/labels/autosave13_04_2013_15_54_22_2_jpg.rf.532fe3c1aa3a03b811686fa0141fa7cd.txt  \n",
            "  inflating: /content/OIVIS_Lab_3/train/labels/autosave13_04_2013_15_54_24_1_jpg.rf.acc6bdaa141fb247eb9dab4822237928.txt  \n",
            "  inflating: /content/OIVIS_Lab_3/train/labels/autosave13_04_2013_15_54_40_0_jpg.rf.93bdaaa69844ef1c6d3203dfccb3e215.txt  \n",
            "  inflating: /content/OIVIS_Lab_3/train/labels/autosave13_04_2013_15_54_42_1_jpg.rf.d59b5f3be28eae27fde26d0c2be5e025.txt  \n",
            "  inflating: /content/OIVIS_Lab_3/train/labels/autosave13_04_2013_15_54_42_2_jpg.rf.10f88408e58dc457242c01f1235c0a92.txt  \n",
            "  inflating: /content/OIVIS_Lab_3/train/labels/autosave13_04_2013_15_54_43_1_jpg.rf.572659e09609984a7462d68c9acad5bb.txt  \n",
            "  inflating: /content/OIVIS_Lab_3/train/labels/autosave13_04_2013_15_54_45_0_jpg.rf.b3df574f747f598330cb701d23798f65.txt  \n",
            "  inflating: /content/OIVIS_Lab_3/train/labels/autosave13_04_2013_15_54_45_1_jpg.rf.49cfbe6b1fd2331922ed42f9e21cfd2a.txt  \n",
            "  inflating: /content/OIVIS_Lab_3/train/labels/autosave13_04_2013_15_57_38_1_jpg.rf.8f0a56d8fc883f39feb8b6062f5dc0a6.txt  \n",
            "  inflating: /content/OIVIS_Lab_3/train/labels/autosave13_04_2013_15_57_54_2_jpg.rf.8195cf9ca6341ba3b560343d1de29479.txt  \n",
            "  inflating: /content/OIVIS_Lab_3/train/labels/autosave13_04_2013_15_57_58_1_jpg.rf.21f81c6f8542b9385c81a0a8567bf3a4.txt  \n",
            "  inflating: /content/OIVIS_Lab_3/train/labels/autosave13_04_2013_15_58_23_1_jpg.rf.d7e1fd5521e8d254e2cc3e72be7f7727.txt  \n",
            "  inflating: /content/OIVIS_Lab_3/train/labels/autosave13_04_2013_15_58_23_2_jpg.rf.1a5da9a5592b7d72f9256c5816f071b2.txt  \n",
            "  inflating: /content/OIVIS_Lab_3/train/labels/autosave13_04_2013_15_58_25_0_jpg.rf.78661e88650cb33d59952712c60d983c.txt  \n",
            "  inflating: /content/OIVIS_Lab_3/train/labels/autosave13_04_2013_15_58_29_1_jpg.rf.a0a53585ab2838c95905f53ccaf3b801.txt  \n",
            "  inflating: /content/OIVIS_Lab_3/train/labels/autosave13_04_2013_15_58_50_0_jpg.rf.f35a55fa4c60928c16c6fb396c367031.txt  \n",
            "  inflating: /content/OIVIS_Lab_3/train/labels/autosave13_04_2013_15_58_54_2_jpg.rf.2a305d8e6607aaaa680dd0dfc8deb358.txt  \n",
            "  inflating: /content/OIVIS_Lab_3/train/labels/autosave13_04_2013_15_58_56_2_jpg.rf.db036a274a5743726b5cb573e96b29d9.txt  \n",
            "  inflating: /content/OIVIS_Lab_3/train/labels/autosave13_04_2013_15_58_56_3_jpg.rf.491525c93c5997b8cb9b61801c1ef99f.txt  \n",
            "  inflating: /content/OIVIS_Lab_3/train/labels/autosave13_04_2013_15_59_04_1_jpg.rf.dd814309bc4b1e599cbdbb59af56fdca.txt  \n",
            "  inflating: /content/OIVIS_Lab_3/train/labels/autosave13_04_2013_15_59_04_3_jpg.rf.d207f76760e5d38182abe7f8c0b7386a.txt  \n",
            "  inflating: /content/OIVIS_Lab_3/train/labels/autosave13_04_2013_15_59_44_2_jpg.rf.5806a14d9844097cf53b28e338aafe61.txt  \n",
            "  inflating: /content/OIVIS_Lab_3/train/labels/autosave13_04_2013_15_59_45_2_jpg.rf.13702d8d0eea0e859ded911ea60d2933.txt  \n",
            "  inflating: /content/OIVIS_Lab_3/train/labels/autosave13_04_2013_15_59_56_0_jpg.rf.a9669f3f3cc60afafada4121f6f375b9.txt  \n",
            "  inflating: /content/OIVIS_Lab_3/train/labels/autosave13_04_2013_16_00_52_2_jpg.rf.3f43d97432dccebe3d803ba6e226da61.txt  \n",
            "  inflating: /content/OIVIS_Lab_3/train/labels/autosave13_04_2013_16_00_57_1_jpg.rf.47d6b1adf564cb571eb424a204097a3a.txt  \n",
            "  inflating: /content/OIVIS_Lab_3/train/labels/autosave13_04_2013_16_01_01_0_jpg.rf.4276d3a61dbb44cae8d6ea54a87b6bed.txt  \n",
            "  inflating: /content/OIVIS_Lab_3/train/labels/autosave16_04_2013_11_29_56_0_jpg.rf.f5fb6a62e105c64cb214400474eec019.txt  \n",
            "  inflating: /content/OIVIS_Lab_3/train/labels/autosave16_04_2013_11_29_56_2_jpg.rf.8f107a4b172cba956546e947cdfedf74.txt  \n",
            "  inflating: /content/OIVIS_Lab_3/train/labels/autosave16_04_2013_11_29_56_3_jpg.rf.502b88989ce3ae96b196f21e7f3a9183.txt  \n",
            "  inflating: /content/OIVIS_Lab_3/train/labels/autosave16_04_2013_11_30_34_0_jpg.rf.4fb6f770c9c3baca6ad1e1fc33586d23.txt  \n",
            "  inflating: /content/OIVIS_Lab_3/train/labels/autosave16_04_2013_11_30_38_0_jpg.rf.b982da6a53547fce6677502043312589.txt  \n",
            "  inflating: /content/OIVIS_Lab_3/train/labels/autosave16_04_2013_11_30_38_2_jpg.rf.569427ff377ccbfab50813fea5846dc1.txt  \n",
            "  inflating: /content/OIVIS_Lab_3/train/labels/autosave16_04_2013_11_30_42_0_jpg.rf.2061fbebc629c4d359e3342063465ee1.txt  \n",
            "  inflating: /content/OIVIS_Lab_3/train/labels/autosave16_04_2013_11_30_42_3_jpg.rf.a2a9fa7ee3510129c4d4d11e260db3a2.txt  \n",
            "  inflating: /content/OIVIS_Lab_3/train/labels/autosave16_04_2013_11_30_45_0_jpg.rf.7ca464f5018d6685afc1cf67eb61a7e4.txt  \n",
            "  inflating: /content/OIVIS_Lab_3/train/labels/autosave16_04_2013_11_30_54_0_jpg.rf.26fabc5fca188841f27231a153e92e94.txt  \n",
            "  inflating: /content/OIVIS_Lab_3/train/labels/autosave16_04_2013_11_30_57_0_jpg.rf.5eb3f8337eabeabc1ced822fd21e3c34.txt  \n",
            "  inflating: /content/OIVIS_Lab_3/train/labels/autosave16_04_2013_11_31_02_1_jpg.rf.00086c00bbafa9d8e6cd7d0bdd5c2a18.txt  \n",
            "  inflating: /content/OIVIS_Lab_3/train/labels/autosave16_04_2013_11_31_08_2_jpg.rf.78ab22e5029f4e7013087bdb4d92e3ad.txt  \n",
            "  inflating: /content/OIVIS_Lab_3/train/labels/autosave16_04_2013_11_31_12_0_jpg.rf.9dc3436aec030db8930561cd846cc7e4.txt  \n",
            "  inflating: /content/OIVIS_Lab_3/train/labels/autosave16_04_2013_11_31_14_1_jpg.rf.66b9be798a64af1a3e57b521827925a7.txt  \n",
            "  inflating: /content/OIVIS_Lab_3/train/labels/autosave16_04_2013_11_31_16_1_jpg.rf.f2dfa1e925e9c3e6ffb126b5bc2476ae.txt  \n",
            "  inflating: /content/OIVIS_Lab_3/train/labels/autosave16_04_2013_11_31_18_3_jpg.rf.447035916c91064b48720f12ec243aeb.txt  \n",
            "  inflating: /content/OIVIS_Lab_3/train/labels/autosave16_04_2013_11_31_20_2_jpg.rf.ce59560ea618a71a9a5d30361ac472c8.txt  \n",
            "  inflating: /content/OIVIS_Lab_3/train/labels/autosave16_04_2013_11_31_31_0_jpg.rf.62a3642298b03912652c83e4d6cca98f.txt  \n",
            "  inflating: /content/OIVIS_Lab_3/train/labels/autosave16_04_2013_11_31_31_1_jpg.rf.85cf4f3e5bb6485285cae625aedf7011.txt  \n",
            "  inflating: /content/OIVIS_Lab_3/train/labels/autosave16_04_2013_11_31_35_0_jpg.rf.6f830c067847822fd88fa06a5c000342.txt  \n",
            "  inflating: /content/OIVIS_Lab_3/train/labels/autosave16_04_2013_11_31_35_2_jpg.rf.8556d1ec288305d6b72f6066cdeaa23e.txt  \n",
            "  inflating: /content/OIVIS_Lab_3/train/labels/autosave16_04_2013_11_31_46_2_jpg.rf.8840c18e1e04a03ab2894fba34c3fa82.txt  \n",
            "  inflating: /content/OIVIS_Lab_3/train/labels/autosave16_04_2013_11_31_51_1_jpg.rf.d5a73baa424969647004e1bed553b8b2.txt  \n",
            "  inflating: /content/OIVIS_Lab_3/train/labels/autosave16_04_2013_11_31_52_2_jpg.rf.f968397806fb977885a1e1e36accbea4.txt  \n",
            "  inflating: /content/OIVIS_Lab_3/train/labels/autosave16_04_2013_11_31_55_1_jpg.rf.2f36a7aa162b269cc41fafb24306ae12.txt  \n",
            "  inflating: /content/OIVIS_Lab_3/train/labels/autosave16_04_2013_11_31_56_0_jpg.rf.5500690d3f4c41172645c5a49802795c.txt  \n",
            "  inflating: /content/OIVIS_Lab_3/train/labels/autosave16_04_2013_11_32_07_1_jpg.rf.f09745484278bd3122a9d4923f0f9eed.txt  \n",
            "  inflating: /content/OIVIS_Lab_3/train/labels/autosave16_04_2013_11_32_17_0_jpg.rf.db67e03903c3b3b837b9e73d3a1a166f.txt  \n",
            "  inflating: /content/OIVIS_Lab_3/train/labels/autosave16_04_2013_11_32_55_1_jpg.rf.da68873c886029e63cd27563f19e4d70.txt  \n",
            "  inflating: /content/OIVIS_Lab_3/train/labels/autosave16_04_2013_11_32_56_2_jpg.rf.5fb80870777ebdeb429878df65a08eef.txt  \n",
            "  inflating: /content/OIVIS_Lab_3/train/labels/autosave16_04_2013_11_33_00_0_jpg.rf.7c24e1cc620785b91ce602bbc0b37953.txt  \n",
            "  inflating: /content/OIVIS_Lab_3/train/labels/autosave16_04_2013_11_35_10_0_jpg.rf.5b9552cb167f14612d99274a6760bfae.txt  \n",
            "  inflating: /content/OIVIS_Lab_3/train/labels/autosave16_04_2013_11_35_16_2_jpg.rf.7ecf8866f6c359bcea31ac109b39094a.txt  \n",
            "  inflating: /content/OIVIS_Lab_3/train/labels/autosave16_04_2013_11_35_35_1_jpg.rf.045f20a675a269fb3999c0134047b6c2.txt  \n",
            "  inflating: /content/OIVIS_Lab_3/train/labels/autosave16_04_2013_11_35_39_2_jpg.rf.6f8f976d59b3510ecf636568a9aeea07.txt  \n",
            "  inflating: /content/OIVIS_Lab_3/train/labels/autosave16_04_2013_11_35_39_3_jpg.rf.786a9561dda6a79b5d9ad7fcdf456307.txt  \n",
            "  inflating: /content/OIVIS_Lab_3/train/labels/autosave16_04_2013_11_35_43_0_jpg.rf.b4917d1c5b72ea4b88dae55bc70c1f57.txt  \n",
            "  inflating: /content/OIVIS_Lab_3/train/labels/autosave16_04_2013_11_35_43_1_jpg.rf.c75bf3895b93b5a879d30060806c6707.txt  \n",
            "  inflating: /content/OIVIS_Lab_3/train/labels/autosave16_04_2013_11_36_10_0_jpg.rf.28abb6ad47dc597353b9243fa6faf0fc.txt  \n",
            "  inflating: /content/OIVIS_Lab_3/train/labels/autosave16_04_2013_11_36_10_2_jpg.rf.1e446efa6409afc48ab62f553f2f1eba.txt  \n",
            "  inflating: /content/OIVIS_Lab_3/train/labels/autosave16_04_2013_11_36_13_1_jpg.rf.5b622c1ab02a4f00c71c98a3ca8f1b6f.txt  \n",
            "  inflating: /content/OIVIS_Lab_3/train/labels/autosave16_04_2013_11_37_07_0_jpg.rf.d2a9cbd17e9ba9fc4c2e21ed5bdda726.txt  \n",
            "  inflating: /content/OIVIS_Lab_3/train/labels/autosave16_04_2013_11_37_07_3_jpg.rf.0e415835ac85beb9549400ec27eb41ad.txt  \n",
            "  inflating: /content/OIVIS_Lab_3/train/labels/autosave16_04_2013_11_37_10_0_jpg.rf.a2fcbd380fb9538c4871ad2bd6bdff5b.txt  \n",
            "  inflating: /content/OIVIS_Lab_3/train/labels/autosave16_04_2013_11_37_14_2_jpg.rf.8fa7d801dcc3da5632069221a4faf024.txt  \n",
            "  inflating: /content/OIVIS_Lab_3/train/labels/autosave16_04_2013_11_37_16_0_jpg.rf.f11db7d3e7ee5e6991e3295b17734554.txt  \n",
            "  inflating: /content/OIVIS_Lab_3/train/labels/autosave16_04_2013_11_37_18_0_jpg.rf.c6cf4117a87e74c53fb23177362b1cb9.txt  \n",
            "  inflating: /content/OIVIS_Lab_3/train/labels/autosave16_04_2013_11_37_27_0_jpg.rf.2aac5834d9b61f2721ab8f2f5160c0c0.txt  \n",
            "  inflating: /content/OIVIS_Lab_3/train/labels/autosave16_04_2013_11_37_29_0_jpg.rf.78aa89a765b320802e133532515e582b.txt  \n",
            "  inflating: /content/OIVIS_Lab_3/train/labels/autosave16_04_2013_11_37_31_3_jpg.rf.d10c9e859008d7360e6b5700d0ac4fe3.txt  \n",
            "  inflating: /content/OIVIS_Lab_3/train/labels/autosave16_04_2013_11_37_33_1_jpg.rf.d7688ed01ad1c08de0ed3666c9ad59e3.txt  \n",
            "  inflating: /content/OIVIS_Lab_3/train/labels/autosave16_04_2013_11_37_33_2_jpg.rf.10c8f450eaa1ce25881e65e1a5587e79.txt  \n",
            "  inflating: /content/OIVIS_Lab_3/train/labels/autosave16_04_2013_11_37_47_0_jpg.rf.4cc679df99b0e898fded87690b0720d8.txt  \n",
            "  inflating: /content/OIVIS_Lab_3/train/labels/autosave16_04_2013_11_37_50_0_jpg.rf.807386cb2c25b0f57ebf65c6641fefc0.txt  \n",
            "  inflating: /content/OIVIS_Lab_3/train/labels/autosave16_04_2013_11_37_52_0_jpg.rf.c79968772c954eb35397b2b4659759b8.txt  \n",
            "  inflating: /content/OIVIS_Lab_3/train/labels/autosave16_04_2013_11_37_53_1_jpg.rf.0f9d5366f33038f2a2dbbce2e36bf8ad.txt  \n",
            "  inflating: /content/OIVIS_Lab_3/train/labels/autosave16_04_2013_11_38_00_3_jpg.rf.18c8a08e21623b6fee8f6ffe34ad2259.txt  \n",
            "  inflating: /content/OIVIS_Lab_3/train/labels/autosave16_04_2013_11_38_02_0_jpg.rf.91de3df37644ef76e5d8af5c1c686676.txt  \n",
            "  inflating: /content/OIVIS_Lab_3/train/labels/autosave16_04_2013_11_38_02_1_jpg.rf.bdd060a74c41a23933ce90dbf89d858c.txt  \n",
            "  inflating: /content/OIVIS_Lab_3/train/labels/autosave16_04_2013_11_38_02_2_jpg.rf.98a5c18b3b70742a4320524bbb682dab.txt  \n",
            "  inflating: /content/OIVIS_Lab_3/train/labels/autosave16_04_2013_11_38_28_0_jpg.rf.03fab167c09ed16521709e273bf8eaa0.txt  \n",
            "  inflating: /content/OIVIS_Lab_3/train/labels/autosave16_04_2013_11_38_28_2_jpg.rf.ff0ec8c704eefc799be91b2d5783c5c9.txt  \n",
            "  inflating: /content/OIVIS_Lab_3/train/labels/autosave16_04_2013_11_40_57_1_jpg.rf.0e86846174cd86ae75d6f8dd9e5e61cd.txt  \n",
            "  inflating: /content/OIVIS_Lab_3/train/labels/autosave16_04_2013_11_40_57_3_jpg.rf.a99c5262df7e9d1239bd31b74aa1ebc4.txt  \n",
            "  inflating: /content/OIVIS_Lab_3/train/labels/autosave16_04_2013_11_40_59_3_jpg.rf.5c966d0a6363c9d08dbf91f613facd41.txt  \n",
            "  inflating: /content/OIVIS_Lab_3/train/labels/autosave16_04_2013_11_41_01_0_jpg.rf.56ab095dcf9e641db41c5b01dc7771dd.txt  \n",
            "  inflating: /content/OIVIS_Lab_3/train/labels/autosave16_04_2013_11_41_01_3_jpg.rf.5eef78f26c8c9aed53ac2d41e9543192.txt  \n",
            "  inflating: /content/OIVIS_Lab_3/train/labels/autosave16_04_2013_11_41_41_2_jpg.rf.d53acd300443b1d9cb5bd56977d6f432.txt  \n",
            "  inflating: /content/OIVIS_Lab_3/train/labels/autosave16_04_2013_11_41_44_1_jpg.rf.5968ec61acffb4f51e37c05893942d6c.txt  \n",
            "  inflating: /content/OIVIS_Lab_3/train/labels/autosave16_04_2013_11_41_46_1_jpg.rf.f1e788aa36326fea5bc7a579f8393e32.txt  \n",
            "  inflating: /content/OIVIS_Lab_3/train/labels/autosave16_04_2013_11_41_46_2_jpg.rf.acb1a884ba6c59c29e7be3c0014221e3.txt  \n",
            "  inflating: /content/OIVIS_Lab_3/train/labels/autosave16_04_2013_11_41_46_3_jpg.rf.39e04acbea54ea7eb123ec8217ce8772.txt  \n",
            "  inflating: /content/OIVIS_Lab_3/train/labels/autosave16_04_2013_11_41_48_0_jpg.rf.41843dc3d230851453e09223c230df84.txt  \n",
            "  inflating: /content/OIVIS_Lab_3/train/labels/autosave16_04_2013_11_41_48_1_jpg.rf.626636a5d18b7a2a4fd010fca14c6819.txt  \n",
            "  inflating: /content/OIVIS_Lab_3/train/labels/autosave16_04_2013_11_42_49_1_jpg.rf.f63c478ccd84f51cbdf4510f6e2e323c.txt  \n",
            "  inflating: /content/OIVIS_Lab_3/train/labels/autosave16_04_2013_11_42_50_1_jpg.rf.f4fb0381c1374dbd0e50279ef2725559.txt  \n",
            "  inflating: /content/OIVIS_Lab_3/train/labels/autosave16_04_2013_11_42_52_1_jpg.rf.a63aedaa4f30bb90c8569d5034ebe6d7.txt  \n",
            "  inflating: /content/OIVIS_Lab_3/train/labels/autosave16_04_2013_11_43_04_2_jpg.rf.18eda43e72381bf05503cd461450045a.txt  \n",
            "  inflating: /content/OIVIS_Lab_3/train/labels/autosave16_04_2013_11_43_04_3_jpg.rf.5f6e7da5f0950534ccb2732099ffebe2.txt  \n",
            "  inflating: /content/OIVIS_Lab_3/train/labels/autosave16_04_2013_11_43_13_0_jpg.rf.1dca79c263c87e604833d54cd70d7698.txt  \n",
            "  inflating: /content/OIVIS_Lab_3/train/labels/autosave16_04_2013_11_43_17_0_jpg.rf.8be2e9cf18fac7ec83502d995637d890.txt  \n",
            "  inflating: /content/OIVIS_Lab_3/train/labels/autosave16_04_2013_11_43_17_1_jpg.rf.20a285374fe1e995a3f81e1cfa97cc02.txt  \n",
            "  inflating: /content/OIVIS_Lab_3/train/labels/autosave16_04_2013_11_43_52_1_jpg.rf.f34ac0abae9009b89b0e61dceed8461a.txt  \n",
            "  inflating: /content/OIVIS_Lab_3/train/labels/autosave16_04_2013_11_43_54_2_jpg.rf.d2ecc4d009a664826467e4a8b5f7db72.txt  \n",
            "  inflating: /content/OIVIS_Lab_3/train/labels/autosave16_04_2013_11_45_00_0_jpg.rf.59e0a27eda67ac22731eb97da5260bfb.txt  \n",
            "  inflating: /content/OIVIS_Lab_3/train/labels/autosave16_04_2013_11_45_00_1_jpg.rf.c588e326207e3b232f22463ceb70618d.txt  \n",
            "  inflating: /content/OIVIS_Lab_3/train/labels/autosave16_04_2013_11_45_33_1_jpg.rf.224b397add6d9de607a9846781454e40.txt  \n",
            "  inflating: /content/OIVIS_Lab_3/train/labels/autosave16_04_2013_11_45_35_0_jpg.rf.ed3cc99cb9a96c102ecb1dfc65a3507f.txt  \n",
            "  inflating: /content/OIVIS_Lab_3/train/labels/autosave16_04_2013_11_45_35_2_jpg.rf.6f733c6b7550c745b635bef26ba4a0cb.txt  \n",
            "  inflating: /content/OIVIS_Lab_3/train/labels/autosave16_04_2013_11_46_00_2_jpg.rf.f69a03dec51117ab176e40a5fb0cb170.txt  \n",
            "  inflating: /content/OIVIS_Lab_3/train/labels/autosave16_04_2013_11_46_03_3_jpg.rf.c2265874d1c13aa6e7c8646504796adf.txt  \n",
            "  inflating: /content/OIVIS_Lab_3/train/labels/autosave16_04_2013_11_46_05_0_jpg.rf.32f38627f35d168c6e2f3506f4824e3c.txt  \n",
            "  inflating: /content/OIVIS_Lab_3/train/labels/autosave16_04_2013_11_46_05_2_jpg.rf.a163525b1faa0fb296dd5487942a80bb.txt  \n",
            "  inflating: /content/OIVIS_Lab_3/train/labels/autosave16_04_2013_11_46_11_0_jpg.rf.720222fd6cc16d0c8c9fc043b6df2ea9.txt  \n",
            "  inflating: /content/OIVIS_Lab_3/train/labels/autosave16_04_2013_11_46_11_1_jpg.rf.142065c8802a7f7b13c26d261c5033e2.txt  \n",
            "  inflating: /content/OIVIS_Lab_3/train/labels/autosave16_04_2013_11_46_11_3_jpg.rf.878b74a8bd9e3d01bb9384baf06ff1d1.txt  \n",
            "  inflating: /content/OIVIS_Lab_3/train/labels/autosave16_04_2013_11_46_48_0_jpg.rf.2fab27121131ae8308c085a5a969f18f.txt  \n",
            "  inflating: /content/OIVIS_Lab_3/train/labels/autosave16_04_2013_11_47_17_0_jpg.rf.ac57e72583f3417508945ac306c28098.txt  \n",
            "  inflating: /content/OIVIS_Lab_3/train/labels/autosave16_04_2013_11_47_30_3_jpg.rf.8780ceafa39e8226fd3908cca589e4ba.txt  \n",
            "  inflating: /content/OIVIS_Lab_3/train/labels/autosave16_04_2013_11_47_33_1_jpg.rf.bd2798a3f8eb2f7aa09e540a71a22bb3.txt  \n",
            "  inflating: /content/OIVIS_Lab_3/train/labels/autosave16_04_2013_11_47_33_3_jpg.rf.6d15c018c85367ee9810e7ec02b5c5d2.txt  \n",
            "  inflating: /content/OIVIS_Lab_3/train/labels/autosave16_04_2013_11_47_37_2_jpg.rf.9fbf37b44f5af8bd9e5be5c6d9d3aa4a.txt  \n",
            "  inflating: /content/OIVIS_Lab_3/train/labels/autosave16_04_2013_11_47_39_0_jpg.rf.8f0e1fc63bf920c81355e75a82ff4643.txt  \n",
            "  inflating: /content/OIVIS_Lab_3/train/labels/autosave16_04_2013_11_47_39_2_jpg.rf.5f0932ed7e4c000fa7cfd95aee3dbb97.txt  \n",
            "  inflating: /content/OIVIS_Lab_3/train/labels/autosave16_04_2013_11_48_03_0_jpg.rf.b6bc26453a8ba94778d6d2913d5aafb7.txt  \n",
            "  inflating: /content/OIVIS_Lab_3/train/labels/autosave16_04_2013_11_48_06_1_jpg.rf.344efdaebbc7d63cc8996e2bd0b27399.txt  \n",
            "  inflating: /content/OIVIS_Lab_3/train/labels/autosave16_04_2013_11_48_55_2_jpg.rf.32bbb1348b9401e91637b8a025fe8f40.txt  \n",
            "  inflating: /content/OIVIS_Lab_3/train/labels/autosave16_04_2013_11_48_56_2_jpg.rf.69c2462194396ae69a31fcf5566f718b.txt  \n",
            "  inflating: /content/OIVIS_Lab_3/train/labels/autosave16_04_2013_11_48_58_1_jpg.rf.ef41950c52be055730e2aa6633b4abea.txt  \n",
            "  inflating: /content/OIVIS_Lab_3/train/labels/autosave16_04_2013_11_49_00_1_jpg.rf.c2bd188f10b361cd25e6d5f20ca7d022.txt  \n",
            "  inflating: /content/OIVIS_Lab_3/train/labels/autosave16_04_2013_11_49_01_1_jpg.rf.387d24afc760cbd65b5c8e167b248f7a.txt  \n",
            "  inflating: /content/OIVIS_Lab_3/train/labels/autosave16_04_2013_11_49_03_0_jpg.rf.8a1eed0ae751ef95e5e4b778fd93f882.txt  \n",
            "  inflating: /content/OIVIS_Lab_3/train/labels/autosave16_04_2013_11_49_55_1_jpg.rf.d624808191b0dc22861c980550040635.txt  \n",
            "  inflating: /content/OIVIS_Lab_3/train/labels/autosave16_04_2013_11_50_25_2_jpg.rf.b385f9f10a75cd8e91044cb137a72099.txt  \n",
            "  inflating: /content/OIVIS_Lab_3/train/labels/autosave16_04_2013_11_52_17_3_jpg.rf.c49ea69062e586e7d04f89a313f35e2c.txt  \n",
            "  inflating: /content/OIVIS_Lab_3/train/labels/autosave16_04_2013_11_52_19_2_jpg.rf.60e36a2d75e8cfcaf6fc98f149ed5895.txt  \n",
            "  inflating: /content/OIVIS_Lab_3/train/labels/autosave16_04_2013_11_52_41_0_jpg.rf.334e398d6ef76613a6e8158f3f42921e.txt  \n",
            "  inflating: /content/OIVIS_Lab_3/train/labels/autosave16_04_2013_11_52_41_1_jpg.rf.01c8ee229ad4e8b328b0855639924617.txt  \n",
            "  inflating: /content/OIVIS_Lab_3/train/labels/autosave16_04_2013_11_53_11_0_jpg.rf.ac13d94c3e3384c6049eb0ddda449739.txt  \n",
            "  inflating: /content/OIVIS_Lab_3/train/labels/autosave16_04_2013_11_53_11_2_jpg.rf.deef4b4c0ab003caf0cdd3c76d28ef79.txt  \n",
            "  inflating: /content/OIVIS_Lab_3/train/labels/autosave16_04_2013_11_53_22_0_jpg.rf.8b329d768f6e544f0fd224e93e06210b.txt  \n",
            "  inflating: /content/OIVIS_Lab_3/train/labels/autosave16_04_2013_11_55_15_1_jpg.rf.fb6e4916920985d44ca5c9d2860ff9a5.txt  \n",
            "  inflating: /content/OIVIS_Lab_3/train/labels/autosave16_04_2013_11_55_15_2_jpg.rf.91a2265c00ca0c5923967597fb22268b.txt  \n",
            "  inflating: /content/OIVIS_Lab_3/train/labels/autosave16_04_2013_11_55_15_3_jpg.rf.bcd8f98089fd70f707e5e99c9c90aa6b.txt  \n",
            "  inflating: /content/OIVIS_Lab_3/train/labels/autosave16_04_2013_11_55_19_2_jpg.rf.accdd4bee5e9e4b0f49f75b1c363b38b.txt  \n",
            "  inflating: /content/OIVIS_Lab_3/train/labels/autosave16_04_2013_11_55_19_3_jpg.rf.7fead042249671faf20005d1cac69a3c.txt  \n",
            "  inflating: /content/OIVIS_Lab_3/train/labels/autosave16_04_2013_11_55_21_0_jpg.rf.86bdf924587aafc974939d6152436d42.txt  \n",
            "  inflating: /content/OIVIS_Lab_3/train/labels/autosave16_04_2013_11_55_27_0_jpg.rf.4f19dcf52c59b9152e8fce72445d9611.txt  \n",
            "  inflating: /content/OIVIS_Lab_3/train/labels/autosave16_04_2013_11_55_51_2_jpg.rf.6915c1009e63d2bc568dd6df7aa510d7.txt  \n",
            "  inflating: /content/OIVIS_Lab_3/train/labels/autosave16_04_2013_11_55_54_0_jpg.rf.2fe30f0525afc0e6859cfc6c41d64cdb.txt  \n",
            "  inflating: /content/OIVIS_Lab_3/train/labels/autosave16_04_2013_11_55_54_1_jpg.rf.0fa6670eefed94216ced4417dc34a9b7.txt  \n",
            "  inflating: /content/OIVIS_Lab_3/train/labels/autosave16_04_2013_11_55_58_0_jpg.rf.56039140402f6e7d615b10a4fbe69533.txt  \n",
            "  inflating: /content/OIVIS_Lab_3/train/labels/autosave16_04_2013_11_56_40_0_jpg.rf.e30102ce7112c00d09592d7f88f7bcf9.txt  \n",
            "  inflating: /content/OIVIS_Lab_3/train/labels/autosave16_04_2013_11_56_43_0_jpg.rf.877fa17fecc39e605ffe7e5c23489d14.txt  \n",
            "  inflating: /content/OIVIS_Lab_3/train/labels/autosave16_04_2013_11_56_43_1_jpg.rf.bc316c392252a5a64fc419ac4959e9b5.txt  \n",
            "  inflating: /content/OIVIS_Lab_3/train/labels/autosave16_04_2013_11_56_56_0_jpg.rf.294f60895c835882a0b7de182fd4e4a3.txt  \n",
            "  inflating: /content/OIVIS_Lab_3/train/labels/autosave16_04_2013_11_57_31_2_jpg.rf.707bfff41585d6399c69e17cdb13c822.txt  \n",
            "  inflating: /content/OIVIS_Lab_3/train/labels/autosave16_04_2013_11_57_42_1_jpg.rf.1c7699a9177b7287db567e43013c4559.txt  \n",
            "  inflating: /content/OIVIS_Lab_3/train/labels/autosave16_04_2013_11_57_44_1_jpg.rf.1cf9a824a444efc0c1c61d58edf0477f.txt  \n",
            "  inflating: /content/OIVIS_Lab_3/train/labels/autosave16_04_2013_11_57_46_1_jpg.rf.4dc2e30ca2f14c58665517e490ad3a2c.txt  \n",
            "  inflating: /content/OIVIS_Lab_3/train/labels/autosave16_04_2013_11_57_47_0_jpg.rf.5a5a18464992461115c7b130043e5b7f.txt  \n",
            "  inflating: /content/OIVIS_Lab_3/train/labels/autosave16_04_2013_11_57_48_0_jpg.rf.d42ef43cf4028eaabc4420b4e7575f87.txt  \n",
            "  inflating: /content/OIVIS_Lab_3/train/labels/autosave16_04_2013_11_57_49_2_jpg.rf.ac32580cb65bfbe95b82d3fe5bfd3a58.txt  \n",
            "  inflating: /content/OIVIS_Lab_3/train/labels/autosave16_04_2013_11_58_04_1_jpg.rf.6c4674b7690113a86fb22739b8e6e11a.txt  \n",
            "  inflating: /content/OIVIS_Lab_3/train/labels/autosave16_04_2013_11_58_06_1_jpg.rf.c85bbcff72f95a672151109468288699.txt  \n",
            "  inflating: /content/OIVIS_Lab_3/train/labels/autosave16_04_2013_11_58_08_0_jpg.rf.ec3f06f94a33e70d38c4043dfe3dd74f.txt  \n",
            "  inflating: /content/OIVIS_Lab_3/train/labels/autosave16_04_2013_11_58_12_0_jpg.rf.c169b91dd9a996d3e358549426a9d3f0.txt  \n",
            "  inflating: /content/OIVIS_Lab_3/train/labels/autosave16_04_2013_11_58_18_2_jpg.rf.57cf96aacce22051f7ff2bcd3bf4f7bd.txt  \n",
            "  inflating: /content/OIVIS_Lab_3/train/labels/autosave16_04_2013_11_58_28_0_jpg.rf.4f7716bc79e57cfd511c2c8ddc654303.txt  \n",
            "  inflating: /content/OIVIS_Lab_3/train/labels/autosave16_04_2013_11_58_28_2_jpg.rf.90de441ca9cff3d48c7e5fbe78c2b588.txt  \n",
            "  inflating: /content/OIVIS_Lab_3/train/labels/autosave16_04_2013_11_58_30_2_jpg.rf.7a75d5ac152448909939b923edb838b7.txt  \n",
            "  inflating: /content/OIVIS_Lab_3/train/labels/autosave16_04_2013_11_58_34_1_jpg.rf.adc968410917019349efbb8e41d2e275.txt  \n",
            "  inflating: /content/OIVIS_Lab_3/train/labels/autosave16_04_2013_11_58_34_2_jpg.rf.0e4dc387f97b5e8a116f504c9b0831b3.txt  \n",
            "  inflating: /content/OIVIS_Lab_3/train/labels/autosave16_04_2013_11_58_34_3_jpg.rf.c9e00bbd4a76adc437eb4fdc2b098a03.txt  \n",
            "  inflating: /content/OIVIS_Lab_3/train/labels/autosave16_04_2013_11_58_45_0_jpg.rf.b8f1a2b1edf0646537026df79c597243.txt  \n",
            "  inflating: /content/OIVIS_Lab_3/train/labels/autosave16_04_2013_11_58_45_1_jpg.rf.d35887274c85b1e5cee18926cc401a54.txt  \n",
            "  inflating: /content/OIVIS_Lab_3/train/labels/autosave16_04_2013_11_58_46_1_jpg.rf.0686d3b59118a1328034975a5678a4b0.txt  \n",
            "  inflating: /content/OIVIS_Lab_3/train/labels/autosave16_04_2013_11_58_58_1_jpg.rf.cfa43c02e60e44c91251919f33a544dc.txt  \n",
            "  inflating: /content/OIVIS_Lab_3/train/labels/autosave16_04_2013_11_59_38_0_jpg.rf.7610dc130afc432a1835abd87fe989a6.txt  \n",
            "  inflating: /content/OIVIS_Lab_3/train/labels/autosave16_04_2013_11_59_39_1_jpg.rf.f012b605fdab417e3418b664fc54d94d.txt  \n",
            "  inflating: /content/OIVIS_Lab_3/train/labels/autosave16_04_2013_12_00_01_2_jpg.rf.e59ef06fc422367ec37568e3d3a3b7ad.txt  \n",
            "  inflating: /content/OIVIS_Lab_3/train/labels/autosave16_04_2013_12_00_09_0_jpg.rf.f66cc488ee7d51b6ae594a5cb871cfe3.txt  \n",
            "  inflating: /content/OIVIS_Lab_3/train/labels/autosave16_04_2013_12_00_11_0_jpg.rf.64927b233b339a1cff640040301b3342.txt  \n",
            "  inflating: /content/OIVIS_Lab_3/train/labels/autosave16_04_2013_12_00_15_3_jpg.rf.8efe3645e0520c9e0616559447d495fb.txt  \n",
            "  inflating: /content/OIVIS_Lab_3/train/labels/autosave16_04_2013_12_00_19_0_jpg.rf.e2d1c74be46c6f93a90303916335be8a.txt  \n",
            "  inflating: /content/OIVIS_Lab_3/train/labels/autosave16_04_2013_12_00_29_1_jpg.rf.9894edf773d3cbfb267bb1b957ee537b.txt  \n",
            "  inflating: /content/OIVIS_Lab_3/train/labels/autosave16_04_2013_12_00_30_1_jpg.rf.36d33b862f05c2252cdbf6da4494d539.txt  \n",
            "  inflating: /content/OIVIS_Lab_3/train/labels/autosave16_04_2013_12_00_31_0_jpg.rf.8d6192235c785deba2b0f82712322955.txt  \n",
            "  inflating: /content/OIVIS_Lab_3/train/labels/autosave16_04_2013_12_00_32_1_jpg.rf.79c0123c4d9ca5326de7d3538c9f230c.txt  \n",
            "  inflating: /content/OIVIS_Lab_3/train/labels/autosave16_04_2013_12_00_33_1_jpg.rf.afd0ce92f1358e715381e9467df5b0ee.txt  \n",
            "  inflating: /content/OIVIS_Lab_3/train/labels/autosave16_04_2013_12_00_34_2_jpg.rf.92643f53a5943cffce70b1680a0fa793.txt  \n",
            "  inflating: /content/OIVIS_Lab_3/train/labels/autosave16_04_2013_12_01_43_3_jpg.rf.dcc6bc068d9c2dbee1f2eb10db24b7a5.txt  \n",
            "  inflating: /content/OIVIS_Lab_3/train/labels/autosave16_04_2013_12_02_18_1_jpg.rf.03b1af5e5702daf2e3e63c2f94d55fe0.txt  \n",
            "  inflating: /content/OIVIS_Lab_3/train/labels/autosave16_04_2013_12_30_41_1_jpg.rf.4db22199066a39ddc5f57f7944d5b0c2.txt  \n",
            "  inflating: /content/OIVIS_Lab_3/train/labels/autosave16_04_2013_12_30_45_1_jpg.rf.f8d6d5d363ea9770ff1056bde94a25f4.txt  \n",
            "  inflating: /content/OIVIS_Lab_3/train/labels/autosave16_04_2013_12_30_47_1_jpg.rf.31cc4582af5a49bc005b5c6262ee70ee.txt  \n",
            "  inflating: /content/OIVIS_Lab_3/train/labels/autosave16_04_2013_12_31_12_1_jpg.rf.a006d815f61a2c4d74fe05e1218f3cda.txt  \n",
            "  inflating: /content/OIVIS_Lab_3/train/labels/autosave16_04_2013_12_31_36_0_jpg.rf.b1ec3bc34727ce3c7037271ea16cfc1d.txt  \n",
            "  inflating: /content/OIVIS_Lab_3/train/labels/autosave16_04_2013_12_32_07_2_jpg.rf.4a32f9441561bca2a6afbb0e9e5dc6db.txt  \n",
            "  inflating: /content/OIVIS_Lab_3/train/labels/autosave16_04_2013_12_32_19_0_jpg.rf.0a7072bc790eb2a546cb5009740bfdc3.txt  \n",
            "  inflating: /content/OIVIS_Lab_3/train/labels/autosave16_04_2013_12_32_19_1_jpg.rf.1043391e530d53a785d41d67b46d8f48.txt  \n",
            "  inflating: /content/OIVIS_Lab_3/train/labels/autosave16_04_2013_12_32_19_3_jpg.rf.f92baf55b275e32c43925552b97d920e.txt  \n",
            "  inflating: /content/OIVIS_Lab_3/train/labels/autosave16_04_2013_12_32_35_2_jpg.rf.ac11eb56b1f71579440dc31f27ea295d.txt  \n",
            "  inflating: /content/OIVIS_Lab_3/train/labels/autosave16_04_2013_12_32_37_2_jpg.rf.6b33c413d0c24fff42f5afc4629737df.txt  \n",
            "  inflating: /content/OIVIS_Lab_3/train/labels/autosave16_04_2013_12_32_41_0_jpg.rf.a300743c3573d5f89b158a83318ab9a6.txt  \n",
            "  inflating: /content/OIVIS_Lab_3/train/labels/autosave16_04_2013_12_32_48_0_jpg.rf.a85f83a8c21ff781a88c2543f07c6c14.txt  \n",
            "  inflating: /content/OIVIS_Lab_3/train/labels/autosave16_04_2013_12_32_50_1_jpg.rf.e53fe0da7abbda54e5288c9654b480c9.txt  \n",
            "  inflating: /content/OIVIS_Lab_3/train/labels/autosave16_04_2013_12_33_56_1_jpg.rf.23da09e6d98a4c9d11184a43ca2a7d04.txt  \n",
            "  inflating: /content/OIVIS_Lab_3/train/labels/autosave16_04_2013_12_38_30_0_jpg.rf.ef92abd91456111fc9f27a1864bdaa74.txt  \n",
            "  inflating: /content/OIVIS_Lab_3/train/labels/autosave16_04_2013_12_39_14_0_jpg.rf.2b8aaaee3a19dceed8c32f2982bb61e5.txt  \n",
            "  inflating: /content/OIVIS_Lab_3/train/labels/autosave16_04_2013_12_39_16_2_jpg.rf.da06b3a68113e6bebfa9c0c8c9ad876b.txt  \n",
            "  inflating: /content/OIVIS_Lab_3/train/labels/autosave16_04_2013_12_39_18_1_jpg.rf.8460dc39e4a167e63a14d8e8e119b95e.txt  \n",
            "  inflating: /content/OIVIS_Lab_3/train/labels/autosave16_04_2013_12_49_10_2_jpg.rf.f7fa3166adfb3ed1013369b598262594.txt  \n",
            "  inflating: /content/OIVIS_Lab_3/train/labels/autosave16_04_2013_12_49_11_1_jpg.rf.3cc4a4f8b6c03abe977e5d08b9d2cf51.txt  \n",
            "  inflating: /content/OIVIS_Lab_3/train/labels/autosave16_04_2013_12_49_31_0_jpg.rf.c6ef27074c3039675c61e89a0aee3262.txt  \n",
            "  inflating: /content/OIVIS_Lab_3/train/labels/autosave16_04_2013_12_49_55_0_jpg.rf.a4182a21121b1db12025c0e5bffbe885.txt  \n",
            "  inflating: /content/OIVIS_Lab_3/train/labels/autosave16_04_2013_12_50_31_0_jpg.rf.d559920f5ea10b61631543739760047a.txt  \n",
            "  inflating: /content/OIVIS_Lab_3/train/labels/autosave16_04_2013_12_50_33_0_jpg.rf.914225287c8d615a332a7ecfe31fed1a.txt  \n",
            "  inflating: /content/OIVIS_Lab_3/train/labels/autosave16_04_2013_12_55_35_0_jpg.rf.8b6170ea6142e86a8add81bba828434b.txt  \n",
            "  inflating: /content/OIVIS_Lab_3/train/labels/autosave16_04_2013_12_57_55_1_jpg.rf.33a75b11b2595d2039472d84921de980.txt  \n",
            "  inflating: /content/OIVIS_Lab_3/train/labels/autosave16_04_2013_12_57_56_0_jpg.rf.40c084051c8d7fdcb073b88681248649.txt  \n",
            "  inflating: /content/OIVIS_Lab_3/train/labels/autosave16_04_2013_12_58_10_1_jpg.rf.41a2132e34b96ac4ee6db576d841864f.txt  \n",
            "  inflating: /content/OIVIS_Lab_3/train/labels/autosave16_04_2013_12_58_13_1_jpg.rf.1da7eb584ed7193f3bb85d2769f9e121.txt  \n",
            "  inflating: /content/OIVIS_Lab_3/train/labels/autosave16_04_2013_12_58_31_2_jpg.rf.acff94162514be2875317c8061e8f249.txt  \n",
            "  inflating: /content/OIVIS_Lab_3/train/labels/autosave16_04_2013_12_58_35_1_jpg.rf.1a9218e0bfe27a8a30488340b1cb54e2.txt  \n",
            "  inflating: /content/OIVIS_Lab_3/train/labels/autosave16_04_2013_12_58_48_3_jpg.rf.d000a4cd6b140f9b06341abfb9422dea.txt  \n",
            "  inflating: /content/OIVIS_Lab_3/train/labels/autosave16_04_2013_12_58_50_2_jpg.rf.a5026389adb28a668fafbc9bc7359d84.txt  \n",
            "  inflating: /content/OIVIS_Lab_3/train/labels/autosave16_04_2013_12_58_55_2_jpg.rf.adde1d32b34016a2936abd9d2e338cf1.txt  \n",
            "  inflating: /content/OIVIS_Lab_3/train/labels/autosave16_04_2013_12_58_57_1_jpg.rf.8270b335dc2a8589799c6d26164e1a77.txt  \n",
            "  inflating: /content/OIVIS_Lab_3/train/labels/autosave16_04_2013_12_59_00_1_jpg.rf.4747680b600d73df9f0dc7a10d38be9e.txt  \n",
            "  inflating: /content/OIVIS_Lab_3/train/labels/autosave16_04_2013_12_59_11_2_jpg.rf.8b849b5d09ffdc2b084b8839d30c6853.txt  \n",
            "  inflating: /content/OIVIS_Lab_3/train/labels/autosave16_04_2013_13_01_38_0_jpg.rf.23c26eb87444f7cb29f81e7ec4e393eb.txt  \n",
            "  inflating: /content/OIVIS_Lab_3/train/labels/autosave16_04_2013_13_02_40_0_jpg.rf.8b9e06538d97b2de7f3422d1dba1738a.txt  \n",
            "  inflating: /content/OIVIS_Lab_3/train/labels/autosave16_04_2013_13_02_44_2_jpg.rf.e0587ac977c534dad82542076af339a8.txt  \n",
            "  inflating: /content/OIVIS_Lab_3/train/labels/autosave16_04_2013_13_02_48_3_jpg.rf.e237e0fa4bd6f4d4cb7f4f1b6d6e7ff5.txt  \n",
            "  inflating: /content/OIVIS_Lab_3/train/labels/autosave16_04_2013_13_04_46_0_jpg.rf.697cc1f417e125f808e62b13349dfe19.txt  \n",
            "  inflating: /content/OIVIS_Lab_3/train/labels/autosave16_04_2013_13_04_48_0_jpg.rf.7affafd87442e7c7b11440732b572e47.txt  \n",
            "  inflating: /content/OIVIS_Lab_3/train/labels/autosave16_04_2013_13_07_25_1_jpg.rf.55395e0d67560de51069c75f77c0bf16.txt  \n",
            "  inflating: /content/OIVIS_Lab_3/train/labels/autosave16_04_2013_13_07_42_0_jpg.rf.20e161e26d6a30c39477dc54ecb6fae0.txt  \n",
            "  inflating: /content/OIVIS_Lab_3/train/labels/autosave16_04_2013_13_08_01_1_jpg.rf.12a4ef3ecd035bc9a52d5afcaa153261.txt  \n",
            "  inflating: /content/OIVIS_Lab_3/train/labels/autosave16_04_2013_13_08_41_0_jpg.rf.59b9f3e43901820a8c1d5208201f9997.txt  \n",
            "  inflating: /content/OIVIS_Lab_3/train/labels/autosave16_04_2013_13_08_42_2_jpg.rf.3065b4b7093f6cde09d11135dbe1b112.txt  \n",
            "  inflating: /content/OIVIS_Lab_3/train/labels/autosave16_04_2013_13_10_13_0_jpg.rf.f1a1ff318a64195e418180d186876d56.txt  \n",
            "  inflating: /content/OIVIS_Lab_3/train/labels/autosave16_04_2013_13_10_13_1_jpg.rf.9cf8ec39a9dc0fc20f559339ed28462d.txt  \n",
            "  inflating: /content/OIVIS_Lab_3/train/labels/autosave16_04_2013_13_10_16_1_jpg.rf.90de3e6557a89542e1025f81ac9c5472.txt  \n",
            "  inflating: /content/OIVIS_Lab_3/train/labels/autosave16_04_2013_13_10_51_2_jpg.rf.9073a948472f2a1d1233b46bae4efeb1.txt  \n",
            "  inflating: /content/OIVIS_Lab_3/train/labels/autosave16_04_2013_13_10_52_2_jpg.rf.b25ed83e63d20dcd4cf53628478577de.txt  \n",
            "  inflating: /content/OIVIS_Lab_3/train/labels/autosave16_04_2013_13_10_53_1_jpg.rf.6010ab07113421de8e0a934f58b7b91b.txt  \n",
            "  inflating: /content/OIVIS_Lab_3/train/labels/autosave16_04_2013_13_11_32_0_jpg.rf.3ec8f8cd82eda14d21de6d00b36b20f5.txt  \n",
            "  inflating: /content/OIVIS_Lab_3/train/labels/autosave16_04_2013_13_11_53_0_jpg.rf.bcf2173ff097d385ca5fe52eebac8f10.txt  \n",
            "  inflating: /content/OIVIS_Lab_3/train/labels/autosave16_04_2013_13_11_53_1_jpg.rf.0e76e73d5dbf87f42468765c8cad0539.txt  \n",
            "  inflating: /content/OIVIS_Lab_3/train/labels/autosave16_04_2013_13_11_54_1_jpg.rf.5b507cf500ca804b9f557189d0413c5b.txt  \n",
            "  inflating: /content/OIVIS_Lab_3/train/labels/autosave16_04_2013_13_12_27_1_jpg.rf.8c3469b06f3abe5cc8d193e8f98028e1.txt  \n",
            "  inflating: /content/OIVIS_Lab_3/train/labels/autosave16_04_2013_13_12_28_1_jpg.rf.1804e1078c398da4b558e8aee3bcd1c9.txt  \n",
            "  inflating: /content/OIVIS_Lab_3/train/labels/autosave16_04_2013_13_12_32_2_jpg.rf.67aa50f7ca2bb10ae984d5ffc7f541b5.txt  \n",
            "  inflating: /content/OIVIS_Lab_3/train/labels/autosave16_04_2013_13_13_02_2_jpg.rf.f0f4d6bbd4ff59cdfa894097e90e85ef.txt  \n",
            "  inflating: /content/OIVIS_Lab_3/train/labels/autosave16_04_2013_13_13_06_1_jpg.rf.b0b0289ada41c33d47303cbf434a68f1.txt  \n",
            "  inflating: /content/OIVIS_Lab_3/train/labels/autosave16_04_2013_13_13_32_0_jpg.rf.ed21617f8642a72b70b71c6c0095152a.txt  \n",
            "  inflating: /content/OIVIS_Lab_3/train/labels/autosave16_04_2013_13_13_59_2_jpg.rf.76c3095a6f4f7341a8c2fdebdb154250.txt  \n",
            "  inflating: /content/OIVIS_Lab_3/train/labels/autosave16_04_2013_13_14_14_2_jpg.rf.a4a54d626b8140626d201e931dba37f4.txt  \n",
            "  inflating: /content/OIVIS_Lab_3/train/labels/autosave16_04_2013_13_16_22_2_jpg.rf.f57b579ba7ed857e373353bdb3c6cded.txt  \n",
            "  inflating: /content/OIVIS_Lab_3/train/labels/autosave16_04_2013_13_16_34_0_jpg.rf.484604c050cc9f164ec016d37f232a4e.txt  \n",
            "  inflating: /content/OIVIS_Lab_3/train/labels/autosave16_04_2013_13_16_38_0_jpg.rf.cc87acbc3433fed09fc8d2d7f299729c.txt  \n",
            "  inflating: /content/OIVIS_Lab_3/train/labels/autosave16_04_2013_13_16_38_2_jpg.rf.2343d33ad9cdbb6a067424f8e37283b7.txt  \n",
            "  inflating: /content/OIVIS_Lab_3/train/labels/autosave16_04_2013_13_19_53_0_jpg.rf.3dcb2d2a9456dfb9d7547e08fbbbbb98.txt  \n",
            "  inflating: /content/OIVIS_Lab_3/train/labels/autosave16_04_2013_13_20_42_2_jpg.rf.b3de75eabad1245afef09748c222930e.txt  \n",
            "  inflating: /content/OIVIS_Lab_3/train/labels/autosave16_04_2013_13_20_44_1_jpg.rf.601748bc4d8f1ef83df0282ef3b9191d.txt  \n",
            "  inflating: /content/OIVIS_Lab_3/train/labels/autosave16_04_2013_13_21_22_1_jpg.rf.bd5cceb6a508c4a0fd8773072774b347.txt  \n",
            "  inflating: /content/OIVIS_Lab_3/train/labels/autosave16_04_2013_13_22_45_1_jpg.rf.1cba486c7c85fbf5027888538435ba4b.txt  \n",
            "  inflating: /content/OIVIS_Lab_3/train/labels/autosave16_04_2013_13_22_59_0_jpg.rf.85fff708c83b18390c2527e8d0bddf6f.txt  \n",
            "  inflating: /content/OIVIS_Lab_3/train/labels/autosave16_04_2013_13_23_01_1_jpg.rf.0ee994cc11c5a9ea7f585932329b1220.txt  \n",
            "  inflating: /content/OIVIS_Lab_3/train/labels/autosave16_04_2013_13_23_05_0_jpg.rf.9d4d576e2eb0ffcf53d6dfe1115d9d90.txt  \n",
            "  inflating: /content/OIVIS_Lab_3/train/labels/autosave16_04_2013_13_23_05_3_jpg.rf.3d4c66f6cf9bdb69291f8c968aed5b26.txt  \n",
            "  inflating: /content/OIVIS_Lab_3/train/labels/autosave16_04_2013_13_23_17_1_jpg.rf.4158e906c28eca8664d711b3de24a667.txt  \n",
            "  inflating: /content/OIVIS_Lab_3/train/labels/autosave16_04_2013_13_23_52_0_jpg.rf.1325edd84e6203d79cfd48374d94e608.txt  \n",
            "  inflating: /content/OIVIS_Lab_3/train/labels/autosave16_04_2013_13_23_56_0_jpg.rf.ec9af164837f004733863fa968350a5e.txt  \n",
            "  inflating: /content/OIVIS_Lab_3/train/labels/autosave16_04_2013_13_23_56_2_jpg.rf.09752632b32030be45461cf92c3ca17e.txt  \n",
            "  inflating: /content/OIVIS_Lab_3/train/labels/autosave16_04_2013_13_23_58_2_jpg.rf.d010ec47d2cf3af2f53b644113b9b739.txt  \n",
            "  inflating: /content/OIVIS_Lab_3/train/labels/autosave16_04_2013_13_24_00_2_jpg.rf.b14752f2e17169f59492d7b7f7038d80.txt  \n",
            "  inflating: /content/OIVIS_Lab_3/train/labels/autosave16_04_2013_13_24_05_0_jpg.rf.bbef80fa8a747c4255b638ea5278ad53.txt  \n",
            "  inflating: /content/OIVIS_Lab_3/train/labels/autosave16_04_2013_13_24_43_3_jpg.rf.285fcc33e8761212c458f8f3a7e586e4.txt  \n",
            "  inflating: /content/OIVIS_Lab_3/train/labels/autosave16_04_2013_13_28_12_2_jpg.rf.77896c8b4f0f7a23e0de9c2627325e7f.txt  \n",
            "  inflating: /content/OIVIS_Lab_3/train/labels/autosave16_04_2013_13_28_30_3_jpg.rf.d4d37339f0d31340f0304405eff39a3d.txt  \n",
            "  inflating: /content/OIVIS_Lab_3/train/labels/autosave16_04_2013_13_28_36_0_jpg.rf.531b696b1183928e05504b10ddb63786.txt  \n",
            "  inflating: /content/OIVIS_Lab_3/train/labels/autosave16_04_2013_13_28_36_1_jpg.rf.4b2a2651a6e97fb382d1d5aca44ad2b3.txt  \n",
            "  inflating: /content/OIVIS_Lab_3/train/labels/autosave16_04_2013_13_28_38_0_jpg.rf.b56c9a1d9e90658c67f23560832e4946.txt  \n",
            "  inflating: /content/OIVIS_Lab_3/train/labels/autosave16_04_2013_13_28_45_0_jpg.rf.2793103e41a5c1219a636c73b37c4a0c.txt  \n",
            "  inflating: /content/OIVIS_Lab_3/train/labels/autosave16_04_2013_13_33_23_3_jpg.rf.49e0f5e8772ce878ba255592f531693e.txt  \n",
            "  inflating: /content/OIVIS_Lab_3/train/labels/autosave16_04_2013_13_34_09_2_jpg.rf.62c312de451119d44d69a06633aa6664.txt  \n",
            "  inflating: /content/OIVIS_Lab_3/train/labels/autosave16_04_2013_13_34_52_2_jpg.rf.11ce83ac66c57e8db0e7511c04eb6a38.txt  \n",
            "  inflating: /content/OIVIS_Lab_3/train/labels/autosave16_04_2013_13_36_10_0_jpg.rf.c70c18d6bd9ec328a653fd55b7082f44.txt  \n",
            "  inflating: /content/OIVIS_Lab_3/train/labels/autosave16_04_2013_13_36_12_0_jpg.rf.44e16d41272488537782db20448b1a14.txt  \n",
            "  inflating: /content/OIVIS_Lab_3/train/labels/autosave16_04_2013_13_36_46_0_jpg.rf.b896739e918ba720430b7159222aeaf7.txt  \n",
            "  inflating: /content/OIVIS_Lab_3/train/labels/autosave16_04_2013_13_37_04_2_jpg.rf.70418d7e7861d3239414677fc19e5795.txt  \n",
            "  inflating: /content/OIVIS_Lab_3/train/labels/autosave16_04_2013_13_37_43_2_jpg.rf.ee6b511d86daff095bb0725b9f450e82.txt  \n",
            "  inflating: /content/OIVIS_Lab_3/train/labels/autosave16_04_2013_13_39_37_0_jpg.rf.3401c200b18069bf93152d6cc760ee01.txt  \n",
            "  inflating: /content/OIVIS_Lab_3/train/labels/autosave16_04_2013_13_46_36_2_jpg.rf.b7d4be823061e010d2b3dfd7eb45ada1.txt  \n",
            "  inflating: /content/OIVIS_Lab_3/train/labels/autosave16_04_2013_13_46_38_2_jpg.rf.548494cb9f97c3e0589eb057d3c26809.txt  \n",
            "  inflating: /content/OIVIS_Lab_3/train/labels/autosave16_04_2013_13_46_39_0_jpg.rf.420d63a7f82ddf520d7fe84f40950cc6.txt  \n",
            "  inflating: /content/OIVIS_Lab_3/train/labels/autosave16_04_2013_13_46_40_0_jpg.rf.99ea5a3daae0a00fc4ca2b7bc140ffc1.txt  \n",
            "  inflating: /content/OIVIS_Lab_3/train/labels/autosave16_04_2013_13_46_41_2_jpg.rf.c10f833f2f0b6c0c38d838fcb0f6e1c1.txt  \n",
            "  inflating: /content/OIVIS_Lab_3/train/labels/autosave16_04_2013_13_50_58_1_jpg.rf.80f292600ccd0fc02524a70e37b43983.txt  \n",
            "  inflating: /content/OIVIS_Lab_3/train/labels/autosave16_04_2013_13_51_00_2_jpg.rf.12ac7024fd123ca5c32933a5ef317d22.txt  \n",
            "  inflating: /content/OIVIS_Lab_3/train/labels/autosave16_04_2013_13_52_19_0_jpg.rf.dbd2c91479dcf84d86a98f67885cf33b.txt  \n",
            "  inflating: /content/OIVIS_Lab_3/train/labels/autosave16_04_2013_13_52_19_1_jpg.rf.9baac6c5bcbcd0f52f4dd802341e203a.txt  \n",
            "  inflating: /content/OIVIS_Lab_3/train/labels/autosave16_04_2013_13_52_20_3_jpg.rf.601ca8868a01ac3434891651ea769ef6.txt  \n",
            "  inflating: /content/OIVIS_Lab_3/train/labels/autosave16_04_2013_13_53_04_0_jpg.rf.fb9964305f13913de96f0e47a45b87ab.txt  \n",
            "  inflating: /content/OIVIS_Lab_3/train/labels/autosave16_04_2013_13_53_52_2_jpg.rf.044d39a09ddb57a699c046b153905939.txt  \n",
            "  inflating: /content/OIVIS_Lab_3/train/labels/autosave16_04_2013_14_17_30_0_jpg.rf.973d7be6fc2c8791088c6de87ea17ebc.txt  \n",
            "  inflating: /content/OIVIS_Lab_3/train/labels/autosave16_04_2013_14_17_45_1_jpg.rf.c4317b4f6b6f3b93661238192aae69d2.txt  \n",
            "  inflating: /content/OIVIS_Lab_3/train/labels/autosave16_04_2013_14_18_21_1_jpg.rf.97ae7f076892297e6b4866e5bc11db97.txt  \n",
            "  inflating: /content/OIVIS_Lab_3/train/labels/autosave16_04_2013_14_18_37_1_jpg.rf.bf6315f329f1dd0b9da85d434f095a22.txt  \n",
            "  inflating: /content/OIVIS_Lab_3/train/labels/autosave16_04_2013_14_21_13_0_jpg.rf.8946656090d1b1d455eb4a4fb1ada550.txt  \n",
            "  inflating: /content/OIVIS_Lab_3/train/labels/autosave16_04_2013_14_21_38_0_jpg.rf.1494cdb1c80b222756e7bc60d7121177.txt  \n",
            "  inflating: /content/OIVIS_Lab_3/train/labels/autosave16_04_2013_14_21_49_2_jpg.rf.b3c65d1933faf860d00bfc16ba1fa1d1.txt  \n",
            "  inflating: /content/OIVIS_Lab_3/train/labels/autosave16_04_2013_14_21_51_2_jpg.rf.a455f9b9dd3a9b0bb241b411c25fd239.txt  \n",
            "  inflating: /content/OIVIS_Lab_3/train/labels/autosave16_04_2013_14_23_21_2_jpg.rf.824387c7bc4b167e36ef1f1bac6dc37a.txt  \n",
            "  inflating: /content/OIVIS_Lab_3/train/labels/autosave16_04_2013_14_23_23_0_jpg.rf.d18c988f8522883b9b04b42fe5697de1.txt  \n",
            "  inflating: /content/OIVIS_Lab_3/train/labels/autosave16_04_2013_14_23_23_1_jpg.rf.53f0d7749040adb768f4057f6a3dbf52.txt  \n",
            "  inflating: /content/OIVIS_Lab_3/train/labels/autosave16_04_2013_14_23_28_1_jpg.rf.92e52648508fd8bb17eea7ed7619e1c3.txt  \n",
            "  inflating: /content/OIVIS_Lab_3/train/labels/autosave16_04_2013_14_25_17_1_jpg.rf.d6bac1912ad7f75ece6a06e0ab53ec90.txt  \n",
            "  inflating: /content/OIVIS_Lab_3/train/labels/autosave16_04_2013_14_25_20_2_jpg.rf.da776592e05051db27141957eace81b4.txt  \n",
            "  inflating: /content/OIVIS_Lab_3/train/labels/autosave16_04_2013_14_25_27_0_jpg.rf.8a51b25d53ccec94d419b348a6d4a566.txt  \n",
            "  inflating: /content/OIVIS_Lab_3/train/labels/autosave16_04_2013_14_25_35_0_jpg.rf.983f841572c0b36aacf2369d0cd539c1.txt  \n",
            "  inflating: /content/OIVIS_Lab_3/train/labels/autosave16_04_2013_14_25_35_2_jpg.rf.4a8bd31f139dc0673cd0fdb4571acea2.txt  \n",
            "  inflating: /content/OIVIS_Lab_3/train/labels/autosave16_04_2013_14_25_37_3_jpg.rf.2d75eb70c736b3b053b5be2745c6d56e.txt  \n",
            "  inflating: /content/OIVIS_Lab_3/train/labels/autosave16_04_2013_14_25_46_0_jpg.rf.fdb96d2e111ab9aac337ba06f1a7be24.txt  \n",
            "  inflating: /content/OIVIS_Lab_3/train/labels/autosave16_04_2013_14_27_00_1_jpg.rf.7af8c7355b2cba75289f53030a78c400.txt  \n",
            "  inflating: /content/OIVIS_Lab_3/train/labels/autosave16_04_2013_14_27_04_0_jpg.rf.e80d79357fc20e3b855a16f24470fc45.txt  \n",
            "  inflating: /content/OIVIS_Lab_3/train/labels/autosave16_04_2013_14_27_13_0_jpg.rf.e6bcf207c5efc4b2d7c8a9115732519c.txt  \n",
            "  inflating: /content/OIVIS_Lab_3/train/labels/autosave16_04_2013_14_27_40_0_jpg.rf.6a70d702f8f1f05fdbfa9a94433aba10.txt  \n",
            "  inflating: /content/OIVIS_Lab_3/train/labels/autosave16_04_2013_14_27_40_1_jpg.rf.af33d770834969fc72e0e4fd84d9b82d.txt  \n",
            "  inflating: /content/OIVIS_Lab_3/train/labels/autosave16_04_2013_14_28_13_2_jpg.rf.272759b024289098b7506b005fc79c54.txt  \n",
            "  inflating: /content/OIVIS_Lab_3/train/labels/autosave16_04_2013_14_28_26_1_jpg.rf.2cae527b37f2cd0268a14a29751dad93.txt  \n",
            "  inflating: /content/OIVIS_Lab_3/train/labels/autosave16_04_2013_14_28_27_0_jpg.rf.ded5be75eee368a3c4389a545dc2ba65.txt  \n",
            "  inflating: /content/OIVIS_Lab_3/train/labels/autosave16_04_2013_14_28_45_2_jpg.rf.14b8aff529f95186b9f636b1d034ded1.txt  \n",
            "  inflating: /content/OIVIS_Lab_3/train/labels/autosave16_04_2013_14_28_49_0_jpg.rf.a0aafe1245343c53f428e1da3bd392f8.txt  \n",
            "  inflating: /content/OIVIS_Lab_3/train/labels/autosave16_04_2013_14_28_50_1_jpg.rf.c78d27ff81b8f7235756d357f12e0759.txt  \n",
            "  inflating: /content/OIVIS_Lab_3/train/labels/autosave16_04_2013_14_28_58_0_jpg.rf.ca0db819fabfdf52cb31994e4218c946.txt  \n",
            "  inflating: /content/OIVIS_Lab_3/train/labels/autosave16_04_2013_14_29_12_2_jpg.rf.d8e9d83b15939df9c100fb96aedf9b12.txt  \n",
            "  inflating: /content/OIVIS_Lab_3/train/labels/autosave16_04_2013_14_29_14_0_jpg.rf.2f394599e8aedb0e569b0b5c0af70877.txt  \n",
            "  inflating: /content/OIVIS_Lab_3/train/labels/autosave16_04_2013_14_29_33_1_jpg.rf.971bbc6f2b67beeac96c3105bb772a6b.txt  \n",
            "  inflating: /content/OIVIS_Lab_3/train/labels/autosave16_04_2013_14_29_33_2_jpg.rf.fc165820466601d6303e9029f2339599.txt  \n",
            "  inflating: /content/OIVIS_Lab_3/train/labels/autosave16_04_2013_14_29_52_0_jpg.rf.080858f8d3fe1c57b0310d50fd3250df.txt  \n",
            "  inflating: /content/OIVIS_Lab_3/train/labels/autosave16_04_2013_14_29_52_1_jpg.rf.1826ab7bc5cefb62e912d01c0eb3f4a7.txt  \n",
            "  inflating: /content/OIVIS_Lab_3/train/labels/autosave16_04_2013_14_30_13_0_jpg.rf.09f3620e33d7a1c2ab1f8b01ec01352e.txt  \n",
            "  inflating: /content/OIVIS_Lab_3/train/labels/autosave16_04_2013_14_30_15_0_jpg.rf.bc05b5536a1a0d2eedbea3f40e7f12ed.txt  \n",
            "  inflating: /content/OIVIS_Lab_3/train/labels/autosave16_04_2013_14_30_30_1_jpg.rf.9eb5ccd369bb030f332124bcf8802453.txt  \n",
            "  inflating: /content/OIVIS_Lab_3/train/labels/autosave16_04_2013_14_30_45_2_jpg.rf.4e9b2bf25e5c80abc73b1da65704c60a.txt  \n",
            "  inflating: /content/OIVIS_Lab_3/train/labels/autosave16_04_2013_14_30_47_3_jpg.rf.7260992954f622436d4b1f010758a90a.txt  \n",
            "  inflating: /content/OIVIS_Lab_3/train/labels/autosave16_04_2013_14_30_57_1_jpg.rf.418ea602d44b692d84b10ba1e5e0aed1.txt  \n",
            "  inflating: /content/OIVIS_Lab_3/train/labels/autosave16_04_2013_14_30_59_1_jpg.rf.4db24b9bb0c552b48ffe8ed92b15148b.txt  \n",
            "  inflating: /content/OIVIS_Lab_3/train/labels/autosave16_04_2013_14_31_08_3_jpg.rf.af6272d1f04d1e33b9ffcfbe54a9eeaf.txt  \n",
            "  inflating: /content/OIVIS_Lab_3/train/labels/autosave16_04_2013_14_31_10_1_jpg.rf.30cd3adc0ec28df420213e93149bbde4.txt  \n",
            "  inflating: /content/OIVIS_Lab_3/train/labels/autosave16_04_2013_14_31_14_0_jpg.rf.b861fd35de3be0347923cef2334d968c.txt  \n",
            "  inflating: /content/OIVIS_Lab_3/train/labels/autosave16_04_2013_14_31_17_2_jpg.rf.009d612f0da88c41cd97d4f0faa99465.txt  \n",
            "  inflating: /content/OIVIS_Lab_3/train/labels/autosave16_04_2013_14_31_19_2_jpg.rf.93cce405314d565b531fe9d0a3e0e951.txt  \n",
            "  inflating: /content/OIVIS_Lab_3/train/labels/autosave16_04_2013_14_31_33_1_jpg.rf.46d3ff6e9804ceab8aa284b670a3b993.txt  \n",
            "  inflating: /content/OIVIS_Lab_3/train/labels/autosave16_04_2013_14_31_38_0_jpg.rf.f56a7ed215d4115801daeb4f9bc0eea1.txt  \n",
            "  inflating: /content/OIVIS_Lab_3/train/labels/autosave16_04_2013_14_31_57_1_jpg.rf.abca47bf3a1f387668558d43cab1a7f4.txt  \n",
            "  inflating: /content/OIVIS_Lab_3/train/labels/autosave16_04_2013_14_32_00_2_jpg.rf.325d8aff28b1777ba4cf1518697f0e14.txt  \n",
            "  inflating: /content/OIVIS_Lab_3/train/labels/autosave16_04_2013_14_32_26_2_jpg.rf.54a188ab148dfee6727780cf5615c7b6.txt  \n",
            "  inflating: /content/OIVIS_Lab_3/train/labels/autosave16_04_2013_14_32_40_1_jpg.rf.e65f437cbd89fc46cbed02b77390aab5.txt  \n",
            "  inflating: /content/OIVIS_Lab_3/train/labels/autosave16_04_2013_14_33_36_3_jpg.rf.86f6b4913be014e7998766f1762ca79b.txt  \n",
            "  inflating: /content/OIVIS_Lab_3/train/labels/autosave16_04_2013_14_33_40_0_jpg.rf.09c152b645625e556621c167d55c40f6.txt  \n",
            "  inflating: /content/OIVIS_Lab_3/train/labels/autosave16_04_2013_14_33_52_1_jpg.rf.54033a7e9b8a919a9f7e2c9341124a3c.txt  \n",
            "  inflating: /content/OIVIS_Lab_3/train/labels/autosave16_04_2013_14_34_33_0_jpg.rf.1bde97113bfb38605cfdd50be598ecf4.txt  \n",
            "  inflating: /content/OIVIS_Lab_3/train/labels/autosave16_04_2013_14_35_07_0_jpg.rf.caf4c95acc4e4a9a4ccb7f3e9f3dca96.txt  \n",
            "  inflating: /content/OIVIS_Lab_3/train/labels/autosave16_04_2013_14_35_15_1_jpg.rf.407fab3d1e0bc000f90f818f73f93762.txt  \n",
            "  inflating: /content/OIVIS_Lab_3/train/labels/autosave16_04_2013_14_35_43_0_jpg.rf.ae2e740afb502c68596e1f34ad0a3f8f.txt  \n",
            "  inflating: /content/OIVIS_Lab_3/train/labels/autosave16_04_2013_14_35_50_1_jpg.rf.4f1df9cc7f157da476a0e36aa600558c.txt  \n",
            "  inflating: /content/OIVIS_Lab_3/train/labels/autosave16_04_2013_14_35_56_1_jpg.rf.ab94029c6c30ed9bcc0d5278778dcd95.txt  \n",
            "  inflating: /content/OIVIS_Lab_3/train/labels/autosave16_04_2013_14_36_02_1_jpg.rf.2eb49c91a35b8aad89ae536666c49153.txt  \n",
            "  inflating: /content/OIVIS_Lab_3/train/labels/autosave16_04_2013_14_36_02_2_jpg.rf.b0300c1581bf387ba5d9ba076876b359.txt  \n",
            "  inflating: /content/OIVIS_Lab_3/train/labels/autosave16_04_2013_14_36_10_1_jpg.rf.c37a7abec7659c7e38a50cd70332eac7.txt  \n",
            "  inflating: /content/OIVIS_Lab_3/train/labels/autosave16_04_2013_14_36_23_3_jpg.rf.c8a8b8dd322d27d1c18e011e2881dd4b.txt  \n",
            "  inflating: /content/OIVIS_Lab_3/train/labels/autosave16_04_2013_14_36_23_4_jpg.rf.a357faa4438096c29acb99f452f08424.txt  \n",
            "  inflating: /content/OIVIS_Lab_3/train/labels/autosave16_04_2013_14_36_24_1_jpg.rf.2132651d1d765c937a7baf1f7d7eb46a.txt  \n",
            "  inflating: /content/OIVIS_Lab_3/train/labels/autosave16_04_2013_14_36_28_2_jpg.rf.2270558d2c87c2ccf6c87549c0a6d39d.txt  \n",
            "  inflating: /content/OIVIS_Lab_3/train/labels/autosave16_04_2013_14_36_30_2_jpg.rf.d200ee42c4b005dad56e284561dd7b0d.txt  \n",
            "  inflating: /content/OIVIS_Lab_3/train/labels/autosave16_04_2013_14_36_31_0_jpg.rf.69de52482595e2cea4240c7074a53c03.txt  \n",
            "  inflating: /content/OIVIS_Lab_3/train/labels/autosave16_04_2013_14_37_02_0_jpg.rf.2b1cd703866ca4181fac270f55cf9586.txt  \n",
            "  inflating: /content/OIVIS_Lab_3/train/labels/autosave16_04_2013_14_37_02_2_jpg.rf.d77b75e2100ef6f27e7bf8536f43b3a1.txt  \n",
            "  inflating: /content/OIVIS_Lab_3/train/labels/autosave16_04_2013_14_37_04_1_jpg.rf.e755d08b0a6297a414a59a1a4fe4636f.txt  \n",
            "  inflating: /content/OIVIS_Lab_3/train/labels/autosave16_04_2013_14_37_37_0_jpg.rf.f4e9f1e84ab7ad0bc7e11a74c6eea1ab.txt  \n",
            "  inflating: /content/OIVIS_Lab_3/train/labels/autosave16_04_2013_14_38_49_1_jpg.rf.dada76346b9afc8afe5da4416dc0b9d5.txt  \n",
            "  inflating: /content/OIVIS_Lab_3/train/labels/autosave16_04_2013_14_38_51_2_jpg.rf.d287e69ba18e52cbbcfcb8e6ac3ff2eb.txt  \n",
            "  inflating: /content/OIVIS_Lab_3/train/labels/autosave16_04_2013_14_38_52_2_jpg.rf.cc70b72220b7c2c83726b822ae72cc62.txt  \n",
            "  inflating: /content/OIVIS_Lab_3/train/labels/autosave16_04_2013_14_39_50_3_jpg.rf.c0403666c9942f16b43c208710ee8ad5.txt  \n",
            "  inflating: /content/OIVIS_Lab_3/train/labels/autosave16_04_2013_14_39_55_1_jpg.rf.e3093abda4343f086cca8751e4b7fb1b.txt  \n",
            "  inflating: /content/OIVIS_Lab_3/train/labels/autosave16_04_2013_14_40_14_2_jpg.rf.56fc4073d69a96b087c30e2b995f25f0.txt  \n",
            "  inflating: /content/OIVIS_Lab_3/train/labels/autosave16_04_2013_14_40_16_3_jpg.rf.ae0032ba9f0583254724bcd743e754a4.txt  \n",
            "  inflating: /content/OIVIS_Lab_3/train/labels/autosave16_04_2013_14_40_20_0_jpg.rf.1d8dbf25d1680c6fb2c5558b0ee5d8cd.txt  \n",
            "  inflating: /content/OIVIS_Lab_3/train/labels/autosave16_04_2013_14_40_24_0_jpg.rf.d5ea9e1b64deda10d3716c40ec42c9de.txt  \n",
            "  inflating: /content/OIVIS_Lab_3/train/labels/autosave16_04_2013_14_40_56_3_jpg.rf.3a50c13fe34aca5f5ba7de7d93ced543.txt  \n",
            "  inflating: /content/OIVIS_Lab_3/train/labels/autosave16_04_2013_14_41_11_1_jpg.rf.af70dcd5d9694666718d6564dbe4602a.txt  \n",
            "  inflating: /content/OIVIS_Lab_3/train/labels/autosave16_04_2013_14_41_13_1_jpg.rf.1548357d4d1681c15f0d0e284e9a8225.txt  \n",
            "  inflating: /content/OIVIS_Lab_3/train/labels/autosave16_04_2013_14_41_15_0_jpg.rf.19f4ce9695e4e07baf0dbd8e1916d914.txt  \n",
            "  inflating: /content/OIVIS_Lab_3/train/labels/autosave16_04_2013_14_41_22_1_jpg.rf.73c867eda12e85649619ba3d7e55632c.txt  \n",
            "  inflating: /content/OIVIS_Lab_3/train/labels/autosave16_04_2013_14_41_23_1_jpg.rf.3bef51b03a4d927cfc2de4ec45a32951.txt  \n",
            "  inflating: /content/OIVIS_Lab_3/train/labels/autosave16_04_2013_14_41_27_0_jpg.rf.3df344c19193cc5d24c1e8318540dcb8.txt  \n",
            "  inflating: /content/OIVIS_Lab_3/train/labels/autosave16_04_2013_14_41_27_1_jpg.rf.a5d2791f2b332fa4d2fef323e8f01765.txt  \n",
            "  inflating: /content/OIVIS_Lab_3/train/labels/autosave16_04_2013_14_41_37_1_jpg.rf.37db64cb3460d91998c1c6d1b14e131b.txt  \n",
            "  inflating: /content/OIVIS_Lab_3/train/labels/autosave16_04_2013_14_41_43_0_jpg.rf.4d4ca57717c75b4799b5449594f7ae14.txt  \n",
            "  inflating: /content/OIVIS_Lab_3/train/labels/autosave16_04_2013_14_41_49_2_jpg.rf.b7e0e0cbcade20b2a280af8ae05183a9.txt  \n",
            "  inflating: /content/OIVIS_Lab_3/train/labels/autosave16_04_2013_14_41_54_0_jpg.rf.88640bc2aaa6d03e3c4ac9f26fe05baf.txt  \n",
            "  inflating: /content/OIVIS_Lab_3/train/labels/autosave16_04_2013_14_42_02_2_jpg.rf.4db7cec79053d49000e226796ce9fa36.txt  \n",
            "  inflating: /content/OIVIS_Lab_3/train/labels/autosave16_04_2013_14_42_04_1_jpg.rf.92cd926ab3eda99a1d1e4ee3131d12e8.txt  \n",
            "  inflating: /content/OIVIS_Lab_3/train/labels/autosave16_04_2013_14_42_05_1_jpg.rf.0c49f00df29f2c7a011f7b1025284e15.txt  \n",
            "  inflating: /content/OIVIS_Lab_3/train/labels/autosave16_04_2013_14_42_14_0_jpg.rf.62a6b5f8fb1d1b35ed0ad45d0da70f37.txt  \n",
            "  inflating: /content/OIVIS_Lab_3/train/labels/autosave16_04_2013_14_42_15_1_jpg.rf.0127ea9e9a9876c2c1e376ec5c96c367.txt  \n",
            "  inflating: /content/OIVIS_Lab_3/train/labels/autosave16_04_2013_14_42_47_1_jpg.rf.cad34afd112e002f4d37dd88b31dbf1e.txt  \n",
            "  inflating: /content/OIVIS_Lab_3/train/labels/autosave16_04_2013_14_42_49_1_jpg.rf.f6e30bd61f6e8541868899e76191e889.txt  \n",
            "  inflating: /content/OIVIS_Lab_3/train/labels/autosave16_04_2013_14_42_51_1_jpg.rf.0d5fb39e3c69befddc946be9cb70148d.txt  \n",
            "  inflating: /content/OIVIS_Lab_3/train/labels/autosave16_04_2013_14_42_53_2_jpg.rf.e13a66d67e3d5db588974719d5df6d8f.txt  \n",
            "  inflating: /content/OIVIS_Lab_3/train/labels/autosave16_04_2013_14_42_53_3_jpg.rf.a876230dc732300a12b53d9e11016c03.txt  \n",
            "  inflating: /content/OIVIS_Lab_3/train/labels/autosave16_04_2013_14_43_00_0_jpg.rf.a1d0875ca364f8f7c53321f540b06387.txt  \n",
            "  inflating: /content/OIVIS_Lab_3/train/labels/autosave16_04_2013_14_43_02_4_jpg.rf.b0ade8e2a469e5ccd2e42cdbdf8de95e.txt  \n",
            "  inflating: /content/OIVIS_Lab_3/train/labels/autosave16_04_2013_14_43_08_0_jpg.rf.cb057e1901b79a74a0ec235ee52e474b.txt  \n",
            "  inflating: /content/OIVIS_Lab_3/train/labels/autosave16_04_2013_14_44_22_0_jpg.rf.9feefab1731f14e4219acd43b3e9445c.txt  \n",
            "  inflating: /content/OIVIS_Lab_3/train/labels/autosave16_04_2013_14_45_15_2_jpg.rf.f1e203ad83144dee019d437356fe66f5.txt  \n",
            "  inflating: /content/OIVIS_Lab_3/train/labels/autosave16_04_2013_14_46_10_1_jpg.rf.9ce8b3e2f7df7e415ef18630ec247f21.txt  \n",
            "  inflating: /content/OIVIS_Lab_3/train/labels/autosave16_04_2013_14_46_12_0_jpg.rf.305c089b0531dcf0c6fc6c124a58d368.txt  \n",
            "  inflating: /content/OIVIS_Lab_3/train/labels/autosave16_04_2013_14_47_27_1_jpg.rf.447d9e84b799270d6e95d6672f89033e.txt  \n",
            "  inflating: /content/OIVIS_Lab_3/train/labels/autosave16_04_2013_14_47_40_2_jpg.rf.f8f5283a0241157d0885892ec3cf7bf7.txt  \n",
            "  inflating: /content/OIVIS_Lab_3/train/labels/autosave16_04_2013_14_48_19_1_jpg.rf.4d2c094eef0cabcec306fcdaef44a313.txt  \n",
            "  inflating: /content/OIVIS_Lab_3/train/labels/autosave16_04_2013_14_48_19_2_jpg.rf.240f6eb60f2f2db21a9d5e9e16aa4a73.txt  \n",
            "  inflating: /content/OIVIS_Lab_3/train/labels/autosave16_04_2013_14_50_13_0_jpg.rf.999eb7c2e6e659c56150f8d3755240be.txt  \n",
            "  inflating: /content/OIVIS_Lab_3/train/labels/autosave16_04_2013_14_50_42_1_jpg.rf.8c0b9335ded4d6fe86201f81944d4162.txt  \n",
            "  inflating: /content/OIVIS_Lab_3/train/labels/autosave16_04_2013_14_51_14_0_jpg.rf.d87d67027463bfe1b5b610ff54d6c931.txt  \n",
            "  inflating: /content/OIVIS_Lab_3/train/labels/autosave16_04_2013_14_51_18_0_jpg.rf.df601508e648ece59809d6900a9f9b91.txt  \n",
            "  inflating: /content/OIVIS_Lab_3/train/labels/autosave16_04_2013_14_51_23_1_jpg.rf.dd82cb84f015bff9c32c9b1dd69833ef.txt  \n",
            "  inflating: /content/OIVIS_Lab_3/train/labels/autosave16_04_2013_14_51_25_1_jpg.rf.b7ecd3ee1b158bf64ab3d0cb0f5dba22.txt  \n",
            "  inflating: /content/OIVIS_Lab_3/train/labels/autosave16_04_2013_14_51_25_2_jpg.rf.ef711df8ef7fe8765f5e94c890317af6.txt  \n",
            "  inflating: /content/OIVIS_Lab_3/train/labels/autosave16_04_2013_14_51_43_3_jpg.rf.6bb02abb952786ec39fe8df424c25b8a.txt  \n",
            "  inflating: /content/OIVIS_Lab_3/train/labels/autosave16_04_2013_14_51_45_0_jpg.rf.b594ffb7d16ca57ceca24b9145b7cfdd.txt  \n",
            "  inflating: /content/OIVIS_Lab_3/train/labels/autosave16_04_2013_14_51_49_2_jpg.rf.3388c3f4311e9fdcd101019a93602d92.txt  \n",
            "  inflating: /content/OIVIS_Lab_3/train/labels/autosave16_04_2013_14_52_00_0_jpg.rf.e0c96e3b297fe5c94d56c7e5ac53a669.txt  \n",
            "  inflating: /content/OIVIS_Lab_3/train/labels/autosave16_04_2013_14_52_26_1_jpg.rf.5c99fa20009b93d35bcb27083c69ebb3.txt  \n",
            "  inflating: /content/OIVIS_Lab_3/train/labels/autosave16_04_2013_14_52_54_0_jpg.rf.18080a2c4dcaec69556614d7b71439e1.txt  \n",
            "  inflating: /content/OIVIS_Lab_3/train/labels/autosave16_04_2013_14_52_57_0_jpg.rf.5b504d3cfe66b60ba7ceb5ac0a7cf87d.txt  \n",
            "  inflating: /content/OIVIS_Lab_3/train/labels/autosave16_04_2013_14_53_40_0_jpg.rf.1ead5b860e3d2f978fde56071e4ad044.txt  \n",
            "  inflating: /content/OIVIS_Lab_3/train/labels/autosave16_04_2013_14_53_40_3_jpg.rf.67687a37e97d8febbef1e4999f882245.txt  \n",
            "  inflating: /content/OIVIS_Lab_3/train/labels/autosave16_04_2013_14_56_07_1_jpg.rf.a08b4744ab65717325d6d8b01b2bfeac.txt  \n",
            "  inflating: /content/OIVIS_Lab_3/train/labels/autosave16_04_2013_14_56_08_1_jpg.rf.d1566c4e74d0f4e7e8340ba04e7d3eac.txt  \n",
            "  inflating: /content/OIVIS_Lab_3/train/labels/autosave16_04_2013_14_57_57_0_jpg.rf.01f102edd63c03f007d7f6a157a6952c.txt  \n",
            "  inflating: /content/OIVIS_Lab_3/train/labels/autosave16_04_2013_14_57_59_0_jpg.rf.d496366dc4a9b4ed7e46ad87dd88ac95.txt  \n",
            "  inflating: /content/OIVIS_Lab_3/train/labels/autosave16_04_2013_14_58_38_1_jpg.rf.738f2d914605dbb2725b4208e075170e.txt  \n",
            "  inflating: /content/OIVIS_Lab_3/train/labels/autosave16_04_2013_14_59_12_0_jpg.rf.4f49d6fbe146a2e78d2d8ddeef13f195.txt  \n",
            "  inflating: /content/OIVIS_Lab_3/train/labels/autosave16_04_2013_14_59_37_1_jpg.rf.8efa37aa672eff8561ef5154e8bc24d3.txt  \n",
            "  inflating: /content/OIVIS_Lab_3/train/labels/autosave16_04_2013_14_59_40_0_jpg.rf.851c5389cfbc7c9bb36d7522041d0a08.txt  \n",
            "  inflating: /content/OIVIS_Lab_3/train/labels/autosave16_04_2013_15_01_50_2_jpg.rf.b2433343107cf602a62e50b822387c78.txt  \n",
            "  inflating: /content/OIVIS_Lab_3/train/labels/autosave16_04_2013_15_01_59_2_jpg.rf.901a2c81265b02b99122a69e08f654aa.txt  \n",
            "  inflating: /content/OIVIS_Lab_3/train/labels/autosave16_04_2013_15_02_07_0_jpg.rf.5361c04a1a8c71e28e7d883b76f945ac.txt  \n",
            "  inflating: /content/OIVIS_Lab_3/train/labels/autosave16_04_2013_15_02_08_0_jpg.rf.9e353aba045eb14fd39705e036757952.txt  \n",
            "  inflating: /content/OIVIS_Lab_3/train/labels/autosave16_04_2013_15_02_08_1_jpg.rf.bcb5fcbdeee024d88ac5db1214b8bb46.txt  \n",
            "  inflating: /content/OIVIS_Lab_3/train/labels/autosave16_04_2013_15_02_09_1_jpg.rf.2959300f994e482be6d407c98e4276dd.txt  \n",
            "  inflating: /content/OIVIS_Lab_3/train/labels/autosave16_04_2013_15_03_13_3_jpg.rf.899b7860f419f7a43321c08058daa252.txt  \n",
            "  inflating: /content/OIVIS_Lab_3/train/labels/autosave16_04_2013_15_03_15_1_jpg.rf.561c706572c0651337e37efcb2b455ec.txt  \n",
            "  inflating: /content/OIVIS_Lab_3/train/labels/autosave16_04_2013_15_03_58_2_jpg.rf.071dfca4e42878a80fbe3646238def1a.txt  \n",
            "  inflating: /content/OIVIS_Lab_3/train/labels/autosave16_04_2013_15_10_21_4_jpg.rf.1c271ea8ab4c4ff87d8da152497e0148.txt  \n",
            "  inflating: /content/OIVIS_Lab_3/train/labels/autosave16_04_2013_15_11_16_1_jpg.rf.96a8ef721f4c2781ccafa568e2954800.txt  \n",
            "  inflating: /content/OIVIS_Lab_3/train/labels/autosave16_04_2013_15_11_31_2_jpg.rf.ea1580848aad64bba4134ef59cfb7d20.txt  \n",
            "  inflating: /content/OIVIS_Lab_3/train/labels/autosave16_04_2013_15_11_36_1_jpg.rf.2d9beea50c042f06481b82334e43bd43.txt  \n",
            "  inflating: /content/OIVIS_Lab_3/train/labels/autosave16_04_2013_15_11_42_2_jpg.rf.f6b5e05c5813b7d4f56145a742904512.txt  \n",
            "  inflating: /content/OIVIS_Lab_3/train/labels/autosave16_04_2013_15_11_44_2_jpg.rf.f03f9285ed823e486024bf3a9e4de5db.txt  \n",
            "  inflating: /content/OIVIS_Lab_3/train/labels/autosave16_04_2013_15_11_46_0_jpg.rf.ec592fdbad29a47bb1adc78af9d45363.txt  \n",
            "  inflating: /content/OIVIS_Lab_3/train/labels/autosave16_04_2013_15_11_54_0_jpg.rf.c5b5d9248b666d15b9d2d132467433c9.txt  \n",
            "  inflating: /content/OIVIS_Lab_3/train/labels/autosave16_04_2013_15_11_54_2_jpg.rf.7f0ffcd22e96d9296b5648c8e0da8485.txt  \n",
            "  inflating: /content/OIVIS_Lab_3/train/labels/autosave16_04_2013_15_11_54_3_jpg.rf.bd0cfb5617324d61d21b26b3db46cd7d.txt  \n",
            "  inflating: /content/OIVIS_Lab_3/train/labels/autosave16_04_2013_15_12_02_0_jpg.rf.ff00a89d9d4fb05a792ff4cbf506d659.txt  \n",
            "  inflating: /content/OIVIS_Lab_3/train/labels/autosave16_04_2013_15_12_02_2_jpg.rf.ca727010cf5d04443b0329b3a7eee377.txt  \n",
            "  inflating: /content/OIVIS_Lab_3/train/labels/autosave16_04_2013_15_12_12_1_jpg.rf.146d301a7a01e25e0c46b3081e83d508.txt  \n",
            "  inflating: /content/OIVIS_Lab_3/train/labels/autosave16_04_2013_15_13_21_1_jpg.rf.a1925b93cc8e2c3b5a41493ce837cb1d.txt  \n",
            "  inflating: /content/OIVIS_Lab_3/train/labels/autosave16_04_2013_15_20_13_1_jpg.rf.23d296d653f546fb380d12801491e1b4.txt  \n",
            "  inflating: /content/OIVIS_Lab_3/train/labels/autosave16_04_2013_15_20_24_2_jpg.rf.b408408a467239cd786e401d026fc44c.txt  \n",
            "  inflating: /content/OIVIS_Lab_3/train/labels/autosave16_04_2013_15_20_25_2_jpg.rf.2630f8580fa8ec7df3188a59474e4ab9.txt  \n",
            "  inflating: /content/OIVIS_Lab_3/train/labels/autosave16_04_2013_15_20_27_1_jpg.rf.7b267b1269e556b110f7a45c6844549e.txt  \n",
            "  inflating: /content/OIVIS_Lab_3/train/labels/autosave16_04_2013_15_20_27_2_jpg.rf.0c5377edad36e3a5f2ea0c6491a6a3de.txt  \n",
            "  inflating: /content/OIVIS_Lab_3/train/labels/autosave16_04_2013_15_20_29_0_jpg.rf.fe1e11552d76a73d3f59dcdb21b561cd.txt  \n",
            "  inflating: /content/OIVIS_Lab_3/train/labels/autosave16_04_2013_15_20_31_3_jpg.rf.0900e296d4d672d281dd09f93f970b7d.txt  \n",
            "  inflating: /content/OIVIS_Lab_3/train/labels/autosave16_04_2013_15_20_48_0_jpg.rf.6cc73239fe7cdcb2d4b14c6bae62236e.txt  \n",
            "  inflating: /content/OIVIS_Lab_3/train/labels/autosave16_04_2013_15_20_58_0_jpg.rf.d5278ae8072355d465314c55d416a0bb.txt  \n",
            "  inflating: /content/OIVIS_Lab_3/train/labels/autosave16_04_2013_15_21_22_0_jpg.rf.1c491459a5582c41fb853dd4c9f65030.txt  \n",
            "  inflating: /content/OIVIS_Lab_3/train/labels/autosave16_04_2013_15_21_25_1_jpg.rf.1b9eb9d2d22b729238deddfb5c34dd04.txt  \n",
            "  inflating: /content/OIVIS_Lab_3/train/labels/autosave16_04_2013_15_22_01_2_jpg.rf.576df9187004fe64295090edf9118944.txt  \n",
            "  inflating: /content/OIVIS_Lab_3/train/labels/autosave16_04_2013_15_22_08_0_jpg.rf.d2eaa9c5f5f555502383a9c01ace97d9.txt  \n",
            "  inflating: /content/OIVIS_Lab_3/train/labels/autosave16_04_2013_15_22_11_1_jpg.rf.9b983dd6ea0f6ea3ca038c972a419c07.txt  \n",
            "  inflating: /content/OIVIS_Lab_3/train/labels/autosave16_04_2013_15_22_41_3_jpg.rf.382abb81693f1e5f9a6a8316215b7da6.txt  \n",
            "  inflating: /content/OIVIS_Lab_3/train/labels/autosave16_04_2013_15_22_45_1_jpg.rf.3e1e567d96b271e2f8775974fcaad593.txt  \n",
            "  inflating: /content/OIVIS_Lab_3/train/labels/autosave16_04_2013_15_22_48_0_jpg.rf.0478008ba29d76f542e3d0a075ff1a01.txt  \n",
            "  inflating: /content/OIVIS_Lab_3/train/labels/autosave16_04_2013_15_26_53_1_jpg.rf.793578cf25c42e90215e631a0d5d130a.txt  \n",
            "  inflating: /content/OIVIS_Lab_3/train/labels/autosave16_04_2013_15_28_04_0_jpg.rf.fa8f4f9a289c29a8c6b1316883dd6a8c.txt  \n",
            "  inflating: /content/OIVIS_Lab_3/train/labels/autosave16_04_2013_15_28_08_1_jpg.rf.5c162545e829085971201cbcaa6aae36.txt  \n",
            "  inflating: /content/OIVIS_Lab_3/train/labels/autosave16_04_2013_15_28_08_2_jpg.rf.17579e796e75a7c5500eb0485b3503a8.txt  \n",
            "  inflating: /content/OIVIS_Lab_3/train/labels/autosave16_04_2013_15_28_08_3_jpg.rf.6451242cf1d0b19a2d478e123567620b.txt  \n",
            "  inflating: /content/OIVIS_Lab_3/train/labels/autosave16_04_2013_15_28_12_0_jpg.rf.42d6b104517323cfa9952299cb8b60ca.txt  \n",
            "  inflating: /content/OIVIS_Lab_3/train/labels/autosave16_04_2013_15_28_21_3_jpg.rf.3cb5d05d69d0bbbdb7d97ccc6f2e6738.txt  \n",
            "  inflating: /content/OIVIS_Lab_3/train/labels/autosave16_04_2013_15_29_51_0_jpg.rf.54320f31177566c4a8b17246a06079c4.txt  \n",
            "  inflating: /content/OIVIS_Lab_3/train/labels/autosave16_04_2013_15_30_21_2_jpg.rf.0e1157e296584d0b3fc035d922d8bbe6.txt  \n",
            "  inflating: /content/OIVIS_Lab_3/train/labels/autosave16_04_2013_15_30_24_1_jpg.rf.000c3457e188d1b91b1ffd4a1582552c.txt  \n",
            "  inflating: /content/OIVIS_Lab_3/train/labels/autosave16_04_2013_15_30_27_0_jpg.rf.f878b82af2fde14e2dfe62585b1ff3ed.txt  \n",
            "  inflating: /content/OIVIS_Lab_3/train/labels/autosave16_04_2013_15_30_42_0_jpg.rf.530ea8de45dbcffe1862ec0517db8c2e.txt  \n",
            "  inflating: /content/OIVIS_Lab_3/train/labels/autosave16_04_2013_15_30_51_0_jpg.rf.07b3f9bf6c39b269061c2ad8728206fd.txt  \n",
            "  inflating: /content/OIVIS_Lab_3/train/labels/autosave16_04_2013_15_31_59_3_jpg.rf.8f894fbfb7f6b478b898ce7538077fa2.txt  \n",
            "  inflating: /content/OIVIS_Lab_3/train/labels/autosave16_04_2013_15_32_24_0_jpg.rf.ce5b6dda48fecbde450621e3d4bf839d.txt  \n",
            "  inflating: /content/OIVIS_Lab_3/train/labels/autosave16_04_2013_15_32_25_1_jpg.rf.757d742c5fec5c679f88a338ad636329.txt  \n",
            "  inflating: /content/OIVIS_Lab_3/train/labels/autosave16_04_2013_15_32_28_1_jpg.rf.f9386cd7c51762ad2fcf8276e6e31d93.txt  \n",
            "  inflating: /content/OIVIS_Lab_3/train/labels/autosave16_04_2013_15_32_46_2_jpg.rf.5c93f4ff89ff83fdc6c5e3dfd2a94856.txt  \n",
            "  inflating: /content/OIVIS_Lab_3/train/labels/autosave16_04_2013_15_37_01_0_jpg.rf.ab9d3674fb28c3eb8a0d4adc6d1c9bda.txt  \n",
            "  inflating: /content/OIVIS_Lab_3/train/labels/autosave16_04_2013_15_37_05_1_jpg.rf.4cf31b3a4270dc89d085944413ba50bd.txt  \n",
            "  inflating: /content/OIVIS_Lab_3/train/labels/autosave16_04_2013_15_37_12_1_jpg.rf.c5cd8bb2d77c25333197405435fa38b9.txt  \n",
            "  inflating: /content/OIVIS_Lab_3/train/labels/autosave16_04_2013_15_37_14_2_jpg.rf.960718f3ea65098f26e94b7810db9242.txt  \n",
            "  inflating: /content/OIVIS_Lab_3/train/labels/autosave16_04_2013_15_37_15_2_jpg.rf.2854608b8c5adc5cb281ac1394f14c2f.txt  \n",
            "  inflating: /content/OIVIS_Lab_3/train/labels/autosave16_04_2013_15_37_30_0_jpg.rf.c30e34f9e318b4baff0f3a13352b4c42.txt  \n",
            "  inflating: /content/OIVIS_Lab_3/train/labels/autosave16_04_2013_15_37_54_0_jpg.rf.6a62c9c87a5b974a0355f0eb27a700c6.txt  \n",
            "  inflating: /content/OIVIS_Lab_3/train/labels/autosave16_04_2013_15_38_00_1_jpg.rf.538e14b87e2806407b5becc74ca362ef.txt  \n",
            "  inflating: /content/OIVIS_Lab_3/train/labels/autosave16_10_2012_06_45_05_0_jpg.rf.4e440ee7256cb0ec4d09ef5481d59360.txt  \n",
            "  inflating: /content/OIVIS_Lab_3/train/labels/autosave16_10_2012_06_45_05_1_jpg.rf.d7e370e1bf224d1908ff1ebc77e6b00b.txt  \n",
            "  inflating: /content/OIVIS_Lab_3/train/labels/autosave16_10_2012_06_46_03_1_jpg.rf.ae4e929bbea51f97d3b8540d3586aa81.txt  \n",
            "  inflating: /content/OIVIS_Lab_3/train/labels/autosave16_10_2012_06_46_17_2_jpg.rf.73958c9ecc9d1a2f7bb6ef600bb92c44.txt  \n",
            "  inflating: /content/OIVIS_Lab_3/train/labels/autosave16_10_2012_06_46_19_1_jpg.rf.0ea8ea16eb0828715d9ea84f2115d6e5.txt  \n",
            "  inflating: /content/OIVIS_Lab_3/train/labels/autosave16_10_2012_06_46_22_0_jpg.rf.7a6a5d64c3d75db454825b240c3fdac2.txt  \n",
            "  inflating: /content/OIVIS_Lab_3/train/labels/autosave16_10_2012_06_46_22_1_jpg.rf.66240ce05cea716ea833e450fa1f60d8.txt  \n",
            "  inflating: /content/OIVIS_Lab_3/train/labels/autosave16_10_2012_06_46_26_1_jpg.rf.bd1316d8163f2d70cfb41aed336dc39d.txt  \n",
            "  inflating: /content/OIVIS_Lab_3/train/labels/autosave16_10_2012_06_46_33_0_jpg.rf.bda92036cda3d028554f3d3def3c20ad.txt  \n",
            "  inflating: /content/OIVIS_Lab_3/train/labels/autosave16_10_2012_06_46_45_3_jpg.rf.085d0292654e9b29df768282fde6db96.txt  \n",
            "  inflating: /content/OIVIS_Lab_3/train/labels/autosave16_10_2012_06_46_46_0_jpg.rf.b0a54f87ae46bb14a19ece4f37088781.txt  \n",
            "  inflating: /content/OIVIS_Lab_3/train/labels/autosave16_10_2012_06_46_46_1_jpg.rf.75d7e1135caea78b150367593d35b05b.txt  \n",
            "  inflating: /content/OIVIS_Lab_3/train/labels/autosave16_10_2012_06_46_56_3_jpg.rf.1642371f4e3c7d4eeceb6dae6ba77e03.txt  \n",
            "  inflating: /content/OIVIS_Lab_3/train/labels/autosave16_10_2012_06_47_01_1_jpg.rf.821d9d32670240a57893dab8cc2cee0d.txt  \n",
            "  inflating: /content/OIVIS_Lab_3/train/labels/autosave16_10_2012_06_47_07_1_jpg.rf.b97c0efebad98202674693dca8d8d960.txt  \n",
            "  inflating: /content/OIVIS_Lab_3/train/labels/autosave16_10_2012_06_47_10_0_jpg.rf.13cece1bd8f2f1267f9bc1f79c39633a.txt  \n",
            "  inflating: /content/OIVIS_Lab_3/train/labels/autosave16_10_2012_06_47_11_2_jpg.rf.01a2ffd976488548bba676800c96de2e.txt  \n",
            "  inflating: /content/OIVIS_Lab_3/train/labels/autosave16_10_2012_06_47_15_1_jpg.rf.ba0dafc4b1e39419efb644a0c08d2cbe.txt  \n",
            "  inflating: /content/OIVIS_Lab_3/train/labels/autosave16_10_2012_06_47_26_1_jpg.rf.70b213a0c01dbf2ceeb30836e5579bf5.txt  \n",
            "  inflating: /content/OIVIS_Lab_3/train/labels/autosave16_10_2012_06_47_34_3_jpg.rf.48970abf07e1fe107b3a08101df6d030.txt  \n",
            "  inflating: /content/OIVIS_Lab_3/train/labels/autosave16_10_2012_06_47_36_0_jpg.rf.8d62041ffdbea562a0f6a8a4a379659e.txt  \n",
            "  inflating: /content/OIVIS_Lab_3/train/labels/autosave16_10_2012_06_47_37_2_jpg.rf.95a4b851aab71c7d2147fc1678ae876e.txt  \n",
            "  inflating: /content/OIVIS_Lab_3/train/labels/autosave16_10_2012_06_48_07_2_jpg.rf.93e3870e5b6af182969ffa0f46c91574.txt  \n",
            "  inflating: /content/OIVIS_Lab_3/train/labels/autosave16_10_2012_06_48_08_3_jpg.rf.d463abe368943326db1791cdfd7e7646.txt  \n",
            "  inflating: /content/OIVIS_Lab_3/train/labels/autosave16_10_2012_06_48_10_1_jpg.rf.de1cd4ca54cc85b804dcffb6ae2b6dee.txt  \n",
            "  inflating: /content/OIVIS_Lab_3/train/labels/autosave16_10_2012_06_48_10_2_jpg.rf.8f7d98d2045b475c2717e808f3ffa8cc.txt  \n",
            "  inflating: /content/OIVIS_Lab_3/train/labels/autosave16_10_2012_06_49_01_0_jpg.rf.7b395c3c83f4d88716e24f6a4fe43227.txt  \n",
            "  inflating: /content/OIVIS_Lab_3/train/labels/autosave16_10_2012_06_49_05_2_jpg.rf.391a325af8a00968e3f672967f6724ee.txt  \n",
            "  inflating: /content/OIVIS_Lab_3/train/labels/autosave16_10_2012_06_49_06_2_jpg.rf.43d6c05db4a324ea3252fe7e2f7f9e07.txt  \n",
            "  inflating: /content/OIVIS_Lab_3/train/labels/autosave16_10_2012_06_49_06_3_jpg.rf.1b20806cc16f4a74a12a46a7a4ec19ec.txt  \n",
            "  inflating: /content/OIVIS_Lab_3/train/labels/autosave16_10_2012_06_49_07_1_jpg.rf.6f8e6035a838a535eaed1a7d74e0a085.txt  \n",
            "  inflating: /content/OIVIS_Lab_3/train/labels/autosave16_10_2012_06_49_46_0_jpg.rf.f416e155b4c0a003ce6741ccd9db56fd.txt  \n",
            "  inflating: /content/OIVIS_Lab_3/train/labels/autosave16_10_2012_06_49_57_2_jpg.rf.23d538f3f4ee162ac2b243d3fb0a19f9.txt  \n",
            "  inflating: /content/OIVIS_Lab_3/train/labels/autosave16_10_2012_06_50_12_0_jpg.rf.55822380b04daddc9e0db449972f8053.txt  \n",
            "  inflating: /content/OIVIS_Lab_3/train/labels/autosave16_10_2012_06_50_12_3_jpg.rf.fddb40114009dae486aea47b775c111f.txt  \n",
            "  inflating: /content/OIVIS_Lab_3/train/labels/autosave16_10_2012_06_50_26_0_jpg.rf.4b1e9f0586641a3f291729c919ad5695.txt  \n",
            "  inflating: /content/OIVIS_Lab_3/train/labels/autosave16_10_2012_06_50_50_0_jpg.rf.895d3bddaa9b293909e5c89de3cd247e.txt  \n",
            "  inflating: /content/OIVIS_Lab_3/train/labels/autosave16_10_2012_06_50_50_2_jpg.rf.ee372a447b83d07bc6d6a93e8de6f502.txt  \n",
            "  inflating: /content/OIVIS_Lab_3/train/labels/autosave16_10_2012_06_51_39_2_jpg.rf.45b83f437c7664b52c34a5f891e2bf34.txt  \n",
            "  inflating: /content/OIVIS_Lab_3/train/labels/autosave16_10_2012_06_51_44_0_jpg.rf.f9b4ef1bcd1704124e34e73cb2b095bf.txt  \n",
            "  inflating: /content/OIVIS_Lab_3/train/labels/autosave16_10_2012_06_51_46_1_jpg.rf.02e26264b9aecc03718c8a64e31011ef.txt  \n",
            "  inflating: /content/OIVIS_Lab_3/train/labels/autosave16_10_2012_06_51_54_0_jpg.rf.4f5959bfe7e1ab2df8986f1dfe6317b6.txt  \n",
            "  inflating: /content/OIVIS_Lab_3/train/labels/autosave16_10_2012_06_51_58_3_jpg.rf.d809c39d1b8c8305d7ed73becc8946d0.txt  \n",
            "  inflating: /content/OIVIS_Lab_3/train/labels/autosave16_10_2012_06_52_14_1_jpg.rf.c0f247cb7c967a8aab100c5c4179306c.txt  \n",
            "  inflating: /content/OIVIS_Lab_3/train/labels/autosave16_10_2012_06_52_19_2_jpg.rf.76c76c0e64a88180d7d386d07396fb4a.txt  \n",
            "  inflating: /content/OIVIS_Lab_3/train/labels/autosave16_10_2012_06_52_25_0_jpg.rf.32ae7515e2a5c4e6b3242bc40be7922b.txt  \n",
            "  inflating: /content/OIVIS_Lab_3/train/labels/autosave16_10_2012_06_52_25_1_jpg.rf.ac3b22b92b10f86dcc2c4de04a1dd91b.txt  \n",
            "  inflating: /content/OIVIS_Lab_3/train/labels/autosave16_10_2012_06_52_32_1_jpg.rf.366bd4b517607a173f9d06fd091fc75c.txt  \n",
            "  inflating: /content/OIVIS_Lab_3/train/labels/autosave16_10_2012_06_52_38_0_jpg.rf.01e04e0db5bc2e743de67ff93f74a0cf.txt  \n",
            "  inflating: /content/OIVIS_Lab_3/train/labels/autosave16_10_2012_06_52_38_2_jpg.rf.5fd51c679e28bb93b01aa7201570aa3a.txt  \n",
            "  inflating: /content/OIVIS_Lab_3/train/labels/autosave16_10_2012_06_52_45_2_jpg.rf.930984ded77c0cf481ad8e0b69da2923.txt  \n",
            "  inflating: /content/OIVIS_Lab_3/train/labels/autosave16_10_2012_06_52_45_3_jpg.rf.87c16ade6f63b1e227ff2aa3a88939b5.txt  \n",
            "  inflating: /content/OIVIS_Lab_3/train/labels/autosave16_10_2012_06_52_47_1_jpg.rf.cc8e87190959ef500453691972416488.txt  \n",
            "  inflating: /content/OIVIS_Lab_3/train/labels/autosave16_10_2012_06_52_48_2_jpg.rf.538818363f57fa513b3e0cf8c576e91c.txt  \n",
            "  inflating: /content/OIVIS_Lab_3/train/labels/autosave16_10_2012_06_52_50_2_jpg.rf.ff605cd5a113efa807a78e9882a12ecd.txt  \n",
            "  inflating: /content/OIVIS_Lab_3/train/labels/autosave16_10_2012_06_52_51_2_jpg.rf.fed8a4c042b5771d8d788a97259e2874.txt  \n",
            "  inflating: /content/OIVIS_Lab_3/train/labels/autosave16_10_2012_06_52_52_1_jpg.rf.1da1bc1a892b0ff7e0a381f9741aa2c8.txt  \n",
            "  inflating: /content/OIVIS_Lab_3/train/labels/autosave16_10_2012_06_52_58_2_jpg.rf.114c5961a41d2d991a6bef53f48e33b0.txt  \n",
            "  inflating: /content/OIVIS_Lab_3/train/labels/autosave16_10_2012_06_52_59_2_jpg.rf.676c0582b0fa4c849c37a9a624e073ad.txt  \n",
            "  inflating: /content/OIVIS_Lab_3/train/labels/autosave16_10_2012_06_53_00_3_jpg.rf.95379809d062edc988522cb918649614.txt  \n",
            "  inflating: /content/OIVIS_Lab_3/train/labels/autosave16_10_2012_06_53_02_2_jpg.rf.da408e6c433dc5c4b96605f9285bc9e0.txt  \n",
            "  inflating: /content/OIVIS_Lab_3/train/labels/autosave16_10_2012_06_53_02_3_jpg.rf.d226b7ac1117a5621c50739458a38f85.txt  \n",
            "  inflating: /content/OIVIS_Lab_3/train/labels/autosave16_10_2012_06_53_05_1_jpg.rf.64d825df1f04b28235dd9867c6dfa2be.txt  \n",
            "  inflating: /content/OIVIS_Lab_3/train/labels/autosave16_10_2012_06_53_05_2_jpg.rf.c4bf42b21725b7c5b79da9ca2f06d5d9.txt  \n",
            "  inflating: /content/OIVIS_Lab_3/train/labels/autosave16_10_2012_06_53_07_2_jpg.rf.aa03fab90797fd9058c85ec39cd7296b.txt  \n",
            "  inflating: /content/OIVIS_Lab_3/train/labels/autosave16_10_2012_06_53_14_3_jpg.rf.6bc89a5266e0ffa52a60a3968ef24361.txt  \n",
            "  inflating: /content/OIVIS_Lab_3/train/labels/autosave16_10_2012_06_53_16_1_jpg.rf.d36e81855e87cb624c8b7a0a1cff70c6.txt  \n",
            "  inflating: /content/OIVIS_Lab_3/train/labels/autosave16_10_2012_06_53_17_1_jpg.rf.57ad541ba6a9dc167c56b37847092fda.txt  \n",
            "  inflating: /content/OIVIS_Lab_3/train/labels/autosave16_10_2012_06_53_22_2_jpg.rf.d1559a5795df68ea84515d1b0fb7f238.txt  \n",
            "  inflating: /content/OIVIS_Lab_3/train/labels/autosave16_10_2012_06_53_25_1_jpg.rf.3bfcfb5ec1d02b303e01b895df8dc9f9.txt  \n",
            "  inflating: /content/OIVIS_Lab_3/train/labels/autosave16_10_2012_06_53_25_2_jpg.rf.7b1b7a91be29e885d177a86b9ca73f48.txt  \n",
            "  inflating: /content/OIVIS_Lab_3/train/labels/autosave16_10_2012_06_53_32_0_jpg.rf.11dfb2b3c33fc3f66e3f3c28a62d29ed.txt  \n",
            "  inflating: /content/OIVIS_Lab_3/train/labels/autosave16_10_2012_06_53_32_1_jpg.rf.ad63aa9295f40b824c81be075d6bce2a.txt  \n",
            "  inflating: /content/OIVIS_Lab_3/train/labels/autosave16_10_2012_06_53_33_2_jpg.rf.a375b05bfeee1b4b27617c08639e1bcc.txt  \n",
            "  inflating: /content/OIVIS_Lab_3/train/labels/autosave16_10_2012_06_53_36_1_jpg.rf.fd201ed1153ee6eb3bbc94cee1705e8a.txt  \n",
            "  inflating: /content/OIVIS_Lab_3/train/labels/autosave16_10_2012_06_53_38_1_jpg.rf.23c1e279fc5ac43a9bdfefd3b51d6a22.txt  \n",
            "  inflating: /content/OIVIS_Lab_3/train/labels/autosave16_10_2012_06_53_41_2_jpg.rf.6b30f099d9797da099fcfae3b8f3de62.txt  \n",
            "  inflating: /content/OIVIS_Lab_3/train/labels/autosave16_10_2012_06_53_42_1_jpg.rf.646ab73cbaf75823decd28caaf7c5c86.txt  \n",
            "  inflating: /content/OIVIS_Lab_3/train/labels/autosave16_10_2012_06_53_44_1_jpg.rf.b187932dd6d512875b93b88fec2b98a9.txt  \n",
            "  inflating: /content/OIVIS_Lab_3/train/labels/autosave16_10_2012_06_53_46_1_jpg.rf.f08b51d99f96135551f18f2055b5db22.txt  \n",
            "  inflating: /content/OIVIS_Lab_3/train/labels/autosave16_10_2012_06_53_51_2_jpg.rf.337110e824518873c0a8c4511d1f7cef.txt  \n",
            "  inflating: /content/OIVIS_Lab_3/train/labels/autosave16_10_2012_06_53_55_3_jpg.rf.a3fe79a754d611a4c13c6686f909dcb1.txt  \n",
            "  inflating: /content/OIVIS_Lab_3/train/labels/autosave16_10_2012_06_54_07_0_jpg.rf.73fc9e5bd5e077b2e9dc78c1ca8ea94d.txt  \n",
            "  inflating: /content/OIVIS_Lab_3/train/labels/autosave16_10_2012_06_54_57_0_jpg.rf.ca6ddfc89ccdb415ee4c35044e5179d2.txt  \n",
            "  inflating: /content/OIVIS_Lab_3/train/labels/autosave16_10_2012_06_55_01_4_jpg.rf.c459785cdc07f4a8429dd3973247acda.txt  \n",
            "  inflating: /content/OIVIS_Lab_3/train/labels/autosave16_10_2012_06_55_01_5_jpg.rf.e0492bfb845b21f7700a423caf615c80.txt  \n",
            "  inflating: /content/OIVIS_Lab_3/train/labels/autosave16_10_2012_06_55_10_2_jpg.rf.080c7e9a30398cc99889d749f7861504.txt  \n",
            "  inflating: /content/OIVIS_Lab_3/train/labels/autosave16_10_2012_06_55_17_3_jpg.rf.bd8ffdaa9ab56d1d32342e1d84827f83.txt  \n",
            "  inflating: /content/OIVIS_Lab_3/train/labels/autosave16_10_2012_06_55_31_2_jpg.rf.1171db77a31cff9b78d1a0f4608a818f.txt  \n",
            "  inflating: /content/OIVIS_Lab_3/train/labels/autosave16_10_2012_06_56_04_0_jpg.rf.18fb558b0da712949f62e3d43245992f.txt  \n",
            "  inflating: /content/OIVIS_Lab_3/train/labels/autosave16_10_2012_06_56_04_1_jpg.rf.919ed3b4d83ac1ecf3a04b367fc7589d.txt  \n",
            "  inflating: /content/OIVIS_Lab_3/train/labels/autosave16_10_2012_06_56_04_2_jpg.rf.3ae2de7bfc520ab91194cdd39839ad34.txt  \n",
            "  inflating: /content/OIVIS_Lab_3/train/labels/autosave16_10_2012_06_56_06_5_jpg.rf.6004e9b26e1fd23648a8178b673be2fc.txt  \n",
            "  inflating: /content/OIVIS_Lab_3/train/labels/autosave16_10_2012_07_07_49_0_jpg.rf.a11002c63d19216a8dba482b3bb54a4d.txt  \n",
            "  inflating: /content/OIVIS_Lab_3/train/labels/autosave16_10_2012_07_08_00_0_jpg.rf.f07ccb3e2531d0a6af9f2120d8296210.txt  \n",
            "  inflating: /content/OIVIS_Lab_3/train/labels/autosave16_10_2012_07_08_10_3_jpg.rf.6f23e49529721fcca578faec4550a459.txt  \n",
            "  inflating: /content/OIVIS_Lab_3/train/labels/autosave16_10_2012_07_08_11_1_jpg.rf.f1364ab78e8832d3a0f4a79d210eefe8.txt  \n",
            "  inflating: /content/OIVIS_Lab_3/train/labels/autosave16_10_2012_07_08_14_0_jpg.rf.03f243d31e5f26b37d20de0b5dd5e74c.txt  \n",
            "  inflating: /content/OIVIS_Lab_3/train/labels/autosave16_10_2012_07_08_14_1_jpg.rf.8dc58a84b0d54a5edadc377195d20073.txt  \n",
            "  inflating: /content/OIVIS_Lab_3/train/labels/autosave16_10_2012_07_08_14_3_jpg.rf.bc846fd417c292df8d70c65375991f35.txt  \n",
            "  inflating: /content/OIVIS_Lab_3/train/labels/autosave16_10_2012_07_09_02_1_jpg.rf.84fea0037d0b128b9a9348686aeff040.txt  \n",
            "  inflating: /content/OIVIS_Lab_3/train/labels/autosave16_10_2012_07_09_02_2_jpg.rf.61dc9eb5c5d94e4b5c72f3511abd5528.txt  \n",
            "  inflating: /content/OIVIS_Lab_3/train/labels/autosave16_10_2012_07_09_05_2_jpg.rf.b81f462ec2d3958c910838c262efbc6c.txt  \n",
            "  inflating: /content/OIVIS_Lab_3/train/labels/autosave16_10_2012_07_09_06_0_jpg.rf.5afacd968ad098d5fabf0d4301b3d8fa.txt  \n",
            "  inflating: /content/OIVIS_Lab_3/train/labels/autosave16_10_2012_07_09_10_0_jpg.rf.3ee9fcd44c3ae486d0a57a86a9316f50.txt  \n",
            "  inflating: /content/OIVIS_Lab_3/train/labels/autosave16_10_2012_07_09_18_0_jpg.rf.2a7957edf09e4f92b9eb9412e566d100.txt  \n",
            "  inflating: /content/OIVIS_Lab_3/train/labels/autosave16_10_2012_07_09_21_2_jpg.rf.9f9222fb20cab21041e4c47a693586fb.txt  \n",
            "  inflating: /content/OIVIS_Lab_3/train/labels/autosave16_10_2012_07_09_21_3_jpg.rf.6580e41852068df155e57a8244277f8f.txt  \n",
            "  inflating: /content/OIVIS_Lab_3/train/labels/autosave16_10_2012_07_09_52_1_jpg.rf.9ef15f4474ecce8d67061b721d358192.txt  \n",
            "  inflating: /content/OIVIS_Lab_3/train/labels/autosave16_10_2012_07_11_47_1_jpg.rf.9d150c8e5bc7bc7e579bf6c6eeae9405.txt  \n",
            "  inflating: /content/OIVIS_Lab_3/train/labels/autosave16_10_2012_07_11_48_3_jpg.rf.8a792d024441dd757a4e309ee80b6778.txt  \n",
            "  inflating: /content/OIVIS_Lab_3/train/labels/autosave16_10_2012_07_12_10_2_jpg.rf.60e7532c7bd23c8543d6c54c9945c04d.txt  \n",
            "  inflating: /content/OIVIS_Lab_3/train/labels/autosave16_10_2012_07_12_16_1_jpg.rf.0f3a642b1fcbb6b0cabb9bcc2bbd180b.txt  \n",
            "  inflating: /content/OIVIS_Lab_3/train/labels/autosave16_10_2012_07_12_18_0_jpg.rf.9699f159306d20919d66476cabd5fa7f.txt  \n",
            "  inflating: /content/OIVIS_Lab_3/train/labels/autosave16_10_2012_07_12_34_2_jpg.rf.248b1480e7551b986cfc10ace7baced2.txt  \n",
            "  inflating: /content/OIVIS_Lab_3/train/labels/autosave16_10_2012_07_12_42_0_jpg.rf.0623e557383da7b41315acaecd9ae41a.txt  \n",
            "  inflating: /content/OIVIS_Lab_3/train/labels/autosave16_10_2012_07_12_52_0_jpg.rf.1a8c219c4b52dea4f9fdc485c71608ba.txt  \n",
            "  inflating: /content/OIVIS_Lab_3/train/labels/autosave16_10_2012_07_13_01_1_jpg.rf.686f1c53b69ada486a6993607300a75a.txt  \n",
            "  inflating: /content/OIVIS_Lab_3/train/labels/autosave16_10_2012_07_13_02_0_jpg.rf.7ad62885f5a792a44dd2af5a0cb90fda.txt  \n",
            "  inflating: /content/OIVIS_Lab_3/train/labels/autosave16_10_2012_07_13_10_3_jpg.rf.7fcd571afcad89e0394ff94ada4cd461.txt  \n",
            "  inflating: /content/OIVIS_Lab_3/train/labels/autosave16_10_2012_07_15_08_3_jpg.rf.0135f1e1b5877e971386129e2cdd618b.txt  \n",
            "  inflating: /content/OIVIS_Lab_3/train/labels/autosave16_10_2012_07_15_14_0_jpg.rf.ce797f6517f26fc230956a44e7d496a4.txt  \n",
            "  inflating: /content/OIVIS_Lab_3/train/labels/autosave16_10_2012_07_15_14_2_jpg.rf.e6ba74288def20046758815fc6943af2.txt  \n",
            "  inflating: /content/OIVIS_Lab_3/train/labels/autosave16_10_2012_07_15_47_2_jpg.rf.906c694cdbb9487339ccf5d6f732e3ae.txt  \n",
            "  inflating: /content/OIVIS_Lab_3/train/labels/autosave16_10_2012_07_16_02_0_jpg.rf.9c047f46bd73c87f80cdf17d0ca28e63.txt  \n",
            "  inflating: /content/OIVIS_Lab_3/train/labels/autosave16_10_2012_07_16_12_0_jpg.rf.f903b363d75f813e4088c7e5de1babe4.txt  \n",
            "  inflating: /content/OIVIS_Lab_3/train/labels/autosave16_10_2012_07_16_12_2_jpg.rf.81779b2e176c67567284c6db04904a12.txt  \n",
            "  inflating: /content/OIVIS_Lab_3/train/labels/autosave16_10_2012_07_16_13_2_jpg.rf.5ded2fc286f94588462dbe0a82ffa1c5.txt  \n",
            "  inflating: /content/OIVIS_Lab_3/train/labels/autosave16_10_2012_07_16_20_1_jpg.rf.1681eacefbe1d99d8bd22161d6e9c91b.txt  \n",
            "  inflating: /content/OIVIS_Lab_3/train/labels/autosave16_10_2012_07_16_20_2_jpg.rf.0d0f56fe8d52fd3c1648f384b39ea7e3.txt  \n",
            "  inflating: /content/OIVIS_Lab_3/train/labels/autosave16_10_2012_07_16_22_3_jpg.rf.a7259a5664d3a68d7af2a07e1152cf97.txt  \n",
            "  inflating: /content/OIVIS_Lab_3/train/labels/autosave16_10_2012_07_16_58_2_jpg.rf.273b262610ab933714dbbf8148695995.txt  \n",
            "  inflating: /content/OIVIS_Lab_3/train/labels/autosave16_10_2012_07_16_59_1_jpg.rf.6338da54e83cb60f1bf523cb9228bc00.txt  \n",
            "  inflating: /content/OIVIS_Lab_3/train/labels/autosave16_10_2012_07_17_22_1_jpg.rf.af6b816675d87fcf060379f1a8013cf5.txt  \n",
            "  inflating: /content/OIVIS_Lab_3/train/labels/autosave16_10_2012_07_17_22_2_jpg.rf.f0160ff4ac145fe2eb64175319fc9be0.txt  \n",
            "  inflating: /content/OIVIS_Lab_3/train/labels/autosave16_10_2012_07_17_23_1_jpg.rf.1f95ebe08c6c4c34b9c05de02666e3a3.txt  \n",
            "  inflating: /content/OIVIS_Lab_3/train/labels/autosave16_10_2012_07_17_23_2_jpg.rf.1d7e43cf50e160a4eaef439cbf7845d3.txt  \n",
            "  inflating: /content/OIVIS_Lab_3/train/labels/autosave16_10_2012_07_17_33_1_jpg.rf.11c8140372f4f7ec482cc2a71eda39c9.txt  \n",
            "  inflating: /content/OIVIS_Lab_3/train/labels/autosave16_10_2012_07_17_38_2_jpg.rf.0e6848781008841500de8110fb653d2c.txt  \n",
            "  inflating: /content/OIVIS_Lab_3/train/labels/autosave16_10_2012_07_17_39_3_jpg.rf.c302a66cef02d685aff5a0789c1e355a.txt  \n",
            "  inflating: /content/OIVIS_Lab_3/train/labels/autosave16_10_2012_07_17_45_1_jpg.rf.b4fc80887cbb9c6257e684ed327e8bc0.txt  \n",
            "  inflating: /content/OIVIS_Lab_3/train/labels/autosave16_10_2012_07_17_45_3_jpg.rf.069dc7bbfce89709c08d93db29ab1dd3.txt  \n",
            "  inflating: /content/OIVIS_Lab_3/train/labels/autosave16_10_2012_07_17_54_3_jpg.rf.035d75d8f28493bd38d662c2929f0ddb.txt  \n",
            "  inflating: /content/OIVIS_Lab_3/train/labels/autosave16_10_2012_07_18_24_3_jpg.rf.332e72d7a36dd4a4efaa26018c092273.txt  \n",
            "  inflating: /content/OIVIS_Lab_3/train/labels/autosave16_10_2012_07_18_27_1_jpg.rf.7aabb0ae0c15392870978f75c0255dfe.txt  \n",
            "  inflating: /content/OIVIS_Lab_3/train/labels/autosave16_10_2012_07_19_36_0_jpg.rf.b9fb29c8a03e5f01fe96a8e2edf45ecc.txt  \n",
            "  inflating: /content/OIVIS_Lab_3/train/labels/autosave16_10_2012_07_19_45_1_jpg.rf.6342e02f15ff1cda6550ed52a1465b5a.txt  \n",
            "  inflating: /content/OIVIS_Lab_3/train/labels/autosave16_10_2012_07_19_45_2_jpg.rf.ae8280086a0d2d4a5f9c96ca73300e43.txt  \n",
            "  inflating: /content/OIVIS_Lab_3/train/labels/autosave16_10_2012_07_20_24_2_jpg.rf.ec261db8373d9b60c8a3b86b1ecce3e9.txt  \n",
            "  inflating: /content/OIVIS_Lab_3/train/labels/autosave16_10_2012_07_20_25_1_jpg.rf.ac16875ecb7bab3a4013439de91a8bdd.txt  \n",
            "  inflating: /content/OIVIS_Lab_3/train/labels/autosave16_10_2012_08_01_54_1_jpg.rf.0749911733ed7a803d311390c5c11340.txt  \n",
            "  inflating: /content/OIVIS_Lab_3/train/labels/autosave16_10_2012_08_02_05_4_jpg.rf.e10167b65e711b02605d1317338ec8f5.txt  \n",
            "  inflating: /content/OIVIS_Lab_3/train/labels/autosave16_10_2012_08_02_22_3_jpg.rf.e81de0a2a115da5dd68c36ec64c69430.txt  \n",
            "  inflating: /content/OIVIS_Lab_3/train/labels/autosave16_10_2012_08_02_36_3_jpg.rf.8198dac10fa83ce9de551e98e2f75449.txt  \n",
            "  inflating: /content/OIVIS_Lab_3/train/labels/autosave16_10_2012_08_02_59_0_jpg.rf.681f03dab66d90bd32e91da14e7ac89a.txt  \n",
            "  inflating: /content/OIVIS_Lab_3/train/labels/autosave16_10_2012_08_03_00_0_jpg.rf.c7a7b41b34df0afd4408312593877518.txt  \n",
            "  inflating: /content/OIVIS_Lab_3/train/labels/autosave16_10_2012_08_03_12_2_jpg.rf.2ee06513b62337592951acccab420992.txt  \n",
            "  inflating: /content/OIVIS_Lab_3/train/labels/autosave16_10_2012_08_03_32_2_jpg.rf.63282f5dcdcc1cd71df0672fcb07d1a8.txt  \n",
            "  inflating: /content/OIVIS_Lab_3/train/labels/autosave16_10_2012_08_03_35_0_jpg.rf.f6cc51640f3766cf833162db4338de93.txt  \n",
            "  inflating: /content/OIVIS_Lab_3/train/labels/autosave16_10_2012_08_03_43_2_jpg.rf.4d29a0fd26f51053d098233ab092b7d4.txt  \n",
            "  inflating: /content/OIVIS_Lab_3/train/labels/autosave16_10_2012_08_03_52_2_jpg.rf.31e594785424828a90b111ba8bb4cea0.txt  \n",
            "  inflating: /content/OIVIS_Lab_3/train/labels/autosave16_10_2012_08_03_53_0_jpg.rf.987e0db6bd2bb064424c871bdac5ffaf.txt  \n",
            "  inflating: /content/OIVIS_Lab_3/train/labels/autosave16_10_2012_08_03_57_2_jpg.rf.6f3cebefe7c2fbb5bae57aaa51118f6e.txt  \n",
            "  inflating: /content/OIVIS_Lab_3/train/labels/autosave16_10_2012_08_03_57_3_jpg.rf.ae2a7222281af55b65573ef58db1d431.txt  \n",
            "  inflating: /content/OIVIS_Lab_3/train/labels/autosave16_10_2012_08_03_58_0_jpg.rf.b052600cdb3ddf79197e3a8359cd267b.txt  \n",
            "  inflating: /content/OIVIS_Lab_3/train/labels/autosave16_10_2012_08_04_11_4_jpg.rf.74b9789fde43e18f2ebb4b675697842c.txt  \n",
            "  inflating: /content/OIVIS_Lab_3/train/labels/autosave16_10_2012_08_04_34_1_jpg.rf.24cf160e50d8fb032beff8cb343f08f2.txt  \n",
            "  inflating: /content/OIVIS_Lab_3/train/labels/autosave16_10_2012_08_04_34_5_jpg.rf.9e2b1fbe2578d34db44ce9258346e2e0.txt  \n",
            "  inflating: /content/OIVIS_Lab_3/train/labels/autosave16_10_2012_08_09_57_5_jpg.rf.c30b982dd7379f760152d94ff93164f6.txt  \n",
            "  inflating: /content/OIVIS_Lab_3/train/labels/autosave16_10_2012_08_10_13_2_jpg.rf.9b93d168d99e461299c9cb0102516e59.txt  \n",
            "  inflating: /content/OIVIS_Lab_3/train/labels/autosave16_10_2012_08_10_13_3_jpg.rf.4f78d8fee2fc376abd1367b24f0b4813.txt  \n",
            "  inflating: /content/OIVIS_Lab_3/train/labels/autosave16_10_2012_08_10_15_0_jpg.rf.812cc15525cdc3a7a43647fa753d097e.txt  \n",
            "  inflating: /content/OIVIS_Lab_3/train/labels/autosave16_10_2012_08_10_28_1_jpg.rf.2293c9eac01a6b618bb9f65bde750f1b.txt  \n",
            "  inflating: /content/OIVIS_Lab_3/train/labels/autosave16_10_2012_08_10_28_2_jpg.rf.37e4ba3d83f306da34b00ff2e5a7c7c1.txt  \n",
            "  inflating: /content/OIVIS_Lab_3/train/labels/autosave16_10_2012_08_10_29_0_jpg.rf.70f4e0db981860ca5b5f14b8dd1685b1.txt  \n",
            "  inflating: /content/OIVIS_Lab_3/train/labels/autosave16_10_2012_08_10_31_2_jpg.rf.6f29e5cea4d7ff25101b0c5b0b9970dd.txt  \n",
            "  inflating: /content/OIVIS_Lab_3/train/labels/autosave16_10_2012_08_10_33_0_jpg.rf.e6ea8b296eb1a9c290762ebfb32c0ab3.txt  \n",
            "  inflating: /content/OIVIS_Lab_3/train/labels/autosave16_10_2012_08_10_50_2_jpg.rf.667d9b38a581e9cd81305c1824ad4802.txt  \n",
            "  inflating: /content/OIVIS_Lab_3/train/labels/autosave16_10_2012_08_11_12_2_jpg.rf.dcb061fc01e537da20383cbcacc57798.txt  \n",
            "  inflating: /content/OIVIS_Lab_3/train/labels/autosave16_10_2012_08_11_33_0_jpg.rf.393a4effb7c8abc65185b0353ad7305b.txt  \n",
            "  inflating: /content/OIVIS_Lab_3/train/labels/autosave16_10_2012_08_11_33_2_jpg.rf.01771ac7d054debe96e3455db3302058.txt  \n",
            "  inflating: /content/OIVIS_Lab_3/train/labels/autosave16_10_2012_08_12_09_0_jpg.rf.2bd3a3e911d0d2a9a33e7f6ebc687a34.txt  \n",
            "  inflating: /content/OIVIS_Lab_3/train/labels/autosave16_10_2012_08_12_22_0_jpg.rf.6f6281173cfe549524f7336c901972f3.txt  \n",
            "  inflating: /content/OIVIS_Lab_3/train/labels/autosave16_10_2012_08_13_15_1_jpg.rf.7651c504cea18819e138d185cfb689c0.txt  \n",
            "  inflating: /content/OIVIS_Lab_3/train/labels/autosave16_10_2012_08_13_58_2_jpg.rf.7832e74971ec66c721c9419d0b031ae1.txt  \n",
            "  inflating: /content/OIVIS_Lab_3/train/labels/autosave16_10_2012_08_13_58_3_jpg.rf.2359ab8a945ea2a428e94ff446d9d4c3.txt  \n",
            "  inflating: /content/OIVIS_Lab_3/train/labels/autosave16_10_2012_08_14_28_1_jpg.rf.519e09079d373210b32f28c340a04a6e.txt  \n",
            "  inflating: /content/OIVIS_Lab_3/train/labels/autosave16_10_2012_08_14_32_5_jpg.rf.96ccdade8825bea015c90ab99df53a76.txt  \n",
            "  inflating: /content/OIVIS_Lab_3/train/labels/autosave16_10_2012_08_14_36_1_jpg.rf.9fc08487fe8477f1e94e769a89b0ab40.txt  \n",
            "  inflating: /content/OIVIS_Lab_3/train/labels/autosave16_10_2012_08_15_04_3_jpg.rf.b2dd1d146aca64e2e58a4260d693f1cc.txt  \n",
            "  inflating: /content/OIVIS_Lab_3/train/labels/autosave16_10_2012_08_15_04_5_jpg.rf.b4361f90be2981f42a0898392de25216.txt  \n",
            "  inflating: /content/OIVIS_Lab_3/train/labels/autosave16_10_2012_08_15_06_2_jpg.rf.1803bf7a0ad654c013d049fc04f37368.txt  \n",
            "  inflating: /content/OIVIS_Lab_3/train/labels/autosave16_10_2012_08_15_08_0_jpg.rf.ef6beff506e5b2d511cdb9062387085d.txt  \n",
            "  inflating: /content/OIVIS_Lab_3/train/labels/autosave16_10_2012_08_15_10_0_jpg.rf.61424158f77b22ab26bc50b42b9fb754.txt  \n",
            "  inflating: /content/OIVIS_Lab_3/train/labels/autosave16_10_2012_08_16_58_5_jpg.rf.e25cf621c3c8c8dc3293f897df09beac.txt  \n",
            "  inflating: /content/OIVIS_Lab_3/train/labels/autosave16_10_2012_08_17_05_2_jpg.rf.a7c0b6db36388d32b366ccb51aaf3224.txt  \n",
            "  inflating: /content/OIVIS_Lab_3/train/labels/autosave16_10_2012_08_17_05_5_jpg.rf.a3a8ac0d696fa02939e62d419d6fd73d.txt  \n",
            "  inflating: /content/OIVIS_Lab_3/train/labels/autosave16_10_2012_08_20_24_4_jpg.rf.c518a47ec9bfc24c6cfdc66b32ff96d4.txt  \n",
            "  inflating: /content/OIVIS_Lab_3/train/labels/autosave16_10_2012_08_20_24_5_jpg.rf.4067aa39b2693180c3b0cf7e998b9962.txt  \n",
            "  inflating: /content/OIVIS_Lab_3/train/labels/autosave16_10_2012_08_20_26_2_jpg.rf.bd84cdb102ea454ea7ead0017e67f053.txt  \n",
            "  inflating: /content/OIVIS_Lab_3/train/labels/autosave16_10_2012_08_20_28_4_jpg.rf.8b46d21bc77e173267c239000ef2b9ad.txt  \n",
            "  inflating: /content/OIVIS_Lab_3/train/labels/autosave16_10_2012_08_20_30_0_jpg.rf.ae95e79689135e77d8907e8a0d25263a.txt  \n",
            "  inflating: /content/OIVIS_Lab_3/train/labels/autosave16_10_2012_08_20_30_2_jpg.rf.3ac7d36a44c8f1acd8213fe7e098f5a1.txt  \n",
            "  inflating: /content/OIVIS_Lab_3/train/labels/autosave16_10_2012_08_21_00_1_jpg.rf.a73e3ff1d0ab9d10fa6fa5ad996d4e00.txt  \n",
            "  inflating: /content/OIVIS_Lab_3/train/labels/autosave16_10_2012_08_21_04_5_jpg.rf.b07eb46a1741a4797f19c90333e685e2.txt  \n",
            "  inflating: /content/OIVIS_Lab_3/train/labels/autosave16_10_2012_08_21_08_1_jpg.rf.d5ab1dd0ef80467b63e3ba8edcb07e31.txt  \n",
            "  inflating: /content/OIVIS_Lab_3/train/labels/autosave16_10_2012_08_22_33_0_jpg.rf.5221f26124b523ac5ee51b36c3139bee.txt  \n",
            "  inflating: /content/OIVIS_Lab_3/train/labels/autosave16_10_2012_08_22_35_4_jpg.rf.f0fa9353d9fc4f5caf4c31199cf655a9.txt  \n",
            "  inflating: /content/OIVIS_Lab_3/train/labels/autosave16_10_2012_08_22_51_1_jpg.rf.adcd481c35818a2e664143935c57662c.txt  \n",
            "  inflating: /content/OIVIS_Lab_3/train/labels/autosave16_10_2012_08_22_53_0_jpg.rf.b8668ced55e4bf8214436512d5fb7815.txt  \n",
            "  inflating: /content/OIVIS_Lab_3/train/labels/autosave16_10_2012_08_23_49_5_jpg.rf.7088660b7aa8602d30229c59c06ab7bc.txt  \n",
            "  inflating: /content/OIVIS_Lab_3/train/labels/autosave16_10_2012_08_23_58_0_jpg.rf.966139bc5805a904f636538da2ee0088.txt  \n",
            "  inflating: /content/OIVIS_Lab_3/train/labels/autosave16_10_2012_08_24_45_1_jpg.rf.71e13f440032514f4a745830e7d25ed0.txt  \n",
            "  inflating: /content/OIVIS_Lab_3/train/labels/autosave16_10_2012_08_24_45_2_jpg.rf.2044635e2624fac27a062d97099819c9.txt  \n",
            "  inflating: /content/OIVIS_Lab_3/train/labels/autosave16_10_2012_08_24_53_5_jpg.rf.8c1af46bfdcc888385506911913aedad.txt  \n",
            "  inflating: /content/OIVIS_Lab_3/train/labels/autosave16_10_2012_08_25_16_1_jpg.rf.f8c6a5ae4870d016ed671fb225c8e0ac.txt  \n",
            "  inflating: /content/OIVIS_Lab_3/train/labels/autosave16_10_2012_08_26_57_0_jpg.rf.cb4f44022b7c20ef9ed52081a9fa0e7a.txt  \n",
            "  inflating: /content/OIVIS_Lab_3/train/labels/autosave16_10_2012_08_28_09_3_jpg.rf.c96e28d79453f313fd1e22fc6201d7f7.txt  \n",
            "  inflating: /content/OIVIS_Lab_3/train/labels/autosave16_10_2012_08_28_20_5_jpg.rf.853d89a165d6b1d37b4ad3c0520054e3.txt  \n",
            "  inflating: /content/OIVIS_Lab_3/train/labels/autosave16_10_2012_08_28_24_1_jpg.rf.cd76aefc665a3ecd80dcef8b3608caf3.txt  \n",
            "  inflating: /content/OIVIS_Lab_3/train/labels/autosave16_10_2012_08_28_28_0_jpg.rf.64cd705a23d2d6923a55e73de68b29fa.txt  \n",
            "  inflating: /content/OIVIS_Lab_3/train/labels/autosave16_10_2012_08_29_37_2_jpg.rf.316ec9fcc97d1040f2650fdeb99b361a.txt  \n",
            "  inflating: /content/OIVIS_Lab_3/train/labels/autosave16_10_2012_08_31_21_2_jpg.rf.c77e74b71c69e61d55d8336f487908f6.txt  \n",
            "  inflating: /content/OIVIS_Lab_3/train/labels/autosave16_10_2012_08_31_23_4_jpg.rf.2de187ec58526c77db07a519213de232.txt  \n",
            "  inflating: /content/OIVIS_Lab_3/train/labels/autosave16_10_2012_08_31_25_3_jpg.rf.fcbf68f9e2819cd1a686dec087dd604b.txt  \n",
            "  inflating: /content/OIVIS_Lab_3/train/labels/autosave16_10_2012_08_33_59_3_jpg.rf.9797ceca9275cea6eb30157c4fd2947b.txt  \n",
            "  inflating: /content/OIVIS_Lab_3/train/labels/autosave16_10_2012_08_33_59_5_jpg.rf.efabe7be263f1533e45c7aee457ba9b4.txt  \n",
            "  inflating: /content/OIVIS_Lab_3/train/labels/autosave16_10_2012_08_34_29_2_jpg.rf.d47aec9149a391206d19b355ae818ffd.txt  \n",
            "  inflating: /content/OIVIS_Lab_3/train/labels/autosave16_10_2012_08_34_45_1_jpg.rf.ad6a1cb5a2cfb8e86d8290172e4c9c37.txt  \n",
            "  inflating: /content/OIVIS_Lab_3/train/labels/autosave16_10_2012_08_34_45_3_jpg.rf.fb9dc05fc67ac0a573be6711fae4a908.txt  \n",
            "  inflating: /content/OIVIS_Lab_3/train/labels/autosave16_10_2012_08_34_47_0_jpg.rf.9f0f43f2c952083329cead18020c0487.txt  \n",
            "  inflating: /content/OIVIS_Lab_3/train/labels/autosave16_10_2012_08_34_56_1_jpg.rf.fdc8198bf5d45b6e865b20a1dc105cfe.txt  \n",
            "  inflating: /content/OIVIS_Lab_3/train/labels/autosave16_10_2012_08_35_12_0_jpg.rf.420d9e9ab1e66a522e864111d7505d62.txt  \n",
            "  inflating: /content/OIVIS_Lab_3/train/labels/autosave16_10_2012_08_35_16_2_jpg.rf.aed4acdc6bf14113c318b40976a86555.txt  \n",
            "  inflating: /content/OIVIS_Lab_3/train/labels/autosave16_10_2012_08_35_18_4_jpg.rf.b222fbcf1ccde5b479b1992de6726b0b.txt  \n",
            "  inflating: /content/OIVIS_Lab_3/train/labels/autosave16_10_2012_08_35_20_0_jpg.rf.2f7c3cf928a26c53dd8bcfaef19d4cf0.txt  \n",
            "  inflating: /content/OIVIS_Lab_3/train/labels/autosave16_10_2012_08_35_23_1_jpg.rf.897343227452439e8e345b179b362b0a.txt  \n",
            "  inflating: /content/OIVIS_Lab_3/train/labels/autosave16_10_2012_08_35_43_5_jpg.rf.430e21f1e3b6cde7b2dbcdfe7b5502c2.txt  \n",
            "  inflating: /content/OIVIS_Lab_3/train/labels/autosave16_10_2012_08_35_45_0_jpg.rf.a0815340645078261226169c163b3c2f.txt  \n",
            "  inflating: /content/OIVIS_Lab_3/train/labels/autosave16_10_2012_08_35_51_0_jpg.rf.97de4ba7ab98e0d1ae3f0880685202b6.txt  \n",
            "  inflating: /content/OIVIS_Lab_3/train/labels/autosave16_10_2012_08_36_09_5_jpg.rf.49df5606d8b23c1ef8259c1adfb728b0.txt  \n",
            "  inflating: /content/OIVIS_Lab_3/train/labels/autosave16_10_2012_08_36_15_2_jpg.rf.d9d863604514f2fa4c605a54589febcf.txt  \n",
            "  inflating: /content/OIVIS_Lab_3/train/labels/autosave16_10_2012_08_38_31_2_jpg.rf.19cb1935fb09e94e6efadc7259448e42.txt  \n",
            "  inflating: /content/OIVIS_Lab_3/train/labels/autosave16_10_2012_08_39_45_1_jpg.rf.7836912c8f13394a691d9e8470c129e8.txt  \n",
            "  inflating: /content/OIVIS_Lab_3/train/labels/autosave16_10_2012_08_39_46_1_jpg.rf.29d081d61323a04df81fa8dbb41561bb.txt  \n",
            "  inflating: /content/OIVIS_Lab_3/train/labels/autosave16_10_2012_08_39_51_2_jpg.rf.39e7a992998789c660ec573548e4659c.txt  \n",
            "  inflating: /content/OIVIS_Lab_3/train/labels/autosave16_10_2012_08_40_44_3_jpg.rf.54695f641bc468ab42adfc9527b5c173.txt  \n",
            "  inflating: /content/OIVIS_Lab_3/train/labels/autosave16_10_2012_08_41_08_3_jpg.rf.801901665c805e335109b0789fda452c.txt  \n",
            "  inflating: /content/OIVIS_Lab_3/train/labels/autosave16_10_2012_08_41_16_4_jpg.rf.902cb267a9b32f5c58c608ba8543298e.txt  \n",
            "  inflating: /content/OIVIS_Lab_3/train/labels/autosave16_10_2012_08_41_49_1_jpg.rf.233e69945f442428095716c6c8341143.txt  \n",
            "  inflating: /content/OIVIS_Lab_3/train/labels/autosave16_10_2012_08_44_17_3_jpg.rf.e650285757324c22b3a0f517da33f39a.txt  \n",
            "  inflating: /content/OIVIS_Lab_3/train/labels/autosave16_10_2012_08_44_23_0_jpg.rf.2d8dec32ea9211cfba42e7ccd36ce420.txt  \n",
            "  inflating: /content/OIVIS_Lab_3/train/labels/autosave16_10_2012_08_44_26_1_jpg.rf.104ae5fef6daff67c0d07cc91c0933e3.txt  \n",
            "  inflating: /content/OIVIS_Lab_3/train/labels/autosave16_10_2012_08_44_47_3_jpg.rf.918a2871d4fc47e4eebb17cc15f99bff.txt  \n",
            "  inflating: /content/OIVIS_Lab_3/train/labels/autosave16_10_2012_08_44_49_2_jpg.rf.2150443cc1c7970bfa30e253095dcbb8.txt  \n",
            "  inflating: /content/OIVIS_Lab_3/train/labels/autosave16_10_2012_08_45_15_2_jpg.rf.f227e1cc5269e84fc515535f5181ca2d.txt  \n",
            "  inflating: /content/OIVIS_Lab_3/train/labels/autosave16_10_2012_08_46_25_4_jpg.rf.a5dd835f28b4de4ba93f5ddf3802e20b.txt  \n",
            "  inflating: /content/OIVIS_Lab_3/train/labels/autosave16_10_2012_08_46_27_0_jpg.rf.843da7bda1b73c888d302deabef60ded.txt  \n",
            "  inflating: /content/OIVIS_Lab_3/train/labels/autosave16_10_2012_08_46_29_0_jpg.rf.76b62bbc55cc30ea96eeecee2961a18f.txt  \n",
            "  inflating: /content/OIVIS_Lab_3/train/labels/autosave16_10_2012_08_46_29_1_jpg.rf.ea0c40196efcc3ed851eb567ac619ce1.txt  \n",
            "  inflating: /content/OIVIS_Lab_3/train/labels/autosave16_10_2012_08_46_31_0_jpg.rf.44f6bc1331a7e5e4713f89bdca6f1e6e.txt  \n",
            "  inflating: /content/OIVIS_Lab_3/train/labels/autosave16_10_2012_08_46_42_0_jpg.rf.8a4478c01a02c857895d1ec3afbac1d7.txt  \n",
            "  inflating: /content/OIVIS_Lab_3/train/labels/autosave16_10_2012_08_46_43_4_jpg.rf.590b0c23567c9bcd0c02af357471c710.txt  \n",
            "  inflating: /content/OIVIS_Lab_3/train/labels/autosave16_10_2012_08_47_02_0_jpg.rf.dcbedaaa6de52f3ddc414c0fde06aa3f.txt  \n",
            "  inflating: /content/OIVIS_Lab_3/train/labels/autosave16_10_2012_08_47_10_2_jpg.rf.8ab44241294bab25ed9333c83d1eb83e.txt  \n",
            "  inflating: /content/OIVIS_Lab_3/train/labels/autosave16_10_2012_08_47_33_4_jpg.rf.4034622b8ed90827aea85846ce6ebb12.txt  \n",
            "  inflating: /content/OIVIS_Lab_3/train/labels/autosave16_10_2012_08_47_39_1_jpg.rf.8aa4e1c16945eb1709941be6346a0f70.txt  \n",
            "  inflating: /content/OIVIS_Lab_3/train/labels/autosave16_10_2012_08_47_52_1_jpg.rf.ad0ec8173624a49a3004bed98b2c965d.txt  \n",
            "  inflating: /content/OIVIS_Lab_3/train/labels/autosave16_10_2012_08_47_52_5_jpg.rf.9b8c9ce0be3c031cb55e1cd2b92c81b9.txt  \n",
            "  inflating: /content/OIVIS_Lab_3/train/labels/autosave16_10_2012_08_47_54_0_jpg.rf.b28ae44ddb9314dc34cd548be5317e5f.txt  \n",
            "  inflating: /content/OIVIS_Lab_3/train/labels/autosave16_10_2012_08_48_22_0_jpg.rf.a0b2e5a87951978867bfd3fbe279fbad.txt  \n",
            "  inflating: /content/OIVIS_Lab_3/train/labels/autosave16_10_2012_08_48_26_2_jpg.rf.674183d6a330bf82bc7961d980006f0a.txt  \n",
            "  inflating: /content/OIVIS_Lab_3/train/labels/autosave16_10_2012_08_48_36_4_jpg.rf.5bdff99fc0dec42bc779560dfaf06bad.txt  \n",
            "  inflating: /content/OIVIS_Lab_3/train/labels/autosave16_10_2012_08_48_43_0_jpg.rf.7710d2d10327b6aec6cb59c9831135d0.txt  \n",
            "  inflating: /content/OIVIS_Lab_3/train/labels/autosave16_10_2012_08_48_43_2_jpg.rf.344f4b23f163d5d7b73b5e956dfff56a.txt  \n",
            "  inflating: /content/OIVIS_Lab_3/train/labels/autosave16_10_2012_08_48_43_3_jpg.rf.dd9a47d39f67eab2bd4d449ab2b4cff9.txt  \n",
            "  inflating: /content/OIVIS_Lab_3/train/labels/autosave16_10_2012_08_50_05_3_jpg.rf.45ef586cf94488299ad94afc7e5c20e4.txt  \n",
            "  inflating: /content/OIVIS_Lab_3/train/labels/autosave16_10_2012_08_50_15_0_jpg.rf.b972fbffde9e455db5bf9d0eb5dfe18f.txt  \n",
            "  inflating: /content/OIVIS_Lab_3/train/labels/autosave16_10_2012_08_50_16_0_jpg.rf.9d2bf6b80dc9aac31c091ffeb945ec4b.txt  \n",
            "  inflating: /content/OIVIS_Lab_3/train/labels/autosave16_10_2012_08_50_30_2_jpg.rf.f52617867c8e7ecc10d2b84f472893db.txt  \n",
            "  inflating: /content/OIVIS_Lab_3/train/labels/autosave16_10_2012_08_50_32_2_jpg.rf.e995af456bc1202a0a756d6ee3493ff9.txt  \n",
            "  inflating: /content/OIVIS_Lab_3/train/labels/autosave16_10_2012_08_50_32_4_jpg.rf.27fa13fd9a1d26211b4f84ef3c785e24.txt  \n",
            "  inflating: /content/OIVIS_Lab_3/train/labels/autosave16_10_2012_08_50_34_0_jpg.rf.692696955931ed1b2e0ae07a85e76d89.txt  \n",
            "  inflating: /content/OIVIS_Lab_3/train/labels/autosave16_10_2012_08_50_34_4_jpg.rf.f75420a45a1a917e5f6382657979ed59.txt  \n",
            "  inflating: /content/OIVIS_Lab_3/train/labels/autosave16_10_2012_08_51_00_1_jpg.rf.acdfc6983cd6c3e2dde8ef8d7a1763b5.txt  \n",
            "  inflating: /content/OIVIS_Lab_3/train/labels/autosave16_10_2012_08_51_22_1_jpg.rf.0544f48b4a22538cdbe3f48fbe5383ab.txt  \n",
            "  inflating: /content/OIVIS_Lab_3/train/labels/autosave16_10_2012_08_51_23_0_jpg.rf.7b690f662f3adaa4ac40312449e7b755.txt  \n",
            "  inflating: /content/OIVIS_Lab_3/train/labels/autosave16_10_2012_08_51_56_0_jpg.rf.3b1a5a85888f6e9bafe8fcd86faea2a3.txt  \n",
            "  inflating: /content/OIVIS_Lab_3/train/labels/autosave16_10_2012_08_52_27_0_jpg.rf.ba5cbc534aaad4aa32ef3cb7fc1fac94.txt  \n",
            "  inflating: /content/OIVIS_Lab_3/train/labels/autosave16_10_2012_08_52_30_0_jpg.rf.433bcf067332e96840222be2eea4dbc6.txt  \n",
            "  inflating: /content/OIVIS_Lab_3/train/labels/autosave16_10_2012_08_52_31_0_jpg.rf.7763c1bf187d836d01a555793153a3a0.txt  \n",
            "  inflating: /content/OIVIS_Lab_3/train/labels/autosave16_10_2012_08_52_56_0_jpg.rf.51cf866d4a97f5a746ae869a65de3890.txt  \n",
            "  inflating: /content/OIVIS_Lab_3/train/labels/autosave16_10_2012_08_53_03_0_jpg.rf.f580f7afd02ecdc6d67cfdd98578b7e0.txt  \n",
            "  inflating: /content/OIVIS_Lab_3/train/labels/autosave16_10_2012_08_53_05_3_jpg.rf.358a769506dc311a3afdb09246366e1f.txt  \n",
            "  inflating: /content/OIVIS_Lab_3/train/labels/autosave16_10_2012_08_53_15_3_jpg.rf.557f87d68fc65f7928ed977874893a35.txt  \n",
            "  inflating: /content/OIVIS_Lab_3/train/labels/autosave16_10_2012_08_53_17_3_jpg.rf.ebd4837587e01402184c26adcf3a51b9.txt  \n",
            "  inflating: /content/OIVIS_Lab_3/train/labels/autosave16_10_2012_08_53_41_0_jpg.rf.c590dfcd0ae8f90d50133461bcecbeb1.txt  \n",
            "  inflating: /content/OIVIS_Lab_3/train/labels/autosave16_10_2012_08_53_42_0_jpg.rf.1d3d92735ba3f415fea1e8b8010caeaa.txt  \n",
            "  inflating: /content/OIVIS_Lab_3/train/labels/autosave16_10_2012_08_58_10_0_jpg.rf.75cf56c7b69eb2e01e2a031415643482.txt  \n",
            "  inflating: /content/OIVIS_Lab_3/train/labels/autosave16_10_2012_08_58_12_1_jpg.rf.cceab3479abcbd890898735e4ca7dd32.txt  \n",
            "  inflating: /content/OIVIS_Lab_3/train/labels/autosave16_10_2012_08_58_12_3_jpg.rf.7cfb1ada08b081f6cd95864e3e81a8cb.txt  \n",
            "  inflating: /content/OIVIS_Lab_3/train/labels/autosave16_10_2012_08_58_52_1_jpg.rf.73ce7f425f1bfd4b76390fafa5b90582.txt  \n",
            "  inflating: /content/OIVIS_Lab_3/train/labels/autosave16_10_2012_08_58_52_3_jpg.rf.1678ca19467c9efb60a1af5a907d1d81.txt  \n",
            "  inflating: /content/OIVIS_Lab_3/train/labels/autosave16_10_2012_08_59_17_4_jpg.rf.28af94085e27eb37e49e9ce0fbacbe13.txt  \n",
            "  inflating: /content/OIVIS_Lab_3/train/labels/autosave16_10_2012_08_59_26_5_jpg.rf.1caf999cfc6769e7579267421b86d495.txt  \n",
            "  inflating: /content/OIVIS_Lab_3/train/labels/autosave16_10_2012_08_59_28_1_jpg.rf.ac10c93f4ba11f72ccd963d1b8d038f2.txt  \n",
            "  inflating: /content/OIVIS_Lab_3/train/labels/autosave16_10_2012_08_59_32_3_jpg.rf.5726ea9a12b9148c23bdbd91323c480f.txt  \n",
            "  inflating: /content/OIVIS_Lab_3/train/labels/autosave16_10_2012_08_59_41_0_jpg.rf.18415f4915bf5816093caf1b05f0e082.txt  \n",
            "  inflating: /content/OIVIS_Lab_3/train/labels/autosave16_10_2012_08_59_56_2_jpg.rf.c7b1f4e622b9073d71f53aac55485389.txt  \n",
            "  inflating: /content/OIVIS_Lab_3/train/labels/autosave16_10_2012_08_59_57_1_jpg.rf.6264388e10c89432e2889b22ed3fc3ba.txt  \n",
            "  inflating: /content/OIVIS_Lab_3/train/labels/autosave16_10_2012_09_00_11_0_jpg.rf.f6d73ac665299512046a10d0c33f3f57.txt  \n",
            "  inflating: /content/OIVIS_Lab_3/train/labels/autosave16_10_2012_09_00_36_0_jpg.rf.d6c0d15c87a638390537fc6ea1f38f24.txt  \n",
            "  inflating: /content/OIVIS_Lab_3/train/labels/autosave16_10_2012_09_00_36_3_jpg.rf.82a4f358ab36cae649ada01801f8d28f.txt  \n",
            "  inflating: /content/OIVIS_Lab_3/train/labels/autosave16_10_2012_09_00_49_2_jpg.rf.350a33f31ef0262ba1318e605609e5bb.txt  \n",
            "  inflating: /content/OIVIS_Lab_3/train/labels/autosave16_10_2012_09_00_51_3_jpg.rf.8c9a2a188351f90e3cd7e0b11a845e3e.txt  \n",
            "  inflating: /content/OIVIS_Lab_3/train/labels/autosave16_10_2012_09_01_00_3_jpg.rf.c9d13d3bf05f7f526a602d5c2edb6211.txt  \n",
            "  inflating: /content/OIVIS_Lab_3/train/labels/autosave16_10_2012_09_01_03_4_jpg.rf.5d68a042a08f5115836d07b4735eccb3.txt  \n",
            "  inflating: /content/OIVIS_Lab_3/train/labels/autosave16_10_2012_09_01_31_3_jpg.rf.efeedf478831a013abe8e5db355b1763.txt  \n",
            "  inflating: /content/OIVIS_Lab_3/train/labels/autosave16_10_2012_09_01_34_1_jpg.rf.bd2dd77cc0b1a369fefdb3968560ceb8.txt  \n",
            "  inflating: /content/OIVIS_Lab_3/train/labels/autosave16_10_2012_09_01_34_3_jpg.rf.5e97e512841455a19d293bb2da2d6277.txt  \n",
            "  inflating: /content/OIVIS_Lab_3/train/labels/autosave16_10_2012_09_02_19_1_jpg.rf.9b92b993c4c4053322305bacee5c2a37.txt  \n",
            "  inflating: /content/OIVIS_Lab_3/train/labels/autosave16_10_2012_09_02_32_1_jpg.rf.477d7b4606bdddc6af163b0749eba6c2.txt  \n",
            "  inflating: /content/OIVIS_Lab_3/train/labels/autosave16_10_2012_09_02_32_3_jpg.rf.54403019a309a39c9e57d3877cf4a30f.txt  \n",
            "  inflating: /content/OIVIS_Lab_3/train/labels/autosave16_10_2012_09_02_34_0_jpg.rf.426ac9e00d6fbacea14a8802e757cd30.txt  \n",
            "  inflating: /content/OIVIS_Lab_3/train/labels/autosave16_10_2012_09_02_37_1_jpg.rf.d77b66c1b953e3f759cdb0de2779e82c.txt  \n",
            "  inflating: /content/OIVIS_Lab_3/train/labels/autosave16_10_2012_09_02_54_1_jpg.rf.e64b581918c93cfe93ba8257bfb17800.txt  \n",
            "  inflating: /content/OIVIS_Lab_3/train/labels/autosave16_10_2012_09_02_55_3_jpg.rf.0a8fc4522621a5f111e2745d4397c027.txt  \n",
            "  inflating: /content/OIVIS_Lab_3/train/labels/autosave16_10_2012_09_03_17_1_jpg.rf.3dd8497f6371b76c951418079a7d99be.txt  \n",
            "  inflating: /content/OIVIS_Lab_3/train/labels/autosave16_10_2012_09_03_27_5_jpg.rf.c3ab2cf1116afc619d7bf163198eb680.txt  \n",
            "  inflating: /content/OIVIS_Lab_3/train/labels/autosave16_10_2012_09_04_13_0_jpg.rf.4da6c44c28599a407017f4ddb0d9fe6d.txt  \n",
            "  inflating: /content/OIVIS_Lab_3/train/labels/autosave16_10_2012_09_04_20_0_jpg.rf.0c56fb11bb4c60a735f5eac4dbbc76b0.txt  \n",
            "  inflating: /content/OIVIS_Lab_3/train/labels/autosave16_10_2012_09_04_24_0_jpg.rf.da43d0a985ba038877a60716f7be1533.txt  \n",
            "  inflating: /content/OIVIS_Lab_3/train/labels/autosave16_10_2012_09_04_47_4_jpg.rf.0a62f3d0028f00a2934d9faaab51c935.txt  \n",
            "  inflating: /content/OIVIS_Lab_3/train/labels/autosave16_10_2012_09_05_56_1_jpg.rf.3bd095cb757e82e880f3882596e25376.txt  \n",
            "  inflating: /content/OIVIS_Lab_3/train/labels/autosave16_10_2012_09_07_15_0_jpg.rf.fbc96e287d28f73df5b14d9a321fdf7b.txt  \n",
            "  inflating: /content/OIVIS_Lab_3/train/labels/autosave16_10_2012_09_07_54_2_jpg.rf.19568e892233fcc0132f53f08611033c.txt  \n",
            "  inflating: /content/OIVIS_Lab_3/train/labels/autosave16_10_2012_09_07_54_3_jpg.rf.17548bfa7666c66771e170572d135233.txt  \n",
            "  inflating: /content/OIVIS_Lab_3/train/labels/autosave16_10_2012_09_08_37_3_jpg.rf.bc48656ecb54f67744defef7663b292b.txt  \n",
            "  inflating: /content/OIVIS_Lab_3/train/labels/autosave16_10_2012_09_08_39_0_jpg.rf.b92ee3aa0648cc7f3b1b08c8bafa5ec3.txt  \n",
            "  inflating: /content/OIVIS_Lab_3/train/labels/autosave16_10_2012_09_09_22_0_jpg.rf.307e9a048c1ad802fc9699f1bd1e984b.txt  \n",
            "  inflating: /content/OIVIS_Lab_3/train/labels/autosave16_10_2012_09_09_22_3_jpg.rf.8f2b458b2dc5cdd00a8474dff4d4c37d.txt  \n",
            "  inflating: /content/OIVIS_Lab_3/train/labels/autosave16_10_2012_09_09_58_0_jpg.rf.d7da15b7e870660160321be51c50b7b2.txt  \n",
            "  inflating: /content/OIVIS_Lab_3/train/labels/autosave16_10_2012_09_10_00_1_jpg.rf.182d31209b19497958e36803ad58af10.txt  \n",
            "  inflating: /content/OIVIS_Lab_3/train/labels/autosave16_10_2012_09_10_01_0_jpg.rf.5e3a834f99f357a4acc40d8c77600102.txt  \n",
            "  inflating: /content/OIVIS_Lab_3/train/labels/autosave16_10_2012_09_10_20_0_jpg.rf.019f3e11c67f12af00cfbf71d1a0e137.txt  \n",
            "  inflating: /content/OIVIS_Lab_3/train/labels/autosave16_10_2012_09_10_20_3_jpg.rf.32a523f4118a1e557f10ac8aab6e89dd.txt  \n",
            "  inflating: /content/OIVIS_Lab_3/train/labels/autosave16_10_2012_09_10_25_1_jpg.rf.96c150dc21e7f96b6758e0d5b98693cb.txt  \n",
            "  inflating: /content/OIVIS_Lab_3/train/labels/autosave16_10_2012_09_10_59_1_jpg.rf.b5d2bebbfa5f29cbc3f1f279abd82607.txt  \n",
            "  inflating: /content/OIVIS_Lab_3/train/labels/autosave16_10_2012_09_31_37_5_jpg.rf.6f79b20d0c7b86a69a18eab63cc2ce07.txt  \n",
            "  inflating: /content/OIVIS_Lab_3/train/labels/autosave16_10_2012_09_31_39_1_jpg.rf.36250feae52ed168bb808c285bba2838.txt  \n",
            "  inflating: /content/OIVIS_Lab_3/train/labels/autosave16_10_2012_09_31_44_4_jpg.rf.46d1ec7d3dd06813138d585cce77a430.txt  \n",
            "  inflating: /content/OIVIS_Lab_3/train/labels/autosave16_10_2012_09_31_48_1_jpg.rf.6e320b727fb035adb73673d5e1e88c66.txt  \n",
            "  inflating: /content/OIVIS_Lab_3/train/labels/autosave16_10_2012_10_04_57_0_jpg.rf.f844de55cbbe71d48a7c7ef6c02104d4.txt  \n",
            "  inflating: /content/OIVIS_Lab_3/train/labels/autosave16_10_2012_10_04_57_3_jpg.rf.e943304b3aed4ababcfcf1512f064652.txt  \n",
            "  inflating: /content/OIVIS_Lab_3/train/labels/autosave16_10_2012_10_04_59_5_jpg.rf.9fe87e216b05cddc0f1ae91f868aae85.txt  \n",
            "  inflating: /content/OIVIS_Lab_3/train/labels/autosave16_10_2012_10_07_02_3_jpg.rf.69ec8fbcb172404172e63e486ad62cc5.txt  \n",
            "  inflating: /content/OIVIS_Lab_3/train/labels/autosave16_10_2012_10_07_04_0_jpg.rf.479cb3f6d0ac27be65f49502a121bb27.txt  \n",
            "  inflating: /content/OIVIS_Lab_3/train/labels/autosave16_10_2012_10_07_39_2_jpg.rf.e954ab2b177ef2f47c792e1dda1e9adf.txt  \n",
            "  inflating: /content/OIVIS_Lab_3/train/labels/autosave16_10_2012_10_08_28_1_jpg.rf.449f27738431e63c09cc636deada6eca.txt  \n",
            "  inflating: /content/OIVIS_Lab_3/train/labels/autosave16_10_2012_10_08_29_0_jpg.rf.f1d41c3c5989aa28d44f90f37823f498.txt  \n",
            "  inflating: /content/OIVIS_Lab_3/train/labels/autosave16_10_2012_10_08_37_1_jpg.rf.c3d9cd7500551f8878195f2bdf8ce565.txt  \n",
            "  inflating: /content/OIVIS_Lab_3/train/labels/autosave16_10_2012_10_08_39_0_jpg.rf.7ac5ff4bd5f0d0054b9e2f45d264abf9.txt  \n",
            "  inflating: /content/OIVIS_Lab_3/train/labels/autosave16_10_2012_10_08_39_1_jpg.rf.077a2e284cc8628157ebb79db25fd38b.txt  \n",
            "  inflating: /content/OIVIS_Lab_3/train/labels/autosave16_10_2012_10_08_39_2_jpg.rf.9c5e2409f270ac30c344336f942ba3e9.txt  \n",
            "  inflating: /content/OIVIS_Lab_3/train/labels/autosave16_10_2012_10_08_49_0_jpg.rf.63aa4cc0139b6f62dc7f7b184236eb2f.txt  \n",
            "  inflating: /content/OIVIS_Lab_3/train/labels/autosave16_10_2012_10_19_55_0_jpg.rf.c83b5bdae5c24d0e238604548f78d8e7.txt  \n",
            "  inflating: /content/OIVIS_Lab_3/train/labels/autosave16_10_2012_10_23_13_2_jpg.rf.1d11e099f08844bcc409be662e68cc4a.txt  \n",
            "  inflating: /content/OIVIS_Lab_3/train/labels/autosave16_10_2012_10_24_08_0_jpg.rf.01642d811456529a46bba13ccb91885f.txt  \n",
            "  inflating: /content/OIVIS_Lab_3/train/labels/autosave16_10_2012_10_24_10_1_jpg.rf.c91f0fe395f062218c492c2b01a9daf1.txt  \n",
            "  inflating: /content/OIVIS_Lab_3/train/labels/autosave16_10_2012_10_25_24_2_jpg.rf.5091d8c468136dc0c40335f8865e4b09.txt  \n",
            "  inflating: /content/OIVIS_Lab_3/train/labels/autosave16_10_2012_10_26_33_3_jpg.rf.c2e21e4984a8198dafe62178a73263d8.txt  \n",
            "  inflating: /content/OIVIS_Lab_3/train/labels/autosave16_10_2012_10_26_34_1_jpg.rf.a88aea0f809a70904d50458da25687e4.txt  \n",
            "  inflating: /content/OIVIS_Lab_3/train/labels/autosave16_10_2012_10_26_35_1_jpg.rf.1300644d4edcc9ab01cd3fbe119ba802.txt  \n",
            "  inflating: /content/OIVIS_Lab_3/train/labels/autosave16_10_2012_10_27_18_0_jpg.rf.68e40fac9af23a85b0670e60f28096b2.txt  \n",
            "  inflating: /content/OIVIS_Lab_3/train/labels/autosave16_10_2012_10_27_19_0_jpg.rf.d12cc7034f5d84cbeb6c926269ad179c.txt  \n",
            "  inflating: /content/OIVIS_Lab_3/train/labels/autosave16_10_2012_10_27_20_0_jpg.rf.742f7818943c216477e9d795e86fd175.txt  \n",
            "  inflating: /content/OIVIS_Lab_3/train/labels/autosave16_10_2012_10_27_38_0_jpg.rf.7b32a7c680e74dae0ae587b2edabe652.txt  \n",
            "  inflating: /content/OIVIS_Lab_3/train/labels/autosave16_10_2012_10_27_58_2_jpg.rf.51d14bab45fb9e1fd6d280dce3cb0f3c.txt  \n",
            "  inflating: /content/OIVIS_Lab_3/train/labels/autosave16_10_2012_10_38_58_0_jpg.rf.efa9d097864b51202e66d5809244fd6a.txt  \n",
            "  inflating: /content/OIVIS_Lab_3/train/labels/autosave16_10_2012_10_46_48_0_jpg.rf.c5284a584e27f02b545fc25749382b2e.txt  \n",
            "  inflating: /content/OIVIS_Lab_3/train/labels/autosave16_10_2012_10_51_21_0_jpg.rf.48d22d54e50ff978cf11173df787fa7b.txt  \n",
            "  inflating: /content/OIVIS_Lab_3/train/labels/autosave16_10_2012_10_52_17_0_jpg.rf.fddad4bb2b6e101d6ad77f15a067c611.txt  \n",
            "  inflating: /content/OIVIS_Lab_3/train/labels/autosave16_10_2012_10_52_23_0_jpg.rf.59e750f859d8e123ed6575ed42252815.txt  \n",
            "  inflating: /content/OIVIS_Lab_3/train/labels/autosave16_10_2012_10_53_08_2_jpg.rf.64486d8085eac9096dd487dd66264c44.txt  \n",
            "  inflating: /content/OIVIS_Lab_3/train/labels/autosave16_10_2012_10_53_08_3_jpg.rf.14aefd004d08407c9758278959236cc4.txt  \n",
            "  inflating: /content/OIVIS_Lab_3/train/labels/autosave16_10_2012_10_53_19_1_jpg.rf.81276ae9c486aca3fa289bfce5f3c003.txt  \n",
            "  inflating: /content/OIVIS_Lab_3/train/labels/autosave16_10_2012_10_55_38_4_jpg.rf.0998d26e13d5bee220d790c9086455e9.txt  \n",
            "  inflating: /content/OIVIS_Lab_3/train/labels/autosave16_10_2012_10_55_42_1_jpg.rf.48417e364a78e03c533998c15118880c.txt  \n",
            "  inflating: /content/OIVIS_Lab_3/train/labels/autosave16_10_2012_10_56_41_1_jpg.rf.0e8c8e5bfad58f2529b83c4ec7c7b024.txt  \n",
            "  inflating: /content/OIVIS_Lab_3/train/labels/autosave16_10_2012_10_56_41_2_jpg.rf.5ad054faeda7a551c5b856c63433a216.txt  \n",
            "  inflating: /content/OIVIS_Lab_3/train/labels/autosave16_10_2012_10_57_08_1_jpg.rf.d337108daf4531d99c48857ad529a265.txt  \n",
            "  inflating: /content/OIVIS_Lab_3/train/labels/autosave16_10_2012_10_57_51_0_jpg.rf.b06035393900707a68144d84e7d97dec.txt  \n",
            "  inflating: /content/OIVIS_Lab_3/train/labels/autosave16_10_2012_10_57_53_1_jpg.rf.3bbe8d059d310871e42673dfec8edba9.txt  \n",
            "  inflating: /content/OIVIS_Lab_3/train/labels/autosave16_10_2012_10_59_34_1_jpg.rf.1afb999e563d5ac7945b145315cf0a7b.txt  \n",
            "  inflating: /content/OIVIS_Lab_3/train/labels/autosave16_10_2012_10_59_39_0_jpg.rf.88bd9846645bc18ef955a44e3ca4b8dc.txt  \n",
            "  inflating: /content/OIVIS_Lab_3/train/labels/autosave16_10_2012_10_59_59_4_jpg.rf.ac6df599dfd2026cb70e9a78fcad3f0e.txt  \n",
            "  inflating: /content/OIVIS_Lab_3/train/labels/autosave16_10_2012_11_00_25_3_jpg.rf.32f901975e37a4f61624c3f3aa7a1322.txt  \n",
            "  inflating: /content/OIVIS_Lab_3/train/labels/autosave16_10_2012_11_01_27_5_jpg.rf.1e80601f6bc8d7db5bd472fc741f8833.txt  \n",
            "  inflating: /content/OIVIS_Lab_3/train/labels/autosave16_10_2012_11_02_14_5_jpg.rf.342cf3ca70aebb4474fec937d56358f7.txt  \n",
            "  inflating: /content/OIVIS_Lab_3/train/labels/autosave16_10_2012_11_03_42_2_jpg.rf.7a3ae47b3b5215623bcff3e799cdf45d.txt  \n",
            "  inflating: /content/OIVIS_Lab_3/train/labels/autosave16_10_2012_11_03_59_2_jpg.rf.1192e83aaae922c1d9be14b12a45bf56.txt  \n",
            "  inflating: /content/OIVIS_Lab_3/train/labels/autosave16_10_2012_11_05_01_2_jpg.rf.6ca790fdaa2cc9d4a721cbdcc1df591d.txt  \n",
            "  inflating: /content/OIVIS_Lab_3/train/labels/autosave16_10_2012_11_05_18_3_jpg.rf.fe015bd1a2fefa2896230c085830534e.txt  \n",
            "  inflating: /content/OIVIS_Lab_3/train/labels/autosave16_10_2012_11_06_07_3_jpg.rf.0f8f539f910b48eb54877d6123dbac03.txt  \n",
            "  inflating: /content/OIVIS_Lab_3/train/labels/autosave16_10_2012_11_09_13_2_jpg.rf.0b702bfd39f9e08b40b5f884fb50dc28.txt  \n",
            "  inflating: /content/OIVIS_Lab_3/train/labels/autosave16_10_2012_11_10_30_0_jpg.rf.f835b22b6c02372661dc1f5120949718.txt  \n",
            "  inflating: /content/OIVIS_Lab_3/train/labels/autosave16_10_2012_11_11_01_0_jpg.rf.4f3c5be3a7847d24d7405d7608fd26bc.txt  \n",
            "  inflating: /content/OIVIS_Lab_3/train/labels/autosave16_10_2012_11_12_26_3_jpg.rf.a31db58e70256122cee404b41e45e4cb.txt  \n",
            "  inflating: /content/OIVIS_Lab_3/train/labels/autosave16_10_2012_11_12_44_0_jpg.rf.c45242bfcf0d9955482fc5532f4831a8.txt  \n",
            "  inflating: /content/OIVIS_Lab_3/train/labels/autosave16_10_2012_11_12_46_0_jpg.rf.38432aa82bbccee218043ed302caf0ab.txt  \n",
            "  inflating: /content/OIVIS_Lab_3/train/labels/autosave16_10_2012_11_12_50_4_jpg.rf.ade2326aa9af363bfe2cc61e154981d6.txt  \n",
            "  inflating: /content/OIVIS_Lab_3/train/labels/autosave16_10_2012_11_13_12_0_jpg.rf.8165b67c48eb61f3fbd72c27c1dff916.txt  \n",
            "  inflating: /content/OIVIS_Lab_3/train/labels/autosave16_10_2012_11_13_12_2_jpg.rf.71d1b75ae35a597cc787a8fae08e58a6.txt  \n",
            "  inflating: /content/OIVIS_Lab_3/train/labels/autosave16_10_2012_11_13_16_2_jpg.rf.2cf32c27a761d77a8c2391b8944e7c42.txt  \n",
            "  inflating: /content/OIVIS_Lab_3/train/labels/autosave16_10_2012_11_13_22_0_jpg.rf.ef0c976d28582735632a0c0498aacefb.txt  \n",
            "  inflating: /content/OIVIS_Lab_3/train/labels/autosave16_10_2012_11_13_27_0_jpg.rf.01b6c798a8180ca4171a322114aa4d4f.txt  \n",
            "  inflating: /content/OIVIS_Lab_3/train/labels/autosave16_10_2012_11_13_27_1_jpg.rf.a8035d38f8834ff8acb81cfc8cc65091.txt  \n",
            "  inflating: /content/OIVIS_Lab_3/train/labels/autosave16_10_2012_11_13_48_3_jpg.rf.94398510ef51bf7d890e9bf0c5b836e4.txt  \n",
            "  inflating: /content/OIVIS_Lab_3/train/labels/autosave16_10_2012_11_13_50_0_jpg.rf.35c7d15c1a230a84a23c0debb4483a79.txt  \n",
            "  inflating: /content/OIVIS_Lab_3/train/labels/autosave16_10_2012_11_13_50_1_jpg.rf.5003472cabd20cf2b4113ee685d0887a.txt  \n",
            "  inflating: /content/OIVIS_Lab_3/train/labels/autosave16_10_2012_11_13_58_1_jpg.rf.95d47979e02b1eb5a30c1142f9fdb1d2.txt  \n",
            "  inflating: /content/OIVIS_Lab_3/train/labels/autosave16_10_2012_11_14_06_2_jpg.rf.691b48afc3a9986127129e933d4d325e.txt  \n",
            "  inflating: /content/OIVIS_Lab_3/train/labels/autosave16_10_2012_11_14_10_0_jpg.rf.97913ca1ff466caa50b7f4288b9b9efc.txt  \n",
            "  inflating: /content/OIVIS_Lab_3/train/labels/autosave16_10_2012_11_14_11_0_jpg.rf.e9d845a3619adb7ef53d66afa657a8a4.txt  \n",
            "  inflating: /content/OIVIS_Lab_3/train/labels/autosave16_10_2012_11_15_08_2_jpg.rf.034fa4e773f3952bf0b763a5144f3292.txt  \n",
            "  inflating: /content/OIVIS_Lab_3/train/labels/autosave16_10_2012_11_15_08_3_jpg.rf.033697d3445c331b0d7fe739842d0e02.txt  \n",
            "  inflating: /content/OIVIS_Lab_3/train/labels/autosave16_10_2012_11_15_18_0_jpg.rf.0ad5feb48e8342f71c063b697cfab352.txt  \n",
            "  inflating: /content/OIVIS_Lab_3/train/labels/autosave16_10_2012_11_15_18_1_jpg.rf.1cf3225c76bab8a8aa0654cb0ee94315.txt  \n",
            "  inflating: /content/OIVIS_Lab_3/train/labels/autosave16_10_2012_11_16_02_1_jpg.rf.7ad858845022baf570a067b6e3f67672.txt  \n",
            "  inflating: /content/OIVIS_Lab_3/train/labels/autosave16_10_2012_11_16_32_2_jpg.rf.2fb15ca741cd8b2ff4a18853db7ca7c7.txt  \n",
            "  inflating: /content/OIVIS_Lab_3/train/labels/autosave16_10_2012_11_16_33_1_jpg.rf.46992c012c1355c2eced63b487b3affd.txt  \n",
            "  inflating: /content/OIVIS_Lab_3/train/labels/autosave16_10_2012_11_16_34_2_jpg.rf.d3702b62d40197123d1fb19229aec75d.txt  \n",
            "  inflating: /content/OIVIS_Lab_3/train/labels/autosave16_10_2012_11_16_43_2_jpg.rf.37eaea92fb913a1c635da17d101d34cf.txt  \n",
            "  inflating: /content/OIVIS_Lab_3/train/labels/autosave16_10_2012_11_16_44_0_jpg.rf.deee4fd73c5fc13b021afad9e8ed0ce6.txt  \n",
            "  inflating: /content/OIVIS_Lab_3/train/labels/autosave16_10_2012_11_16_48_2_jpg.rf.8f814f7f64a2051df58fce347991760e.txt  \n",
            "  inflating: /content/OIVIS_Lab_3/train/labels/autosave16_10_2012_11_16_49_0_jpg.rf.2a9c09384b7966ee8966357188f5d2dd.txt  \n",
            "  inflating: /content/OIVIS_Lab_3/train/labels/autosave16_10_2012_11_16_49_1_jpg.rf.fb90c0076f006e59f6237745bb62669b.txt  \n",
            "  inflating: /content/OIVIS_Lab_3/train/labels/autosave16_10_2012_11_16_49_3_jpg.rf.50a55f68ce9cdc1151425ba84fd4599b.txt  \n",
            "  inflating: /content/OIVIS_Lab_3/train/labels/autosave16_10_2012_11_16_50_0_jpg.rf.965f0578ee4b05ff8a16bc39d0ca705b.txt  \n",
            "  inflating: /content/OIVIS_Lab_3/train/labels/autosave16_10_2012_11_16_50_1_jpg.rf.b17d7b1650da53e41ed5a841229fa3eb.txt  \n",
            "  inflating: /content/OIVIS_Lab_3/train/labels/autosave16_10_2012_11_16_50_2_jpg.rf.770941e267ce34fb9914543f6a0e5408.txt  \n",
            "  inflating: /content/OIVIS_Lab_3/train/labels/autosave16_10_2012_11_17_38_0_jpg.rf.ad3a02ffc0381c018bea7aa65f117a6c.txt  \n",
            "  inflating: /content/OIVIS_Lab_3/train/labels/autosave16_10_2012_11_17_57_0_jpg.rf.253b3235a5d90e57abe8b692066fa571.txt  \n",
            "  inflating: /content/OIVIS_Lab_3/train/labels/autosave16_10_2012_11_18_05_0_jpg.rf.b88c55f76db9cd669729637f4cf6be88.txt  \n",
            "  inflating: /content/OIVIS_Lab_3/train/labels/autosave16_10_2012_11_18_05_1_jpg.rf.31091219ce66d6fa18423c86443bdb74.txt  \n",
            "  inflating: /content/OIVIS_Lab_3/train/labels/autosave16_10_2012_11_18_15_2_jpg.rf.d95b8605c7038e1bdc2b065dec3379f0.txt  \n",
            "  inflating: /content/OIVIS_Lab_3/train/labels/autosave16_10_2012_11_18_15_5_jpg.rf.ba5978acd878d3bd073f573d2f4d14e5.txt  \n",
            "  inflating: /content/OIVIS_Lab_3/train/labels/autosave16_10_2012_11_18_32_0_jpg.rf.e6fa8731d1bcf51565be0bce4d277d20.txt  \n",
            "  inflating: /content/OIVIS_Lab_3/train/labels/autosave16_10_2012_11_19_19_2_jpg.rf.e7ccf911dafbd622860b4e787954e8c1.txt  \n",
            "  inflating: /content/OIVIS_Lab_3/train/labels/autosave16_10_2012_11_19_20_1_jpg.rf.11e7c64984f0a14d5ce3ad9abee93ae2.txt  \n",
            "  inflating: /content/OIVIS_Lab_3/train/labels/autosave16_10_2012_11_20_21_1_jpg.rf.6ea57f6122681f362bcdeb98e2b65103.txt  \n",
            "  inflating: /content/OIVIS_Lab_3/train/labels/autosave16_10_2012_11_20_22_2_jpg.rf.5aa6f2472c37c7e6c10d83dc80be1e9e.txt  \n",
            "  inflating: /content/OIVIS_Lab_3/train/labels/autosave16_10_2012_11_20_23_1_jpg.rf.ea97ca89c2a97d8428445e0c6cd84563.txt  \n",
            "  inflating: /content/OIVIS_Lab_3/train/labels/autosave16_10_2012_11_20_24_1_jpg.rf.e81113d187dc71b46e3e40931dcb448c.txt  \n",
            "  inflating: /content/OIVIS_Lab_3/train/labels/autosave16_10_2012_11_20_26_4_jpg.rf.1ef37bfbddb6032e1f84f2eba2e99e93.txt  \n",
            "  inflating: /content/OIVIS_Lab_3/train/labels/autosave16_10_2012_11_21_18_2_jpg.rf.f7dfc9f007e82eced2f11465d6bb0050.txt  \n",
            "  inflating: /content/OIVIS_Lab_3/train/labels/autosave16_10_2012_11_21_21_2_jpg.rf.645637b78d696ab77b95f80cbf4977de.txt  \n",
            "  inflating: /content/OIVIS_Lab_3/train/labels/autosave16_10_2012_11_21_30_3_jpg.rf.c429991f553fa87db6d8442547bd17fb.txt  \n",
            "  inflating: /content/OIVIS_Lab_3/train/labels/autosave16_10_2012_11_21_42_1_jpg.rf.a95f703a038555e032a53fed9da6f632.txt  \n",
            "  inflating: /content/OIVIS_Lab_3/train/labels/autosave16_10_2012_11_22_13_1_jpg.rf.afeb8b0d1a2b6182026180101d6d42c6.txt  \n",
            "  inflating: /content/OIVIS_Lab_3/train/labels/autosave16_10_2012_11_24_41_1_jpg.rf.cf35c6e4635ac1c7a2bc973cb6169094.txt  \n",
            "  inflating: /content/OIVIS_Lab_3/train/labels/autosave16_10_2012_11_24_54_3_jpg.rf.67f3d6c4045b54f9765673499e050d09.txt  \n",
            "  inflating: /content/OIVIS_Lab_3/train/labels/autosave16_10_2012_11_25_39_1_jpg.rf.cfeee99b5ec4ed3f0e5318eb97393743.txt  \n",
            "  inflating: /content/OIVIS_Lab_3/train/labels/autosave16_10_2012_11_27_57_1_jpg.rf.13236f47faf264ad38d7c9d6c9c51c5c.txt  \n",
            "  inflating: /content/OIVIS_Lab_3/train/labels/autosave16_10_2012_11_28_04_1_jpg.rf.b78a6d4eff2839691fb1d719882442a9.txt  \n",
            "  inflating: /content/OIVIS_Lab_3/train/labels/autosave16_10_2012_11_29_06_2_jpg.rf.e1290e4628b9adc04223a8c001a24ea3.txt  \n",
            "  inflating: /content/OIVIS_Lab_3/train/labels/autosave16_10_2012_11_29_06_3_jpg.rf.bfadeef5bf109ebba58843e9a046e9d7.txt  \n",
            "  inflating: /content/OIVIS_Lab_3/train/labels/autosave16_10_2012_11_29_11_1_jpg.rf.0486ac0f465246cf6e6c51fe72b0ba06.txt  \n",
            "  inflating: /content/OIVIS_Lab_3/train/labels/autosave16_10_2012_11_29_16_2_jpg.rf.c1c4f2029811cd50f202e7fae99c8748.txt  \n",
            "  inflating: /content/OIVIS_Lab_3/train/labels/autosave16_10_2012_11_29_18_0_jpg.rf.9a2b9ff914406b24c59ed5a7f22e1675.txt  \n",
            "  inflating: /content/OIVIS_Lab_3/train/labels/autosave16_10_2012_11_29_23_0_jpg.rf.58c6482ad1d11014b9371973587a8c5a.txt  \n",
            "  inflating: /content/OIVIS_Lab_3/train/labels/autosave16_10_2012_11_29_25_2_jpg.rf.56c1f7110e370823119abc972e779136.txt  \n",
            "  inflating: /content/OIVIS_Lab_3/train/labels/autosave16_10_2012_11_29_33_0_jpg.rf.810ea8b99ded87e42036025e65c54131.txt  \n",
            "  inflating: /content/OIVIS_Lab_3/train/labels/autosave16_10_2012_11_30_23_2_jpg.rf.d9dd6f5158ce277340d40eb87530ed22.txt  \n",
            "  inflating: /content/OIVIS_Lab_3/train/labels/autosave16_10_2012_11_33_16_1_jpg.rf.db697f7d140302984621f05721140754.txt  \n",
            "  inflating: /content/OIVIS_Lab_3/train/labels/autosave16_10_2012_11_33_18_4_jpg.rf.b3f5c356a77a9d24ebd32cc8269bef83.txt  \n",
            "  inflating: /content/OIVIS_Lab_3/train/labels/autosave16_10_2012_11_36_34_1_jpg.rf.3b08bc9b14d589cb23c0067801a76e33.txt  \n",
            "  inflating: /content/OIVIS_Lab_3/train/labels/autosave16_10_2012_11_36_34_2_jpg.rf.aea0ee3c0981f9831bf5511714bb4329.txt  \n",
            "  inflating: /content/OIVIS_Lab_3/train/labels/autosave16_10_2012_11_36_34_3_jpg.rf.97be95562a86a89353e49370373e25d0.txt  \n",
            "  inflating: /content/OIVIS_Lab_3/train/labels/autosave16_10_2012_11_39_30_0_jpg.rf.e926e5f833868bfa15ecfe7ab10d684c.txt  \n",
            "  inflating: /content/OIVIS_Lab_3/train/labels/autosave16_10_2012_11_40_03_1_jpg.rf.29be8f97be7a225810b386ceb135811a.txt  \n",
            "  inflating: /content/OIVIS_Lab_3/train/labels/autosave16_10_2012_11_40_08_2_jpg.rf.cf344be3785efdf2c003b111916243f1.txt  \n",
            "  inflating: /content/OIVIS_Lab_3/train/labels/autosave16_10_2012_11_40_09_2_jpg.rf.e599cd3f45c9cd5f3e2f97794615262b.txt  \n",
            "  inflating: /content/OIVIS_Lab_3/train/labels/autosave16_10_2012_11_40_16_2_jpg.rf.dd785eeeec3c595811892c52119dd9d7.txt  \n",
            "  inflating: /content/OIVIS_Lab_3/train/labels/autosave16_10_2012_11_40_27_1_jpg.rf.605256fe55671418bf0a8bb76e3bfabd.txt  \n",
            "  inflating: /content/OIVIS_Lab_3/train/labels/autosave16_10_2012_11_40_36_1_jpg.rf.170e192072261615738bcbbcb5662323.txt  \n",
            "  inflating: /content/OIVIS_Lab_3/train/labels/autosave16_10_2012_11_41_10_1_jpg.rf.9461e3d61965a6e6c0c06f5be6cc51b7.txt  \n",
            "  inflating: /content/OIVIS_Lab_3/train/labels/autosave16_10_2012_11_41_11_0_jpg.rf.0733267bdba8c7862f40a65adbc56c6d.txt  \n",
            "  inflating: /content/OIVIS_Lab_3/train/labels/autosave16_10_2012_11_42_08_2_jpg.rf.68d637afda5c2a35b444d4978208b52f.txt  \n",
            "  inflating: /content/OIVIS_Lab_3/train/labels/autosave16_10_2012_11_42_09_0_jpg.rf.f01a2029b9d6b732c8fb774e4f5ad76e.txt  \n",
            "  inflating: /content/OIVIS_Lab_3/train/labels/autosave16_10_2012_11_42_10_2_jpg.rf.5b1ebae752c61e04ef419b765695be36.txt  \n",
            "  inflating: /content/OIVIS_Lab_3/train/labels/autosave16_10_2012_11_42_23_0_jpg.rf.0a1063bd3a25656a70b9a0d5fc096aaa.txt  \n",
            "  inflating: /content/OIVIS_Lab_3/train/labels/autosave16_10_2012_11_42_29_2_jpg.rf.55463e86aa629aa6793e5813dee38f4e.txt  \n",
            "  inflating: /content/OIVIS_Lab_3/train/labels/autosave16_10_2012_11_42_40_1_jpg.rf.219b3b6611d1395ca47315155d3a51f1.txt  \n",
            "  inflating: /content/OIVIS_Lab_3/train/labels/autosave16_10_2012_11_42_40_2_jpg.rf.2c03d46ae878837e56fd2ecd457ea9c1.txt  \n",
            "  inflating: /content/OIVIS_Lab_3/train/labels/autosave16_10_2012_11_43_07_0_jpg.rf.cd50f8678a454119ad254cde7ae63716.txt  \n",
            "  inflating: /content/OIVIS_Lab_3/train/labels/autosave16_10_2012_11_43_08_1_jpg.rf.e3408e4f30e2c6078d2807fa6336d7a6.txt  \n",
            "  inflating: /content/OIVIS_Lab_3/train/labels/autosave16_10_2012_11_44_03_0_jpg.rf.4c81113822680da83bd922fc481ddbe5.txt  \n",
            "  inflating: /content/OIVIS_Lab_3/train/labels/autosave16_10_2012_11_44_03_1_jpg.rf.97af63b9a08177c27b8d10251407fe78.txt  \n",
            "  inflating: /content/OIVIS_Lab_3/train/labels/autosave16_10_2012_11_44_07_1_jpg.rf.3adda4d2d73b03c59d7da179d1d67129.txt  \n",
            "  inflating: /content/OIVIS_Lab_3/train/labels/autosave16_10_2012_11_44_11_1_jpg.rf.f69cb6598fe413f1bc9e12a04ef15eef.txt  \n",
            "  inflating: /content/OIVIS_Lab_3/train/labels/autosave16_10_2012_11_44_20_3_jpg.rf.c6e60303a39d179c66025f900ce9a9dd.txt  \n",
            "  inflating: /content/OIVIS_Lab_3/train/labels/autosave16_10_2012_11_44_21_1_jpg.rf.a8f0f93acb9b1a79d2ce8ef4e2b5c158.txt  \n",
            "  inflating: /content/OIVIS_Lab_3/train/labels/autosave16_10_2012_11_44_34_2_jpg.rf.5ed8219ac57eafbb4efaa740cf7332ca.txt  \n",
            "  inflating: /content/OIVIS_Lab_3/train/labels/autosave16_10_2012_11_44_37_1_jpg.rf.c0d49ff57f4ae6ebc9e5e695240da50c.txt  \n",
            "  inflating: /content/OIVIS_Lab_3/train/labels/autosave16_10_2012_11_44_38_2_jpg.rf.348fe10b6fc97409c31d81ff52bdc1b4.txt  \n",
            "  inflating: /content/OIVIS_Lab_3/train/labels/autosave16_10_2012_11_44_41_0_jpg.rf.c304773bc18e0d9d5c33cf3350d9c1ff.txt  \n",
            "  inflating: /content/OIVIS_Lab_3/train/labels/autosave16_10_2012_11_44_45_0_jpg.rf.ddcd59486856d4718e92e47aa20fb282.txt  \n",
            "  inflating: /content/OIVIS_Lab_3/train/labels/autosave16_10_2012_11_44_46_2_jpg.rf.d127eeb447f301ba3afb4f4b12888aaf.txt  \n",
            "  inflating: /content/OIVIS_Lab_3/train/labels/autosave16_10_2012_11_44_46_4_jpg.rf.c8842039684b3905a3779f50cadc011c.txt  \n",
            "  inflating: /content/OIVIS_Lab_3/train/labels/autosave16_10_2012_11_46_27_0_jpg.rf.92f62a75d0b8f8d5455edbb183356856.txt  \n",
            "  inflating: /content/OIVIS_Lab_3/train/labels/autosave16_10_2012_11_46_43_0_jpg.rf.bc0901cc462afe8b182d88088d68bf22.txt  \n",
            "  inflating: /content/OIVIS_Lab_3/train/labels/autosave16_10_2012_11_46_45_2_jpg.rf.c7d471d9c08bc92465f12624ecef205c.txt  \n",
            "  inflating: /content/OIVIS_Lab_3/train/labels/autosave16_10_2012_11_46_46_2_jpg.rf.76c62a4cf7553e8caa90378a83722db3.txt  \n",
            "  inflating: /content/OIVIS_Lab_3/train/labels/autosave16_10_2012_11_47_12_2_jpg.rf.dec404b29a5b5626feccbab1a9ce8b23.txt  \n",
            "  inflating: /content/OIVIS_Lab_3/train/labels/autosave16_10_2012_11_47_47_2_jpg.rf.a727c4ffb27b392f3b84eacb38f1853e.txt  \n",
            "  inflating: /content/OIVIS_Lab_3/train/labels/autosave16_10_2012_11_47_48_1_jpg.rf.c510684d8300610783b846c651db6310.txt  \n",
            "  inflating: /content/OIVIS_Lab_3/train/labels/autosave16_10_2012_11_48_27_5_jpg.rf.2a949808365467646f2a70a19b949ebb.txt  \n",
            "  inflating: /content/OIVIS_Lab_3/train/labels/autosave16_10_2012_11_48_45_2_jpg.rf.623b7d266ab74764a05516f93b888272.txt  \n",
            "  inflating: /content/OIVIS_Lab_3/train/labels/autosave16_10_2012_11_48_48_0_jpg.rf.041792e0762c989a0707e57bff0444a7.txt  \n",
            "  inflating: /content/OIVIS_Lab_3/train/labels/autosave16_10_2012_11_49_05_1_jpg.rf.a2deb1303b0f24dcabd46cd2ff665ca2.txt  \n",
            "  inflating: /content/OIVIS_Lab_3/train/labels/autosave16_10_2012_11_49_44_3_jpg.rf.a47b9a75c7c8aa71fa4fabfe1b817691.txt  \n",
            "  inflating: /content/OIVIS_Lab_3/train/labels/autosave16_10_2012_11_50_11_3_jpg.rf.5e0fa15cf6890f56c394469d21cacd89.txt  \n",
            "  inflating: /content/OIVIS_Lab_3/train/labels/autosave16_10_2012_11_50_46_0_jpg.rf.2f2d8f342d9ae65689e83bc8d46d2b1b.txt  \n",
            "  inflating: /content/OIVIS_Lab_3/train/labels/autosave16_10_2012_11_51_14_0_jpg.rf.dae85984d7f67dc8b51d844a9dc83705.txt  \n",
            "  inflating: /content/OIVIS_Lab_3/train/labels/autosave16_10_2012_11_51_24_4_jpg.rf.3b6b36a525862e239fd8e1d822d03d46.txt  \n",
            "  inflating: /content/OIVIS_Lab_3/train/labels/autosave16_10_2012_11_51_45_0_jpg.rf.acfa36455f8d1f77019f7e9d65256069.txt  \n",
            "  inflating: /content/OIVIS_Lab_3/train/labels/autosave16_10_2012_11_52_36_1_jpg.rf.205850b2120a8a251db93b6b61919063.txt  \n",
            "  inflating: /content/OIVIS_Lab_3/train/labels/autosave16_10_2012_11_55_00_1_jpg.rf.32d23845f3d9ebd748eec831febf6016.txt  \n",
            "  inflating: /content/OIVIS_Lab_3/train/labels/autosave16_10_2012_11_55_01_1_jpg.rf.9b9dcc9bae4ee7d346502ae27b743b4a.txt  \n",
            "  inflating: /content/OIVIS_Lab_3/train/labels/autosave16_10_2012_11_55_17_1_jpg.rf.76e4dce42a1e5610d968f2cf3095b6fe.txt  \n",
            "  inflating: /content/OIVIS_Lab_3/train/labels/autosave16_10_2012_11_55_26_1_jpg.rf.2e81cefb19ef7a589e77e50f03766856.txt  \n",
            "  inflating: /content/OIVIS_Lab_3/train/labels/autosave16_10_2012_11_56_33_0_jpg.rf.763fe164727fc63b426d12089b61da5d.txt  \n",
            "  inflating: /content/OIVIS_Lab_3/train/labels/autosave16_10_2012_11_57_34_3_jpg.rf.582df094e172f1b7827e1df0fa10ebe9.txt  \n",
            "  inflating: /content/OIVIS_Lab_3/train/labels/autosave16_10_2012_11_57_35_2_jpg.rf.248ce77c12b84caf2d78a09f4c9bb43a.txt  \n",
            "  inflating: /content/OIVIS_Lab_3/train/labels/autosave16_10_2012_11_59_18_1_jpg.rf.c026106c89515585b5a3b1903274cfc6.txt  \n",
            "  inflating: /content/OIVIS_Lab_3/train/labels/autosave16_10_2012_11_59_56_0_jpg.rf.84372f633cc4418abf90149c2afe1e3b.txt  \n",
            "  inflating: /content/OIVIS_Lab_3/train/labels/autosave16_10_2012_12_00_12_2_jpg.rf.c8ed4651544554bc86be23e8569893db.txt  \n",
            "  inflating: /content/OIVIS_Lab_3/train/labels/autosave16_10_2012_12_00_12_4_jpg.rf.ec862de57e39d31cdc68daaf787b9de6.txt  \n",
            "  inflating: /content/OIVIS_Lab_3/train/labels/autosave16_10_2012_12_06_52_0_jpg.rf.e6a042e2e4dac2ab2daae4b28e15dade.txt  \n",
            "  inflating: /content/OIVIS_Lab_3/train/labels/autosave16_10_2012_12_06_56_0_jpg.rf.407041e18a6df777540f71ac0bbc11be.txt  \n",
            "  inflating: /content/OIVIS_Lab_3/train/labels/autosave16_10_2012_12_08_17_0_jpg.rf.d561bb3439474636c85cd2e7c99bcf38.txt  \n",
            "  inflating: /content/OIVIS_Lab_3/train/labels/autosave16_10_2012_12_08_32_1_jpg.rf.db8daeb45be8aa204da0bad6a929b0fb.txt  \n",
            "  inflating: /content/OIVIS_Lab_3/train/labels/autosave16_10_2012_12_08_32_3_jpg.rf.8964fa891ccd7b220508716491526730.txt  \n",
            "  inflating: /content/OIVIS_Lab_3/train/labels/autosave21_01_2013_09_11_13_2_jpg.rf.61ab808ca753c7f608e7cfc51b458fc8.txt  \n",
            "  inflating: /content/OIVIS_Lab_3/train/labels/autosave21_01_2013_09_11_17_1_jpg.rf.206148a3f9c39e03cc41c00a081dcd71.txt  \n",
            "  inflating: /content/OIVIS_Lab_3/train/labels/autosave21_01_2013_09_11_21_0_jpg.rf.8b1600a20dd652be721d7c2afa5a688f.txt  \n",
            "  inflating: /content/OIVIS_Lab_3/train/labels/autosave21_01_2013_09_12_18_0_jpg.rf.7c74749ae7f3d4fe24f552c1a4a46b40.txt  \n",
            "  inflating: /content/OIVIS_Lab_3/train/labels/autosave21_01_2013_09_15_30_2_jpg.rf.eabdad2507d39bc5d44b981e4800fdaf.txt  \n",
            "  inflating: /content/OIVIS_Lab_3/train/labels/autosave21_01_2013_09_15_46_0_jpg.rf.f6ae94c8a06c44c564df32ed11c64f3b.txt  \n",
            "  inflating: /content/OIVIS_Lab_3/train/labels/autosave21_01_2013_09_15_46_1_jpg.rf.cf2a4bcd1488924efb1e991b0ab4217a.txt  \n",
            "  inflating: /content/OIVIS_Lab_3/train/labels/autosave21_01_2013_09_15_48_1_jpg.rf.6101fb8a3c0cfe7b80feea8eed1f214e.txt  \n",
            "  inflating: /content/OIVIS_Lab_3/train/labels/autosave21_01_2013_09_18_09_1_jpg.rf.d7703cd4d3cb3df89f495ea7f330cdaf.txt  \n",
            "  inflating: /content/OIVIS_Lab_3/train/labels/autosave21_01_2013_09_18_10_2_jpg.rf.62efd0d03775e4f48aa73b944e2e8a6e.txt  \n",
            "  inflating: /content/OIVIS_Lab_3/train/labels/autosave21_01_2013_09_19_49_0_jpg.rf.40adcc803af38310886f01bec3180cac.txt  \n",
            "  inflating: /content/OIVIS_Lab_3/train/labels/autosave21_01_2013_09_19_50_1_jpg.rf.aef45f0016e67d4fabed8f8e47459779.txt  \n",
            "  inflating: /content/OIVIS_Lab_3/train/labels/autosave21_01_2013_09_20_09_2_jpg.rf.518a23836b9ce4935ad047b8fd6cb0cc.txt  \n",
            "  inflating: /content/OIVIS_Lab_3/train/labels/autosave21_01_2013_09_20_20_1_jpg.rf.9b60b1ba458fd6d6109f57c1049b5990.txt  \n",
            "  inflating: /content/OIVIS_Lab_3/train/labels/autosave21_01_2013_09_20_33_1_jpg.rf.230aa83dcc96beaa8c79f97399a905d7.txt  \n",
            "  inflating: /content/OIVIS_Lab_3/train/labels/autosave21_01_2013_09_20_35_2_jpg.rf.c41bc2b4669ee80071064edc90d492c1.txt  \n",
            "  inflating: /content/OIVIS_Lab_3/train/labels/autosave21_01_2013_09_20_39_0_jpg.rf.1bd88d224b1e8bcd006c74a807b0c601.txt  \n",
            "  inflating: /content/OIVIS_Lab_3/train/labels/autosave21_01_2013_09_21_50_0_jpg.rf.4fb57e09b95dff6d6a418ce92f2a9257.txt  \n",
            "  inflating: /content/OIVIS_Lab_3/train/labels/autosave21_01_2013_09_23_44_2_jpg.rf.343aa3e326875f321b58e81bf356bd0b.txt  \n",
            "  inflating: /content/OIVIS_Lab_3/train/labels/autosave21_01_2013_09_25_30_0_jpg.rf.ac772d128e2918de2b1544f021f5fc32.txt  \n",
            "  inflating: /content/OIVIS_Lab_3/train/labels/autosave21_01_2013_09_25_30_1_jpg.rf.c3cab97d24115c14eac9059a0a5e6772.txt  \n",
            "  inflating: /content/OIVIS_Lab_3/train/labels/autosave21_01_2013_09_26_48_0_jpg.rf.7a21eb9f9471f257e0353b428582776b.txt  \n",
            "  inflating: /content/OIVIS_Lab_3/train/labels/autosave21_01_2013_09_26_52_0_jpg.rf.dfcb5ffb8eaedce32709bccfe4680f14.txt  \n",
            "  inflating: /content/OIVIS_Lab_3/train/labels/autosave21_01_2013_09_27_21_1_jpg.rf.c9df68966e7cff369ec728ccceb17d82.txt  \n",
            "  inflating: /content/OIVIS_Lab_3/train/labels/autosave21_01_2013_09_28_16_0_jpg.rf.dc6739e0c02a87624bd52fc85f85ecdd.txt  \n",
            "  inflating: /content/OIVIS_Lab_3/train/labels/autosave21_01_2013_09_28_16_1_jpg.rf.e5e4f046184887d11d3df54e1e3fb6c0.txt  \n",
            "  inflating: /content/OIVIS_Lab_3/train/labels/autosave21_01_2013_09_29_36_0_jpg.rf.af9e30eff34fc555be78c50a9e7d57dc.txt  \n",
            "  inflating: /content/OIVIS_Lab_3/train/labels/autosave21_01_2013_09_29_40_1_jpg.rf.423506d27970e40b0541293bd95b3579.txt  \n",
            "  inflating: /content/OIVIS_Lab_3/train/labels/autosave21_01_2013_09_31_09_2_jpg.rf.9ed8f4f9bf57d51ed638c5aea82f20c6.txt  \n",
            "  inflating: /content/OIVIS_Lab_3/train/labels/autosave21_01_2013_09_31_24_1_jpg.rf.f31f796917fe97084a7fae7f80936672.txt  \n",
            "  inflating: /content/OIVIS_Lab_3/train/labels/autosave21_01_2013_09_31_25_1_jpg.rf.6d1a96a4b11452f48759b82a99a61f61.txt  \n",
            "  inflating: /content/OIVIS_Lab_3/train/labels/autosave21_01_2013_09_31_55_1_jpg.rf.62b485d67422772389892f0d71a9fbb1.txt  \n",
            "  inflating: /content/OIVIS_Lab_3/train/labels/autosave21_01_2013_09_32_01_1_jpg.rf.24e23ce5c0564ac96feeb0bbf6c183bd.txt  \n",
            "  inflating: /content/OIVIS_Lab_3/train/labels/autosave21_01_2013_09_32_03_0_jpg.rf.0fc0fef01be4d49367c2e2546d9f0f30.txt  \n",
            "  inflating: /content/OIVIS_Lab_3/train/labels/autosave21_01_2013_09_33_49_0_jpg.rf.893f62e11bd06b2a5d38d76b81bc1a78.txt  \n",
            "  inflating: /content/OIVIS_Lab_3/train/labels/autosave21_01_2013_09_33_51_0_jpg.rf.dd9a2713e72eae91a984203d93b263db.txt  \n",
            "  inflating: /content/OIVIS_Lab_3/train/labels/autosave21_01_2013_09_35_16_1_jpg.rf.510544968340ef5648cf322ebaf9f894.txt  \n",
            "  inflating: /content/OIVIS_Lab_3/train/labels/autosave21_01_2013_09_35_20_0_jpg.rf.0c1d6681f665906cec980d1f164663bf.txt  \n",
            "  inflating: /content/OIVIS_Lab_3/train/labels/autosave21_01_2013_09_35_36_0_jpg.rf.6265b9daf850940ddbbcea9d4fbe4b18.txt  \n",
            "  inflating: /content/OIVIS_Lab_3/train/labels/autosave21_01_2013_09_35_48_2_jpg.rf.a15cfd80c7c7820cfa10dba7d13edd77.txt  \n",
            "  inflating: /content/OIVIS_Lab_3/train/labels/autosave21_01_2013_09_36_17_0_jpg.rf.5ad553f70feea07b680e79caf8bf782b.txt  \n",
            "  inflating: /content/OIVIS_Lab_3/train/labels/autosave21_01_2013_09_37_00_0_jpg.rf.c707dffc3240c0827de00e3ec16c645f.txt  \n",
            "  inflating: /content/OIVIS_Lab_3/train/labels/autosave21_01_2013_09_37_01_0_jpg.rf.2338fbb8833a4793b1679b7f3fc401b7.txt  \n",
            "  inflating: /content/OIVIS_Lab_3/train/labels/autosave21_01_2013_09_37_52_0_jpg.rf.c8fb281ad0244be07ebecc1c7ea15088.txt  \n",
            "  inflating: /content/OIVIS_Lab_3/train/labels/autosave21_01_2013_09_37_52_2_jpg.rf.2f0d4d71072f2c21ddecc9c35e6e2a90.txt  \n",
            "  inflating: /content/OIVIS_Lab_3/train/labels/autosave21_01_2013_09_38_32_2_jpg.rf.3a984166c85cabe0915e601adb47998f.txt  \n",
            "  inflating: /content/OIVIS_Lab_3/train/labels/autosave21_01_2013_09_38_33_1_jpg.rf.70793da426dba3902b8969a3dfa609ef.txt  \n",
            "  inflating: /content/OIVIS_Lab_3/train/labels/autosave21_01_2013_09_39_19_2_jpg.rf.6fda5230f33881bc8ae5fb430ded867c.txt  \n",
            "  inflating: /content/OIVIS_Lab_3/train/labels/autosave21_01_2013_09_39_25_0_jpg.rf.15e445b3b328f4162fc3b371ea205117.txt  \n",
            "  inflating: /content/OIVIS_Lab_3/train/labels/autosave21_01_2013_09_39_27_0_jpg.rf.42c0eeda50d87d3ce79b582c1263c306.txt  \n",
            "  inflating: /content/OIVIS_Lab_3/train/labels/autosave21_01_2013_09_39_49_1_jpg.rf.10d4ff1305467b1240c49216a3b98e1d.txt  \n",
            "  inflating: /content/OIVIS_Lab_3/train/labels/autosave21_01_2013_09_39_53_0_jpg.rf.1260c9c494992790444d622743931799.txt  \n",
            "  inflating: /content/OIVIS_Lab_3/train/labels/autosave21_01_2013_09_40_15_2_jpg.rf.855d9792ad58345b1b06297340e1c7a5.txt  \n",
            "  inflating: /content/OIVIS_Lab_3/train/labels/autosave21_01_2013_09_40_33_2_jpg.rf.4b5ed88f3e2ea768a17b7f352b627c4f.txt  \n",
            "  inflating: /content/OIVIS_Lab_3/train/labels/autosave21_01_2013_09_40_37_0_jpg.rf.47ab8b1c7fb86f7b640de157cad5c852.txt  \n",
            "  inflating: /content/OIVIS_Lab_3/train/labels/autosave21_01_2013_09_42_39_1_jpg.rf.c0dc5077cbe9b20d9bde4ef8ac4853f1.txt  \n",
            "  inflating: /content/OIVIS_Lab_3/train/labels/autosave21_01_2013_09_42_39_2_jpg.rf.9a74c9219953acf823d278037918d2ae.txt  \n",
            "  inflating: /content/OIVIS_Lab_3/train/labels/autosave21_01_2013_09_42_42_1_jpg.rf.54c610fbf38c67f7a68957ca2ee2639d.txt  \n",
            "  inflating: /content/OIVIS_Lab_3/train/labels/autosave21_01_2013_09_42_44_2_jpg.rf.103c5c964d66df998f9b5db8f2873747.txt  \n",
            "  inflating: /content/OIVIS_Lab_3/train/labels/autosave21_01_2013_09_43_30_2_jpg.rf.c72198ebd046e81587c1f6681e553ec2.txt  \n",
            "  inflating: /content/OIVIS_Lab_3/train/labels/autosave21_01_2013_09_45_30_1_jpg.rf.65b70cb354399203edc46dfd6e182892.txt  \n",
            "  inflating: /content/OIVIS_Lab_3/train/labels/autosave21_01_2013_09_45_31_1_jpg.rf.219d1514c7bc749d96beb3f817098811.txt  \n",
            "  inflating: /content/OIVIS_Lab_3/train/labels/autosave21_01_2013_09_45_33_1_jpg.rf.69346d4e1b98c8f3a3dd2f085b61d565.txt  \n",
            "  inflating: /content/OIVIS_Lab_3/train/labels/autosave21_01_2013_09_47_26_2_jpg.rf.cadeb2076681618c46e11cadd2ecc2ce.txt  \n",
            "  inflating: /content/OIVIS_Lab_3/train/labels/autosave21_01_2013_09_47_52_1_jpg.rf.399ae9fb80f3bd5eb5008445c1ae7f12.txt  \n",
            "  inflating: /content/OIVIS_Lab_3/train/labels/autosave21_01_2013_09_48_58_0_jpg.rf.89bc36f4fd3af740faaa5ecbb68596a2.txt  \n",
            "  inflating: /content/OIVIS_Lab_3/train/labels/autosave21_01_2013_09_49_26_0_jpg.rf.b02895e60e805b6d996fadebdb345a86.txt  \n",
            "  inflating: /content/OIVIS_Lab_3/train/labels/autosave21_01_2013_09_49_32_0_jpg.rf.e502deb4511c68d36a511e23757ee6c7.txt  \n",
            "  inflating: /content/OIVIS_Lab_3/train/labels/autosave21_01_2013_09_49_38_0_jpg.rf.94e15b71546af79dbbd6aaa9816dda1f.txt  \n",
            "  inflating: /content/OIVIS_Lab_3/train/labels/autosave21_01_2013_09_49_56_2_jpg.rf.65a9f8f9ae63488e7781cf546ac0d20d.txt  \n",
            "  inflating: /content/OIVIS_Lab_3/train/labels/autosave21_01_2013_09_50_02_2_jpg.rf.8bf77b3277519d26bf85a700293e5d92.txt  \n",
            "  inflating: /content/OIVIS_Lab_3/train/labels/autosave21_01_2013_09_50_12_0_jpg.rf.b6ee88bcf3bc103a72e3bc15b36f6297.txt  \n",
            "  inflating: /content/OIVIS_Lab_3/train/labels/autosave21_01_2013_09_50_16_0_jpg.rf.2c4a3a241010978ab89a33fe45abc7b5.txt  \n",
            "  inflating: /content/OIVIS_Lab_3/train/labels/autosave21_01_2013_09_50_16_1_jpg.rf.964414ea30e42bd649332e51355e4cbd.txt  \n",
            "  inflating: /content/OIVIS_Lab_3/train/labels/autosave21_01_2013_09_50_30_1_jpg.rf.e31a55025a20909c02e7d3beb32378b2.txt  \n",
            "  inflating: /content/OIVIS_Lab_3/train/labels/autosave21_01_2013_09_50_32_0_jpg.rf.2c5ab0648b21dfe18e482eaffa820810.txt  \n",
            "  inflating: /content/OIVIS_Lab_3/train/labels/autosave21_01_2013_09_50_32_2_jpg.rf.13c404fe09a932d01b541ac1cde2c077.txt  \n",
            "  inflating: /content/OIVIS_Lab_3/train/labels/autosave21_01_2013_09_57_38_1_jpg.rf.45de88e73eb20ef792a26d13b54d9293.txt  \n",
            "  inflating: /content/OIVIS_Lab_3/train/labels/autosave21_01_2013_09_57_40_0_jpg.rf.3629f78557dfc4ecb35379f792834c0f.txt  \n",
            "  inflating: /content/OIVIS_Lab_3/train/labels/autosave21_01_2013_09_57_46_1_jpg.rf.25f3dcf117d3380ec4e5d893d925b530.txt  \n",
            "  inflating: /content/OIVIS_Lab_3/train/labels/autosave21_01_2013_09_57_46_2_jpg.rf.b1af9ddf4f78575ae5d0e9a168fa0252.txt  \n",
            "  inflating: /content/OIVIS_Lab_3/train/labels/autosave21_01_2013_09_57_48_0_jpg.rf.f38e26aaf6a470f4eef03251c3d40f7f.txt  \n",
            "  inflating: /content/OIVIS_Lab_3/train/labels/autosave21_01_2013_09_58_00_0_jpg.rf.001d6d47e49bd575981dc888dff77269.txt  \n",
            "  inflating: /content/OIVIS_Lab_3/train/labels/autosave21_01_2013_09_58_00_1_jpg.rf.ef886894399bfa722c1390d3aaffe593.txt  \n",
            "  inflating: /content/OIVIS_Lab_3/train/labels/autosave21_01_2013_09_58_00_2_jpg.rf.91e8d05a99bb9041180fefc0e8b62083.txt  \n",
            "  inflating: /content/OIVIS_Lab_3/train/labels/autosave21_01_2013_09_58_04_0_jpg.rf.c84be9f90892c6dc56beaed4c4c947b2.txt  \n",
            "  inflating: /content/OIVIS_Lab_3/train/labels/autosave21_01_2013_10_08_21_0_jpg.rf.8969a48f807e0c2d9eb1b5c71fde5c64.txt  \n",
            "  inflating: /content/OIVIS_Lab_3/train/labels/autosave21_01_2013_10_08_36_1_jpg.rf.398f641a89443c1c8f2a087c6d5e9c4f.txt  \n"
          ]
        }
      ],
      "source": [
        "!unzip /content/drive/MyDrive/OIVIS_Lab_3/dataset-road-signs.zip -d /content/OIVIS_Lab_3"
      ]
    },
    {
      "cell_type": "code",
      "execution_count": 5,
      "metadata": {
        "colab": {
          "base_uri": "https://localhost:8080/",
          "height": 1000
        },
        "id": "JKxzRDVpY0S4",
        "outputId": "273944de-6809-46a4-df9f-abe9e839b5bc"
      },
      "outputs": [
        {
          "metadata": {
            "tags": null
          },
          "name": "stdout",
          "output_type": "stream",
          "text": [
            "PRO TIP 💡 Replace 'model=yolov5s.pt' with new 'model=yolov5su.pt'.\n",
            "YOLOv5 'u' models are trained with https://github.com/ultralytics/ultralytics and feature improved performance vs standard YOLOv5 models trained with https://github.com/ultralytics/yolov5.\n",
            "\n",
            "Ultralytics 8.3.49 🚀 Python-3.10.12 torch-2.5.1+cu121 CUDA:0 (Tesla T4, 15102MiB)\n",
            "\u001b[34m\u001b[1mengine/trainer: \u001b[0mtask=detect, mode=train, model=yolov5s.pt, data=/content/OIVIS_Lab_3/data.yaml, epochs=200, time=None, patience=100, batch=16, imgsz=800, save=True, save_period=5, cache=False, device=None, workers=8, project=/content/drive/MyDrive/OIVIS_Lab_3/runs/yolov5s, name=weights, exist_ok=False, pretrained=True, optimizer=auto, verbose=True, seed=0, deterministic=True, single_cls=False, rect=False, cos_lr=False, close_mosaic=10, resume=False, amp=True, fraction=1.0, profile=False, freeze=None, multi_scale=False, overlap_mask=True, mask_ratio=4, dropout=0.0, val=True, split=val, save_json=False, save_hybrid=False, conf=None, iou=0.7, max_det=300, half=False, dnn=False, plots=True, source=None, vid_stride=1, stream_buffer=False, visualize=False, augment=False, agnostic_nms=False, classes=None, retina_masks=False, embed=None, show=False, save_frames=False, save_txt=False, save_conf=False, save_crop=False, show_labels=True, show_conf=True, show_boxes=True, line_width=None, format=torchscript, keras=False, optimize=False, int8=False, dynamic=False, simplify=True, opset=None, workspace=None, nms=False, lr0=0.01, lrf=0.01, momentum=0.937, weight_decay=0.0005, warmup_epochs=3.0, warmup_momentum=0.8, warmup_bias_lr=0.1, box=7.5, cls=0.5, dfl=1.5, pose=12.0, kobj=1.0, nbs=64, hsv_h=0.015, hsv_s=0.7, hsv_v=0.4, degrees=0.0, translate=0.1, scale=0.5, shear=0.0, perspective=0.0, flipud=0.0, fliplr=0.5, bgr=0.0, mosaic=1.0, mixup=0.0, copy_paste=0.0, copy_paste_mode=flip, auto_augment=randaugment, erasing=0.4, crop_fraction=1.0, cfg=None, tracker=botsort.yaml, save_dir=/content/drive/MyDrive/OIVIS_Lab_3/runs/yolov5s/weights\n",
            "Downloading https://ultralytics.com/assets/Arial.ttf to '/root/.config/Ultralytics/Arial.ttf'...\n"
          ]
        },
        {
          "metadata": {
            "tags": null
          },
          "name": "stderr",
          "output_type": "stream",
          "text": [
            "100%|██████████| 755k/755k [00:00<00:00, 117MB/s]\n"
          ]
        },
        {
          "metadata": {
            "tags": null
          },
          "name": "stdout",
          "output_type": "stream",
          "text": [
            "Overriding model.yaml nc=80 with nc=26\n",
            "\n",
            "                   from  n    params  module                                       arguments                     \n",
            "  0                  -1  1      3520  ultralytics.nn.modules.conv.Conv             [3, 32, 6, 2, 2]              \n",
            "  1                  -1  1     18560  ultralytics.nn.modules.conv.Conv             [32, 64, 3, 2]                \n",
            "  2                  -1  1     18816  ultralytics.nn.modules.block.C3              [64, 64, 1]                   \n",
            "  3                  -1  1     73984  ultralytics.nn.modules.conv.Conv             [64, 128, 3, 2]               \n",
            "  4                  -1  2    115712  ultralytics.nn.modules.block.C3              [128, 128, 2]                 \n",
            "  5                  -1  1    295424  ultralytics.nn.modules.conv.Conv             [128, 256, 3, 2]              \n",
            "  6                  -1  3    625152  ultralytics.nn.modules.block.C3              [256, 256, 3]                 \n",
            "  7                  -1  1   1180672  ultralytics.nn.modules.conv.Conv             [256, 512, 3, 2]              \n",
            "  8                  -1  1   1182720  ultralytics.nn.modules.block.C3              [512, 512, 1]                 \n",
            "  9                  -1  1    656896  ultralytics.nn.modules.block.SPPF            [512, 512, 5]                 \n",
            " 10                  -1  1    131584  ultralytics.nn.modules.conv.Conv             [512, 256, 1, 1]              \n",
            " 11                  -1  1         0  torch.nn.modules.upsampling.Upsample         [None, 2, 'nearest']          \n",
            " 12             [-1, 6]  1         0  ultralytics.nn.modules.conv.Concat           [1]                           \n",
            " 13                  -1  1    361984  ultralytics.nn.modules.block.C3              [512, 256, 1, False]          \n",
            " 14                  -1  1     33024  ultralytics.nn.modules.conv.Conv             [256, 128, 1, 1]              \n",
            " 15                  -1  1         0  torch.nn.modules.upsampling.Upsample         [None, 2, 'nearest']          \n",
            " 16             [-1, 4]  1         0  ultralytics.nn.modules.conv.Concat           [1]                           \n",
            " 17                  -1  1     90880  ultralytics.nn.modules.block.C3              [256, 128, 1, False]          \n",
            " 18                  -1  1    147712  ultralytics.nn.modules.conv.Conv             [128, 128, 3, 2]              \n",
            " 19            [-1, 14]  1         0  ultralytics.nn.modules.conv.Concat           [1]                           \n",
            " 20                  -1  1    296448  ultralytics.nn.modules.block.C3              [256, 256, 1, False]          \n",
            " 21                  -1  1    590336  ultralytics.nn.modules.conv.Conv             [256, 256, 3, 2]              \n",
            " 22            [-1, 10]  1         0  ultralytics.nn.modules.conv.Concat           [1]                           \n",
            " 23                  -1  1   1182720  ultralytics.nn.modules.block.C3              [512, 512, 1, False]          \n",
            " 24        [17, 20, 23]  1   2126110  ultralytics.nn.modules.head.Detect           [26, [128, 256, 512]]         \n",
            "YOLOv5s summary: 262 layers, 9,132,254 parameters, 9,132,238 gradients, 24.1 GFLOPs\n",
            "\n",
            "Transferred 421/427 items from pretrained weights\n",
            "\u001b[34m\u001b[1mTensorBoard: \u001b[0mStart with 'tensorboard --logdir /content/drive/MyDrive/OIVIS_Lab_3/runs/yolov5s/weights', view at http://localhost:6006/\n",
            "Freezing layer 'model.24.dfl.conv.weight'\n",
            "\u001b[34m\u001b[1mAMP: \u001b[0mrunning Automatic Mixed Precision (AMP) checks...\n",
            "Downloading https://github.com/ultralytics/assets/releases/download/v8.3.0/yolo11n.pt to 'yolo11n.pt'...\n"
          ]
        },
        {
          "metadata": {
            "tags": null
          },
          "name": "stderr",
          "output_type": "stream",
          "text": [
            "100%|██████████| 5.35M/5.35M [00:00<00:00, 347MB/s]\n"
          ]
        },
        {
          "metadata": {
            "tags": null
          },
          "name": "stdout",
          "output_type": "stream",
          "text": [
            "\u001b[34m\u001b[1mAMP: \u001b[0mchecks passed ✅\n"
          ]
        },
        {
          "metadata": {
            "tags": null
          },
          "name": "stderr",
          "output_type": "stream",
          "text": [
            "\u001b[34m\u001b[1mtrain: \u001b[0mScanning /content/OIVIS_Lab_3/train/labels... 3822 images, 0 backgrounds, 0 corrupt: 100%|██████████| 3822/3822 [00:02<00:00, 1895.73it/s]\n"
          ]
        },
        {
          "metadata": {
            "tags": null
          },
          "name": "stdout",
          "output_type": "stream",
          "text": [
            "\u001b[34m\u001b[1mtrain: \u001b[0mNew cache created: /content/OIVIS_Lab_3/train/labels.cache\n",
            "\u001b[34m\u001b[1malbumentations: \u001b[0mBlur(p=0.01, blur_limit=(3, 7)), MedianBlur(p=0.01, blur_limit=(3, 7)), ToGray(p=0.01, num_output_channels=3, method='weighted_average'), CLAHE(p=0.01, clip_limit=(1.0, 4.0), tile_grid_size=(8, 8))\n"
          ]
        },
        {
          "metadata": {
            "tags": null
          },
          "name": "stderr",
          "output_type": "stream",
          "text": [
            "/usr/local/lib/python3.10/dist-packages/albumentations/__init__.py:24: UserWarning: A new version of Albumentations is available: 1.4.22 (you have 1.4.20). Upgrade using: pip install -U albumentations. To disable automatic update checks, set the environment variable NO_ALBUMENTATIONS_UPDATE to 1.\n",
            "  check_for_updates()\n",
            "\u001b[34m\u001b[1mval: \u001b[0mScanning /content/OIVIS_Lab_3/test/labels... 1393 images, 0 backgrounds, 0 corrupt: 100%|██████████| 1393/1393 [00:01<00:00, 751.67it/s]\n"
          ]
        },
        {
          "metadata": {
            "tags": null
          },
          "name": "stdout",
          "output_type": "stream",
          "text": [
            "\u001b[34m\u001b[1mval: \u001b[0mNew cache created: /content/OIVIS_Lab_3/test/labels.cache\n",
            "Plotting labels to /content/drive/MyDrive/OIVIS_Lab_3/runs/yolov5s/weights/labels.jpg... \n",
            "\u001b[34m\u001b[1moptimizer:\u001b[0m 'optimizer=auto' found, ignoring 'lr0=0.01' and 'momentum=0.937' and determining best 'optimizer', 'lr0' and 'momentum' automatically... \n",
            "\u001b[34m\u001b[1moptimizer:\u001b[0m SGD(lr=0.01, momentum=0.9) with parameter groups 69 weight(decay=0.0), 76 weight(decay=0.0005), 75 bias(decay=0.0)\n",
            "\u001b[34m\u001b[1mTensorBoard: \u001b[0mmodel graph visualization added ✅\n",
            "Image sizes 800 train, 800 val\n",
            "Using 2 dataloader workers\n",
            "Logging results to \u001b[1m/content/drive/MyDrive/OIVIS_Lab_3/runs/yolov5s/weights\u001b[0m\n",
            "Starting training for 200 epochs...\n",
            "\n",
            "      Epoch    GPU_mem   box_loss   cls_loss   dfl_loss  Instances       Size\n"
          ]
        },
        {
          "metadata": {
            "tags": null
          },
          "name": "stderr",
          "output_type": "stream",
          "text": [
            "      1/200      6.34G      1.411      3.898     0.9264         40        800: 100%|██████████| 239/239 [02:21<00:00,  1.69it/s]\n",
            "                 Class     Images  Instances      Box(P          R      mAP50  mAP50-95): 100%|██████████| 44/44 [00:24<00:00,  1.80it/s]"
          ]
        },
        {
          "metadata": {
            "tags": null
          },
          "name": "stdout",
          "output_type": "stream",
          "text": [
            "                   all       1393       2085      0.614      0.211      0.194      0.119\n"
          ]
        },
        {
          "metadata": {
            "tags": null
          },
          "name": "stderr",
          "output_type": "stream",
          "text": [
            "\n"
          ]
        },
        {
          "metadata": {
            "tags": null
          },
          "name": "stdout",
          "output_type": "stream",
          "text": [
            "\n",
            "      Epoch    GPU_mem   box_loss   cls_loss   dfl_loss  Instances       Size\n"
          ]
        },
        {
          "metadata": {
            "tags": null
          },
          "name": "stderr",
          "output_type": "stream",
          "text": [
            "      2/200      6.28G      1.409      1.567     0.9131         32        800: 100%|██████████| 239/239 [02:19<00:00,  1.72it/s]\n",
            "                 Class     Images  Instances      Box(P          R      mAP50  mAP50-95): 100%|██████████| 44/44 [00:26<00:00,  1.68it/s]"
          ]
        },
        {
          "metadata": {
            "tags": null
          },
          "name": "stdout",
          "output_type": "stream",
          "text": [
            "                   all       1393       2085      0.547      0.227      0.283      0.173\n"
          ]
        },
        {
          "metadata": {
            "tags": null
          },
          "name": "stderr",
          "output_type": "stream",
          "text": [
            "\n"
          ]
        },
        {
          "metadata": {
            "tags": null
          },
          "name": "stdout",
          "output_type": "stream",
          "text": [
            "\n",
            "      Epoch    GPU_mem   box_loss   cls_loss   dfl_loss  Instances       Size\n"
          ]
        },
        {
          "metadata": {
            "tags": null
          },
          "name": "stderr",
          "output_type": "stream",
          "text": [
            "      3/200      6.25G       1.48      1.425      0.931         32        800: 100%|██████████| 239/239 [02:14<00:00,  1.77it/s]\n",
            "                 Class     Images  Instances      Box(P          R      mAP50  mAP50-95): 100%|██████████| 44/44 [00:25<00:00,  1.75it/s]\n"
          ]
        },
        {
          "metadata": {
            "tags": null
          },
          "name": "stdout",
          "output_type": "stream",
          "text": [
            "                   all       1393       2085      0.683      0.183      0.215      0.119\n",
            "\n",
            "      Epoch    GPU_mem   box_loss   cls_loss   dfl_loss  Instances       Size\n"
          ]
        },
        {
          "metadata": {
            "tags": null
          },
          "name": "stderr",
          "output_type": "stream",
          "text": [
            "      4/200      6.23G      1.478       1.36     0.9446         33        800: 100%|██████████| 239/239 [02:12<00:00,  1.80it/s]\n",
            "                 Class     Images  Instances      Box(P          R      mAP50  mAP50-95): 100%|██████████| 44/44 [00:23<00:00,  1.90it/s]\n"
          ]
        },
        {
          "metadata": {
            "tags": null
          },
          "name": "stdout",
          "output_type": "stream",
          "text": [
            "                   all       1393       2085      0.515      0.277      0.268      0.146\n",
            "\n",
            "      Epoch    GPU_mem   box_loss   cls_loss   dfl_loss  Instances       Size\n"
          ]
        },
        {
          "metadata": {
            "tags": null
          },
          "name": "stderr",
          "output_type": "stream",
          "text": [
            "      5/200      6.25G      1.456      1.272     0.9455         34        800: 100%|██████████| 239/239 [02:16<00:00,  1.75it/s]\n",
            "                 Class     Images  Instances      Box(P          R      mAP50  mAP50-95): 100%|██████████| 44/44 [00:23<00:00,  1.84it/s]"
          ]
        },
        {
          "metadata": {
            "tags": null
          },
          "name": "stdout",
          "output_type": "stream",
          "text": [
            "                   all       1393       2085       0.59      0.351      0.322      0.192\n"
          ]
        },
        {
          "metadata": {
            "tags": null
          },
          "name": "stderr",
          "output_type": "stream",
          "text": [
            "\n"
          ]
        },
        {
          "metadata": {
            "tags": null
          },
          "name": "stdout",
          "output_type": "stream",
          "text": [
            "\n",
            "      Epoch    GPU_mem   box_loss   cls_loss   dfl_loss  Instances       Size\n"
          ]
        },
        {
          "metadata": {
            "tags": null
          },
          "name": "stderr",
          "output_type": "stream",
          "text": [
            "      6/200      6.26G      1.436      1.169     0.9297         48        800: 100%|██████████| 239/239 [02:14<00:00,  1.77it/s]\n",
            "                 Class     Images  Instances      Box(P          R      mAP50  mAP50-95): 100%|██████████| 44/44 [00:24<00:00,  1.83it/s]\n"
          ]
        },
        {
          "metadata": {
            "tags": null
          },
          "name": "stdout",
          "output_type": "stream",
          "text": [
            "                   all       1393       2085      0.686      0.297      0.312      0.189\n",
            "\n",
            "      Epoch    GPU_mem   box_loss   cls_loss   dfl_loss  Instances       Size\n"
          ]
        },
        {
          "metadata": {
            "tags": null
          },
          "name": "stderr",
          "output_type": "stream",
          "text": [
            "      7/200      6.25G      1.399      1.144      0.927         27        800: 100%|██████████| 239/239 [02:15<00:00,  1.76it/s]\n",
            "                 Class     Images  Instances      Box(P          R      mAP50  mAP50-95): 100%|██████████| 44/44 [00:22<00:00,  1.95it/s]"
          ]
        },
        {
          "metadata": {
            "tags": null
          },
          "name": "stdout",
          "output_type": "stream",
          "text": [
            "                   all       1393       2085      0.671      0.344      0.368      0.226\n"
          ]
        },
        {
          "metadata": {
            "tags": null
          },
          "name": "stderr",
          "output_type": "stream",
          "text": [
            "\n"
          ]
        },
        {
          "metadata": {
            "tags": null
          },
          "name": "stdout",
          "output_type": "stream",
          "text": [
            "\n",
            "      Epoch    GPU_mem   box_loss   cls_loss   dfl_loss  Instances       Size\n"
          ]
        },
        {
          "metadata": {
            "tags": null
          },
          "name": "stderr",
          "output_type": "stream",
          "text": [
            "      8/200      6.27G      1.349      1.064     0.9189         33        800: 100%|██████████| 239/239 [02:15<00:00,  1.77it/s]\n",
            "                 Class     Images  Instances      Box(P          R      mAP50  mAP50-95): 100%|██████████| 44/44 [00:25<00:00,  1.75it/s]"
          ]
        },
        {
          "metadata": {
            "tags": null
          },
          "name": "stdout",
          "output_type": "stream",
          "text": [
            "                   all       1393       2085      0.381      0.447      0.381      0.235\n"
          ]
        },
        {
          "metadata": {
            "tags": null
          },
          "name": "stderr",
          "output_type": "stream",
          "text": [
            "\n"
          ]
        },
        {
          "metadata": {
            "tags": null
          },
          "name": "stdout",
          "output_type": "stream",
          "text": [
            "\n",
            "      Epoch    GPU_mem   box_loss   cls_loss   dfl_loss  Instances       Size\n"
          ]
        },
        {
          "metadata": {
            "tags": null
          },
          "name": "stderr",
          "output_type": "stream",
          "text": [
            "      9/200      6.25G      1.346      1.068     0.9177         30        800: 100%|██████████| 239/239 [02:12<00:00,  1.81it/s]\n",
            "                 Class     Images  Instances      Box(P          R      mAP50  mAP50-95): 100%|██████████| 44/44 [00:23<00:00,  1.91it/s]"
          ]
        },
        {
          "metadata": {
            "tags": null
          },
          "name": "stdout",
          "output_type": "stream",
          "text": [
            "                   all       1393       2085      0.592      0.373      0.419      0.248\n"
          ]
        },
        {
          "metadata": {
            "tags": null
          },
          "name": "stderr",
          "output_type": "stream",
          "text": [
            "\n"
          ]
        },
        {
          "metadata": {
            "tags": null
          },
          "name": "stdout",
          "output_type": "stream",
          "text": [
            "\n",
            "      Epoch    GPU_mem   box_loss   cls_loss   dfl_loss  Instances       Size\n"
          ]
        },
        {
          "metadata": {
            "tags": null
          },
          "name": "stderr",
          "output_type": "stream",
          "text": [
            "     10/200       6.3G       1.34      1.027     0.9174         28        800: 100%|██████████| 239/239 [02:14<00:00,  1.78it/s]\n",
            "                 Class     Images  Instances      Box(P          R      mAP50  mAP50-95): 100%|██████████| 44/44 [00:23<00:00,  1.90it/s]"
          ]
        },
        {
          "metadata": {
            "tags": null
          },
          "name": "stdout",
          "output_type": "stream",
          "text": [
            "                   all       1393       2085      0.722      0.434      0.442      0.276\n"
          ]
        },
        {
          "metadata": {
            "tags": null
          },
          "name": "stderr",
          "output_type": "stream",
          "text": [
            "\n"
          ]
        },
        {
          "metadata": {
            "tags": null
          },
          "name": "stdout",
          "output_type": "stream",
          "text": [
            "\n",
            "      Epoch    GPU_mem   box_loss   cls_loss   dfl_loss  Instances       Size\n"
          ]
        },
        {
          "metadata": {
            "tags": null
          },
          "name": "stderr",
          "output_type": "stream",
          "text": [
            "     11/200      6.47G      1.316      1.006     0.9202         39        800: 100%|██████████| 239/239 [02:15<00:00,  1.77it/s]\n",
            "                 Class     Images  Instances      Box(P          R      mAP50  mAP50-95): 100%|██████████| 44/44 [00:24<00:00,  1.76it/s]"
          ]
        },
        {
          "metadata": {
            "tags": null
          },
          "name": "stdout",
          "output_type": "stream",
          "text": [
            "                   all       1393       2085      0.646      0.401      0.448      0.277\n"
          ]
        },
        {
          "metadata": {
            "tags": null
          },
          "name": "stderr",
          "output_type": "stream",
          "text": [
            "\n"
          ]
        },
        {
          "metadata": {
            "tags": null
          },
          "name": "stdout",
          "output_type": "stream",
          "text": [
            "\n",
            "      Epoch    GPU_mem   box_loss   cls_loss   dfl_loss  Instances       Size\n"
          ]
        },
        {
          "metadata": {
            "tags": null
          },
          "name": "stderr",
          "output_type": "stream",
          "text": [
            "     12/200      6.28G       1.32      1.016     0.9228         50        800: 100%|██████████| 239/239 [02:12<00:00,  1.80it/s]\n",
            "                 Class     Images  Instances      Box(P          R      mAP50  mAP50-95): 100%|██████████| 44/44 [00:23<00:00,  1.85it/s]\n"
          ]
        },
        {
          "metadata": {
            "tags": null
          },
          "name": "stdout",
          "output_type": "stream",
          "text": [
            "                   all       1393       2085      0.683      0.388      0.407      0.253\n",
            "\n",
            "      Epoch    GPU_mem   box_loss   cls_loss   dfl_loss  Instances       Size\n"
          ]
        },
        {
          "metadata": {
            "tags": null
          },
          "name": "stderr",
          "output_type": "stream",
          "text": [
            "     13/200      6.26G      1.305      0.988     0.9061         27        800: 100%|██████████| 239/239 [02:14<00:00,  1.78it/s]\n",
            "                 Class     Images  Instances      Box(P          R      mAP50  mAP50-95): 100%|██████████| 44/44 [00:22<00:00,  1.93it/s]"
          ]
        },
        {
          "metadata": {
            "tags": null
          },
          "name": "stdout",
          "output_type": "stream",
          "text": [
            "                   all       1393       2085       0.62      0.479      0.494       0.31\n"
          ]
        },
        {
          "metadata": {
            "tags": null
          },
          "name": "stderr",
          "output_type": "stream",
          "text": [
            "\n"
          ]
        },
        {
          "metadata": {
            "tags": null
          },
          "name": "stdout",
          "output_type": "stream",
          "text": [
            "\n",
            "      Epoch    GPU_mem   box_loss   cls_loss   dfl_loss  Instances       Size\n"
          ]
        },
        {
          "metadata": {
            "tags": null
          },
          "name": "stderr",
          "output_type": "stream",
          "text": [
            "     14/200       6.3G      1.289     0.9511     0.9066         43        800: 100%|██████████| 239/239 [02:16<00:00,  1.75it/s]\n",
            "                 Class     Images  Instances      Box(P          R      mAP50  mAP50-95): 100%|██████████| 44/44 [00:22<00:00,  1.98it/s]"
          ]
        },
        {
          "metadata": {
            "tags": null
          },
          "name": "stdout",
          "output_type": "stream",
          "text": [
            "                   all       1393       2085      0.567        0.5        0.5      0.313\n"
          ]
        },
        {
          "metadata": {
            "tags": null
          },
          "name": "stderr",
          "output_type": "stream",
          "text": [
            "\n"
          ]
        },
        {
          "metadata": {
            "tags": null
          },
          "name": "stdout",
          "output_type": "stream",
          "text": [
            "\n",
            "      Epoch    GPU_mem   box_loss   cls_loss   dfl_loss  Instances       Size\n"
          ]
        },
        {
          "metadata": {
            "tags": null
          },
          "name": "stderr",
          "output_type": "stream",
          "text": [
            "     15/200      6.25G      1.271     0.9255     0.9104         44        800: 100%|██████████| 239/239 [02:15<00:00,  1.77it/s]\n",
            "                 Class     Images  Instances      Box(P          R      mAP50  mAP50-95): 100%|██████████| 44/44 [00:23<00:00,  1.87it/s]"
          ]
        },
        {
          "metadata": {
            "tags": null
          },
          "name": "stdout",
          "output_type": "stream",
          "text": [
            "                   all       1393       2085       0.66      0.453      0.548      0.335\n"
          ]
        },
        {
          "metadata": {
            "tags": null
          },
          "name": "stderr",
          "output_type": "stream",
          "text": [
            "\n"
          ]
        },
        {
          "metadata": {
            "tags": null
          },
          "name": "stdout",
          "output_type": "stream",
          "text": [
            "\n",
            "      Epoch    GPU_mem   box_loss   cls_loss   dfl_loss  Instances       Size\n"
          ]
        },
        {
          "metadata": {
            "tags": null
          },
          "name": "stderr",
          "output_type": "stream",
          "text": [
            "     16/200      6.28G      1.259     0.9186      0.901         33        800: 100%|██████████| 239/239 [02:12<00:00,  1.80it/s]\n",
            "                 Class     Images  Instances      Box(P          R      mAP50  mAP50-95): 100%|██████████| 44/44 [00:24<00:00,  1.82it/s]\n"
          ]
        },
        {
          "metadata": {
            "tags": null
          },
          "name": "stdout",
          "output_type": "stream",
          "text": [
            "                   all       1393       2085      0.649      0.464       0.49      0.309\n",
            "\n",
            "      Epoch    GPU_mem   box_loss   cls_loss   dfl_loss  Instances       Size\n"
          ]
        },
        {
          "metadata": {
            "tags": null
          },
          "name": "stderr",
          "output_type": "stream",
          "text": [
            "     17/200      6.25G      1.248     0.8906     0.8997         33        800: 100%|██████████| 239/239 [02:12<00:00,  1.80it/s]\n",
            "                 Class     Images  Instances      Box(P          R      mAP50  mAP50-95): 100%|██████████| 44/44 [00:22<00:00,  1.94it/s]"
          ]
        },
        {
          "metadata": {
            "tags": null
          },
          "name": "stdout",
          "output_type": "stream",
          "text": [
            "                   all       1393       2085      0.439      0.574      0.542       0.33\n"
          ]
        },
        {
          "metadata": {
            "tags": null
          },
          "name": "stderr",
          "output_type": "stream",
          "text": [
            "\n"
          ]
        },
        {
          "metadata": {
            "tags": null
          },
          "name": "stdout",
          "output_type": "stream",
          "text": [
            "\n",
            "      Epoch    GPU_mem   box_loss   cls_loss   dfl_loss  Instances       Size\n"
          ]
        },
        {
          "metadata": {
            "tags": null
          },
          "name": "stderr",
          "output_type": "stream",
          "text": [
            "     18/200      6.27G      1.247      0.879     0.8999         27        800: 100%|██████████| 239/239 [02:14<00:00,  1.77it/s]\n",
            "                 Class     Images  Instances      Box(P          R      mAP50  mAP50-95): 100%|██████████| 44/44 [00:23<00:00,  1.91it/s]"
          ]
        },
        {
          "metadata": {
            "tags": null
          },
          "name": "stdout",
          "output_type": "stream",
          "text": [
            "                   all       1393       2085      0.603      0.483      0.544      0.351\n"
          ]
        },
        {
          "metadata": {
            "tags": null
          },
          "name": "stderr",
          "output_type": "stream",
          "text": [
            "\n"
          ]
        },
        {
          "metadata": {
            "tags": null
          },
          "name": "stdout",
          "output_type": "stream",
          "text": [
            "\n",
            "      Epoch    GPU_mem   box_loss   cls_loss   dfl_loss  Instances       Size\n"
          ]
        },
        {
          "metadata": {
            "tags": null
          },
          "name": "stderr",
          "output_type": "stream",
          "text": [
            "     19/200      6.26G      1.256     0.8745     0.9011         42        800: 100%|██████████| 239/239 [02:16<00:00,  1.75it/s]\n",
            "                 Class     Images  Instances      Box(P          R      mAP50  mAP50-95): 100%|██████████| 44/44 [00:24<00:00,  1.76it/s]"
          ]
        },
        {
          "metadata": {
            "tags": null
          },
          "name": "stdout",
          "output_type": "stream",
          "text": [
            "                   all       1393       2085      0.662      0.497      0.608      0.391\n"
          ]
        },
        {
          "metadata": {
            "tags": null
          },
          "name": "stderr",
          "output_type": "stream",
          "text": [
            "\n"
          ]
        },
        {
          "metadata": {
            "tags": null
          },
          "name": "stdout",
          "output_type": "stream",
          "text": [
            "\n",
            "      Epoch    GPU_mem   box_loss   cls_loss   dfl_loss  Instances       Size\n"
          ]
        },
        {
          "metadata": {
            "tags": null
          },
          "name": "stderr",
          "output_type": "stream",
          "text": [
            "     20/200      6.27G      1.235     0.8532     0.8975         35        800: 100%|██████████| 239/239 [02:18<00:00,  1.73it/s]\n",
            "                 Class     Images  Instances      Box(P          R      mAP50  mAP50-95): 100%|██████████| 44/44 [00:25<00:00,  1.74it/s]\n"
          ]
        },
        {
          "metadata": {
            "tags": null
          },
          "name": "stdout",
          "output_type": "stream",
          "text": [
            "                   all       1393       2085      0.754      0.471      0.531      0.335\n",
            "\n",
            "      Epoch    GPU_mem   box_loss   cls_loss   dfl_loss  Instances       Size\n"
          ]
        },
        {
          "metadata": {
            "tags": null
          },
          "name": "stderr",
          "output_type": "stream",
          "text": [
            "     21/200      6.29G      1.229     0.8614     0.9023         38        800: 100%|██████████| 239/239 [02:13<00:00,  1.79it/s]\n",
            "                 Class     Images  Instances      Box(P          R      mAP50  mAP50-95): 100%|██████████| 44/44 [00:23<00:00,  1.91it/s]"
          ]
        },
        {
          "metadata": {
            "tags": null
          },
          "name": "stdout",
          "output_type": "stream",
          "text": [
            "                   all       1393       2085      0.594      0.488      0.593      0.371\n"
          ]
        },
        {
          "metadata": {
            "tags": null
          },
          "name": "stderr",
          "output_type": "stream",
          "text": [
            "\n"
          ]
        },
        {
          "metadata": {
            "tags": null
          },
          "name": "stdout",
          "output_type": "stream",
          "text": [
            "\n",
            "      Epoch    GPU_mem   box_loss   cls_loss   dfl_loss  Instances       Size\n"
          ]
        },
        {
          "metadata": {
            "tags": null
          },
          "name": "stderr",
          "output_type": "stream",
          "text": [
            "     22/200      6.26G       1.24     0.8428     0.8991         33        800: 100%|██████████| 239/239 [02:14<00:00,  1.78it/s]\n",
            "                 Class     Images  Instances      Box(P          R      mAP50  mAP50-95): 100%|██████████| 44/44 [00:22<00:00,  1.93it/s]"
          ]
        },
        {
          "metadata": {
            "tags": null
          },
          "name": "stdout",
          "output_type": "stream",
          "text": [
            "                   all       1393       2085       0.62      0.527       0.63      0.403\n"
          ]
        },
        {
          "metadata": {
            "tags": null
          },
          "name": "stderr",
          "output_type": "stream",
          "text": [
            "\n"
          ]
        },
        {
          "metadata": {
            "tags": null
          },
          "name": "stdout",
          "output_type": "stream",
          "text": [
            "\n",
            "      Epoch    GPU_mem   box_loss   cls_loss   dfl_loss  Instances       Size\n"
          ]
        },
        {
          "metadata": {
            "tags": null
          },
          "name": "stderr",
          "output_type": "stream",
          "text": [
            "     23/200      6.48G      1.222     0.8325     0.8975         38        800: 100%|██████████| 239/239 [02:17<00:00,  1.74it/s]\n",
            "                 Class     Images  Instances      Box(P          R      mAP50  mAP50-95): 100%|██████████| 44/44 [00:24<00:00,  1.81it/s]"
          ]
        },
        {
          "metadata": {
            "tags": null
          },
          "name": "stdout",
          "output_type": "stream",
          "text": [
            "                   all       1393       2085      0.704      0.406      0.565       0.36\n"
          ]
        },
        {
          "metadata": {
            "tags": null
          },
          "name": "stderr",
          "output_type": "stream",
          "text": [
            "\n"
          ]
        },
        {
          "metadata": {
            "tags": null
          },
          "name": "stdout",
          "output_type": "stream",
          "text": [
            "\n",
            "      Epoch    GPU_mem   box_loss   cls_loss   dfl_loss  Instances       Size\n"
          ]
        },
        {
          "metadata": {
            "tags": null
          },
          "name": "stderr",
          "output_type": "stream",
          "text": [
            "     24/200      6.26G      1.215     0.8447     0.8989         26        800: 100%|██████████| 239/239 [02:15<00:00,  1.76it/s]\n",
            "                 Class     Images  Instances      Box(P          R      mAP50  mAP50-95): 100%|██████████| 44/44 [00:25<00:00,  1.70it/s]"
          ]
        },
        {
          "metadata": {
            "tags": null
          },
          "name": "stdout",
          "output_type": "stream",
          "text": [
            "                   all       1393       2085      0.443      0.648      0.593      0.372\n"
          ]
        },
        {
          "metadata": {
            "tags": null
          },
          "name": "stderr",
          "output_type": "stream",
          "text": [
            "\n"
          ]
        },
        {
          "metadata": {
            "tags": null
          },
          "name": "stdout",
          "output_type": "stream",
          "text": [
            "\n",
            "      Epoch    GPU_mem   box_loss   cls_loss   dfl_loss  Instances       Size\n"
          ]
        },
        {
          "metadata": {
            "tags": null
          },
          "name": "stderr",
          "output_type": "stream",
          "text": [
            "     25/200      6.25G      1.216     0.8268     0.8993         34        800: 100%|██████████| 239/239 [02:14<00:00,  1.78it/s]\n",
            "                 Class     Images  Instances      Box(P          R      mAP50  mAP50-95): 100%|██████████| 44/44 [00:25<00:00,  1.76it/s]\n"
          ]
        },
        {
          "metadata": {
            "tags": null
          },
          "name": "stdout",
          "output_type": "stream",
          "text": [
            "                   all       1393       2085      0.492      0.645      0.657       0.42\n",
            "\n",
            "      Epoch    GPU_mem   box_loss   cls_loss   dfl_loss  Instances       Size\n"
          ]
        },
        {
          "metadata": {
            "tags": null
          },
          "name": "stderr",
          "output_type": "stream",
          "text": [
            "     26/200       6.3G      1.209     0.8335     0.8948         41        800: 100%|██████████| 239/239 [02:16<00:00,  1.74it/s]\n",
            "                 Class     Images  Instances      Box(P          R      mAP50  mAP50-95): 100%|██████████| 44/44 [00:22<00:00,  1.92it/s]"
          ]
        },
        {
          "metadata": {
            "tags": null
          },
          "name": "stdout",
          "output_type": "stream",
          "text": [
            "                   all       1393       2085       0.66      0.528      0.615      0.394\n"
          ]
        },
        {
          "metadata": {
            "tags": null
          },
          "name": "stderr",
          "output_type": "stream",
          "text": [
            "\n"
          ]
        },
        {
          "metadata": {
            "tags": null
          },
          "name": "stdout",
          "output_type": "stream",
          "text": [
            "\n",
            "      Epoch    GPU_mem   box_loss   cls_loss   dfl_loss  Instances       Size\n"
          ]
        },
        {
          "metadata": {
            "tags": null
          },
          "name": "stderr",
          "output_type": "stream",
          "text": [
            "     27/200      6.26G      1.216      0.814     0.8941         18        800: 100%|██████████| 239/239 [02:17<00:00,  1.74it/s]\n",
            "                 Class     Images  Instances      Box(P          R      mAP50  mAP50-95): 100%|██████████| 44/44 [00:22<00:00,  1.93it/s]"
          ]
        },
        {
          "metadata": {
            "tags": null
          },
          "name": "stdout",
          "output_type": "stream",
          "text": [
            "                   all       1393       2085      0.464       0.59      0.594      0.385\n"
          ]
        },
        {
          "metadata": {
            "tags": null
          },
          "name": "stderr",
          "output_type": "stream",
          "text": [
            "\n"
          ]
        },
        {
          "metadata": {
            "tags": null
          },
          "name": "stdout",
          "output_type": "stream",
          "text": [
            "\n",
            "      Epoch    GPU_mem   box_loss   cls_loss   dfl_loss  Instances       Size\n"
          ]
        },
        {
          "metadata": {
            "tags": null
          },
          "name": "stderr",
          "output_type": "stream",
          "text": [
            "     28/200      6.25G      1.193     0.7934     0.8934         29        800: 100%|██████████| 239/239 [02:16<00:00,  1.75it/s]\n",
            "                 Class     Images  Instances      Box(P          R      mAP50  mAP50-95): 100%|██████████| 44/44 [00:25<00:00,  1.75it/s]"
          ]
        },
        {
          "metadata": {
            "tags": null
          },
          "name": "stdout",
          "output_type": "stream",
          "text": [
            "                   all       1393       2085      0.708      0.467      0.584      0.378\n"
          ]
        },
        {
          "metadata": {
            "tags": null
          },
          "name": "stderr",
          "output_type": "stream",
          "text": [
            "\n"
          ]
        },
        {
          "metadata": {
            "tags": null
          },
          "name": "stdout",
          "output_type": "stream",
          "text": [
            "\n",
            "      Epoch    GPU_mem   box_loss   cls_loss   dfl_loss  Instances       Size\n"
          ]
        },
        {
          "metadata": {
            "tags": null
          },
          "name": "stderr",
          "output_type": "stream",
          "text": [
            "     29/200      6.26G      1.195     0.8056     0.8907         35        800: 100%|██████████| 239/239 [02:16<00:00,  1.76it/s]\n",
            "                 Class     Images  Instances      Box(P          R      mAP50  mAP50-95): 100%|██████████| 44/44 [00:25<00:00,  1.74it/s]"
          ]
        },
        {
          "metadata": {
            "tags": null
          },
          "name": "stdout",
          "output_type": "stream",
          "text": [
            "                   all       1393       2085      0.587      0.621      0.619        0.4\n"
          ]
        },
        {
          "metadata": {
            "tags": null
          },
          "name": "stderr",
          "output_type": "stream",
          "text": [
            "\n"
          ]
        },
        {
          "metadata": {
            "tags": null
          },
          "name": "stdout",
          "output_type": "stream",
          "text": [
            "\n",
            "      Epoch    GPU_mem   box_loss   cls_loss   dfl_loss  Instances       Size\n"
          ]
        },
        {
          "metadata": {
            "tags": null
          },
          "name": "stderr",
          "output_type": "stream",
          "text": [
            "     30/200      6.29G      1.178     0.7985     0.8903         30        800: 100%|██████████| 239/239 [02:16<00:00,  1.75it/s]\n",
            "                 Class     Images  Instances      Box(P          R      mAP50  mAP50-95): 100%|██████████| 44/44 [00:24<00:00,  1.79it/s]"
          ]
        },
        {
          "metadata": {
            "tags": null
          },
          "name": "stdout",
          "output_type": "stream",
          "text": [
            "                   all       1393       2085      0.557      0.617      0.632      0.411\n"
          ]
        },
        {
          "metadata": {
            "tags": null
          },
          "name": "stderr",
          "output_type": "stream",
          "text": [
            "\n"
          ]
        },
        {
          "metadata": {
            "tags": null
          },
          "name": "stdout",
          "output_type": "stream",
          "text": [
            "\n",
            "      Epoch    GPU_mem   box_loss   cls_loss   dfl_loss  Instances       Size\n"
          ]
        },
        {
          "metadata": {
            "tags": null
          },
          "name": "stderr",
          "output_type": "stream",
          "text": [
            "     31/200      6.24G      1.171     0.7815     0.8904         36        800: 100%|██████████| 239/239 [02:16<00:00,  1.75it/s]\n",
            "                 Class     Images  Instances      Box(P          R      mAP50  mAP50-95): 100%|██████████| 44/44 [00:23<00:00,  1.87it/s]"
          ]
        },
        {
          "metadata": {
            "tags": null
          },
          "name": "stdout",
          "output_type": "stream",
          "text": [
            "                   all       1393       2085      0.625      0.561      0.636      0.387\n"
          ]
        },
        {
          "metadata": {
            "tags": null
          },
          "name": "stderr",
          "output_type": "stream",
          "text": [
            "\n"
          ]
        },
        {
          "metadata": {
            "tags": null
          },
          "name": "stdout",
          "output_type": "stream",
          "text": [
            "\n",
            "      Epoch    GPU_mem   box_loss   cls_loss   dfl_loss  Instances       Size\n"
          ]
        },
        {
          "metadata": {
            "tags": null
          },
          "name": "stderr",
          "output_type": "stream",
          "text": [
            "     32/200      6.25G      1.192     0.7864      0.889         33        800: 100%|██████████| 239/239 [02:18<00:00,  1.73it/s]\n",
            "                 Class     Images  Instances      Box(P          R      mAP50  mAP50-95): 100%|██████████| 44/44 [00:23<00:00,  1.90it/s]"
          ]
        },
        {
          "metadata": {
            "tags": null
          },
          "name": "stdout",
          "output_type": "stream",
          "text": [
            "                   all       1393       2085      0.657      0.618       0.65      0.399\n"
          ]
        },
        {
          "metadata": {
            "tags": null
          },
          "name": "stderr",
          "output_type": "stream",
          "text": [
            "\n"
          ]
        },
        {
          "metadata": {
            "tags": null
          },
          "name": "stdout",
          "output_type": "stream",
          "text": [
            "\n",
            "      Epoch    GPU_mem   box_loss   cls_loss   dfl_loss  Instances       Size\n"
          ]
        },
        {
          "metadata": {
            "tags": null
          },
          "name": "stderr",
          "output_type": "stream",
          "text": [
            "     33/200      6.27G      1.175     0.7712     0.8801         36        800: 100%|██████████| 239/239 [02:15<00:00,  1.76it/s]\n",
            "                 Class     Images  Instances      Box(P          R      mAP50  mAP50-95): 100%|██████████| 44/44 [00:23<00:00,  1.84it/s]"
          ]
        },
        {
          "metadata": {
            "tags": null
          },
          "name": "stdout",
          "output_type": "stream",
          "text": [
            "                   all       1393       2085      0.682      0.614      0.673      0.426\n"
          ]
        },
        {
          "metadata": {
            "tags": null
          },
          "name": "stderr",
          "output_type": "stream",
          "text": [
            "\n"
          ]
        },
        {
          "metadata": {
            "tags": null
          },
          "name": "stdout",
          "output_type": "stream",
          "text": [
            "\n",
            "      Epoch    GPU_mem   box_loss   cls_loss   dfl_loss  Instances       Size\n"
          ]
        },
        {
          "metadata": {
            "tags": null
          },
          "name": "stderr",
          "output_type": "stream",
          "text": [
            "     34/200      6.29G      1.175     0.7751     0.8903         29        800: 100%|██████████| 239/239 [02:15<00:00,  1.76it/s]\n",
            "                 Class     Images  Instances      Box(P          R      mAP50  mAP50-95): 100%|██████████| 44/44 [00:25<00:00,  1.74it/s]"
          ]
        },
        {
          "metadata": {
            "tags": null
          },
          "name": "stdout",
          "output_type": "stream",
          "text": [
            "                   all       1393       2085      0.657      0.641      0.679       0.42\n"
          ]
        },
        {
          "metadata": {
            "tags": null
          },
          "name": "stderr",
          "output_type": "stream",
          "text": [
            "\n"
          ]
        },
        {
          "metadata": {
            "tags": null
          },
          "name": "stdout",
          "output_type": "stream",
          "text": [
            "\n",
            "      Epoch    GPU_mem   box_loss   cls_loss   dfl_loss  Instances       Size\n"
          ]
        },
        {
          "metadata": {
            "tags": null
          },
          "name": "stderr",
          "output_type": "stream",
          "text": [
            "     35/200      6.27G      1.164     0.7569     0.8849         30        800: 100%|██████████| 239/239 [02:17<00:00,  1.74it/s]\n",
            "                 Class     Images  Instances      Box(P          R      mAP50  mAP50-95): 100%|██████████| 44/44 [00:24<00:00,  1.76it/s]\n"
          ]
        },
        {
          "metadata": {
            "tags": null
          },
          "name": "stdout",
          "output_type": "stream",
          "text": [
            "                   all       1393       2085      0.573      0.666      0.652      0.424\n",
            "\n",
            "      Epoch    GPU_mem   box_loss   cls_loss   dfl_loss  Instances       Size\n"
          ]
        },
        {
          "metadata": {
            "tags": null
          },
          "name": "stderr",
          "output_type": "stream",
          "text": [
            "     36/200      6.27G      1.174     0.7763     0.8871         25        800: 100%|██████████| 239/239 [02:17<00:00,  1.74it/s]\n",
            "                 Class     Images  Instances      Box(P          R      mAP50  mAP50-95): 100%|██████████| 44/44 [00:23<00:00,  1.86it/s]"
          ]
        },
        {
          "metadata": {
            "tags": null
          },
          "name": "stdout",
          "output_type": "stream",
          "text": [
            "                   all       1393       2085      0.687      0.594      0.637      0.424\n"
          ]
        },
        {
          "metadata": {
            "tags": null
          },
          "name": "stderr",
          "output_type": "stream",
          "text": [
            "\n"
          ]
        },
        {
          "metadata": {
            "tags": null
          },
          "name": "stdout",
          "output_type": "stream",
          "text": [
            "\n",
            "      Epoch    GPU_mem   box_loss   cls_loss   dfl_loss  Instances       Size\n"
          ]
        },
        {
          "metadata": {
            "tags": null
          },
          "name": "stderr",
          "output_type": "stream",
          "text": [
            "     37/200      6.28G      1.161     0.7486      0.882         25        800: 100%|██████████| 239/239 [02:18<00:00,  1.73it/s]\n",
            "                 Class     Images  Instances      Box(P          R      mAP50  mAP50-95): 100%|██████████| 44/44 [00:23<00:00,  1.86it/s]"
          ]
        },
        {
          "metadata": {
            "tags": null
          },
          "name": "stdout",
          "output_type": "stream",
          "text": [
            "                   all       1393       2085      0.653      0.593      0.658      0.421\n"
          ]
        },
        {
          "metadata": {
            "tags": null
          },
          "name": "stderr",
          "output_type": "stream",
          "text": [
            "\n"
          ]
        },
        {
          "metadata": {
            "tags": null
          },
          "name": "stdout",
          "output_type": "stream",
          "text": [
            "\n",
            "      Epoch    GPU_mem   box_loss   cls_loss   dfl_loss  Instances       Size\n"
          ]
        },
        {
          "metadata": {
            "tags": null
          },
          "name": "stderr",
          "output_type": "stream",
          "text": [
            "     38/200      6.29G      1.165       0.76     0.8847         58        800: 100%|██████████| 239/239 [02:19<00:00,  1.71it/s]\n",
            "                 Class     Images  Instances      Box(P          R      mAP50  mAP50-95): 100%|██████████| 44/44 [00:23<00:00,  1.89it/s]"
          ]
        },
        {
          "metadata": {
            "tags": null
          },
          "name": "stdout",
          "output_type": "stream",
          "text": [
            "                   all       1393       2085      0.482      0.685      0.661      0.426\n"
          ]
        },
        {
          "metadata": {
            "tags": null
          },
          "name": "stderr",
          "output_type": "stream",
          "text": [
            "\n"
          ]
        },
        {
          "metadata": {
            "tags": null
          },
          "name": "stdout",
          "output_type": "stream",
          "text": [
            "\n",
            "      Epoch    GPU_mem   box_loss   cls_loss   dfl_loss  Instances       Size\n"
          ]
        },
        {
          "metadata": {
            "tags": null
          },
          "name": "stderr",
          "output_type": "stream",
          "text": [
            "     39/200      6.51G      1.166     0.7505     0.8835         29        800: 100%|██████████| 239/239 [02:18<00:00,  1.73it/s]\n",
            "                 Class     Images  Instances      Box(P          R      mAP50  mAP50-95): 100%|██████████| 44/44 [00:23<00:00,  1.88it/s]"
          ]
        },
        {
          "metadata": {
            "tags": null
          },
          "name": "stdout",
          "output_type": "stream",
          "text": [
            "                   all       1393       2085      0.574      0.652      0.667      0.421\n"
          ]
        },
        {
          "metadata": {
            "tags": null
          },
          "name": "stderr",
          "output_type": "stream",
          "text": [
            "\n"
          ]
        },
        {
          "metadata": {
            "tags": null
          },
          "name": "stdout",
          "output_type": "stream",
          "text": [
            "\n",
            "      Epoch    GPU_mem   box_loss   cls_loss   dfl_loss  Instances       Size\n"
          ]
        },
        {
          "metadata": {
            "tags": null
          },
          "name": "stderr",
          "output_type": "stream",
          "text": [
            "     40/200      6.27G      1.145     0.7443     0.8794         29        800: 100%|██████████| 239/239 [02:19<00:00,  1.72it/s]\n",
            "                 Class     Images  Instances      Box(P          R      mAP50  mAP50-95): 100%|██████████| 44/44 [00:23<00:00,  1.88it/s]"
          ]
        },
        {
          "metadata": {
            "tags": null
          },
          "name": "stdout",
          "output_type": "stream",
          "text": [
            "                   all       1393       2085      0.705      0.549      0.646      0.414\n"
          ]
        },
        {
          "metadata": {
            "tags": null
          },
          "name": "stderr",
          "output_type": "stream",
          "text": [
            "\n"
          ]
        },
        {
          "metadata": {
            "tags": null
          },
          "name": "stdout",
          "output_type": "stream",
          "text": [
            "\n",
            "      Epoch    GPU_mem   box_loss   cls_loss   dfl_loss  Instances       Size\n"
          ]
        },
        {
          "metadata": {
            "tags": null
          },
          "name": "stderr",
          "output_type": "stream",
          "text": [
            "     41/200      6.28G      1.148     0.7551     0.8858         34        800: 100%|██████████| 239/239 [02:20<00:00,  1.70it/s]\n",
            "                 Class     Images  Instances      Box(P          R      mAP50  mAP50-95): 100%|██████████| 44/44 [00:23<00:00,  1.86it/s]"
          ]
        },
        {
          "metadata": {
            "tags": null
          },
          "name": "stdout",
          "output_type": "stream",
          "text": [
            "                   all       1393       2085      0.614      0.617      0.668      0.438\n"
          ]
        },
        {
          "metadata": {
            "tags": null
          },
          "name": "stderr",
          "output_type": "stream",
          "text": [
            "\n"
          ]
        },
        {
          "metadata": {
            "tags": null
          },
          "name": "stdout",
          "output_type": "stream",
          "text": [
            "\n",
            "      Epoch    GPU_mem   box_loss   cls_loss   dfl_loss  Instances       Size\n"
          ]
        },
        {
          "metadata": {
            "tags": null
          },
          "name": "stderr",
          "output_type": "stream",
          "text": [
            "     42/200      6.26G      1.152     0.7383     0.8832         29        800: 100%|██████████| 239/239 [02:20<00:00,  1.70it/s]\n",
            "                 Class     Images  Instances      Box(P          R      mAP50  mAP50-95): 100%|██████████| 44/44 [00:24<00:00,  1.78it/s]"
          ]
        },
        {
          "metadata": {
            "tags": null
          },
          "name": "stdout",
          "output_type": "stream",
          "text": [
            "                   all       1393       2085      0.637      0.595      0.656        0.4\n"
          ]
        },
        {
          "metadata": {
            "tags": null
          },
          "name": "stderr",
          "output_type": "stream",
          "text": [
            "\n"
          ]
        },
        {
          "metadata": {
            "tags": null
          },
          "name": "stdout",
          "output_type": "stream",
          "text": [
            "\n",
            "      Epoch    GPU_mem   box_loss   cls_loss   dfl_loss  Instances       Size\n"
          ]
        },
        {
          "metadata": {
            "tags": null
          },
          "name": "stderr",
          "output_type": "stream",
          "text": [
            "     43/200      6.24G      1.155     0.7383     0.8837         32        800: 100%|██████████| 239/239 [02:19<00:00,  1.71it/s]\n",
            "                 Class     Images  Instances      Box(P          R      mAP50  mAP50-95): 100%|██████████| 44/44 [00:25<00:00,  1.71it/s]"
          ]
        },
        {
          "metadata": {
            "tags": null
          },
          "name": "stdout",
          "output_type": "stream",
          "text": [
            "                   all       1393       2085       0.59      0.663      0.685      0.438\n"
          ]
        },
        {
          "metadata": {
            "tags": null
          },
          "name": "stderr",
          "output_type": "stream",
          "text": [
            "\n"
          ]
        },
        {
          "metadata": {
            "tags": null
          },
          "name": "stdout",
          "output_type": "stream",
          "text": [
            "\n",
            "      Epoch    GPU_mem   box_loss   cls_loss   dfl_loss  Instances       Size\n"
          ]
        },
        {
          "metadata": {
            "tags": null
          },
          "name": "stderr",
          "output_type": "stream",
          "text": [
            "     44/200      6.25G      1.144     0.7367     0.8822         40        800: 100%|██████████| 239/239 [02:18<00:00,  1.72it/s]\n",
            "                 Class     Images  Instances      Box(P          R      mAP50  mAP50-95): 100%|██████████| 44/44 [00:26<00:00,  1.68it/s]"
          ]
        },
        {
          "metadata": {
            "tags": null
          },
          "name": "stdout",
          "output_type": "stream",
          "text": [
            "                   all       1393       2085      0.742      0.574      0.697      0.456\n"
          ]
        },
        {
          "metadata": {
            "tags": null
          },
          "name": "stderr",
          "output_type": "stream",
          "text": [
            "\n"
          ]
        },
        {
          "metadata": {
            "tags": null
          },
          "name": "stdout",
          "output_type": "stream",
          "text": [
            "\n",
            "      Epoch    GPU_mem   box_loss   cls_loss   dfl_loss  Instances       Size\n"
          ]
        },
        {
          "metadata": {
            "tags": null
          },
          "name": "stderr",
          "output_type": "stream",
          "text": [
            "     45/200      6.26G      1.132     0.7248     0.8824         24        800: 100%|██████████| 239/239 [02:17<00:00,  1.74it/s]\n",
            "                 Class     Images  Instances      Box(P          R      mAP50  mAP50-95): 100%|██████████| 44/44 [00:26<00:00,  1.66it/s]"
          ]
        },
        {
          "metadata": {
            "tags": null
          },
          "name": "stdout",
          "output_type": "stream",
          "text": [
            "                   all       1393       2085      0.578      0.642      0.684      0.422\n"
          ]
        },
        {
          "metadata": {
            "tags": null
          },
          "name": "stderr",
          "output_type": "stream",
          "text": [
            "\n"
          ]
        },
        {
          "metadata": {
            "tags": null
          },
          "name": "stdout",
          "output_type": "stream",
          "text": [
            "\n",
            "      Epoch    GPU_mem   box_loss   cls_loss   dfl_loss  Instances       Size\n"
          ]
        },
        {
          "metadata": {
            "tags": null
          },
          "name": "stderr",
          "output_type": "stream",
          "text": [
            "     46/200      6.26G      1.136     0.7176     0.8797         26        800: 100%|██████████| 239/239 [02:16<00:00,  1.75it/s]\n",
            "                 Class     Images  Instances      Box(P          R      mAP50  mAP50-95): 100%|██████████| 44/44 [00:24<00:00,  1.76it/s]"
          ]
        },
        {
          "metadata": {
            "tags": null
          },
          "name": "stdout",
          "output_type": "stream",
          "text": [
            "                   all       1393       2085      0.742      0.587      0.677      0.421\n"
          ]
        },
        {
          "metadata": {
            "tags": null
          },
          "name": "stderr",
          "output_type": "stream",
          "text": [
            "\n"
          ]
        },
        {
          "metadata": {
            "tags": null
          },
          "name": "stdout",
          "output_type": "stream",
          "text": [
            "\n",
            "      Epoch    GPU_mem   box_loss   cls_loss   dfl_loss  Instances       Size\n"
          ]
        },
        {
          "metadata": {
            "tags": null
          },
          "name": "stderr",
          "output_type": "stream",
          "text": [
            "     47/200      6.24G       1.14     0.7116     0.8796         36        800: 100%|██████████| 239/239 [02:15<00:00,  1.76it/s]\n",
            "                 Class     Images  Instances      Box(P          R      mAP50  mAP50-95): 100%|██████████| 44/44 [00:22<00:00,  1.92it/s]"
          ]
        },
        {
          "metadata": {
            "tags": null
          },
          "name": "stdout",
          "output_type": "stream",
          "text": [
            "                   all       1393       2085      0.625      0.642      0.686       0.43\n"
          ]
        },
        {
          "metadata": {
            "tags": null
          },
          "name": "stderr",
          "output_type": "stream",
          "text": [
            "\n"
          ]
        },
        {
          "metadata": {
            "tags": null
          },
          "name": "stdout",
          "output_type": "stream",
          "text": [
            "\n",
            "      Epoch    GPU_mem   box_loss   cls_loss   dfl_loss  Instances       Size\n"
          ]
        },
        {
          "metadata": {
            "tags": null
          },
          "name": "stderr",
          "output_type": "stream",
          "text": [
            "     48/200      6.25G      1.135     0.7105     0.8759         37        800: 100%|██████████| 239/239 [02:15<00:00,  1.76it/s]\n",
            "                 Class     Images  Instances      Box(P          R      mAP50  mAP50-95): 100%|██████████| 44/44 [00:22<00:00,  1.95it/s]"
          ]
        },
        {
          "metadata": {
            "tags": null
          },
          "name": "stdout",
          "output_type": "stream",
          "text": [
            "                   all       1393       2085      0.582      0.666      0.663      0.422\n"
          ]
        },
        {
          "metadata": {
            "tags": null
          },
          "name": "stderr",
          "output_type": "stream",
          "text": [
            "\n"
          ]
        },
        {
          "metadata": {
            "tags": null
          },
          "name": "stdout",
          "output_type": "stream",
          "text": [
            "\n",
            "      Epoch    GPU_mem   box_loss   cls_loss   dfl_loss  Instances       Size\n"
          ]
        },
        {
          "metadata": {
            "tags": null
          },
          "name": "stderr",
          "output_type": "stream",
          "text": [
            "     49/200      6.27G      1.127     0.7002      0.878         22        800: 100%|██████████| 239/239 [02:15<00:00,  1.77it/s]\n",
            "                 Class     Images  Instances      Box(P          R      mAP50  mAP50-95): 100%|██████████| 44/44 [00:23<00:00,  1.86it/s]"
          ]
        },
        {
          "metadata": {
            "tags": null
          },
          "name": "stdout",
          "output_type": "stream",
          "text": [
            "                   all       1393       2085      0.657      0.621      0.687      0.433\n"
          ]
        },
        {
          "metadata": {
            "tags": null
          },
          "name": "stderr",
          "output_type": "stream",
          "text": [
            "\n"
          ]
        },
        {
          "metadata": {
            "tags": null
          },
          "name": "stdout",
          "output_type": "stream",
          "text": [
            "\n",
            "      Epoch    GPU_mem   box_loss   cls_loss   dfl_loss  Instances       Size\n"
          ]
        },
        {
          "metadata": {
            "tags": null
          },
          "name": "stderr",
          "output_type": "stream",
          "text": [
            "     50/200      6.29G      1.138     0.7111     0.8807         38        800: 100%|██████████| 239/239 [02:13<00:00,  1.79it/s]\n",
            "                 Class     Images  Instances      Box(P          R      mAP50  mAP50-95): 100%|██████████| 44/44 [00:25<00:00,  1.72it/s]"
          ]
        },
        {
          "metadata": {
            "tags": null
          },
          "name": "stdout",
          "output_type": "stream",
          "text": [
            "                   all       1393       2085      0.667      0.618      0.702      0.452\n"
          ]
        },
        {
          "metadata": {
            "tags": null
          },
          "name": "stderr",
          "output_type": "stream",
          "text": [
            "\n"
          ]
        },
        {
          "metadata": {
            "tags": null
          },
          "name": "stdout",
          "output_type": "stream",
          "text": [
            "\n",
            "      Epoch    GPU_mem   box_loss   cls_loss   dfl_loss  Instances       Size\n"
          ]
        },
        {
          "metadata": {
            "tags": null
          },
          "name": "stderr",
          "output_type": "stream",
          "text": [
            "     51/200      6.22G      1.123     0.6993     0.8786         26        800: 100%|██████████| 239/239 [02:15<00:00,  1.77it/s]\n",
            "                 Class     Images  Instances      Box(P          R      mAP50  mAP50-95): 100%|██████████| 44/44 [00:23<00:00,  1.89it/s]"
          ]
        },
        {
          "metadata": {
            "tags": null
          },
          "name": "stdout",
          "output_type": "stream",
          "text": [
            "                   all       1393       2085      0.547      0.651      0.685      0.425\n"
          ]
        },
        {
          "metadata": {
            "tags": null
          },
          "name": "stderr",
          "output_type": "stream",
          "text": [
            "\n"
          ]
        },
        {
          "metadata": {
            "tags": null
          },
          "name": "stdout",
          "output_type": "stream",
          "text": [
            "\n",
            "      Epoch    GPU_mem   box_loss   cls_loss   dfl_loss  Instances       Size\n"
          ]
        },
        {
          "metadata": {
            "tags": null
          },
          "name": "stderr",
          "output_type": "stream",
          "text": [
            "     52/200      6.27G      1.122     0.7009      0.879         42        800: 100%|██████████| 239/239 [02:17<00:00,  1.74it/s]\n",
            "                 Class     Images  Instances      Box(P          R      mAP50  mAP50-95): 100%|██████████| 44/44 [00:22<00:00,  1.98it/s]"
          ]
        },
        {
          "metadata": {
            "tags": null
          },
          "name": "stdout",
          "output_type": "stream",
          "text": [
            "                   all       1393       2085      0.594      0.707      0.686      0.429\n"
          ]
        },
        {
          "metadata": {
            "tags": null
          },
          "name": "stderr",
          "output_type": "stream",
          "text": [
            "\n"
          ]
        },
        {
          "metadata": {
            "tags": null
          },
          "name": "stdout",
          "output_type": "stream",
          "text": [
            "\n",
            "      Epoch    GPU_mem   box_loss   cls_loss   dfl_loss  Instances       Size\n"
          ]
        },
        {
          "metadata": {
            "tags": null
          },
          "name": "stderr",
          "output_type": "stream",
          "text": [
            "     53/200      6.27G      1.128     0.7061     0.8804         29        800: 100%|██████████| 239/239 [02:17<00:00,  1.74it/s]\n",
            "                 Class     Images  Instances      Box(P          R      mAP50  mAP50-95): 100%|██████████| 44/44 [00:23<00:00,  1.90it/s]"
          ]
        },
        {
          "metadata": {
            "tags": null
          },
          "name": "stdout",
          "output_type": "stream",
          "text": [
            "                   all       1393       2085      0.737      0.628      0.682      0.423\n"
          ]
        },
        {
          "metadata": {
            "tags": null
          },
          "name": "stderr",
          "output_type": "stream",
          "text": [
            "\n"
          ]
        },
        {
          "metadata": {
            "tags": null
          },
          "name": "stdout",
          "output_type": "stream",
          "text": [
            "\n",
            "      Epoch    GPU_mem   box_loss   cls_loss   dfl_loss  Instances       Size\n"
          ]
        },
        {
          "metadata": {
            "tags": null
          },
          "name": "stderr",
          "output_type": "stream",
          "text": [
            "     54/200      6.26G      1.111     0.6898     0.8745         38        800: 100%|██████████| 239/239 [02:17<00:00,  1.74it/s]\n",
            "                 Class     Images  Instances      Box(P          R      mAP50  mAP50-95): 100%|██████████| 44/44 [00:24<00:00,  1.76it/s]"
          ]
        },
        {
          "metadata": {
            "tags": null
          },
          "name": "stdout",
          "output_type": "stream",
          "text": [
            "                   all       1393       2085       0.66      0.643      0.703      0.447\n"
          ]
        },
        {
          "metadata": {
            "tags": null
          },
          "name": "stderr",
          "output_type": "stream",
          "text": [
            "\n"
          ]
        },
        {
          "metadata": {
            "tags": null
          },
          "name": "stdout",
          "output_type": "stream",
          "text": [
            "\n",
            "      Epoch    GPU_mem   box_loss   cls_loss   dfl_loss  Instances       Size\n"
          ]
        },
        {
          "metadata": {
            "tags": null
          },
          "name": "stderr",
          "output_type": "stream",
          "text": [
            "     55/200      6.25G       1.12     0.6957     0.8779         29        800: 100%|██████████| 239/239 [02:18<00:00,  1.72it/s]\n",
            "                 Class     Images  Instances      Box(P          R      mAP50  mAP50-95): 100%|██████████| 44/44 [00:24<00:00,  1.78it/s]"
          ]
        },
        {
          "metadata": {
            "tags": null
          },
          "name": "stdout",
          "output_type": "stream",
          "text": [
            "                   all       1393       2085      0.587       0.66        0.7      0.435\n"
          ]
        },
        {
          "metadata": {
            "tags": null
          },
          "name": "stderr",
          "output_type": "stream",
          "text": [
            "\n"
          ]
        },
        {
          "metadata": {
            "tags": null
          },
          "name": "stdout",
          "output_type": "stream",
          "text": [
            "\n",
            "      Epoch    GPU_mem   box_loss   cls_loss   dfl_loss  Instances       Size\n"
          ]
        },
        {
          "metadata": {
            "tags": null
          },
          "name": "stderr",
          "output_type": "stream",
          "text": [
            "     56/200      6.27G      1.109     0.6853     0.8768         41        800: 100%|██████████| 239/239 [02:17<00:00,  1.74it/s]\n",
            "                 Class     Images  Instances      Box(P          R      mAP50  mAP50-95): 100%|██████████| 44/44 [00:24<00:00,  1.79it/s]"
          ]
        },
        {
          "metadata": {
            "tags": null
          },
          "name": "stdout",
          "output_type": "stream",
          "text": [
            "                   all       1393       2085      0.606      0.649      0.683      0.428\n"
          ]
        },
        {
          "metadata": {
            "tags": null
          },
          "name": "stderr",
          "output_type": "stream",
          "text": [
            "\n"
          ]
        },
        {
          "metadata": {
            "tags": null
          },
          "name": "stdout",
          "output_type": "stream",
          "text": [
            "\n",
            "      Epoch    GPU_mem   box_loss   cls_loss   dfl_loss  Instances       Size\n"
          ]
        },
        {
          "metadata": {
            "tags": null
          },
          "name": "stderr",
          "output_type": "stream",
          "text": [
            "     57/200      6.28G       1.11     0.6818     0.8745         42        800: 100%|██████████| 239/239 [02:16<00:00,  1.75it/s]\n",
            "                 Class     Images  Instances      Box(P          R      mAP50  mAP50-95): 100%|██████████| 44/44 [00:23<00:00,  1.86it/s]"
          ]
        },
        {
          "metadata": {
            "tags": null
          },
          "name": "stdout",
          "output_type": "stream",
          "text": [
            "                   all       1393       2085      0.671      0.602      0.703      0.451\n"
          ]
        },
        {
          "metadata": {
            "tags": null
          },
          "name": "stderr",
          "output_type": "stream",
          "text": [
            "\n"
          ]
        },
        {
          "metadata": {
            "tags": null
          },
          "name": "stdout",
          "output_type": "stream",
          "text": [
            "\n",
            "      Epoch    GPU_mem   box_loss   cls_loss   dfl_loss  Instances       Size\n"
          ]
        },
        {
          "metadata": {
            "tags": null
          },
          "name": "stderr",
          "output_type": "stream",
          "text": [
            "     58/200      6.28G      1.099     0.6735     0.8773         23        800: 100%|██████████| 239/239 [02:11<00:00,  1.81it/s]\n",
            "                 Class     Images  Instances      Box(P          R      mAP50  mAP50-95): 100%|██████████| 44/44 [00:24<00:00,  1.78it/s]"
          ]
        },
        {
          "metadata": {
            "tags": null
          },
          "name": "stdout",
          "output_type": "stream",
          "text": [
            "                   all       1393       2085       0.57      0.682      0.687      0.439\n"
          ]
        },
        {
          "metadata": {
            "tags": null
          },
          "name": "stderr",
          "output_type": "stream",
          "text": [
            "\n"
          ]
        },
        {
          "metadata": {
            "tags": null
          },
          "name": "stdout",
          "output_type": "stream",
          "text": [
            "\n",
            "      Epoch    GPU_mem   box_loss   cls_loss   dfl_loss  Instances       Size\n"
          ]
        },
        {
          "metadata": {
            "tags": null
          },
          "name": "stderr",
          "output_type": "stream",
          "text": [
            "     59/200       6.5G      1.112     0.6806     0.8743         30        800: 100%|██████████| 239/239 [02:12<00:00,  1.81it/s]\n",
            "                 Class     Images  Instances      Box(P          R      mAP50  mAP50-95): 100%|██████████| 44/44 [00:23<00:00,  1.85it/s]"
          ]
        },
        {
          "metadata": {
            "tags": null
          },
          "name": "stdout",
          "output_type": "stream",
          "text": [
            "                   all       1393       2085      0.615      0.697       0.72      0.448\n"
          ]
        },
        {
          "metadata": {
            "tags": null
          },
          "name": "stderr",
          "output_type": "stream",
          "text": [
            "\n"
          ]
        },
        {
          "metadata": {
            "tags": null
          },
          "name": "stdout",
          "output_type": "stream",
          "text": [
            "\n",
            "      Epoch    GPU_mem   box_loss   cls_loss   dfl_loss  Instances       Size\n"
          ]
        },
        {
          "metadata": {
            "tags": null
          },
          "name": "stderr",
          "output_type": "stream",
          "text": [
            "     60/200      6.26G       1.11     0.6803     0.8749         49        800: 100%|██████████| 239/239 [02:13<00:00,  1.79it/s]\n",
            "                 Class     Images  Instances      Box(P          R      mAP50  mAP50-95): 100%|██████████| 44/44 [00:23<00:00,  1.90it/s]"
          ]
        },
        {
          "metadata": {
            "tags": null
          },
          "name": "stdout",
          "output_type": "stream",
          "text": [
            "                   all       1393       2085      0.549      0.709      0.683      0.437\n"
          ]
        },
        {
          "metadata": {
            "tags": null
          },
          "name": "stderr",
          "output_type": "stream",
          "text": [
            "\n"
          ]
        },
        {
          "metadata": {
            "tags": null
          },
          "name": "stdout",
          "output_type": "stream",
          "text": [
            "\n",
            "      Epoch    GPU_mem   box_loss   cls_loss   dfl_loss  Instances       Size\n"
          ]
        },
        {
          "metadata": {
            "tags": null
          },
          "name": "stderr",
          "output_type": "stream",
          "text": [
            "     61/200      6.28G        1.1     0.6712     0.8743         18        800: 100%|██████████| 239/239 [02:19<00:00,  1.71it/s]\n",
            "                 Class     Images  Instances      Box(P          R      mAP50  mAP50-95): 100%|██████████| 44/44 [00:22<00:00,  1.92it/s]"
          ]
        },
        {
          "metadata": {
            "tags": null
          },
          "name": "stdout",
          "output_type": "stream",
          "text": [
            "                   all       1393       2085      0.595        0.7      0.705      0.434\n"
          ]
        },
        {
          "metadata": {
            "tags": null
          },
          "name": "stderr",
          "output_type": "stream",
          "text": [
            "\n"
          ]
        },
        {
          "metadata": {
            "tags": null
          },
          "name": "stdout",
          "output_type": "stream",
          "text": [
            "\n",
            "      Epoch    GPU_mem   box_loss   cls_loss   dfl_loss  Instances       Size\n"
          ]
        },
        {
          "metadata": {
            "tags": null
          },
          "name": "stderr",
          "output_type": "stream",
          "text": [
            "     62/200      6.29G      1.097     0.6723     0.8745         33        800: 100%|██████████| 239/239 [02:18<00:00,  1.73it/s]\n",
            "                 Class     Images  Instances      Box(P          R      mAP50  mAP50-95): 100%|██████████| 44/44 [00:23<00:00,  1.90it/s]"
          ]
        },
        {
          "metadata": {
            "tags": null
          },
          "name": "stdout",
          "output_type": "stream",
          "text": [
            "                   all       1393       2085       0.68      0.629       0.71       0.45\n"
          ]
        },
        {
          "metadata": {
            "tags": null
          },
          "name": "stderr",
          "output_type": "stream",
          "text": [
            "\n"
          ]
        },
        {
          "metadata": {
            "tags": null
          },
          "name": "stdout",
          "output_type": "stream",
          "text": [
            "\n",
            "      Epoch    GPU_mem   box_loss   cls_loss   dfl_loss  Instances       Size\n"
          ]
        },
        {
          "metadata": {
            "tags": null
          },
          "name": "stderr",
          "output_type": "stream",
          "text": [
            "     63/200      6.24G      1.101     0.6778     0.8763         36        800: 100%|██████████| 239/239 [02:14<00:00,  1.78it/s]\n",
            "                 Class     Images  Instances      Box(P          R      mAP50  mAP50-95): 100%|██████████| 44/44 [00:25<00:00,  1.75it/s]"
          ]
        },
        {
          "metadata": {
            "tags": null
          },
          "name": "stdout",
          "output_type": "stream",
          "text": [
            "                   all       1393       2085       0.61      0.717      0.712      0.454\n"
          ]
        },
        {
          "metadata": {
            "tags": null
          },
          "name": "stderr",
          "output_type": "stream",
          "text": [
            "\n"
          ]
        },
        {
          "metadata": {
            "tags": null
          },
          "name": "stdout",
          "output_type": "stream",
          "text": [
            "\n",
            "      Epoch    GPU_mem   box_loss   cls_loss   dfl_loss  Instances       Size\n"
          ]
        },
        {
          "metadata": {
            "tags": null
          },
          "name": "stderr",
          "output_type": "stream",
          "text": [
            "     64/200      6.25G      1.086     0.6633     0.8674         35        800: 100%|██████████| 239/239 [02:13<00:00,  1.79it/s]\n",
            "                 Class     Images  Instances      Box(P          R      mAP50  mAP50-95): 100%|██████████| 44/44 [00:23<00:00,  1.84it/s]"
          ]
        },
        {
          "metadata": {
            "tags": null
          },
          "name": "stdout",
          "output_type": "stream",
          "text": [
            "                   all       1393       2085      0.669      0.673      0.707      0.449\n"
          ]
        },
        {
          "metadata": {
            "tags": null
          },
          "name": "stderr",
          "output_type": "stream",
          "text": [
            "\n"
          ]
        },
        {
          "metadata": {
            "tags": null
          },
          "name": "stdout",
          "output_type": "stream",
          "text": [
            "\n",
            "      Epoch    GPU_mem   box_loss   cls_loss   dfl_loss  Instances       Size\n"
          ]
        },
        {
          "metadata": {
            "tags": null
          },
          "name": "stderr",
          "output_type": "stream",
          "text": [
            "     65/200      6.25G      1.097     0.6728       0.87         41        800: 100%|██████████| 239/239 [02:14<00:00,  1.78it/s]\n",
            "                 Class     Images  Instances      Box(P          R      mAP50  mAP50-95): 100%|██████████| 44/44 [00:22<00:00,  1.92it/s]"
          ]
        },
        {
          "metadata": {
            "tags": null
          },
          "name": "stdout",
          "output_type": "stream",
          "text": [
            "                   all       1393       2085      0.549      0.701      0.684      0.431\n"
          ]
        },
        {
          "metadata": {
            "tags": null
          },
          "name": "stderr",
          "output_type": "stream",
          "text": [
            "\n"
          ]
        },
        {
          "metadata": {
            "tags": null
          },
          "name": "stdout",
          "output_type": "stream",
          "text": [
            "\n",
            "      Epoch    GPU_mem   box_loss   cls_loss   dfl_loss  Instances       Size\n"
          ]
        },
        {
          "metadata": {
            "tags": null
          },
          "name": "stderr",
          "output_type": "stream",
          "text": [
            "     66/200      6.26G      1.095     0.6665     0.8702         31        800: 100%|██████████| 239/239 [02:17<00:00,  1.73it/s]\n",
            "                 Class     Images  Instances      Box(P          R      mAP50  mAP50-95): 100%|██████████| 44/44 [00:22<00:00,  1.93it/s]"
          ]
        },
        {
          "metadata": {
            "tags": null
          },
          "name": "stdout",
          "output_type": "stream",
          "text": [
            "                   all       1393       2085      0.736      0.665      0.693      0.446\n"
          ]
        },
        {
          "metadata": {
            "tags": null
          },
          "name": "stderr",
          "output_type": "stream",
          "text": [
            "\n"
          ]
        },
        {
          "metadata": {
            "tags": null
          },
          "name": "stdout",
          "output_type": "stream",
          "text": [
            "\n",
            "      Epoch    GPU_mem   box_loss   cls_loss   dfl_loss  Instances       Size\n"
          ]
        },
        {
          "output_type": "stream",
          "name": "stderr",
          "text": [
            "     67/200      6.25G      1.079     0.6599      0.871         46        800: 100%|██████████| 239/239 [02:17<00:00,  1.74it/s]\n",
            "                 Class     Images  Instances      Box(P          R      mAP50  mAP50-95): 100%|██████████| 44/44 [00:24<00:00,  1.80it/s]"
          ]
        },
        {
          "output_type": "stream",
          "name": "stdout",
          "text": [
            "                   all       1393       2085      0.643       0.66      0.683      0.429\n"
          ]
        },
        {
          "output_type": "stream",
          "name": "stderr",
          "text": [
            "\n"
          ]
        },
        {
          "output_type": "stream",
          "name": "stdout",
          "text": [
            "\n",
            "      Epoch    GPU_mem   box_loss   cls_loss   dfl_loss  Instances       Size\n"
          ]
        },
        {
          "output_type": "stream",
          "name": "stderr",
          "text": [
            "     68/200      6.25G      1.084     0.6723     0.8796         33        800:  14%|█▍        | 34/239 [00:19<01:56,  1.77it/s]\n"
          ]
        },
        {
          "output_type": "error",
          "ename": "KeyboardInterrupt",
          "evalue": "",
          "traceback": [
            "\u001b[0;31m---------------------------------------------------------------------------\u001b[0m",
            "\u001b[0;31mKeyboardInterrupt\u001b[0m                         Traceback (most recent call last)",
            "\u001b[0;32m<ipython-input-5-27ac218d86f6>\u001b[0m in \u001b[0;36m<cell line: 6>\u001b[0;34m()\u001b[0m\n\u001b[1;32m      4\u001b[0m \u001b[0mmodel\u001b[0m \u001b[0;34m=\u001b[0m \u001b[0mYOLO\u001b[0m\u001b[0;34m(\u001b[0m\u001b[0;34m'yolov5s.pt'\u001b[0m\u001b[0;34m)\u001b[0m\u001b[0;34m\u001b[0m\u001b[0;34m\u001b[0m\u001b[0m\n\u001b[1;32m      5\u001b[0m \u001b[0;34m\u001b[0m\u001b[0m\n\u001b[0;32m----> 6\u001b[0;31m model.train(\n\u001b[0m\u001b[1;32m      7\u001b[0m     \u001b[0mdata\u001b[0m\u001b[0;34m=\u001b[0m\u001b[0;34m'/content/OIVIS_Lab_3/data.yaml'\u001b[0m\u001b[0;34m,\u001b[0m     \u001b[0;31m# Путь к конфигурации датасета\u001b[0m\u001b[0;34m\u001b[0m\u001b[0;34m\u001b[0m\u001b[0m\n\u001b[1;32m      8\u001b[0m     \u001b[0mepochs\u001b[0m\u001b[0;34m=\u001b[0m\u001b[0;36m200\u001b[0m\u001b[0;34m,\u001b[0m                       \u001b[0;31m# Количество эпох\u001b[0m\u001b[0;34m\u001b[0m\u001b[0;34m\u001b[0m\u001b[0m\n",
            "\u001b[0;32m/usr/local/lib/python3.10/dist-packages/ultralytics/engine/model.py\u001b[0m in \u001b[0;36mtrain\u001b[0;34m(self, trainer, **kwargs)\u001b[0m\n\u001b[1;32m    804\u001b[0m \u001b[0;34m\u001b[0m\u001b[0m\n\u001b[1;32m    805\u001b[0m         \u001b[0mself\u001b[0m\u001b[0;34m.\u001b[0m\u001b[0mtrainer\u001b[0m\u001b[0;34m.\u001b[0m\u001b[0mhub_session\u001b[0m \u001b[0;34m=\u001b[0m \u001b[0mself\u001b[0m\u001b[0;34m.\u001b[0m\u001b[0msession\u001b[0m  \u001b[0;31m# attach optional HUB session\u001b[0m\u001b[0;34m\u001b[0m\u001b[0;34m\u001b[0m\u001b[0m\n\u001b[0;32m--> 806\u001b[0;31m         \u001b[0mself\u001b[0m\u001b[0;34m.\u001b[0m\u001b[0mtrainer\u001b[0m\u001b[0;34m.\u001b[0m\u001b[0mtrain\u001b[0m\u001b[0;34m(\u001b[0m\u001b[0;34m)\u001b[0m\u001b[0;34m\u001b[0m\u001b[0;34m\u001b[0m\u001b[0m\n\u001b[0m\u001b[1;32m    807\u001b[0m         \u001b[0;31m# Update model and cfg after training\u001b[0m\u001b[0;34m\u001b[0m\u001b[0;34m\u001b[0m\u001b[0m\n\u001b[1;32m    808\u001b[0m         \u001b[0;32mif\u001b[0m \u001b[0mRANK\u001b[0m \u001b[0;32min\u001b[0m \u001b[0;34m{\u001b[0m\u001b[0;34m-\u001b[0m\u001b[0;36m1\u001b[0m\u001b[0;34m,\u001b[0m \u001b[0;36m0\u001b[0m\u001b[0;34m}\u001b[0m\u001b[0;34m:\u001b[0m\u001b[0;34m\u001b[0m\u001b[0;34m\u001b[0m\u001b[0m\n",
            "\u001b[0;32m/usr/local/lib/python3.10/dist-packages/ultralytics/engine/trainer.py\u001b[0m in \u001b[0;36mtrain\u001b[0;34m(self)\u001b[0m\n\u001b[1;32m    205\u001b[0m \u001b[0;34m\u001b[0m\u001b[0m\n\u001b[1;32m    206\u001b[0m         \u001b[0;32melse\u001b[0m\u001b[0;34m:\u001b[0m\u001b[0;34m\u001b[0m\u001b[0;34m\u001b[0m\u001b[0m\n\u001b[0;32m--> 207\u001b[0;31m             \u001b[0mself\u001b[0m\u001b[0;34m.\u001b[0m\u001b[0m_do_train\u001b[0m\u001b[0;34m(\u001b[0m\u001b[0mworld_size\u001b[0m\u001b[0;34m)\u001b[0m\u001b[0;34m\u001b[0m\u001b[0;34m\u001b[0m\u001b[0m\n\u001b[0m\u001b[1;32m    208\u001b[0m \u001b[0;34m\u001b[0m\u001b[0m\n\u001b[1;32m    209\u001b[0m     \u001b[0;32mdef\u001b[0m \u001b[0m_setup_scheduler\u001b[0m\u001b[0;34m(\u001b[0m\u001b[0mself\u001b[0m\u001b[0;34m)\u001b[0m\u001b[0;34m:\u001b[0m\u001b[0;34m\u001b[0m\u001b[0;34m\u001b[0m\u001b[0m\n",
            "\u001b[0;32m/usr/local/lib/python3.10/dist-packages/ultralytics/engine/trainer.py\u001b[0m in \u001b[0;36m_do_train\u001b[0;34m(self, world_size)\u001b[0m\n\u001b[1;32m    386\u001b[0m \u001b[0;34m\u001b[0m\u001b[0m\n\u001b[1;32m    387\u001b[0m                 \u001b[0;31m# Backward\u001b[0m\u001b[0;34m\u001b[0m\u001b[0;34m\u001b[0m\u001b[0m\n\u001b[0;32m--> 388\u001b[0;31m                 \u001b[0mself\u001b[0m\u001b[0;34m.\u001b[0m\u001b[0mscaler\u001b[0m\u001b[0;34m.\u001b[0m\u001b[0mscale\u001b[0m\u001b[0;34m(\u001b[0m\u001b[0mself\u001b[0m\u001b[0;34m.\u001b[0m\u001b[0mloss\u001b[0m\u001b[0;34m)\u001b[0m\u001b[0;34m.\u001b[0m\u001b[0mbackward\u001b[0m\u001b[0;34m(\u001b[0m\u001b[0;34m)\u001b[0m\u001b[0;34m\u001b[0m\u001b[0;34m\u001b[0m\u001b[0m\n\u001b[0m\u001b[1;32m    389\u001b[0m \u001b[0;34m\u001b[0m\u001b[0m\n\u001b[1;32m    390\u001b[0m                 \u001b[0;31m# Optimize - https://pytorch.org/docs/master/notes/amp_examples.html\u001b[0m\u001b[0;34m\u001b[0m\u001b[0;34m\u001b[0m\u001b[0m\n",
            "\u001b[0;32m/usr/local/lib/python3.10/dist-packages/torch/_tensor.py\u001b[0m in \u001b[0;36mbackward\u001b[0;34m(self, gradient, retain_graph, create_graph, inputs)\u001b[0m\n\u001b[1;32m    579\u001b[0m                 \u001b[0minputs\u001b[0m\u001b[0;34m=\u001b[0m\u001b[0minputs\u001b[0m\u001b[0;34m,\u001b[0m\u001b[0;34m\u001b[0m\u001b[0;34m\u001b[0m\u001b[0m\n\u001b[1;32m    580\u001b[0m             )\n\u001b[0;32m--> 581\u001b[0;31m         torch.autograd.backward(\n\u001b[0m\u001b[1;32m    582\u001b[0m             \u001b[0mself\u001b[0m\u001b[0;34m,\u001b[0m \u001b[0mgradient\u001b[0m\u001b[0;34m,\u001b[0m \u001b[0mretain_graph\u001b[0m\u001b[0;34m,\u001b[0m \u001b[0mcreate_graph\u001b[0m\u001b[0;34m,\u001b[0m \u001b[0minputs\u001b[0m\u001b[0;34m=\u001b[0m\u001b[0minputs\u001b[0m\u001b[0;34m\u001b[0m\u001b[0;34m\u001b[0m\u001b[0m\n\u001b[1;32m    583\u001b[0m         )\n",
            "\u001b[0;32m/usr/local/lib/python3.10/dist-packages/torch/autograd/__init__.py\u001b[0m in \u001b[0;36mbackward\u001b[0;34m(tensors, grad_tensors, retain_graph, create_graph, grad_variables, inputs)\u001b[0m\n\u001b[1;32m    345\u001b[0m     \u001b[0;31m# some Python versions print out the first line of a multi-line function\u001b[0m\u001b[0;34m\u001b[0m\u001b[0;34m\u001b[0m\u001b[0m\n\u001b[1;32m    346\u001b[0m     \u001b[0;31m# calls in the traceback and some print out the last line\u001b[0m\u001b[0;34m\u001b[0m\u001b[0;34m\u001b[0m\u001b[0m\n\u001b[0;32m--> 347\u001b[0;31m     _engine_run_backward(\n\u001b[0m\u001b[1;32m    348\u001b[0m         \u001b[0mtensors\u001b[0m\u001b[0;34m,\u001b[0m\u001b[0;34m\u001b[0m\u001b[0;34m\u001b[0m\u001b[0m\n\u001b[1;32m    349\u001b[0m         \u001b[0mgrad_tensors_\u001b[0m\u001b[0;34m,\u001b[0m\u001b[0;34m\u001b[0m\u001b[0;34m\u001b[0m\u001b[0m\n",
            "\u001b[0;32m/usr/local/lib/python3.10/dist-packages/torch/autograd/graph.py\u001b[0m in \u001b[0;36m_engine_run_backward\u001b[0;34m(t_outputs, *args, **kwargs)\u001b[0m\n\u001b[1;32m    823\u001b[0m         \u001b[0munregister_hooks\u001b[0m \u001b[0;34m=\u001b[0m \u001b[0m_register_logging_hooks_on_whole_graph\u001b[0m\u001b[0;34m(\u001b[0m\u001b[0mt_outputs\u001b[0m\u001b[0;34m)\u001b[0m\u001b[0;34m\u001b[0m\u001b[0;34m\u001b[0m\u001b[0m\n\u001b[1;32m    824\u001b[0m     \u001b[0;32mtry\u001b[0m\u001b[0;34m:\u001b[0m\u001b[0;34m\u001b[0m\u001b[0;34m\u001b[0m\u001b[0m\n\u001b[0;32m--> 825\u001b[0;31m         return Variable._execution_engine.run_backward(  # Calls into the C++ engine to run the backward pass\n\u001b[0m\u001b[1;32m    826\u001b[0m             \u001b[0mt_outputs\u001b[0m\u001b[0;34m,\u001b[0m \u001b[0;34m*\u001b[0m\u001b[0margs\u001b[0m\u001b[0;34m,\u001b[0m \u001b[0;34m**\u001b[0m\u001b[0mkwargs\u001b[0m\u001b[0;34m\u001b[0m\u001b[0;34m\u001b[0m\u001b[0m\n\u001b[1;32m    827\u001b[0m         )  # Calls into the C++ engine to run the backward pass\n",
            "\u001b[0;31mKeyboardInterrupt\u001b[0m: "
          ]
        }
      ],
      "source": [
        "from ultralytics import YOLO\n",
        "\n",
        "# model = YOLO('/content/drive/MyDrive/OIVIS_Lab_3/runs/yolov5s/weights/weights/last.pt')\n",
        "model = YOLO('yolov5s.pt')\n",
        "\n",
        "model.train(\n",
        "    data='/content/OIVIS_Lab_3/data.yaml',     # Путь к конфигурации датасета\n",
        "    epochs=200,                       # Количество эпох\n",
        "    imgsz=800,                        # Размер изображения\n",
        "    batch=16,                         # Размер батча\n",
        "    save_period=5,\n",
        "    verbose=True,\n",
        "    plots=True,\n",
        "    project='/content/drive/MyDrive/OIVIS_Lab_3/runs/yolov5s',  # Путь к директории для сохранения\n",
        "    name='weights',                   # Название папки для весов\n",
        "    resume=False                       # Продолжить обучение с последней точки\n",
        ")"
      ]
    },
    {
      "cell_type": "code",
      "execution_count": 6,
      "metadata": {
        "id": "bNL7_GlbN6iI",
        "colab": {
          "base_uri": "https://localhost:8080/",
          "height": 1000
        },
        "collapsed": true,
        "outputId": "1e5628e0-2de4-409f-903a-f2c840ffe661"
      },
      "outputs": [
        {
          "output_type": "stream",
          "name": "stdout",
          "text": [
            "Ultralytics 8.3.49 🚀 Python-3.10.12 torch-2.5.1+cu121 CUDA:0 (Tesla T4, 15102MiB)\n",
            "YOLOv5s summary (fused): 193 layers, 9,121,598 parameters, 0 gradients, 23.9 GFLOPs\n"
          ]
        },
        {
          "output_type": "stream",
          "name": "stderr",
          "text": [
            "\u001b[34m\u001b[1mval: \u001b[0mScanning /content/OIVIS_Lab_3/test/labels.cache... 1393 images, 0 backgrounds, 0 corrupt: 100%|██████████| 1393/1393 [00:00<?, ?it/s]\n",
            "                 Class     Images  Instances      Box(P          R      mAP50  mAP50-95): 100%|██████████| 88/88 [00:29<00:00,  3.02it/s]\n"
          ]
        },
        {
          "output_type": "stream",
          "name": "stdout",
          "text": [
            "                   all       1393       2085      0.729      0.595      0.695      0.461\n",
            "                  5_14         15         15      0.869        0.4      0.756      0.497\n",
            "                5_15_1        136        140      0.605      0.879      0.837      0.543\n",
            "                5_15_2         98        293      0.828      0.901      0.927      0.651\n",
            "              5_15_2_2        137        149      0.821      0.866      0.902      0.666\n",
            "                5_15_3        227        233      0.899      0.897      0.949       0.65\n",
            "                5_15_5        137        154      0.842      0.948      0.957      0.621\n",
            "                5_15_7         53         53      0.895      0.162      0.728      0.587\n",
            "                5_19_1        536        861      0.861      0.954      0.954       0.63\n",
            "                  5_20         21         21      0.782      0.905      0.927      0.587\n",
            "                  5_21          2          2          1          0    0.00672    0.00134\n",
            "                   5_3          1          1      0.697          1      0.995      0.597\n",
            "                   5_5         21         21      0.741      0.952       0.89       0.55\n",
            "                   5_6          9          9       0.77      0.745      0.825      0.538\n",
            "                 5_7_1          9          9      0.767      0.736       0.85       0.48\n",
            "                 5_7_2          2          2          0          0     0.0989     0.0719\n",
            "               6_2_n20          8          8          0          0          0          0\n",
            "               6_2_n50          4          4      0.683       0.75      0.689      0.562\n",
            "               6_2_n70          1          1          1          0     0.0151    0.00754\n",
            "                 6_3_1         20         20      0.501       0.35      0.537      0.325\n",
            "                   6_4         50         50      0.827      0.767      0.844      0.557\n",
            "                   6_6         33         33      0.658      0.875      0.719      0.429\n",
            "                   6_7          6          6          1          0      0.887      0.582\n",
            "Speed: 0.4ms preprocess, 12.4ms inference, 0.0ms loss, 1.7ms postprocess per image\n",
            "Results saved to \u001b[1mruns/detect/val\u001b[0m\n",
            "Evaluation Results by Class:\n",
            "Class 0 (5_11):\n",
            "  Precision: 0.8690\n",
            "  Recall: 0.4000\n",
            "  mAP50: 0.7563\n",
            "  mAP50-95: 0.4968\n",
            "\n",
            "Class 1 (5_14):\n",
            "  Precision: 0.6055\n",
            "  Recall: 0.8786\n",
            "  mAP50: 0.8372\n",
            "  mAP50-95: 0.5427\n",
            "\n",
            "Class 2 (5_15_1):\n",
            "  Precision: 0.8276\n",
            "  Recall: 0.9013\n",
            "  mAP50: 0.9267\n",
            "  mAP50-95: 0.6510\n",
            "\n",
            "Class 3 (5_15_2):\n",
            "  Precision: 0.8206\n",
            "  Recall: 0.8658\n",
            "  mAP50: 0.9021\n",
            "  mAP50-95: 0.6657\n",
            "\n",
            "Class 4 (5_15_2_2):\n",
            "  Precision: 0.8991\n",
            "  Recall: 0.8970\n",
            "  mAP50: 0.9494\n",
            "  mAP50-95: 0.6505\n",
            "\n",
            "Class 5 (5_15_3):\n",
            "  Precision: 0.8424\n",
            "  Recall: 0.9481\n",
            "  mAP50: 0.9567\n",
            "  mAP50-95: 0.6213\n",
            "\n",
            "Class 6 (5_15_5):\n",
            "  Precision: 0.8955\n",
            "  Recall: 0.1621\n",
            "  mAP50: 0.7280\n",
            "  mAP50-95: 0.5872\n",
            "\n",
            "Class 7 (5_15_7):\n",
            "  Precision: 0.8615\n",
            "  Recall: 0.9535\n",
            "  mAP50: 0.9539\n",
            "  mAP50-95: 0.6305\n",
            "\n",
            "Class 8 (5_19_1):\n",
            "  Precision: 0.7824\n",
            "  Recall: 0.9048\n",
            "  mAP50: 0.9268\n",
            "  mAP50-95: 0.5872\n",
            "\n",
            "Class 9 (5_20):\n",
            "  Precision: 1.0000\n",
            "  Recall: 0.0000\n",
            "  mAP50: 0.0067\n",
            "  mAP50-95: 0.0013\n",
            "\n",
            "Class 10 (5_21):\n",
            "  Precision: 0.6975\n",
            "  Recall: 1.0000\n",
            "  mAP50: 0.9950\n",
            "  mAP50-95: 0.5970\n",
            "\n",
            "Class 11 (5_22):\n",
            "  Precision: 0.7414\n",
            "  Recall: 0.9524\n",
            "  mAP50: 0.8899\n",
            "  mAP50-95: 0.5502\n",
            "\n",
            "Class 12 (5_3):\n",
            "  Precision: 0.7695\n",
            "  Recall: 0.7447\n",
            "  mAP50: 0.8249\n",
            "  mAP50-95: 0.5375\n",
            "\n",
            "Class 13 (5_5):\n",
            "  Precision: 0.7674\n",
            "  Recall: 0.7362\n",
            "  mAP50: 0.8497\n",
            "  mAP50-95: 0.4795\n",
            "\n",
            "Class 14 (5_6):\n",
            "  Precision: 0.0000\n",
            "  Recall: 0.0000\n",
            "  mAP50: 0.0989\n",
            "  mAP50-95: 0.0719\n",
            "\n",
            "Class 15 (5_7_1):\n",
            "  Precision: 0.0000\n",
            "  Recall: 0.0000\n",
            "  mAP50: 0.0000\n",
            "  mAP50-95: 0.0000\n",
            "\n",
            "Class 16 (5_7_2):\n",
            "  Precision: 0.6825\n",
            "  Recall: 0.7500\n",
            "  mAP50: 0.6885\n",
            "  mAP50-95: 0.5621\n",
            "\n",
            "Class 17 (5_8):\n",
            "  Precision: 1.0000\n",
            "  Recall: 0.0000\n",
            "  mAP50: 0.0151\n",
            "  mAP50-95: 0.0075\n",
            "\n",
            "Class 18 (6_2_n20):\n",
            "  Precision: 0.5007\n",
            "  Recall: 0.3500\n",
            "  mAP50: 0.5373\n",
            "  mAP50-95: 0.3249\n",
            "\n",
            "Class 19 (6_2_n50):\n",
            "  Precision: 0.8273\n",
            "  Recall: 0.7665\n",
            "  mAP50: 0.8441\n",
            "  mAP50-95: 0.5570\n",
            "\n",
            "Class 20 (6_2_n60):\n",
            "  Precision: 0.6580\n",
            "  Recall: 0.8747\n",
            "  mAP50: 0.7194\n",
            "  mAP50-95: 0.4291\n",
            "\n",
            "Class 21 (6_2_n70):\n",
            "  Precision: 1.0000\n",
            "  Recall: 0.0000\n",
            "  mAP50: 0.8867\n",
            "  mAP50-95: 0.5825\n",
            "\n"
          ]
        },
        {
          "output_type": "error",
          "ename": "IndexError",
          "evalue": "index 22 is out of bounds for axis 0 with size 22",
          "traceback": [
            "\u001b[0;31m---------------------------------------------------------------------------\u001b[0m",
            "\u001b[0;31mIndexError\u001b[0m                                Traceback (most recent call last)",
            "\u001b[0;32m<ipython-input-6-249982948ff7>\u001b[0m in \u001b[0;36m<cell line: 6>\u001b[0;34m()\u001b[0m\n\u001b[1;32m      6\u001b[0m \u001b[0;32mfor\u001b[0m \u001b[0mclass_id\u001b[0m \u001b[0;32min\u001b[0m \u001b[0mrange\u001b[0m\u001b[0;34m(\u001b[0m\u001b[0mnum_classes\u001b[0m\u001b[0;34m)\u001b[0m\u001b[0;34m:\u001b[0m\u001b[0;34m\u001b[0m\u001b[0;34m\u001b[0m\u001b[0m\n\u001b[1;32m      7\u001b[0m     \u001b[0mclass_name\u001b[0m \u001b[0;34m=\u001b[0m \u001b[0mresults\u001b[0m\u001b[0;34m.\u001b[0m\u001b[0mnames\u001b[0m\u001b[0;34m[\u001b[0m\u001b[0mclass_id\u001b[0m\u001b[0;34m]\u001b[0m\u001b[0;34m\u001b[0m\u001b[0;34m\u001b[0m\u001b[0m\n\u001b[0;32m----> 8\u001b[0;31m     \u001b[0mclass_metrics\u001b[0m \u001b[0;34m=\u001b[0m \u001b[0mresults\u001b[0m\u001b[0;34m.\u001b[0m\u001b[0mbox\u001b[0m\u001b[0;34m.\u001b[0m\u001b[0mclass_result\u001b[0m\u001b[0;34m(\u001b[0m\u001b[0mclass_id\u001b[0m\u001b[0;34m)\u001b[0m  \u001b[0;31m# Получаем метрики для каждого класса\u001b[0m\u001b[0;34m\u001b[0m\u001b[0;34m\u001b[0m\u001b[0m\n\u001b[0m\u001b[1;32m      9\u001b[0m \u001b[0;34m\u001b[0m\u001b[0m\n\u001b[1;32m     10\u001b[0m     \u001b[0mprecision\u001b[0m \u001b[0;34m=\u001b[0m \u001b[0mclass_metrics\u001b[0m\u001b[0;34m[\u001b[0m\u001b[0;36m0\u001b[0m\u001b[0;34m]\u001b[0m\u001b[0;34m\u001b[0m\u001b[0;34m\u001b[0m\u001b[0m\n",
            "\u001b[0;32m/usr/local/lib/python3.10/dist-packages/ultralytics/utils/metrics.py\u001b[0m in \u001b[0;36mclass_result\u001b[0;34m(self, i)\u001b[0m\n\u001b[1;32m    732\u001b[0m     \u001b[0;32mdef\u001b[0m \u001b[0mclass_result\u001b[0m\u001b[0;34m(\u001b[0m\u001b[0mself\u001b[0m\u001b[0;34m,\u001b[0m \u001b[0mi\u001b[0m\u001b[0;34m)\u001b[0m\u001b[0;34m:\u001b[0m\u001b[0;34m\u001b[0m\u001b[0;34m\u001b[0m\u001b[0m\n\u001b[1;32m    733\u001b[0m         \u001b[0;34m\"\"\"Class-aware result, return p[i], r[i], ap50[i], ap[i].\"\"\"\u001b[0m\u001b[0;34m\u001b[0m\u001b[0;34m\u001b[0m\u001b[0m\n\u001b[0;32m--> 734\u001b[0;31m         \u001b[0;32mreturn\u001b[0m \u001b[0mself\u001b[0m\u001b[0;34m.\u001b[0m\u001b[0mp\u001b[0m\u001b[0;34m[\u001b[0m\u001b[0mi\u001b[0m\u001b[0;34m]\u001b[0m\u001b[0;34m,\u001b[0m \u001b[0mself\u001b[0m\u001b[0;34m.\u001b[0m\u001b[0mr\u001b[0m\u001b[0;34m[\u001b[0m\u001b[0mi\u001b[0m\u001b[0;34m]\u001b[0m\u001b[0;34m,\u001b[0m \u001b[0mself\u001b[0m\u001b[0;34m.\u001b[0m\u001b[0map50\u001b[0m\u001b[0;34m[\u001b[0m\u001b[0mi\u001b[0m\u001b[0;34m]\u001b[0m\u001b[0;34m,\u001b[0m \u001b[0mself\u001b[0m\u001b[0;34m.\u001b[0m\u001b[0map\u001b[0m\u001b[0;34m[\u001b[0m\u001b[0mi\u001b[0m\u001b[0;34m]\u001b[0m\u001b[0;34m\u001b[0m\u001b[0;34m\u001b[0m\u001b[0m\n\u001b[0m\u001b[1;32m    735\u001b[0m \u001b[0;34m\u001b[0m\u001b[0m\n\u001b[1;32m    736\u001b[0m     \u001b[0;34m@\u001b[0m\u001b[0mproperty\u001b[0m\u001b[0;34m\u001b[0m\u001b[0;34m\u001b[0m\u001b[0m\n",
            "\u001b[0;31mIndexError\u001b[0m: index 22 is out of bounds for axis 0 with size 22"
          ]
        }
      ],
      "source": [
        "model = YOLO('/content/drive/MyDrive/OIVIS_Lab_3/runs/yolov5s/weights/weights/best.pt')\n",
        "results = model.val(data='/content/OIVIS_Lab_3/data.yaml', imgsz=800)\n",
        "num_classes = len(results.names)  # Получаем количество классов из результатов\n",
        "\n",
        "print(\"Evaluation Results by Class:\")\n",
        "for class_id in range(num_classes):\n",
        "    class_name = results.names[class_id]\n",
        "    class_metrics = results.box.class_result(class_id)  # Получаем метрики для каждого класса\n",
        "\n",
        "    precision = class_metrics[0]\n",
        "    recall = class_metrics[1]\n",
        "    map50 = class_metrics[2]\n",
        "    map50_95 = class_metrics[3]\n",
        "\n",
        "    print(f\"Class {class_id} ({class_name}):\")\n",
        "    print(f\"  Precision: {precision:.4f}\")\n",
        "    print(f\"  Recall: {recall:.4f}\")\n",
        "    print(f\"  mAP50: {map50:.4f}\")\n",
        "    print(f\"  mAP50-95: {map50_95:.4f}\")\n",
        "    print()  # Пустая строка для отделения классов"
      ]
    }
  ],
  "metadata": {
    "accelerator": "GPU",
    "colab": {
      "gpuType": "T4",
      "provenance": []
    },
    "kernelspec": {
      "display_name": "Python 3",
      "name": "python3"
    },
    "language_info": {
      "name": "python"
    }
  },
  "nbformat": 4,
  "nbformat_minor": 0
}